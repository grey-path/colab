{
  "cells": [
    {
      "cell_type": "code",
      "execution_count": null,
      "metadata": {
        "id": "k1SYFJiI5bv8"
      },
      "outputs": [],
      "source": [
        "import pandas as pd\n",
        "import sqlite3"
      ]
    },
    {
      "cell_type": "code",
      "source": [
        "%config SqlMagic.style = '_DEPRECATED_DEFAULT'"
      ],
      "metadata": {
        "id": "Snrm6cwXzz5o"
      },
      "execution_count": null,
      "outputs": []
    },
    {
      "cell_type": "code",
      "execution_count": null,
      "metadata": {
        "id": "RaQK0n1S5bv9"
      },
      "outputs": [],
      "source": [
        "cnn = sqlite3.connect('SQL_Server_Trail.db')"
      ]
    },
    {
      "cell_type": "code",
      "execution_count": null,
      "metadata": {
        "id": "ZsHt4F4a5bv-"
      },
      "outputs": [],
      "source": [
        "%load_ext sql"
      ]
    },
    {
      "cell_type": "code",
      "execution_count": null,
      "metadata": {
        "id": "aBCBC7KD5bv-"
      },
      "outputs": [],
      "source": [
        "%sql sqlite:///SQL_Server_Trail.db"
      ]
    },
    {
      "cell_type": "code",
      "execution_count": null,
      "metadata": {
        "id": "LIK2TLJc5bv_",
        "outputId": "288cbf03-1ab2-47e6-ae66-d25bd4991753",
        "colab": {
          "base_uri": "https://localhost:8080/"
        }
      },
      "outputs": [
        {
          "output_type": "stream",
          "name": "stdout",
          "text": [
            " * sqlite:///SQL_Server_Trail.db\n",
            "Done.\n"
          ]
        },
        {
          "output_type": "execute_result",
          "data": {
            "text/plain": [
              "[]"
            ]
          },
          "metadata": {},
          "execution_count": 6
        }
      ],
      "source": [
        "%%sql\n",
        "CREATE TABLE tblDepartment3(\n",
        "    DepartmentID INT,\n",
        "    DepartmentName NVARCHAR (25),\n",
        "    DepartmentHead NVARCHAR (20),\n",
        "    PRIMARY KEY (DepartmentID)\n",
        ")"
      ]
    },
    {
      "cell_type": "code",
      "execution_count": null,
      "metadata": {
        "id": "Rx1GPpyC5bv_",
        "outputId": "a4158d79-5203-4a51-8d0a-7e9a34d92a98",
        "colab": {
          "base_uri": "https://localhost:8080/"
        }
      },
      "outputs": [
        {
          "output_type": "stream",
          "name": "stdout",
          "text": [
            " * sqlite:///SQL_Server_Trail.db\n",
            "4 rows affected.\n"
          ]
        },
        {
          "output_type": "execute_result",
          "data": {
            "text/plain": [
              "[]"
            ]
          },
          "metadata": {},
          "execution_count": 7
        }
      ],
      "source": [
        "%%sql\n",
        "INSERT INTO tblDepartment3 VALUES\n",
        "(1, 'IT', 'Shimi'),\n",
        "(2, 'HR', 'Roth'),\n",
        "(3, 'Payroll', 'Itai'),\n",
        "(4, 'Other Department', 'Simha')"
      ]
    },
    {
      "cell_type": "code",
      "execution_count": null,
      "metadata": {
        "id": "Jcseb1re5bwA",
        "outputId": "a331ec19-9432-4f69-ddc8-7e16871155b8",
        "colab": {
          "base_uri": "https://localhost:8080/"
        }
      },
      "outputs": [
        {
          "output_type": "stream",
          "name": "stdout",
          "text": [
            " * sqlite:///SQL_Server_Trail.db\n",
            "(sqlite3.OperationalError) no such table: tblDepartment\n",
            "[SQL: Select *\n",
            "from tblDepartment]\n",
            "(Background on this error at: https://sqlalche.me/e/20/e3q8)\n"
          ]
        }
      ],
      "source": [
        "%%sql\n",
        "Select *\n",
        "from tblDepartment"
      ]
    },
    {
      "cell_type": "code",
      "execution_count": null,
      "metadata": {
        "id": "RfKJ9Lx45bwA",
        "outputId": "1e757f15-028b-4960-b4fc-54eb66b96068",
        "colab": {
          "base_uri": "https://localhost:8080/"
        }
      },
      "outputs": [
        {
          "output_type": "stream",
          "name": "stdout",
          "text": [
            " * sqlite:///SQL_Server_Trail.db\n",
            "Done.\n"
          ]
        },
        {
          "output_type": "execute_result",
          "data": {
            "text/plain": [
              "[]"
            ]
          },
          "metadata": {},
          "execution_count": 9
        }
      ],
      "source": [
        "%%sql\n",
        "CREATE TABLE tblemployee\n",
        "(\n",
        "employeeID INT PRIMARY KEY,\n",
        "firstName VARCHAR (30),\n",
        "lastName VARCHAR (30),\n",
        "gender VARCHAR (10),\n",
        "Email VARCHAR (50),\n",
        "PhoneNumber VARCHAR (15),\n",
        "salary INT,\n",
        "city VARCHAR (20),\n",
        "HireDate DATE,\n",
        "DepartmentID INT,\n",
        "CONSTRAINT FK_DepartmentID FOREIGN KEY (DepartmentID) REFERENCES tblDepartment (DepartmentID)\n",
        ") ;"
      ]
    },
    {
      "cell_type": "code",
      "execution_count": null,
      "metadata": {
        "id": "CzJ653nb5bwB",
        "outputId": "dbad993c-36da-4174-c1ed-0ce00326bf13",
        "colab": {
          "base_uri": "https://localhost:8080/"
        }
      },
      "outputs": [
        {
          "output_type": "stream",
          "name": "stdout",
          "text": [
            " * sqlite:///SQL_Server_Trail.db\n",
            "10 rows affected.\n"
          ]
        },
        {
          "output_type": "execute_result",
          "data": {
            "text/plain": [
              "[]"
            ]
          },
          "metadata": {},
          "execution_count": 10
        }
      ],
      "source": [
        "%%sql\n",
        "INSERT INTO tblemployee VALUES\n",
        "(1,'Tomer', 'Itzhakov','Male', 'Tomerikoka@gmail.com', '0508554622', 11000, 'Jerusalem', '20011201',1),\n",
        "(2,'Shira', 'Nevo','Female', 'Shira@gmail.com', '0508515542', 8000, 'Jerusalem', '20020615',4),\n",
        "(3,'Ester', 'Hyut','Female', 'Ester@gmail.com', '0508575148', 10000, 'Jerusalem', '20120528',3),\n",
        "(4,'Robin', 'Choen','Male', 'Robin@gmail.com', '0528542523', 7000, 'Tel-Aviv', '20120224',2),\n",
        "(5,'Shlomi', 'Hai','Male', 'Shlomi@gmail.com', '0528456122', 10000, 'Tel-Aviv', '20081019',3),\n",
        "(6,'David', 'Kepler','Male', 'David@gmail.com', '0558847365', 11000, 'Tel-Aviv', '20160515',1),\n",
        "(7,'Dana', 'Tova','Female', 'Dana@gmail.com', '0556789322', 4000, 'Tel-Aviv', '20160202',2),\n",
        "(8,'Idan', 'Haviv','Male', 'Idan@gmail.com', '0508752256', 10000, 'Haifa', '20170522',3),\n",
        "(9,'Eti', 'Boblil','Female', 'Eti@gmail.com', '0505847665', 2000, 'Haifa', '20180614',4),\n",
        "(10,'Esti', 'Karlibah','Female', 'Esti@gmail.com', '0504859998', 1000, 'Haifa', '20140713',2)"
      ]
    },
    {
      "cell_type": "markdown",
      "metadata": {
        "id": "g_IlOtus5bwB"
      },
      "source": [
        " #### Распечатать всю таблицу tblemployee"
      ]
    },
    {
      "cell_type": "code",
      "execution_count": null,
      "metadata": {
        "id": "aCCSgns55bwG",
        "outputId": "da436d5d-3b1d-41b9-8b68-44436b0cde0a",
        "colab": {
          "base_uri": "https://localhost:8080/",
          "height": 289
        }
      },
      "outputs": [
        {
          "output_type": "stream",
          "name": "stdout",
          "text": [
            " * sqlite:///SQL_Server_Trail.db\n",
            "Done.\n"
          ]
        },
        {
          "output_type": "execute_result",
          "data": {
            "text/plain": [
              "[(1, 'Tomer', 'Itzhakov', 'Male', 'Tomerikoka@gmail.com', '0508554622', 11000, 'Jerusalem', 20011201, 1),\n",
              " (2, 'Shira', 'Nevo', 'Female', 'Shira@gmail.com', '0508515542', 8000, 'Jerusalem', 20020615, 4),\n",
              " (3, 'Ester', 'Hyut', 'Female', 'Ester@gmail.com', '0508575148', 10000, 'Jerusalem', 20120528, 3),\n",
              " (4, 'Robin', 'Choen', 'Male', 'Robin@gmail.com', '0528542523', 7000, 'Tel-Aviv', 20120224, 2),\n",
              " (5, 'Shlomi', 'Hai', 'Male', 'Shlomi@gmail.com', '0528456122', 10000, 'Tel-Aviv', 20081019, 3),\n",
              " (6, 'David', 'Kepler', 'Male', 'David@gmail.com', '0558847365', 11000, 'Tel-Aviv', 20160515, 1),\n",
              " (7, 'Dana', 'Tova', 'Female', 'Dana@gmail.com', '0556789322', 4000, 'Tel-Aviv', 20160202, 2),\n",
              " (8, 'Idan', 'Haviv', 'Male', 'Idan@gmail.com', '0508752256', 10000, 'Haifa', 20170522, 3),\n",
              " (9, 'Eti', 'Boblil', 'Female', 'Eti@gmail.com', '0505847665', 2000, 'Haifa', 20180614, 4),\n",
              " (10, 'Esti', 'Karlibah', 'Female', 'Esti@gmail.com', '0504859998', 1000, 'Haifa', 20140713, 2)]"
            ],
            "text/html": [
              "<table>\n",
              "    <thead>\n",
              "        <tr>\n",
              "            <th>employeeID</th>\n",
              "            <th>firstName</th>\n",
              "            <th>lastName</th>\n",
              "            <th>gender</th>\n",
              "            <th>Email</th>\n",
              "            <th>PhoneNumber</th>\n",
              "            <th>salary</th>\n",
              "            <th>city</th>\n",
              "            <th>HireDate</th>\n",
              "            <th>DepartmentID</th>\n",
              "        </tr>\n",
              "    </thead>\n",
              "    <tbody>\n",
              "        <tr>\n",
              "            <td>1</td>\n",
              "            <td>Tomer</td>\n",
              "            <td>Itzhakov</td>\n",
              "            <td>Male</td>\n",
              "            <td>Tomerikoka@gmail.com</td>\n",
              "            <td>0508554622</td>\n",
              "            <td>11000</td>\n",
              "            <td>Jerusalem</td>\n",
              "            <td>20011201</td>\n",
              "            <td>1</td>\n",
              "        </tr>\n",
              "        <tr>\n",
              "            <td>2</td>\n",
              "            <td>Shira</td>\n",
              "            <td>Nevo</td>\n",
              "            <td>Female</td>\n",
              "            <td>Shira@gmail.com</td>\n",
              "            <td>0508515542</td>\n",
              "            <td>8000</td>\n",
              "            <td>Jerusalem</td>\n",
              "            <td>20020615</td>\n",
              "            <td>4</td>\n",
              "        </tr>\n",
              "        <tr>\n",
              "            <td>3</td>\n",
              "            <td>Ester</td>\n",
              "            <td>Hyut</td>\n",
              "            <td>Female</td>\n",
              "            <td>Ester@gmail.com</td>\n",
              "            <td>0508575148</td>\n",
              "            <td>10000</td>\n",
              "            <td>Jerusalem</td>\n",
              "            <td>20120528</td>\n",
              "            <td>3</td>\n",
              "        </tr>\n",
              "        <tr>\n",
              "            <td>4</td>\n",
              "            <td>Robin</td>\n",
              "            <td>Choen</td>\n",
              "            <td>Male</td>\n",
              "            <td>Robin@gmail.com</td>\n",
              "            <td>0528542523</td>\n",
              "            <td>7000</td>\n",
              "            <td>Tel-Aviv</td>\n",
              "            <td>20120224</td>\n",
              "            <td>2</td>\n",
              "        </tr>\n",
              "        <tr>\n",
              "            <td>5</td>\n",
              "            <td>Shlomi</td>\n",
              "            <td>Hai</td>\n",
              "            <td>Male</td>\n",
              "            <td>Shlomi@gmail.com</td>\n",
              "            <td>0528456122</td>\n",
              "            <td>10000</td>\n",
              "            <td>Tel-Aviv</td>\n",
              "            <td>20081019</td>\n",
              "            <td>3</td>\n",
              "        </tr>\n",
              "        <tr>\n",
              "            <td>6</td>\n",
              "            <td>David</td>\n",
              "            <td>Kepler</td>\n",
              "            <td>Male</td>\n",
              "            <td>David@gmail.com</td>\n",
              "            <td>0558847365</td>\n",
              "            <td>11000</td>\n",
              "            <td>Tel-Aviv</td>\n",
              "            <td>20160515</td>\n",
              "            <td>1</td>\n",
              "        </tr>\n",
              "        <tr>\n",
              "            <td>7</td>\n",
              "            <td>Dana</td>\n",
              "            <td>Tova</td>\n",
              "            <td>Female</td>\n",
              "            <td>Dana@gmail.com</td>\n",
              "            <td>0556789322</td>\n",
              "            <td>4000</td>\n",
              "            <td>Tel-Aviv</td>\n",
              "            <td>20160202</td>\n",
              "            <td>2</td>\n",
              "        </tr>\n",
              "        <tr>\n",
              "            <td>8</td>\n",
              "            <td>Idan</td>\n",
              "            <td>Haviv</td>\n",
              "            <td>Male</td>\n",
              "            <td>Idan@gmail.com</td>\n",
              "            <td>0508752256</td>\n",
              "            <td>10000</td>\n",
              "            <td>Haifa</td>\n",
              "            <td>20170522</td>\n",
              "            <td>3</td>\n",
              "        </tr>\n",
              "        <tr>\n",
              "            <td>9</td>\n",
              "            <td>Eti</td>\n",
              "            <td>Boblil</td>\n",
              "            <td>Female</td>\n",
              "            <td>Eti@gmail.com</td>\n",
              "            <td>0505847665</td>\n",
              "            <td>2000</td>\n",
              "            <td>Haifa</td>\n",
              "            <td>20180614</td>\n",
              "            <td>4</td>\n",
              "        </tr>\n",
              "        <tr>\n",
              "            <td>10</td>\n",
              "            <td>Esti</td>\n",
              "            <td>Karlibah</td>\n",
              "            <td>Female</td>\n",
              "            <td>Esti@gmail.com</td>\n",
              "            <td>0504859998</td>\n",
              "            <td>1000</td>\n",
              "            <td>Haifa</td>\n",
              "            <td>20140713</td>\n",
              "            <td>2</td>\n",
              "        </tr>\n",
              "    </tbody>\n",
              "</table>"
            ]
          },
          "metadata": {},
          "execution_count": 11
        }
      ],
      "source": [
        "%%sql\n",
        "SELECT * FROM tblemployee"
      ]
    },
    {
      "cell_type": "code",
      "execution_count": null,
      "metadata": {
        "id": "6grLYxY35bwH",
        "outputId": "ae599ea7-09bc-4a0f-ad4b-e8ca28d54c66"
      },
      "outputs": [
        {
          "name": "stdout",
          "output_type": "stream",
          "text": [
            " * sqlite:///SQL_Server_Trail.db\n",
            "Done.\n"
          ]
        },
        {
          "data": {
            "text/html": [
              "<table>\n",
              "    <tr>\n",
              "        <th>DepartmentID</th>\n",
              "        <th>DepartmentName</th>\n",
              "        <th>DepartmentHead</th>\n",
              "    </tr>\n",
              "    <tr>\n",
              "        <td>1</td>\n",
              "        <td>IT</td>\n",
              "        <td>Shimi</td>\n",
              "    </tr>\n",
              "    <tr>\n",
              "        <td>2</td>\n",
              "        <td>HR</td>\n",
              "        <td>Roth</td>\n",
              "    </tr>\n",
              "    <tr>\n",
              "        <td>3</td>\n",
              "        <td>Payroll</td>\n",
              "        <td>Itai</td>\n",
              "    </tr>\n",
              "    <tr>\n",
              "        <td>4</td>\n",
              "        <td>Other Department</td>\n",
              "        <td>Simha</td>\n",
              "    </tr>\n",
              "</table>"
            ],
            "text/plain": [
              "[(1, 'IT', 'Shimi'),\n",
              " (2, 'HR', 'Roth'),\n",
              " (3, 'Payroll', 'Itai'),\n",
              " (4, 'Other Department', 'Simha')]"
            ]
          },
          "execution_count": 23,
          "metadata": {},
          "output_type": "execute_result"
        }
      ],
      "source": [
        "%%sql\n",
        "SELECT * FROM tblDepartment"
      ]
    },
    {
      "cell_type": "markdown",
      "metadata": {
        "id": "KuzT02Uk5bwH"
      },
      "source": [
        "#### Выбрать всех женщин  из tblemployee. Показывать только имя, пол и номер телефона"
      ]
    },
    {
      "cell_type": "code",
      "execution_count": null,
      "metadata": {
        "id": "yPwI_Lh85bwH",
        "outputId": "aaf231b1-9fc5-478d-af7a-4a01f0a27a0f"
      },
      "outputs": [
        {
          "name": "stdout",
          "output_type": "stream",
          "text": [
            " * sqlite:///SQL_Server_Trail.db\n",
            "   sqlite:///The_SQL_Server_Trail_Database.db\n",
            "   sqlite:///The_SQL_Server_Trail_Database2.db\n",
            "   sqlite:///The_SQL_Server_Trail_Database3.db\n",
            "Done.\n"
          ]
        },
        {
          "data": {
            "text/html": [
              "<table>\n",
              "    <tr>\n",
              "        <th>firstName</th>\n",
              "        <th>gender</th>\n",
              "        <th>PhoneNumber</th>\n",
              "    </tr>\n",
              "    <tr>\n",
              "        <td>Shira</td>\n",
              "        <td>Female</td>\n",
              "        <td>0508515542</td>\n",
              "    </tr>\n",
              "    <tr>\n",
              "        <td>Ester</td>\n",
              "        <td>Female</td>\n",
              "        <td>0508575148</td>\n",
              "    </tr>\n",
              "    <tr>\n",
              "        <td>Dana</td>\n",
              "        <td>Female</td>\n",
              "        <td>0556789322</td>\n",
              "    </tr>\n",
              "    <tr>\n",
              "        <td>Eti</td>\n",
              "        <td>Female</td>\n",
              "        <td>0505847665</td>\n",
              "    </tr>\n",
              "    <tr>\n",
              "        <td>Esti</td>\n",
              "        <td>Female</td>\n",
              "        <td>0504859998</td>\n",
              "    </tr>\n",
              "</table>"
            ],
            "text/plain": [
              "[('Shira', 'Female', '0508515542'),\n",
              " ('Ester', 'Female', '0508575148'),\n",
              " ('Dana', 'Female', '0556789322'),\n",
              " ('Eti', 'Female', '0505847665'),\n",
              " ('Esti', 'Female', '0504859998')]"
            ]
          },
          "execution_count": 46,
          "metadata": {},
          "output_type": "execute_result"
        }
      ],
      "source": [
        "%%sql\n",
        "SELECT firstName, gender, PhoneNumber FROM tblemployee\n",
        "WHERE gender = 'Female'"
      ]
    },
    {
      "cell_type": "markdown",
      "metadata": {
        "id": "IPhZi_XP5bwI"
      },
      "source": [
        "#### Выберите всех мужчин, которые живут в Иерусалиме и Хайфе."
      ]
    },
    {
      "cell_type": "markdown",
      "metadata": {
        "id": "UpAgSVHC5bwJ"
      },
      "source": [
        "in"
      ]
    },
    {
      "cell_type": "code",
      "execution_count": null,
      "metadata": {
        "id": "hcy___-S5bwJ",
        "outputId": "ff33cc8e-fd36-442a-a6a5-1a0dc2afd0ea"
      },
      "outputs": [
        {
          "name": "stdout",
          "output_type": "stream",
          "text": [
            " * sqlite:///The_SQL_Server_Trail_Database.db\n",
            "Done.\n"
          ]
        },
        {
          "data": {
            "text/html": [
              "<table>\n",
              "    <tr>\n",
              "        <th>employeeID</th>\n",
              "        <th>firstName</th>\n",
              "        <th>lastName</th>\n",
              "        <th>gender</th>\n",
              "        <th>Email</th>\n",
              "        <th>PhoneNumber</th>\n",
              "        <th>salary</th>\n",
              "        <th>city</th>\n",
              "        <th>HireDate</th>\n",
              "        <th>DepartmentID</th>\n",
              "    </tr>\n",
              "    <tr>\n",
              "        <td>1</td>\n",
              "        <td>Tomer</td>\n",
              "        <td>Itzhakov</td>\n",
              "        <td>Male</td>\n",
              "        <td>Tomerikoka@gmail.com</td>\n",
              "        <td>0508554622</td>\n",
              "        <td>11000</td>\n",
              "        <td>Jerusalem</td>\n",
              "        <td>20011201</td>\n",
              "        <td>1</td>\n",
              "    </tr>\n",
              "    <tr>\n",
              "        <td>8</td>\n",
              "        <td>Idan</td>\n",
              "        <td>Haviv</td>\n",
              "        <td>Male</td>\n",
              "        <td>Idan@gmail.com</td>\n",
              "        <td>0508752256</td>\n",
              "        <td>10000</td>\n",
              "        <td>Haifa</td>\n",
              "        <td>20170522</td>\n",
              "        <td>3</td>\n",
              "    </tr>\n",
              "</table>"
            ],
            "text/plain": [
              "[(1, 'Tomer', 'Itzhakov', 'Male', 'Tomerikoka@gmail.com', '0508554622', 11000, 'Jerusalem', 20011201, 1),\n",
              " (8, 'Idan', 'Haviv', 'Male', 'Idan@gmail.com', '0508752256', 10000, 'Haifa', 20170522, 3)]"
            ]
          },
          "execution_count": 20,
          "metadata": {},
          "output_type": "execute_result"
        }
      ],
      "source": [
        "%%sql\n",
        "SELECT * FROM tblemployee\n",
        "WHERE gender = 'Male' AND city IN ('Jerusalem', 'Haifa')"
      ]
    },
    {
      "cell_type": "markdown",
      "metadata": {
        "id": "EQTFuExn5bwJ"
      },
      "source": [
        "с помощью логических условий"
      ]
    },
    {
      "cell_type": "code",
      "execution_count": null,
      "metadata": {
        "id": "5iM3ZsRt5bwK",
        "outputId": "a9299b4f-3c61-470b-881c-dcd0814e93b5"
      },
      "outputs": [
        {
          "name": "stdout",
          "output_type": "stream",
          "text": [
            " * sqlite:///The_SQL_Server_Trail_Database.db\n",
            "Done.\n"
          ]
        },
        {
          "data": {
            "text/html": [
              "<table>\n",
              "    <tr>\n",
              "        <th>employeeID</th>\n",
              "        <th>firstName</th>\n",
              "        <th>lastName</th>\n",
              "        <th>gender</th>\n",
              "        <th>Email</th>\n",
              "        <th>PhoneNumber</th>\n",
              "        <th>salary</th>\n",
              "        <th>city</th>\n",
              "        <th>HireDate</th>\n",
              "        <th>DepartmentID</th>\n",
              "    </tr>\n",
              "    <tr>\n",
              "        <td>1</td>\n",
              "        <td>Tomer</td>\n",
              "        <td>Itzhakov</td>\n",
              "        <td>Male</td>\n",
              "        <td>Tomerikoka@gmail.com</td>\n",
              "        <td>0508554622</td>\n",
              "        <td>11000</td>\n",
              "        <td>Jerusalem</td>\n",
              "        <td>20011201</td>\n",
              "        <td>1</td>\n",
              "    </tr>\n",
              "    <tr>\n",
              "        <td>8</td>\n",
              "        <td>Idan</td>\n",
              "        <td>Haviv</td>\n",
              "        <td>Male</td>\n",
              "        <td>Idan@gmail.com</td>\n",
              "        <td>0508752256</td>\n",
              "        <td>10000</td>\n",
              "        <td>Haifa</td>\n",
              "        <td>20170522</td>\n",
              "        <td>3</td>\n",
              "    </tr>\n",
              "</table>"
            ],
            "text/plain": [
              "[(1, 'Tomer', 'Itzhakov', 'Male', 'Tomerikoka@gmail.com', '0508554622', 11000, 'Jerusalem', 20011201, 1),\n",
              " (8, 'Idan', 'Haviv', 'Male', 'Idan@gmail.com', '0508752256', 10000, 'Haifa', 20170522, 3)]"
            ]
          },
          "execution_count": 22,
          "metadata": {},
          "output_type": "execute_result"
        }
      ],
      "source": [
        "%%sql\n",
        "SELECT *\n",
        "FROM tblemployee\n",
        "WHERE gender=='Male' and (city=='Jerusalem' or city=='Haifa')"
      ]
    },
    {
      "cell_type": "markdown",
      "metadata": {
        "id": "KwU-ZHTm5bwK"
      },
      "source": [
        "#### Выбрать всех сотрудников с зарплатой 6000 или 11000"
      ]
    },
    {
      "cell_type": "markdown",
      "metadata": {
        "id": "mKNUA2Oa5bwK"
      },
      "source": [
        "or"
      ]
    },
    {
      "cell_type": "code",
      "execution_count": null,
      "metadata": {
        "id": "bmOMa-mg5bwK",
        "outputId": "539ece7b-be43-4aa2-bd92-77688c211bbc"
      },
      "outputs": [
        {
          "name": "stdout",
          "output_type": "stream",
          "text": [
            " * sqlite:///The_SQL_Server_Trail_Database.db\n",
            "Done.\n"
          ]
        },
        {
          "data": {
            "text/html": [
              "<table>\n",
              "    <tr>\n",
              "        <th>employeeID</th>\n",
              "        <th>firstName</th>\n",
              "        <th>lastName</th>\n",
              "        <th>gender</th>\n",
              "        <th>Email</th>\n",
              "        <th>PhoneNumber</th>\n",
              "        <th>salary</th>\n",
              "        <th>city</th>\n",
              "        <th>HireDate</th>\n",
              "        <th>DepartmentID</th>\n",
              "    </tr>\n",
              "    <tr>\n",
              "        <td>1</td>\n",
              "        <td>Tomer</td>\n",
              "        <td>Itzhakov</td>\n",
              "        <td>Male</td>\n",
              "        <td>Tomerikoka@gmail.com</td>\n",
              "        <td>0508554622</td>\n",
              "        <td>11000</td>\n",
              "        <td>Jerusalem</td>\n",
              "        <td>20011201</td>\n",
              "        <td>1</td>\n",
              "    </tr>\n",
              "    <tr>\n",
              "        <td>6</td>\n",
              "        <td>David</td>\n",
              "        <td>Kepler</td>\n",
              "        <td>Male</td>\n",
              "        <td>David@gmail.com</td>\n",
              "        <td>0558847365</td>\n",
              "        <td>11000</td>\n",
              "        <td>Tel-Aviv</td>\n",
              "        <td>20160515</td>\n",
              "        <td>1</td>\n",
              "    </tr>\n",
              "</table>"
            ],
            "text/plain": [
              "[(1, 'Tomer', 'Itzhakov', 'Male', 'Tomerikoka@gmail.com', '0508554622', 11000, 'Jerusalem', 20011201, 1),\n",
              " (6, 'David', 'Kepler', 'Male', 'David@gmail.com', '0558847365', 11000, 'Tel-Aviv', 20160515, 1)]"
            ]
          },
          "execution_count": 23,
          "metadata": {},
          "output_type": "execute_result"
        }
      ],
      "source": [
        "%%sql SELECT * FROM tblemployee\n",
        "WHERE salary = 6000 or salary = 11000"
      ]
    },
    {
      "cell_type": "markdown",
      "metadata": {
        "id": "KAKOBkNG5bwK"
      },
      "source": [
        "in"
      ]
    },
    {
      "cell_type": "code",
      "execution_count": null,
      "metadata": {
        "id": "uDGTlS1e5bwL",
        "outputId": "23209f5b-dc04-4073-ce76-36a598bf3276"
      },
      "outputs": [
        {
          "name": "stdout",
          "output_type": "stream",
          "text": [
            " * sqlite:///The_SQL_Server_Trail_Database.db\n",
            "Done.\n"
          ]
        },
        {
          "data": {
            "text/html": [
              "<table>\n",
              "    <tr>\n",
              "        <th>employeeID</th>\n",
              "        <th>firstName</th>\n",
              "        <th>lastName</th>\n",
              "        <th>gender</th>\n",
              "        <th>Email</th>\n",
              "        <th>PhoneNumber</th>\n",
              "        <th>salary</th>\n",
              "        <th>city</th>\n",
              "        <th>HireDate</th>\n",
              "        <th>DepartmentID</th>\n",
              "    </tr>\n",
              "    <tr>\n",
              "        <td>1</td>\n",
              "        <td>Tomer</td>\n",
              "        <td>Itzhakov</td>\n",
              "        <td>Male</td>\n",
              "        <td>Tomerikoka@gmail.com</td>\n",
              "        <td>0508554622</td>\n",
              "        <td>11000</td>\n",
              "        <td>Jerusalem</td>\n",
              "        <td>20011201</td>\n",
              "        <td>1</td>\n",
              "    </tr>\n",
              "    <tr>\n",
              "        <td>6</td>\n",
              "        <td>David</td>\n",
              "        <td>Kepler</td>\n",
              "        <td>Male</td>\n",
              "        <td>David@gmail.com</td>\n",
              "        <td>0558847365</td>\n",
              "        <td>11000</td>\n",
              "        <td>Tel-Aviv</td>\n",
              "        <td>20160515</td>\n",
              "        <td>1</td>\n",
              "    </tr>\n",
              "</table>"
            ],
            "text/plain": [
              "[(1, 'Tomer', 'Itzhakov', 'Male', 'Tomerikoka@gmail.com', '0508554622', 11000, 'Jerusalem', 20011201, 1),\n",
              " (6, 'David', 'Kepler', 'Male', 'David@gmail.com', '0558847365', 11000, 'Tel-Aviv', 20160515, 1)]"
            ]
          },
          "execution_count": 24,
          "metadata": {},
          "output_type": "execute_result"
        }
      ],
      "source": [
        "%%sql\n",
        "SELECT *\n",
        "FROM tblemployee\n",
        "WHERE salary IN (6000, 11000)"
      ]
    },
    {
      "cell_type": "markdown",
      "metadata": {
        "id": "-ybAKCWa5bwL"
      },
      "source": [
        "#### Выберите всех сотрудников, которые живут в Иерусалиме и Хайфе с зарплатой от 4000 до 10000"
      ]
    },
    {
      "cell_type": "code",
      "execution_count": null,
      "metadata": {
        "id": "5lKzc1gq5bwL",
        "outputId": "9cc3e5c1-0dca-43b9-9ca8-d3c3975a9d9a"
      },
      "outputs": [
        {
          "name": "stdout",
          "output_type": "stream",
          "text": [
            " * sqlite:///The_SQL_Server_Trail_Database.db\n",
            "Done.\n"
          ]
        },
        {
          "data": {
            "text/html": [
              "<table>\n",
              "    <tr>\n",
              "        <th>employeeID</th>\n",
              "        <th>firstName</th>\n",
              "        <th>lastName</th>\n",
              "        <th>gender</th>\n",
              "        <th>Email</th>\n",
              "        <th>PhoneNumber</th>\n",
              "        <th>salary</th>\n",
              "        <th>city</th>\n",
              "        <th>HireDate</th>\n",
              "        <th>DepartmentID</th>\n",
              "    </tr>\n",
              "    <tr>\n",
              "        <td>2</td>\n",
              "        <td>Shira</td>\n",
              "        <td>Nevo</td>\n",
              "        <td>Female</td>\n",
              "        <td>Shira@gmail.com</td>\n",
              "        <td>0508515542</td>\n",
              "        <td>8000</td>\n",
              "        <td>Jerusalem</td>\n",
              "        <td>20020615</td>\n",
              "        <td>4</td>\n",
              "    </tr>\n",
              "    <tr>\n",
              "        <td>3</td>\n",
              "        <td>Ester</td>\n",
              "        <td>Hyut</td>\n",
              "        <td>Female</td>\n",
              "        <td>Ester@gmail.com</td>\n",
              "        <td>0508575148</td>\n",
              "        <td>10000</td>\n",
              "        <td>Jerusalem</td>\n",
              "        <td>20120528</td>\n",
              "        <td>3</td>\n",
              "    </tr>\n",
              "    <tr>\n",
              "        <td>8</td>\n",
              "        <td>Idan</td>\n",
              "        <td>Haviv</td>\n",
              "        <td>Male</td>\n",
              "        <td>Idan@gmail.com</td>\n",
              "        <td>0508752256</td>\n",
              "        <td>10000</td>\n",
              "        <td>Haifa</td>\n",
              "        <td>20170522</td>\n",
              "        <td>3</td>\n",
              "    </tr>\n",
              "</table>"
            ],
            "text/plain": [
              "[(2, 'Shira', 'Nevo', 'Female', 'Shira@gmail.com', '0508515542', 8000, 'Jerusalem', 20020615, 4),\n",
              " (3, 'Ester', 'Hyut', 'Female', 'Ester@gmail.com', '0508575148', 10000, 'Jerusalem', 20120528, 3),\n",
              " (8, 'Idan', 'Haviv', 'Male', 'Idan@gmail.com', '0508752256', 10000, 'Haifa', 20170522, 3)]"
            ]
          },
          "execution_count": 34,
          "metadata": {},
          "output_type": "execute_result"
        }
      ],
      "source": [
        "%%sql SELECT * FROM tblemployee\n",
        "WHERE (salary >= 4000 and salary <= 10000) AND city IN ('Jerusalem', 'Haifa')"
      ]
    },
    {
      "cell_type": "code",
      "execution_count": null,
      "metadata": {
        "id": "dmrlew825bwL",
        "outputId": "b4cb3998-66e7-4c4b-e2e1-a7968120f9e8"
      },
      "outputs": [
        {
          "name": "stdout",
          "output_type": "stream",
          "text": [
            " * sqlite:///The_SQL_Server_Trail_Database.db\n",
            "Done.\n"
          ]
        },
        {
          "data": {
            "text/html": [
              "<table>\n",
              "    <tr>\n",
              "        <th>employeeID</th>\n",
              "        <th>firstName</th>\n",
              "        <th>lastName</th>\n",
              "        <th>gender</th>\n",
              "        <th>Email</th>\n",
              "        <th>PhoneNumber</th>\n",
              "        <th>salary</th>\n",
              "        <th>city</th>\n",
              "        <th>HireDate</th>\n",
              "        <th>DepartmentID</th>\n",
              "    </tr>\n",
              "    <tr>\n",
              "        <td>2</td>\n",
              "        <td>Shira</td>\n",
              "        <td>Nevo</td>\n",
              "        <td>Female</td>\n",
              "        <td>Shira@gmail.com</td>\n",
              "        <td>0508515542</td>\n",
              "        <td>8000</td>\n",
              "        <td>Jerusalem</td>\n",
              "        <td>20020615</td>\n",
              "        <td>4</td>\n",
              "    </tr>\n",
              "    <tr>\n",
              "        <td>3</td>\n",
              "        <td>Ester</td>\n",
              "        <td>Hyut</td>\n",
              "        <td>Female</td>\n",
              "        <td>Ester@gmail.com</td>\n",
              "        <td>0508575148</td>\n",
              "        <td>10000</td>\n",
              "        <td>Jerusalem</td>\n",
              "        <td>20120528</td>\n",
              "        <td>3</td>\n",
              "    </tr>\n",
              "    <tr>\n",
              "        <td>8</td>\n",
              "        <td>Idan</td>\n",
              "        <td>Haviv</td>\n",
              "        <td>Male</td>\n",
              "        <td>Idan@gmail.com</td>\n",
              "        <td>0508752256</td>\n",
              "        <td>10000</td>\n",
              "        <td>Haifa</td>\n",
              "        <td>20170522</td>\n",
              "        <td>3</td>\n",
              "    </tr>\n",
              "</table>"
            ],
            "text/plain": [
              "[(2, 'Shira', 'Nevo', 'Female', 'Shira@gmail.com', '0508515542', 8000, 'Jerusalem', 20020615, 4),\n",
              " (3, 'Ester', 'Hyut', 'Female', 'Ester@gmail.com', '0508575148', 10000, 'Jerusalem', 20120528, 3),\n",
              " (8, 'Idan', 'Haviv', 'Male', 'Idan@gmail.com', '0508752256', 10000, 'Haifa', 20170522, 3)]"
            ]
          },
          "execution_count": 26,
          "metadata": {},
          "output_type": "execute_result"
        }
      ],
      "source": [
        "%%sql SELECT * FROM tblemployee\n",
        "WHERE salary BETWEEN 4000 AND 10000\n",
        "AND city IN ('Jerusalem', 'Haifa')\n"
      ]
    },
    {
      "cell_type": "markdown",
      "metadata": {
        "id": "Vc5G7Wil5bwM"
      },
      "source": [
        "#### Выбрать всех сотрудников с номером телефона, начинающимся с 050"
      ]
    },
    {
      "cell_type": "code",
      "execution_count": null,
      "metadata": {
        "id": "0qu5oeR85bwM",
        "outputId": "02d4cbb4-ef2a-4dab-d2ec-36f509fc6f26"
      },
      "outputs": [
        {
          "name": "stdout",
          "output_type": "stream",
          "text": [
            " * sqlite:///The_SQL_Server_Trail_Database.db\n",
            "Done.\n"
          ]
        },
        {
          "data": {
            "text/html": [
              "<table>\n",
              "    <tr>\n",
              "        <th>employeeID</th>\n",
              "        <th>firstName</th>\n",
              "        <th>lastName</th>\n",
              "        <th>gender</th>\n",
              "        <th>Email</th>\n",
              "        <th>PhoneNumber</th>\n",
              "        <th>salary</th>\n",
              "        <th>city</th>\n",
              "        <th>HireDate</th>\n",
              "        <th>DepartmentID</th>\n",
              "    </tr>\n",
              "    <tr>\n",
              "        <td>1</td>\n",
              "        <td>Tomer</td>\n",
              "        <td>Itzhakov</td>\n",
              "        <td>Male</td>\n",
              "        <td>Tomerikoka@gmail.com</td>\n",
              "        <td>0508554622</td>\n",
              "        <td>11000</td>\n",
              "        <td>Jerusalem</td>\n",
              "        <td>20011201</td>\n",
              "        <td>1</td>\n",
              "    </tr>\n",
              "    <tr>\n",
              "        <td>2</td>\n",
              "        <td>Shira</td>\n",
              "        <td>Nevo</td>\n",
              "        <td>Female</td>\n",
              "        <td>Shira@gmail.com</td>\n",
              "        <td>0508515542</td>\n",
              "        <td>8000</td>\n",
              "        <td>Jerusalem</td>\n",
              "        <td>20020615</td>\n",
              "        <td>4</td>\n",
              "    </tr>\n",
              "    <tr>\n",
              "        <td>3</td>\n",
              "        <td>Ester</td>\n",
              "        <td>Hyut</td>\n",
              "        <td>Female</td>\n",
              "        <td>Ester@gmail.com</td>\n",
              "        <td>0508575148</td>\n",
              "        <td>10000</td>\n",
              "        <td>Jerusalem</td>\n",
              "        <td>20120528</td>\n",
              "        <td>3</td>\n",
              "    </tr>\n",
              "    <tr>\n",
              "        <td>8</td>\n",
              "        <td>Idan</td>\n",
              "        <td>Haviv</td>\n",
              "        <td>Male</td>\n",
              "        <td>Idan@gmail.com</td>\n",
              "        <td>0508752256</td>\n",
              "        <td>10000</td>\n",
              "        <td>Haifa</td>\n",
              "        <td>20170522</td>\n",
              "        <td>3</td>\n",
              "    </tr>\n",
              "    <tr>\n",
              "        <td>9</td>\n",
              "        <td>Eti</td>\n",
              "        <td>Boblil</td>\n",
              "        <td>Female</td>\n",
              "        <td>Eti@gmail.com</td>\n",
              "        <td>0505847665</td>\n",
              "        <td>2000</td>\n",
              "        <td>Haifa</td>\n",
              "        <td>20180614</td>\n",
              "        <td>4</td>\n",
              "    </tr>\n",
              "    <tr>\n",
              "        <td>10</td>\n",
              "        <td>Esti</td>\n",
              "        <td>Karlibah</td>\n",
              "        <td>Female</td>\n",
              "        <td>Esti@gmail.com</td>\n",
              "        <td>0504859998</td>\n",
              "        <td>1000</td>\n",
              "        <td>Haifa</td>\n",
              "        <td>20140713</td>\n",
              "        <td>2</td>\n",
              "    </tr>\n",
              "</table>"
            ],
            "text/plain": [
              "[(1, 'Tomer', 'Itzhakov', 'Male', 'Tomerikoka@gmail.com', '0508554622', 11000, 'Jerusalem', 20011201, 1),\n",
              " (2, 'Shira', 'Nevo', 'Female', 'Shira@gmail.com', '0508515542', 8000, 'Jerusalem', 20020615, 4),\n",
              " (3, 'Ester', 'Hyut', 'Female', 'Ester@gmail.com', '0508575148', 10000, 'Jerusalem', 20120528, 3),\n",
              " (8, 'Idan', 'Haviv', 'Male', 'Idan@gmail.com', '0508752256', 10000, 'Haifa', 20170522, 3),\n",
              " (9, 'Eti', 'Boblil', 'Female', 'Eti@gmail.com', '0505847665', 2000, 'Haifa', 20180614, 4),\n",
              " (10, 'Esti', 'Karlibah', 'Female', 'Esti@gmail.com', '0504859998', 1000, 'Haifa', 20140713, 2)]"
            ]
          },
          "execution_count": 35,
          "metadata": {},
          "output_type": "execute_result"
        }
      ],
      "source": [
        "%%sql SELECT * FROM tblemployee\n",
        "WHERE PhoneNumber like '050%'"
      ]
    },
    {
      "cell_type": "markdown",
      "metadata": {
        "id": "pgPwG89M5bwM"
      },
      "source": [
        "#### Выбрать всех сотрудников с номером телефона, не начинающимся с 050"
      ]
    },
    {
      "cell_type": "code",
      "execution_count": null,
      "metadata": {
        "id": "Flk8Y4Zg5bwN",
        "outputId": "fbdd29ca-c378-48d7-b9e3-827253443401"
      },
      "outputs": [
        {
          "name": "stdout",
          "output_type": "stream",
          "text": [
            " * sqlite:///The_SQL_Server_Trail_Database.db\n",
            "Done.\n"
          ]
        },
        {
          "data": {
            "text/html": [
              "<table>\n",
              "    <tr>\n",
              "        <th>employeeID</th>\n",
              "        <th>firstName</th>\n",
              "        <th>lastName</th>\n",
              "        <th>gender</th>\n",
              "        <th>Email</th>\n",
              "        <th>PhoneNumber</th>\n",
              "        <th>salary</th>\n",
              "        <th>city</th>\n",
              "        <th>HireDate</th>\n",
              "        <th>DepartmentID</th>\n",
              "    </tr>\n",
              "    <tr>\n",
              "        <td>4</td>\n",
              "        <td>Robin</td>\n",
              "        <td>Choen</td>\n",
              "        <td>Male</td>\n",
              "        <td>Robin@gmail.com</td>\n",
              "        <td>0528542523</td>\n",
              "        <td>7000</td>\n",
              "        <td>Tel-Aviv</td>\n",
              "        <td>20120224</td>\n",
              "        <td>2</td>\n",
              "    </tr>\n",
              "    <tr>\n",
              "        <td>5</td>\n",
              "        <td>Shlomi</td>\n",
              "        <td>Hai</td>\n",
              "        <td>Male</td>\n",
              "        <td>Shlomi@gmail.com</td>\n",
              "        <td>0528456122</td>\n",
              "        <td>10000</td>\n",
              "        <td>Tel-Aviv</td>\n",
              "        <td>20081019</td>\n",
              "        <td>3</td>\n",
              "    </tr>\n",
              "    <tr>\n",
              "        <td>6</td>\n",
              "        <td>David</td>\n",
              "        <td>Kepler</td>\n",
              "        <td>Male</td>\n",
              "        <td>David@gmail.com</td>\n",
              "        <td>0558847365</td>\n",
              "        <td>11000</td>\n",
              "        <td>Tel-Aviv</td>\n",
              "        <td>20160515</td>\n",
              "        <td>1</td>\n",
              "    </tr>\n",
              "    <tr>\n",
              "        <td>7</td>\n",
              "        <td>Dana</td>\n",
              "        <td>Tova</td>\n",
              "        <td>Female</td>\n",
              "        <td>Dana@gmail.com</td>\n",
              "        <td>0556789322</td>\n",
              "        <td>4000</td>\n",
              "        <td>Tel-Aviv</td>\n",
              "        <td>20160202</td>\n",
              "        <td>2</td>\n",
              "    </tr>\n",
              "</table>"
            ],
            "text/plain": [
              "[(4, 'Robin', 'Choen', 'Male', 'Robin@gmail.com', '0528542523', 7000, 'Tel-Aviv', 20120224, 2),\n",
              " (5, 'Shlomi', 'Hai', 'Male', 'Shlomi@gmail.com', '0528456122', 10000, 'Tel-Aviv', 20081019, 3),\n",
              " (6, 'David', 'Kepler', 'Male', 'David@gmail.com', '0558847365', 11000, 'Tel-Aviv', 20160515, 1),\n",
              " (7, 'Dana', 'Tova', 'Female', 'Dana@gmail.com', '0556789322', 4000, 'Tel-Aviv', 20160202, 2)]"
            ]
          },
          "execution_count": 36,
          "metadata": {},
          "output_type": "execute_result"
        }
      ],
      "source": [
        "%%sql SELECT * FROM tblemployee\n",
        "WHERE PhoneNumber NOT like '050%'"
      ]
    },
    {
      "cell_type": "markdown",
      "metadata": {
        "id": "HfKMIsQo5bwO"
      },
      "source": [
        "#### Выберите 5 строк со столбцами имени, зарплаты и города в порядке зарплаты (от максимальной зарплаты до минимальной зарплаты)"
      ]
    },
    {
      "cell_type": "code",
      "execution_count": null,
      "metadata": {
        "id": "JYXR7--N5bwO",
        "outputId": "32af231e-5d40-4818-f709-0769f1eb57d3"
      },
      "outputs": [
        {
          "name": "stdout",
          "output_type": "stream",
          "text": [
            " * sqlite:///The_SQL_Server_Trail_Database.db\n",
            "Done.\n"
          ]
        },
        {
          "data": {
            "text/html": [
              "<table>\n",
              "    <tr>\n",
              "        <th>firstName</th>\n",
              "        <th>salary</th>\n",
              "        <th>city</th>\n",
              "    </tr>\n",
              "    <tr>\n",
              "        <td>Tomer</td>\n",
              "        <td>11000</td>\n",
              "        <td>Jerusalem</td>\n",
              "    </tr>\n",
              "    <tr>\n",
              "        <td>David</td>\n",
              "        <td>11000</td>\n",
              "        <td>Tel-Aviv</td>\n",
              "    </tr>\n",
              "    <tr>\n",
              "        <td>Ester</td>\n",
              "        <td>10000</td>\n",
              "        <td>Jerusalem</td>\n",
              "    </tr>\n",
              "    <tr>\n",
              "        <td>Shlomi</td>\n",
              "        <td>10000</td>\n",
              "        <td>Tel-Aviv</td>\n",
              "    </tr>\n",
              "    <tr>\n",
              "        <td>Idan</td>\n",
              "        <td>10000</td>\n",
              "        <td>Haifa</td>\n",
              "    </tr>\n",
              "</table>"
            ],
            "text/plain": [
              "[('Tomer', 11000, 'Jerusalem'),\n",
              " ('David', 11000, 'Tel-Aviv'),\n",
              " ('Ester', 10000, 'Jerusalem'),\n",
              " ('Shlomi', 10000, 'Tel-Aviv'),\n",
              " ('Idan', 10000, 'Haifa')]"
            ]
          },
          "execution_count": 37,
          "metadata": {},
          "output_type": "execute_result"
        }
      ],
      "source": [
        "%%sql\n",
        "SELECT firstName, salary, city FROM tblemployee\n",
        "ORDER BY salary DESC\n",
        "LIMIT 5"
      ]
    },
    {
      "cell_type": "markdown",
      "metadata": {
        "id": "M00-wLvp5bwP"
      },
      "source": [
        "###  Группировка по вопросам - используйте таблицу tblemployee\n"
      ]
    },
    {
      "cell_type": "markdown",
      "metadata": {
        "id": "Dy6FJsol5bwP"
      },
      "source": [
        "#### Показать среднюю зарплату по полу"
      ]
    },
    {
      "cell_type": "code",
      "execution_count": null,
      "metadata": {
        "id": "uAtkG7pT5bwQ",
        "outputId": "fea5a6a9-bca1-48ba-9083-f7a0f3f56201",
        "colab": {
          "base_uri": "https://localhost:8080/",
          "height": 118
        }
      },
      "outputs": [
        {
          "output_type": "stream",
          "name": "stdout",
          "text": [
            " * sqlite:///SQL_Server_Trail.db\n",
            "Done.\n"
          ]
        },
        {
          "output_type": "execute_result",
          "data": {
            "text/plain": [
              "[('Female', 5000.0), ('Male', 9800.0)]"
            ],
            "text/html": [
              "<table>\n",
              "    <thead>\n",
              "        <tr>\n",
              "            <th>gender</th>\n",
              "            <th>&#x27;Средняя зарплата&#x27;</th>\n",
              "        </tr>\n",
              "    </thead>\n",
              "    <tbody>\n",
              "        <tr>\n",
              "            <td>Female</td>\n",
              "            <td>5000.0</td>\n",
              "        </tr>\n",
              "        <tr>\n",
              "            <td>Male</td>\n",
              "            <td>9800.0</td>\n",
              "        </tr>\n",
              "    </tbody>\n",
              "</table>"
            ]
          },
          "metadata": {},
          "execution_count": 12
        }
      ],
      "source": [
        "%%sql SELECT gender, AVG(salary) AS ['Средняя зарплата'] FROM tblemployee\n",
        "GROUP BY gender"
      ]
    },
    {
      "cell_type": "code",
      "execution_count": null,
      "metadata": {
        "id": "m0hlupB_5bwR",
        "outputId": "5bac8f20-45ed-4910-f8e8-5780d6a05fca"
      },
      "outputs": [
        {
          "name": "stdout",
          "output_type": "stream",
          "text": [
            " * sqlite:///The_SQL_Server_Trail_Database.db\n",
            "Done.\n"
          ]
        },
        {
          "data": {
            "text/html": [
              "<table>\n",
              "    <tr>\n",
              "        <th>Пол</th>\n",
              "        <th>Средняя зарплата</th>\n",
              "    </tr>\n",
              "    <tr>\n",
              "        <td>Female</td>\n",
              "        <td>5000.0</td>\n",
              "    </tr>\n",
              "    <tr>\n",
              "        <td>Male</td>\n",
              "        <td>9800.0</td>\n",
              "    </tr>\n",
              "</table>"
            ],
            "text/plain": [
              "[('Female', 5000.0), ('Male', 9800.0)]"
            ]
          },
          "execution_count": 41,
          "metadata": {},
          "output_type": "execute_result"
        }
      ],
      "source": [
        "%%sql\n",
        "SELECT gender as 'Пол', AVG (salary) as 'Средняя зарплата' FROM tblemployee\n",
        "GROUP By gender"
      ]
    },
    {
      "cell_type": "code",
      "execution_count": null,
      "metadata": {
        "id": "a2ftE69e5bwS",
        "outputId": "850c7305-d556-4bdf-f015-43e0ddfef8c8"
      },
      "outputs": [
        {
          "name": "stdout",
          "output_type": "stream",
          "text": [
            " * sqlite:///The_SQL_Server_Trail_Database.db\n",
            "Done.\n"
          ]
        },
        {
          "data": {
            "text/html": [
              "<table>\n",
              "    <tr>\n",
              "        <th>gender</th>\n",
              "        <th>AVG(salary)</th>\n",
              "    </tr>\n",
              "    <tr>\n",
              "        <td>Female</td>\n",
              "        <td>5000.0</td>\n",
              "    </tr>\n",
              "    <tr>\n",
              "        <td>Male</td>\n",
              "        <td>9800.0</td>\n",
              "    </tr>\n",
              "</table>"
            ],
            "text/plain": [
              "[('Female', 5000.0), ('Male', 9800.0)]"
            ]
          },
          "execution_count": 44,
          "metadata": {},
          "output_type": "execute_result"
        }
      ],
      "source": [
        "%%sql SELECT gender,AVG(salary)\n",
        "FROM tblemployee\n",
        "GROUP BY gender"
      ]
    },
    {
      "cell_type": "markdown",
      "metadata": {
        "id": "LNRXsIb65bwT"
      },
      "source": [
        "#### Показать среднюю зарплату по городам в порядке средней зарплаты от макс до мин\n"
      ]
    },
    {
      "cell_type": "code",
      "execution_count": null,
      "metadata": {
        "id": "_fXtk7np5bwi",
        "outputId": "7e8772d4-cb44-4dbc-dc7a-e1b8af052550"
      },
      "outputs": [
        {
          "name": "stdout",
          "output_type": "stream",
          "text": [
            " * sqlite:///The_SQL_Server_Trail_Database.db\n",
            "Done.\n"
          ]
        },
        {
          "data": {
            "text/html": [
              "<table>\n",
              "    <tr>\n",
              "        <th>Города</th>\n",
              "        <th>Средняя зарплата</th>\n",
              "    </tr>\n",
              "    <tr>\n",
              "        <td>Jerusalem</td>\n",
              "        <td>9666.67</td>\n",
              "    </tr>\n",
              "    <tr>\n",
              "        <td>Tel-Aviv</td>\n",
              "        <td>8000.0</td>\n",
              "    </tr>\n",
              "    <tr>\n",
              "        <td>Haifa</td>\n",
              "        <td>4333.33</td>\n",
              "    </tr>\n",
              "</table>"
            ],
            "text/plain": [
              "[('Jerusalem', 9666.67), ('Tel-Aviv', 8000.0), ('Haifa', 4333.33)]"
            ]
          },
          "execution_count": 47,
          "metadata": {},
          "output_type": "execute_result"
        }
      ],
      "source": [
        "%%sql\n",
        "SELECT city as 'Города', ROUND (AVG(salary),2) as 'Средняя зарплата'\n",
        "FROM tblemployee\n",
        "GROUP BY city ORDER BY AVG(salary) DESC"
      ]
    },
    {
      "cell_type": "markdown",
      "metadata": {
        "id": "q0u2kgQ15bwj"
      },
      "source": [
        "#### Показать максимальную и минимальную зарплату по полу"
      ]
    },
    {
      "cell_type": "code",
      "execution_count": null,
      "metadata": {
        "id": "HJS5pi8f5bwj",
        "outputId": "3bdcb154-f798-4674-b3b5-b25f12ca4083"
      },
      "outputs": [
        {
          "name": "stdout",
          "output_type": "stream",
          "text": [
            " * sqlite:///The_SQL_Server_Trail_Database.db\n",
            "Done.\n"
          ]
        },
        {
          "data": {
            "text/html": [
              "<table>\n",
              "    <tr>\n",
              "        <th>gender</th>\n",
              "        <th>Максимальная зарплата</th>\n",
              "        <th>min(salary)</th>\n",
              "    </tr>\n",
              "    <tr>\n",
              "        <td>Female</td>\n",
              "        <td>10000</td>\n",
              "        <td>1000</td>\n",
              "    </tr>\n",
              "    <tr>\n",
              "        <td>Male</td>\n",
              "        <td>11000</td>\n",
              "        <td>7000</td>\n",
              "    </tr>\n",
              "</table>"
            ],
            "text/plain": [
              "[('Female', 10000, 1000), ('Male', 11000, 7000)]"
            ]
          },
          "execution_count": 50,
          "metadata": {},
          "output_type": "execute_result"
        }
      ],
      "source": [
        "%%sql\n",
        "SELECT gender, max(salary) [Максимальная зарплата], min(salary)\n",
        "from tblemployee\n",
        "group by gender"
      ]
    },
    {
      "cell_type": "markdown",
      "metadata": {
        "id": "DKB9yB6O5bwk"
      },
      "source": [
        "#### Показать максимальную и минимальную зарплату по полу и городу"
      ]
    },
    {
      "cell_type": "code",
      "execution_count": null,
      "metadata": {
        "id": "KT5RrSZD5bwk",
        "outputId": "fd2f463d-9143-4e95-e4d9-0200f9e0807e"
      },
      "outputs": [
        {
          "name": "stdout",
          "output_type": "stream",
          "text": [
            " * sqlite:///The_SQL_Server_Trail_Database.db\n",
            "Done.\n"
          ]
        },
        {
          "data": {
            "text/html": [
              "<table>\n",
              "    <tr>\n",
              "        <th>city</th>\n",
              "        <th>gender</th>\n",
              "        <th>Маким</th>\n",
              "        <th>Min Salary</th>\n",
              "    </tr>\n",
              "    <tr>\n",
              "        <td>Haifa</td>\n",
              "        <td>Female</td>\n",
              "        <td>2000</td>\n",
              "        <td>1000</td>\n",
              "    </tr>\n",
              "    <tr>\n",
              "        <td>Jerusalem</td>\n",
              "        <td>Female</td>\n",
              "        <td>10000</td>\n",
              "        <td>8000</td>\n",
              "    </tr>\n",
              "    <tr>\n",
              "        <td>Tel-Aviv</td>\n",
              "        <td>Female</td>\n",
              "        <td>4000</td>\n",
              "        <td>4000</td>\n",
              "    </tr>\n",
              "    <tr>\n",
              "        <td>Haifa</td>\n",
              "        <td>Male</td>\n",
              "        <td>10000</td>\n",
              "        <td>10000</td>\n",
              "    </tr>\n",
              "    <tr>\n",
              "        <td>Jerusalem</td>\n",
              "        <td>Male</td>\n",
              "        <td>11000</td>\n",
              "        <td>11000</td>\n",
              "    </tr>\n",
              "    <tr>\n",
              "        <td>Tel-Aviv</td>\n",
              "        <td>Male</td>\n",
              "        <td>11000</td>\n",
              "        <td>7000</td>\n",
              "    </tr>\n",
              "</table>"
            ],
            "text/plain": [
              "[('Haifa', 'Female', 2000, 1000),\n",
              " ('Jerusalem', 'Female', 10000, 8000),\n",
              " ('Tel-Aviv', 'Female', 4000, 4000),\n",
              " ('Haifa', 'Male', 10000, 10000),\n",
              " ('Jerusalem', 'Male', 11000, 11000),\n",
              " ('Tel-Aviv', 'Male', 11000, 7000)]"
            ]
          },
          "execution_count": 52,
          "metadata": {},
          "output_type": "execute_result"
        }
      ],
      "source": [
        "%%sql\n",
        "SELECT city, gender, MAX(salary) [Маким], MIN(salary) [Min Salary]\n",
        "FROM tblemployee\n",
        "GROUP BY gender, city"
      ]
    },
    {
      "cell_type": "markdown",
      "metadata": {
        "id": "AGYrdWkL5bwk"
      },
      "source": [
        "####  Показать сумарная зарплата по полу и городу"
      ]
    },
    {
      "cell_type": "code",
      "execution_count": null,
      "metadata": {
        "id": "pN4swyNe5bwk",
        "outputId": "ca754ef2-b9e3-4fd3-be60-a63225d8651f"
      },
      "outputs": [
        {
          "name": "stdout",
          "output_type": "stream",
          "text": [
            " * sqlite:///The_SQL_Server_Trail_Database.db\n",
            "Done.\n"
          ]
        },
        {
          "data": {
            "text/html": [
              "<table>\n",
              "    <tr>\n",
              "        <th>city</th>\n",
              "        <th>gender</th>\n",
              "        <th>Total Salary</th>\n",
              "    </tr>\n",
              "    <tr>\n",
              "        <td>Haifa</td>\n",
              "        <td>Female</td>\n",
              "        <td>3000</td>\n",
              "    </tr>\n",
              "    <tr>\n",
              "        <td>Jerusalem</td>\n",
              "        <td>Female</td>\n",
              "        <td>18000</td>\n",
              "    </tr>\n",
              "    <tr>\n",
              "        <td>Tel-Aviv</td>\n",
              "        <td>Female</td>\n",
              "        <td>4000</td>\n",
              "    </tr>\n",
              "    <tr>\n",
              "        <td>Haifa</td>\n",
              "        <td>Male</td>\n",
              "        <td>10000</td>\n",
              "    </tr>\n",
              "    <tr>\n",
              "        <td>Jerusalem</td>\n",
              "        <td>Male</td>\n",
              "        <td>11000</td>\n",
              "    </tr>\n",
              "    <tr>\n",
              "        <td>Tel-Aviv</td>\n",
              "        <td>Male</td>\n",
              "        <td>28000</td>\n",
              "    </tr>\n",
              "</table>"
            ],
            "text/plain": [
              "[('Haifa', 'Female', 3000),\n",
              " ('Jerusalem', 'Female', 18000),\n",
              " ('Tel-Aviv', 'Female', 4000),\n",
              " ('Haifa', 'Male', 10000),\n",
              " ('Jerusalem', 'Male', 11000),\n",
              " ('Tel-Aviv', 'Male', 28000)]"
            ]
          },
          "execution_count": 57,
          "metadata": {},
          "output_type": "execute_result"
        }
      ],
      "source": [
        "%%sql\n",
        "SELECT city, gender, SUM(salary) [Total Salary]\n",
        "FROM tblemployee\n",
        "GROUP BY gender, city"
      ]
    },
    {
      "cell_type": "markdown",
      "metadata": {
        "id": "jGYEwpPa5bwl"
      },
      "source": [
        "#### Подсчитайте общее количество сотрудников-женщин"
      ]
    },
    {
      "cell_type": "code",
      "execution_count": null,
      "metadata": {
        "id": "_6ys9FTJ5bwl",
        "outputId": "f1db25af-2b89-4cf6-bd00-abe0a4d670a7"
      },
      "outputs": [
        {
          "name": "stdout",
          "output_type": "stream",
          "text": [
            " * sqlite:///The_SQL_Server_Trail_Database.db\n",
            "Done.\n"
          ]
        },
        {
          "data": {
            "text/html": [
              "<table>\n",
              "    <tr>\n",
              "        <th>gender</th>\n",
              "        <th>сотрудники</th>\n",
              "    </tr>\n",
              "    <tr>\n",
              "        <td>Female</td>\n",
              "        <td>5</td>\n",
              "    </tr>\n",
              "</table>"
            ],
            "text/plain": [
              "[('Female', 5)]"
            ]
          },
          "execution_count": 58,
          "metadata": {},
          "output_type": "execute_result"
        }
      ],
      "source": [
        "%%sql\n",
        "SELECT gender, count(employeeID) as сотрудники\n",
        "from tblemployee\n",
        "where gender = 'Female'\n",
        "group by gender"
      ]
    },
    {
      "cell_type": "code",
      "execution_count": null,
      "metadata": {
        "id": "BPPdhP8Z5bwl",
        "outputId": "d1a5a1e0-8a54-4923-8074-0b1c37ad927d"
      },
      "outputs": [
        {
          "name": "stdout",
          "output_type": "stream",
          "text": [
            " * sqlite:///The_SQL_Server_Trail_Database.db\n",
            "Done.\n"
          ]
        },
        {
          "data": {
            "text/html": [
              "<table>\n",
              "    <tr>\n",
              "        <th>gender</th>\n",
              "        <th>EmployeeCount</th>\n",
              "    </tr>\n",
              "    <tr>\n",
              "        <td>Female</td>\n",
              "        <td>5</td>\n",
              "    </tr>\n",
              "</table>"
            ],
            "text/plain": [
              "[('Female', 5)]"
            ]
          },
          "execution_count": 59,
          "metadata": {},
          "output_type": "execute_result"
        }
      ],
      "source": [
        "%%sql SELECT gender, COUNT (*) AS EmployeeCount\n",
        "FROM   tblemployee\n",
        "GROUP BY gender\n",
        "HAVING gender = 'Female'\n"
      ]
    },
    {
      "cell_type": "markdown",
      "metadata": {
        "id": "hlM_PyAr5bwl"
      },
      "source": [
        "####  Подсчитайте общее количество сотрудников в Тель-Авиве"
      ]
    },
    {
      "cell_type": "code",
      "execution_count": null,
      "metadata": {
        "id": "9TZDFLP55bwl",
        "outputId": "3e733d65-b727-4c19-a914-957333a08390"
      },
      "outputs": [
        {
          "name": "stdout",
          "output_type": "stream",
          "text": [
            " * sqlite:///The_SQL_Server_Trail_Database.db\n",
            "Done.\n"
          ]
        },
        {
          "data": {
            "text/html": [
              "<table>\n",
              "    <tr>\n",
              "        <th>city</th>\n",
              "        <th>EmployeeCount</th>\n",
              "    </tr>\n",
              "    <tr>\n",
              "        <td>Tel-Aviv</td>\n",
              "        <td>4</td>\n",
              "    </tr>\n",
              "</table>"
            ],
            "text/plain": [
              "[('Tel-Aviv', 4)]"
            ]
          },
          "execution_count": 60,
          "metadata": {},
          "output_type": "execute_result"
        }
      ],
      "source": [
        "%%sql\n",
        "SELECT city, COUNT(*) EmployeeCount\n",
        "FROM   tblemployee\n",
        "GROUP BY city\n",
        "HAVING city = 'Tel-Aviv'"
      ]
    },
    {
      "cell_type": "code",
      "execution_count": null,
      "metadata": {
        "id": "tl2nhWJL5bwl",
        "outputId": "aa6e0188-c072-4b1c-fef6-deabdfd64340"
      },
      "outputs": [
        {
          "name": "stdout",
          "output_type": "stream",
          "text": [
            " * sqlite:///The_SQL_Server_Trail_Database.db\n",
            "Done.\n"
          ]
        },
        {
          "data": {
            "text/html": [
              "<table>\n",
              "    <tr>\n",
              "        <th>city</th>\n",
              "        <th>сотрудники</th>\n",
              "    </tr>\n",
              "    <tr>\n",
              "        <td>Tel-Aviv</td>\n",
              "        <td>4</td>\n",
              "    </tr>\n",
              "</table>"
            ],
            "text/plain": [
              "[('Tel-Aviv', 4)]"
            ]
          },
          "execution_count": 61,
          "metadata": {},
          "output_type": "execute_result"
        }
      ],
      "source": [
        "%%sql\n",
        "SELECT city, count(employeeID) as сотрудники\n",
        "from tblemployee\n",
        "where city = 'Tel-Aviv'\n",
        "group by city"
      ]
    },
    {
      "cell_type": "markdown",
      "metadata": {
        "id": "iBCuFecH5bwm"
      },
      "source": [
        "#### Показать сумарную зарплату по городам только для городов с общей зарплатой выше 20000 и отсортировать их от макс до мин."
      ]
    },
    {
      "cell_type": "code",
      "execution_count": null,
      "metadata": {
        "id": "VOjfYKgk5bwn",
        "outputId": "c1fb83c7-d0ba-400d-dd59-d9bf956b4e34"
      },
      "outputs": [
        {
          "name": "stdout",
          "output_type": "stream",
          "text": [
            " * sqlite:///The_SQL_Server_Trail_Database.db\n",
            "Done.\n"
          ]
        },
        {
          "data": {
            "text/html": [
              "<table>\n",
              "    <tr>\n",
              "        <th>city</th>\n",
              "        <th>Total Salary</th>\n",
              "    </tr>\n",
              "    <tr>\n",
              "        <td>Tel-Aviv</td>\n",
              "        <td>32000</td>\n",
              "    </tr>\n",
              "    <tr>\n",
              "        <td>Jerusalem</td>\n",
              "        <td>29000</td>\n",
              "    </tr>\n",
              "</table>"
            ],
            "text/plain": [
              "[('Tel-Aviv', 32000), ('Jerusalem', 29000)]"
            ]
          },
          "execution_count": 62,
          "metadata": {},
          "output_type": "execute_result"
        }
      ],
      "source": [
        "%%sql\n",
        "SELECT city, SUM(salary) [Total Salary]\n",
        "FROM tblemployee\n",
        "GROUP BY city\n",
        "HAVING SUM(salary) > 20000\n",
        "ORDER BY [Total Salary]\tDESC;"
      ]
    },
    {
      "cell_type": "markdown",
      "metadata": {
        "id": "AB143AiS5bwn"
      },
      "source": [
        "#### Показать сумарную зарплату только для мужчин, проживающих в Иерусалиме и Тель-Авиве."
      ]
    },
    {
      "cell_type": "code",
      "execution_count": null,
      "metadata": {
        "id": "sXvWtJV75bwn",
        "outputId": "e6aef837-eee8-485d-ea00-45dea3698471"
      },
      "outputs": [
        {
          "name": "stdout",
          "output_type": "stream",
          "text": [
            " * sqlite:///The_SQL_Server_Trail_Database.db\n",
            "Done.\n"
          ]
        },
        {
          "data": {
            "text/html": [
              "<table>\n",
              "    <tr>\n",
              "        <th>gender</th>\n",
              "        <th>city</th>\n",
              "        <th>Общая зп</th>\n",
              "    </tr>\n",
              "    <tr>\n",
              "        <td>Male</td>\n",
              "        <td>Jerusalem</td>\n",
              "        <td>11000</td>\n",
              "    </tr>\n",
              "    <tr>\n",
              "        <td>Male</td>\n",
              "        <td>Tel-Aviv</td>\n",
              "        <td>28000</td>\n",
              "    </tr>\n",
              "</table>"
            ],
            "text/plain": [
              "[('Male', 'Jerusalem', 11000), ('Male', 'Tel-Aviv', 28000)]"
            ]
          },
          "execution_count": 63,
          "metadata": {},
          "output_type": "execute_result"
        }
      ],
      "source": [
        "%%sql\n",
        "SELECT gender, city , sum (salary)as 'Общая зп' FROM tblemployee\n",
        "GROUP BY gender, city\n",
        "HAVING gender='Male' and city in ('Tel-Aviv', 'Jerusalem')"
      ]
    },
    {
      "cell_type": "markdown",
      "metadata": {
        "id": "YpwCWNK05bwo"
      },
      "source": [
        "## Join"
      ]
    },
    {
      "cell_type": "code",
      "execution_count": null,
      "metadata": {
        "id": "4-wgbu_75bwo",
        "outputId": "66ad5e70-9f61-4e08-9b37-039c9577f9c9"
      },
      "outputs": [
        {
          "name": "stdout",
          "output_type": "stream",
          "text": [
            " * sqlite:///SQL_Server_Trail.db\n",
            "Done.\n",
            "4 rows affected.\n"
          ]
        },
        {
          "data": {
            "text/plain": [
              "[]"
            ]
          },
          "execution_count": 15,
          "metadata": {},
          "output_type": "execute_result"
        }
      ],
      "source": [
        "%%sql\n",
        "CREATE TABLE tblCategory\n",
        "(\n",
        "CategoryID INT PRIMARY KEY NOT NULL,\n",
        "CategoryName NVARCHAR (25)\n",
        ") ;\n",
        "\n",
        "INSERT INTO tblCategory VALUES\n",
        "(1, 'Kitchen'),\n",
        "(2, 'Living Room'),\n",
        "(3, 'Bedroom'),\n",
        "(4, 'Electrical appliance');"
      ]
    },
    {
      "cell_type": "code",
      "execution_count": null,
      "metadata": {
        "id": "U6CgYbU45bwp",
        "outputId": "35983311-e200-4f3b-eb0c-1b73a8fb52bd"
      },
      "outputs": [
        {
          "name": "stdout",
          "output_type": "stream",
          "text": [
            " * sqlite:///SQL_Server_Trail.db\n",
            "Done.\n"
          ]
        },
        {
          "data": {
            "text/plain": [
              "[]"
            ]
          },
          "execution_count": 16,
          "metadata": {},
          "output_type": "execute_result"
        }
      ],
      "source": [
        "%%sql\n",
        "CREATE TABLE tblSubCategory\n",
        "(\n",
        "SubCategoryID INT,\n",
        "SubCategoryName VARCHAR (30) NOT NULL,\n",
        "CategoryID INT NOT NULL,\n",
        "FOREIGN KEY (CategoryID) REFERENCES tblCategory (CategoryID),\n",
        "PRIMARY KEY (SubCategoryID)\n",
        ") ;\n"
      ]
    },
    {
      "cell_type": "code",
      "execution_count": null,
      "metadata": {
        "id": "LTPR4DPa5bwp",
        "outputId": "39955eb4-b3b4-4562-bdb2-c445b87287b9"
      },
      "outputs": [
        {
          "name": "stdout",
          "output_type": "stream",
          "text": [
            " * sqlite:///SQL_Server_Trail.db\n",
            "12 rows affected.\n"
          ]
        },
        {
          "data": {
            "text/plain": [
              "[]"
            ]
          },
          "execution_count": 17,
          "metadata": {},
          "output_type": "execute_result"
        }
      ],
      "source": [
        "%%sql\n",
        "INSERT INTO tblSubCategory VALUES\n",
        "(1,'Sink',1),\n",
        "(2,'Tap',1),\n",
        "(3,'Capboard',1),\n",
        "(4,'Couch',2),\n",
        "(5,'Dining table',2),\n",
        "(6,'Easy Chair',2),\n",
        "(7,'Bed',3),\n",
        "(8,'Desk',3),\n",
        "(9,'Mirror',3),\n",
        "(10, 'Television',4),\n",
        "(11, 'Washing Machine',4),\n",
        "(12,'Electric Heater',4) ;"
      ]
    },
    {
      "cell_type": "code",
      "execution_count": null,
      "metadata": {
        "id": "16Pg_qeu5bwp",
        "outputId": "bb7affb7-3093-4a92-df1c-4856e20ad246"
      },
      "outputs": [
        {
          "name": "stdout",
          "output_type": "stream",
          "text": [
            " * sqlite:///SQL_Server_Trail.db\n",
            "Done.\n"
          ]
        },
        {
          "data": {
            "text/plain": [
              "[]"
            ]
          },
          "execution_count": 18,
          "metadata": {},
          "output_type": "execute_result"
        }
      ],
      "source": [
        "%%sql\n",
        "CREATE TABLE tblProducts\n",
        "(\n",
        "ProductID INTNOT NULL,\n",
        "ProductName VARCHAR (45),\n",
        "ProductPrice INT,\n",
        "SubCategoryID INT,\n",
        "FOREIGN KEY (SubCategoryID) REFERENCES tblSubCategory (SubCategoryID),\n",
        "PRIMARY KEY(ProductID)\n",
        ");"
      ]
    },
    {
      "cell_type": "code",
      "execution_count": null,
      "metadata": {
        "id": "i7mJu3F45bwp",
        "outputId": "b3496412-e708-42f6-f61d-21ab526278c7"
      },
      "outputs": [
        {
          "name": "stdout",
          "output_type": "stream",
          "text": [
            " * sqlite:///SQL_Server_Trail.db\n",
            "40 rows affected.\n"
          ]
        },
        {
          "data": {
            "text/plain": [
              "[]"
            ]
          },
          "execution_count": 19,
          "metadata": {},
          "output_type": "execute_result"
        }
      ],
      "source": [
        "%%sql\n",
        "INSERT INTO tblProducts VALUES\n",
        "(1,'Big Sink',5000,1),\n",
        "(2,'Small Sink',3500,1),\n",
        "(3,'Nirosta Sink',7500,1),\n",
        "(4,'Big Tap',2000,2),\n",
        "(5,'Small Tap',1000,2),\n",
        "(6,'Standard Tap',500,2),\n",
        "(7,'Big Capboard',4000,3),\n",
        "(8,'Small Capboard',2500,3),\n",
        "(9,'IKEA Capboard',2000,3),\n",
        "(10,'Big Couch',4552,4),\n",
        "(11,'Small Couch',2500,4),\n",
        "(12,'Leather Couch',1500,4),\n",
        "(13,'Round Table',8000,5),\n",
        "(14, 'Rectangle Table',5000,5),\n",
        "(15,'IKEA Table',3500,5),\n",
        "(16,'American comfort',9000,6),\n",
        "(17,'IKEA Single Chair',3500,6),\n",
        "(18, 'Beytily Chair',4000,6),\n",
        "(19,'King size bed',9500,7),\n",
        "(20,'Queen size bed',11000,7),\n",
        "(21, 'Single size bed',6000,7),\n",
        "(22,'IKEA Desk',1500,8),\n",
        "(23, 'Whole wood Desk',4500,8),\n",
        "(24, 'Plywood Desk',1000,8),\n",
        "(25,'Big Mirror',1500,9),\n",
        "(26,'Small Mirror',500,9),\n",
        "(27,'Personal Mirror',2500,9),\n",
        "(28,'56 inch Samsung',5500,10),\n",
        "(29,'32 inch HP',3500,10),\n",
        "(30,'21 inch DELL',2700,10),\n",
        "(31,'Bosh Machine',7000,11),\n",
        "(32,'Samsung Machine',5000,11),\n",
        "(33,'Makita Machine',4500,11),\n",
        "(34,'Big Heater',500,12),\n",
        "(35,'Small Heater',350,12),\n",
        "(36,'Rocket Heater',200,12),\n",
        "(37,'Coffee',5,null),\n",
        "(38,'brown suger',0.5,null),\n",
        "(39,'Tea',3,null),\n",
        "(40, 'biscuit',6,null);"
      ]
    },
    {
      "cell_type": "code",
      "execution_count": null,
      "metadata": {
        "id": "Qj4kl30N5bwp",
        "outputId": "7ed3b8b4-d518-4492-c601-d9dd5f122409"
      },
      "outputs": [
        {
          "name": "stdout",
          "output_type": "stream",
          "text": [
            " * sqlite:///SQL_Server_Trail.db\n",
            "Done.\n"
          ]
        },
        {
          "data": {
            "text/html": [
              "<table>\n",
              "    <tr>\n",
              "        <th>ProductID</th>\n",
              "        <th>ProductName</th>\n",
              "        <th>ProductPrice</th>\n",
              "        <th>SubCategoryID</th>\n",
              "    </tr>\n",
              "    <tr>\n",
              "        <td>1</td>\n",
              "        <td>Big Sink</td>\n",
              "        <td>5000</td>\n",
              "        <td>1</td>\n",
              "    </tr>\n",
              "    <tr>\n",
              "        <td>2</td>\n",
              "        <td>Small Sink</td>\n",
              "        <td>3500</td>\n",
              "        <td>1</td>\n",
              "    </tr>\n",
              "    <tr>\n",
              "        <td>3</td>\n",
              "        <td>Nirosta Sink</td>\n",
              "        <td>7500</td>\n",
              "        <td>1</td>\n",
              "    </tr>\n",
              "    <tr>\n",
              "        <td>4</td>\n",
              "        <td>Big Tap</td>\n",
              "        <td>2000</td>\n",
              "        <td>2</td>\n",
              "    </tr>\n",
              "    <tr>\n",
              "        <td>5</td>\n",
              "        <td>Small Tap</td>\n",
              "        <td>1000</td>\n",
              "        <td>2</td>\n",
              "    </tr>\n",
              "    <tr>\n",
              "        <td>6</td>\n",
              "        <td>Standard Tap</td>\n",
              "        <td>500</td>\n",
              "        <td>2</td>\n",
              "    </tr>\n",
              "    <tr>\n",
              "        <td>7</td>\n",
              "        <td>Big Capboard</td>\n",
              "        <td>4000</td>\n",
              "        <td>3</td>\n",
              "    </tr>\n",
              "    <tr>\n",
              "        <td>8</td>\n",
              "        <td>Small Capboard</td>\n",
              "        <td>2500</td>\n",
              "        <td>3</td>\n",
              "    </tr>\n",
              "    <tr>\n",
              "        <td>9</td>\n",
              "        <td>IKEA Capboard</td>\n",
              "        <td>2000</td>\n",
              "        <td>3</td>\n",
              "    </tr>\n",
              "    <tr>\n",
              "        <td>10</td>\n",
              "        <td>Big Couch</td>\n",
              "        <td>4552</td>\n",
              "        <td>4</td>\n",
              "    </tr>\n",
              "    <tr>\n",
              "        <td>11</td>\n",
              "        <td>Small Couch</td>\n",
              "        <td>2500</td>\n",
              "        <td>4</td>\n",
              "    </tr>\n",
              "    <tr>\n",
              "        <td>12</td>\n",
              "        <td>Leather Couch</td>\n",
              "        <td>1500</td>\n",
              "        <td>4</td>\n",
              "    </tr>\n",
              "    <tr>\n",
              "        <td>13</td>\n",
              "        <td>Round Table</td>\n",
              "        <td>8000</td>\n",
              "        <td>5</td>\n",
              "    </tr>\n",
              "    <tr>\n",
              "        <td>14</td>\n",
              "        <td>Rectangle Table</td>\n",
              "        <td>5000</td>\n",
              "        <td>5</td>\n",
              "    </tr>\n",
              "    <tr>\n",
              "        <td>15</td>\n",
              "        <td>IKEA Table</td>\n",
              "        <td>3500</td>\n",
              "        <td>5</td>\n",
              "    </tr>\n",
              "    <tr>\n",
              "        <td>16</td>\n",
              "        <td>American comfort</td>\n",
              "        <td>9000</td>\n",
              "        <td>6</td>\n",
              "    </tr>\n",
              "    <tr>\n",
              "        <td>17</td>\n",
              "        <td>IKEA Single Chair</td>\n",
              "        <td>3500</td>\n",
              "        <td>6</td>\n",
              "    </tr>\n",
              "    <tr>\n",
              "        <td>18</td>\n",
              "        <td>Beytily Chair</td>\n",
              "        <td>4000</td>\n",
              "        <td>6</td>\n",
              "    </tr>\n",
              "    <tr>\n",
              "        <td>19</td>\n",
              "        <td>King size bed</td>\n",
              "        <td>9500</td>\n",
              "        <td>7</td>\n",
              "    </tr>\n",
              "    <tr>\n",
              "        <td>20</td>\n",
              "        <td>Queen size bed</td>\n",
              "        <td>11000</td>\n",
              "        <td>7</td>\n",
              "    </tr>\n",
              "    <tr>\n",
              "        <td>21</td>\n",
              "        <td>Single size bed</td>\n",
              "        <td>6000</td>\n",
              "        <td>7</td>\n",
              "    </tr>\n",
              "    <tr>\n",
              "        <td>22</td>\n",
              "        <td>IKEA Desk</td>\n",
              "        <td>1500</td>\n",
              "        <td>8</td>\n",
              "    </tr>\n",
              "    <tr>\n",
              "        <td>23</td>\n",
              "        <td>Whole wood Desk</td>\n",
              "        <td>4500</td>\n",
              "        <td>8</td>\n",
              "    </tr>\n",
              "    <tr>\n",
              "        <td>24</td>\n",
              "        <td>Plywood Desk</td>\n",
              "        <td>1000</td>\n",
              "        <td>8</td>\n",
              "    </tr>\n",
              "    <tr>\n",
              "        <td>25</td>\n",
              "        <td>Big Mirror</td>\n",
              "        <td>1500</td>\n",
              "        <td>9</td>\n",
              "    </tr>\n",
              "    <tr>\n",
              "        <td>26</td>\n",
              "        <td>Small Mirror</td>\n",
              "        <td>500</td>\n",
              "        <td>9</td>\n",
              "    </tr>\n",
              "    <tr>\n",
              "        <td>27</td>\n",
              "        <td>Personal Mirror</td>\n",
              "        <td>2500</td>\n",
              "        <td>9</td>\n",
              "    </tr>\n",
              "    <tr>\n",
              "        <td>28</td>\n",
              "        <td>56 inch Samsung</td>\n",
              "        <td>5500</td>\n",
              "        <td>10</td>\n",
              "    </tr>\n",
              "    <tr>\n",
              "        <td>29</td>\n",
              "        <td>32 inch HP</td>\n",
              "        <td>3500</td>\n",
              "        <td>10</td>\n",
              "    </tr>\n",
              "    <tr>\n",
              "        <td>30</td>\n",
              "        <td>21 inch DELL</td>\n",
              "        <td>2700</td>\n",
              "        <td>10</td>\n",
              "    </tr>\n",
              "    <tr>\n",
              "        <td>31</td>\n",
              "        <td>Bosh Machine</td>\n",
              "        <td>7000</td>\n",
              "        <td>11</td>\n",
              "    </tr>\n",
              "    <tr>\n",
              "        <td>32</td>\n",
              "        <td>Samsung Machine</td>\n",
              "        <td>5000</td>\n",
              "        <td>11</td>\n",
              "    </tr>\n",
              "    <tr>\n",
              "        <td>33</td>\n",
              "        <td>Makita Machine</td>\n",
              "        <td>4500</td>\n",
              "        <td>11</td>\n",
              "    </tr>\n",
              "    <tr>\n",
              "        <td>34</td>\n",
              "        <td>Big Heater</td>\n",
              "        <td>500</td>\n",
              "        <td>12</td>\n",
              "    </tr>\n",
              "    <tr>\n",
              "        <td>35</td>\n",
              "        <td>Small Heater</td>\n",
              "        <td>350</td>\n",
              "        <td>12</td>\n",
              "    </tr>\n",
              "    <tr>\n",
              "        <td>36</td>\n",
              "        <td>Rocket Heater</td>\n",
              "        <td>200</td>\n",
              "        <td>12</td>\n",
              "    </tr>\n",
              "    <tr>\n",
              "        <td>37</td>\n",
              "        <td>Coffee</td>\n",
              "        <td>5</td>\n",
              "        <td>None</td>\n",
              "    </tr>\n",
              "    <tr>\n",
              "        <td>38</td>\n",
              "        <td>brown suger</td>\n",
              "        <td>0.5</td>\n",
              "        <td>None</td>\n",
              "    </tr>\n",
              "    <tr>\n",
              "        <td>39</td>\n",
              "        <td>Tea</td>\n",
              "        <td>3</td>\n",
              "        <td>None</td>\n",
              "    </tr>\n",
              "    <tr>\n",
              "        <td>40</td>\n",
              "        <td>biscuit</td>\n",
              "        <td>6</td>\n",
              "        <td>None</td>\n",
              "    </tr>\n",
              "</table>"
            ],
            "text/plain": [
              "[(1, 'Big Sink', 5000, 1),\n",
              " (2, 'Small Sink', 3500, 1),\n",
              " (3, 'Nirosta Sink', 7500, 1),\n",
              " (4, 'Big Tap', 2000, 2),\n",
              " (5, 'Small Tap', 1000, 2),\n",
              " (6, 'Standard Tap', 500, 2),\n",
              " (7, 'Big Capboard', 4000, 3),\n",
              " (8, 'Small Capboard', 2500, 3),\n",
              " (9, 'IKEA Capboard', 2000, 3),\n",
              " (10, 'Big Couch', 4552, 4),\n",
              " (11, 'Small Couch', 2500, 4),\n",
              " (12, 'Leather Couch', 1500, 4),\n",
              " (13, 'Round Table', 8000, 5),\n",
              " (14, 'Rectangle Table', 5000, 5),\n",
              " (15, 'IKEA Table', 3500, 5),\n",
              " (16, 'American comfort', 9000, 6),\n",
              " (17, 'IKEA Single Chair', 3500, 6),\n",
              " (18, 'Beytily Chair', 4000, 6),\n",
              " (19, 'King size bed', 9500, 7),\n",
              " (20, 'Queen size bed', 11000, 7),\n",
              " (21, 'Single size bed', 6000, 7),\n",
              " (22, 'IKEA Desk', 1500, 8),\n",
              " (23, 'Whole wood Desk', 4500, 8),\n",
              " (24, 'Plywood Desk', 1000, 8),\n",
              " (25, 'Big Mirror', 1500, 9),\n",
              " (26, 'Small Mirror', 500, 9),\n",
              " (27, 'Personal Mirror', 2500, 9),\n",
              " (28, '56 inch Samsung', 5500, 10),\n",
              " (29, '32 inch HP', 3500, 10),\n",
              " (30, '21 inch DELL', 2700, 10),\n",
              " (31, 'Bosh Machine', 7000, 11),\n",
              " (32, 'Samsung Machine', 5000, 11),\n",
              " (33, 'Makita Machine', 4500, 11),\n",
              " (34, 'Big Heater', 500, 12),\n",
              " (35, 'Small Heater', 350, 12),\n",
              " (36, 'Rocket Heater', 200, 12),\n",
              " (37, 'Coffee', 5, None),\n",
              " (38, 'brown suger', 0.5, None),\n",
              " (39, 'Tea', 3, None),\n",
              " (40, 'biscuit', 6, None)]"
            ]
          },
          "execution_count": 20,
          "metadata": {},
          "output_type": "execute_result"
        }
      ],
      "source": [
        "%%sql\n",
        "SELECT * FROM tblProducts\n"
      ]
    },
    {
      "cell_type": "code",
      "execution_count": null,
      "metadata": {
        "id": "66kXIUqE5bwq",
        "outputId": "f09a7032-bba6-4055-f97b-4c129352189c"
      },
      "outputs": [
        {
          "name": "stdout",
          "output_type": "stream",
          "text": [
            " * sqlite:///SQL_Server_Trail.db\n",
            "Done.\n"
          ]
        },
        {
          "data": {
            "text/html": [
              "<table>\n",
              "    <tr>\n",
              "        <th>SubCategoryID</th>\n",
              "        <th>SubCategoryName</th>\n",
              "        <th>CategoryID</th>\n",
              "    </tr>\n",
              "    <tr>\n",
              "        <td>1</td>\n",
              "        <td>Sink</td>\n",
              "        <td>1</td>\n",
              "    </tr>\n",
              "    <tr>\n",
              "        <td>2</td>\n",
              "        <td>Tap</td>\n",
              "        <td>1</td>\n",
              "    </tr>\n",
              "    <tr>\n",
              "        <td>3</td>\n",
              "        <td>Capboard</td>\n",
              "        <td>1</td>\n",
              "    </tr>\n",
              "    <tr>\n",
              "        <td>4</td>\n",
              "        <td>Couch</td>\n",
              "        <td>2</td>\n",
              "    </tr>\n",
              "    <tr>\n",
              "        <td>5</td>\n",
              "        <td>Dining table</td>\n",
              "        <td>2</td>\n",
              "    </tr>\n",
              "    <tr>\n",
              "        <td>6</td>\n",
              "        <td>Easy Chair</td>\n",
              "        <td>2</td>\n",
              "    </tr>\n",
              "    <tr>\n",
              "        <td>7</td>\n",
              "        <td>Bed</td>\n",
              "        <td>3</td>\n",
              "    </tr>\n",
              "    <tr>\n",
              "        <td>8</td>\n",
              "        <td>Desk</td>\n",
              "        <td>3</td>\n",
              "    </tr>\n",
              "    <tr>\n",
              "        <td>9</td>\n",
              "        <td>Mirror</td>\n",
              "        <td>3</td>\n",
              "    </tr>\n",
              "    <tr>\n",
              "        <td>10</td>\n",
              "        <td>Television</td>\n",
              "        <td>4</td>\n",
              "    </tr>\n",
              "    <tr>\n",
              "        <td>11</td>\n",
              "        <td>Washing Machine</td>\n",
              "        <td>4</td>\n",
              "    </tr>\n",
              "    <tr>\n",
              "        <td>12</td>\n",
              "        <td>Electric Heater</td>\n",
              "        <td>4</td>\n",
              "    </tr>\n",
              "</table>"
            ],
            "text/plain": [
              "[(1, 'Sink', 1),\n",
              " (2, 'Tap', 1),\n",
              " (3, 'Capboard', 1),\n",
              " (4, 'Couch', 2),\n",
              " (5, 'Dining table', 2),\n",
              " (6, 'Easy Chair', 2),\n",
              " (7, 'Bed', 3),\n",
              " (8, 'Desk', 3),\n",
              " (9, 'Mirror', 3),\n",
              " (10, 'Television', 4),\n",
              " (11, 'Washing Machine', 4),\n",
              " (12, 'Electric Heater', 4)]"
            ]
          },
          "execution_count": 21,
          "metadata": {},
          "output_type": "execute_result"
        }
      ],
      "source": [
        "%%sql\n",
        "SELECT * FROM tblSubCategory\n"
      ]
    },
    {
      "cell_type": "code",
      "execution_count": null,
      "metadata": {
        "id": "AZhuwR5M5bwq",
        "outputId": "074cee58-7a98-409e-be9c-16ad2cca913c"
      },
      "outputs": [
        {
          "name": "stdout",
          "output_type": "stream",
          "text": [
            " * sqlite:///SQL_Server_Trail.db\n",
            "Done.\n"
          ]
        },
        {
          "data": {
            "text/html": [
              "<table>\n",
              "    <tr>\n",
              "        <th>CategoryID</th>\n",
              "        <th>CategoryName</th>\n",
              "    </tr>\n",
              "    <tr>\n",
              "        <td>1</td>\n",
              "        <td>Kitchen</td>\n",
              "    </tr>\n",
              "    <tr>\n",
              "        <td>2</td>\n",
              "        <td>Living Room</td>\n",
              "    </tr>\n",
              "    <tr>\n",
              "        <td>3</td>\n",
              "        <td>Bedroom</td>\n",
              "    </tr>\n",
              "    <tr>\n",
              "        <td>4</td>\n",
              "        <td>Electrical appliance</td>\n",
              "    </tr>\n",
              "</table>"
            ],
            "text/plain": [
              "[(1, 'Kitchen'),\n",
              " (2, 'Living Room'),\n",
              " (3, 'Bedroom'),\n",
              " (4, 'Electrical appliance')]"
            ]
          },
          "execution_count": 22,
          "metadata": {},
          "output_type": "execute_result"
        }
      ],
      "source": [
        "%%sql\n",
        "SELECT * FROM tblCategory"
      ]
    },
    {
      "cell_type": "markdown",
      "metadata": {
        "id": "k4V8W9nh5bwr"
      },
      "source": [
        "#### Создайте внутреннее соединение между tblproducts и tblsubcategory. ( Из tblproducts показать productName и productPrice. Из tblsubcategory показать имя_подкатегории.)"
      ]
    },
    {
      "cell_type": "code",
      "execution_count": null,
      "metadata": {
        "id": "_kxzc3Ka5bwr",
        "outputId": "b74f138b-f489-4f2f-de94-ff49da8b0619"
      },
      "outputs": [
        {
          "name": "stdout",
          "output_type": "stream",
          "text": [
            " * sqlite:///SQL_Server_Trail.db\n",
            "Done.\n"
          ]
        },
        {
          "data": {
            "text/html": [
              "<table>\n",
              "    <tr>\n",
              "        <th>ProductName</th>\n",
              "        <th>ProductPrice</th>\n",
              "        <th>SubCategoryName</th>\n",
              "    </tr>\n",
              "    <tr>\n",
              "        <td>Big Sink</td>\n",
              "        <td>5000</td>\n",
              "        <td>Sink</td>\n",
              "    </tr>\n",
              "    <tr>\n",
              "        <td>Small Sink</td>\n",
              "        <td>3500</td>\n",
              "        <td>Sink</td>\n",
              "    </tr>\n",
              "    <tr>\n",
              "        <td>Nirosta Sink</td>\n",
              "        <td>7500</td>\n",
              "        <td>Sink</td>\n",
              "    </tr>\n",
              "    <tr>\n",
              "        <td>Big Tap</td>\n",
              "        <td>2000</td>\n",
              "        <td>Tap</td>\n",
              "    </tr>\n",
              "    <tr>\n",
              "        <td>Small Tap</td>\n",
              "        <td>1000</td>\n",
              "        <td>Tap</td>\n",
              "    </tr>\n",
              "    <tr>\n",
              "        <td>Standard Tap</td>\n",
              "        <td>500</td>\n",
              "        <td>Tap</td>\n",
              "    </tr>\n",
              "    <tr>\n",
              "        <td>Big Capboard</td>\n",
              "        <td>4000</td>\n",
              "        <td>Capboard</td>\n",
              "    </tr>\n",
              "    <tr>\n",
              "        <td>Small Capboard</td>\n",
              "        <td>2500</td>\n",
              "        <td>Capboard</td>\n",
              "    </tr>\n",
              "    <tr>\n",
              "        <td>IKEA Capboard</td>\n",
              "        <td>2000</td>\n",
              "        <td>Capboard</td>\n",
              "    </tr>\n",
              "    <tr>\n",
              "        <td>Big Couch</td>\n",
              "        <td>4552</td>\n",
              "        <td>Couch</td>\n",
              "    </tr>\n",
              "    <tr>\n",
              "        <td>Small Couch</td>\n",
              "        <td>2500</td>\n",
              "        <td>Couch</td>\n",
              "    </tr>\n",
              "    <tr>\n",
              "        <td>Leather Couch</td>\n",
              "        <td>1500</td>\n",
              "        <td>Couch</td>\n",
              "    </tr>\n",
              "    <tr>\n",
              "        <td>Round Table</td>\n",
              "        <td>8000</td>\n",
              "        <td>Dining table</td>\n",
              "    </tr>\n",
              "    <tr>\n",
              "        <td>Rectangle Table</td>\n",
              "        <td>5000</td>\n",
              "        <td>Dining table</td>\n",
              "    </tr>\n",
              "    <tr>\n",
              "        <td>IKEA Table</td>\n",
              "        <td>3500</td>\n",
              "        <td>Dining table</td>\n",
              "    </tr>\n",
              "    <tr>\n",
              "        <td>American comfort</td>\n",
              "        <td>9000</td>\n",
              "        <td>Easy Chair</td>\n",
              "    </tr>\n",
              "    <tr>\n",
              "        <td>IKEA Single Chair</td>\n",
              "        <td>3500</td>\n",
              "        <td>Easy Chair</td>\n",
              "    </tr>\n",
              "    <tr>\n",
              "        <td>Beytily Chair</td>\n",
              "        <td>4000</td>\n",
              "        <td>Easy Chair</td>\n",
              "    </tr>\n",
              "    <tr>\n",
              "        <td>King size bed</td>\n",
              "        <td>9500</td>\n",
              "        <td>Bed</td>\n",
              "    </tr>\n",
              "    <tr>\n",
              "        <td>Queen size bed</td>\n",
              "        <td>11000</td>\n",
              "        <td>Bed</td>\n",
              "    </tr>\n",
              "    <tr>\n",
              "        <td>Single size bed</td>\n",
              "        <td>6000</td>\n",
              "        <td>Bed</td>\n",
              "    </tr>\n",
              "    <tr>\n",
              "        <td>IKEA Desk</td>\n",
              "        <td>1500</td>\n",
              "        <td>Desk</td>\n",
              "    </tr>\n",
              "    <tr>\n",
              "        <td>Whole wood Desk</td>\n",
              "        <td>4500</td>\n",
              "        <td>Desk</td>\n",
              "    </tr>\n",
              "    <tr>\n",
              "        <td>Plywood Desk</td>\n",
              "        <td>1000</td>\n",
              "        <td>Desk</td>\n",
              "    </tr>\n",
              "    <tr>\n",
              "        <td>Big Mirror</td>\n",
              "        <td>1500</td>\n",
              "        <td>Mirror</td>\n",
              "    </tr>\n",
              "    <tr>\n",
              "        <td>Small Mirror</td>\n",
              "        <td>500</td>\n",
              "        <td>Mirror</td>\n",
              "    </tr>\n",
              "    <tr>\n",
              "        <td>Personal Mirror</td>\n",
              "        <td>2500</td>\n",
              "        <td>Mirror</td>\n",
              "    </tr>\n",
              "    <tr>\n",
              "        <td>56 inch Samsung</td>\n",
              "        <td>5500</td>\n",
              "        <td>Television</td>\n",
              "    </tr>\n",
              "    <tr>\n",
              "        <td>32 inch HP</td>\n",
              "        <td>3500</td>\n",
              "        <td>Television</td>\n",
              "    </tr>\n",
              "    <tr>\n",
              "        <td>21 inch DELL</td>\n",
              "        <td>2700</td>\n",
              "        <td>Television</td>\n",
              "    </tr>\n",
              "    <tr>\n",
              "        <td>Bosh Machine</td>\n",
              "        <td>7000</td>\n",
              "        <td>Washing Machine</td>\n",
              "    </tr>\n",
              "    <tr>\n",
              "        <td>Samsung Machine</td>\n",
              "        <td>5000</td>\n",
              "        <td>Washing Machine</td>\n",
              "    </tr>\n",
              "    <tr>\n",
              "        <td>Makita Machine</td>\n",
              "        <td>4500</td>\n",
              "        <td>Washing Machine</td>\n",
              "    </tr>\n",
              "    <tr>\n",
              "        <td>Big Heater</td>\n",
              "        <td>500</td>\n",
              "        <td>Electric Heater</td>\n",
              "    </tr>\n",
              "    <tr>\n",
              "        <td>Small Heater</td>\n",
              "        <td>350</td>\n",
              "        <td>Electric Heater</td>\n",
              "    </tr>\n",
              "    <tr>\n",
              "        <td>Rocket Heater</td>\n",
              "        <td>200</td>\n",
              "        <td>Electric Heater</td>\n",
              "    </tr>\n",
              "</table>"
            ],
            "text/plain": [
              "[('Big Sink', 5000, 'Sink'),\n",
              " ('Small Sink', 3500, 'Sink'),\n",
              " ('Nirosta Sink', 7500, 'Sink'),\n",
              " ('Big Tap', 2000, 'Tap'),\n",
              " ('Small Tap', 1000, 'Tap'),\n",
              " ('Standard Tap', 500, 'Tap'),\n",
              " ('Big Capboard', 4000, 'Capboard'),\n",
              " ('Small Capboard', 2500, 'Capboard'),\n",
              " ('IKEA Capboard', 2000, 'Capboard'),\n",
              " ('Big Couch', 4552, 'Couch'),\n",
              " ('Small Couch', 2500, 'Couch'),\n",
              " ('Leather Couch', 1500, 'Couch'),\n",
              " ('Round Table', 8000, 'Dining table'),\n",
              " ('Rectangle Table', 5000, 'Dining table'),\n",
              " ('IKEA Table', 3500, 'Dining table'),\n",
              " ('American comfort', 9000, 'Easy Chair'),\n",
              " ('IKEA Single Chair', 3500, 'Easy Chair'),\n",
              " ('Beytily Chair', 4000, 'Easy Chair'),\n",
              " ('King size bed', 9500, 'Bed'),\n",
              " ('Queen size bed', 11000, 'Bed'),\n",
              " ('Single size bed', 6000, 'Bed'),\n",
              " ('IKEA Desk', 1500, 'Desk'),\n",
              " ('Whole wood Desk', 4500, 'Desk'),\n",
              " ('Plywood Desk', 1000, 'Desk'),\n",
              " ('Big Mirror', 1500, 'Mirror'),\n",
              " ('Small Mirror', 500, 'Mirror'),\n",
              " ('Personal Mirror', 2500, 'Mirror'),\n",
              " ('56 inch Samsung', 5500, 'Television'),\n",
              " ('32 inch HP', 3500, 'Television'),\n",
              " ('21 inch DELL', 2700, 'Television'),\n",
              " ('Bosh Machine', 7000, 'Washing Machine'),\n",
              " ('Samsung Machine', 5000, 'Washing Machine'),\n",
              " ('Makita Machine', 4500, 'Washing Machine'),\n",
              " ('Big Heater', 500, 'Electric Heater'),\n",
              " ('Small Heater', 350, 'Electric Heater'),\n",
              " ('Rocket Heater', 200, 'Electric Heater')]"
            ]
          },
          "execution_count": 23,
          "metadata": {},
          "output_type": "execute_result"
        }
      ],
      "source": [
        "%%sql\n",
        "SELECT      PR.ProductName, PR.ProductPrice, SC.SubCategoryName\n",
        "FROM        tblProducts AS PR\n",
        "INNER JOIN  tblbCategory AS SuSC\n",
        "ON          PR.SubCategoryID = SC.SubCategoryID"
      ]
    },
    {
      "cell_type": "markdown",
      "metadata": {
        "id": "hBnBec1g5bwr"
      },
      "source": [
        "#### Создайте внутреннее соединение между tblproducts и tblcategory.<br>\n",
        "-- из tblproducts показать productName и productPrice.<br>\n",
        "-- из tblcategory показать имя_категории."
      ]
    },
    {
      "cell_type": "code",
      "execution_count": null,
      "metadata": {
        "id": "0b00aI4x5bwr",
        "outputId": "e652778f-f061-464b-a1d8-70893c4a1f2f"
      },
      "outputs": [
        {
          "name": "stdout",
          "output_type": "stream",
          "text": [
            " * sqlite:///SQL_Server_Trail.db\n",
            "Done.\n"
          ]
        },
        {
          "data": {
            "text/html": [
              "<table>\n",
              "    <tr>\n",
              "        <th>ProductName</th>\n",
              "        <th>ProductPrice</th>\n",
              "        <th>SubCategoryName</th>\n",
              "        <th>CategoryName</th>\n",
              "    </tr>\n",
              "    <tr>\n",
              "        <td>Big Sink</td>\n",
              "        <td>5000</td>\n",
              "        <td>Sink</td>\n",
              "        <td>Kitchen</td>\n",
              "    </tr>\n",
              "    <tr>\n",
              "        <td>Small Sink</td>\n",
              "        <td>3500</td>\n",
              "        <td>Sink</td>\n",
              "        <td>Kitchen</td>\n",
              "    </tr>\n",
              "    <tr>\n",
              "        <td>Nirosta Sink</td>\n",
              "        <td>7500</td>\n",
              "        <td>Sink</td>\n",
              "        <td>Kitchen</td>\n",
              "    </tr>\n",
              "    <tr>\n",
              "        <td>Big Tap</td>\n",
              "        <td>2000</td>\n",
              "        <td>Tap</td>\n",
              "        <td>Kitchen</td>\n",
              "    </tr>\n",
              "    <tr>\n",
              "        <td>Small Tap</td>\n",
              "        <td>1000</td>\n",
              "        <td>Tap</td>\n",
              "        <td>Kitchen</td>\n",
              "    </tr>\n",
              "    <tr>\n",
              "        <td>Standard Tap</td>\n",
              "        <td>500</td>\n",
              "        <td>Tap</td>\n",
              "        <td>Kitchen</td>\n",
              "    </tr>\n",
              "    <tr>\n",
              "        <td>Big Capboard</td>\n",
              "        <td>4000</td>\n",
              "        <td>Capboard</td>\n",
              "        <td>Kitchen</td>\n",
              "    </tr>\n",
              "    <tr>\n",
              "        <td>Small Capboard</td>\n",
              "        <td>2500</td>\n",
              "        <td>Capboard</td>\n",
              "        <td>Kitchen</td>\n",
              "    </tr>\n",
              "    <tr>\n",
              "        <td>IKEA Capboard</td>\n",
              "        <td>2000</td>\n",
              "        <td>Capboard</td>\n",
              "        <td>Kitchen</td>\n",
              "    </tr>\n",
              "    <tr>\n",
              "        <td>Big Couch</td>\n",
              "        <td>4552</td>\n",
              "        <td>Couch</td>\n",
              "        <td>Living Room</td>\n",
              "    </tr>\n",
              "    <tr>\n",
              "        <td>Small Couch</td>\n",
              "        <td>2500</td>\n",
              "        <td>Couch</td>\n",
              "        <td>Living Room</td>\n",
              "    </tr>\n",
              "    <tr>\n",
              "        <td>Leather Couch</td>\n",
              "        <td>1500</td>\n",
              "        <td>Couch</td>\n",
              "        <td>Living Room</td>\n",
              "    </tr>\n",
              "    <tr>\n",
              "        <td>Round Table</td>\n",
              "        <td>8000</td>\n",
              "        <td>Dining table</td>\n",
              "        <td>Living Room</td>\n",
              "    </tr>\n",
              "    <tr>\n",
              "        <td>Rectangle Table</td>\n",
              "        <td>5000</td>\n",
              "        <td>Dining table</td>\n",
              "        <td>Living Room</td>\n",
              "    </tr>\n",
              "    <tr>\n",
              "        <td>IKEA Table</td>\n",
              "        <td>3500</td>\n",
              "        <td>Dining table</td>\n",
              "        <td>Living Room</td>\n",
              "    </tr>\n",
              "    <tr>\n",
              "        <td>American comfort</td>\n",
              "        <td>9000</td>\n",
              "        <td>Easy Chair</td>\n",
              "        <td>Living Room</td>\n",
              "    </tr>\n",
              "    <tr>\n",
              "        <td>IKEA Single Chair</td>\n",
              "        <td>3500</td>\n",
              "        <td>Easy Chair</td>\n",
              "        <td>Living Room</td>\n",
              "    </tr>\n",
              "    <tr>\n",
              "        <td>Beytily Chair</td>\n",
              "        <td>4000</td>\n",
              "        <td>Easy Chair</td>\n",
              "        <td>Living Room</td>\n",
              "    </tr>\n",
              "    <tr>\n",
              "        <td>King size bed</td>\n",
              "        <td>9500</td>\n",
              "        <td>Bed</td>\n",
              "        <td>Bedroom</td>\n",
              "    </tr>\n",
              "    <tr>\n",
              "        <td>Queen size bed</td>\n",
              "        <td>11000</td>\n",
              "        <td>Bed</td>\n",
              "        <td>Bedroom</td>\n",
              "    </tr>\n",
              "    <tr>\n",
              "        <td>Single size bed</td>\n",
              "        <td>6000</td>\n",
              "        <td>Bed</td>\n",
              "        <td>Bedroom</td>\n",
              "    </tr>\n",
              "    <tr>\n",
              "        <td>IKEA Desk</td>\n",
              "        <td>1500</td>\n",
              "        <td>Desk</td>\n",
              "        <td>Bedroom</td>\n",
              "    </tr>\n",
              "    <tr>\n",
              "        <td>Whole wood Desk</td>\n",
              "        <td>4500</td>\n",
              "        <td>Desk</td>\n",
              "        <td>Bedroom</td>\n",
              "    </tr>\n",
              "    <tr>\n",
              "        <td>Plywood Desk</td>\n",
              "        <td>1000</td>\n",
              "        <td>Desk</td>\n",
              "        <td>Bedroom</td>\n",
              "    </tr>\n",
              "    <tr>\n",
              "        <td>Big Mirror</td>\n",
              "        <td>1500</td>\n",
              "        <td>Mirror</td>\n",
              "        <td>Bedroom</td>\n",
              "    </tr>\n",
              "    <tr>\n",
              "        <td>Small Mirror</td>\n",
              "        <td>500</td>\n",
              "        <td>Mirror</td>\n",
              "        <td>Bedroom</td>\n",
              "    </tr>\n",
              "    <tr>\n",
              "        <td>Personal Mirror</td>\n",
              "        <td>2500</td>\n",
              "        <td>Mirror</td>\n",
              "        <td>Bedroom</td>\n",
              "    </tr>\n",
              "    <tr>\n",
              "        <td>56 inch Samsung</td>\n",
              "        <td>5500</td>\n",
              "        <td>Television</td>\n",
              "        <td>Electrical appliance</td>\n",
              "    </tr>\n",
              "    <tr>\n",
              "        <td>32 inch HP</td>\n",
              "        <td>3500</td>\n",
              "        <td>Television</td>\n",
              "        <td>Electrical appliance</td>\n",
              "    </tr>\n",
              "    <tr>\n",
              "        <td>21 inch DELL</td>\n",
              "        <td>2700</td>\n",
              "        <td>Television</td>\n",
              "        <td>Electrical appliance</td>\n",
              "    </tr>\n",
              "    <tr>\n",
              "        <td>Bosh Machine</td>\n",
              "        <td>7000</td>\n",
              "        <td>Washing Machine</td>\n",
              "        <td>Electrical appliance</td>\n",
              "    </tr>\n",
              "    <tr>\n",
              "        <td>Samsung Machine</td>\n",
              "        <td>5000</td>\n",
              "        <td>Washing Machine</td>\n",
              "        <td>Electrical appliance</td>\n",
              "    </tr>\n",
              "    <tr>\n",
              "        <td>Makita Machine</td>\n",
              "        <td>4500</td>\n",
              "        <td>Washing Machine</td>\n",
              "        <td>Electrical appliance</td>\n",
              "    </tr>\n",
              "    <tr>\n",
              "        <td>Big Heater</td>\n",
              "        <td>500</td>\n",
              "        <td>Electric Heater</td>\n",
              "        <td>Electrical appliance</td>\n",
              "    </tr>\n",
              "    <tr>\n",
              "        <td>Small Heater</td>\n",
              "        <td>350</td>\n",
              "        <td>Electric Heater</td>\n",
              "        <td>Electrical appliance</td>\n",
              "    </tr>\n",
              "    <tr>\n",
              "        <td>Rocket Heater</td>\n",
              "        <td>200</td>\n",
              "        <td>Electric Heater</td>\n",
              "        <td>Electrical appliance</td>\n",
              "    </tr>\n",
              "</table>"
            ],
            "text/plain": [
              "[('Big Sink', 5000, 'Sink', 'Kitchen'),\n",
              " ('Small Sink', 3500, 'Sink', 'Kitchen'),\n",
              " ('Nirosta Sink', 7500, 'Sink', 'Kitchen'),\n",
              " ('Big Tap', 2000, 'Tap', 'Kitchen'),\n",
              " ('Small Tap', 1000, 'Tap', 'Kitchen'),\n",
              " ('Standard Tap', 500, 'Tap', 'Kitchen'),\n",
              " ('Big Capboard', 4000, 'Capboard', 'Kitchen'),\n",
              " ('Small Capboard', 2500, 'Capboard', 'Kitchen'),\n",
              " ('IKEA Capboard', 2000, 'Capboard', 'Kitchen'),\n",
              " ('Big Couch', 4552, 'Couch', 'Living Room'),\n",
              " ('Small Couch', 2500, 'Couch', 'Living Room'),\n",
              " ('Leather Couch', 1500, 'Couch', 'Living Room'),\n",
              " ('Round Table', 8000, 'Dining table', 'Living Room'),\n",
              " ('Rectangle Table', 5000, 'Dining table', 'Living Room'),\n",
              " ('IKEA Table', 3500, 'Dining table', 'Living Room'),\n",
              " ('American comfort', 9000, 'Easy Chair', 'Living Room'),\n",
              " ('IKEA Single Chair', 3500, 'Easy Chair', 'Living Room'),\n",
              " ('Beytily Chair', 4000, 'Easy Chair', 'Living Room'),\n",
              " ('King size bed', 9500, 'Bed', 'Bedroom'),\n",
              " ('Queen size bed', 11000, 'Bed', 'Bedroom'),\n",
              " ('Single size bed', 6000, 'Bed', 'Bedroom'),\n",
              " ('IKEA Desk', 1500, 'Desk', 'Bedroom'),\n",
              " ('Whole wood Desk', 4500, 'Desk', 'Bedroom'),\n",
              " ('Plywood Desk', 1000, 'Desk', 'Bedroom'),\n",
              " ('Big Mirror', 1500, 'Mirror', 'Bedroom'),\n",
              " ('Small Mirror', 500, 'Mirror', 'Bedroom'),\n",
              " ('Personal Mirror', 2500, 'Mirror', 'Bedroom'),\n",
              " ('56 inch Samsung', 5500, 'Television', 'Electrical appliance'),\n",
              " ('32 inch HP', 3500, 'Television', 'Electrical appliance'),\n",
              " ('21 inch DELL', 2700, 'Television', 'Electrical appliance'),\n",
              " ('Bosh Machine', 7000, 'Washing Machine', 'Electrical appliance'),\n",
              " ('Samsung Machine', 5000, 'Washing Machine', 'Electrical appliance'),\n",
              " ('Makita Machine', 4500, 'Washing Machine', 'Electrical appliance'),\n",
              " ('Big Heater', 500, 'Electric Heater', 'Electrical appliance'),\n",
              " ('Small Heater', 350, 'Electric Heater', 'Electrical appliance'),\n",
              " ('Rocket Heater', 200, 'Electric Heater', 'Electrical appliance')]"
            ]
          },
          "execution_count": 24,
          "metadata": {},
          "output_type": "execute_result"
        }
      ],
      "source": [
        "%%sql\n",
        "SELECT      PR.ProductName, PR.ProductPrice, SC.SubCategoryName, CT.CategoryName\n",
        "FROM        tblProducts AS PR\n",
        "INNER JOIN  tblSubCategory AS SC\n",
        "ON          PR.SubCategoryID = SC.SubCategoryID\n",
        "INNER JOIN  tblCategory AS CT\n",
        "ON          SC.CategoryID = CT.CategoryID"
      ]
    },
    {
      "cell_type": "markdown",
      "metadata": {
        "id": "ncSsfS2u5bws"
      },
      "source": [
        "#### ЛЕВОЕ соединение между tblproducts и tblcategory.<br>\n",
        "- из tblproducts показать productName и productPrice.\n",
        "- из tblcategory показать имя_категории."
      ]
    },
    {
      "cell_type": "code",
      "execution_count": null,
      "metadata": {
        "id": "huqoMCEz5bws",
        "outputId": "ff801e5a-6e0c-40a1-ec8e-c733841a586d"
      },
      "outputs": [
        {
          "name": "stdout",
          "output_type": "stream",
          "text": [
            " * sqlite:///SQL_Server_Trail.db\n",
            "Done.\n"
          ]
        },
        {
          "data": {
            "text/html": [
              "<table>\n",
              "    <tr>\n",
              "        <th>ProductName</th>\n",
              "        <th>ProductPrice</th>\n",
              "        <th>CategoryName</th>\n",
              "    </tr>\n",
              "    <tr>\n",
              "        <td>Big Sink</td>\n",
              "        <td>5000</td>\n",
              "        <td>Kitchen</td>\n",
              "    </tr>\n",
              "    <tr>\n",
              "        <td>Small Sink</td>\n",
              "        <td>3500</td>\n",
              "        <td>Kitchen</td>\n",
              "    </tr>\n",
              "    <tr>\n",
              "        <td>Nirosta Sink</td>\n",
              "        <td>7500</td>\n",
              "        <td>Kitchen</td>\n",
              "    </tr>\n",
              "    <tr>\n",
              "        <td>Big Tap</td>\n",
              "        <td>2000</td>\n",
              "        <td>Kitchen</td>\n",
              "    </tr>\n",
              "    <tr>\n",
              "        <td>Small Tap</td>\n",
              "        <td>1000</td>\n",
              "        <td>Kitchen</td>\n",
              "    </tr>\n",
              "    <tr>\n",
              "        <td>Standard Tap</td>\n",
              "        <td>500</td>\n",
              "        <td>Kitchen</td>\n",
              "    </tr>\n",
              "    <tr>\n",
              "        <td>Big Capboard</td>\n",
              "        <td>4000</td>\n",
              "        <td>Kitchen</td>\n",
              "    </tr>\n",
              "    <tr>\n",
              "        <td>Small Capboard</td>\n",
              "        <td>2500</td>\n",
              "        <td>Kitchen</td>\n",
              "    </tr>\n",
              "    <tr>\n",
              "        <td>IKEA Capboard</td>\n",
              "        <td>2000</td>\n",
              "        <td>Kitchen</td>\n",
              "    </tr>\n",
              "    <tr>\n",
              "        <td>Big Couch</td>\n",
              "        <td>4552</td>\n",
              "        <td>Living Room</td>\n",
              "    </tr>\n",
              "    <tr>\n",
              "        <td>Small Couch</td>\n",
              "        <td>2500</td>\n",
              "        <td>Living Room</td>\n",
              "    </tr>\n",
              "    <tr>\n",
              "        <td>Leather Couch</td>\n",
              "        <td>1500</td>\n",
              "        <td>Living Room</td>\n",
              "    </tr>\n",
              "    <tr>\n",
              "        <td>Round Table</td>\n",
              "        <td>8000</td>\n",
              "        <td>Living Room</td>\n",
              "    </tr>\n",
              "    <tr>\n",
              "        <td>Rectangle Table</td>\n",
              "        <td>5000</td>\n",
              "        <td>Living Room</td>\n",
              "    </tr>\n",
              "    <tr>\n",
              "        <td>IKEA Table</td>\n",
              "        <td>3500</td>\n",
              "        <td>Living Room</td>\n",
              "    </tr>\n",
              "    <tr>\n",
              "        <td>American comfort</td>\n",
              "        <td>9000</td>\n",
              "        <td>Living Room</td>\n",
              "    </tr>\n",
              "    <tr>\n",
              "        <td>IKEA Single Chair</td>\n",
              "        <td>3500</td>\n",
              "        <td>Living Room</td>\n",
              "    </tr>\n",
              "    <tr>\n",
              "        <td>Beytily Chair</td>\n",
              "        <td>4000</td>\n",
              "        <td>Living Room</td>\n",
              "    </tr>\n",
              "    <tr>\n",
              "        <td>King size bed</td>\n",
              "        <td>9500</td>\n",
              "        <td>Bedroom</td>\n",
              "    </tr>\n",
              "    <tr>\n",
              "        <td>Queen size bed</td>\n",
              "        <td>11000</td>\n",
              "        <td>Bedroom</td>\n",
              "    </tr>\n",
              "    <tr>\n",
              "        <td>Single size bed</td>\n",
              "        <td>6000</td>\n",
              "        <td>Bedroom</td>\n",
              "    </tr>\n",
              "    <tr>\n",
              "        <td>IKEA Desk</td>\n",
              "        <td>1500</td>\n",
              "        <td>Bedroom</td>\n",
              "    </tr>\n",
              "    <tr>\n",
              "        <td>Whole wood Desk</td>\n",
              "        <td>4500</td>\n",
              "        <td>Bedroom</td>\n",
              "    </tr>\n",
              "    <tr>\n",
              "        <td>Plywood Desk</td>\n",
              "        <td>1000</td>\n",
              "        <td>Bedroom</td>\n",
              "    </tr>\n",
              "    <tr>\n",
              "        <td>Big Mirror</td>\n",
              "        <td>1500</td>\n",
              "        <td>Bedroom</td>\n",
              "    </tr>\n",
              "    <tr>\n",
              "        <td>Small Mirror</td>\n",
              "        <td>500</td>\n",
              "        <td>Bedroom</td>\n",
              "    </tr>\n",
              "    <tr>\n",
              "        <td>Personal Mirror</td>\n",
              "        <td>2500</td>\n",
              "        <td>Bedroom</td>\n",
              "    </tr>\n",
              "    <tr>\n",
              "        <td>56 inch Samsung</td>\n",
              "        <td>5500</td>\n",
              "        <td>Electrical appliance</td>\n",
              "    </tr>\n",
              "    <tr>\n",
              "        <td>32 inch HP</td>\n",
              "        <td>3500</td>\n",
              "        <td>Electrical appliance</td>\n",
              "    </tr>\n",
              "    <tr>\n",
              "        <td>21 inch DELL</td>\n",
              "        <td>2700</td>\n",
              "        <td>Electrical appliance</td>\n",
              "    </tr>\n",
              "    <tr>\n",
              "        <td>Bosh Machine</td>\n",
              "        <td>7000</td>\n",
              "        <td>Electrical appliance</td>\n",
              "    </tr>\n",
              "    <tr>\n",
              "        <td>Samsung Machine</td>\n",
              "        <td>5000</td>\n",
              "        <td>Electrical appliance</td>\n",
              "    </tr>\n",
              "    <tr>\n",
              "        <td>Makita Machine</td>\n",
              "        <td>4500</td>\n",
              "        <td>Electrical appliance</td>\n",
              "    </tr>\n",
              "    <tr>\n",
              "        <td>Big Heater</td>\n",
              "        <td>500</td>\n",
              "        <td>Electrical appliance</td>\n",
              "    </tr>\n",
              "    <tr>\n",
              "        <td>Small Heater</td>\n",
              "        <td>350</td>\n",
              "        <td>Electrical appliance</td>\n",
              "    </tr>\n",
              "    <tr>\n",
              "        <td>Rocket Heater</td>\n",
              "        <td>200</td>\n",
              "        <td>Electrical appliance</td>\n",
              "    </tr>\n",
              "    <tr>\n",
              "        <td>Coffee</td>\n",
              "        <td>5</td>\n",
              "        <td>None</td>\n",
              "    </tr>\n",
              "    <tr>\n",
              "        <td>brown suger</td>\n",
              "        <td>0.5</td>\n",
              "        <td>None</td>\n",
              "    </tr>\n",
              "    <tr>\n",
              "        <td>Tea</td>\n",
              "        <td>3</td>\n",
              "        <td>None</td>\n",
              "    </tr>\n",
              "    <tr>\n",
              "        <td>biscuit</td>\n",
              "        <td>6</td>\n",
              "        <td>None</td>\n",
              "    </tr>\n",
              "</table>"
            ],
            "text/plain": [
              "[('Big Sink', 5000, 'Kitchen'),\n",
              " ('Small Sink', 3500, 'Kitchen'),\n",
              " ('Nirosta Sink', 7500, 'Kitchen'),\n",
              " ('Big Tap', 2000, 'Kitchen'),\n",
              " ('Small Tap', 1000, 'Kitchen'),\n",
              " ('Standard Tap', 500, 'Kitchen'),\n",
              " ('Big Capboard', 4000, 'Kitchen'),\n",
              " ('Small Capboard', 2500, 'Kitchen'),\n",
              " ('IKEA Capboard', 2000, 'Kitchen'),\n",
              " ('Big Couch', 4552, 'Living Room'),\n",
              " ('Small Couch', 2500, 'Living Room'),\n",
              " ('Leather Couch', 1500, 'Living Room'),\n",
              " ('Round Table', 8000, 'Living Room'),\n",
              " ('Rectangle Table', 5000, 'Living Room'),\n",
              " ('IKEA Table', 3500, 'Living Room'),\n",
              " ('American comfort', 9000, 'Living Room'),\n",
              " ('IKEA Single Chair', 3500, 'Living Room'),\n",
              " ('Beytily Chair', 4000, 'Living Room'),\n",
              " ('King size bed', 9500, 'Bedroom'),\n",
              " ('Queen size bed', 11000, 'Bedroom'),\n",
              " ('Single size bed', 6000, 'Bedroom'),\n",
              " ('IKEA Desk', 1500, 'Bedroom'),\n",
              " ('Whole wood Desk', 4500, 'Bedroom'),\n",
              " ('Plywood Desk', 1000, 'Bedroom'),\n",
              " ('Big Mirror', 1500, 'Bedroom'),\n",
              " ('Small Mirror', 500, 'Bedroom'),\n",
              " ('Personal Mirror', 2500, 'Bedroom'),\n",
              " ('56 inch Samsung', 5500, 'Electrical appliance'),\n",
              " ('32 inch HP', 3500, 'Electrical appliance'),\n",
              " ('21 inch DELL', 2700, 'Electrical appliance'),\n",
              " ('Bosh Machine', 7000, 'Electrical appliance'),\n",
              " ('Samsung Machine', 5000, 'Electrical appliance'),\n",
              " ('Makita Machine', 4500, 'Electrical appliance'),\n",
              " ('Big Heater', 500, 'Electrical appliance'),\n",
              " ('Small Heater', 350, 'Electrical appliance'),\n",
              " ('Rocket Heater', 200, 'Electrical appliance'),\n",
              " ('Coffee', 5, None),\n",
              " ('brown suger', 0.5, None),\n",
              " ('Tea', 3, None),\n",
              " ('biscuit', 6, None)]"
            ]
          },
          "execution_count": 25,
          "metadata": {},
          "output_type": "execute_result"
        }
      ],
      "source": [
        "%%sql\n",
        "SELECT      PR.ProductName, PR.ProductPrice, CT.CategoryName\n",
        "FROM        tblProducts AS PR\n",
        "LEFT JOIN   tblSubCategory AS SC\n",
        "ON          PR.SubCategoryID = SC.SubCategoryID\n",
        "LEFT JOIN   tblCategory AS CT\n",
        "ON          SC.CategoryID = CT.CategoryID"
      ]
    },
    {
      "cell_type": "markdown",
      "metadata": {
        "id": "TspwzxEe5bws"
      },
      "source": [
        "#### Показать сумарную цену продукта по названию категории в порядке от макс до мин.\n"
      ]
    },
    {
      "cell_type": "code",
      "execution_count": null,
      "metadata": {
        "id": "507WkkST5bws",
        "outputId": "5a774fce-b012-4707-e890-a779bcf7afe4"
      },
      "outputs": [
        {
          "name": "stderr",
          "output_type": "stream",
          "text": [
            "UsageError: Cell magic `%%sql` not found.\n"
          ]
        }
      ],
      "source": [
        "%%sql\n",
        "SELECT      CT.CategoryName, SUM(PR.ProductPrice) AS [Total Price]\n",
        "FROM        tblProducts AS PR\n",
        "Left JOIN  tblSubCategory AS SC\n",
        "ON          PR.SubCategoryID = SC.SubCategoryID\n",
        "Left JOIN  tblCategory AS CT\n",
        "ON          SC.CategoryID = CT.CategoryID\n",
        "GROUP BY    CT.CategoryName\n",
        "ORDER BY    SUM(PR.ProductPrice) DESC\n"
      ]
    },
    {
      "cell_type": "markdown",
      "metadata": {
        "id": "u4QhoI235bwt"
      },
      "source": [
        "-Вопрос 7 - показать название самого дорогого товара с подкатегорией и категорией.\n"
      ]
    },
    {
      "cell_type": "code",
      "execution_count": null,
      "metadata": {
        "id": "d8HMifj-5bwt",
        "outputId": "46332aa3-b513-485d-c6fe-e860987bfd8e"
      },
      "outputs": [
        {
          "name": "stdout",
          "output_type": "stream",
          "text": [
            " * sqlite:///SQL_Server_Trail.db\n",
            "Done.\n"
          ]
        },
        {
          "data": {
            "text/html": [
              "<table>\n",
              "    <tr>\n",
              "        <th>ProductName</th>\n",
              "        <th>ProductPrice</th>\n",
              "        <th>SubCategoryName</th>\n",
              "        <th>CategoryName</th>\n",
              "    </tr>\n",
              "    <tr>\n",
              "        <td>Queen size bed</td>\n",
              "        <td>11000</td>\n",
              "        <td>Bed</td>\n",
              "        <td>Bedroom</td>\n",
              "    </tr>\n",
              "</table>"
            ],
            "text/plain": [
              "[('Queen size bed', 11000, 'Bed', 'Bedroom')]"
            ]
          },
          "execution_count": 31,
          "metadata": {},
          "output_type": "execute_result"
        }
      ],
      "source": [
        "%%sql\n",
        "SELECT      PR.ProductName, PR.ProductPrice, SC.SubCategoryName, CT.CategoryName\n",
        "FROM        tblProducts AS PR\n",
        "LEFT JOIN   tblSubCategory AS SC\n",
        "ON          PR.SubCategoryID = SC.SubCategoryID\n",
        "LEFT JOIN   tblCategory AS CT\n",
        "ON          SC.CategoryID = CT.CategoryID\n",
        "ORDER BY    PR.ProductPrice DESC\n",
        "LIMIT 1"
      ]
    },
    {
      "cell_type": "code",
      "execution_count": null,
      "metadata": {
        "id": "cLjxwj485bwt",
        "outputId": "b1c57311-2800-4161-a830-9ec9ba0c4254"
      },
      "outputs": [
        {
          "name": "stdout",
          "output_type": "stream",
          "text": [
            " * sqlite:///SQL_Server_Trail.db\n",
            "Done.\n"
          ]
        },
        {
          "data": {
            "text/html": [
              "<table>\n",
              "    <tr>\n",
              "        <th>ProductName</th>\n",
              "        <th>MAX(ProductPrice)</th>\n",
              "        <th>SubCategoryName</th>\n",
              "        <th>CategoryName</th>\n",
              "    </tr>\n",
              "    <tr>\n",
              "        <td>Queen size bed</td>\n",
              "        <td>11000</td>\n",
              "        <td>Bed</td>\n",
              "        <td>Bedroom</td>\n",
              "    </tr>\n",
              "</table>"
            ],
            "text/plain": [
              "[('Queen size bed', 11000, 'Bed', 'Bedroom')]"
            ]
          },
          "execution_count": 32,
          "metadata": {},
          "output_type": "execute_result"
        }
      ],
      "source": [
        "%%sql\n",
        "SELECT ProductName, MAX(ProductPrice), SubCategoryName, CategoryName\n",
        "FROM tblProducts JOIN tblSubCategory\n",
        "ON tblProducts.SubCategoryID = tblSubCategory.SubCategoryID\n",
        "JOIN tblCategory\n",
        "ON tblSubCategory.CategoryID = tblCategory.CategoryID"
      ]
    },
    {
      "cell_type": "markdown",
      "metadata": {
        "id": "802QxYQf5bwt"
      },
      "source": [
        "-- -Вопрос 8 - показать название самого дорогого продукта в категории name = 'kitchen'.\n",
        "-- если у вас есть нулевые значения, не показывайте их!"
      ]
    },
    {
      "cell_type": "code",
      "execution_count": null,
      "metadata": {
        "id": "fkhfIdgr5bwt",
        "outputId": "a49cc9b0-e903-4709-efd7-71cde2666589"
      },
      "outputs": [
        {
          "name": "stdout",
          "output_type": "stream",
          "text": [
            " * sqlite:///SQL_Server_Trail.db\n",
            "Done.\n"
          ]
        },
        {
          "data": {
            "text/html": [
              "<table>\n",
              "    <tr>\n",
              "        <th>ProductName</th>\n",
              "        <th>ProductPrice</th>\n",
              "        <th>SubCategoryName</th>\n",
              "        <th>CategoryName</th>\n",
              "    </tr>\n",
              "    <tr>\n",
              "        <td>Nirosta Sink</td>\n",
              "        <td>7500</td>\n",
              "        <td>Sink</td>\n",
              "        <td>Kitchen</td>\n",
              "    </tr>\n",
              "</table>"
            ],
            "text/plain": [
              "[('Nirosta Sink', 7500, 'Sink', 'Kitchen')]"
            ]
          },
          "execution_count": 33,
          "metadata": {},
          "output_type": "execute_result"
        }
      ],
      "source": [
        "%%sql\n",
        "SELECT      PR.ProductName, PR.ProductPrice, SC.SubCategoryName, CT.CategoryName\n",
        "FROM        tblProducts AS PR\n",
        "LEFT JOIN   tblSubCategory AS SC\n",
        "ON          PR.SubCategoryID = SC.SubCategoryID\n",
        "LEFT JOIN   tblCategory AS CT\n",
        "ON          SC.CategoryID = CT.CategoryID\n",
        "WHERE       CT.CategoryName = 'Kitchen'\n",
        "ORDER BY    PR.ProductPrice DESC\n",
        "LIMIT 1"
      ]
    },
    {
      "cell_type": "markdown",
      "metadata": {
        "id": "NFsZDuQI5bwt"
      },
      "source": [
        "Замена вопросов с пустыми значениями -- используйте таблицу tblKingOfAnimals"
      ]
    },
    {
      "cell_type": "code",
      "execution_count": null,
      "metadata": {
        "id": "VX7wxmpH5bwt",
        "outputId": "adef2f71-7211-44db-9323-6e72379c5051"
      },
      "outputs": [
        {
          "name": "stdout",
          "output_type": "stream",
          "text": [
            " * sqlite:///SQL_Server_Trail.db\n",
            "Done.\n"
          ]
        },
        {
          "data": {
            "text/plain": [
              "[]"
            ]
          },
          "execution_count": 35,
          "metadata": {},
          "output_type": "execute_result"
        }
      ],
      "source": [
        "%%sql\n",
        "CREATE TABLE tblKingOfAnimals\n",
        "(\n",
        "AnimalID INT,\n",
        "AnimalName NVARCHAR (30),\n",
        "AnimalDominant INT,\n",
        "PRIMARY KEY(AnimalID))"
      ]
    },
    {
      "cell_type": "code",
      "execution_count": null,
      "metadata": {
        "id": "fdD4NORZ5bwu",
        "outputId": "c9034391-3670-49b3-8f1c-cb6d2cea0434"
      },
      "outputs": [
        {
          "name": "stdout",
          "output_type": "stream",
          "text": [
            " * sqlite:///SQL_Server_Trail.db\n",
            "6 rows affected.\n"
          ]
        },
        {
          "data": {
            "text/plain": [
              "[]"
            ]
          },
          "execution_count": 36,
          "metadata": {},
          "output_type": "execute_result"
        }
      ],
      "source": [
        "%%sql\n",
        "INSERT INTO tblKingOfAnimals VALUES\n",
        "(1,'Snake',2),\n",
        "(2,'Wolverine',5),\n",
        "(3,'Wolf',6),\n",
        "(4,'Eagle',5),\n",
        "(5,'Hyena',6),\n",
        "(6,'Lion',null)"
      ]
    },
    {
      "cell_type": "code",
      "execution_count": null,
      "metadata": {
        "id": "lg0gnfhS5bwu",
        "outputId": "74b26700-d4a5-4257-c5bb-4817341acf94"
      },
      "outputs": [
        {
          "name": "stdout",
          "output_type": "stream",
          "text": [
            " * sqlite:///SQL_Server_Trail.db\n",
            "Done.\n"
          ]
        },
        {
          "data": {
            "text/html": [
              "<table>\n",
              "    <tr>\n",
              "        <th>AnimalID</th>\n",
              "        <th>AnimalName</th>\n",
              "        <th>AnimalDominant</th>\n",
              "    </tr>\n",
              "    <tr>\n",
              "        <td>1</td>\n",
              "        <td>Snake</td>\n",
              "        <td>2</td>\n",
              "    </tr>\n",
              "    <tr>\n",
              "        <td>2</td>\n",
              "        <td>Wolverine</td>\n",
              "        <td>5</td>\n",
              "    </tr>\n",
              "    <tr>\n",
              "        <td>3</td>\n",
              "        <td>Wolf</td>\n",
              "        <td>6</td>\n",
              "    </tr>\n",
              "    <tr>\n",
              "        <td>4</td>\n",
              "        <td>Eagle</td>\n",
              "        <td>5</td>\n",
              "    </tr>\n",
              "    <tr>\n",
              "        <td>5</td>\n",
              "        <td>Hyena</td>\n",
              "        <td>6</td>\n",
              "    </tr>\n",
              "    <tr>\n",
              "        <td>6</td>\n",
              "        <td>Lion</td>\n",
              "        <td>None</td>\n",
              "    </tr>\n",
              "</table>"
            ],
            "text/plain": [
              "[(1, 'Snake', 2),\n",
              " (2, 'Wolverine', 5),\n",
              " (3, 'Wolf', 6),\n",
              " (4, 'Eagle', 5),\n",
              " (5, 'Hyena', 6),\n",
              " (6, 'Lion', None)]"
            ]
          },
          "execution_count": 38,
          "metadata": {},
          "output_type": "execute_result"
        }
      ],
      "source": [
        "%%sql\n",
        "select *\n",
        "from tblKingOfAnimals"
      ]
    },
    {
      "cell_type": "markdown",
      "metadata": {
        "id": "mOfcIDXa5bwu"
      },
      "source": [
        "\n",
        "-- Вопрос 1 – создайте самообъединение, в котором отображаются два столбца – Имя животного и Имя доминирующего животного, чтобы для каждого животного вы видели, кто является его доминирующим животным. замените нулевое значение функцией «Царь животных» ИСПОЛЬЗОВАТЬ ISNULL.\n",
        "-- Ответ:\n",
        "\n"
      ]
    },
    {
      "cell_type": "code",
      "execution_count": null,
      "metadata": {
        "id": "u0Ql3OS05bwu",
        "outputId": "742d928c-0f6b-4d3b-a095-62893eacfb77"
      },
      "outputs": [
        {
          "name": "stdout",
          "output_type": "stream",
          "text": [
            " * sqlite:///SQL_Server_Trail.db\n",
            "Done.\n"
          ]
        },
        {
          "data": {
            "text/html": [
              "<table>\n",
              "    <tr>\n",
              "        <th>AnimalName</th>\n",
              "        <th>AnimalName_1</th>\n",
              "    </tr>\n",
              "    <tr>\n",
              "        <td>Snake</td>\n",
              "        <td>Wolverine</td>\n",
              "    </tr>\n",
              "    <tr>\n",
              "        <td>Wolverine</td>\n",
              "        <td>Hyena</td>\n",
              "    </tr>\n",
              "    <tr>\n",
              "        <td>Wolf</td>\n",
              "        <td>Lion</td>\n",
              "    </tr>\n",
              "    <tr>\n",
              "        <td>Eagle</td>\n",
              "        <td>Hyena</td>\n",
              "    </tr>\n",
              "    <tr>\n",
              "        <td>Hyena</td>\n",
              "        <td>Lion</td>\n",
              "    </tr>\n",
              "    <tr>\n",
              "        <td>Lion</td>\n",
              "        <td>None</td>\n",
              "    </tr>\n",
              "</table>"
            ],
            "text/plain": [
              "[('Snake', 'Wolverine'),\n",
              " ('Wolverine', 'Hyena'),\n",
              " ('Wolf', 'Lion'),\n",
              " ('Eagle', 'Hyena'),\n",
              " ('Hyena', 'Lion'),\n",
              " ('Lion', None)]"
            ]
          },
          "execution_count": 41,
          "metadata": {},
          "output_type": "execute_result"
        }
      ],
      "source": [
        "%%sql\n",
        "SELECT      A.AnimalName, b.AnimalName\n",
        "\n",
        "FROM        tblKingOfAnimals AS A\n",
        "LEFT JOIN   tblKingOfAnimals AS B\n",
        "ON          A.AnimalDominant = B.AnimalID"
      ]
    },
    {
      "cell_type": "markdown",
      "metadata": {
        "id": "mdM8FRq35bwv"
      },
      "source": [
        "-- Тема 06 - Математические функции -- используйте таблицу tblGenderMeasurements.\n",
        "-- Вопрос 1. Создайте AVG для каждого из параметров: Возраст, Рост и Вес по полу. точно, увеличьте число AVG для каждого из параметров.\n",
        "-- Ответ:\n",
        "\n",
        "-- Вопрос 2. Создайте тот же запрос, но теперь укажите числа AVG.\n",
        "-- Ответ:\n",
        "\n",
        "\n",
        "-- Вопрос 3. Создайте тот же запрос, но теперь округляйте числа AVG.\n",
        "-- Ответ:"
      ]
    },
    {
      "cell_type": "code",
      "execution_count": null,
      "metadata": {
        "id": "aXTsOES85bwv",
        "outputId": "3cde3b8f-8f0a-4447-c0b0-6999f96cfbff"
      },
      "outputs": [
        {
          "name": "stdout",
          "output_type": "stream",
          "text": [
            " * sqlite:///SQL_Server_Trail.db\n",
            "Done.\n"
          ]
        },
        {
          "data": {
            "text/plain": [
              "[]"
            ]
          },
          "execution_count": 44,
          "metadata": {},
          "output_type": "execute_result"
        }
      ],
      "source": [
        "%%sql\n",
        "CREATE TABLE tblGenderMeasurements\n",
        "(\n",
        "NumerID INT ,\n",
        "Name    NVARCHAR (30),\n",
        "Gender  NVARCHAR (20),\n",
        "Age     DECIMAL (8,2),\n",
        "Height  DECIMAL (8,2),\n",
        "Weight  DECIMAL (8,2),\n",
        "PRIMARY KEY(NumerID)\n",
        ")"
      ]
    },
    {
      "cell_type": "code",
      "execution_count": null,
      "metadata": {
        "id": "0aO2V6WB5bwv",
        "outputId": "9972dc78-1ea8-4d5c-ce70-89ee9d2c2c17"
      },
      "outputs": [
        {
          "name": "stdout",
          "output_type": "stream",
          "text": [
            " * sqlite:///SQL_Server_Trail.db\n",
            "8 rows affected.\n"
          ]
        },
        {
          "data": {
            "text/plain": [
              "[]"
            ]
          },
          "execution_count": 45,
          "metadata": {},
          "output_type": "execute_result"
        }
      ],
      "source": [
        "%%sql\n",
        "INSERT INTO tblGenderMeasurements VALUES\n",
        "(1,'Tomer','Male',31.4,1.73,68.5),\n",
        "(2,'Shai','Male',28.5,1.81,73.8),\n",
        "(3,'Noam','Male',32.3,1.77,80.8),\n",
        "(4,'Ben','Male',27.7,1.86,105.9),\n",
        "(5,'Rita','Female',32.2,1.65,61.8),\n",
        "(6,'Simha','Female',29.5,1.73,55.6),\n",
        "(7,'Efrat','Female',35.2,1.70,59.4),\n",
        "(8,'Miri','Female',26.4,1.78,63.8)"
      ]
    },
    {
      "cell_type": "markdown",
      "metadata": {
        "id": "fVBOCR3V5bwv"
      },
      "source": [
        "-- Вопрос 1. Создайте AVG для каждого из параметров: Возраст, Рост и Вес по полу. точно, увеличьте число AVG для каждого из параметров.\n",
        "-- Ответ:\n",
        "\n",
        "-- Вопрос 2. Создайте тот же запрос, но теперь укажите числа AVG.\n",
        "-- Ответ:\n",
        "\n",
        "\n",
        "-- Вопрос 3. Создайте тот же запрос, но теперь округляйте числа AVG.\n",
        "-- Ответ:\n"
      ]
    },
    {
      "cell_type": "code",
      "execution_count": null,
      "metadata": {
        "id": "-wBqgaLy5bwv",
        "outputId": "76691714-51b4-4759-8036-45cebc13cd05"
      },
      "outputs": [
        {
          "name": "stdout",
          "output_type": "stream",
          "text": [
            " * sqlite:///SQL_Server_Trail.db\n",
            "Done.\n"
          ]
        },
        {
          "data": {
            "text/html": [
              "<table>\n",
              "    <tr>\n",
              "        <th>AVG(Age)</th>\n",
              "        <th>AVG(Height)</th>\n",
              "        <th>AVG(Weight)</th>\n",
              "    </tr>\n",
              "    <tr>\n",
              "        <td>30.825000000000003</td>\n",
              "        <td>1.715</td>\n",
              "        <td>60.150000000000006</td>\n",
              "    </tr>\n",
              "    <tr>\n",
              "        <td>29.974999999999998</td>\n",
              "        <td>1.7925000000000002</td>\n",
              "        <td>82.25</td>\n",
              "    </tr>\n",
              "</table>"
            ],
            "text/plain": [
              "[(30.825000000000003, 1.715, 60.150000000000006),\n",
              " (29.974999999999998, 1.7925000000000002, 82.25)]"
            ]
          },
          "execution_count": 50,
          "metadata": {},
          "output_type": "execute_result"
        }
      ],
      "source": [
        "%%sql\n",
        "SELECT AVG(Age), AVG(Height), AVG(Weight)\n",
        "FROM tblGenderMeasurements\n",
        "GROUP BY gender"
      ]
    },
    {
      "cell_type": "code",
      "execution_count": null,
      "metadata": {
        "id": "bzdjRgqh5bwv",
        "outputId": "cfb5ba80-a35d-4fce-9aa7-9107ecc84d86"
      },
      "outputs": [
        {
          "name": "stdout",
          "output_type": "stream",
          "text": [
            " * sqlite:///SQL_Server_Trail.db\n",
            "Done.\n"
          ]
        },
        {
          "data": {
            "text/html": [
              "<table>\n",
              "    <tr>\n",
              "        <th>ROUND(AVG(Age),1)</th>\n",
              "        <th>ROUND(AVG(Height),1)</th>\n",
              "        <th>ROUND(AVG(Weight),1)</th>\n",
              "    </tr>\n",
              "    <tr>\n",
              "        <td>30.8</td>\n",
              "        <td>1.7</td>\n",
              "        <td>60.2</td>\n",
              "    </tr>\n",
              "    <tr>\n",
              "        <td>30.0</td>\n",
              "        <td>1.8</td>\n",
              "        <td>82.3</td>\n",
              "    </tr>\n",
              "</table>"
            ],
            "text/plain": [
              "[(30.8, 1.7, 60.2), (30.0, 1.8, 82.3)]"
            ]
          },
          "execution_count": 51,
          "metadata": {},
          "output_type": "execute_result"
        }
      ],
      "source": [
        "%%sql\n",
        "SELECT ROUND(AVG(Age),1) , ROUND(AVG(Height),1), ROUND(AVG(Weight),1)\n",
        "FROM tblGenderMeasurements\n",
        "GROUP BY gender\n",
        "\n"
      ]
    },
    {
      "cell_type": "markdown",
      "metadata": {
        "id": "ASn-GKQy5bww"
      },
      "source": [
        "Показать текущую дату"
      ]
    },
    {
      "cell_type": "code",
      "execution_count": null,
      "metadata": {
        "id": "07Erk-h05bww",
        "outputId": "ae822f79-3e0f-4286-eae5-389cabac3da1"
      },
      "outputs": [
        {
          "name": "stdout",
          "output_type": "stream",
          "text": [
            " * sqlite:///SQL_Server_Trail.db\n",
            "Done.\n"
          ]
        },
        {
          "data": {
            "text/html": [
              "<table>\n",
              "    <tr>\n",
              "        <th>date(&#x27;now&#x27;)</th>\n",
              "    </tr>\n",
              "    <tr>\n",
              "        <td>2022-07-08</td>\n",
              "    </tr>\n",
              "</table>"
            ],
            "text/plain": [
              "[('2022-07-08',)]"
            ]
          },
          "execution_count": 53,
          "metadata": {},
          "output_type": "execute_result"
        }
      ],
      "source": [
        "%%sql\n",
        "SELECT date('now');"
      ]
    },
    {
      "cell_type": "code",
      "execution_count": null,
      "metadata": {
        "id": "7Y0VtMX25bww",
        "outputId": "91448c78-1585-435b-e04c-a9af25cc28cf"
      },
      "outputs": [
        {
          "name": "stdout",
          "output_type": "stream",
          "text": [
            " * sqlite:///SQL_Server_Trail.db\n",
            "Done.\n"
          ]
        },
        {
          "data": {
            "text/html": [
              "<table>\n",
              "    <tr>\n",
              "        <th>strftime(&#x27;%Y %m %d&#x27;,&#x27;now&#x27;)</th>\n",
              "    </tr>\n",
              "    <tr>\n",
              "        <td>2022 07 08</td>\n",
              "    </tr>\n",
              "</table>"
            ],
            "text/plain": [
              "[('2022 07 08',)]"
            ]
          },
          "execution_count": 55,
          "metadata": {},
          "output_type": "execute_result"
        }
      ],
      "source": [
        "%%sql\n",
        "SELECT strftime('%Y %m %d','now');"
      ]
    },
    {
      "cell_type": "code",
      "execution_count": null,
      "metadata": {
        "id": "mCClz2cf5bww"
      },
      "outputs": [],
      "source": [
        "Показать текущую дату и время"
      ]
    },
    {
      "cell_type": "code",
      "execution_count": null,
      "metadata": {
        "id": "N8zJcQCI5bww",
        "outputId": "b246b7b1-bdbc-4e36-c388-b4c620f7454a"
      },
      "outputs": [
        {
          "name": "stdout",
          "output_type": "stream",
          "text": [
            " * sqlite:///SQL_Server_Trail.db\n",
            "Done.\n"
          ]
        },
        {
          "data": {
            "text/html": [
              "<table>\n",
              "    <tr>\n",
              "        <th>datetime(&#x27;now&#x27;,&#x27;localtime&#x27;)</th>\n",
              "    </tr>\n",
              "    <tr>\n",
              "        <td>2022-07-08 17:34:34</td>\n",
              "    </tr>\n",
              "</table>"
            ],
            "text/plain": [
              "[('2022-07-08 17:34:34',)]"
            ]
          },
          "execution_count": 54,
          "metadata": {},
          "output_type": "execute_result"
        }
      ],
      "source": [
        "%%sql\n",
        "select datetime('now','localtime')"
      ]
    },
    {
      "cell_type": "code",
      "execution_count": null,
      "metadata": {
        "id": "4MJnpfR75bwx"
      },
      "outputs": [],
      "source": [
        "cur = cnn.cursor()"
      ]
    },
    {
      "cell_type": "code",
      "execution_count": null,
      "metadata": {
        "id": "53MOTtBn5bwx"
      },
      "outputs": [],
      "source": [
        "df = pd.read_sql_query(\"SELECT PR.ProductName, PR.ProductPrice, SC.SubCategoryName FROM  tblProducts AS PR INNER JOIN  tblSubCategory AS SC ON          PR.SubCategoryID = SC.SubCategoryID \", cnn)"
      ]
    },
    {
      "cell_type": "code",
      "execution_count": null,
      "metadata": {
        "id": "LP0UhrY45bwx",
        "outputId": "42468d65-099f-4542-9217-b7317f4420f3"
      },
      "outputs": [
        {
          "data": {
            "text/html": [
              "<div>\n",
              "<style scoped>\n",
              "    .dataframe tbody tr th:only-of-type {\n",
              "        vertical-align: middle;\n",
              "    }\n",
              "\n",
              "    .dataframe tbody tr th {\n",
              "        vertical-align: top;\n",
              "    }\n",
              "\n",
              "    .dataframe thead th {\n",
              "        text-align: right;\n",
              "    }\n",
              "</style>\n",
              "<table border=\"1\" class=\"dataframe\">\n",
              "  <thead>\n",
              "    <tr style=\"text-align: right;\">\n",
              "      <th></th>\n",
              "      <th>ProductName</th>\n",
              "      <th>ProductPrice</th>\n",
              "      <th>SubCategoryName</th>\n",
              "    </tr>\n",
              "  </thead>\n",
              "  <tbody>\n",
              "    <tr>\n",
              "      <th>0</th>\n",
              "      <td>Big Sink</td>\n",
              "      <td>5000</td>\n",
              "      <td>Sink</td>\n",
              "    </tr>\n",
              "    <tr>\n",
              "      <th>1</th>\n",
              "      <td>Small Sink</td>\n",
              "      <td>3500</td>\n",
              "      <td>Sink</td>\n",
              "    </tr>\n",
              "    <tr>\n",
              "      <th>2</th>\n",
              "      <td>Nirosta Sink</td>\n",
              "      <td>7500</td>\n",
              "      <td>Sink</td>\n",
              "    </tr>\n",
              "    <tr>\n",
              "      <th>3</th>\n",
              "      <td>Big Tap</td>\n",
              "      <td>2000</td>\n",
              "      <td>Tap</td>\n",
              "    </tr>\n",
              "    <tr>\n",
              "      <th>4</th>\n",
              "      <td>Small Tap</td>\n",
              "      <td>1000</td>\n",
              "      <td>Tap</td>\n",
              "    </tr>\n",
              "    <tr>\n",
              "      <th>5</th>\n",
              "      <td>Standard Tap</td>\n",
              "      <td>500</td>\n",
              "      <td>Tap</td>\n",
              "    </tr>\n",
              "    <tr>\n",
              "      <th>6</th>\n",
              "      <td>Big Capboard</td>\n",
              "      <td>4000</td>\n",
              "      <td>Capboard</td>\n",
              "    </tr>\n",
              "    <tr>\n",
              "      <th>7</th>\n",
              "      <td>Small Capboard</td>\n",
              "      <td>2500</td>\n",
              "      <td>Capboard</td>\n",
              "    </tr>\n",
              "    <tr>\n",
              "      <th>8</th>\n",
              "      <td>IKEA Capboard</td>\n",
              "      <td>2000</td>\n",
              "      <td>Capboard</td>\n",
              "    </tr>\n",
              "    <tr>\n",
              "      <th>9</th>\n",
              "      <td>Big Couch</td>\n",
              "      <td>4552</td>\n",
              "      <td>Couch</td>\n",
              "    </tr>\n",
              "    <tr>\n",
              "      <th>10</th>\n",
              "      <td>Small Couch</td>\n",
              "      <td>2500</td>\n",
              "      <td>Couch</td>\n",
              "    </tr>\n",
              "    <tr>\n",
              "      <th>11</th>\n",
              "      <td>Leather Couch</td>\n",
              "      <td>1500</td>\n",
              "      <td>Couch</td>\n",
              "    </tr>\n",
              "    <tr>\n",
              "      <th>12</th>\n",
              "      <td>Round Table</td>\n",
              "      <td>8000</td>\n",
              "      <td>Dining table</td>\n",
              "    </tr>\n",
              "    <tr>\n",
              "      <th>13</th>\n",
              "      <td>Rectangle Table</td>\n",
              "      <td>5000</td>\n",
              "      <td>Dining table</td>\n",
              "    </tr>\n",
              "    <tr>\n",
              "      <th>14</th>\n",
              "      <td>IKEA Table</td>\n",
              "      <td>3500</td>\n",
              "      <td>Dining table</td>\n",
              "    </tr>\n",
              "    <tr>\n",
              "      <th>15</th>\n",
              "      <td>American comfort</td>\n",
              "      <td>9000</td>\n",
              "      <td>Easy Chair</td>\n",
              "    </tr>\n",
              "    <tr>\n",
              "      <th>16</th>\n",
              "      <td>IKEA Single Chair</td>\n",
              "      <td>3500</td>\n",
              "      <td>Easy Chair</td>\n",
              "    </tr>\n",
              "    <tr>\n",
              "      <th>17</th>\n",
              "      <td>Beytily Chair</td>\n",
              "      <td>4000</td>\n",
              "      <td>Easy Chair</td>\n",
              "    </tr>\n",
              "    <tr>\n",
              "      <th>18</th>\n",
              "      <td>King size bed</td>\n",
              "      <td>9500</td>\n",
              "      <td>Bed</td>\n",
              "    </tr>\n",
              "    <tr>\n",
              "      <th>19</th>\n",
              "      <td>Queen size bed</td>\n",
              "      <td>11000</td>\n",
              "      <td>Bed</td>\n",
              "    </tr>\n",
              "    <tr>\n",
              "      <th>20</th>\n",
              "      <td>Single size bed</td>\n",
              "      <td>6000</td>\n",
              "      <td>Bed</td>\n",
              "    </tr>\n",
              "    <tr>\n",
              "      <th>21</th>\n",
              "      <td>IKEA Desk</td>\n",
              "      <td>1500</td>\n",
              "      <td>Desk</td>\n",
              "    </tr>\n",
              "    <tr>\n",
              "      <th>22</th>\n",
              "      <td>Whole wood Desk</td>\n",
              "      <td>4500</td>\n",
              "      <td>Desk</td>\n",
              "    </tr>\n",
              "    <tr>\n",
              "      <th>23</th>\n",
              "      <td>Plywood Desk</td>\n",
              "      <td>1000</td>\n",
              "      <td>Desk</td>\n",
              "    </tr>\n",
              "    <tr>\n",
              "      <th>24</th>\n",
              "      <td>Big Mirror</td>\n",
              "      <td>1500</td>\n",
              "      <td>Mirror</td>\n",
              "    </tr>\n",
              "    <tr>\n",
              "      <th>25</th>\n",
              "      <td>Small Mirror</td>\n",
              "      <td>500</td>\n",
              "      <td>Mirror</td>\n",
              "    </tr>\n",
              "    <tr>\n",
              "      <th>26</th>\n",
              "      <td>Personal Mirror</td>\n",
              "      <td>2500</td>\n",
              "      <td>Mirror</td>\n",
              "    </tr>\n",
              "    <tr>\n",
              "      <th>27</th>\n",
              "      <td>56 inch Samsung</td>\n",
              "      <td>5500</td>\n",
              "      <td>Television</td>\n",
              "    </tr>\n",
              "    <tr>\n",
              "      <th>28</th>\n",
              "      <td>32 inch HP</td>\n",
              "      <td>3500</td>\n",
              "      <td>Television</td>\n",
              "    </tr>\n",
              "    <tr>\n",
              "      <th>29</th>\n",
              "      <td>21 inch DELL</td>\n",
              "      <td>2700</td>\n",
              "      <td>Television</td>\n",
              "    </tr>\n",
              "    <tr>\n",
              "      <th>30</th>\n",
              "      <td>Bosh Machine</td>\n",
              "      <td>7000</td>\n",
              "      <td>Washing Machine</td>\n",
              "    </tr>\n",
              "    <tr>\n",
              "      <th>31</th>\n",
              "      <td>Samsung Machine</td>\n",
              "      <td>5000</td>\n",
              "      <td>Washing Machine</td>\n",
              "    </tr>\n",
              "    <tr>\n",
              "      <th>32</th>\n",
              "      <td>Makita Machine</td>\n",
              "      <td>4500</td>\n",
              "      <td>Washing Machine</td>\n",
              "    </tr>\n",
              "    <tr>\n",
              "      <th>33</th>\n",
              "      <td>Big Heater</td>\n",
              "      <td>500</td>\n",
              "      <td>Electric Heater</td>\n",
              "    </tr>\n",
              "    <tr>\n",
              "      <th>34</th>\n",
              "      <td>Small Heater</td>\n",
              "      <td>350</td>\n",
              "      <td>Electric Heater</td>\n",
              "    </tr>\n",
              "    <tr>\n",
              "      <th>35</th>\n",
              "      <td>Rocket Heater</td>\n",
              "      <td>200</td>\n",
              "      <td>Electric Heater</td>\n",
              "    </tr>\n",
              "  </tbody>\n",
              "</table>\n",
              "</div>"
            ],
            "text/plain": [
              "          ProductName  ProductPrice  SubCategoryName\n",
              "0            Big Sink          5000             Sink\n",
              "1          Small Sink          3500             Sink\n",
              "2        Nirosta Sink          7500             Sink\n",
              "3             Big Tap          2000              Tap\n",
              "4           Small Tap          1000              Tap\n",
              "5        Standard Tap           500              Tap\n",
              "6        Big Capboard          4000         Capboard\n",
              "7      Small Capboard          2500         Capboard\n",
              "8       IKEA Capboard          2000         Capboard\n",
              "9           Big Couch          4552            Couch\n",
              "10        Small Couch          2500            Couch\n",
              "11      Leather Couch          1500            Couch\n",
              "12        Round Table          8000     Dining table\n",
              "13    Rectangle Table          5000     Dining table\n",
              "14         IKEA Table          3500     Dining table\n",
              "15   American comfort          9000       Easy Chair\n",
              "16  IKEA Single Chair          3500       Easy Chair\n",
              "17      Beytily Chair          4000       Easy Chair\n",
              "18      King size bed          9500              Bed\n",
              "19     Queen size bed         11000              Bed\n",
              "20    Single size bed          6000              Bed\n",
              "21          IKEA Desk          1500             Desk\n",
              "22    Whole wood Desk          4500             Desk\n",
              "23       Plywood Desk          1000             Desk\n",
              "24         Big Mirror          1500           Mirror\n",
              "25       Small Mirror           500           Mirror\n",
              "26    Personal Mirror          2500           Mirror\n",
              "27    56 inch Samsung          5500       Television\n",
              "28         32 inch HP          3500       Television\n",
              "29       21 inch DELL          2700       Television\n",
              "30       Bosh Machine          7000  Washing Machine\n",
              "31    Samsung Machine          5000  Washing Machine\n",
              "32     Makita Machine          4500  Washing Machine\n",
              "33         Big Heater           500  Electric Heater\n",
              "34       Small Heater           350  Electric Heater\n",
              "35      Rocket Heater           200  Electric Heater"
            ]
          },
          "execution_count": 89,
          "metadata": {},
          "output_type": "execute_result"
        }
      ],
      "source": [
        "df"
      ]
    },
    {
      "cell_type": "code",
      "execution_count": null,
      "metadata": {
        "id": "n5cywH8H5bwx"
      },
      "outputs": [],
      "source": [
        "df.to_excel('kk.xlsx')"
      ]
    },
    {
      "cell_type": "code",
      "execution_count": null,
      "metadata": {
        "id": "DSRtmWTd5bwx"
      },
      "outputs": [],
      "source": []
    }
  ],
  "metadata": {
    "kernelspec": {
      "display_name": "Python 3",
      "language": "python",
      "name": "python3"
    },
    "language_info": {
      "codemirror_mode": {
        "name": "ipython",
        "version": 3
      },
      "file_extension": ".py",
      "mimetype": "text/x-python",
      "name": "python",
      "nbconvert_exporter": "python",
      "pygments_lexer": "ipython3",
      "version": "3.8.3"
    },
    "colab": {
      "provenance": []
    }
  },
  "nbformat": 4,
  "nbformat_minor": 0
}