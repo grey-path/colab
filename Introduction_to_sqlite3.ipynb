{
  "cells": [
    {
      "cell_type": "markdown",
      "metadata": {
        "id": "GR0-4Ozh9Oi7"
      },
      "source": [
        "**Introduction to the `sqlite3` Library**\n",
        "========================================================\n"
      ]
    },
    {
      "cell_type": "code",
      "source": [],
      "metadata": {
        "id": "2IfexCY47GZh"
      },
      "execution_count": null,
      "outputs": []
    },
    {
      "cell_type": "markdown",
      "metadata": {
        "id": "wo1bli3Z9OjA"
      },
      "source": [
        "**Relevant Links:**\n",
        "---------------\n",
        "\n",
        "*  Python `sqlite3` library documentation: https://docs.python.org/3/library/sqlite3.html#module-sqlite3   \n",
        "*  `SQLite` Documentation: https://www.sqlite.org/docs.html   \n",
        "*  Well-known users of `SQLite`: https://www.sqlite.org/famous.html  "
      ]
    },
    {
      "cell_type": "markdown",
      "metadata": {
        "id": "wS6F9td39OjC"
      },
      "source": [
        "**`SQLite`** is a C library that provides a lightweight disk-based database that doesn’t require a separate server process. Applications can use SQLite for internal data storage. It’s also possible to prototype an application using SQLite and then later port the application to a production database system.   \n",
        "\n",
        "`SQLite` databases are stored in a file on disk (usually with a `.db` extension). If you attempt to connect to a database file that doesn't exist, `SQLite` with create a new database, assign it the name you passed to the connect function and save it to your current working directory."
      ]
    },
    {
      "cell_type": "markdown",
      "metadata": {
        "id": "SYCeKvoZ9OjD"
      },
      "source": [
        "Typical sqlite setup and usage in Python is as follows:\n",
        "\n",
        "*  **Create a connection object** - For `SQLite`, pass the database filepath instead of authentication details:\n",
        "\n",
        "            db = sqlite3.connect(<filename>.db)\n",
        "            \n",
        "*  **Define a cursor** - Call the `cursor()` method on the connection object created above:\n",
        "\n",
        "            cursor = db.cursor()  \n",
        "            \n",
        "*  **Construct a query for the dataset of interest** - This can be almost any valid SQL command:\n",
        "\n",
        "            SQL = \"SELECT * FROM SAMPLE_TABLE\"  \n",
        "            \n",
        "*  **Pass the query string to the cursor's `execute` method:**\n",
        "\n",
        "            cursor.execute(SQL)\n",
        "            \n",
        "            \n",
        "*  **Iterate over the cursor** - Using a `for` loop, list comprehensions, etc...  \n",
        "\n",
        "  \n",
        "The result will be a list of tuples, so data elements can be accessed by row or selectively by referencing components by index offset:\n",
        "\n",
        "    for record in cursor: print(record)"
      ]
    },
    {
      "cell_type": "markdown",
      "metadata": {
        "id": "8m7Htkv09OjE"
      },
      "source": [
        "**Creating Databases and Tables**\n",
        "--------------------"
      ]
    },
    {
      "cell_type": "markdown",
      "metadata": {
        "id": "QSCKZMiG9OjF"
      },
      "source": [
        "If the database file passed to the `sqlite3.connect` method doesn't exist, a new database with the name specified will be created. The following example creates a database consisting of 2 tables: The first table holds closing stock prices, the second contains a mapping between ticker symbols and company names:"
      ]
    },
    {
      "cell_type": "markdown",
      "metadata": {
        "id": "7V8ZPQ_w9OjF"
      },
      "source": [
        "NOTE: For more information on `SQLite` datatypes and the resulting affinity mappings of common datatypes for   \n",
        "other RDBMS, follow this link and navigate to the *Affinity Name Examples* section:  \n",
        "\n",
        "https://www.sqlite.org/datatype3.html"
      ]
    },
    {
      "cell_type": "code",
      "source": [
        "!pip install SQLAlchemy==1.4.4"
      ],
      "metadata": {
        "colab": {
          "base_uri": "https://localhost:8080/"
        },
        "id": "hmCWEcJCuxb1",
        "outputId": "461c4c93-4610-4284-ef1d-1552b6a3e0da"
      },
      "execution_count": 1,
      "outputs": [
        {
          "output_type": "stream",
          "name": "stdout",
          "text": [
            "Collecting SQLAlchemy==1.4.4\n",
            "  Downloading SQLAlchemy-1.4.4.tar.gz (7.5 MB)\n",
            "\u001b[2K     \u001b[90m━━━━━━━━━━━━━━━━━━━━━━━━━━━━━━━━━━━━━━━━\u001b[0m \u001b[32m7.5/7.5 MB\u001b[0m \u001b[31m47.4 MB/s\u001b[0m eta \u001b[36m0:00:00\u001b[0m\n",
            "\u001b[?25h  Preparing metadata (setup.py) ... \u001b[?25l\u001b[?25hdone\n",
            "Requirement already satisfied: greenlet!=0.4.17 in /usr/local/lib/python3.11/dist-packages (from SQLAlchemy==1.4.4) (3.2.3)\n",
            "Building wheels for collected packages: SQLAlchemy\n",
            "  Building wheel for SQLAlchemy (setup.py) ... \u001b[?25l\u001b[?25hdone\n",
            "  Created wheel for SQLAlchemy: filename=SQLAlchemy-1.4.4-cp311-cp311-linux_x86_64.whl size=1499388 sha256=c4821165a0ef89246ed1039f0fe5fd5fe5390c93d71e1fbb7f0d35ee29480147\n",
            "  Stored in directory: /root/.cache/pip/wheels/23/af/5b/7c877cbf6f4b966e013fdb3ef2044a57bec7a08da7d7d9fb7a\n",
            "Successfully built SQLAlchemy\n",
            "Installing collected packages: SQLAlchemy\n",
            "  Attempting uninstall: SQLAlchemy\n",
            "    Found existing installation: SQLAlchemy 2.0.41\n",
            "    Uninstalling SQLAlchemy-2.0.41:\n",
            "      Successfully uninstalled SQLAlchemy-2.0.41\n",
            "\u001b[31mERROR: pip's dependency resolver does not currently take into account all the packages that are installed. This behaviour is the source of the following dependency conflicts.\n",
            "ipython-sql 0.5.0 requires sqlalchemy>=2.0, but you have sqlalchemy 1.4.4 which is incompatible.\u001b[0m\u001b[31m\n",
            "\u001b[0mSuccessfully installed SQLAlchemy-1.4.4\n"
          ]
        }
      ]
    },
    {
      "cell_type": "code",
      "execution_count": 2,
      "metadata": {
        "id": "vnO1RKT89OjG"
      },
      "outputs": [],
      "source": [
        "\"\"\"\n",
        "Creating a new database with two tables using the `sqlite3`\n",
        "module.\n",
        "\n",
        "=============================\n",
        "Table 1                     |\n",
        "=============================\n",
        "TABLENAME: `CLOSING_PRICES` |\n",
        "                            |\n",
        "FIELDS   : DATE   TEXT      |\n",
        "           TICKER TEXT      |\n",
        "           CLOSE  REAL      |\n",
        "=============================\n",
        "\n",
        "=============================\n",
        "Table 2                     |\n",
        "=============================\n",
        "TABLENAME: `TICKER_MAPPING` |\n",
        "                            |\n",
        "FIELDS   : TICKER       TEXT|\n",
        "           COMPANY NAME TEXT|\n",
        "=============================\n",
        "\n",
        "\"\"\"\n",
        "import sqlite3\n",
        "\n",
        "# Create new database `sample.db`. Notice `sample.db` is now\n",
        "# listed in your working directory:\n",
        "db = sqlite3.connect(\"sample.db\")\n",
        "\n",
        "# Initiate a cursor, and call the connection's cursor method:\n",
        "cursor = db.cursor()\n",
        "\n",
        "# Specify the DDL to create the two tables:\n",
        "tbl1_ddl = \"\"\"CREATE TABLE CLOSING_PRICES (\n",
        "              DATE   TEXT,\n",
        "              TICKER TEXT,\n",
        "              CLOSE  REAL)\"\"\"\n",
        "\n",
        "tbl2_ddl = \"\"\"CREATE TABLE TICKER_MAPPING (\n",
        "              TICKER       TEXT,\n",
        "              COMPANY_NAME TEXT)\"\"\"\n",
        "\n",
        "# Call the `cursor.execute` method, passing tbl1_ddl & tbl2_ddl as arguments:\n",
        "cursor.execute(tbl1_ddl)\n",
        "cursor.execute(tbl2_ddl)\n",
        "\n",
        "# IMPORTANT! Be sure to commit changes you want to persist. Without\n",
        "# commiting, changes will not be saved:\n",
        "db.commit()\n",
        "\n",
        "# close connection to `sample.db`:\n",
        "db.close()\n"
      ]
    },
    {
      "cell_type": "code",
      "execution_count": 3,
      "metadata": {
        "id": "flcSESVX9OjH",
        "outputId": "3dfe9ddc-c7f0-4faa-fc6b-3b46fc9c48bd",
        "colab": {
          "base_uri": "https://localhost:8080/"
        }
      },
      "outputs": [
        {
          "output_type": "stream",
          "name": "stdout",
          "text": [
            "[]\n"
          ]
        }
      ],
      "source": [
        "db = sqlite3.connect(\"sample.db\")\n",
        "\n",
        "# Initiate a cursor, and call the connection's cursor method:\n",
        "cursor = db.cursor()\n",
        "\n",
        "# Specify the DDL to create the two tables:\n",
        "cursor.execute( \"\"\"SELECT * FROM  CLOSING_PRICES \"\"\")\n",
        "print(cursor.fetchall())\n",
        "db.close()\n"
      ]
    },
    {
      "cell_type": "markdown",
      "metadata": {
        "id": "V9c7emUC9OjJ"
      },
      "source": [
        "To verify that your tables have been created, run the following:"
      ]
    },
    {
      "cell_type": "code",
      "execution_count": 4,
      "metadata": {
        "id": "PtZZ6-349OjJ",
        "outputId": "f901dc74-07c0-4ae2-859a-08e34f2da99e",
        "colab": {
          "base_uri": "https://localhost:8080/"
        }
      },
      "outputs": [
        {
          "output_type": "stream",
          "name": "stdout",
          "text": [
            "[('CLOSING_PRICES',), ('TICKER_MAPPING',)]\n"
          ]
        }
      ],
      "source": [
        "# Restablish connection to `sample.db`:\n",
        "db     = sqlite3.connect('sample.db')\n",
        "cursor = db.cursor()\n",
        "cursor.execute(\"SELECT name FROM sqlite_master WHERE type='table'\")\n",
        "print(cursor.fetchall())\n",
        "db.close()"
      ]
    },
    {
      "cell_type": "markdown",
      "metadata": {
        "id": "R_UHtyBA9OjK"
      },
      "source": [
        "**Loading Data into `SQLite` Database Tables**\n",
        "--"
      ]
    },
    {
      "cell_type": "markdown",
      "metadata": {
        "id": "ZeQ6y5mk9OjK"
      },
      "source": [
        "The following example demonstrates two methods of loading data into `SQLite` tables. The first method assumes the data is already available in memory in the current Python session. The second method assumes data is being loaded from a .csv file:"
      ]
    },
    {
      "cell_type": "markdown",
      "metadata": {
        "id": "LDPcaM199OjL"
      },
      "source": [
        "NOTE: The file `ticker_data.csv`, included with this notebook, is required for the 2nd example."
      ]
    },
    {
      "cell_type": "code",
      "execution_count": 5,
      "metadata": {
        "id": "tVDo2LiS9OjL"
      },
      "outputs": [],
      "source": [
        "#==========================================================\n",
        "# Method #1: Data already avialable in Python session     |\n",
        "#==========================================================\n",
        "\n",
        "# Reestablish connection to `sample.db` database:\n",
        "db     = sqlite3.connect('sample.db')\n",
        "cursor = db.cursor()\n",
        "\n",
        "# Insert four records into `CLOSING_PRICES` table based on the closing\n",
        "# prices of AXP, GE, GS & UTX on 7.22.2016.\n",
        "\n",
        "# Single records can be inserted using the `cursor.execute` method:\n",
        "cursor.execute(\"INSERT INTO TICKER_MAPPING VALUES ('AXP',  'American Express Company')\")\n",
        "cursor.execute(\"INSERT INTO TICKER_MAPPING VALUES ('GS', 'GenSeral Electric Company')\")\n",
        "cursor.execute(\"INSERT INTO TICKER_MAPPING VALUES ('GE' ,  'Goldman Sachs Group Inc')\")\n",
        "cursor.execute(\"INSERT INTO TICKER_MAPPING VALUES ('UTX' , 'United Technologies Corporation')\")\n",
        "\n",
        "\n",
        "# We can insert several records at once if we create a list\n",
        "# of tuples of the data to insert, then call `cursor.executemany`:\n",
        "closing_prices = [('20160722', 'AXP',  64.28),\n",
        "                  ('20160722', 'GE' ,  32.06),\n",
        "                  ('20160722', 'GS' , 160.41),\n",
        "                  ('20160722', 'UTX', 105.13)]\n",
        "\n",
        "\n",
        "# Calling `cursor.executemany`\n",
        "cursor.executemany(\"INSERT INTO CLOSING_PRICES VALUES (?,?,?)\", closing_prices)\n",
        "\n",
        "# Not forgetting to commit changes and close connection:\n",
        "db.commit()\n",
        "db.close()"
      ]
    },
    {
      "cell_type": "code",
      "execution_count": 6,
      "metadata": {
        "id": "6O7h3o2Y9OjM",
        "outputId": "20a85f28-b8a6-4ae6-c250-268538feb53b",
        "colab": {
          "base_uri": "https://localhost:8080/"
        }
      },
      "outputs": [
        {
          "output_type": "stream",
          "name": "stdout",
          "text": [
            "[('20160722', 'AXP', 64.28), ('20160722', 'GE', 32.06), ('20160722', 'GS', 160.41), ('20160722', 'UTX', 105.13)]\n"
          ]
        }
      ],
      "source": [
        "db     = sqlite3.connect('sample.db')\n",
        "cursor = db.cursor()\n",
        "cursor.execute(\"SELECT * FROM CLOSING_PRICES\")\n",
        "print(cursor.fetchall())\n",
        "db.close()"
      ]
    },
    {
      "cell_type": "markdown",
      "metadata": {
        "id": "gKE2ot8w9OjM"
      },
      "source": [
        "The `(?,?,?)` in `cursor.executemany` serve as placeholders for columns in the target table. There should be one `?` for each column in the target table. The more common scenario may be loading data from file into an `SQLite` database table. The syntax is similiar, with added file handling logic:"
      ]
    },
    {
      "cell_type": "code",
      "execution_count": 8,
      "metadata": {
        "id": "FzUPMuTS9OjM"
      },
      "outputs": [],
      "source": [
        "#=====================================\n",
        "# Method #2: Data read in from .csv  |\n",
        "#=====================================\n",
        "\n",
        "# Requires `ticker_data.csv` file\n",
        "import sqlite3\n",
        "import csv\n",
        "\n",
        "# Reestablish connection to `sample.db` database:\n",
        "db     = sqlite3.connect('sample.db')\n",
        "cursor = db.cursor()\n",
        "\n",
        "# Open `ticker_data.csv`, and create a csv.reader instance:\n",
        "with open('ticker_data.csv', 'r', encoding='cp1252') as f:  # on Windows, change `r` to `rb`\n",
        "\n",
        "    fcsv = csv.reader(f)\n",
        "\n",
        "    # `recs_to_load` is a list of records contained in `ticker_data.csv`:\n",
        "    recs_to_load = [record for record in fcsv]\n",
        "\n",
        "    # call `cursor.executemany`, specifying `recs_to_load`\n",
        "    cursor.executemany(\"INSERT INTO CLOSING_PRICES VALUES (?,?,?)\", recs_to_load)\n",
        "\n",
        "# Not forgetting to commit changes and close connection:\n",
        "db.commit()\n",
        "db.close()"
      ]
    },
    {
      "cell_type": "code",
      "execution_count": 9,
      "metadata": {
        "id": "sW5ZRLbs9OjM",
        "outputId": "041ac82a-5f99-41a2-e1e4-851c1a471c1a",
        "colab": {
          "base_uri": "https://localhost:8080/"
        }
      },
      "outputs": [
        {
          "output_type": "stream",
          "name": "stdout",
          "text": [
            "[('20160722', 'AXP', 64.28), ('20160722', 'GE', 32.06), ('20160722', 'GS', 160.41), ('20160722', 'UTX', 105.13), ('DATE', 'TICKER', 'CLOSE'), ('20161125', 'GE', 31.44), ('20161123', 'GE', 31.34), ('20161122', 'GE', 31.18), ('20161121', 'GE', 30.87), ('20161118', 'GE', 30.67), ('20161117', 'GE', 30.79), ('20161116', 'GE', 30.74), ('20161115', 'GE', 30.75), ('20161114', 'GE', 30.51), ('20161111', 'GE', 30.71), ('20161110', 'GE', 30.41), ('20161109', 'GE', 29.63), ('20161108', 'GE', 29.42), ('20161107', 'GE', 29.31), ('20161104', 'GE', 28.44), ('20161103', 'GE', 28.28), ('20161102', 'GE', 28.49), ('20161101', 'GE', 28.88), ('20161031', 'GE', 29.1), ('20161028', 'GE', 29.22), ('20161027', 'GE', 28.63), ('20161026', 'GE', 28.87), ('20161025', 'GE', 28.65)]\n"
          ]
        }
      ],
      "source": [
        "db     = sqlite3.connect('sample.db')\n",
        "cursor = db.cursor()\n",
        "cursor.execute(\"SELECT * FROM CLOSING_PRICES\")\n",
        "print(cursor.fetchall())\n",
        "db.close()"
      ]
    },
    {
      "cell_type": "markdown",
      "metadata": {
        "id": "XDseLu0S9OjN"
      },
      "source": [
        "**`SQLite` Data Retrieval**\n",
        "=================="
      ]
    },
    {
      "cell_type": "markdown",
      "metadata": {
        "id": "udtKaGJ79OjN"
      },
      "source": [
        "Retrieval of `SQLite` database records is carried out in exactly the same as with `cx_Oracle`. An iterator in the form  \n",
        "of a database cursor is returned, which is traversed, yielding the query is question's result set:"
      ]
    },
    {
      "cell_type": "code",
      "execution_count": 10,
      "metadata": {
        "id": "69bMYi-G9OjN",
        "outputId": "46fe79d7-6d33-4c79-daf4-65aa62a283a6",
        "colab": {
          "base_uri": "https://localhost:8080/"
        }
      },
      "outputs": [
        {
          "output_type": "stream",
          "name": "stdout",
          "text": [
            "('20160722', 'AXP', 64.28)\n",
            "('20160722', 'GE', 32.06)\n",
            "('20160722', 'GS', 160.41)\n",
            "('20160722', 'UTX', 105.13)\n",
            "('DATE', 'TICKER', 'CLOSE')\n",
            "('20161125', 'GE', 31.44)\n",
            "('20161123', 'GE', 31.34)\n",
            "('20161122', 'GE', 31.18)\n",
            "('20161121', 'GE', 30.87)\n",
            "('20161118', 'GE', 30.67)\n",
            "('20161117', 'GE', 30.79)\n",
            "('20161116', 'GE', 30.74)\n",
            "('20161115', 'GE', 30.75)\n",
            "('20161114', 'GE', 30.51)\n",
            "('20161111', 'GE', 30.71)\n",
            "('20161110', 'GE', 30.41)\n",
            "('20161109', 'GE', 29.63)\n",
            "('20161108', 'GE', 29.42)\n",
            "('20161107', 'GE', 29.31)\n",
            "('20161104', 'GE', 28.44)\n",
            "('20161103', 'GE', 28.28)\n",
            "('20161102', 'GE', 28.49)\n",
            "('20161101', 'GE', 28.88)\n",
            "('20161031', 'GE', 29.1)\n",
            "('20161028', 'GE', 29.22)\n",
            "('20161027', 'GE', 28.63)\n",
            "('20161026', 'GE', 28.87)\n",
            "('20161025', 'GE', 28.65)\n"
          ]
        }
      ],
      "source": [
        "import sqlite3\n",
        "\n",
        "# reestablish connection to `sample.db` database:\n",
        "db     = sqlite3.connect('sample.db')\n",
        "cursor = db.cursor()\n",
        "\n",
        "#construct a query to retrieve data from `CLOSING_PRICES`:\n",
        "SQL = \"SELECT * FROM CLOSING_PRICES\"\n",
        "\n",
        "# call `cursor.execute` on query string:\n",
        "cursor.execute(SQL)\n",
        "\n",
        "# `cursor` can be iterated over:\n",
        "for rec in cursor:\n",
        "    print(rec)\n",
        "\n",
        "# not forgetting to commit changes and close connection:\n",
        "db.commit()\n",
        "db.close()\n"
      ]
    },
    {
      "cell_type": "markdown",
      "metadata": {
        "id": "drNpSTm29OjO"
      },
      "source": [
        "Headers need to be extracted from the `cursor.description` attribute:"
      ]
    },
    {
      "cell_type": "code",
      "execution_count": 11,
      "metadata": {
        "id": "5Fi-Sl0J9OjO",
        "outputId": "01e7e215-4a82-453d-d25a-4e456e08ddd8",
        "colab": {
          "base_uri": "https://localhost:8080/"
        }
      },
      "outputs": [
        {
          "output_type": "stream",
          "name": "stdout",
          "text": [
            "CLOSING_PRICES table fieldnames: ['DATE', 'TICKER', 'CLOSE']\n"
          ]
        }
      ],
      "source": [
        "# Obtain reference to table headers:\n",
        "import sqlite3\n",
        "\n",
        "# Reestablish connection to `sample.db` database:\n",
        "db     = sqlite3.connect('sample.db')\n",
        "cursor = db.cursor()\n",
        "\n",
        "#construct a query to retrieve data from `CLOSING_PRICES`:\n",
        "SQL = \"SELECT * FROM CLOSING_PRICES\"\n",
        "\n",
        "# Call `cursor.execute` on SQL:\n",
        "cursor.execute(SQL)\n",
        "\n",
        "# Capture table headers into `headers` list:\n",
        "headers = [i[0] for i in cursor.description]\n",
        "\n",
        "# Not forgetting to commit changes and close connection:\n",
        "db.commit()\n",
        "db.close()\n",
        "\n",
        "print(\"CLOSING_PRICES table fieldnames: {}\".format(headers))\n",
        "\n"
      ]
    },
    {
      "cell_type": "markdown",
      "metadata": {
        "id": "ryPKCVfd9OjO"
      },
      "source": [
        "The following is an example using bind variables with `sqlite`:"
      ]
    },
    {
      "cell_type": "code",
      "execution_count": 12,
      "metadata": {
        "id": "1XIyyD-89OjP",
        "outputId": "34200d59-fa5d-46d6-aaea-08d99e87d7a1",
        "colab": {
          "base_uri": "https://localhost:8080/"
        }
      },
      "outputs": [
        {
          "output_type": "stream",
          "name": "stdout",
          "text": [
            "['DATE', 'TICKER', 'CLOSE']\n",
            "20160722 GE 32.06\n",
            "20161123 GE 31.34\n",
            "20161122 GE 31.18\n",
            "20161121 GE 30.87\n",
            "20161118 GE 30.67\n",
            "20161117 GE 30.79\n",
            "20161116 GE 30.74\n",
            "20161115 GE 30.75\n",
            "20161114 GE 30.51\n",
            "20161111 GE 30.71\n",
            "20161110 GE 30.41\n",
            "20161109 GE 29.63\n",
            "20161108 GE 29.42\n",
            "20161107 GE 29.31\n",
            "20161104 GE 28.44\n",
            "20161103 GE 28.28\n",
            "20161102 GE 28.49\n",
            "20161101 GE 28.88\n",
            "20161031 GE 29.1\n",
            "20161028 GE 29.22\n",
            "20161027 GE 28.63\n",
            "20161026 GE 28.87\n",
            "20161025 GE 28.65\n"
          ]
        }
      ],
      "source": [
        "import sqlite3\n",
        "\n",
        "# Reestablish connection to `sample.db` database:\n",
        "db     = sqlite3.connect('sample.db')\n",
        "cursor = db.cursor()\n",
        "\n",
        "# Bind variable key-value pairs:\n",
        "params = {'symbol':'GE','date':'20161125'}\n",
        "SQL    = \"SELECT * FROM CLOSING_PRICES WHERE TICKER=:symbol AND DATE!=:date\"\n",
        "cursor.execute(SQL, params)\n",
        "\n",
        "headers = [i[0] for i in cursor.description]\n",
        "\n",
        "#returns records where ticker == 'GE' && date != '20161125'\n",
        "print(headers)\n",
        "for record in cursor: print(*record)\n",
        "\n",
        "db.commit()\n",
        "db.close()\n"
      ]
    },
    {
      "cell_type": "code",
      "execution_count": 12,
      "metadata": {
        "id": "wilBZ6IZ9OjP"
      },
      "outputs": [],
      "source": []
    }
  ],
  "metadata": {
    "kernelspec": {
      "display_name": "Python 3",
      "language": "python",
      "name": "python3"
    },
    "language_info": {
      "codemirror_mode": {
        "name": "ipython",
        "version": 3
      },
      "file_extension": ".py",
      "mimetype": "text/x-python",
      "name": "python",
      "nbconvert_exporter": "python",
      "pygments_lexer": "ipython3",
      "version": "3.8.3"
    },
    "colab": {
      "provenance": []
    }
  },
  "nbformat": 4,
  "nbformat_minor": 0
}