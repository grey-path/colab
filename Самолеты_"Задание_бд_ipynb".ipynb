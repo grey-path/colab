{
  "nbformat": 4,
  "nbformat_minor": 0,
  "metadata": {
    "colab": {
      "provenance": []
    },
    "kernelspec": {
      "name": "python3",
      "display_name": "Python 3"
    },
    "language_info": {
      "name": "python"
    }
  },
  "cells": [
    {
      "cell_type": "markdown",
      "source": [
        "Создайте БД\n",
        "\n",
        "Таблицу  airliners\n",
        "\n",
        "<img src=\"https://github.com/trisha00001/file/blob/main/airlinex.png?raw=true\">\n",
        "Заполните"
      ],
      "metadata": {
        "id": "SseSfTRBCij0"
      }
    },
    {
      "cell_type": "code",
      "source": [
        "import pandas as pd\n",
        "import sqlite3\n",
        "%load_ext sql\n",
        "\n",
        "%sql sqlite:///bd.db\n",
        "\n"
      ],
      "metadata": {
        "id": "l6spjhA-tFmK"
      },
      "execution_count": null,
      "outputs": []
    },
    {
      "cell_type": "code",
      "source": [
        "cnn = sqlite3.connect('bd.db')"
      ],
      "metadata": {
        "id": "VZX7s0s9uZu6"
      },
      "execution_count": null,
      "outputs": []
    },
    {
      "cell_type": "code",
      "source": [
        "%%sql\n",
        "CREATE TABLE airliners(\n",
        "    id NVARCHAR (15),\n",
        "    model_name NVARCHAR (25),\n",
        "    range NVARCHAR (15),\n",
        "    production_year NVARCHAR (15),\n",
        "    color NVARCHAR (15),\n",
        "    side_number ,\n",
        "    country NVARCHAR (15),\n",
        "    PRIMARY KEY (id)\n",
        ")"
      ],
      "metadata": {
        "colab": {
          "base_uri": "https://localhost:8080/"
        },
        "id": "Ko1IlSjzuImq",
        "outputId": "cbb655f3-826f-455a-f763-4a0f30301775"
      },
      "execution_count": null,
      "outputs": [
        {
          "output_type": "stream",
          "name": "stdout",
          "text": [
            " * sqlite:///bd.db\n",
            "Done.\n"
          ]
        },
        {
          "output_type": "execute_result",
          "data": {
            "text/plain": [
              "[]"
            ]
          },
          "metadata": {},
          "execution_count": 3
        }
      ]
    },
    {
      "cell_type": "code",
      "source": [
        "%config SqlMagic.style = '_DEPRECATED_DEFAULT'"
      ],
      "metadata": {
        "id": "DuJWpP8szvs8"
      },
      "execution_count": null,
      "outputs": []
    },
    {
      "cell_type": "code",
      "source": [
        "%%sql\n",
        "Select * from airliners"
      ],
      "metadata": {
        "colab": {
          "base_uri": "https://localhost:8080/",
          "height": 75
        },
        "id": "A9xrs0qYupdT",
        "outputId": "7882fc92-498f-4a8a-d6a4-56f1bf1142b8"
      },
      "execution_count": null,
      "outputs": [
        {
          "output_type": "stream",
          "name": "stdout",
          "text": [
            " * sqlite:///bd.db\n",
            "Done.\n"
          ]
        },
        {
          "output_type": "execute_result",
          "data": {
            "text/plain": [
              "[]"
            ],
            "text/html": [
              "<table>\n",
              "    <thead>\n",
              "        <tr>\n",
              "            <th>id</th>\n",
              "            <th>model_name</th>\n",
              "            <th>range</th>\n",
              "            <th>production_year</th>\n",
              "            <th>color</th>\n",
              "            <th>side_number</th>\n",
              "            <th>country</th>\n",
              "        </tr>\n",
              "    </thead>\n",
              "    <tbody>\n",
              "    </tbody>\n",
              "</table>"
            ]
          },
          "metadata": {},
          "execution_count": 5
        }
      ]
    },
    {
      "cell_type": "code",
      "source": [
        "cnn.close()"
      ],
      "metadata": {
        "id": "9gFw1zq3vPes"
      },
      "execution_count": null,
      "outputs": []
    },
    {
      "cell_type": "code",
      "source": [
        "id\tmodel_name\trange\tproduction_year\tcolor\tside_number\tcountry\n",
        "00095579\tAirbus A320-200\t12800\t2016\twhite\t7729\tRussia\n",
        "00474576\tBoeing 777-300\t7899\t2008\tbrown\t5692\tRussia\n",
        "00434546\tBoeing 777-300\t7900\t2008\tbrown\t5693\tRussia\n",
        "00464547\tBoeing 777-300\t5999\t2008\tbrown\t5694\tRussia\n",
        "00913835\tAirbus A320-200\t14200\t2000\twhite\t3919\tGermany\n",
        "00243371\tAirbus A320-200\t10100\t2005\twhite\t562\tRussia\n",
        "00073581\tBoeing 777-300\t13700\t2018\twhite\t3267\tRussia\n",
        "00837896\tSukhoi Superjet-100\t4199\t2013\twhite\t868\tRussia\n",
        "00837897\tSukhoi Superjet-100\t4200\t2013\twhite\t869\tRussia\n",
        "00837898\tSukhoi Superjet-100\t4201\t2013\twhite\t870\tRussia\n",
        "00108551\tAirbus A320-200\t13900\t2017\twhite\t6022\tRussia\n",
        "00473503\tAirbus A321-200\t10900\t2012\twhite\t8474\tFrance\n",
        "00871029\tBoeing 777-300\t12700\t2002\twhite\t4070\tGermany\n",
        "00974590\tBoeing 777-300\t13200\t2005\twhite\t488\tGermany\n",
        "00461862\tAirbus A321-200\t12800\t2020\twhite\t6039\tFrance\n",
        "00603813\tBoeing 777-300\t11700\t2017\twhite\t6001\tRussia\n",
        "00619341\tAirbus A321-200\t10600\t2008\twhite\t7561\tRussia\n",
        "00305881\tBoeing 777-300\t12300\t2005\tgreen\t1426\tRussia\n",
        "00045877\tAirbus A321-200\t12900\t1998\twhite\t3879\tRussia\n",
        "00569298\tCessna 172\t1000\t1979\twhite\t8304\tRussia\n",
        "00539298\tCessna 172\t1001\t1979\twhite\t8305\tRussia\n",
        "00569299\tCessna 172\t1200\t1978\twhite\t8306\tRussia\n",
        "00569399\tCessna 172\t2500\t1978\twhite\t8307\tRussia\n",
        "00569279\tCessna 172\t2501\t1978\twhite\t8308\tRussia\n"
      ],
      "metadata": {
        "id": "pukkul0uCpRZ"
      },
      "execution_count": null,
      "outputs": []
    },
    {
      "cell_type": "code",
      "source": [],
      "metadata": {
        "id": "cOBH1BYSzZCj"
      },
      "execution_count": null,
      "outputs": []
    },
    {
      "cell_type": "code",
      "source": [
        "\n",
        "import csv\n",
        "db     = sqlite3.connect('bd.db')\n",
        "\n",
        "cursor = db.cursor()"
      ],
      "metadata": {
        "id": "egjVwaPIwh-v"
      },
      "execution_count": null,
      "outputs": []
    },
    {
      "cell_type": "code",
      "source": [
        "with open('airliners.csv', 'r', encoding='cp1252') as f:\n",
        "    fcsv = csv.reader(f)\n",
        "    recs_to_load = [record for record in fcsv]\n",
        "    cursor.executemany(\"INSERT INTO airliners VALUES (?,?,?,?,?,?,?)\", recs_to_load)\n",
        "\n",
        "\n",
        "db.commit()\n",
        "#db.close()"
      ],
      "metadata": {
        "id": "HxLSl0qar_2n"
      },
      "execution_count": null,
      "outputs": []
    },
    {
      "cell_type": "code",
      "source": [
        "%%sql\n",
        "Select * from airliners"
      ],
      "metadata": {
        "colab": {
          "base_uri": "https://localhost:8080/",
          "height": 601
        },
        "id": "AlPmvED5xoqR",
        "outputId": "22564a34-58cd-42af-a312-569e2bbc3a3c"
      },
      "execution_count": null,
      "outputs": [
        {
          "output_type": "stream",
          "name": "stdout",
          "text": [
            " * sqlite:///bd.db\n",
            "Done.\n"
          ]
        },
        {
          "output_type": "execute_result",
          "data": {
            "text/plain": [
              "[('id', 'model_name', 'range', 'production_year', 'color', 'side_number', 'country'),\n",
              " ('00095579', 'Airbus A320-200', '12800', '2016', 'white', '7729', 'Russia'),\n",
              " ('00474576', 'Boeing 777-300', '7899', '2008', 'brown', '5692', 'Russia'),\n",
              " ('00434546', 'Boeing 777-300', '7900', '2008', 'brown', '5693', 'Russia'),\n",
              " ('00464547', 'Boeing 777-300', '5999', '2008', 'brown', '5694', 'Russia'),\n",
              " ('00913835', 'Airbus A320-200', '14200', '2000', 'white', '3919', 'Germany'),\n",
              " ('00243371', 'Airbus A320-200', '10100', '2005', 'white', '562', 'Russia'),\n",
              " ('00073581', 'Boeing 777-300', '13700', '2018', 'white', '3267', 'Russia'),\n",
              " ('00837896', 'Sukhoi Superjet-100', '4199', '2013', 'white', '868', 'Russia'),\n",
              " ('00837897', 'Sukhoi Superjet-100', '4200', '2013', 'white', '869', 'Russia'),\n",
              " ('00837898', 'Sukhoi Superjet-100', '4201', '2013', 'white', '870', 'Russia'),\n",
              " ('00108551', 'Airbus A320-200', '13900', '2017', 'white', '6022', 'Russia'),\n",
              " ('00473503', 'Airbus A321-200', '10900', '2012', 'white', '8474', 'France'),\n",
              " ('00871029', 'Boeing 777-300', '12700', '2002', 'white', '4070', 'Germany'),\n",
              " ('00974590', 'Boeing 777-300', '13200', '2005', 'white', '488', 'Germany'),\n",
              " ('00461862', 'Airbus A321-200', '12800', '2020', 'white', '6039', 'France'),\n",
              " ('00603813', 'Boeing 777-300', '11700', '2017', 'white', '6001', 'Russia'),\n",
              " ('00619341', 'Airbus A321-200', '10600', '2008', 'white', '7561', 'Russia'),\n",
              " ('00305881', 'Boeing 777-300', '12300', '2005', 'green', '1426', 'Russia'),\n",
              " ('00045877', 'Airbus A321-200', '12900', '1998', 'white', '3879', 'Russia'),\n",
              " ('00569298', 'Cessna 172', '1000', '1979', 'white', '8304', 'Russia'),\n",
              " ('00539298', 'Cessna 172', '1001', '1979', 'white', '8305', 'Russia'),\n",
              " ('00569299', 'Cessna 172', '1200', '1978', 'white', '8306', 'Russia'),\n",
              " ('00569399', 'Cessna 172', '2500', '1978', 'white', '8307', 'Russia'),\n",
              " ('00569279', 'Cessna 172', '2501', '1978', 'white', '8308', 'Russia')]"
            ],
            "text/html": [
              "<table>\n",
              "    <thead>\n",
              "        <tr>\n",
              "            <th>id</th>\n",
              "            <th>model_name</th>\n",
              "            <th>range</th>\n",
              "            <th>production_year</th>\n",
              "            <th>color</th>\n",
              "            <th>side_number</th>\n",
              "            <th>country</th>\n",
              "        </tr>\n",
              "    </thead>\n",
              "    <tbody>\n",
              "        <tr>\n",
              "            <td>id</td>\n",
              "            <td>model_name</td>\n",
              "            <td>range</td>\n",
              "            <td>production_year</td>\n",
              "            <td>color</td>\n",
              "            <td>side_number</td>\n",
              "            <td>country</td>\n",
              "        </tr>\n",
              "        <tr>\n",
              "            <td>00095579</td>\n",
              "            <td>Airbus A320-200</td>\n",
              "            <td>12800</td>\n",
              "            <td>2016</td>\n",
              "            <td>white</td>\n",
              "            <td>7729</td>\n",
              "            <td>Russia</td>\n",
              "        </tr>\n",
              "        <tr>\n",
              "            <td>00474576</td>\n",
              "            <td>Boeing 777-300</td>\n",
              "            <td>7899</td>\n",
              "            <td>2008</td>\n",
              "            <td>brown</td>\n",
              "            <td>5692</td>\n",
              "            <td>Russia</td>\n",
              "        </tr>\n",
              "        <tr>\n",
              "            <td>00434546</td>\n",
              "            <td>Boeing 777-300</td>\n",
              "            <td>7900</td>\n",
              "            <td>2008</td>\n",
              "            <td>brown</td>\n",
              "            <td>5693</td>\n",
              "            <td>Russia</td>\n",
              "        </tr>\n",
              "        <tr>\n",
              "            <td>00464547</td>\n",
              "            <td>Boeing 777-300</td>\n",
              "            <td>5999</td>\n",
              "            <td>2008</td>\n",
              "            <td>brown</td>\n",
              "            <td>5694</td>\n",
              "            <td>Russia</td>\n",
              "        </tr>\n",
              "        <tr>\n",
              "            <td>00913835</td>\n",
              "            <td>Airbus A320-200</td>\n",
              "            <td>14200</td>\n",
              "            <td>2000</td>\n",
              "            <td>white</td>\n",
              "            <td>3919</td>\n",
              "            <td>Germany</td>\n",
              "        </tr>\n",
              "        <tr>\n",
              "            <td>00243371</td>\n",
              "            <td>Airbus A320-200</td>\n",
              "            <td>10100</td>\n",
              "            <td>2005</td>\n",
              "            <td>white</td>\n",
              "            <td>562</td>\n",
              "            <td>Russia</td>\n",
              "        </tr>\n",
              "        <tr>\n",
              "            <td>00073581</td>\n",
              "            <td>Boeing 777-300</td>\n",
              "            <td>13700</td>\n",
              "            <td>2018</td>\n",
              "            <td>white</td>\n",
              "            <td>3267</td>\n",
              "            <td>Russia</td>\n",
              "        </tr>\n",
              "        <tr>\n",
              "            <td>00837896</td>\n",
              "            <td>Sukhoi Superjet-100</td>\n",
              "            <td>4199</td>\n",
              "            <td>2013</td>\n",
              "            <td>white</td>\n",
              "            <td>868</td>\n",
              "            <td>Russia</td>\n",
              "        </tr>\n",
              "        <tr>\n",
              "            <td>00837897</td>\n",
              "            <td>Sukhoi Superjet-100</td>\n",
              "            <td>4200</td>\n",
              "            <td>2013</td>\n",
              "            <td>white</td>\n",
              "            <td>869</td>\n",
              "            <td>Russia</td>\n",
              "        </tr>\n",
              "        <tr>\n",
              "            <td>00837898</td>\n",
              "            <td>Sukhoi Superjet-100</td>\n",
              "            <td>4201</td>\n",
              "            <td>2013</td>\n",
              "            <td>white</td>\n",
              "            <td>870</td>\n",
              "            <td>Russia</td>\n",
              "        </tr>\n",
              "        <tr>\n",
              "            <td>00108551</td>\n",
              "            <td>Airbus A320-200</td>\n",
              "            <td>13900</td>\n",
              "            <td>2017</td>\n",
              "            <td>white</td>\n",
              "            <td>6022</td>\n",
              "            <td>Russia</td>\n",
              "        </tr>\n",
              "        <tr>\n",
              "            <td>00473503</td>\n",
              "            <td>Airbus A321-200</td>\n",
              "            <td>10900</td>\n",
              "            <td>2012</td>\n",
              "            <td>white</td>\n",
              "            <td>8474</td>\n",
              "            <td>France</td>\n",
              "        </tr>\n",
              "        <tr>\n",
              "            <td>00871029</td>\n",
              "            <td>Boeing 777-300</td>\n",
              "            <td>12700</td>\n",
              "            <td>2002</td>\n",
              "            <td>white</td>\n",
              "            <td>4070</td>\n",
              "            <td>Germany</td>\n",
              "        </tr>\n",
              "        <tr>\n",
              "            <td>00974590</td>\n",
              "            <td>Boeing 777-300</td>\n",
              "            <td>13200</td>\n",
              "            <td>2005</td>\n",
              "            <td>white</td>\n",
              "            <td>488</td>\n",
              "            <td>Germany</td>\n",
              "        </tr>\n",
              "        <tr>\n",
              "            <td>00461862</td>\n",
              "            <td>Airbus A321-200</td>\n",
              "            <td>12800</td>\n",
              "            <td>2020</td>\n",
              "            <td>white</td>\n",
              "            <td>6039</td>\n",
              "            <td>France</td>\n",
              "        </tr>\n",
              "        <tr>\n",
              "            <td>00603813</td>\n",
              "            <td>Boeing 777-300</td>\n",
              "            <td>11700</td>\n",
              "            <td>2017</td>\n",
              "            <td>white</td>\n",
              "            <td>6001</td>\n",
              "            <td>Russia</td>\n",
              "        </tr>\n",
              "        <tr>\n",
              "            <td>00619341</td>\n",
              "            <td>Airbus A321-200</td>\n",
              "            <td>10600</td>\n",
              "            <td>2008</td>\n",
              "            <td>white</td>\n",
              "            <td>7561</td>\n",
              "            <td>Russia</td>\n",
              "        </tr>\n",
              "        <tr>\n",
              "            <td>00305881</td>\n",
              "            <td>Boeing 777-300</td>\n",
              "            <td>12300</td>\n",
              "            <td>2005</td>\n",
              "            <td>green</td>\n",
              "            <td>1426</td>\n",
              "            <td>Russia</td>\n",
              "        </tr>\n",
              "        <tr>\n",
              "            <td>00045877</td>\n",
              "            <td>Airbus A321-200</td>\n",
              "            <td>12900</td>\n",
              "            <td>1998</td>\n",
              "            <td>white</td>\n",
              "            <td>3879</td>\n",
              "            <td>Russia</td>\n",
              "        </tr>\n",
              "        <tr>\n",
              "            <td>00569298</td>\n",
              "            <td>Cessna 172</td>\n",
              "            <td>1000</td>\n",
              "            <td>1979</td>\n",
              "            <td>white</td>\n",
              "            <td>8304</td>\n",
              "            <td>Russia</td>\n",
              "        </tr>\n",
              "        <tr>\n",
              "            <td>00539298</td>\n",
              "            <td>Cessna 172</td>\n",
              "            <td>1001</td>\n",
              "            <td>1979</td>\n",
              "            <td>white</td>\n",
              "            <td>8305</td>\n",
              "            <td>Russia</td>\n",
              "        </tr>\n",
              "        <tr>\n",
              "            <td>00569299</td>\n",
              "            <td>Cessna 172</td>\n",
              "            <td>1200</td>\n",
              "            <td>1978</td>\n",
              "            <td>white</td>\n",
              "            <td>8306</td>\n",
              "            <td>Russia</td>\n",
              "        </tr>\n",
              "        <tr>\n",
              "            <td>00569399</td>\n",
              "            <td>Cessna 172</td>\n",
              "            <td>2500</td>\n",
              "            <td>1978</td>\n",
              "            <td>white</td>\n",
              "            <td>8307</td>\n",
              "            <td>Russia</td>\n",
              "        </tr>\n",
              "        <tr>\n",
              "            <td>00569279</td>\n",
              "            <td>Cessna 172</td>\n",
              "            <td>2501</td>\n",
              "            <td>1978</td>\n",
              "            <td>white</td>\n",
              "            <td>8308</td>\n",
              "            <td>Russia</td>\n",
              "        </tr>\n",
              "    </tbody>\n",
              "</table>"
            ]
          },
          "metadata": {},
          "execution_count": 9
        }
      ]
    },
    {
      "cell_type": "code",
      "source": [
        "db.close()"
      ],
      "metadata": {
        "id": "H4RYi-tbz-8D"
      },
      "execution_count": null,
      "outputs": []
    },
    {
      "cell_type": "markdown",
      "source": [],
      "metadata": {
        "id": "bG404gzCw41O"
      }
    },
    {
      "cell_type": "markdown",
      "source": [],
      "metadata": {
        "id": "sHKYM2SSw5JG"
      }
    },
    {
      "cell_type": "code",
      "source": [
        "cnn = sqlite3.connect('bd.db')"
      ],
      "metadata": {
        "id": "yhCJTdbmjmXb"
      },
      "execution_count": null,
      "outputs": []
    },
    {
      "cell_type": "markdown",
      "source": [
        "Таблицу trips\n",
        "<img src=\"https://github.com/trisha00001/file/blob/main/trips.png?raw=true\">"
      ],
      "metadata": {
        "id": "dBwr_2uwCphJ"
      }
    },
    {
      "cell_type": "code",
      "source": [
        "%%sql\n",
        "CREATE TABLE trips(\n",
        "    id NVARCHAR (15),\n",
        "    trip_code NVARCHAR (25),\n",
        "    departure NVARCHAR (15),\n",
        "    arrival NVARCHAR (15),\n",
        "    status NVARCHAR (15),\n",
        "    airliner_id NVARCHAR (15),\n",
        "    PRIMARY KEY (id)\n",
        ")"
      ],
      "metadata": {
        "colab": {
          "base_uri": "https://localhost:8080/"
        },
        "id": "BZbk7UG60V1d",
        "outputId": "2035c901-1e17-4ee2-c729-975bb416bb91"
      },
      "execution_count": null,
      "outputs": [
        {
          "output_type": "stream",
          "name": "stdout",
          "text": [
            " * sqlite:///bd.db\n",
            "Done.\n"
          ]
        },
        {
          "output_type": "execute_result",
          "data": {
            "text/plain": [
              "[]"
            ]
          },
          "metadata": {},
          "execution_count": 12
        }
      ]
    },
    {
      "cell_type": "markdown",
      "source": [
        "Заполните\n"
      ],
      "metadata": {
        "id": "VfNpy0fsHywI"
      }
    },
    {
      "cell_type": "code",
      "execution_count": null,
      "metadata": {
        "id": "0gqmJvPquT7u"
      },
      "outputs": [],
      "source": [
        "id\ttrip_code\tdeparture\tarrival\tstatus\tairliner_id\n",
        "AZLXFEICN9\tFYKUZEYK\tRZN\tPBX\tDeparted\t00073581\n",
        "NXL5LGFPDZ\tFYELLIVY\tKEJ\tPYJ\tDeparted\t00045877\n",
        "YBCCGNT4FB\tFYDLCIYR\tMRV\tABA\tDeparted\t00305881\n",
        "JKRUCXH7VM\tFYBFSQHC\tKJA\tMQF\tScheduled\t00619341\n",
        "54GNK8KX0J\tFYJBLFJF\tNAL\tIAR\tDelayed\t00913835\n",
        "YRDP58VH7Z\tFYQUGTHS\tLED\tAAQ\tArrived\t00974590\n",
        "QQZ8OIWT0I\tFYBTHJNF\tSVX\tPKV\tScheduled\t00603813\n",
        "1OOOROHFT5\tFYSIVZCT\tKYZ\tNYM\tScheduled\t00461862\n",
        "Z7I9LOO53W\tFYXKFNBK\tIJK\tKSZ\tDelayed\t00473503\n",
        "BKSVI3TXU0\tFYNOHGPA\tBZK\tNOZ\tScheduled\t00837897\n",
        "NRE4AOEN0U\tFYUOENIB\tRVH\tDME\tArrived\t00473503\n",
        "RL6EC4YWB1\tFYYPDVXX\tCNN\tOSW\tDeparted\t00837897\n",
        "P1KMGIH0LB\tFYQGVPDV\tPES\tNSK\tDeparted\t00913835\n",
        "DTN6F9SMFY\tFYIZFTNS\tMJZ\tNNM\tArrived\t00619341\n",
        "I7OL2KZUTM\tFYENZBWZ\tKRR\tPEE\tDeparted\t00619341\n",
        "0SE4S0HRRU\tFYDKIBWN\tTOX\tKHV\tDeparted\t00045877\n",
        "5I5WU71AWR\tFYYRTAUP\tMQF\tCYX\tDeparted\t00073581\n",
        "FIE30ZUHAU\tFYXQGDKJ\tNNM\tMOW\tArrived\t00108551\n",
        "8RF8OIOVFR\tFYIHSLAA\tABA\tSCW\tDelayed\t00434546\n",
        "JYYNPD5Q54\tFYWTXNZF\tSTW\tKHV\tCancelled\t00461862\n",
        "A71MZN54ZP\tFYRGWMOU\tTOF\tKZN\tDeparted\t00045877\n",
        "DFCFUPV4XB\tFYCSRAVD\tAER\tCSY\tDeparted\t00095579\n",
        "HCX33V5QUH\tFYBHJBFQ\tNNM\tKRO\tDeparted\t00045877\n",
        "DAA22Y84O7\tFYVJYQLI\tABA\tKVX\tDeparted\t00619341\n",
        "30N25AXHAF\tFYJLHCLF\tDME\tCYX\tCancelled\t00473503\n",
        "CNIKNNGF4Z\tFYUTQQYR\tDME\tMMK\tDeparted\t00108551\n",
        "HC0MJ162ZZ\tFYHVSSGY\tOMS\tRZN\tArrived\t00108551\n",
        "SFQ20OEYVR\tFYKRPIYG\tARH\tIKS\tScheduled\t00871029\n",
        "VR5SF5YIWN\tFYCZRFLM\tESL\tGOJ\tScheduled\t00461862\n",
        "X6FN294I1K\tFYXLIUNH\tRTW\tEGO\tScheduled\t00913835\n",
        "J3B1J090J0\tFYGQHJFE\tBCX\tKYZ\tScheduled\t00434546\n",
        "87RVI5T7A2\tFYMKPDZC\tOSW\tSTW\tArrived\t00603813\n",
        "1CZRH40E2L\tFYIJUHTL\tMMK\tMOW\tArrived\t00108551\n",
        "MMI79V757K\tFYTORWPK\tKSZ\tKLD\tArrived\t00108551\n",
        "5480GD0GIS\tFYVXEQJW\tSVO\tSVX\tDeparted\t00095579\n",
        "Z3BPB534TR\tFYLQYHXY\tKHV\tPKC\tArrived\t00619341\n",
        "B5L8IUXI1O\tFYRHRAHE\tNAL\tOGZ\tDeparted\t00913835\n",
        "OZAO28DLFP\tFYWTYJDC\tPKV\tMQF\tScheduled\t00837897\n",
        "XOY8HZ1LQ5\tFYZFNFDC\tESL\tCSY\tDelayed\t00461862\n",
        "CG5B2D3KLA\tFYAOCJJX\tMJZ\tUUS\tArrived\t00871029\n",
        "5QMWLJ4SOC\tFYDKXSYX\tPEE\tKZN\tDeparted\t00603813\n",
        "8C9GNO8RBM\tFYSLJUYP\tPKV\tBKA\tArrived\t00305881\n",
        "ZK9M965C68\tFYXMFCQT\tBZK\tCEK\tScheduled\t00913835\n",
        "2NMMGC6EYC\tFYCHPOHX\tCEE\tCKH\tArrived\t00974590\n",
        "BODSSG3E82\tFYEEVFKF\tDME\tROV\tCancelled\t00871029\n",
        "01BWVNX5Y6\tFYMBJISR\tUCT\tAAQ\tArrived\t00473503\n",
        "1KIUNIRKJ0\tFYAHGFMW\tMCX\tCNN\tDeparted\t00913835\n",
        "2O2OOCWMHY\tFYJJSDGL\tPVS\tROV\tArrived\t00243371\n",
        "LF1XAF7P9E\tFYDPMJUK\tDKS\tPYJ\tDeparted\t00243371\n",
        "WIHYUQL6L4\tFYKNDOIE\tBKA\tADH\tArrived\t00974590\n",
        "PNKMZ4CY53\tFYWAAXAX\tPKV\tTOF\tScheduled\t00045877\n",
        "4QST269XS7\tFYSVZVTC\tPKC\tDME\tArrived\t00108551\n",
        "48AEBYYWRF\tFYGOFGGS\tAMV\tOGZ\tArrived\t00073581\n",
        "VCKEGVKWW8\tFYMQHLLW\tNUX\tGOJ\tScheduled\t00473503\n",
        "FN2S30I60G\tFYWFBJPL\tIKS\tUUD\tScheduled\t00434546\n",
        "WEY6B7TDE6\tFYXYBKXK\tPYJ\tTOF\tArrived\t00243371\n",
        "LL4S1G8PQW\tFYPKNBGN\tRTW\tDYR\tArrived\t00871029\n",
        "JBI60Q2MGP\tFYSZADHR\tDME\tKVX\tArrived\t00913835\n",
        "7D8SWXQ48V\tFYYYFUIT\tNAL\tNUX\tScheduled\t00305881\n",
        "DZCBMKI9BU\tFYGBZBCQ\tDME\tNAL\tDeparted\t00603813\n",
        "3AML9EO1ZU\tFYWSRRLT\tRVH\tDME\tArrived\t00837897\n",
        "529DVPG56R\tFYRJNVDV\tBCX\tHTA\tArrived\t00913835\n",
        "D1VLWQT9GD\tFYDXJSJR\tVKO\tNSK\tDeparted\t00045877\n",
        "8GX4Z63QKE\tFYLTSDSB\tKUF\tPBX\tScheduled\t00974590\n",
        "3WU3U5YSRV\tFYBDTVEX\tCEK\tKSZ\tCancelled\t00974590\n",
        "3ZAQ90KNLJ\tFYUKAZNV\tHTA\tKHV\tScheduled\t00073581\n",
        "Z1ZBYY6OL3\tFYVADNYC\tKRO\tSGC\tScheduled\t00619341\n",
        "7AYT1ZEL9L\tFYTSDYQF\tACS\tSTW\tArrived\t00461862\n",
        "MNSKOUBKF9\tFYECNFGA\tKHV\tSVX\tArrived\t00108551\n",
        "5X1DUI7MXZ\tFYUGYNWQ\tBCX\tRTW\tDeparted\t00473503\n",
        "NNNU1G3P7E\tFYNDDJVU\tDYR\tSCW\tDeparted\t00243371\n",
        "18DMF6OGN9\tFYLAZXFB\tVKT\tVKO\tDeparted\t00619341\n",
        "XYXL53SCQK\tFYHTHJSQ\tSGC\tKGP\tDelayed\t00461862\n",
        "UT37FSBM4O\tFYMONFVU\tKEJ\tPYJ\tArrived\t00305881\n",
        "6FN3ZKYEVY\tFYWGBVVX\tIKS\tNOZ\tScheduled\t00095579\n",
        "H27PNTQH4K\tFYLVNAEX\tNSK\tRZN\tScheduled\t00603813\n",
        "M8L4LI30P2\tFYBHJCIQ\tPYJ\tSGC\tArrived\t00305881\n",
        "QZV6ZMWWTB\tFYFKGDGH\tNSK\tMMK\tCancelled\t00305881\n",
        "RQUAPVXU7I\tFYTLTEYC\tRTW\tUUS\tScheduled\t00473503\n",
        "TRBF4TTDIU\tFYTQYCMA\tDME\tLED\tDelayed\t00974590\n",
        "FL98ACKIH1\tFYNYHKCT\tDME\tVKT\tArrived\t00603813\n",
        "MSHHF6KLJT\tFYFKRKVJ\tTJM\tKSZ\tScheduled\t00619341\n",
        "JQF04Q8I9G\tFYIZWBNV\tPEZ\tROV\tArrived\t00073581\n",
        "DQJN8Z0910\tFYJKLZLE\tNSK\tCSY\tArrived\t00913835\n",
        "NWVY6OMNG7\tFYCLQKGI\tUCT\tPEZ\tArrived\t00837897\n",
        "YJW1ZNCFBS\tFYZFBTDO\tKEJ\tBTK\tScheduled\t00619341\n",
        "HXCMRFOB6P\tFYVYYQRC\tDKS\tBTK\tScheduled\t00871029\n",
        "3XE7G7OE4P\tFYNELFIN\tUUD\tNSK\tScheduled\t00603813\n",
        "8N2KAM9DEC\tFYSPDVSV\tACS\tIJK\tDeparted\t00603813\n",
        "41BVLBDKOH\tFYYCTKNY\tKUF\tEGO\tScheduled\t00603813\n",
        "35OHWYY8IU\tFYBVATBF\tBWO\tROV\tScheduled\t00619341\n",
        "YOH0RM9VQF\tFYXURBHU\tACS\tOSW\tScheduled\t00045877\n",
        "YCXO645BFL\tFYSLXGSG\tVKO\tDME\tArrived\t00073581\n",
        "8ZTSNCGKI5\tFYOSOJBM\tBQS\tMOW\tArrived\t00305881\n",
        "YPKNDOQ55S\tFYTSBUNH\tMQF\tKYZ\tScheduled\t00603813\n",
        "VTHTJMYTT0\tFYCJUWEV\tUUS\tAMV\tArrived\t00073581\n",
        "THCLB4OOC0\tFYGZIAIP\tUFA\tRZN\tDeparted\t00913835\n",
        "29RXLVJHVJ\tFYBSRELS\tPVS\tKSZ\tDeparted\t00095579\n",
        "N7SRZUAXMM\tFYVXIVHZ\tKZN\tDME\tArrived\t00243371\n",
        "QMWW87WUE2\tFYJUOLRJ\tOVB\tGDX\tDeparted\t00073581\n"
      ]
    },
    {
      "cell_type": "code",
      "source": [
        "db     = sqlite3.connect('bd.db')\n",
        "\n",
        "cursor = db.cursor()"
      ],
      "metadata": {
        "id": "6Gd1oFa17nxc"
      },
      "execution_count": null,
      "outputs": []
    },
    {
      "cell_type": "code",
      "source": [
        "with open('trips.csv', 'r', encoding='cp1252') as f:\n",
        "    fcsv = csv.reader(f)\n",
        "    recs_to_load = [record for record in fcsv]\n",
        "    cursor.executemany(\"INSERT INTO trips VALUES (?,?,?,?,?,?)\", recs_to_load)\n",
        "\n",
        "\n",
        "db.commit()"
      ],
      "metadata": {
        "id": "LUl61DuB7pGK"
      },
      "execution_count": null,
      "outputs": []
    },
    {
      "cell_type": "code",
      "source": [
        "%%sql\n",
        "select * from trips"
      ],
      "metadata": {
        "colab": {
          "base_uri": "https://localhost:8080/",
          "height": 1000
        },
        "id": "b8oQhvK1724K",
        "outputId": "bd06788d-4e24-487f-9162-a2fb45905ac1"
      },
      "execution_count": null,
      "outputs": [
        {
          "output_type": "stream",
          "name": "stdout",
          "text": [
            " * sqlite:///bd.db\n",
            "Done.\n"
          ]
        },
        {
          "output_type": "execute_result",
          "data": {
            "text/plain": [
              "[('id', 'trip_code', 'departure', 'arrival', 'status', 'airliner_id'),\n",
              " ('AZLXFEICN9', 'FYKUZEYK', 'RZN', 'PBX', 'Departed', '00073581'),\n",
              " ('NXL5LGFPDZ', 'FYELLIVY', 'KEJ', 'PYJ', 'Departed', '00045877'),\n",
              " ('YBCCGNT4FB', 'FYDLCIYR', 'MRV', 'ABA', 'Departed', '00305881'),\n",
              " ('JKRUCXH7VM', 'FYBFSQHC', 'KJA', 'MQF', 'Scheduled', '00619341'),\n",
              " ('54GNK8KX0J', 'FYJBLFJF', 'NAL', 'IAR', 'Delayed', '00913835'),\n",
              " ('YRDP58VH7Z', 'FYQUGTHS', 'LED', 'AAQ', 'Arrived', '00974590'),\n",
              " ('QQZ8OIWT0I', 'FYBTHJNF', 'SVX', 'PKV', 'Scheduled', '00603813'),\n",
              " ('1OOOROHFT5', 'FYSIVZCT', 'KYZ', 'NYM', 'Scheduled', '00461862'),\n",
              " ('Z7I9LOO53W', 'FYXKFNBK', 'IJK', 'KSZ', 'Delayed', '00473503'),\n",
              " ('BKSVI3TXU0', 'FYNOHGPA', 'BZK', 'NOZ', 'Scheduled', '00837897'),\n",
              " ('NRE4AOEN0U', 'FYUOENIB', 'RVH', 'DME', 'Arrived', '00473503'),\n",
              " ('RL6EC4YWB1', 'FYYPDVXX', 'CNN', 'OSW', 'Departed', '00837897'),\n",
              " ('P1KMGIH0LB', 'FYQGVPDV', 'PES', 'NSK', 'Departed', '00913835'),\n",
              " ('DTN6F9SMFY', 'FYIZFTNS', 'MJZ', 'NNM', 'Arrived', '00619341'),\n",
              " ('I7OL2KZUTM', 'FYENZBWZ', 'KRR', 'PEE', 'Departed', '00619341'),\n",
              " ('0SE4S0HRRU', 'FYDKIBWN', 'TOX', 'KHV', 'Departed', '00045877'),\n",
              " ('5I5WU71AWR', 'FYYRTAUP', 'MQF', 'CYX', 'Departed', '00073581'),\n",
              " ('FIE30ZUHAU', 'FYXQGDKJ', 'NNM', 'MOW', 'Arrived', '00108551'),\n",
              " ('8RF8OIOVFR', 'FYIHSLAA', 'ABA', 'SCW', 'Delayed', '00434546'),\n",
              " ('JYYNPD5Q54', 'FYWTXNZF', 'STW', 'KHV', 'Cancelled', '00461862'),\n",
              " ('A71MZN54ZP', 'FYRGWMOU', 'TOF', 'KZN', 'Departed', '00045877'),\n",
              " ('DFCFUPV4XB', 'FYCSRAVD', 'AER', 'CSY', 'Departed', '00095579'),\n",
              " ('HCX33V5QUH', 'FYBHJBFQ', 'NNM', 'KRO', 'Departed', '00045877'),\n",
              " ('DAA22Y84O7', 'FYVJYQLI', 'ABA', 'KVX', 'Departed', '00619341'),\n",
              " ('30N25AXHAF', 'FYJLHCLF', 'DME', 'CYX', 'Cancelled', '00473503'),\n",
              " ('CNIKNNGF4Z', 'FYUTQQYR', 'DME', 'MMK', 'Departed', '00108551'),\n",
              " ('HC0MJ162ZZ', 'FYHVSSGY', 'OMS', 'RZN', 'Arrived', '00108551'),\n",
              " ('SFQ20OEYVR', 'FYKRPIYG', 'ARH', 'IKS', 'Scheduled', '00871029'),\n",
              " ('VR5SF5YIWN', 'FYCZRFLM', 'ESL', 'GOJ', 'Scheduled', '00461862'),\n",
              " ('X6FN294I1K', 'FYXLIUNH', 'RTW', 'EGO', 'Scheduled', '00913835'),\n",
              " ('J3B1J090J0', 'FYGQHJFE', 'BCX', 'KYZ', 'Scheduled', '00434546'),\n",
              " ('87RVI5T7A2', 'FYMKPDZC', 'OSW', 'STW', 'Arrived', '00603813'),\n",
              " ('1CZRH40E2L', 'FYIJUHTL', 'MMK', 'MOW', 'Arrived', '00108551'),\n",
              " ('MMI79V757K', 'FYTORWPK', 'KSZ', 'KLD', 'Arrived', '00108551'),\n",
              " ('5480GD0GIS', 'FYVXEQJW', 'SVO', 'SVX', 'Departed', '00095579'),\n",
              " ('Z3BPB534TR', 'FYLQYHXY', 'KHV', 'PKC', 'Arrived', '00619341'),\n",
              " ('B5L8IUXI1O', 'FYRHRAHE', 'NAL', 'OGZ', 'Departed', '00913835'),\n",
              " ('OZAO28DLFP', 'FYWTYJDC', 'PKV', 'MQF', 'Scheduled', '00837897'),\n",
              " ('XOY8HZ1LQ5', 'FYZFNFDC', 'ESL', 'CSY', 'Delayed', '00461862'),\n",
              " ('CG5B2D3KLA', 'FYAOCJJX', 'MJZ', 'UUS', 'Arrived', '00871029'),\n",
              " ('5QMWLJ4SOC', 'FYDKXSYX', 'PEE', 'KZN', 'Departed', '00603813'),\n",
              " ('8C9GNO8RBM', 'FYSLJUYP', 'PKV', 'BKA', 'Arrived', '00305881'),\n",
              " ('ZK9M965C68', 'FYXMFCQT', 'BZK', 'CEK', 'Scheduled', '00913835'),\n",
              " ('2NMMGC6EYC', 'FYCHPOHX', 'CEE', 'CKH', 'Arrived', '00974590'),\n",
              " ('BODSSG3E82', 'FYEEVFKF', 'DME', 'ROV', 'Cancelled', '00871029'),\n",
              " ('01BWVNX5Y6', 'FYMBJISR', 'UCT', 'AAQ', 'Arrived', '00473503'),\n",
              " ('1KIUNIRKJ0', 'FYAHGFMW', 'MCX', 'CNN', 'Departed', '00913835'),\n",
              " ('2O2OOCWMHY', 'FYJJSDGL', 'PVS', 'ROV', 'Arrived', '00243371'),\n",
              " ('LF1XAF7P9E', 'FYDPMJUK', 'DKS', 'PYJ', 'Departed', '00243371'),\n",
              " ('WIHYUQL6L4', 'FYKNDOIE', 'BKA', 'ADH', 'Arrived', '00974590'),\n",
              " ('PNKMZ4CY53', 'FYWAAXAX', 'PKV', 'TOF', 'Scheduled', '00045877'),\n",
              " ('4QST269XS7', 'FYSVZVTC', 'PKC', 'DME', 'Arrived', '00108551'),\n",
              " ('48AEBYYWRF', 'FYGOFGGS', 'AMV', 'OGZ', 'Arrived', '00073581'),\n",
              " ('VCKEGVKWW8', 'FYMQHLLW', 'NUX', 'GOJ', 'Scheduled', '00473503'),\n",
              " ('FN2S30I60G', 'FYWFBJPL', 'IKS', 'UUD', 'Scheduled', '00434546'),\n",
              " ('WEY6B7TDE6', 'FYXYBKXK', 'PYJ', 'TOF', 'Arrived', '00243371'),\n",
              " ('LL4S1G8PQW', 'FYPKNBGN', 'RTW', 'DYR', 'Arrived', '00871029'),\n",
              " ('JBI60Q2MGP', 'FYSZADHR', 'DME', 'KVX', 'Arrived', '00913835'),\n",
              " ('7D8SWXQ48V', 'FYYYFUIT', 'NAL', 'NUX', 'Scheduled', '00305881'),\n",
              " ('DZCBMKI9BU', 'FYGBZBCQ', 'DME', 'NAL', 'Departed', '00603813'),\n",
              " ('3AML9EO1ZU', 'FYWSRRLT', 'RVH', 'DME', 'Arrived', '00837897'),\n",
              " ('529DVPG56R', 'FYRJNVDV', 'BCX', 'HTA', 'Arrived', '00913835'),\n",
              " ('D1VLWQT9GD', 'FYDXJSJR', 'VKO', 'NSK', 'Departed', '00045877'),\n",
              " ('8GX4Z63QKE', 'FYLTSDSB', 'KUF', 'PBX', 'Scheduled', '00974590'),\n",
              " ('3WU3U5YSRV', 'FYBDTVEX', 'CEK', 'KSZ', 'Cancelled', '00974590'),\n",
              " ('3ZAQ90KNLJ', 'FYUKAZNV', 'HTA', 'KHV', 'Scheduled', '00073581'),\n",
              " ('Z1ZBYY6OL3', 'FYVADNYC', 'KRO', 'SGC', 'Scheduled', '00619341'),\n",
              " ('7AYT1ZEL9L', 'FYTSDYQF', 'ACS', 'STW', 'Arrived', '00461862'),\n",
              " ('MNSKOUBKF9', 'FYECNFGA', 'KHV', 'SVX', 'Arrived', '00108551'),\n",
              " ('5X1DUI7MXZ', 'FYUGYNWQ', 'BCX', 'RTW', 'Departed', '00473503'),\n",
              " ('NNNU1G3P7E', 'FYNDDJVU', 'DYR', 'SCW', 'Departed', '00243371'),\n",
              " ('18DMF6OGN9', 'FYLAZXFB', 'VKT', 'VKO', 'Departed', '00619341'),\n",
              " ('XYXL53SCQK', 'FYHTHJSQ', 'SGC', 'KGP', 'Delayed', '00461862'),\n",
              " ('UT37FSBM4O', 'FYMONFVU', 'KEJ', 'PYJ', 'Arrived', '00305881'),\n",
              " ('6FN3ZKYEVY', 'FYWGBVVX', 'IKS', 'NOZ', 'Scheduled', '00095579'),\n",
              " ('H27PNTQH4K', 'FYLVNAEX', 'NSK', 'RZN', 'Scheduled', '00603813'),\n",
              " ('M8L4LI30P2', 'FYBHJCIQ', 'PYJ', 'SGC', 'Arrived', '00305881'),\n",
              " ('QZV6ZMWWTB', 'FYFKGDGH', 'NSK', 'MMK', 'Cancelled', '00305881'),\n",
              " ('RQUAPVXU7I', 'FYTLTEYC', 'RTW', 'UUS', 'Scheduled', '00473503'),\n",
              " ('TRBF4TTDIU', 'FYTQYCMA', 'DME', 'LED', 'Delayed', '00974590'),\n",
              " ('FL98ACKIH1', 'FYNYHKCT', 'DME', 'VKT', 'Arrived', '00603813'),\n",
              " ('MSHHF6KLJT', 'FYFKRKVJ', 'TJM', 'KSZ', 'Scheduled', '00619341'),\n",
              " ('JQF04Q8I9G', 'FYIZWBNV', 'PEZ', 'ROV', 'Arrived', '00073581'),\n",
              " ('DQJN8Z0910', 'FYJKLZLE', 'NSK', 'CSY', 'Arrived', '00913835'),\n",
              " ('NWVY6OMNG7', 'FYCLQKGI', 'UCT', 'PEZ', 'Arrived', '00837897'),\n",
              " ('YJW1ZNCFBS', 'FYZFBTDO', 'KEJ', 'BTK', 'Scheduled', '00619341'),\n",
              " ('HXCMRFOB6P', 'FYVYYQRC', 'DKS', 'BTK', 'Scheduled', '00871029'),\n",
              " ('3XE7G7OE4P', 'FYNELFIN', 'UUD', 'NSK', 'Scheduled', '00603813'),\n",
              " ('8N2KAM9DEC', 'FYSPDVSV', 'ACS', 'IJK', 'Departed', '00603813'),\n",
              " ('41BVLBDKOH', 'FYYCTKNY', 'KUF', 'EGO', 'Scheduled', '00603813'),\n",
              " ('35OHWYY8IU', 'FYBVATBF', 'BWO', 'ROV', 'Scheduled', '00619341'),\n",
              " ('YOH0RM9VQF', 'FYXURBHU', 'ACS', 'OSW', 'Scheduled', '00045877'),\n",
              " ('YCXO645BFL', 'FYSLXGSG', 'VKO', 'DME', 'Arrived', '00073581'),\n",
              " ('8ZTSNCGKI5', 'FYOSOJBM', 'BQS', 'MOW', 'Arrived', '00305881'),\n",
              " ('YPKNDOQ55S', 'FYTSBUNH', 'MQF', 'KYZ', 'Scheduled', '00603813'),\n",
              " ('VTHTJMYTT0', 'FYCJUWEV', 'UUS', 'AMV', 'Arrived', '00073581'),\n",
              " ('THCLB4OOC0', 'FYGZIAIP', 'UFA', 'RZN', 'Departed', '00913835'),\n",
              " ('29RXLVJHVJ', 'FYBSRELS', 'PVS', 'KSZ', 'Departed', '00095579'),\n",
              " ('N7SRZUAXMM', 'FYVXIVHZ', 'KZN', 'DME', 'Arrived', '00243371'),\n",
              " ('QMWW87WUE2', 'FYJUOLRJ', 'OVB', 'GDX', 'Departed', '00073581')]"
            ],
            "text/html": [
              "<table>\n",
              "    <thead>\n",
              "        <tr>\n",
              "            <th>id</th>\n",
              "            <th>trip_code</th>\n",
              "            <th>departure</th>\n",
              "            <th>arrival</th>\n",
              "            <th>status</th>\n",
              "            <th>airliner_id</th>\n",
              "        </tr>\n",
              "    </thead>\n",
              "    <tbody>\n",
              "        <tr>\n",
              "            <td>id</td>\n",
              "            <td>trip_code</td>\n",
              "            <td>departure</td>\n",
              "            <td>arrival</td>\n",
              "            <td>status</td>\n",
              "            <td>airliner_id</td>\n",
              "        </tr>\n",
              "        <tr>\n",
              "            <td>AZLXFEICN9</td>\n",
              "            <td>FYKUZEYK</td>\n",
              "            <td>RZN</td>\n",
              "            <td>PBX</td>\n",
              "            <td>Departed</td>\n",
              "            <td>00073581</td>\n",
              "        </tr>\n",
              "        <tr>\n",
              "            <td>NXL5LGFPDZ</td>\n",
              "            <td>FYELLIVY</td>\n",
              "            <td>KEJ</td>\n",
              "            <td>PYJ</td>\n",
              "            <td>Departed</td>\n",
              "            <td>00045877</td>\n",
              "        </tr>\n",
              "        <tr>\n",
              "            <td>YBCCGNT4FB</td>\n",
              "            <td>FYDLCIYR</td>\n",
              "            <td>MRV</td>\n",
              "            <td>ABA</td>\n",
              "            <td>Departed</td>\n",
              "            <td>00305881</td>\n",
              "        </tr>\n",
              "        <tr>\n",
              "            <td>JKRUCXH7VM</td>\n",
              "            <td>FYBFSQHC</td>\n",
              "            <td>KJA</td>\n",
              "            <td>MQF</td>\n",
              "            <td>Scheduled</td>\n",
              "            <td>00619341</td>\n",
              "        </tr>\n",
              "        <tr>\n",
              "            <td>54GNK8KX0J</td>\n",
              "            <td>FYJBLFJF</td>\n",
              "            <td>NAL</td>\n",
              "            <td>IAR</td>\n",
              "            <td>Delayed</td>\n",
              "            <td>00913835</td>\n",
              "        </tr>\n",
              "        <tr>\n",
              "            <td>YRDP58VH7Z</td>\n",
              "            <td>FYQUGTHS</td>\n",
              "            <td>LED</td>\n",
              "            <td>AAQ</td>\n",
              "            <td>Arrived</td>\n",
              "            <td>00974590</td>\n",
              "        </tr>\n",
              "        <tr>\n",
              "            <td>QQZ8OIWT0I</td>\n",
              "            <td>FYBTHJNF</td>\n",
              "            <td>SVX</td>\n",
              "            <td>PKV</td>\n",
              "            <td>Scheduled</td>\n",
              "            <td>00603813</td>\n",
              "        </tr>\n",
              "        <tr>\n",
              "            <td>1OOOROHFT5</td>\n",
              "            <td>FYSIVZCT</td>\n",
              "            <td>KYZ</td>\n",
              "            <td>NYM</td>\n",
              "            <td>Scheduled</td>\n",
              "            <td>00461862</td>\n",
              "        </tr>\n",
              "        <tr>\n",
              "            <td>Z7I9LOO53W</td>\n",
              "            <td>FYXKFNBK</td>\n",
              "            <td>IJK</td>\n",
              "            <td>KSZ</td>\n",
              "            <td>Delayed</td>\n",
              "            <td>00473503</td>\n",
              "        </tr>\n",
              "        <tr>\n",
              "            <td>BKSVI3TXU0</td>\n",
              "            <td>FYNOHGPA</td>\n",
              "            <td>BZK</td>\n",
              "            <td>NOZ</td>\n",
              "            <td>Scheduled</td>\n",
              "            <td>00837897</td>\n",
              "        </tr>\n",
              "        <tr>\n",
              "            <td>NRE4AOEN0U</td>\n",
              "            <td>FYUOENIB</td>\n",
              "            <td>RVH</td>\n",
              "            <td>DME</td>\n",
              "            <td>Arrived</td>\n",
              "            <td>00473503</td>\n",
              "        </tr>\n",
              "        <tr>\n",
              "            <td>RL6EC4YWB1</td>\n",
              "            <td>FYYPDVXX</td>\n",
              "            <td>CNN</td>\n",
              "            <td>OSW</td>\n",
              "            <td>Departed</td>\n",
              "            <td>00837897</td>\n",
              "        </tr>\n",
              "        <tr>\n",
              "            <td>P1KMGIH0LB</td>\n",
              "            <td>FYQGVPDV</td>\n",
              "            <td>PES</td>\n",
              "            <td>NSK</td>\n",
              "            <td>Departed</td>\n",
              "            <td>00913835</td>\n",
              "        </tr>\n",
              "        <tr>\n",
              "            <td>DTN6F9SMFY</td>\n",
              "            <td>FYIZFTNS</td>\n",
              "            <td>MJZ</td>\n",
              "            <td>NNM</td>\n",
              "            <td>Arrived</td>\n",
              "            <td>00619341</td>\n",
              "        </tr>\n",
              "        <tr>\n",
              "            <td>I7OL2KZUTM</td>\n",
              "            <td>FYENZBWZ</td>\n",
              "            <td>KRR</td>\n",
              "            <td>PEE</td>\n",
              "            <td>Departed</td>\n",
              "            <td>00619341</td>\n",
              "        </tr>\n",
              "        <tr>\n",
              "            <td>0SE4S0HRRU</td>\n",
              "            <td>FYDKIBWN</td>\n",
              "            <td>TOX</td>\n",
              "            <td>KHV</td>\n",
              "            <td>Departed</td>\n",
              "            <td>00045877</td>\n",
              "        </tr>\n",
              "        <tr>\n",
              "            <td>5I5WU71AWR</td>\n",
              "            <td>FYYRTAUP</td>\n",
              "            <td>MQF</td>\n",
              "            <td>CYX</td>\n",
              "            <td>Departed</td>\n",
              "            <td>00073581</td>\n",
              "        </tr>\n",
              "        <tr>\n",
              "            <td>FIE30ZUHAU</td>\n",
              "            <td>FYXQGDKJ</td>\n",
              "            <td>NNM</td>\n",
              "            <td>MOW</td>\n",
              "            <td>Arrived</td>\n",
              "            <td>00108551</td>\n",
              "        </tr>\n",
              "        <tr>\n",
              "            <td>8RF8OIOVFR</td>\n",
              "            <td>FYIHSLAA</td>\n",
              "            <td>ABA</td>\n",
              "            <td>SCW</td>\n",
              "            <td>Delayed</td>\n",
              "            <td>00434546</td>\n",
              "        </tr>\n",
              "        <tr>\n",
              "            <td>JYYNPD5Q54</td>\n",
              "            <td>FYWTXNZF</td>\n",
              "            <td>STW</td>\n",
              "            <td>KHV</td>\n",
              "            <td>Cancelled</td>\n",
              "            <td>00461862</td>\n",
              "        </tr>\n",
              "        <tr>\n",
              "            <td>A71MZN54ZP</td>\n",
              "            <td>FYRGWMOU</td>\n",
              "            <td>TOF</td>\n",
              "            <td>KZN</td>\n",
              "            <td>Departed</td>\n",
              "            <td>00045877</td>\n",
              "        </tr>\n",
              "        <tr>\n",
              "            <td>DFCFUPV4XB</td>\n",
              "            <td>FYCSRAVD</td>\n",
              "            <td>AER</td>\n",
              "            <td>CSY</td>\n",
              "            <td>Departed</td>\n",
              "            <td>00095579</td>\n",
              "        </tr>\n",
              "        <tr>\n",
              "            <td>HCX33V5QUH</td>\n",
              "            <td>FYBHJBFQ</td>\n",
              "            <td>NNM</td>\n",
              "            <td>KRO</td>\n",
              "            <td>Departed</td>\n",
              "            <td>00045877</td>\n",
              "        </tr>\n",
              "        <tr>\n",
              "            <td>DAA22Y84O7</td>\n",
              "            <td>FYVJYQLI</td>\n",
              "            <td>ABA</td>\n",
              "            <td>KVX</td>\n",
              "            <td>Departed</td>\n",
              "            <td>00619341</td>\n",
              "        </tr>\n",
              "        <tr>\n",
              "            <td>30N25AXHAF</td>\n",
              "            <td>FYJLHCLF</td>\n",
              "            <td>DME</td>\n",
              "            <td>CYX</td>\n",
              "            <td>Cancelled</td>\n",
              "            <td>00473503</td>\n",
              "        </tr>\n",
              "        <tr>\n",
              "            <td>CNIKNNGF4Z</td>\n",
              "            <td>FYUTQQYR</td>\n",
              "            <td>DME</td>\n",
              "            <td>MMK</td>\n",
              "            <td>Departed</td>\n",
              "            <td>00108551</td>\n",
              "        </tr>\n",
              "        <tr>\n",
              "            <td>HC0MJ162ZZ</td>\n",
              "            <td>FYHVSSGY</td>\n",
              "            <td>OMS</td>\n",
              "            <td>RZN</td>\n",
              "            <td>Arrived</td>\n",
              "            <td>00108551</td>\n",
              "        </tr>\n",
              "        <tr>\n",
              "            <td>SFQ20OEYVR</td>\n",
              "            <td>FYKRPIYG</td>\n",
              "            <td>ARH</td>\n",
              "            <td>IKS</td>\n",
              "            <td>Scheduled</td>\n",
              "            <td>00871029</td>\n",
              "        </tr>\n",
              "        <tr>\n",
              "            <td>VR5SF5YIWN</td>\n",
              "            <td>FYCZRFLM</td>\n",
              "            <td>ESL</td>\n",
              "            <td>GOJ</td>\n",
              "            <td>Scheduled</td>\n",
              "            <td>00461862</td>\n",
              "        </tr>\n",
              "        <tr>\n",
              "            <td>X6FN294I1K</td>\n",
              "            <td>FYXLIUNH</td>\n",
              "            <td>RTW</td>\n",
              "            <td>EGO</td>\n",
              "            <td>Scheduled</td>\n",
              "            <td>00913835</td>\n",
              "        </tr>\n",
              "        <tr>\n",
              "            <td>J3B1J090J0</td>\n",
              "            <td>FYGQHJFE</td>\n",
              "            <td>BCX</td>\n",
              "            <td>KYZ</td>\n",
              "            <td>Scheduled</td>\n",
              "            <td>00434546</td>\n",
              "        </tr>\n",
              "        <tr>\n",
              "            <td>87RVI5T7A2</td>\n",
              "            <td>FYMKPDZC</td>\n",
              "            <td>OSW</td>\n",
              "            <td>STW</td>\n",
              "            <td>Arrived</td>\n",
              "            <td>00603813</td>\n",
              "        </tr>\n",
              "        <tr>\n",
              "            <td>1CZRH40E2L</td>\n",
              "            <td>FYIJUHTL</td>\n",
              "            <td>MMK</td>\n",
              "            <td>MOW</td>\n",
              "            <td>Arrived</td>\n",
              "            <td>00108551</td>\n",
              "        </tr>\n",
              "        <tr>\n",
              "            <td>MMI79V757K</td>\n",
              "            <td>FYTORWPK</td>\n",
              "            <td>KSZ</td>\n",
              "            <td>KLD</td>\n",
              "            <td>Arrived</td>\n",
              "            <td>00108551</td>\n",
              "        </tr>\n",
              "        <tr>\n",
              "            <td>5480GD0GIS</td>\n",
              "            <td>FYVXEQJW</td>\n",
              "            <td>SVO</td>\n",
              "            <td>SVX</td>\n",
              "            <td>Departed</td>\n",
              "            <td>00095579</td>\n",
              "        </tr>\n",
              "        <tr>\n",
              "            <td>Z3BPB534TR</td>\n",
              "            <td>FYLQYHXY</td>\n",
              "            <td>KHV</td>\n",
              "            <td>PKC</td>\n",
              "            <td>Arrived</td>\n",
              "            <td>00619341</td>\n",
              "        </tr>\n",
              "        <tr>\n",
              "            <td>B5L8IUXI1O</td>\n",
              "            <td>FYRHRAHE</td>\n",
              "            <td>NAL</td>\n",
              "            <td>OGZ</td>\n",
              "            <td>Departed</td>\n",
              "            <td>00913835</td>\n",
              "        </tr>\n",
              "        <tr>\n",
              "            <td>OZAO28DLFP</td>\n",
              "            <td>FYWTYJDC</td>\n",
              "            <td>PKV</td>\n",
              "            <td>MQF</td>\n",
              "            <td>Scheduled</td>\n",
              "            <td>00837897</td>\n",
              "        </tr>\n",
              "        <tr>\n",
              "            <td>XOY8HZ1LQ5</td>\n",
              "            <td>FYZFNFDC</td>\n",
              "            <td>ESL</td>\n",
              "            <td>CSY</td>\n",
              "            <td>Delayed</td>\n",
              "            <td>00461862</td>\n",
              "        </tr>\n",
              "        <tr>\n",
              "            <td>CG5B2D3KLA</td>\n",
              "            <td>FYAOCJJX</td>\n",
              "            <td>MJZ</td>\n",
              "            <td>UUS</td>\n",
              "            <td>Arrived</td>\n",
              "            <td>00871029</td>\n",
              "        </tr>\n",
              "        <tr>\n",
              "            <td>5QMWLJ4SOC</td>\n",
              "            <td>FYDKXSYX</td>\n",
              "            <td>PEE</td>\n",
              "            <td>KZN</td>\n",
              "            <td>Departed</td>\n",
              "            <td>00603813</td>\n",
              "        </tr>\n",
              "        <tr>\n",
              "            <td>8C9GNO8RBM</td>\n",
              "            <td>FYSLJUYP</td>\n",
              "            <td>PKV</td>\n",
              "            <td>BKA</td>\n",
              "            <td>Arrived</td>\n",
              "            <td>00305881</td>\n",
              "        </tr>\n",
              "        <tr>\n",
              "            <td>ZK9M965C68</td>\n",
              "            <td>FYXMFCQT</td>\n",
              "            <td>BZK</td>\n",
              "            <td>CEK</td>\n",
              "            <td>Scheduled</td>\n",
              "            <td>00913835</td>\n",
              "        </tr>\n",
              "        <tr>\n",
              "            <td>2NMMGC6EYC</td>\n",
              "            <td>FYCHPOHX</td>\n",
              "            <td>CEE</td>\n",
              "            <td>CKH</td>\n",
              "            <td>Arrived</td>\n",
              "            <td>00974590</td>\n",
              "        </tr>\n",
              "        <tr>\n",
              "            <td>BODSSG3E82</td>\n",
              "            <td>FYEEVFKF</td>\n",
              "            <td>DME</td>\n",
              "            <td>ROV</td>\n",
              "            <td>Cancelled</td>\n",
              "            <td>00871029</td>\n",
              "        </tr>\n",
              "        <tr>\n",
              "            <td>01BWVNX5Y6</td>\n",
              "            <td>FYMBJISR</td>\n",
              "            <td>UCT</td>\n",
              "            <td>AAQ</td>\n",
              "            <td>Arrived</td>\n",
              "            <td>00473503</td>\n",
              "        </tr>\n",
              "        <tr>\n",
              "            <td>1KIUNIRKJ0</td>\n",
              "            <td>FYAHGFMW</td>\n",
              "            <td>MCX</td>\n",
              "            <td>CNN</td>\n",
              "            <td>Departed</td>\n",
              "            <td>00913835</td>\n",
              "        </tr>\n",
              "        <tr>\n",
              "            <td>2O2OOCWMHY</td>\n",
              "            <td>FYJJSDGL</td>\n",
              "            <td>PVS</td>\n",
              "            <td>ROV</td>\n",
              "            <td>Arrived</td>\n",
              "            <td>00243371</td>\n",
              "        </tr>\n",
              "        <tr>\n",
              "            <td>LF1XAF7P9E</td>\n",
              "            <td>FYDPMJUK</td>\n",
              "            <td>DKS</td>\n",
              "            <td>PYJ</td>\n",
              "            <td>Departed</td>\n",
              "            <td>00243371</td>\n",
              "        </tr>\n",
              "        <tr>\n",
              "            <td>WIHYUQL6L4</td>\n",
              "            <td>FYKNDOIE</td>\n",
              "            <td>BKA</td>\n",
              "            <td>ADH</td>\n",
              "            <td>Arrived</td>\n",
              "            <td>00974590</td>\n",
              "        </tr>\n",
              "        <tr>\n",
              "            <td>PNKMZ4CY53</td>\n",
              "            <td>FYWAAXAX</td>\n",
              "            <td>PKV</td>\n",
              "            <td>TOF</td>\n",
              "            <td>Scheduled</td>\n",
              "            <td>00045877</td>\n",
              "        </tr>\n",
              "        <tr>\n",
              "            <td>4QST269XS7</td>\n",
              "            <td>FYSVZVTC</td>\n",
              "            <td>PKC</td>\n",
              "            <td>DME</td>\n",
              "            <td>Arrived</td>\n",
              "            <td>00108551</td>\n",
              "        </tr>\n",
              "        <tr>\n",
              "            <td>48AEBYYWRF</td>\n",
              "            <td>FYGOFGGS</td>\n",
              "            <td>AMV</td>\n",
              "            <td>OGZ</td>\n",
              "            <td>Arrived</td>\n",
              "            <td>00073581</td>\n",
              "        </tr>\n",
              "        <tr>\n",
              "            <td>VCKEGVKWW8</td>\n",
              "            <td>FYMQHLLW</td>\n",
              "            <td>NUX</td>\n",
              "            <td>GOJ</td>\n",
              "            <td>Scheduled</td>\n",
              "            <td>00473503</td>\n",
              "        </tr>\n",
              "        <tr>\n",
              "            <td>FN2S30I60G</td>\n",
              "            <td>FYWFBJPL</td>\n",
              "            <td>IKS</td>\n",
              "            <td>UUD</td>\n",
              "            <td>Scheduled</td>\n",
              "            <td>00434546</td>\n",
              "        </tr>\n",
              "        <tr>\n",
              "            <td>WEY6B7TDE6</td>\n",
              "            <td>FYXYBKXK</td>\n",
              "            <td>PYJ</td>\n",
              "            <td>TOF</td>\n",
              "            <td>Arrived</td>\n",
              "            <td>00243371</td>\n",
              "        </tr>\n",
              "        <tr>\n",
              "            <td>LL4S1G8PQW</td>\n",
              "            <td>FYPKNBGN</td>\n",
              "            <td>RTW</td>\n",
              "            <td>DYR</td>\n",
              "            <td>Arrived</td>\n",
              "            <td>00871029</td>\n",
              "        </tr>\n",
              "        <tr>\n",
              "            <td>JBI60Q2MGP</td>\n",
              "            <td>FYSZADHR</td>\n",
              "            <td>DME</td>\n",
              "            <td>KVX</td>\n",
              "            <td>Arrived</td>\n",
              "            <td>00913835</td>\n",
              "        </tr>\n",
              "        <tr>\n",
              "            <td>7D8SWXQ48V</td>\n",
              "            <td>FYYYFUIT</td>\n",
              "            <td>NAL</td>\n",
              "            <td>NUX</td>\n",
              "            <td>Scheduled</td>\n",
              "            <td>00305881</td>\n",
              "        </tr>\n",
              "        <tr>\n",
              "            <td>DZCBMKI9BU</td>\n",
              "            <td>FYGBZBCQ</td>\n",
              "            <td>DME</td>\n",
              "            <td>NAL</td>\n",
              "            <td>Departed</td>\n",
              "            <td>00603813</td>\n",
              "        </tr>\n",
              "        <tr>\n",
              "            <td>3AML9EO1ZU</td>\n",
              "            <td>FYWSRRLT</td>\n",
              "            <td>RVH</td>\n",
              "            <td>DME</td>\n",
              "            <td>Arrived</td>\n",
              "            <td>00837897</td>\n",
              "        </tr>\n",
              "        <tr>\n",
              "            <td>529DVPG56R</td>\n",
              "            <td>FYRJNVDV</td>\n",
              "            <td>BCX</td>\n",
              "            <td>HTA</td>\n",
              "            <td>Arrived</td>\n",
              "            <td>00913835</td>\n",
              "        </tr>\n",
              "        <tr>\n",
              "            <td>D1VLWQT9GD</td>\n",
              "            <td>FYDXJSJR</td>\n",
              "            <td>VKO</td>\n",
              "            <td>NSK</td>\n",
              "            <td>Departed</td>\n",
              "            <td>00045877</td>\n",
              "        </tr>\n",
              "        <tr>\n",
              "            <td>8GX4Z63QKE</td>\n",
              "            <td>FYLTSDSB</td>\n",
              "            <td>KUF</td>\n",
              "            <td>PBX</td>\n",
              "            <td>Scheduled</td>\n",
              "            <td>00974590</td>\n",
              "        </tr>\n",
              "        <tr>\n",
              "            <td>3WU3U5YSRV</td>\n",
              "            <td>FYBDTVEX</td>\n",
              "            <td>CEK</td>\n",
              "            <td>KSZ</td>\n",
              "            <td>Cancelled</td>\n",
              "            <td>00974590</td>\n",
              "        </tr>\n",
              "        <tr>\n",
              "            <td>3ZAQ90KNLJ</td>\n",
              "            <td>FYUKAZNV</td>\n",
              "            <td>HTA</td>\n",
              "            <td>KHV</td>\n",
              "            <td>Scheduled</td>\n",
              "            <td>00073581</td>\n",
              "        </tr>\n",
              "        <tr>\n",
              "            <td>Z1ZBYY6OL3</td>\n",
              "            <td>FYVADNYC</td>\n",
              "            <td>KRO</td>\n",
              "            <td>SGC</td>\n",
              "            <td>Scheduled</td>\n",
              "            <td>00619341</td>\n",
              "        </tr>\n",
              "        <tr>\n",
              "            <td>7AYT1ZEL9L</td>\n",
              "            <td>FYTSDYQF</td>\n",
              "            <td>ACS</td>\n",
              "            <td>STW</td>\n",
              "            <td>Arrived</td>\n",
              "            <td>00461862</td>\n",
              "        </tr>\n",
              "        <tr>\n",
              "            <td>MNSKOUBKF9</td>\n",
              "            <td>FYECNFGA</td>\n",
              "            <td>KHV</td>\n",
              "            <td>SVX</td>\n",
              "            <td>Arrived</td>\n",
              "            <td>00108551</td>\n",
              "        </tr>\n",
              "        <tr>\n",
              "            <td>5X1DUI7MXZ</td>\n",
              "            <td>FYUGYNWQ</td>\n",
              "            <td>BCX</td>\n",
              "            <td>RTW</td>\n",
              "            <td>Departed</td>\n",
              "            <td>00473503</td>\n",
              "        </tr>\n",
              "        <tr>\n",
              "            <td>NNNU1G3P7E</td>\n",
              "            <td>FYNDDJVU</td>\n",
              "            <td>DYR</td>\n",
              "            <td>SCW</td>\n",
              "            <td>Departed</td>\n",
              "            <td>00243371</td>\n",
              "        </tr>\n",
              "        <tr>\n",
              "            <td>18DMF6OGN9</td>\n",
              "            <td>FYLAZXFB</td>\n",
              "            <td>VKT</td>\n",
              "            <td>VKO</td>\n",
              "            <td>Departed</td>\n",
              "            <td>00619341</td>\n",
              "        </tr>\n",
              "        <tr>\n",
              "            <td>XYXL53SCQK</td>\n",
              "            <td>FYHTHJSQ</td>\n",
              "            <td>SGC</td>\n",
              "            <td>KGP</td>\n",
              "            <td>Delayed</td>\n",
              "            <td>00461862</td>\n",
              "        </tr>\n",
              "        <tr>\n",
              "            <td>UT37FSBM4O</td>\n",
              "            <td>FYMONFVU</td>\n",
              "            <td>KEJ</td>\n",
              "            <td>PYJ</td>\n",
              "            <td>Arrived</td>\n",
              "            <td>00305881</td>\n",
              "        </tr>\n",
              "        <tr>\n",
              "            <td>6FN3ZKYEVY</td>\n",
              "            <td>FYWGBVVX</td>\n",
              "            <td>IKS</td>\n",
              "            <td>NOZ</td>\n",
              "            <td>Scheduled</td>\n",
              "            <td>00095579</td>\n",
              "        </tr>\n",
              "        <tr>\n",
              "            <td>H27PNTQH4K</td>\n",
              "            <td>FYLVNAEX</td>\n",
              "            <td>NSK</td>\n",
              "            <td>RZN</td>\n",
              "            <td>Scheduled</td>\n",
              "            <td>00603813</td>\n",
              "        </tr>\n",
              "        <tr>\n",
              "            <td>M8L4LI30P2</td>\n",
              "            <td>FYBHJCIQ</td>\n",
              "            <td>PYJ</td>\n",
              "            <td>SGC</td>\n",
              "            <td>Arrived</td>\n",
              "            <td>00305881</td>\n",
              "        </tr>\n",
              "        <tr>\n",
              "            <td>QZV6ZMWWTB</td>\n",
              "            <td>FYFKGDGH</td>\n",
              "            <td>NSK</td>\n",
              "            <td>MMK</td>\n",
              "            <td>Cancelled</td>\n",
              "            <td>00305881</td>\n",
              "        </tr>\n",
              "        <tr>\n",
              "            <td>RQUAPVXU7I</td>\n",
              "            <td>FYTLTEYC</td>\n",
              "            <td>RTW</td>\n",
              "            <td>UUS</td>\n",
              "            <td>Scheduled</td>\n",
              "            <td>00473503</td>\n",
              "        </tr>\n",
              "        <tr>\n",
              "            <td>TRBF4TTDIU</td>\n",
              "            <td>FYTQYCMA</td>\n",
              "            <td>DME</td>\n",
              "            <td>LED</td>\n",
              "            <td>Delayed</td>\n",
              "            <td>00974590</td>\n",
              "        </tr>\n",
              "        <tr>\n",
              "            <td>FL98ACKIH1</td>\n",
              "            <td>FYNYHKCT</td>\n",
              "            <td>DME</td>\n",
              "            <td>VKT</td>\n",
              "            <td>Arrived</td>\n",
              "            <td>00603813</td>\n",
              "        </tr>\n",
              "        <tr>\n",
              "            <td>MSHHF6KLJT</td>\n",
              "            <td>FYFKRKVJ</td>\n",
              "            <td>TJM</td>\n",
              "            <td>KSZ</td>\n",
              "            <td>Scheduled</td>\n",
              "            <td>00619341</td>\n",
              "        </tr>\n",
              "        <tr>\n",
              "            <td>JQF04Q8I9G</td>\n",
              "            <td>FYIZWBNV</td>\n",
              "            <td>PEZ</td>\n",
              "            <td>ROV</td>\n",
              "            <td>Arrived</td>\n",
              "            <td>00073581</td>\n",
              "        </tr>\n",
              "        <tr>\n",
              "            <td>DQJN8Z0910</td>\n",
              "            <td>FYJKLZLE</td>\n",
              "            <td>NSK</td>\n",
              "            <td>CSY</td>\n",
              "            <td>Arrived</td>\n",
              "            <td>00913835</td>\n",
              "        </tr>\n",
              "        <tr>\n",
              "            <td>NWVY6OMNG7</td>\n",
              "            <td>FYCLQKGI</td>\n",
              "            <td>UCT</td>\n",
              "            <td>PEZ</td>\n",
              "            <td>Arrived</td>\n",
              "            <td>00837897</td>\n",
              "        </tr>\n",
              "        <tr>\n",
              "            <td>YJW1ZNCFBS</td>\n",
              "            <td>FYZFBTDO</td>\n",
              "            <td>KEJ</td>\n",
              "            <td>BTK</td>\n",
              "            <td>Scheduled</td>\n",
              "            <td>00619341</td>\n",
              "        </tr>\n",
              "        <tr>\n",
              "            <td>HXCMRFOB6P</td>\n",
              "            <td>FYVYYQRC</td>\n",
              "            <td>DKS</td>\n",
              "            <td>BTK</td>\n",
              "            <td>Scheduled</td>\n",
              "            <td>00871029</td>\n",
              "        </tr>\n",
              "        <tr>\n",
              "            <td>3XE7G7OE4P</td>\n",
              "            <td>FYNELFIN</td>\n",
              "            <td>UUD</td>\n",
              "            <td>NSK</td>\n",
              "            <td>Scheduled</td>\n",
              "            <td>00603813</td>\n",
              "        </tr>\n",
              "        <tr>\n",
              "            <td>8N2KAM9DEC</td>\n",
              "            <td>FYSPDVSV</td>\n",
              "            <td>ACS</td>\n",
              "            <td>IJK</td>\n",
              "            <td>Departed</td>\n",
              "            <td>00603813</td>\n",
              "        </tr>\n",
              "        <tr>\n",
              "            <td>41BVLBDKOH</td>\n",
              "            <td>FYYCTKNY</td>\n",
              "            <td>KUF</td>\n",
              "            <td>EGO</td>\n",
              "            <td>Scheduled</td>\n",
              "            <td>00603813</td>\n",
              "        </tr>\n",
              "        <tr>\n",
              "            <td>35OHWYY8IU</td>\n",
              "            <td>FYBVATBF</td>\n",
              "            <td>BWO</td>\n",
              "            <td>ROV</td>\n",
              "            <td>Scheduled</td>\n",
              "            <td>00619341</td>\n",
              "        </tr>\n",
              "        <tr>\n",
              "            <td>YOH0RM9VQF</td>\n",
              "            <td>FYXURBHU</td>\n",
              "            <td>ACS</td>\n",
              "            <td>OSW</td>\n",
              "            <td>Scheduled</td>\n",
              "            <td>00045877</td>\n",
              "        </tr>\n",
              "        <tr>\n",
              "            <td>YCXO645BFL</td>\n",
              "            <td>FYSLXGSG</td>\n",
              "            <td>VKO</td>\n",
              "            <td>DME</td>\n",
              "            <td>Arrived</td>\n",
              "            <td>00073581</td>\n",
              "        </tr>\n",
              "        <tr>\n",
              "            <td>8ZTSNCGKI5</td>\n",
              "            <td>FYOSOJBM</td>\n",
              "            <td>BQS</td>\n",
              "            <td>MOW</td>\n",
              "            <td>Arrived</td>\n",
              "            <td>00305881</td>\n",
              "        </tr>\n",
              "        <tr>\n",
              "            <td>YPKNDOQ55S</td>\n",
              "            <td>FYTSBUNH</td>\n",
              "            <td>MQF</td>\n",
              "            <td>KYZ</td>\n",
              "            <td>Scheduled</td>\n",
              "            <td>00603813</td>\n",
              "        </tr>\n",
              "        <tr>\n",
              "            <td>VTHTJMYTT0</td>\n",
              "            <td>FYCJUWEV</td>\n",
              "            <td>UUS</td>\n",
              "            <td>AMV</td>\n",
              "            <td>Arrived</td>\n",
              "            <td>00073581</td>\n",
              "        </tr>\n",
              "        <tr>\n",
              "            <td>THCLB4OOC0</td>\n",
              "            <td>FYGZIAIP</td>\n",
              "            <td>UFA</td>\n",
              "            <td>RZN</td>\n",
              "            <td>Departed</td>\n",
              "            <td>00913835</td>\n",
              "        </tr>\n",
              "        <tr>\n",
              "            <td>29RXLVJHVJ</td>\n",
              "            <td>FYBSRELS</td>\n",
              "            <td>PVS</td>\n",
              "            <td>KSZ</td>\n",
              "            <td>Departed</td>\n",
              "            <td>00095579</td>\n",
              "        </tr>\n",
              "        <tr>\n",
              "            <td>N7SRZUAXMM</td>\n",
              "            <td>FYVXIVHZ</td>\n",
              "            <td>KZN</td>\n",
              "            <td>DME</td>\n",
              "            <td>Arrived</td>\n",
              "            <td>00243371</td>\n",
              "        </tr>\n",
              "        <tr>\n",
              "            <td>QMWW87WUE2</td>\n",
              "            <td>FYJUOLRJ</td>\n",
              "            <td>OVB</td>\n",
              "            <td>GDX</td>\n",
              "            <td>Departed</td>\n",
              "            <td>00073581</td>\n",
              "        </tr>\n",
              "    </tbody>\n",
              "</table>"
            ]
          },
          "metadata": {},
          "execution_count": 15
        }
      ]
    },
    {
      "cell_type": "markdown",
      "source": [
        "Выведите все содержимое таблицы clients. В выборке должны присутствовать все семь атрибутов данной таблицы.\n",
        "<img src=\"https://github.com/trisha00001/file/blob/main/client.png?raw=true\">"
      ],
      "metadata": {
        "id": "cGlCgs3F0Pth"
      }
    },
    {
      "cell_type": "code",
      "source": [
        "%%sql\n",
        "CREATE TABLE clients(\n",
        "    id NVARCHAR (15),\n",
        "    name NVARCHAR (25),\n",
        "    phone NVARCHAR (15),\n",
        "    age int,\n",
        "    PRIMARY KEY (id)\n",
        ")"
      ],
      "metadata": {
        "id": "-PMybe6K8KBC",
        "colab": {
          "base_uri": "https://localhost:8080/"
        },
        "outputId": "741f5e3c-6f42-4611-cf43-568e6097dbaa"
      },
      "execution_count": null,
      "outputs": [
        {
          "output_type": "stream",
          "name": "stdout",
          "text": [
            " * sqlite:///bd.db\n",
            "Done.\n"
          ]
        },
        {
          "output_type": "execute_result",
          "data": {
            "text/plain": [
              "[]"
            ]
          },
          "metadata": {},
          "execution_count": 16
        }
      ]
    },
    {
      "cell_type": "markdown",
      "source": [
        "Заполните"
      ],
      "metadata": {
        "id": "yTI3M6CxIcQK"
      }
    },
    {
      "cell_type": "code",
      "source": [
        "id\tname\tphone\tage\n",
        "LGEBN53X8I1Y\tIvan Egorov\t+72630859116\t40\n",
        "4NRRAHARBISL\tVyacheslav Petrov\t+72634849916\t57\n",
        "HKPSZUJQDQVG\tVictor Volkov\t+72630859116\t21\n",
        "M8TLNY8O5UYZ\tTatiana Pavlova\t+70265999830\t52\n",
        "O0R58CGGIRCB\tElizaveta Egorova\t+70524100898\t65\n",
        "BSR85GQFNRCB\tAnna Morozova\t+75198645540\t62\n",
        "QO75HHT3YFCV\tAleksandra Stepanova\t+70512187274\t71\n",
        "L66RT0W5VFCV\tLudmila Ivanova\t+77190012242\t41\n",
        "3EA2CXG3P3VW\tAleksandr Nikolaev\t+71333997867\t36\n",
        "4CBL1CSSHTOZ\tDmitry Petrov\t+76684550143\t74\n",
        "A1FDG6PIV84W\tDenis Stepanov\t+77140700202\t26\n",
        "MAFROHBKRFOF\tMaria Egorova\t+75763445454\t54\n",
        "P4TMWQHK4BPV\tAngelina Petrova\t+74505025239\t50\n",
        "41375QMWKX55\tNadezhda Popova\t+72774899565\t74\n",
        "6DM0TK59KMP9\tBoris Sokolov\t+73451751747\t36\n",
        "YXBLICL96GXL\tNadezhda Ivanova\t+77287237553\t35\n",
        "4A9FUE95UMTR\tDaria Novikova\t+79043659102\t54\n",
        "4A9FUE95UVTR\tDARIA Novikova\t+79043659103\t24\n",
        "HYS9XO5IUI4K\tDaria Volkova\t+72900278935\t70\n",
        "ZZIA7AEYNC8A\tMaria Fedorova\t+78932431470\t28\n",
        "9EQ0DBEU761J\tTatiana Volkova\t+70867367875\t70\n"
      ],
      "metadata": {
        "id": "1QQNqH7ZIfWx"
      },
      "execution_count": null,
      "outputs": []
    },
    {
      "cell_type": "code",
      "source": [
        "with open('clients.csv', 'r', encoding='cp1252') as f:\n",
        "    fcsv = csv.reader(f)\n",
        "    recs_to_load = [record for record in fcsv]\n",
        "    cursor.executemany(\"INSERT INTO clients VALUES (?,?,?,?)\", recs_to_load)\n",
        "\n",
        "\n",
        "db.commit()"
      ],
      "metadata": {
        "id": "O5npysU4NHuS"
      },
      "execution_count": null,
      "outputs": []
    },
    {
      "cell_type": "markdown",
      "source": [
        "Выведите все содержимое таблицы tickets. В выборке должны присутствовать все семь атрибутов данной таблицы.\n",
        "<img src=\"https://github.com/trisha00001/file/blob/main/clients.png?raw=true\">"
      ],
      "metadata": {
        "id": "KtzQ_7uDIfz3"
      }
    },
    {
      "cell_type": "code",
      "source": [
        "%%sql\n",
        "CREATE TABLE tickets(\n",
        "    id NVARCHAR (15),\n",
        "    trip_id NVARCHAR (25),\n",
        "    service_class NVARCHAR (15),\n",
        "    price int,\n",
        "    client_id NVARCHAR (15),\n",
        "    PRIMARY KEY (id)\n",
        ")"
      ],
      "metadata": {
        "id": "Qypbwvql69rk",
        "colab": {
          "base_uri": "https://localhost:8080/"
        },
        "outputId": "bb97a1f8-4bb3-41b7-b055-df406d545717"
      },
      "execution_count": null,
      "outputs": [
        {
          "output_type": "stream",
          "name": "stdout",
          "text": [
            " * sqlite:///bd.db\n",
            "Done.\n"
          ]
        },
        {
          "output_type": "execute_result",
          "data": {
            "text/plain": [
              "[]"
            ]
          },
          "metadata": {},
          "execution_count": 18
        }
      ]
    },
    {
      "cell_type": "code",
      "source": [
        "id\ttrip_id\tservice_class\tprice\tclient_id\n",
        "UE01H8UCJQ8O\tRL6EC4YWB1\tEconomy\t10000\tLGEBN53X8I1Y\n",
        "WCADJ8UOTCWD\tLL4S1G8PQW\tEconomy\t10000\t4NRRAHARBISL\n",
        "MXFLZA9PHHWI\tLL4S1G8PQW\tEconomy\t10000\t41375QMWKX55\n",
        "WU6KOQZTRH3E\t7D8SWXQ48V\tEconomy\t10000\t3EA2CXG3P3VW\n",
        "OQ83AMHE59DM\t8RF8OIOVFR\tFirstClass\t257460\t4NRRAHARBISL\n",
        "NKFQ4RNLXYEC\t5QMWLJ4SOC\tPremiumEconomy\t20000\t4NRRAHARBISL\n",
        "3T9S9R8CRDVY\t8RF8OIOVFR\tEconomy\t25330\tA1FDG6PIV84W\n",
        "GSIGUCHIESDF\t87RVI5T7A2\tEconomy\t33750\tL66RT0W5VKCO\n",
        "2YOI2PSODQL3\tWEY6B7TDE6\tPremiumEconomy\t19999\t6DM0TK59KMP9\n",
        "JWSMMHW2XMAB\t87RVI5T7A2\tEconomy\t65001\tMAFROHBKRFOF\n",
        "TQBQR0IMN32H\t3ZAQ90KNLJ\tPremiumEconomy\t65001\tHKPSZUJQDQVG\n",
        "8NSZ3Y13W04A\tOZAO28DLFP\tEconomy\t10450\tBSR85GQFNRCB\n",
        "ZA39AID06OZN\tXOY8HZ1LQ5\tFirstClass\t437660\tO0R58CGGIQJD\n",
        "WVXFO0DFSW73\tH27PNTQH4K\tEconomy\t23370\tQO75HHT3YFCV\n",
        "ZCQ7UFXD2I3K\tHC0MJ162ZZ\tEconomy\t41920\tHKPSZUJQDQVG\n",
        "H4GNE6O3CJ82\t3XE7G7OE4P\tEconomy\t18940\tYXBLICL96GXL\n",
        "E5TKAEGCMZ7W\t35OHWYY8IU\tPremiumEconomy\t30001\t6DM0TK59KMP9\n",
        "3DGXUL6T9E8B\tZ3BPB534TR\tEconomy\t14170\tP4TMWQHK4BPV\n",
        "702ADQNIS69Z\t87RVI5T7A2\tEconomy\t23170\t4NRRAHARBISL\n",
        "IR71NM41MRLM\tB5L8IUXI1O\tEconomy\t36120\tA1FDG6PIV84W\n",
        "ZLN3ZYL2E7UD\tLL4S1G8PQW\tPremiumEconomy\t65001\t4CBL1CSSHTOZ\n",
        "JJZ1LAYOR40K\tNWVY6OMNG7\tEconomy\t30380\t4A9FUE95UMTR\n",
        "02L9TNINKTTY\tBODSSG3E82\tPremiumEconomy\t57370\tA1FDG6PIV84W\n",
        "5RJ9VEVLTIRR\tP1KMGIH0LB\tPremiumEconomy\t33820\tQO75HHT3YFCV\n",
        "TVEHF8S5D1KL\t41BVLBDKOH\tEconomy\t32380\t41375QMWKX55\n",
        "18IWPW434XAU\tJQF04Q8I9G\tEconomy\t22490\tHYS9XO5IUI4K\n",
        "PQQH44EIOUNQ\tUT37FSBM4O\tBusiness\t99999\t9EQ0DBEU761J\n",
        "WNO7QWHNQ1X6\tDFCFUPV4XB\tFirstClass\t280240\tMAFROHBKRFOF\n",
        "PO3F39IYONF4\tI7OL2KZUTM\tEconomy\t36080\tMAFROHBKRFOF\n",
        "MZH0D5052IEQ\t29RXLVJHVJ\tEconomy\t24200\t4NRRAHARBISL\n",
        "8NN75L120I5Q\tZK9M965C68\tPremiumEconomy\t65000\tZZIA7AEYNC8A\n",
        "HCCVSTRLNGJV\t1OOOROHFT5\tEconomy\t26290\tYXBLICL96GXL\n",
        "86274XSOSNJ6\tOZAO28DLFP\tEconomy\t39470\t9EQ0DBEU761J\n",
        "9Y93S7E4Q145\tDTN6F9SMFY\tEconomy\t46400\tO0R58CGGIQJD\n",
        "B7BH71HM23J7\tWEY6B7TDE6\tEconomy\t6950\tL66RT0W5VKCO\n",
        "OCNIND8J6YD7\t6FN3ZKYEVY\tEconomy\t46870\tHYS9XO5IUI4K\n",
        "A6LRS128V10I\tYRDP58VH7Z\tEconomy\t13200\tMAFROHBKRFOF\n",
        "CXSABAOA2CS2\tWIHYUQL6L4\tEconomy\t18470\tZZIA7AEYNC8A\n",
        "Z2VWROS7T4IR\tOZAO28DLFP\tEconomy\t9610\tA1FDG6PIV84W\n",
        "7P4K971958IX\tWEY6B7TDE6\tEconomy\t7590\tHKPSZUJQDQVG\n",
        "VR9P4MQ6HJ8M\tI7OL2KZUTM\tEconomy\t45730\tL66RT0W5VKCO\n",
        "VJT08F5YKP7D\t87RVI5T7A2\tEconomy\t13201\t6DM0TK59KMP9\n",
        "ID17JOA1HZJL\tDAA22Y84O7\tEconomy\t39850\tQO75HHT3YFCV\n",
        "AA0MZV3QASIE\tVR5SF5YIWN\tEconomy\t35860\tMAFROHBKRFOF\n",
        "8UVQROLPPF2E\t01BWVNX5Y6\tPremiumEconomy\t48900\t4CBL1CSSHTOZ\n",
        "UDE15B2QXYR5\tDZCBMKI9BU\tEconomy\t47900\tYXBLICL96GXL\n",
        "05XGD0C3SD0A\t41BVLBDKOH\tEconomy\t46310\tHYS9XO5IUI4K\n",
        "3Z45EW0ESQSK\tVR5SF5YIWN\tBusiness\t9100\tHYS9XO5IUI4K\n",
        "3Z45EW0ESQMF\tOZAO28DLFP\tBusiness\t9099\tHYS9XO5IUI4K\n",
        "3Z46EB0ESQMF\t0SE4S0HRRU\tBusiness\t14999\tHYS9XO5IUI4K\n",
        "3Z46EBFEDQMF\t0SE4S0HRRU\tBusiness\t15000\tHYS9XO5IUI4K\n",
        "3Z45EW0ESQSR\t0SE4S0HRRU\tBusiness\t70401\tHYS9XO5IUI4K\n",
        "3Z45EW0ESQSF\t0SE4S0HRRU\tBusiness\t170400\tHYS9XO5IUI4K\n",
        "2OUQ2N9GNF4A\tDAA22Y84O7\tEconomy\t48760\tBSR85GQFNRCB\n",
        "WI1OKUNNVU6D\tVCKEGVKWW8\tEconomy\t47110\t4NRRAHARBISL\n"
      ],
      "metadata": {
        "id": "OIWviJsDI67f"
      },
      "execution_count": null,
      "outputs": []
    },
    {
      "cell_type": "code",
      "source": [
        "with open('tickets.csv', 'r', encoding='cp1252') as f:\n",
        "    fcsv = csv.reader(f)\n",
        "    recs_to_load = [record for record in fcsv]\n",
        "    cursor.executemany(\"INSERT INTO tickets VALUES (?,?,?,?,?)\", recs_to_load)\n",
        "\n",
        "\n",
        "db.commit()"
      ],
      "metadata": {
        "id": "ikm6ct460mek"
      },
      "execution_count": null,
      "outputs": []
    },
    {
      "cell_type": "markdown",
      "source": [
        "Задача:\n",
        "\n",
        "Выведите все содержимое таблицы airliners. В выборке должны присутствовать все семь атрибутов данной таблицы."
      ],
      "metadata": {
        "id": "HGwZO2zvJHGq"
      }
    },
    {
      "cell_type": "code",
      "source": [
        "%%sql\n",
        "SELECT * FROM airliners"
      ],
      "metadata": {
        "id": "AAzO-tpSJH_J",
        "colab": {
          "base_uri": "https://localhost:8080/",
          "height": 601
        },
        "outputId": "4b900ce6-2099-4676-df2a-94f50442473e"
      },
      "execution_count": null,
      "outputs": [
        {
          "output_type": "stream",
          "name": "stdout",
          "text": [
            " * sqlite:///bd.db\n",
            "Done.\n"
          ]
        },
        {
          "output_type": "execute_result",
          "data": {
            "text/plain": [
              "[('id', 'model_name', 'range', 'production_year', 'color', 'side_number', 'country'),\n",
              " ('00095579', 'Airbus A320-200', '12800', '2016', 'white', '7729', 'Russia'),\n",
              " ('00474576', 'Boeing 777-300', '7899', '2008', 'brown', '5692', 'Russia'),\n",
              " ('00434546', 'Boeing 777-300', '7900', '2008', 'brown', '5693', 'Russia'),\n",
              " ('00464547', 'Boeing 777-300', '5999', '2008', 'brown', '5694', 'Russia'),\n",
              " ('00913835', 'Airbus A320-200', '14200', '2000', 'white', '3919', 'Germany'),\n",
              " ('00243371', 'Airbus A320-200', '10100', '2005', 'white', '562', 'Russia'),\n",
              " ('00073581', 'Boeing 777-300', '13700', '2018', 'white', '3267', 'Russia'),\n",
              " ('00837896', 'Sukhoi Superjet-100', '4199', '2013', 'white', '868', 'Russia'),\n",
              " ('00837897', 'Sukhoi Superjet-100', '4200', '2013', 'white', '869', 'Russia'),\n",
              " ('00837898', 'Sukhoi Superjet-100', '4201', '2013', 'white', '870', 'Russia'),\n",
              " ('00108551', 'Airbus A320-200', '13900', '2017', 'white', '6022', 'Russia'),\n",
              " ('00473503', 'Airbus A321-200', '10900', '2012', 'white', '8474', 'France'),\n",
              " ('00871029', 'Boeing 777-300', '12700', '2002', 'white', '4070', 'Germany'),\n",
              " ('00974590', 'Boeing 777-300', '13200', '2005', 'white', '488', 'Germany'),\n",
              " ('00461862', 'Airbus A321-200', '12800', '2020', 'white', '6039', 'France'),\n",
              " ('00603813', 'Boeing 777-300', '11700', '2017', 'white', '6001', 'Russia'),\n",
              " ('00619341', 'Airbus A321-200', '10600', '2008', 'white', '7561', 'Russia'),\n",
              " ('00305881', 'Boeing 777-300', '12300', '2005', 'green', '1426', 'Russia'),\n",
              " ('00045877', 'Airbus A321-200', '12900', '1998', 'white', '3879', 'Russia'),\n",
              " ('00569298', 'Cessna 172', '1000', '1979', 'white', '8304', 'Russia'),\n",
              " ('00539298', 'Cessna 172', '1001', '1979', 'white', '8305', 'Russia'),\n",
              " ('00569299', 'Cessna 172', '1200', '1978', 'white', '8306', 'Russia'),\n",
              " ('00569399', 'Cessna 172', '2500', '1978', 'white', '8307', 'Russia'),\n",
              " ('00569279', 'Cessna 172', '2501', '1978', 'white', '8308', 'Russia')]"
            ],
            "text/html": [
              "<table>\n",
              "    <thead>\n",
              "        <tr>\n",
              "            <th>id</th>\n",
              "            <th>model_name</th>\n",
              "            <th>range</th>\n",
              "            <th>production_year</th>\n",
              "            <th>color</th>\n",
              "            <th>side_number</th>\n",
              "            <th>country</th>\n",
              "        </tr>\n",
              "    </thead>\n",
              "    <tbody>\n",
              "        <tr>\n",
              "            <td>id</td>\n",
              "            <td>model_name</td>\n",
              "            <td>range</td>\n",
              "            <td>production_year</td>\n",
              "            <td>color</td>\n",
              "            <td>side_number</td>\n",
              "            <td>country</td>\n",
              "        </tr>\n",
              "        <tr>\n",
              "            <td>00095579</td>\n",
              "            <td>Airbus A320-200</td>\n",
              "            <td>12800</td>\n",
              "            <td>2016</td>\n",
              "            <td>white</td>\n",
              "            <td>7729</td>\n",
              "            <td>Russia</td>\n",
              "        </tr>\n",
              "        <tr>\n",
              "            <td>00474576</td>\n",
              "            <td>Boeing 777-300</td>\n",
              "            <td>7899</td>\n",
              "            <td>2008</td>\n",
              "            <td>brown</td>\n",
              "            <td>5692</td>\n",
              "            <td>Russia</td>\n",
              "        </tr>\n",
              "        <tr>\n",
              "            <td>00434546</td>\n",
              "            <td>Boeing 777-300</td>\n",
              "            <td>7900</td>\n",
              "            <td>2008</td>\n",
              "            <td>brown</td>\n",
              "            <td>5693</td>\n",
              "            <td>Russia</td>\n",
              "        </tr>\n",
              "        <tr>\n",
              "            <td>00464547</td>\n",
              "            <td>Boeing 777-300</td>\n",
              "            <td>5999</td>\n",
              "            <td>2008</td>\n",
              "            <td>brown</td>\n",
              "            <td>5694</td>\n",
              "            <td>Russia</td>\n",
              "        </tr>\n",
              "        <tr>\n",
              "            <td>00913835</td>\n",
              "            <td>Airbus A320-200</td>\n",
              "            <td>14200</td>\n",
              "            <td>2000</td>\n",
              "            <td>white</td>\n",
              "            <td>3919</td>\n",
              "            <td>Germany</td>\n",
              "        </tr>\n",
              "        <tr>\n",
              "            <td>00243371</td>\n",
              "            <td>Airbus A320-200</td>\n",
              "            <td>10100</td>\n",
              "            <td>2005</td>\n",
              "            <td>white</td>\n",
              "            <td>562</td>\n",
              "            <td>Russia</td>\n",
              "        </tr>\n",
              "        <tr>\n",
              "            <td>00073581</td>\n",
              "            <td>Boeing 777-300</td>\n",
              "            <td>13700</td>\n",
              "            <td>2018</td>\n",
              "            <td>white</td>\n",
              "            <td>3267</td>\n",
              "            <td>Russia</td>\n",
              "        </tr>\n",
              "        <tr>\n",
              "            <td>00837896</td>\n",
              "            <td>Sukhoi Superjet-100</td>\n",
              "            <td>4199</td>\n",
              "            <td>2013</td>\n",
              "            <td>white</td>\n",
              "            <td>868</td>\n",
              "            <td>Russia</td>\n",
              "        </tr>\n",
              "        <tr>\n",
              "            <td>00837897</td>\n",
              "            <td>Sukhoi Superjet-100</td>\n",
              "            <td>4200</td>\n",
              "            <td>2013</td>\n",
              "            <td>white</td>\n",
              "            <td>869</td>\n",
              "            <td>Russia</td>\n",
              "        </tr>\n",
              "        <tr>\n",
              "            <td>00837898</td>\n",
              "            <td>Sukhoi Superjet-100</td>\n",
              "            <td>4201</td>\n",
              "            <td>2013</td>\n",
              "            <td>white</td>\n",
              "            <td>870</td>\n",
              "            <td>Russia</td>\n",
              "        </tr>\n",
              "        <tr>\n",
              "            <td>00108551</td>\n",
              "            <td>Airbus A320-200</td>\n",
              "            <td>13900</td>\n",
              "            <td>2017</td>\n",
              "            <td>white</td>\n",
              "            <td>6022</td>\n",
              "            <td>Russia</td>\n",
              "        </tr>\n",
              "        <tr>\n",
              "            <td>00473503</td>\n",
              "            <td>Airbus A321-200</td>\n",
              "            <td>10900</td>\n",
              "            <td>2012</td>\n",
              "            <td>white</td>\n",
              "            <td>8474</td>\n",
              "            <td>France</td>\n",
              "        </tr>\n",
              "        <tr>\n",
              "            <td>00871029</td>\n",
              "            <td>Boeing 777-300</td>\n",
              "            <td>12700</td>\n",
              "            <td>2002</td>\n",
              "            <td>white</td>\n",
              "            <td>4070</td>\n",
              "            <td>Germany</td>\n",
              "        </tr>\n",
              "        <tr>\n",
              "            <td>00974590</td>\n",
              "            <td>Boeing 777-300</td>\n",
              "            <td>13200</td>\n",
              "            <td>2005</td>\n",
              "            <td>white</td>\n",
              "            <td>488</td>\n",
              "            <td>Germany</td>\n",
              "        </tr>\n",
              "        <tr>\n",
              "            <td>00461862</td>\n",
              "            <td>Airbus A321-200</td>\n",
              "            <td>12800</td>\n",
              "            <td>2020</td>\n",
              "            <td>white</td>\n",
              "            <td>6039</td>\n",
              "            <td>France</td>\n",
              "        </tr>\n",
              "        <tr>\n",
              "            <td>00603813</td>\n",
              "            <td>Boeing 777-300</td>\n",
              "            <td>11700</td>\n",
              "            <td>2017</td>\n",
              "            <td>white</td>\n",
              "            <td>6001</td>\n",
              "            <td>Russia</td>\n",
              "        </tr>\n",
              "        <tr>\n",
              "            <td>00619341</td>\n",
              "            <td>Airbus A321-200</td>\n",
              "            <td>10600</td>\n",
              "            <td>2008</td>\n",
              "            <td>white</td>\n",
              "            <td>7561</td>\n",
              "            <td>Russia</td>\n",
              "        </tr>\n",
              "        <tr>\n",
              "            <td>00305881</td>\n",
              "            <td>Boeing 777-300</td>\n",
              "            <td>12300</td>\n",
              "            <td>2005</td>\n",
              "            <td>green</td>\n",
              "            <td>1426</td>\n",
              "            <td>Russia</td>\n",
              "        </tr>\n",
              "        <tr>\n",
              "            <td>00045877</td>\n",
              "            <td>Airbus A321-200</td>\n",
              "            <td>12900</td>\n",
              "            <td>1998</td>\n",
              "            <td>white</td>\n",
              "            <td>3879</td>\n",
              "            <td>Russia</td>\n",
              "        </tr>\n",
              "        <tr>\n",
              "            <td>00569298</td>\n",
              "            <td>Cessna 172</td>\n",
              "            <td>1000</td>\n",
              "            <td>1979</td>\n",
              "            <td>white</td>\n",
              "            <td>8304</td>\n",
              "            <td>Russia</td>\n",
              "        </tr>\n",
              "        <tr>\n",
              "            <td>00539298</td>\n",
              "            <td>Cessna 172</td>\n",
              "            <td>1001</td>\n",
              "            <td>1979</td>\n",
              "            <td>white</td>\n",
              "            <td>8305</td>\n",
              "            <td>Russia</td>\n",
              "        </tr>\n",
              "        <tr>\n",
              "            <td>00569299</td>\n",
              "            <td>Cessna 172</td>\n",
              "            <td>1200</td>\n",
              "            <td>1978</td>\n",
              "            <td>white</td>\n",
              "            <td>8306</td>\n",
              "            <td>Russia</td>\n",
              "        </tr>\n",
              "        <tr>\n",
              "            <td>00569399</td>\n",
              "            <td>Cessna 172</td>\n",
              "            <td>2500</td>\n",
              "            <td>1978</td>\n",
              "            <td>white</td>\n",
              "            <td>8307</td>\n",
              "            <td>Russia</td>\n",
              "        </tr>\n",
              "        <tr>\n",
              "            <td>00569279</td>\n",
              "            <td>Cessna 172</td>\n",
              "            <td>2501</td>\n",
              "            <td>1978</td>\n",
              "            <td>white</td>\n",
              "            <td>8308</td>\n",
              "            <td>Russia</td>\n",
              "        </tr>\n",
              "    </tbody>\n",
              "</table>"
            ]
          },
          "metadata": {},
          "execution_count": 20
        }
      ]
    },
    {
      "cell_type": "markdown",
      "source": [
        "Задача:\n",
        "\n",
        "Выведите бортовые номера всех самолетов авиакомпании. В выборке должен присутствовать один атрибут — side_number."
      ],
      "metadata": {
        "id": "c632VKdbJIpI"
      }
    },
    {
      "cell_type": "code",
      "source": [
        "%%sql\n",
        "SELECT side_number\n",
        "FROM airliners"
      ],
      "metadata": {
        "id": "uPlUzqaVJOsa",
        "colab": {
          "base_uri": "https://localhost:8080/",
          "height": 601
        },
        "outputId": "12bea425-3b5e-4d41-fbc2-146c409164c8"
      },
      "execution_count": null,
      "outputs": [
        {
          "output_type": "stream",
          "name": "stdout",
          "text": [
            " * sqlite:///bd.db\n",
            "Done.\n"
          ]
        },
        {
          "output_type": "execute_result",
          "data": {
            "text/plain": [
              "[('side_number',),\n",
              " ('7729',),\n",
              " ('5692',),\n",
              " ('5693',),\n",
              " ('5694',),\n",
              " ('3919',),\n",
              " ('562',),\n",
              " ('3267',),\n",
              " ('868',),\n",
              " ('869',),\n",
              " ('870',),\n",
              " ('6022',),\n",
              " ('8474',),\n",
              " ('4070',),\n",
              " ('488',),\n",
              " ('6039',),\n",
              " ('6001',),\n",
              " ('7561',),\n",
              " ('1426',),\n",
              " ('3879',),\n",
              " ('8304',),\n",
              " ('8305',),\n",
              " ('8306',),\n",
              " ('8307',),\n",
              " ('8308',)]"
            ],
            "text/html": [
              "<table>\n",
              "    <thead>\n",
              "        <tr>\n",
              "            <th>side_number</th>\n",
              "        </tr>\n",
              "    </thead>\n",
              "    <tbody>\n",
              "        <tr>\n",
              "            <td>side_number</td>\n",
              "        </tr>\n",
              "        <tr>\n",
              "            <td>7729</td>\n",
              "        </tr>\n",
              "        <tr>\n",
              "            <td>5692</td>\n",
              "        </tr>\n",
              "        <tr>\n",
              "            <td>5693</td>\n",
              "        </tr>\n",
              "        <tr>\n",
              "            <td>5694</td>\n",
              "        </tr>\n",
              "        <tr>\n",
              "            <td>3919</td>\n",
              "        </tr>\n",
              "        <tr>\n",
              "            <td>562</td>\n",
              "        </tr>\n",
              "        <tr>\n",
              "            <td>3267</td>\n",
              "        </tr>\n",
              "        <tr>\n",
              "            <td>868</td>\n",
              "        </tr>\n",
              "        <tr>\n",
              "            <td>869</td>\n",
              "        </tr>\n",
              "        <tr>\n",
              "            <td>870</td>\n",
              "        </tr>\n",
              "        <tr>\n",
              "            <td>6022</td>\n",
              "        </tr>\n",
              "        <tr>\n",
              "            <td>8474</td>\n",
              "        </tr>\n",
              "        <tr>\n",
              "            <td>4070</td>\n",
              "        </tr>\n",
              "        <tr>\n",
              "            <td>488</td>\n",
              "        </tr>\n",
              "        <tr>\n",
              "            <td>6039</td>\n",
              "        </tr>\n",
              "        <tr>\n",
              "            <td>6001</td>\n",
              "        </tr>\n",
              "        <tr>\n",
              "            <td>7561</td>\n",
              "        </tr>\n",
              "        <tr>\n",
              "            <td>1426</td>\n",
              "        </tr>\n",
              "        <tr>\n",
              "            <td>3879</td>\n",
              "        </tr>\n",
              "        <tr>\n",
              "            <td>8304</td>\n",
              "        </tr>\n",
              "        <tr>\n",
              "            <td>8305</td>\n",
              "        </tr>\n",
              "        <tr>\n",
              "            <td>8306</td>\n",
              "        </tr>\n",
              "        <tr>\n",
              "            <td>8307</td>\n",
              "        </tr>\n",
              "        <tr>\n",
              "            <td>8308</td>\n",
              "        </tr>\n",
              "    </tbody>\n",
              "</table>"
            ]
          },
          "metadata": {},
          "execution_count": 21
        }
      ]
    },
    {
      "cell_type": "markdown",
      "source": [
        "Задача:\n",
        "\n",
        "Выведите номера телефонов всех клиентов. Переименуйте поле в выводе в phone_number. В выборке должен присутствовать один атрибут — phone_number."
      ],
      "metadata": {
        "id": "v7R2q8BcJO36"
      }
    },
    {
      "cell_type": "code",
      "source": [
        "%%sql\n",
        "SELECT phone\n",
        "FROM clients"
      ],
      "metadata": {
        "id": "tvonysGZJSs5",
        "colab": {
          "base_uri": "https://localhost:8080/",
          "height": 538
        },
        "outputId": "d025cae6-c434-485c-8599-895f5ebca7a0"
      },
      "execution_count": null,
      "outputs": [
        {
          "output_type": "stream",
          "name": "stdout",
          "text": [
            " * sqlite:///bd.db\n",
            "Done.\n"
          ]
        },
        {
          "output_type": "execute_result",
          "data": {
            "text/plain": [
              "[('phone',),\n",
              " ('+72630859116',),\n",
              " ('+72634849916',),\n",
              " ('+72630859116',),\n",
              " ('+70265999830',),\n",
              " ('+70524100898',),\n",
              " ('+75198645540',),\n",
              " ('+70512187274',),\n",
              " ('+77190012242',),\n",
              " ('+71333997867',),\n",
              " ('+76684550143',),\n",
              " ('+77140700202',),\n",
              " ('+75763445454',),\n",
              " ('+74505025239',),\n",
              " ('+72774899565',),\n",
              " ('+73451751747',),\n",
              " ('+77287237553',),\n",
              " ('+79043659102',),\n",
              " ('+79043659103',),\n",
              " ('+72900278935',),\n",
              " ('+78932431470',),\n",
              " ('+70867367875',)]"
            ],
            "text/html": [
              "<table>\n",
              "    <thead>\n",
              "        <tr>\n",
              "            <th>phone</th>\n",
              "        </tr>\n",
              "    </thead>\n",
              "    <tbody>\n",
              "        <tr>\n",
              "            <td>phone</td>\n",
              "        </tr>\n",
              "        <tr>\n",
              "            <td>+72630859116</td>\n",
              "        </tr>\n",
              "        <tr>\n",
              "            <td>+72634849916</td>\n",
              "        </tr>\n",
              "        <tr>\n",
              "            <td>+72630859116</td>\n",
              "        </tr>\n",
              "        <tr>\n",
              "            <td>+70265999830</td>\n",
              "        </tr>\n",
              "        <tr>\n",
              "            <td>+70524100898</td>\n",
              "        </tr>\n",
              "        <tr>\n",
              "            <td>+75198645540</td>\n",
              "        </tr>\n",
              "        <tr>\n",
              "            <td>+70512187274</td>\n",
              "        </tr>\n",
              "        <tr>\n",
              "            <td>+77190012242</td>\n",
              "        </tr>\n",
              "        <tr>\n",
              "            <td>+71333997867</td>\n",
              "        </tr>\n",
              "        <tr>\n",
              "            <td>+76684550143</td>\n",
              "        </tr>\n",
              "        <tr>\n",
              "            <td>+77140700202</td>\n",
              "        </tr>\n",
              "        <tr>\n",
              "            <td>+75763445454</td>\n",
              "        </tr>\n",
              "        <tr>\n",
              "            <td>+74505025239</td>\n",
              "        </tr>\n",
              "        <tr>\n",
              "            <td>+72774899565</td>\n",
              "        </tr>\n",
              "        <tr>\n",
              "            <td>+73451751747</td>\n",
              "        </tr>\n",
              "        <tr>\n",
              "            <td>+77287237553</td>\n",
              "        </tr>\n",
              "        <tr>\n",
              "            <td>+79043659102</td>\n",
              "        </tr>\n",
              "        <tr>\n",
              "            <td>+79043659103</td>\n",
              "        </tr>\n",
              "        <tr>\n",
              "            <td>+72900278935</td>\n",
              "        </tr>\n",
              "        <tr>\n",
              "            <td>+78932431470</td>\n",
              "        </tr>\n",
              "        <tr>\n",
              "            <td>+70867367875</td>\n",
              "        </tr>\n",
              "    </tbody>\n",
              "</table>"
            ]
          },
          "metadata": {},
          "execution_count": 30
        }
      ]
    },
    {
      "cell_type": "markdown",
      "source": [
        "Задача:\n",
        "\n",
        "Руководство авиалиний рассматривает подходящий самолет для рейса Москва — Томск. Зная, что расстояние между городами составляет 3610 км, сотрудники рассчитали допустимую дальность полета самолета для данного рейса — 4200 км. Напишите запрос, который определит модели самолета c максимальной дальностью полета равна 4200 км. В выборке должен присутствовать один атрибут — model_name."
      ],
      "metadata": {
        "id": "YKvOPpQRJS6R"
      }
    },
    {
      "cell_type": "code",
      "source": [
        "%%sql\n",
        "SELECT model_name\n",
        "FROM airliners\n",
        "WHERE range = '4200'\n",
        "ORDER BY model_name;\n"
      ],
      "metadata": {
        "colab": {
          "base_uri": "https://localhost:8080/",
          "height": 96
        },
        "id": "1D2l-_D6XyCJ",
        "outputId": "9f01ca2e-2e05-401f-fa30-a06c84619447"
      },
      "execution_count": null,
      "outputs": [
        {
          "output_type": "stream",
          "name": "stdout",
          "text": [
            " * sqlite:///bd.db\n",
            "Done.\n"
          ]
        },
        {
          "output_type": "execute_result",
          "data": {
            "text/plain": [
              "[('Sukhoi Superjet-100',)]"
            ],
            "text/html": [
              "<table>\n",
              "    <thead>\n",
              "        <tr>\n",
              "            <th>model_name</th>\n",
              "        </tr>\n",
              "    </thead>\n",
              "    <tbody>\n",
              "        <tr>\n",
              "            <td>Sukhoi Superjet-100</td>\n",
              "        </tr>\n",
              "    </tbody>\n",
              "</table>"
            ]
          },
          "metadata": {},
          "execution_count": 31
        }
      ]
    },
    {
      "cell_type": "markdown",
      "source": [
        "Задача:\n",
        "\n",
        "Клиент ищет билеты из точки А в точку Б. Однако есть важное условие — стоимость билета не должна превышать 13200.\n",
        "Напишите запрос, который выведет id билетов, стоимость которых меньше или равна 13200.\n",
        "В выборке должен присутствовать один атрибут — id."
      ],
      "metadata": {
        "id": "4OHGfXiLJeFB"
      }
    },
    {
      "cell_type": "code",
      "source": [
        "%%sql\n",
        "SELECT id\n",
        "FROM tickets\n",
        "WHERE price <= 13200;\n"
      ],
      "metadata": {
        "id": "WYGyQizKJjZC",
        "colab": {
          "base_uri": "https://localhost:8080/",
          "height": 306
        },
        "outputId": "1eff6eba-3973-4098-c655-4ce7fbf1c1d2"
      },
      "execution_count": null,
      "outputs": [
        {
          "output_type": "stream",
          "name": "stdout",
          "text": [
            " * sqlite:///bd.db\n",
            "Done.\n"
          ]
        },
        {
          "output_type": "execute_result",
          "data": {
            "text/plain": [
              "[('UE01H8UCJQ8O',),\n",
              " ('WCADJ8UOTCWD',),\n",
              " ('MXFLZA9PHHWI',),\n",
              " ('WU6KOQZTRH3E',),\n",
              " ('8NSZ3Y13W04A',),\n",
              " ('B7BH71HM23J7',),\n",
              " ('A6LRS128V10I',),\n",
              " ('Z2VWROS7T4IR',),\n",
              " ('7P4K971958IX',),\n",
              " ('3Z45EW0ESQSK',),\n",
              " ('3Z45EW0ESQMF',)]"
            ],
            "text/html": [
              "<table>\n",
              "    <thead>\n",
              "        <tr>\n",
              "            <th>id</th>\n",
              "        </tr>\n",
              "    </thead>\n",
              "    <tbody>\n",
              "        <tr>\n",
              "            <td>UE01H8UCJQ8O</td>\n",
              "        </tr>\n",
              "        <tr>\n",
              "            <td>WCADJ8UOTCWD</td>\n",
              "        </tr>\n",
              "        <tr>\n",
              "            <td>MXFLZA9PHHWI</td>\n",
              "        </tr>\n",
              "        <tr>\n",
              "            <td>WU6KOQZTRH3E</td>\n",
              "        </tr>\n",
              "        <tr>\n",
              "            <td>8NSZ3Y13W04A</td>\n",
              "        </tr>\n",
              "        <tr>\n",
              "            <td>B7BH71HM23J7</td>\n",
              "        </tr>\n",
              "        <tr>\n",
              "            <td>A6LRS128V10I</td>\n",
              "        </tr>\n",
              "        <tr>\n",
              "            <td>Z2VWROS7T4IR</td>\n",
              "        </tr>\n",
              "        <tr>\n",
              "            <td>7P4K971958IX</td>\n",
              "        </tr>\n",
              "        <tr>\n",
              "            <td>3Z45EW0ESQSK</td>\n",
              "        </tr>\n",
              "        <tr>\n",
              "            <td>3Z45EW0ESQMF</td>\n",
              "        </tr>\n",
              "    </tbody>\n",
              "</table>"
            ]
          },
          "metadata": {},
          "execution_count": 33
        }
      ]
    },
    {
      "cell_type": "markdown",
      "source": [
        "Задача:\n",
        "\n",
        "Выведите бортовые номера всех самолетов белого цвета. Известно, что у самолетов белого цвета атрибут color принимает значение 'white'.\n",
        "В выборке должен присутствовать один атрибут — side_number."
      ],
      "metadata": {
        "id": "uDL3eFnoJjlj"
      }
    },
    {
      "cell_type": "code",
      "source": [
        "%%sql\n",
        "SELECT side_number\n",
        "FROM airliners\n",
        "WHERE color = 'white';"
      ],
      "metadata": {
        "id": "yPSfD6piJnA5",
        "colab": {
          "base_uri": "https://localhost:8080/",
          "height": 496
        },
        "outputId": "e3fdbfaa-5434-40df-aae8-f74aaa02d523"
      },
      "execution_count": null,
      "outputs": [
        {
          "output_type": "stream",
          "name": "stdout",
          "text": [
            " * sqlite:///bd.db\n",
            "Done.\n"
          ]
        },
        {
          "output_type": "execute_result",
          "data": {
            "text/plain": [
              "[('7729',),\n",
              " ('3919',),\n",
              " ('562',),\n",
              " ('3267',),\n",
              " ('868',),\n",
              " ('869',),\n",
              " ('870',),\n",
              " ('6022',),\n",
              " ('8474',),\n",
              " ('4070',),\n",
              " ('488',),\n",
              " ('6039',),\n",
              " ('6001',),\n",
              " ('7561',),\n",
              " ('3879',),\n",
              " ('8304',),\n",
              " ('8305',),\n",
              " ('8306',),\n",
              " ('8307',),\n",
              " ('8308',)]"
            ],
            "text/html": [
              "<table>\n",
              "    <thead>\n",
              "        <tr>\n",
              "            <th>side_number</th>\n",
              "        </tr>\n",
              "    </thead>\n",
              "    <tbody>\n",
              "        <tr>\n",
              "            <td>7729</td>\n",
              "        </tr>\n",
              "        <tr>\n",
              "            <td>3919</td>\n",
              "        </tr>\n",
              "        <tr>\n",
              "            <td>562</td>\n",
              "        </tr>\n",
              "        <tr>\n",
              "            <td>3267</td>\n",
              "        </tr>\n",
              "        <tr>\n",
              "            <td>868</td>\n",
              "        </tr>\n",
              "        <tr>\n",
              "            <td>869</td>\n",
              "        </tr>\n",
              "        <tr>\n",
              "            <td>870</td>\n",
              "        </tr>\n",
              "        <tr>\n",
              "            <td>6022</td>\n",
              "        </tr>\n",
              "        <tr>\n",
              "            <td>8474</td>\n",
              "        </tr>\n",
              "        <tr>\n",
              "            <td>4070</td>\n",
              "        </tr>\n",
              "        <tr>\n",
              "            <td>488</td>\n",
              "        </tr>\n",
              "        <tr>\n",
              "            <td>6039</td>\n",
              "        </tr>\n",
              "        <tr>\n",
              "            <td>6001</td>\n",
              "        </tr>\n",
              "        <tr>\n",
              "            <td>7561</td>\n",
              "        </tr>\n",
              "        <tr>\n",
              "            <td>3879</td>\n",
              "        </tr>\n",
              "        <tr>\n",
              "            <td>8304</td>\n",
              "        </tr>\n",
              "        <tr>\n",
              "            <td>8305</td>\n",
              "        </tr>\n",
              "        <tr>\n",
              "            <td>8306</td>\n",
              "        </tr>\n",
              "        <tr>\n",
              "            <td>8307</td>\n",
              "        </tr>\n",
              "        <tr>\n",
              "            <td>8308</td>\n",
              "        </tr>\n",
              "    </tbody>\n",
              "</table>"
            ]
          },
          "metadata": {},
          "execution_count": 34
        }
      ]
    },
    {
      "cell_type": "markdown",
      "source": [
        "Задача:\n",
        "\n",
        "Для каждого самолета модели Cessna 172 выведите дальность полета. Имя столбца с результатом должно быть max_distance.\n",
        "В выборке должен присутствовать один атрибут — max_distance."
      ],
      "metadata": {
        "id": "BA1vZryEJnJa"
      }
    },
    {
      "cell_type": "code",
      "source": [
        "%%sql\n",
        "SELECT range AS max_distance\n",
        "FROM airliners\n",
        "WHERE model_name = 'Cessna 172';"
      ],
      "metadata": {
        "id": "xqbEECa7JpPi",
        "colab": {
          "base_uri": "https://localhost:8080/",
          "height": 180
        },
        "outputId": "9cd363f7-a856-4d02-8621-e79a7fd12772"
      },
      "execution_count": null,
      "outputs": [
        {
          "output_type": "stream",
          "name": "stdout",
          "text": [
            " * sqlite:///bd.db\n",
            "Done.\n"
          ]
        },
        {
          "output_type": "execute_result",
          "data": {
            "text/plain": [
              "[('1000',), ('1001',), ('1200',), ('2500',), ('2501',)]"
            ],
            "text/html": [
              "<table>\n",
              "    <thead>\n",
              "        <tr>\n",
              "            <th>max_distance</th>\n",
              "        </tr>\n",
              "    </thead>\n",
              "    <tbody>\n",
              "        <tr>\n",
              "            <td>1000</td>\n",
              "        </tr>\n",
              "        <tr>\n",
              "            <td>1001</td>\n",
              "        </tr>\n",
              "        <tr>\n",
              "            <td>1200</td>\n",
              "        </tr>\n",
              "        <tr>\n",
              "            <td>2500</td>\n",
              "        </tr>\n",
              "        <tr>\n",
              "            <td>2501</td>\n",
              "        </tr>\n",
              "    </tbody>\n",
              "</table>"
            ]
          },
          "metadata": {},
          "execution_count": 35
        }
      ]
    },
    {
      "cell_type": "markdown",
      "source": [
        "Задача:\n",
        "\n",
        "Определите рейсы с точкой назначения в аэропортах, коды которых PEZ, MMK и VKO.\n",
        "В выборке должен присутствовать один атрибут — id."
      ],
      "metadata": {
        "id": "hEGzFBlzJpXR"
      }
    },
    {
      "cell_type": "code",
      "source": [
        "%%sql\n",
        "SELECT id\n",
        "FROM trips\n",
        "WHERE arrival IN ('PEZ', 'MMK', 'VKO');"
      ],
      "metadata": {
        "id": "7MB9MmrwKTuR",
        "colab": {
          "base_uri": "https://localhost:8080/",
          "height": 159
        },
        "outputId": "a8676d86-0f1d-43d1-e168-fdaea2732a11"
      },
      "execution_count": null,
      "outputs": [
        {
          "output_type": "stream",
          "name": "stdout",
          "text": [
            " * sqlite:///bd.db\n",
            "Done.\n"
          ]
        },
        {
          "output_type": "execute_result",
          "data": {
            "text/plain": [
              "[('CNIKNNGF4Z',), ('18DMF6OGN9',), ('QZV6ZMWWTB',), ('NWVY6OMNG7',)]"
            ],
            "text/html": [
              "<table>\n",
              "    <thead>\n",
              "        <tr>\n",
              "            <th>id</th>\n",
              "        </tr>\n",
              "    </thead>\n",
              "    <tbody>\n",
              "        <tr>\n",
              "            <td>CNIKNNGF4Z</td>\n",
              "        </tr>\n",
              "        <tr>\n",
              "            <td>18DMF6OGN9</td>\n",
              "        </tr>\n",
              "        <tr>\n",
              "            <td>QZV6ZMWWTB</td>\n",
              "        </tr>\n",
              "        <tr>\n",
              "            <td>NWVY6OMNG7</td>\n",
              "        </tr>\n",
              "    </tbody>\n",
              "</table>"
            ]
          },
          "metadata": {},
          "execution_count": 36
        }
      ]
    },
    {
      "cell_type": "markdown",
      "source": [
        "Задача:\n",
        "\n",
        "Определите id рейсов, которые должны были вылететь из аэропорта Домодедово (DME), но были отменены.\n",
        "В выборке должен присутствовать один атрибут — id."
      ],
      "metadata": {
        "id": "I2fyMYwVKTG3"
      }
    },
    {
      "cell_type": "code",
      "source": [
        "%%sql\n",
        "\n",
        "SELECT id\n",
        "FROM trips\n",
        "WHERE departure = 'DME'\n",
        "  AND status = 'Cancelled';"
      ],
      "metadata": {
        "id": "14w_c71QKUrR",
        "colab": {
          "base_uri": "https://localhost:8080/",
          "height": 117
        },
        "outputId": "8bbc2c2c-282f-40ab-929c-711acbff68a2"
      },
      "execution_count": null,
      "outputs": [
        {
          "output_type": "stream",
          "name": "stdout",
          "text": [
            " * sqlite:///bd.db\n",
            "Done.\n"
          ]
        },
        {
          "output_type": "execute_result",
          "data": {
            "text/plain": [
              "[('30N25AXHAF',), ('BODSSG3E82',)]"
            ],
            "text/html": [
              "<table>\n",
              "    <thead>\n",
              "        <tr>\n",
              "            <th>id</th>\n",
              "        </tr>\n",
              "    </thead>\n",
              "    <tbody>\n",
              "        <tr>\n",
              "            <td>30N25AXHAF</td>\n",
              "        </tr>\n",
              "        <tr>\n",
              "            <td>BODSSG3E82</td>\n",
              "        </tr>\n",
              "    </tbody>\n",
              "</table>"
            ]
          },
          "metadata": {},
          "execution_count": 37
        }
      ]
    },
    {
      "cell_type": "markdown",
      "source": [
        "Задача:\n",
        "\n",
        "Определите модели самолетов, максимальная дальность полета которых находится в диапазоне от 4200 до 7900 включительно.\n",
        "В выборке должен присутствовать один атрибут — model_name."
      ],
      "metadata": {
        "id": "0Gw_5smhKTND"
      }
    },
    {
      "cell_type": "code",
      "source": [
        "%%sql\n",
        "SELECT model_name\n",
        "FROM airliners\n",
        "WHERE CAST(range AS INTEGER) BETWEEN 4200 AND 7900;"
      ],
      "metadata": {
        "id": "rvdrrkhiKZpJ",
        "colab": {
          "base_uri": "https://localhost:8080/",
          "height": 180
        },
        "outputId": "975b3eb4-957f-4eb7-b328-f7f2b0ace0bc"
      },
      "execution_count": null,
      "outputs": [
        {
          "output_type": "stream",
          "name": "stdout",
          "text": [
            " * sqlite:///bd.db\n",
            "Done.\n"
          ]
        },
        {
          "output_type": "execute_result",
          "data": {
            "text/plain": [
              "[('Boeing 777-300',),\n",
              " ('Boeing 777-300',),\n",
              " ('Boeing 777-300',),\n",
              " ('Sukhoi Superjet-100',),\n",
              " ('Sukhoi Superjet-100',)]"
            ],
            "text/html": [
              "<table>\n",
              "    <thead>\n",
              "        <tr>\n",
              "            <th>model_name</th>\n",
              "        </tr>\n",
              "    </thead>\n",
              "    <tbody>\n",
              "        <tr>\n",
              "            <td>Boeing 777-300</td>\n",
              "        </tr>\n",
              "        <tr>\n",
              "            <td>Boeing 777-300</td>\n",
              "        </tr>\n",
              "        <tr>\n",
              "            <td>Boeing 777-300</td>\n",
              "        </tr>\n",
              "        <tr>\n",
              "            <td>Sukhoi Superjet-100</td>\n",
              "        </tr>\n",
              "        <tr>\n",
              "            <td>Sukhoi Superjet-100</td>\n",
              "        </tr>\n",
              "    </tbody>\n",
              "</table>"
            ]
          },
          "metadata": {},
          "execution_count": 38
        }
      ]
    },
    {
      "cell_type": "markdown",
      "source": [
        "Задача:\n",
        "\n",
        "Напишите запрос, который выведет id клиентов, чье значение атрибута name начинается на Daria.\n",
        "В выборке должен присутствовать один атрибут — id."
      ],
      "metadata": {
        "id": "xhYaaTuWKZza"
      }
    },
    {
      "cell_type": "code",
      "source": [
        "%%sql\n",
        "SELECT id\n",
        "FROM clients\n",
        "WHERE name LIKE 'Daria%';"
      ],
      "metadata": {
        "id": "VBDjFXB4KdlK",
        "colab": {
          "base_uri": "https://localhost:8080/",
          "height": 138
        },
        "outputId": "5e46ca16-c6f1-4525-d85f-fa1a5cd1eea1"
      },
      "execution_count": null,
      "outputs": [
        {
          "output_type": "stream",
          "name": "stdout",
          "text": [
            " * sqlite:///bd.db\n",
            "Done.\n"
          ]
        },
        {
          "output_type": "execute_result",
          "data": {
            "text/plain": [
              "[('4A9FUE95UMTR',), ('4A9FUE95UVTR',), ('HYS9XO5IUI4K',)]"
            ],
            "text/html": [
              "<table>\n",
              "    <thead>\n",
              "        <tr>\n",
              "            <th>id</th>\n",
              "        </tr>\n",
              "    </thead>\n",
              "    <tbody>\n",
              "        <tr>\n",
              "            <td>4A9FUE95UMTR</td>\n",
              "        </tr>\n",
              "        <tr>\n",
              "            <td>4A9FUE95UVTR</td>\n",
              "        </tr>\n",
              "        <tr>\n",
              "            <td>HYS9XO5IUI4K</td>\n",
              "        </tr>\n",
              "    </tbody>\n",
              "</table>"
            ]
          },
          "metadata": {},
          "execution_count": 39
        }
      ]
    },
    {
      "cell_type": "markdown",
      "source": [
        "Задача:\n",
        "\n",
        "Аналитическое подразделение решило уточнить у авиакомпании количество билетов не бизнес-класса.\n",
        "Напишите запрос, который выведет id билетов, класс обслуживания в которых отличен от бизнес-класса (Business).\n",
        "В выборке должен присутствовать один атрибут — id."
      ],
      "metadata": {
        "id": "kCSyZQ_iKd66"
      }
    },
    {
      "cell_type": "code",
      "source": [
        "%%sql\n",
        "select id\n",
        "from tickets\n",
        "where service_class not in ('Business');\n"
      ],
      "metadata": {
        "id": "-fxs-B-aKrN5",
        "colab": {
          "base_uri": "https://localhost:8080/",
          "height": 1000
        },
        "outputId": "4285fc99-85ba-4bc2-a7b9-81789c345bd1"
      },
      "execution_count": null,
      "outputs": [
        {
          "output_type": "stream",
          "name": "stdout",
          "text": [
            " * sqlite:///bd.db\n",
            "Done.\n"
          ]
        },
        {
          "output_type": "execute_result",
          "data": {
            "text/plain": [
              "[('id',),\n",
              " ('UE01H8UCJQ8O',),\n",
              " ('WCADJ8UOTCWD',),\n",
              " ('MXFLZA9PHHWI',),\n",
              " ('WU6KOQZTRH3E',),\n",
              " ('OQ83AMHE59DM',),\n",
              " ('NKFQ4RNLXYEC',),\n",
              " ('3T9S9R8CRDVY',),\n",
              " ('GSIGUCHIESDF',),\n",
              " ('2YOI2PSODQL3',),\n",
              " ('JWSMMHW2XMAB',),\n",
              " ('TQBQR0IMN32H',),\n",
              " ('8NSZ3Y13W04A',),\n",
              " ('ZA39AID06OZN',),\n",
              " ('WVXFO0DFSW73',),\n",
              " ('ZCQ7UFXD2I3K',),\n",
              " ('H4GNE6O3CJ82',),\n",
              " ('E5TKAEGCMZ7W',),\n",
              " ('3DGXUL6T9E8B',),\n",
              " ('702ADQNIS69Z',),\n",
              " ('IR71NM41MRLM',),\n",
              " ('ZLN3ZYL2E7UD',),\n",
              " ('JJZ1LAYOR40K',),\n",
              " ('02L9TNINKTTY',),\n",
              " ('5RJ9VEVLTIRR',),\n",
              " ('TVEHF8S5D1KL',),\n",
              " ('18IWPW434XAU',),\n",
              " ('WNO7QWHNQ1X6',),\n",
              " ('PO3F39IYONF4',),\n",
              " ('MZH0D5052IEQ',),\n",
              " ('8NN75L120I5Q',),\n",
              " ('HCCVSTRLNGJV',),\n",
              " ('86274XSOSNJ6',),\n",
              " ('9Y93S7E4Q145',),\n",
              " ('B7BH71HM23J7',),\n",
              " ('OCNIND8J6YD7',),\n",
              " ('A6LRS128V10I',),\n",
              " ('CXSABAOA2CS2',),\n",
              " ('Z2VWROS7T4IR',),\n",
              " ('7P4K971958IX',),\n",
              " ('VR9P4MQ6HJ8M',),\n",
              " ('VJT08F5YKP7D',),\n",
              " ('ID17JOA1HZJL',),\n",
              " ('AA0MZV3QASIE',),\n",
              " ('8UVQROLPPF2E',),\n",
              " ('UDE15B2QXYR5',),\n",
              " ('05XGD0C3SD0A',),\n",
              " ('2OUQ2N9GNF4A',),\n",
              " ('WI1OKUNNVU6D',)]"
            ],
            "text/html": [
              "<table>\n",
              "    <thead>\n",
              "        <tr>\n",
              "            <th>id</th>\n",
              "        </tr>\n",
              "    </thead>\n",
              "    <tbody>\n",
              "        <tr>\n",
              "            <td>id</td>\n",
              "        </tr>\n",
              "        <tr>\n",
              "            <td>UE01H8UCJQ8O</td>\n",
              "        </tr>\n",
              "        <tr>\n",
              "            <td>WCADJ8UOTCWD</td>\n",
              "        </tr>\n",
              "        <tr>\n",
              "            <td>MXFLZA9PHHWI</td>\n",
              "        </tr>\n",
              "        <tr>\n",
              "            <td>WU6KOQZTRH3E</td>\n",
              "        </tr>\n",
              "        <tr>\n",
              "            <td>OQ83AMHE59DM</td>\n",
              "        </tr>\n",
              "        <tr>\n",
              "            <td>NKFQ4RNLXYEC</td>\n",
              "        </tr>\n",
              "        <tr>\n",
              "            <td>3T9S9R8CRDVY</td>\n",
              "        </tr>\n",
              "        <tr>\n",
              "            <td>GSIGUCHIESDF</td>\n",
              "        </tr>\n",
              "        <tr>\n",
              "            <td>2YOI2PSODQL3</td>\n",
              "        </tr>\n",
              "        <tr>\n",
              "            <td>JWSMMHW2XMAB</td>\n",
              "        </tr>\n",
              "        <tr>\n",
              "            <td>TQBQR0IMN32H</td>\n",
              "        </tr>\n",
              "        <tr>\n",
              "            <td>8NSZ3Y13W04A</td>\n",
              "        </tr>\n",
              "        <tr>\n",
              "            <td>ZA39AID06OZN</td>\n",
              "        </tr>\n",
              "        <tr>\n",
              "            <td>WVXFO0DFSW73</td>\n",
              "        </tr>\n",
              "        <tr>\n",
              "            <td>ZCQ7UFXD2I3K</td>\n",
              "        </tr>\n",
              "        <tr>\n",
              "            <td>H4GNE6O3CJ82</td>\n",
              "        </tr>\n",
              "        <tr>\n",
              "            <td>E5TKAEGCMZ7W</td>\n",
              "        </tr>\n",
              "        <tr>\n",
              "            <td>3DGXUL6T9E8B</td>\n",
              "        </tr>\n",
              "        <tr>\n",
              "            <td>702ADQNIS69Z</td>\n",
              "        </tr>\n",
              "        <tr>\n",
              "            <td>IR71NM41MRLM</td>\n",
              "        </tr>\n",
              "        <tr>\n",
              "            <td>ZLN3ZYL2E7UD</td>\n",
              "        </tr>\n",
              "        <tr>\n",
              "            <td>JJZ1LAYOR40K</td>\n",
              "        </tr>\n",
              "        <tr>\n",
              "            <td>02L9TNINKTTY</td>\n",
              "        </tr>\n",
              "        <tr>\n",
              "            <td>5RJ9VEVLTIRR</td>\n",
              "        </tr>\n",
              "        <tr>\n",
              "            <td>TVEHF8S5D1KL</td>\n",
              "        </tr>\n",
              "        <tr>\n",
              "            <td>18IWPW434XAU</td>\n",
              "        </tr>\n",
              "        <tr>\n",
              "            <td>WNO7QWHNQ1X6</td>\n",
              "        </tr>\n",
              "        <tr>\n",
              "            <td>PO3F39IYONF4</td>\n",
              "        </tr>\n",
              "        <tr>\n",
              "            <td>MZH0D5052IEQ</td>\n",
              "        </tr>\n",
              "        <tr>\n",
              "            <td>8NN75L120I5Q</td>\n",
              "        </tr>\n",
              "        <tr>\n",
              "            <td>HCCVSTRLNGJV</td>\n",
              "        </tr>\n",
              "        <tr>\n",
              "            <td>86274XSOSNJ6</td>\n",
              "        </tr>\n",
              "        <tr>\n",
              "            <td>9Y93S7E4Q145</td>\n",
              "        </tr>\n",
              "        <tr>\n",
              "            <td>B7BH71HM23J7</td>\n",
              "        </tr>\n",
              "        <tr>\n",
              "            <td>OCNIND8J6YD7</td>\n",
              "        </tr>\n",
              "        <tr>\n",
              "            <td>A6LRS128V10I</td>\n",
              "        </tr>\n",
              "        <tr>\n",
              "            <td>CXSABAOA2CS2</td>\n",
              "        </tr>\n",
              "        <tr>\n",
              "            <td>Z2VWROS7T4IR</td>\n",
              "        </tr>\n",
              "        <tr>\n",
              "            <td>7P4K971958IX</td>\n",
              "        </tr>\n",
              "        <tr>\n",
              "            <td>VR9P4MQ6HJ8M</td>\n",
              "        </tr>\n",
              "        <tr>\n",
              "            <td>VJT08F5YKP7D</td>\n",
              "        </tr>\n",
              "        <tr>\n",
              "            <td>ID17JOA1HZJL</td>\n",
              "        </tr>\n",
              "        <tr>\n",
              "            <td>AA0MZV3QASIE</td>\n",
              "        </tr>\n",
              "        <tr>\n",
              "            <td>8UVQROLPPF2E</td>\n",
              "        </tr>\n",
              "        <tr>\n",
              "            <td>UDE15B2QXYR5</td>\n",
              "        </tr>\n",
              "        <tr>\n",
              "            <td>05XGD0C3SD0A</td>\n",
              "        </tr>\n",
              "        <tr>\n",
              "            <td>2OUQ2N9GNF4A</td>\n",
              "        </tr>\n",
              "        <tr>\n",
              "            <td>WI1OKUNNVU6D</td>\n",
              "        </tr>\n",
              "    </tbody>\n",
              "</table>"
            ]
          },
          "metadata": {},
          "execution_count": 40
        }
      ]
    },
    {
      "cell_type": "code",
      "source": [
        "%%sql\n",
        "select id\n",
        "from tickets\n",
        "where service_class != 'Business';"
      ],
      "metadata": {
        "colab": {
          "base_uri": "https://localhost:8080/",
          "height": 1000
        },
        "id": "kbpuF5D9SWcy",
        "outputId": "ee9b5066-bfd8-4d11-e5d3-3a3665fce400"
      },
      "execution_count": null,
      "outputs": [
        {
          "output_type": "stream",
          "name": "stdout",
          "text": [
            " * sqlite:///bd.db\n",
            "Done.\n"
          ]
        },
        {
          "output_type": "execute_result",
          "data": {
            "text/plain": [
              "[('id',),\n",
              " ('UE01H8UCJQ8O',),\n",
              " ('WCADJ8UOTCWD',),\n",
              " ('MXFLZA9PHHWI',),\n",
              " ('WU6KOQZTRH3E',),\n",
              " ('OQ83AMHE59DM',),\n",
              " ('NKFQ4RNLXYEC',),\n",
              " ('3T9S9R8CRDVY',),\n",
              " ('GSIGUCHIESDF',),\n",
              " ('2YOI2PSODQL3',),\n",
              " ('JWSMMHW2XMAB',),\n",
              " ('TQBQR0IMN32H',),\n",
              " ('8NSZ3Y13W04A',),\n",
              " ('ZA39AID06OZN',),\n",
              " ('WVXFO0DFSW73',),\n",
              " ('ZCQ7UFXD2I3K',),\n",
              " ('H4GNE6O3CJ82',),\n",
              " ('E5TKAEGCMZ7W',),\n",
              " ('3DGXUL6T9E8B',),\n",
              " ('702ADQNIS69Z',),\n",
              " ('IR71NM41MRLM',),\n",
              " ('ZLN3ZYL2E7UD',),\n",
              " ('JJZ1LAYOR40K',),\n",
              " ('02L9TNINKTTY',),\n",
              " ('5RJ9VEVLTIRR',),\n",
              " ('TVEHF8S5D1KL',),\n",
              " ('18IWPW434XAU',),\n",
              " ('WNO7QWHNQ1X6',),\n",
              " ('PO3F39IYONF4',),\n",
              " ('MZH0D5052IEQ',),\n",
              " ('8NN75L120I5Q',),\n",
              " ('HCCVSTRLNGJV',),\n",
              " ('86274XSOSNJ6',),\n",
              " ('9Y93S7E4Q145',),\n",
              " ('B7BH71HM23J7',),\n",
              " ('OCNIND8J6YD7',),\n",
              " ('A6LRS128V10I',),\n",
              " ('CXSABAOA2CS2',),\n",
              " ('Z2VWROS7T4IR',),\n",
              " ('7P4K971958IX',),\n",
              " ('VR9P4MQ6HJ8M',),\n",
              " ('VJT08F5YKP7D',),\n",
              " ('ID17JOA1HZJL',),\n",
              " ('AA0MZV3QASIE',),\n",
              " ('8UVQROLPPF2E',),\n",
              " ('UDE15B2QXYR5',),\n",
              " ('05XGD0C3SD0A',),\n",
              " ('2OUQ2N9GNF4A',),\n",
              " ('WI1OKUNNVU6D',)]"
            ],
            "text/html": [
              "<table>\n",
              "    <thead>\n",
              "        <tr>\n",
              "            <th>id</th>\n",
              "        </tr>\n",
              "    </thead>\n",
              "    <tbody>\n",
              "        <tr>\n",
              "            <td>id</td>\n",
              "        </tr>\n",
              "        <tr>\n",
              "            <td>UE01H8UCJQ8O</td>\n",
              "        </tr>\n",
              "        <tr>\n",
              "            <td>WCADJ8UOTCWD</td>\n",
              "        </tr>\n",
              "        <tr>\n",
              "            <td>MXFLZA9PHHWI</td>\n",
              "        </tr>\n",
              "        <tr>\n",
              "            <td>WU6KOQZTRH3E</td>\n",
              "        </tr>\n",
              "        <tr>\n",
              "            <td>OQ83AMHE59DM</td>\n",
              "        </tr>\n",
              "        <tr>\n",
              "            <td>NKFQ4RNLXYEC</td>\n",
              "        </tr>\n",
              "        <tr>\n",
              "            <td>3T9S9R8CRDVY</td>\n",
              "        </tr>\n",
              "        <tr>\n",
              "            <td>GSIGUCHIESDF</td>\n",
              "        </tr>\n",
              "        <tr>\n",
              "            <td>2YOI2PSODQL3</td>\n",
              "        </tr>\n",
              "        <tr>\n",
              "            <td>JWSMMHW2XMAB</td>\n",
              "        </tr>\n",
              "        <tr>\n",
              "            <td>TQBQR0IMN32H</td>\n",
              "        </tr>\n",
              "        <tr>\n",
              "            <td>8NSZ3Y13W04A</td>\n",
              "        </tr>\n",
              "        <tr>\n",
              "            <td>ZA39AID06OZN</td>\n",
              "        </tr>\n",
              "        <tr>\n",
              "            <td>WVXFO0DFSW73</td>\n",
              "        </tr>\n",
              "        <tr>\n",
              "            <td>ZCQ7UFXD2I3K</td>\n",
              "        </tr>\n",
              "        <tr>\n",
              "            <td>H4GNE6O3CJ82</td>\n",
              "        </tr>\n",
              "        <tr>\n",
              "            <td>E5TKAEGCMZ7W</td>\n",
              "        </tr>\n",
              "        <tr>\n",
              "            <td>3DGXUL6T9E8B</td>\n",
              "        </tr>\n",
              "        <tr>\n",
              "            <td>702ADQNIS69Z</td>\n",
              "        </tr>\n",
              "        <tr>\n",
              "            <td>IR71NM41MRLM</td>\n",
              "        </tr>\n",
              "        <tr>\n",
              "            <td>ZLN3ZYL2E7UD</td>\n",
              "        </tr>\n",
              "        <tr>\n",
              "            <td>JJZ1LAYOR40K</td>\n",
              "        </tr>\n",
              "        <tr>\n",
              "            <td>02L9TNINKTTY</td>\n",
              "        </tr>\n",
              "        <tr>\n",
              "            <td>5RJ9VEVLTIRR</td>\n",
              "        </tr>\n",
              "        <tr>\n",
              "            <td>TVEHF8S5D1KL</td>\n",
              "        </tr>\n",
              "        <tr>\n",
              "            <td>18IWPW434XAU</td>\n",
              "        </tr>\n",
              "        <tr>\n",
              "            <td>WNO7QWHNQ1X6</td>\n",
              "        </tr>\n",
              "        <tr>\n",
              "            <td>PO3F39IYONF4</td>\n",
              "        </tr>\n",
              "        <tr>\n",
              "            <td>MZH0D5052IEQ</td>\n",
              "        </tr>\n",
              "        <tr>\n",
              "            <td>8NN75L120I5Q</td>\n",
              "        </tr>\n",
              "        <tr>\n",
              "            <td>HCCVSTRLNGJV</td>\n",
              "        </tr>\n",
              "        <tr>\n",
              "            <td>86274XSOSNJ6</td>\n",
              "        </tr>\n",
              "        <tr>\n",
              "            <td>9Y93S7E4Q145</td>\n",
              "        </tr>\n",
              "        <tr>\n",
              "            <td>B7BH71HM23J7</td>\n",
              "        </tr>\n",
              "        <tr>\n",
              "            <td>OCNIND8J6YD7</td>\n",
              "        </tr>\n",
              "        <tr>\n",
              "            <td>A6LRS128V10I</td>\n",
              "        </tr>\n",
              "        <tr>\n",
              "            <td>CXSABAOA2CS2</td>\n",
              "        </tr>\n",
              "        <tr>\n",
              "            <td>Z2VWROS7T4IR</td>\n",
              "        </tr>\n",
              "        <tr>\n",
              "            <td>7P4K971958IX</td>\n",
              "        </tr>\n",
              "        <tr>\n",
              "            <td>VR9P4MQ6HJ8M</td>\n",
              "        </tr>\n",
              "        <tr>\n",
              "            <td>VJT08F5YKP7D</td>\n",
              "        </tr>\n",
              "        <tr>\n",
              "            <td>ID17JOA1HZJL</td>\n",
              "        </tr>\n",
              "        <tr>\n",
              "            <td>AA0MZV3QASIE</td>\n",
              "        </tr>\n",
              "        <tr>\n",
              "            <td>8UVQROLPPF2E</td>\n",
              "        </tr>\n",
              "        <tr>\n",
              "            <td>UDE15B2QXYR5</td>\n",
              "        </tr>\n",
              "        <tr>\n",
              "            <td>05XGD0C3SD0A</td>\n",
              "        </tr>\n",
              "        <tr>\n",
              "            <td>2OUQ2N9GNF4A</td>\n",
              "        </tr>\n",
              "        <tr>\n",
              "            <td>WI1OKUNNVU6D</td>\n",
              "        </tr>\n",
              "    </tbody>\n",
              "</table>"
            ]
          },
          "metadata": {},
          "execution_count": 26
        }
      ]
    },
    {
      "cell_type": "markdown",
      "source": [
        "Задача:\n",
        "\n",
        "Найдите пассажира, имя которого Denis, а фамилия начинается на S. Кроме того известно, что номер его телефона имеет вид +7XXX0700202. Три цифры начиная со второй неизвестны и заменены на X. В базе имя клиента хранится в формате 'Имя Фамилия'.\n",
        "В выборке должны присутствовать два атрибута — id и name."
      ],
      "metadata": {
        "id": "bgT0fqESKrV7"
      }
    },
    {
      "cell_type": "code",
      "source": [
        "%%sql\n",
        "SELECT id, name\n",
        "FROM clients\n",
        "WHERE\n",
        "    name LIKE 'Denis S%' AND\n",
        "    phone LIKE '+7___0700202' AND\n",
        "    LENGTH(phone) = 12;"
      ],
      "metadata": {
        "id": "LJ5xLTMLKuQq",
        "colab": {
          "base_uri": "https://localhost:8080/",
          "height": 96
        },
        "outputId": "77327085-c4b0-4116-cf8d-81bb7237b52b"
      },
      "execution_count": null,
      "outputs": [
        {
          "output_type": "stream",
          "name": "stdout",
          "text": [
            " * sqlite:///bd.db\n",
            "Done.\n"
          ]
        },
        {
          "output_type": "execute_result",
          "data": {
            "text/plain": [
              "[('A1FDG6PIV84W', 'Denis Stepanov')]"
            ],
            "text/html": [
              "<table>\n",
              "    <thead>\n",
              "        <tr>\n",
              "            <th>id</th>\n",
              "            <th>name</th>\n",
              "        </tr>\n",
              "    </thead>\n",
              "    <tbody>\n",
              "        <tr>\n",
              "            <td>A1FDG6PIV84W</td>\n",
              "            <td>Denis Stepanov</td>\n",
              "        </tr>\n",
              "    </tbody>\n",
              "</table>"
            ]
          },
          "metadata": {},
          "execution_count": 41
        }
      ]
    },
    {
      "cell_type": "markdown",
      "source": [
        "Задача:\n",
        "\n",
        "Найдите всех пассажиров с фамилией Volkov или Volkova, возраст которых от 21 до 25 включительно.\n",
        "В выборке должен присутствовать один атрибут — id."
      ],
      "metadata": {
        "id": "JvCSRynzKukg"
      }
    },
    {
      "cell_type": "code",
      "source": [
        "%%sql\n",
        "SELECT id\n",
        "FROM clients\n",
        "WHERE\n",
        "    (name LIKE '% Volkov' OR name LIKE '% Volkova')\n",
        "    AND age BETWEEN 21 AND 25;"
      ],
      "metadata": {
        "id": "h4ALgDbHKxtK",
        "colab": {
          "base_uri": "https://localhost:8080/",
          "height": 96
        },
        "outputId": "03927661-fa1c-46e5-ea35-94c2f1881bdf"
      },
      "execution_count": null,
      "outputs": [
        {
          "output_type": "stream",
          "name": "stdout",
          "text": [
            " * sqlite:///bd.db\n",
            "Done.\n"
          ]
        },
        {
          "output_type": "execute_result",
          "data": {
            "text/plain": [
              "[('HKPSZUJQDQVG',)]"
            ],
            "text/html": [
              "<table>\n",
              "    <thead>\n",
              "        <tr>\n",
              "            <th>id</th>\n",
              "        </tr>\n",
              "    </thead>\n",
              "    <tbody>\n",
              "        <tr>\n",
              "            <td>HKPSZUJQDQVG</td>\n",
              "        </tr>\n",
              "    </tbody>\n",
              "</table>"
            ]
          },
          "metadata": {},
          "execution_count": 42
        }
      ]
    },
    {
      "cell_type": "markdown",
      "source": [
        "Задача:\n",
        "\n",
        "Определите билеты бизнес-класса, цена которых не находится в диапазоне от 9100 до 70 400 включительно.\n",
        "В выборке должны присутствовать два атрибута — id и price."
      ],
      "metadata": {
        "id": "m6rd3N3eKyAz"
      }
    },
    {
      "cell_type": "code",
      "source": [
        "%%sql\n",
        "SELECT id, price\n",
        "FROM tickets\n",
        "WHERE\n",
        "    service_class = 'Business'\n",
        "    AND price NOT BETWEEN 9100 AND 70400\n",
        "ORDER BY price;"
      ],
      "metadata": {
        "id": "SgnoGe6KK0mK",
        "colab": {
          "base_uri": "https://localhost:8080/",
          "height": 159
        },
        "outputId": "6718d8a8-5057-48e9-83db-0b3fb85e644c"
      },
      "execution_count": null,
      "outputs": [
        {
          "output_type": "stream",
          "name": "stdout",
          "text": [
            " * sqlite:///bd.db\n",
            "Done.\n"
          ]
        },
        {
          "output_type": "execute_result",
          "data": {
            "text/plain": [
              "[('3Z45EW0ESQMF', 9099),\n",
              " ('3Z45EW0ESQSR', 70401),\n",
              " ('PQQH44EIOUNQ', 99999),\n",
              " ('3Z45EW0ESQSF', 170400)]"
            ],
            "text/html": [
              "<table>\n",
              "    <thead>\n",
              "        <tr>\n",
              "            <th>id</th>\n",
              "            <th>price</th>\n",
              "        </tr>\n",
              "    </thead>\n",
              "    <tbody>\n",
              "        <tr>\n",
              "            <td>3Z45EW0ESQMF</td>\n",
              "            <td>9099</td>\n",
              "        </tr>\n",
              "        <tr>\n",
              "            <td>3Z45EW0ESQSR</td>\n",
              "            <td>70401</td>\n",
              "        </tr>\n",
              "        <tr>\n",
              "            <td>PQQH44EIOUNQ</td>\n",
              "            <td>99999</td>\n",
              "        </tr>\n",
              "        <tr>\n",
              "            <td>3Z45EW0ESQSF</td>\n",
              "            <td>170400</td>\n",
              "        </tr>\n",
              "    </tbody>\n",
              "</table>"
            ]
          },
          "metadata": {},
          "execution_count": 43
        }
      ]
    },
    {
      "cell_type": "markdown",
      "source": [
        "Задача:\n",
        "\n",
        "Определите имена и фамилии пассажиров, чьи идентификаторы заканчиваются на RCB или FCV, а номера телефонов не начинаются на +705.\n",
        "В выборке должен присутствовать один атрибут — name."
      ],
      "metadata": {
        "id": "EXDNOComK0wx"
      }
    },
    {
      "cell_type": "code",
      "source": [
        "%%sql\n",
        "SELECT name\n",
        "FROM clients\n",
        "WHERE\n",
        "    (id LIKE '%RCB' OR id LIKE '%FCV')\n",
        "    AND phone NOT LIKE '+705%';"
      ],
      "metadata": {
        "id": "ZBi70_vMK345",
        "colab": {
          "base_uri": "https://localhost:8080/",
          "height": 117
        },
        "outputId": "66c88489-baa7-47d1-82e1-d839d8aa6c83"
      },
      "execution_count": null,
      "outputs": [
        {
          "output_type": "stream",
          "name": "stdout",
          "text": [
            " * sqlite:///bd.db\n",
            "Done.\n"
          ]
        },
        {
          "output_type": "execute_result",
          "data": {
            "text/plain": [
              "[('Anna Morozova',), ('Ludmila Ivanova',)]"
            ],
            "text/html": [
              "<table>\n",
              "    <thead>\n",
              "        <tr>\n",
              "            <th>name</th>\n",
              "        </tr>\n",
              "    </thead>\n",
              "    <tbody>\n",
              "        <tr>\n",
              "            <td>Anna Morozova</td>\n",
              "        </tr>\n",
              "        <tr>\n",
              "            <td>Ludmila Ivanova</td>\n",
              "        </tr>\n",
              "    </tbody>\n",
              "</table>"
            ]
          },
          "metadata": {},
          "execution_count": 44
        }
      ]
    },
    {
      "cell_type": "markdown",
      "source": [
        "Задача:\n",
        "\n",
        "После каждого рейса проходит плановая уборка салона. Результаты уборки вносятся в отчет-лист. Авиакомпания получила отчет, в котором указано, что во всех самолетах все места чистые, а спинки кресел исправные.\n",
        "Выведите бортовой номер самолета, cформировав для каждой строки поле index с значением 'clean'.\n",
        "В выборке должны присутствовать два атрибута — side_number и index."
      ],
      "metadata": {
        "id": "2PLFTwK6K4BT"
      }
    },
    {
      "cell_type": "code",
      "source": [
        "%%sql\n",
        "SELECT\n",
        "  side_number,\n",
        "  'clean' AS 'index'\n",
        "FROM airliners;"
      ],
      "metadata": {
        "id": "7l_HvaSLK6eR",
        "colab": {
          "base_uri": "https://localhost:8080/",
          "height": 601
        },
        "outputId": "f876a253-5fec-4875-d06d-12dfb1986214"
      },
      "execution_count": null,
      "outputs": [
        {
          "output_type": "stream",
          "name": "stdout",
          "text": [
            " * sqlite:///bd.db\n",
            "Done.\n"
          ]
        },
        {
          "output_type": "execute_result",
          "data": {
            "text/plain": [
              "[('side_number', 'clean'),\n",
              " ('7729', 'clean'),\n",
              " ('5692', 'clean'),\n",
              " ('5693', 'clean'),\n",
              " ('5694', 'clean'),\n",
              " ('3919', 'clean'),\n",
              " ('562', 'clean'),\n",
              " ('3267', 'clean'),\n",
              " ('868', 'clean'),\n",
              " ('869', 'clean'),\n",
              " ('870', 'clean'),\n",
              " ('6022', 'clean'),\n",
              " ('8474', 'clean'),\n",
              " ('4070', 'clean'),\n",
              " ('488', 'clean'),\n",
              " ('6039', 'clean'),\n",
              " ('6001', 'clean'),\n",
              " ('7561', 'clean'),\n",
              " ('1426', 'clean'),\n",
              " ('3879', 'clean'),\n",
              " ('8304', 'clean'),\n",
              " ('8305', 'clean'),\n",
              " ('8306', 'clean'),\n",
              " ('8307', 'clean'),\n",
              " ('8308', 'clean')]"
            ],
            "text/html": [
              "<table>\n",
              "    <thead>\n",
              "        <tr>\n",
              "            <th>side_number</th>\n",
              "            <th>index</th>\n",
              "        </tr>\n",
              "    </thead>\n",
              "    <tbody>\n",
              "        <tr>\n",
              "            <td>side_number</td>\n",
              "            <td>clean</td>\n",
              "        </tr>\n",
              "        <tr>\n",
              "            <td>7729</td>\n",
              "            <td>clean</td>\n",
              "        </tr>\n",
              "        <tr>\n",
              "            <td>5692</td>\n",
              "            <td>clean</td>\n",
              "        </tr>\n",
              "        <tr>\n",
              "            <td>5693</td>\n",
              "            <td>clean</td>\n",
              "        </tr>\n",
              "        <tr>\n",
              "            <td>5694</td>\n",
              "            <td>clean</td>\n",
              "        </tr>\n",
              "        <tr>\n",
              "            <td>3919</td>\n",
              "            <td>clean</td>\n",
              "        </tr>\n",
              "        <tr>\n",
              "            <td>562</td>\n",
              "            <td>clean</td>\n",
              "        </tr>\n",
              "        <tr>\n",
              "            <td>3267</td>\n",
              "            <td>clean</td>\n",
              "        </tr>\n",
              "        <tr>\n",
              "            <td>868</td>\n",
              "            <td>clean</td>\n",
              "        </tr>\n",
              "        <tr>\n",
              "            <td>869</td>\n",
              "            <td>clean</td>\n",
              "        </tr>\n",
              "        <tr>\n",
              "            <td>870</td>\n",
              "            <td>clean</td>\n",
              "        </tr>\n",
              "        <tr>\n",
              "            <td>6022</td>\n",
              "            <td>clean</td>\n",
              "        </tr>\n",
              "        <tr>\n",
              "            <td>8474</td>\n",
              "            <td>clean</td>\n",
              "        </tr>\n",
              "        <tr>\n",
              "            <td>4070</td>\n",
              "            <td>clean</td>\n",
              "        </tr>\n",
              "        <tr>\n",
              "            <td>488</td>\n",
              "            <td>clean</td>\n",
              "        </tr>\n",
              "        <tr>\n",
              "            <td>6039</td>\n",
              "            <td>clean</td>\n",
              "        </tr>\n",
              "        <tr>\n",
              "            <td>6001</td>\n",
              "            <td>clean</td>\n",
              "        </tr>\n",
              "        <tr>\n",
              "            <td>7561</td>\n",
              "            <td>clean</td>\n",
              "        </tr>\n",
              "        <tr>\n",
              "            <td>1426</td>\n",
              "            <td>clean</td>\n",
              "        </tr>\n",
              "        <tr>\n",
              "            <td>3879</td>\n",
              "            <td>clean</td>\n",
              "        </tr>\n",
              "        <tr>\n",
              "            <td>8304</td>\n",
              "            <td>clean</td>\n",
              "        </tr>\n",
              "        <tr>\n",
              "            <td>8305</td>\n",
              "            <td>clean</td>\n",
              "        </tr>\n",
              "        <tr>\n",
              "            <td>8306</td>\n",
              "            <td>clean</td>\n",
              "        </tr>\n",
              "        <tr>\n",
              "            <td>8307</td>\n",
              "            <td>clean</td>\n",
              "        </tr>\n",
              "        <tr>\n",
              "            <td>8308</td>\n",
              "            <td>clean</td>\n",
              "        </tr>\n",
              "    </tbody>\n",
              "</table>"
            ]
          },
          "metadata": {},
          "execution_count": 27
        }
      ]
    },
    {
      "cell_type": "markdown",
      "source": [
        "Задача:\n",
        "\n",
        "Выведите бортовые номера всех самолетов, которые зарегистрированы не в России. Добавьте в выборку самолеты, зарегистрированные в России, которые произведены не в 2005 и не в 2008 году и дальность полета которых больше 5000 км.\n",
        "\n",
        "В выборке должен присутствовать один атрибут — side_number."
      ],
      "metadata": {
        "id": "Ll9d_TbfK6l7"
      }
    },
    {
      "cell_type": "code",
      "source": [
        "%%sql\n",
        "SELECT side_number\n",
        "FROM airliners\n",
        "WHERE\n",
        "    -- Самолеты не из России\n",
        "    country != 'Russia'\n",
        "\n",
        "    UNION\n",
        "\n",
        "    -- ИЛИ самолеты из России с дополнительными условиями\n",
        "    SELECT side_number\n",
        "    FROM airliners\n",
        "    WHERE\n",
        "        country = 'Russia'\n",
        "        AND production_year NOT IN ('2005', '2008')\n",
        "        AND CAST(range AS INTEGER) > 5000;"
      ],
      "metadata": {
        "colab": {
          "base_uri": "https://localhost:8080/",
          "height": 306
        },
        "id": "LE6uBtaGZrzR",
        "outputId": "98e6fcdf-03c4-43b1-ec4f-82ecd2bd7373"
      },
      "execution_count": null,
      "outputs": [
        {
          "output_type": "stream",
          "name": "stdout",
          "text": [
            " * sqlite:///bd.db\n",
            "Done.\n"
          ]
        },
        {
          "output_type": "execute_result",
          "data": {
            "text/plain": [
              "[('3267',),\n",
              " ('3879',),\n",
              " ('3919',),\n",
              " ('4070',),\n",
              " ('488',),\n",
              " ('6001',),\n",
              " ('6022',),\n",
              " ('6039',),\n",
              " ('7729',),\n",
              " ('8474',),\n",
              " ('side_number',)]"
            ],
            "text/html": [
              "<table>\n",
              "    <thead>\n",
              "        <tr>\n",
              "            <th>side_number</th>\n",
              "        </tr>\n",
              "    </thead>\n",
              "    <tbody>\n",
              "        <tr>\n",
              "            <td>3267</td>\n",
              "        </tr>\n",
              "        <tr>\n",
              "            <td>3879</td>\n",
              "        </tr>\n",
              "        <tr>\n",
              "            <td>3919</td>\n",
              "        </tr>\n",
              "        <tr>\n",
              "            <td>4070</td>\n",
              "        </tr>\n",
              "        <tr>\n",
              "            <td>488</td>\n",
              "        </tr>\n",
              "        <tr>\n",
              "            <td>6001</td>\n",
              "        </tr>\n",
              "        <tr>\n",
              "            <td>6022</td>\n",
              "        </tr>\n",
              "        <tr>\n",
              "            <td>6039</td>\n",
              "        </tr>\n",
              "        <tr>\n",
              "            <td>7729</td>\n",
              "        </tr>\n",
              "        <tr>\n",
              "            <td>8474</td>\n",
              "        </tr>\n",
              "        <tr>\n",
              "            <td>side_number</td>\n",
              "        </tr>\n",
              "    </tbody>\n",
              "</table>"
            ]
          },
          "metadata": {},
          "execution_count": 45
        }
      ]
    },
    {
      "cell_type": "code",
      "source": [
        "%%sql\n",
        "SELECT side_number\n",
        "FROM airliners\n",
        "WHERE country not like 'Russia'\n",
        "union\n",
        "Select side_number\n",
        "From airliners\n",
        "Where country = 'Russia'\n",
        "And production_year not BETWEEN '2005' AND '2008' AND range >'5000'"
      ],
      "metadata": {
        "id": "F7A0wj_0K9Ok",
        "colab": {
          "base_uri": "https://localhost:8080/",
          "height": 201
        },
        "outputId": "b2f204e2-7568-458e-c32b-b5e22538e381"
      },
      "execution_count": null,
      "outputs": [
        {
          "output_type": "stream",
          "name": "stdout",
          "text": [
            " * sqlite:///bd.db\n",
            "Done.\n"
          ]
        },
        {
          "output_type": "execute_result",
          "data": {
            "text/plain": [
              "[('3919',), ('4070',), ('488',), ('6039',), ('8474',), ('side_number',)]"
            ],
            "text/html": [
              "<table>\n",
              "    <thead>\n",
              "        <tr>\n",
              "            <th>side_number</th>\n",
              "        </tr>\n",
              "    </thead>\n",
              "    <tbody>\n",
              "        <tr>\n",
              "            <td>3919</td>\n",
              "        </tr>\n",
              "        <tr>\n",
              "            <td>4070</td>\n",
              "        </tr>\n",
              "        <tr>\n",
              "            <td>488</td>\n",
              "        </tr>\n",
              "        <tr>\n",
              "            <td>6039</td>\n",
              "        </tr>\n",
              "        <tr>\n",
              "            <td>8474</td>\n",
              "        </tr>\n",
              "        <tr>\n",
              "            <td>side_number</td>\n",
              "        </tr>\n",
              "    </tbody>\n",
              "</table>"
            ]
          },
          "metadata": {},
          "execution_count": 28
        }
      ]
    },
    {
      "cell_type": "markdown",
      "source": [
        "Задача:\n",
        "\n",
        "Выведите коды всех рейсов, в рамках которых воздушные судна в данный момент находятся в воздухе (статус таких рейсов — departed). В выборку должны попасть рейсы, аэропорт назначения которых MQF или ABA, а также рейсы, аэропорт отправления которых не PYJ и не CNN.\n",
        "В выборке должен присутствовать один атрибут — trip_code."
      ],
      "metadata": {
        "id": "LqfJPencK9U8"
      }
    },
    {
      "cell_type": "code",
      "source": [
        "%%sql\n",
        "SELECT trip_code\n",
        "FROM trips\n",
        "WHERE\n",
        "    status = 'Departed'\n",
        "    AND (\n",
        "        arrival IN ('MQF', 'ABA')  -- Аэропорт назначения MQF или ABA\n",
        "        OR\n",
        "        departure NOT IN ('PYJ', 'CNN')  -- Аэропорт отправления не PYJ и не CNN\n",
        "    );"
      ],
      "metadata": {
        "id": "tnMABps8K_tS",
        "colab": {
          "base_uri": "https://localhost:8080/",
          "height": 622
        },
        "outputId": "1a77f4aa-4dbd-4395-cf69-3c402d4cd0c6"
      },
      "execution_count": null,
      "outputs": [
        {
          "output_type": "stream",
          "name": "stdout",
          "text": [
            " * sqlite:///bd.db\n",
            "Done.\n"
          ]
        },
        {
          "output_type": "execute_result",
          "data": {
            "text/plain": [
              "[('FYKUZEYK',),\n",
              " ('FYELLIVY',),\n",
              " ('FYDLCIYR',),\n",
              " ('FYQGVPDV',),\n",
              " ('FYENZBWZ',),\n",
              " ('FYDKIBWN',),\n",
              " ('FYYRTAUP',),\n",
              " ('FYRGWMOU',),\n",
              " ('FYCSRAVD',),\n",
              " ('FYBHJBFQ',),\n",
              " ('FYVJYQLI',),\n",
              " ('FYUTQQYR',),\n",
              " ('FYVXEQJW',),\n",
              " ('FYRHRAHE',),\n",
              " ('FYDKXSYX',),\n",
              " ('FYAHGFMW',),\n",
              " ('FYDPMJUK',),\n",
              " ('FYGBZBCQ',),\n",
              " ('FYDXJSJR',),\n",
              " ('FYUGYNWQ',),\n",
              " ('FYNDDJVU',),\n",
              " ('FYLAZXFB',),\n",
              " ('FYSPDVSV',),\n",
              " ('FYGZIAIP',),\n",
              " ('FYBSRELS',),\n",
              " ('FYJUOLRJ',)]"
            ],
            "text/html": [
              "<table>\n",
              "    <thead>\n",
              "        <tr>\n",
              "            <th>trip_code</th>\n",
              "        </tr>\n",
              "    </thead>\n",
              "    <tbody>\n",
              "        <tr>\n",
              "            <td>FYKUZEYK</td>\n",
              "        </tr>\n",
              "        <tr>\n",
              "            <td>FYELLIVY</td>\n",
              "        </tr>\n",
              "        <tr>\n",
              "            <td>FYDLCIYR</td>\n",
              "        </tr>\n",
              "        <tr>\n",
              "            <td>FYQGVPDV</td>\n",
              "        </tr>\n",
              "        <tr>\n",
              "            <td>FYENZBWZ</td>\n",
              "        </tr>\n",
              "        <tr>\n",
              "            <td>FYDKIBWN</td>\n",
              "        </tr>\n",
              "        <tr>\n",
              "            <td>FYYRTAUP</td>\n",
              "        </tr>\n",
              "        <tr>\n",
              "            <td>FYRGWMOU</td>\n",
              "        </tr>\n",
              "        <tr>\n",
              "            <td>FYCSRAVD</td>\n",
              "        </tr>\n",
              "        <tr>\n",
              "            <td>FYBHJBFQ</td>\n",
              "        </tr>\n",
              "        <tr>\n",
              "            <td>FYVJYQLI</td>\n",
              "        </tr>\n",
              "        <tr>\n",
              "            <td>FYUTQQYR</td>\n",
              "        </tr>\n",
              "        <tr>\n",
              "            <td>FYVXEQJW</td>\n",
              "        </tr>\n",
              "        <tr>\n",
              "            <td>FYRHRAHE</td>\n",
              "        </tr>\n",
              "        <tr>\n",
              "            <td>FYDKXSYX</td>\n",
              "        </tr>\n",
              "        <tr>\n",
              "            <td>FYAHGFMW</td>\n",
              "        </tr>\n",
              "        <tr>\n",
              "            <td>FYDPMJUK</td>\n",
              "        </tr>\n",
              "        <tr>\n",
              "            <td>FYGBZBCQ</td>\n",
              "        </tr>\n",
              "        <tr>\n",
              "            <td>FYDXJSJR</td>\n",
              "        </tr>\n",
              "        <tr>\n",
              "            <td>FYUGYNWQ</td>\n",
              "        </tr>\n",
              "        <tr>\n",
              "            <td>FYNDDJVU</td>\n",
              "        </tr>\n",
              "        <tr>\n",
              "            <td>FYLAZXFB</td>\n",
              "        </tr>\n",
              "        <tr>\n",
              "            <td>FYSPDVSV</td>\n",
              "        </tr>\n",
              "        <tr>\n",
              "            <td>FYGZIAIP</td>\n",
              "        </tr>\n",
              "        <tr>\n",
              "            <td>FYBSRELS</td>\n",
              "        </tr>\n",
              "        <tr>\n",
              "            <td>FYJUOLRJ</td>\n",
              "        </tr>\n",
              "    </tbody>\n",
              "</table>"
            ]
          },
          "metadata": {},
          "execution_count": 46
        }
      ]
    },
    {
      "cell_type": "markdown",
      "source": [
        "Задача:\n",
        "\n",
        "Выведите идентификаторы билетов бизнес-класса дешевле 15 000 и эконом-класса дороже 65 000. Исключите из выборки билеты рейсов VR5SF5YIWN, OZAO28DLFP и LL4S1G8PQW, так как для них ценовая политика не меняется.\n",
        "В выборке должен присутствовать один атрибут — id."
      ],
      "metadata": {
        "id": "Ha9qkUajK_3i"
      }
    },
    {
      "cell_type": "code",
      "source": [
        "%%sql\n",
        "SELECT ID FROM TICKETS\n",
        "WHERE\n",
        "(\n",
        "(UPPER(SERVICE_CLASS) NOT LIKE '%ECO%'\n",
        "AND PRICE < 15000)\n",
        "OR\n",
        "WHERE (UPPER(SERVICE_CLASS) LIKE '%ECO%'\n",
        "AND PRICE > 65000)\n",
        ")\n",
        "AND TRIP_ID NOT IN ('VR5SF5YIWN', 'OZAO28DLFP', 'LL4S1G8PQW')"
      ],
      "metadata": {
        "id": "wlgN_DwULE0q",
        "colab": {
          "base_uri": "https://localhost:8080/"
        },
        "outputId": "b3ae3993-6633-4a07-ec8f-21015922641d"
      },
      "execution_count": null,
      "outputs": [
        {
          "output_type": "stream",
          "name": "stdout",
          "text": [
            " * sqlite:///bd.db\n",
            "(sqlite3.OperationalError) near \"WHERE\": syntax error\n",
            "[SQL: SELECT ID FROM TICKETS\n",
            "WHERE\n",
            "(\n",
            "(UPPER(SERVICE_CLASS) NOT LIKE '%ECO%'\n",
            "AND PRICE < 15000)\n",
            "OR\n",
            "WHERE (UPPER(SERVICE_CLASS) LIKE '%ECO%'\n",
            "AND PRICE > 65000)\n",
            ")\n",
            "AND TRIP_ID NOT IN ('VR5SF5YIWN', 'OZAO28DLFP', 'LL4S1G8PQW')]\n",
            "(Background on this error at: https://sqlalche.me/e/20/e3q8)\n"
          ]
        }
      ]
    },
    {
      "cell_type": "markdown",
      "source": [
        "Задача:\n",
        "\n",
        "В таблице trips коды перелетов должны начинаться на FY. Например, FYKUZEYK. Однако известно, что в данных есть ошибки и часть кодов имеет неправильный префикс. Найдите все такие коды.\n",
        "В выборке должны присутствовать два атрибута — id, trip_code."
      ],
      "metadata": {
        "id": "XpqarOWRLE86"
      }
    },
    {
      "cell_type": "code",
      "source": [
        "%%sql\n",
        "SELECT id\n",
        "FROM tickets\n",
        "WHERE (\n",
        "    (service_class = 'Business' AND price < 15000)  -- бизнес-класс дешевле 15 000\n",
        "    OR\n",
        "    (service_class = 'Economy' AND price > 65000)  -- эконом-класс дороже 65 000\n",
        ")\n",
        "AND trip_id NOT IN ('VR5SF5YIWN', 'OZAO28DLFP', 'LL4S1G8PQW');  -- исключенные рейсы"
      ],
      "metadata": {
        "id": "YL77CrJKLFrB",
        "colab": {
          "base_uri": "https://localhost:8080/",
          "height": 117
        },
        "outputId": "77e56d96-3c91-4076-cdf0-dd67887785d0"
      },
      "execution_count": null,
      "outputs": [
        {
          "output_type": "stream",
          "name": "stdout",
          "text": [
            " * sqlite:///bd.db\n",
            "Done.\n"
          ]
        },
        {
          "output_type": "execute_result",
          "data": {
            "text/plain": [
              "[('JWSMMHW2XMAB',), ('3Z46EB0ESQMF',)]"
            ],
            "text/html": [
              "<table>\n",
              "    <thead>\n",
              "        <tr>\n",
              "            <th>id</th>\n",
              "        </tr>\n",
              "    </thead>\n",
              "    <tbody>\n",
              "        <tr>\n",
              "            <td>JWSMMHW2XMAB</td>\n",
              "        </tr>\n",
              "        <tr>\n",
              "            <td>3Z46EB0ESQMF</td>\n",
              "        </tr>\n",
              "    </tbody>\n",
              "</table>"
            ]
          },
          "metadata": {},
          "execution_count": 47
        }
      ]
    },
    {
      "cell_type": "markdown",
      "source": [
        "Задача:\n",
        "\n",
        "Выведите коды всех рейсов, в рамках которых воздушные судна вылетели из Москвы и в данный момент находятся в воздухе (статус таких рейсов — departed). Коды аэропортов Москвы: SVO, VKO, DME.\n",
        "В выборке должен присутствовать один атрибут — trip_code."
      ],
      "metadata": {
        "id": "EiIcRkfsLFyb"
      }
    },
    {
      "cell_type": "code",
      "source": [
        "%%sql\n",
        "\n",
        "SELECT trip_code\n",
        "FROM trips\n",
        "WHERE\n",
        "    status = 'Departed'\n",
        "    AND departure IN ('SVO', 'VKO', 'DME');"
      ],
      "metadata": {
        "id": "8jrMLHGFLKNj",
        "colab": {
          "base_uri": "https://localhost:8080/",
          "height": 159
        },
        "outputId": "ac01084e-7077-4893-8120-b3af00f0228d"
      },
      "execution_count": null,
      "outputs": [
        {
          "output_type": "stream",
          "name": "stdout",
          "text": [
            " * sqlite:///bd.db\n",
            "Done.\n"
          ]
        },
        {
          "output_type": "execute_result",
          "data": {
            "text/plain": [
              "[('FYUTQQYR',), ('FYVXEQJW',), ('FYGBZBCQ',), ('FYDXJSJR',)]"
            ],
            "text/html": [
              "<table>\n",
              "    <thead>\n",
              "        <tr>\n",
              "            <th>trip_code</th>\n",
              "        </tr>\n",
              "    </thead>\n",
              "    <tbody>\n",
              "        <tr>\n",
              "            <td>FYUTQQYR</td>\n",
              "        </tr>\n",
              "        <tr>\n",
              "            <td>FYVXEQJW</td>\n",
              "        </tr>\n",
              "        <tr>\n",
              "            <td>FYGBZBCQ</td>\n",
              "        </tr>\n",
              "        <tr>\n",
              "            <td>FYDXJSJR</td>\n",
              "        </tr>\n",
              "    </tbody>\n",
              "</table>"
            ]
          },
          "metadata": {},
          "execution_count": 48
        }
      ]
    },
    {
      "cell_type": "markdown",
      "source": [
        "Задача:\n",
        "\n",
        "Выведите бортовые номера и дальность полета всех ближне- и дальнемагистральных самолетов. Примечание: ближнемагистральными считайте те, дальность полета которых > 1000 км и <= 2500 км. Дальнемагистральными — с дальностью полета >= 6000 км.\n",
        "В выборке должны присутствовать два атрибута — side_number и range."
      ],
      "metadata": {
        "id": "KINhqf61LKTy"
      }
    },
    {
      "cell_type": "code",
      "source": [
        "%%sql\n",
        "SELECT\n",
        "    side_number,\n",
        "    range,\n",
        "    CASE\n",
        "        WHEN CAST(range AS INTEGER) > 1000 AND CAST(range AS INTEGER) <= 2500 THEN 'Ближнемагистральный'\n",
        "        WHEN CAST(range AS INTEGER) >= 6000 THEN 'Дальнемагистральный'\n",
        "    END AS category\n",
        "FROM airliners\n",
        "WHERE\n",
        "    (CAST(range AS INTEGER) > 1000 AND CAST(range AS INTEGER) <= 2500)\n",
        "    OR\n",
        "    CAST(range AS INTEGER) >= 6000;"
      ],
      "metadata": {
        "id": "z5lpOXGNLNC5",
        "colab": {
          "base_uri": "https://localhost:8080/",
          "height": 454
        },
        "outputId": "19582259-f21e-4f57-af74-ed3a1a7d94cc"
      },
      "execution_count": null,
      "outputs": [
        {
          "output_type": "stream",
          "name": "stdout",
          "text": [
            " * sqlite:///bd.db\n",
            "Done.\n"
          ]
        },
        {
          "output_type": "execute_result",
          "data": {
            "text/plain": [
              "[('7729', '12800', 'Дальнемагистральный'),\n",
              " ('5692', '7899', 'Дальнемагистральный'),\n",
              " ('5693', '7900', 'Дальнемагистральный'),\n",
              " ('3919', '14200', 'Дальнемагистральный'),\n",
              " ('562', '10100', 'Дальнемагистральный'),\n",
              " ('3267', '13700', 'Дальнемагистральный'),\n",
              " ('6022', '13900', 'Дальнемагистральный'),\n",
              " ('8474', '10900', 'Дальнемагистральный'),\n",
              " ('4070', '12700', 'Дальнемагистральный'),\n",
              " ('488', '13200', 'Дальнемагистральный'),\n",
              " ('6039', '12800', 'Дальнемагистральный'),\n",
              " ('6001', '11700', 'Дальнемагистральный'),\n",
              " ('7561', '10600', 'Дальнемагистральный'),\n",
              " ('1426', '12300', 'Дальнемагистральный'),\n",
              " ('3879', '12900', 'Дальнемагистральный'),\n",
              " ('8305', '1001', 'Ближнемагистральный'),\n",
              " ('8306', '1200', 'Ближнемагистральный'),\n",
              " ('8307', '2500', 'Ближнемагистральный')]"
            ],
            "text/html": [
              "<table>\n",
              "    <thead>\n",
              "        <tr>\n",
              "            <th>side_number</th>\n",
              "            <th>range</th>\n",
              "            <th>category</th>\n",
              "        </tr>\n",
              "    </thead>\n",
              "    <tbody>\n",
              "        <tr>\n",
              "            <td>7729</td>\n",
              "            <td>12800</td>\n",
              "            <td>Дальнемагистральный</td>\n",
              "        </tr>\n",
              "        <tr>\n",
              "            <td>5692</td>\n",
              "            <td>7899</td>\n",
              "            <td>Дальнемагистральный</td>\n",
              "        </tr>\n",
              "        <tr>\n",
              "            <td>5693</td>\n",
              "            <td>7900</td>\n",
              "            <td>Дальнемагистральный</td>\n",
              "        </tr>\n",
              "        <tr>\n",
              "            <td>3919</td>\n",
              "            <td>14200</td>\n",
              "            <td>Дальнемагистральный</td>\n",
              "        </tr>\n",
              "        <tr>\n",
              "            <td>562</td>\n",
              "            <td>10100</td>\n",
              "            <td>Дальнемагистральный</td>\n",
              "        </tr>\n",
              "        <tr>\n",
              "            <td>3267</td>\n",
              "            <td>13700</td>\n",
              "            <td>Дальнемагистральный</td>\n",
              "        </tr>\n",
              "        <tr>\n",
              "            <td>6022</td>\n",
              "            <td>13900</td>\n",
              "            <td>Дальнемагистральный</td>\n",
              "        </tr>\n",
              "        <tr>\n",
              "            <td>8474</td>\n",
              "            <td>10900</td>\n",
              "            <td>Дальнемагистральный</td>\n",
              "        </tr>\n",
              "        <tr>\n",
              "            <td>4070</td>\n",
              "            <td>12700</td>\n",
              "            <td>Дальнемагистральный</td>\n",
              "        </tr>\n",
              "        <tr>\n",
              "            <td>488</td>\n",
              "            <td>13200</td>\n",
              "            <td>Дальнемагистральный</td>\n",
              "        </tr>\n",
              "        <tr>\n",
              "            <td>6039</td>\n",
              "            <td>12800</td>\n",
              "            <td>Дальнемагистральный</td>\n",
              "        </tr>\n",
              "        <tr>\n",
              "            <td>6001</td>\n",
              "            <td>11700</td>\n",
              "            <td>Дальнемагистральный</td>\n",
              "        </tr>\n",
              "        <tr>\n",
              "            <td>7561</td>\n",
              "            <td>10600</td>\n",
              "            <td>Дальнемагистральный</td>\n",
              "        </tr>\n",
              "        <tr>\n",
              "            <td>1426</td>\n",
              "            <td>12300</td>\n",
              "            <td>Дальнемагистральный</td>\n",
              "        </tr>\n",
              "        <tr>\n",
              "            <td>3879</td>\n",
              "            <td>12900</td>\n",
              "            <td>Дальнемагистральный</td>\n",
              "        </tr>\n",
              "        <tr>\n",
              "            <td>8305</td>\n",
              "            <td>1001</td>\n",
              "            <td>Ближнемагистральный</td>\n",
              "        </tr>\n",
              "        <tr>\n",
              "            <td>8306</td>\n",
              "            <td>1200</td>\n",
              "            <td>Ближнемагистральный</td>\n",
              "        </tr>\n",
              "        <tr>\n",
              "            <td>8307</td>\n",
              "            <td>2500</td>\n",
              "            <td>Ближнемагистральный</td>\n",
              "        </tr>\n",
              "    </tbody>\n",
              "</table>"
            ]
          },
          "metadata": {},
          "execution_count": 50
        }
      ]
    },
    {
      "cell_type": "markdown",
      "source": [
        "Задача:\n",
        "\n",
        "В таблице tickets повреждена часть данных, из-за этого идентификаторы некоторых рейсов приняли значение NULL. Выведите все номера билетов с измененными номерами рейсов.\n",
        "В выборке должен присутствовать один атрибут — id."
      ],
      "metadata": {
        "id": "Qezl3Rc1LNL1"
      }
    },
    {
      "cell_type": "code",
      "source": [
        "%%sql\n",
        "SELECT id\n",
        "FROM tickets\n",
        "WHERE trip_id IS NULL;"
      ],
      "metadata": {
        "id": "Y_lLM_LOLTIZ",
        "colab": {
          "base_uri": "https://localhost:8080/",
          "height": 75
        },
        "outputId": "c251af3b-a5f0-471b-a84c-bd8745c77161"
      },
      "execution_count": null,
      "outputs": [
        {
          "output_type": "stream",
          "name": "stdout",
          "text": [
            " * sqlite:///bd.db\n",
            "Done.\n"
          ]
        },
        {
          "output_type": "execute_result",
          "data": {
            "text/plain": [
              "[]"
            ],
            "text/html": [
              "<table>\n",
              "    <thead>\n",
              "        <tr>\n",
              "            <th>id</th>\n",
              "        </tr>\n",
              "    </thead>\n",
              "    <tbody>\n",
              "    </tbody>\n",
              "</table>"
            ]
          },
          "metadata": {},
          "execution_count": 51
        }
      ]
    },
    {
      "cell_type": "markdown",
      "source": [
        "Задача:\n",
        "\n",
        "В таблице tickets повреждена часть данных, из-за этого номера некоторых рейсов приняли значение NULL. Определите класс обслуживания для билетов, номер рейса в которых задан корректно (значение не NULL).\n",
        "В выборке должен присутствовать один атрибут — service_class."
      ],
      "metadata": {
        "id": "qBX1aYR-LTOa"
      }
    },
    {
      "cell_type": "code",
      "source": [
        "%%sql\n",
        "SELECT service_class\n",
        "FROM tickets\n",
        "WHERE trip_id IS NOT NULL;"
      ],
      "metadata": {
        "id": "dsh03x4ELT4R",
        "colab": {
          "base_uri": "https://localhost:8080/",
          "height": 1000
        },
        "outputId": "ba95b702-65b8-447f-dbf4-dcfde5f046f3"
      },
      "execution_count": null,
      "outputs": [
        {
          "output_type": "stream",
          "name": "stdout",
          "text": [
            " * sqlite:///bd.db\n",
            "Done.\n"
          ]
        },
        {
          "output_type": "execute_result",
          "data": {
            "text/plain": [
              "[('service_class',),\n",
              " ('Economy',),\n",
              " ('Economy',),\n",
              " ('Economy',),\n",
              " ('Economy',),\n",
              " ('FirstClass',),\n",
              " ('PremiumEconomy',),\n",
              " ('Economy',),\n",
              " ('Economy',),\n",
              " ('PremiumEconomy',),\n",
              " ('Economy',),\n",
              " ('PremiumEconomy',),\n",
              " ('Economy',),\n",
              " ('FirstClass',),\n",
              " ('Economy',),\n",
              " ('Economy',),\n",
              " ('Economy',),\n",
              " ('PremiumEconomy',),\n",
              " ('Economy',),\n",
              " ('Economy',),\n",
              " ('Economy',),\n",
              " ('PremiumEconomy',),\n",
              " ('Economy',),\n",
              " ('PremiumEconomy',),\n",
              " ('PremiumEconomy',),\n",
              " ('Economy',),\n",
              " ('Economy',),\n",
              " ('Business',),\n",
              " ('FirstClass',),\n",
              " ('Economy',),\n",
              " ('Economy',),\n",
              " ('PremiumEconomy',),\n",
              " ('Economy',),\n",
              " ('Economy',),\n",
              " ('Economy',),\n",
              " ('Economy',),\n",
              " ('Economy',),\n",
              " ('Economy',),\n",
              " ('Economy',),\n",
              " ('Economy',),\n",
              " ('Economy',),\n",
              " ('Economy',),\n",
              " ('Economy',),\n",
              " ('Economy',),\n",
              " ('Economy',),\n",
              " ('PremiumEconomy',),\n",
              " ('Economy',),\n",
              " ('Economy',),\n",
              " ('Business',),\n",
              " ('Business',),\n",
              " ('Business',),\n",
              " ('Business',),\n",
              " ('Business',),\n",
              " ('Business',),\n",
              " ('Economy',),\n",
              " ('Economy',)]"
            ],
            "text/html": [
              "<table>\n",
              "    <thead>\n",
              "        <tr>\n",
              "            <th>service_class</th>\n",
              "        </tr>\n",
              "    </thead>\n",
              "    <tbody>\n",
              "        <tr>\n",
              "            <td>service_class</td>\n",
              "        </tr>\n",
              "        <tr>\n",
              "            <td>Economy</td>\n",
              "        </tr>\n",
              "        <tr>\n",
              "            <td>Economy</td>\n",
              "        </tr>\n",
              "        <tr>\n",
              "            <td>Economy</td>\n",
              "        </tr>\n",
              "        <tr>\n",
              "            <td>Economy</td>\n",
              "        </tr>\n",
              "        <tr>\n",
              "            <td>FirstClass</td>\n",
              "        </tr>\n",
              "        <tr>\n",
              "            <td>PremiumEconomy</td>\n",
              "        </tr>\n",
              "        <tr>\n",
              "            <td>Economy</td>\n",
              "        </tr>\n",
              "        <tr>\n",
              "            <td>Economy</td>\n",
              "        </tr>\n",
              "        <tr>\n",
              "            <td>PremiumEconomy</td>\n",
              "        </tr>\n",
              "        <tr>\n",
              "            <td>Economy</td>\n",
              "        </tr>\n",
              "        <tr>\n",
              "            <td>PremiumEconomy</td>\n",
              "        </tr>\n",
              "        <tr>\n",
              "            <td>Economy</td>\n",
              "        </tr>\n",
              "        <tr>\n",
              "            <td>FirstClass</td>\n",
              "        </tr>\n",
              "        <tr>\n",
              "            <td>Economy</td>\n",
              "        </tr>\n",
              "        <tr>\n",
              "            <td>Economy</td>\n",
              "        </tr>\n",
              "        <tr>\n",
              "            <td>Economy</td>\n",
              "        </tr>\n",
              "        <tr>\n",
              "            <td>PremiumEconomy</td>\n",
              "        </tr>\n",
              "        <tr>\n",
              "            <td>Economy</td>\n",
              "        </tr>\n",
              "        <tr>\n",
              "            <td>Economy</td>\n",
              "        </tr>\n",
              "        <tr>\n",
              "            <td>Economy</td>\n",
              "        </tr>\n",
              "        <tr>\n",
              "            <td>PremiumEconomy</td>\n",
              "        </tr>\n",
              "        <tr>\n",
              "            <td>Economy</td>\n",
              "        </tr>\n",
              "        <tr>\n",
              "            <td>PremiumEconomy</td>\n",
              "        </tr>\n",
              "        <tr>\n",
              "            <td>PremiumEconomy</td>\n",
              "        </tr>\n",
              "        <tr>\n",
              "            <td>Economy</td>\n",
              "        </tr>\n",
              "        <tr>\n",
              "            <td>Economy</td>\n",
              "        </tr>\n",
              "        <tr>\n",
              "            <td>Business</td>\n",
              "        </tr>\n",
              "        <tr>\n",
              "            <td>FirstClass</td>\n",
              "        </tr>\n",
              "        <tr>\n",
              "            <td>Economy</td>\n",
              "        </tr>\n",
              "        <tr>\n",
              "            <td>Economy</td>\n",
              "        </tr>\n",
              "        <tr>\n",
              "            <td>PremiumEconomy</td>\n",
              "        </tr>\n",
              "        <tr>\n",
              "            <td>Economy</td>\n",
              "        </tr>\n",
              "        <tr>\n",
              "            <td>Economy</td>\n",
              "        </tr>\n",
              "        <tr>\n",
              "            <td>Economy</td>\n",
              "        </tr>\n",
              "        <tr>\n",
              "            <td>Economy</td>\n",
              "        </tr>\n",
              "        <tr>\n",
              "            <td>Economy</td>\n",
              "        </tr>\n",
              "        <tr>\n",
              "            <td>Economy</td>\n",
              "        </tr>\n",
              "        <tr>\n",
              "            <td>Economy</td>\n",
              "        </tr>\n",
              "        <tr>\n",
              "            <td>Economy</td>\n",
              "        </tr>\n",
              "        <tr>\n",
              "            <td>Economy</td>\n",
              "        </tr>\n",
              "        <tr>\n",
              "            <td>Economy</td>\n",
              "        </tr>\n",
              "        <tr>\n",
              "            <td>Economy</td>\n",
              "        </tr>\n",
              "        <tr>\n",
              "            <td>Economy</td>\n",
              "        </tr>\n",
              "        <tr>\n",
              "            <td>Economy</td>\n",
              "        </tr>\n",
              "        <tr>\n",
              "            <td>PremiumEconomy</td>\n",
              "        </tr>\n",
              "        <tr>\n",
              "            <td>Economy</td>\n",
              "        </tr>\n",
              "        <tr>\n",
              "            <td>Economy</td>\n",
              "        </tr>\n",
              "        <tr>\n",
              "            <td>Business</td>\n",
              "        </tr>\n",
              "        <tr>\n",
              "            <td>Business</td>\n",
              "        </tr>\n",
              "        <tr>\n",
              "            <td>Business</td>\n",
              "        </tr>\n",
              "        <tr>\n",
              "            <td>Business</td>\n",
              "        </tr>\n",
              "        <tr>\n",
              "            <td>Business</td>\n",
              "        </tr>\n",
              "        <tr>\n",
              "            <td>Business</td>\n",
              "        </tr>\n",
              "        <tr>\n",
              "            <td>Economy</td>\n",
              "        </tr>\n",
              "        <tr>\n",
              "            <td>Economy</td>\n",
              "        </tr>\n",
              "    </tbody>\n",
              "</table>"
            ]
          },
          "metadata": {},
          "execution_count": 52
        }
      ]
    },
    {
      "cell_type": "markdown",
      "source": [
        "Задача:\n",
        "\n",
        "В таблице tickets повреждена часть данных, из-за этого номера некоторых рейсов и класс обслуживания некоторых билетов приняли значение NULL. Выведите идентификаторы билетов, класс обслуживания которых не Economy и не NULL. В решении попробуйте воспользоваться оператором NOT IN.\n",
        "В выборке должен присутствовать один атрибут — id."
      ],
      "metadata": {
        "id": "IQYE9C4XLUDJ"
      }
    },
    {
      "cell_type": "code",
      "source": [
        "%%sql\n",
        "SELECT id\n",
        "FROM tickets\n",
        "WHERE\n",
        "    service_class NOT IN ('Economy')\n",
        "    AND service_class IS NOT NULL;\n"
      ],
      "metadata": {
        "id": "ghkUQQFSLqpy",
        "colab": {
          "base_uri": "https://localhost:8080/",
          "height": 496
        },
        "outputId": "29684ab2-c1ae-4472-e0d5-432e406cc91d"
      },
      "execution_count": null,
      "outputs": [
        {
          "output_type": "stream",
          "name": "stdout",
          "text": [
            " * sqlite:///bd.db\n",
            "Done.\n"
          ]
        },
        {
          "output_type": "execute_result",
          "data": {
            "text/plain": [
              "[('id',),\n",
              " ('OQ83AMHE59DM',),\n",
              " ('NKFQ4RNLXYEC',),\n",
              " ('2YOI2PSODQL3',),\n",
              " ('TQBQR0IMN32H',),\n",
              " ('ZA39AID06OZN',),\n",
              " ('E5TKAEGCMZ7W',),\n",
              " ('ZLN3ZYL2E7UD',),\n",
              " ('02L9TNINKTTY',),\n",
              " ('5RJ9VEVLTIRR',),\n",
              " ('PQQH44EIOUNQ',),\n",
              " ('WNO7QWHNQ1X6',),\n",
              " ('8NN75L120I5Q',),\n",
              " ('8UVQROLPPF2E',),\n",
              " ('3Z45EW0ESQSK',),\n",
              " ('3Z45EW0ESQMF',),\n",
              " ('3Z46EB0ESQMF',),\n",
              " ('3Z46EBFEDQMF',),\n",
              " ('3Z45EW0ESQSR',),\n",
              " ('3Z45EW0ESQSF',)]"
            ],
            "text/html": [
              "<table>\n",
              "    <thead>\n",
              "        <tr>\n",
              "            <th>id</th>\n",
              "        </tr>\n",
              "    </thead>\n",
              "    <tbody>\n",
              "        <tr>\n",
              "            <td>id</td>\n",
              "        </tr>\n",
              "        <tr>\n",
              "            <td>OQ83AMHE59DM</td>\n",
              "        </tr>\n",
              "        <tr>\n",
              "            <td>NKFQ4RNLXYEC</td>\n",
              "        </tr>\n",
              "        <tr>\n",
              "            <td>2YOI2PSODQL3</td>\n",
              "        </tr>\n",
              "        <tr>\n",
              "            <td>TQBQR0IMN32H</td>\n",
              "        </tr>\n",
              "        <tr>\n",
              "            <td>ZA39AID06OZN</td>\n",
              "        </tr>\n",
              "        <tr>\n",
              "            <td>E5TKAEGCMZ7W</td>\n",
              "        </tr>\n",
              "        <tr>\n",
              "            <td>ZLN3ZYL2E7UD</td>\n",
              "        </tr>\n",
              "        <tr>\n",
              "            <td>02L9TNINKTTY</td>\n",
              "        </tr>\n",
              "        <tr>\n",
              "            <td>5RJ9VEVLTIRR</td>\n",
              "        </tr>\n",
              "        <tr>\n",
              "            <td>PQQH44EIOUNQ</td>\n",
              "        </tr>\n",
              "        <tr>\n",
              "            <td>WNO7QWHNQ1X6</td>\n",
              "        </tr>\n",
              "        <tr>\n",
              "            <td>8NN75L120I5Q</td>\n",
              "        </tr>\n",
              "        <tr>\n",
              "            <td>8UVQROLPPF2E</td>\n",
              "        </tr>\n",
              "        <tr>\n",
              "            <td>3Z45EW0ESQSK</td>\n",
              "        </tr>\n",
              "        <tr>\n",
              "            <td>3Z45EW0ESQMF</td>\n",
              "        </tr>\n",
              "        <tr>\n",
              "            <td>3Z46EB0ESQMF</td>\n",
              "        </tr>\n",
              "        <tr>\n",
              "            <td>3Z46EBFEDQMF</td>\n",
              "        </tr>\n",
              "        <tr>\n",
              "            <td>3Z45EW0ESQSR</td>\n",
              "        </tr>\n",
              "        <tr>\n",
              "            <td>3Z45EW0ESQSF</td>\n",
              "        </tr>\n",
              "    </tbody>\n",
              "</table>"
            ]
          },
          "metadata": {},
          "execution_count": 53
        }
      ]
    },
    {
      "cell_type": "markdown",
      "source": [
        "Задача:\n",
        "\n",
        "Повреждения в таблице tickets оказались более серьезными, чем думалось. В каждом столбце потенциально могут находиться значения NULL.\n",
        "Выведите все номера билетов, данные которых были повреждены (со значением NULL хотя бы в одном поле строки). Если номер билета сам оказался поврежденным, не выводите его.\n",
        "В выборке должен присутствовать один атрибут — id."
      ],
      "metadata": {
        "id": "lLejt7zlLokq"
      }
    },
    {
      "cell_type": "code",
      "source": [
        "%%sql\n",
        "SELECT id\n",
        "FROM tickets\n",
        "WHERE id IS NOT NULL\n",
        "  AND (\n",
        "      trip_id IS NULL\n",
        "      OR service_class IS NULL\n",
        "      OR price IS NULL\n",
        "      OR client_id IS NULL\n",
        "  );"
      ],
      "metadata": {
        "id": "2y6i5XWjLodd",
        "colab": {
          "base_uri": "https://localhost:8080/",
          "height": 75
        },
        "outputId": "de8608e4-f8e7-4566-a7e2-2c403996235e"
      },
      "execution_count": null,
      "outputs": [
        {
          "output_type": "stream",
          "name": "stdout",
          "text": [
            " * sqlite:///bd.db\n",
            "Done.\n"
          ]
        },
        {
          "output_type": "execute_result",
          "data": {
            "text/plain": [
              "[]"
            ],
            "text/html": [
              "<table>\n",
              "    <thead>\n",
              "        <tr>\n",
              "            <th>id</th>\n",
              "        </tr>\n",
              "    </thead>\n",
              "    <tbody>\n",
              "    </tbody>\n",
              "</table>"
            ]
          },
          "metadata": {},
          "execution_count": 54
        }
      ]
    },
    {
      "cell_type": "markdown",
      "source": [
        "Задача:\n",
        "\n",
        "Найдите данные обо всех билетах с классом обслуживания не Economy и не Business. Таблица tickets может содержать значения NULL.\n",
        "В выборке должны присутствовать два атрибута — id, trip_id."
      ],
      "metadata": {
        "id": "JBiADzoILqz9"
      }
    },
    {
      "cell_type": "code",
      "source": [
        "%%sql\n",
        "SELECT id, trip_id\n",
        "FROM tickets\n",
        "WHERE\n",
        "    (service_class NOT IN ('Economy', 'Business') OR service_class IS NULL)\n",
        "    AND (service_class IS NOT NULL OR trip_id IS NOT NULL);"
      ],
      "metadata": {
        "id": "YwHZokPeLwIa",
        "colab": {
          "base_uri": "https://localhost:8080/",
          "height": 348
        },
        "outputId": "ba723257-dcfb-4704-c37d-8b74ce44e75e"
      },
      "execution_count": null,
      "outputs": [
        {
          "output_type": "stream",
          "name": "stdout",
          "text": [
            " * sqlite:///bd.db\n",
            "Done.\n"
          ]
        },
        {
          "output_type": "execute_result",
          "data": {
            "text/plain": [
              "[('id', 'trip_id'),\n",
              " ('OQ83AMHE59DM', '8RF8OIOVFR'),\n",
              " ('NKFQ4RNLXYEC', '5QMWLJ4SOC'),\n",
              " ('2YOI2PSODQL3', 'WEY6B7TDE6'),\n",
              " ('TQBQR0IMN32H', '3ZAQ90KNLJ'),\n",
              " ('ZA39AID06OZN', 'XOY8HZ1LQ5'),\n",
              " ('E5TKAEGCMZ7W', '35OHWYY8IU'),\n",
              " ('ZLN3ZYL2E7UD', 'LL4S1G8PQW'),\n",
              " ('02L9TNINKTTY', 'BODSSG3E82'),\n",
              " ('5RJ9VEVLTIRR', 'P1KMGIH0LB'),\n",
              " ('WNO7QWHNQ1X6', 'DFCFUPV4XB'),\n",
              " ('8NN75L120I5Q', 'ZK9M965C68'),\n",
              " ('8UVQROLPPF2E', '01BWVNX5Y6')]"
            ],
            "text/html": [
              "<table>\n",
              "    <thead>\n",
              "        <tr>\n",
              "            <th>id</th>\n",
              "            <th>trip_id</th>\n",
              "        </tr>\n",
              "    </thead>\n",
              "    <tbody>\n",
              "        <tr>\n",
              "            <td>id</td>\n",
              "            <td>trip_id</td>\n",
              "        </tr>\n",
              "        <tr>\n",
              "            <td>OQ83AMHE59DM</td>\n",
              "            <td>8RF8OIOVFR</td>\n",
              "        </tr>\n",
              "        <tr>\n",
              "            <td>NKFQ4RNLXYEC</td>\n",
              "            <td>5QMWLJ4SOC</td>\n",
              "        </tr>\n",
              "        <tr>\n",
              "            <td>2YOI2PSODQL3</td>\n",
              "            <td>WEY6B7TDE6</td>\n",
              "        </tr>\n",
              "        <tr>\n",
              "            <td>TQBQR0IMN32H</td>\n",
              "            <td>3ZAQ90KNLJ</td>\n",
              "        </tr>\n",
              "        <tr>\n",
              "            <td>ZA39AID06OZN</td>\n",
              "            <td>XOY8HZ1LQ5</td>\n",
              "        </tr>\n",
              "        <tr>\n",
              "            <td>E5TKAEGCMZ7W</td>\n",
              "            <td>35OHWYY8IU</td>\n",
              "        </tr>\n",
              "        <tr>\n",
              "            <td>ZLN3ZYL2E7UD</td>\n",
              "            <td>LL4S1G8PQW</td>\n",
              "        </tr>\n",
              "        <tr>\n",
              "            <td>02L9TNINKTTY</td>\n",
              "            <td>BODSSG3E82</td>\n",
              "        </tr>\n",
              "        <tr>\n",
              "            <td>5RJ9VEVLTIRR</td>\n",
              "            <td>P1KMGIH0LB</td>\n",
              "        </tr>\n",
              "        <tr>\n",
              "            <td>WNO7QWHNQ1X6</td>\n",
              "            <td>DFCFUPV4XB</td>\n",
              "        </tr>\n",
              "        <tr>\n",
              "            <td>8NN75L120I5Q</td>\n",
              "            <td>ZK9M965C68</td>\n",
              "        </tr>\n",
              "        <tr>\n",
              "            <td>8UVQROLPPF2E</td>\n",
              "            <td>01BWVNX5Y6</td>\n",
              "        </tr>\n",
              "    </tbody>\n",
              "</table>"
            ]
          },
          "metadata": {},
          "execution_count": 55
        }
      ]
    },
    {
      "cell_type": "markdown",
      "source": [
        "Задача:\n",
        "\n",
        "Номера некоторых билетов рейса RL6EC4YWB1 внесены в базу некорректно: два последних символа билетов серии UE01H8UCJQXX введены неправильно. То есть на месте символов XX находятся некорректные значения. Номера некоторых билетов имеют значение NULL. Найдите идентификаторы пассажиров всех некорректно введенных билетов.\n",
        "В выборке должен присутствовать один атрибут — client_id."
      ],
      "metadata": {
        "id": "Lz56W14wLtbr"
      }
    },
    {
      "cell_type": "code",
      "source": [
        "%%sql\n",
        "SELECT client_id\n",
        "FROM tickets\n",
        "WHERE\n",
        "    trip_id = 'RL6EC4YWB1'\n",
        "    AND (\n",
        "        (id LIKE 'UE01H8UCJQ%' AND LENGTH(id) = 11 AND id NOT LIKE 'UE01H8UCJQ__')\n",
        "        OR id IS NULL\n",
        "    );"
      ],
      "metadata": {
        "id": "807ZIE-xLyPk",
        "colab": {
          "base_uri": "https://localhost:8080/",
          "height": 75
        },
        "outputId": "401fe959-035a-4ada-ecdb-b5d490ce4f70"
      },
      "execution_count": null,
      "outputs": [
        {
          "output_type": "stream",
          "name": "stdout",
          "text": [
            " * sqlite:///bd.db\n",
            "Done.\n"
          ]
        },
        {
          "output_type": "execute_result",
          "data": {
            "text/plain": [
              "[]"
            ],
            "text/html": [
              "<table>\n",
              "    <thead>\n",
              "        <tr>\n",
              "            <th>client_id</th>\n",
              "        </tr>\n",
              "    </thead>\n",
              "    <tbody>\n",
              "    </tbody>\n",
              "</table>"
            ]
          },
          "metadata": {},
          "execution_count": 56
        }
      ]
    },
    {
      "cell_type": "code",
      "source": [],
      "metadata": {
        "id": "VJKG9qQpa3aH"
      },
      "execution_count": null,
      "outputs": []
    }
  ]
}
