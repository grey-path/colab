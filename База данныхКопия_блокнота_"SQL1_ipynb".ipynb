{
  "cells": [
    {
      "cell_type": "markdown",
      "metadata": {
        "id": "DRVcCbVShpf2"
      },
      "source": [
        "**Что такое базы данных?**\n",
        "Базы данных представляют собой структурированный источник данных, оптимизированный для эффективного извлечения и хранения.\n",
        "\n",
        "* структурированный: мы должны заранее определить стратегию организации\n",
        "* извлечение: возможность считывания данных\n",
        "* хранение: возможность записи данных и их сохранения"
      ]
    },
    {
      "cell_type": "markdown",
      "metadata": {
        "id": "b8iyN-5jhpf4"
      },
      "source": [
        "**База данных** - комплекс данных (информации),\n",
        "которые структурированы и взаимосвязаны\n",
        "между собой."
      ]
    },
    {
      "cell_type": "markdown",
      "metadata": {
        "id": "JKP4Nj-lhpf4"
      },
      "source": [
        "**Что такое реляционная база данных?**\n",
        "Реляционные базы данных традиционно организованы следующим образом:\n",
        "\n",
        "* База данных содержит таблицы, представляющие отдельные сущности или объекты.\n",
        "* Таблицы имеют предопределенную схему — правила, которые сообщают, как будут выглядеть данные.\n",
        "\n",
        "Каждая таблица должна иметь столбец первичного ключа: уникальный идентификатор для этой строки.\n",
        "Кроме того, каждая таблица может иметь столбец внешнего ключа: идентификатор, который связывает его с другой таблицей."
      ]
    },
    {
      "cell_type": "markdown",
      "metadata": {
        "id": "970It_ZWhpf5"
      },
      "source": [
        "**Реляционные базы данных**(БД) имеют\n",
        "табличную форму организации т.е. реализованы\n",
        "в виде таблиц, связанных между собой\n",
        "отношениями с помощью кодов (ключей)."
      ]
    },
    {
      "cell_type": "markdown",
      "metadata": {
        "id": "_pFs6sN3hpf5"
      },
      "source": [
        "![https://raw.githubusercontent.com/trisha00001/file/main/bd.png](https://raw.githubusercontent.com/trisha00001/file/main/bd.png)"
      ]
    },
    {
      "cell_type": "markdown",
      "metadata": {
        "id": "bMRwahMchpf5"
      },
      "source": [
        "**Особенности реляционных БД:**\n",
        "\n",
        "- таблице присваивается имя, уникальное в пределах БД\n",
        "каждому столбцу присваивается имя уникальное в\n",
        "пределах таблицы;\n",
        "- каждый столбец таблицы содержит данные одного типа\n",
        "в таблице нет одинаковых строк;\n",
        "- строки таблицы не имеют имен (но имеют уникальный\n",
        "идентификатор)."
      ]
    },
    {
      "cell_type": "markdown",
      "metadata": {
        "id": "BgiJ_kLJhpf5"
      },
      "source": [
        "**Таблица** представляет из себя набор столбцов.\n",
        "\n",
        "**Столбцы** таблицы могут называть полями или\n",
        "колонками, все эти слова будут использоваться\n",
        "как синонимы\n",
        "\n",
        "**Строки, записи** – тоже синонимы"
      ]
    },
    {
      "cell_type": "markdown",
      "metadata": {
        "id": "fFqVw35Dhpf5"
      },
      "source": [
        "![image.png](https://raw.githubusercontent.com/trisha00001/file/main/bd1.png)"
      ]
    },
    {
      "cell_type": "markdown",
      "metadata": {
        "id": "t8jLA0Zmhpf5"
      },
      "source": [
        "<H2>Первичный ключ (PRIMARY KEY)</H2>\n",
        "\n",
        "**PRIMARY KEY(первичный ключ)** – это поле (или комбинация\n",
        "полей), которое однозначно идентифицирует запись.\n",
        "\n",
        "В таблице не может быть двух записей с\n",
        "одинаковым значением ключа.\n",
        "\n",
        "PRIMARY KEY должен:\n",
        "- содержать уникальные значения\n",
        "- не может содержать NULL значения.\n",
        "\n",
        "*Таблица может иметь только один первичный ключ*"
      ]
    },
    {
      "cell_type": "markdown",
      "metadata": {
        "id": "yWNekCBthpf6"
      },
      "source": [
        "<H2>Могут ли эти данные быть ключом?</H2>\n",
        "\n",
        "- фамилия\n",
        "\n",
        "- номер и серия паспорта\n",
        "\n",
        "- номер дома\n",
        "\n",
        "- регистрационный номер автомобиля"
      ]
    },
    {
      "cell_type": "markdown",
      "metadata": {
        "id": "xASoCa55hpf6"
      },
      "source": [
        "![image.png](https://raw.githubusercontent.com/trisha00001/file/main/vk.png)"
      ]
    },
    {
      "cell_type": "markdown",
      "source": [
        "<H2/>Схема БД\n",
        "\n",
        "**Схема БД (схема)** является графическим\n",
        "образом БД"
      ],
      "metadata": {
        "id": "SZb2IuEpYU3J"
      }
    },
    {
      "cell_type": "markdown",
      "metadata": {
        "id": "OJrM4I3Qhpf6"
      },
      "source": [
        "![image.png](https://raw.githubusercontent.com/trisha00001/file/main/multiple-tables.png)"
      ]
    },
    {
      "cell_type": "markdown",
      "metadata": {
        "id": "mUKu_WY2hpf6"
      },
      "source": [
        "![image.png](https://raw.githubusercontent.com/trisha00001/file/main/ts.png)"
      ]
    },
    {
      "cell_type": "markdown",
      "source": [
        "![image.png](https://raw.githubusercontent.com/trisha00001/file/main/t1.png)"
      ],
      "metadata": {
        "id": "VItvdpfdakKH"
      }
    },
    {
      "cell_type": "markdown",
      "source": [
        "![image.png](https://raw.githubusercontent.com/trisha00001/file/main/t2.png)"
      ],
      "metadata": {
        "id": "9vTntLgoaydt"
      }
    },
    {
      "cell_type": "markdown",
      "source": [],
      "metadata": {
        "id": "oq2Vx62Gay_K"
      }
    },
    {
      "cell_type": "markdown",
      "metadata": {
        "id": "KOt1Ds7Dhpf6"
      },
      "source": [
        "В нормализованной схеме таблицы спроектированы так, чтобы быть тонкими, чтобы свести к минимуму:\n",
        "\n",
        "1. Объем повторяющейся информации\n",
        "2. Количество хранимых байтов"
      ]
    },
    {
      "cell_type": "markdown",
      "metadata": {
        "id": "nfmphjDghpf7"
      },
      "source": [
        "<img src='https://github.com/podopie/DAT18NYC/blob/master/classes/img/normalized.png?raw=true' style='height: 50%; margin-left: 0;' >"
      ]
    },
    {
      "cell_type": "markdown",
      "metadata": {
        "id": "2t6XoPiYhpf7"
      },
      "source": [
        "<img src='https://github.com/podopie/DAT18NYC/raw/83dc789584a3349096988bbe14ffd7b87acef5e8/classes/img/erd.png' />"
      ]
    },
    {
      "cell_type": "markdown",
      "metadata": {
        "id": "Xd6_rxhihpf7"
      },
      "source": [
        "\n",
        "Показательный пример; Ниже приведена реляционная диаграмма типичной платформы электронной коммерции\n",
        "\n",
        "Что, если бы мы спроектировали базу данных таким образом, чтобы она выглядела таким образом с одной таблицей?\n"
      ]
    },
    {
      "cell_type": "markdown",
      "metadata": {
        "id": "yToC4i34hpf7"
      },
      "source": [
        "<img src='https://github.com/podopie/DAT18NYC/raw/83dc789584a3349096988bbe14ffd7b87acef5e8/classes/img/denormalized.png' style='height: 50%; margin-left: 0;' />"
      ]
    },
    {
      "cell_type": "markdown",
      "metadata": {
        "id": "Wwdp9VAvhpf7"
      },
      "source": [
        "\n",
        "\n",
        "1. Увеличивается повторная информация; информация о пользователе повторяется в каждой строке.\n",
        "2. Увеличено хранилище текста (текстовые байты больше целочисленных байтов)\n",
        "3. Нет необходимости присоединяться!\n",
        "\n",
        "Компромисс между нормализованными и денормализованными данными — это скорость и хранение. Хранение (по большей части) везде одинаково. Так что давайте сосредоточимся на скоростной стороне. Скорость разбивается на скорость чтения и скорость записи.\n",
        "\n",
        "Из двух представлений данных:\n",
        "\n",
        "1. Что, по нашему мнению, медленнее читать, но быстрее писать?\n",
        "2. Что, по нашему мнению, медленнее писать, но быстрее читать?\n"
      ]
    },
    {
      "cell_type": "markdown",
      "metadata": {
        "id": "K7GFnuAAhpf8"
      },
      "source": [
        "<H2/>Немного истории\n",
        "\n",
        "В начале 1970-х годов в одной из исследовательских\n",
        "лабораторий компании IBM была разработана\n",
        "экспериментальная реляционная СУБД IBM System R,\n",
        "для которой был создан специальный язык SEQUEL,\n",
        "позволявший управлять данными в этой CУБД.\n",
        "\n",
        "Аббревиатура **SEQUEL** расшифровывалась как\n",
        "Structured English Query Language —\n",
        "«структурированный английский язык запросов».\n",
        "\n",
        "Позже язык SEQUEL был переименован в **SQL**\n",
        "(Structured Query Language)"
      ]
    },
    {
      "cell_type": "markdown",
      "metadata": {
        "id": "a96bw3K1hpf8"
      },
      "source": [
        "![image.png](https://raw.githubusercontent.com/trisha00001/file/main/S30.png)"
      ]
    },
    {
      "cell_type": "markdown",
      "source": [
        "**С помощью чего можно выполнить SQL запрос**\n",
        "\n",
        "Все современные СУБД содержат в своем\n",
        "составе утилиты, позволяющие выполнить SQL\n",
        "запрос и посмотреть его результат.\n",
        "Например:\n",
        "- Oracle содержит утилиту SQL Plus\n",
        "-  Microsoft SQL Server - утилиту SQL Query\n",
        "Analyzer"
      ],
      "metadata": {
        "id": "hWc1_xyHuwE9"
      }
    },
    {
      "cell_type": "markdown",
      "metadata": {
        "id": "ikpeYJkMhpf8"
      },
      "source": [
        "![image.png](https://raw.githubusercontent.com/trisha00001/file/main/s31.png)"
      ]
    },
    {
      "cell_type": "markdown",
      "metadata": {
        "id": "vXzsVsrOhpf9"
      },
      "source": [
        "![image.png](https://raw.githubusercontent.com/trisha00001/file/main/s32.png)"
      ]
    },
    {
      "cell_type": "markdown",
      "metadata": {
        "id": "FuzRB-_whpf9"
      },
      "source": [
        "**Синтаксис SQL**\n",
        "SQL (язык структурированных запросов) — это язык запросов для загрузки, извлечения и обновления данных в реляционных базах данных. К наиболее часто используемым базам данных SQL относятся:\n",
        "\n",
        "1. Oracle и MySQL\n",
        "2. SQL Server\n",
        "3. PostgreSQL\n",
        "\n",
        "SQL-подобная структура также в значительной степени заимствована в крупномасштабных языках данных и платформах:\n",
        "\n",
        "1. Apache Hive\n",
        "2. Apache Drill (based on Google's Dremel)\n",
        "3. Spark SQL\n",
        "\n",
        "Поэтому важно изучить основы, которые подходят для всех платформ!"
      ]
    },
    {
      "cell_type": "markdown",
      "metadata": {
        "id": "lQRPUn-phpf9"
      },
      "source": [
        "**Хороший синтаксис**\n",
        "\n",
        "В то время как компании и команды данных в конечном итоге развивают свое собственное чувство стиля SQL, те, кто новичок в SQL, должны принять, по крайней мере, следующий стиль:\n",
        "\n",
        "1. Ключевые слова написаны в верхнем регистре и начинаются с новых строк\n",
        "2. поля в собственных строках\n",
        "3. Продолжения имеют отступ\n",
        "\n",
        "Это будет объяснено, когда мы рассмотрим примеры ниже. Чтобы помочь установить некоторые соединения, будут некоторые блоки кода Python, использующие синтаксис pandas для выполнения инструкций, аналогичных запросам SQL. Они будут помечены как панды и end_pandas, чтобы уточнить, где они находятся."
      ]
    },
    {
      "cell_type": "code",
      "execution_count": null,
      "metadata": {
        "id": "PhCb4c0_hpf9"
      },
      "outputs": [],
      "source": [
        "import pandas as pd\n",
        "import sqlite3"
      ]
    },
    {
      "cell_type": "markdown",
      "metadata": {
        "id": "-QkszDomhpf-"
      },
      "source": [
        "<br>"
      ]
    },
    {
      "cell_type": "markdown",
      "metadata": {
        "id": "qb675ipghpf-"
      },
      "source": [
        "https://ppt-online.org/938481"
      ]
    },
    {
      "cell_type": "code",
      "execution_count": null,
      "metadata": {
        "colab": {
          "base_uri": "https://localhost:8080/"
        },
        "id": "BfMuhKWghpf-",
        "outputId": "c57062ed-6af2-4234-9f9a-7db3fbc91b64"
      },
      "outputs": [
        {
          "output_type": "stream",
          "name": "stdout",
          "text": [
            "Requirement already satisfied: ipython-sql in /usr/local/lib/python3.11/dist-packages (0.5.0)\n",
            "Requirement already satisfied: prettytable in /usr/local/lib/python3.11/dist-packages (from ipython-sql) (3.16.0)\n",
            "Requirement already satisfied: ipython in /usr/local/lib/python3.11/dist-packages (from ipython-sql) (7.34.0)\n",
            "Requirement already satisfied: sqlalchemy>=2.0 in /usr/local/lib/python3.11/dist-packages (from ipython-sql) (2.0.40)\n",
            "Requirement already satisfied: sqlparse in /usr/local/lib/python3.11/dist-packages (from ipython-sql) (0.5.3)\n",
            "Requirement already satisfied: six in /usr/local/lib/python3.11/dist-packages (from ipython-sql) (1.17.0)\n",
            "Requirement already satisfied: ipython-genutils in /usr/local/lib/python3.11/dist-packages (from ipython-sql) (0.2.0)\n",
            "Requirement already satisfied: greenlet>=1 in /usr/local/lib/python3.11/dist-packages (from sqlalchemy>=2.0->ipython-sql) (3.2.2)\n",
            "Requirement already satisfied: typing-extensions>=4.6.0 in /usr/local/lib/python3.11/dist-packages (from sqlalchemy>=2.0->ipython-sql) (4.13.2)\n",
            "Requirement already satisfied: setuptools>=18.5 in /usr/local/lib/python3.11/dist-packages (from ipython->ipython-sql) (75.2.0)\n",
            "Collecting jedi>=0.16 (from ipython->ipython-sql)\n",
            "  Downloading jedi-0.19.2-py2.py3-none-any.whl.metadata (22 kB)\n",
            "Requirement already satisfied: decorator in /usr/local/lib/python3.11/dist-packages (from ipython->ipython-sql) (4.4.2)\n",
            "Requirement already satisfied: pickleshare in /usr/local/lib/python3.11/dist-packages (from ipython->ipython-sql) (0.7.5)\n",
            "Requirement already satisfied: traitlets>=4.2 in /usr/local/lib/python3.11/dist-packages (from ipython->ipython-sql) (5.7.1)\n",
            "Requirement already satisfied: prompt-toolkit!=3.0.0,!=3.0.1,<3.1.0,>=2.0.0 in /usr/local/lib/python3.11/dist-packages (from ipython->ipython-sql) (3.0.51)\n",
            "Requirement already satisfied: pygments in /usr/local/lib/python3.11/dist-packages (from ipython->ipython-sql) (2.19.1)\n",
            "Requirement already satisfied: backcall in /usr/local/lib/python3.11/dist-packages (from ipython->ipython-sql) (0.2.0)\n",
            "Requirement already satisfied: matplotlib-inline in /usr/local/lib/python3.11/dist-packages (from ipython->ipython-sql) (0.1.7)\n",
            "Requirement already satisfied: pexpect>4.3 in /usr/local/lib/python3.11/dist-packages (from ipython->ipython-sql) (4.9.0)\n",
            "Requirement already satisfied: wcwidth in /usr/local/lib/python3.11/dist-packages (from prettytable->ipython-sql) (0.2.13)\n",
            "Requirement already satisfied: parso<0.9.0,>=0.8.4 in /usr/local/lib/python3.11/dist-packages (from jedi>=0.16->ipython->ipython-sql) (0.8.4)\n",
            "Requirement already satisfied: ptyprocess>=0.5 in /usr/local/lib/python3.11/dist-packages (from pexpect>4.3->ipython->ipython-sql) (0.7.0)\n",
            "Downloading jedi-0.19.2-py2.py3-none-any.whl (1.6 MB)\n",
            "\u001b[2K   \u001b[90m━━━━━━━━━━━━━━━━━━━━━━━━━━━━━━━━━━━━━━━━\u001b[0m \u001b[32m1.6/1.6 MB\u001b[0m \u001b[31m15.0 MB/s\u001b[0m eta \u001b[36m0:00:00\u001b[0m\n",
            "\u001b[?25hInstalling collected packages: jedi\n",
            "Successfully installed jedi-0.19.2\n"
          ]
        }
      ],
      "source": [
        "# install the ipython-sql libray\n",
        "!pip install ipython-sql"
      ]
    },
    {
      "cell_type": "code",
      "execution_count": null,
      "metadata": {
        "colab": {
          "base_uri": "https://localhost:8080/",
          "height": 143
        },
        "id": "bxFerTMRhpf_",
        "outputId": "2f947e74-9191-4fdb-a948-d074034b55a6"
      },
      "outputs": [
        {
          "output_type": "execute_result",
          "data": {
            "text/plain": [
              "       name  age          city\n",
              "0      Juan   23         Miami\n",
              "1  Victoria   34  Buenos Aires\n",
              "2      Mary   43      Santiago"
            ],
            "text/html": [
              "\n",
              "  <div id=\"df-36676270-37b0-4405-86b1-9ee73443344f\" class=\"colab-df-container\">\n",
              "    <div>\n",
              "<style scoped>\n",
              "    .dataframe tbody tr th:only-of-type {\n",
              "        vertical-align: middle;\n",
              "    }\n",
              "\n",
              "    .dataframe tbody tr th {\n",
              "        vertical-align: top;\n",
              "    }\n",
              "\n",
              "    .dataframe thead th {\n",
              "        text-align: right;\n",
              "    }\n",
              "</style>\n",
              "<table border=\"1\" class=\"dataframe\">\n",
              "  <thead>\n",
              "    <tr style=\"text-align: right;\">\n",
              "      <th></th>\n",
              "      <th>name</th>\n",
              "      <th>age</th>\n",
              "      <th>city</th>\n",
              "    </tr>\n",
              "  </thead>\n",
              "  <tbody>\n",
              "    <tr>\n",
              "      <th>0</th>\n",
              "      <td>Juan</td>\n",
              "      <td>23</td>\n",
              "      <td>Miami</td>\n",
              "    </tr>\n",
              "    <tr>\n",
              "      <th>1</th>\n",
              "      <td>Victoria</td>\n",
              "      <td>34</td>\n",
              "      <td>Buenos Aires</td>\n",
              "    </tr>\n",
              "    <tr>\n",
              "      <th>2</th>\n",
              "      <td>Mary</td>\n",
              "      <td>43</td>\n",
              "      <td>Santiago</td>\n",
              "    </tr>\n",
              "  </tbody>\n",
              "</table>\n",
              "</div>\n",
              "    <div class=\"colab-df-buttons\">\n",
              "\n",
              "  <div class=\"colab-df-container\">\n",
              "    <button class=\"colab-df-convert\" onclick=\"convertToInteractive('df-36676270-37b0-4405-86b1-9ee73443344f')\"\n",
              "            title=\"Convert this dataframe to an interactive table.\"\n",
              "            style=\"display:none;\">\n",
              "\n",
              "  <svg xmlns=\"http://www.w3.org/2000/svg\" height=\"24px\" viewBox=\"0 -960 960 960\">\n",
              "    <path d=\"M120-120v-720h720v720H120Zm60-500h600v-160H180v160Zm220 220h160v-160H400v160Zm0 220h160v-160H400v160ZM180-400h160v-160H180v160Zm440 0h160v-160H620v160ZM180-180h160v-160H180v160Zm440 0h160v-160H620v160Z\"/>\n",
              "  </svg>\n",
              "    </button>\n",
              "\n",
              "  <style>\n",
              "    .colab-df-container {\n",
              "      display:flex;\n",
              "      gap: 12px;\n",
              "    }\n",
              "\n",
              "    .colab-df-convert {\n",
              "      background-color: #E8F0FE;\n",
              "      border: none;\n",
              "      border-radius: 50%;\n",
              "      cursor: pointer;\n",
              "      display: none;\n",
              "      fill: #1967D2;\n",
              "      height: 32px;\n",
              "      padding: 0 0 0 0;\n",
              "      width: 32px;\n",
              "    }\n",
              "\n",
              "    .colab-df-convert:hover {\n",
              "      background-color: #E2EBFA;\n",
              "      box-shadow: 0px 1px 2px rgba(60, 64, 67, 0.3), 0px 1px 3px 1px rgba(60, 64, 67, 0.15);\n",
              "      fill: #174EA6;\n",
              "    }\n",
              "\n",
              "    .colab-df-buttons div {\n",
              "      margin-bottom: 4px;\n",
              "    }\n",
              "\n",
              "    [theme=dark] .colab-df-convert {\n",
              "      background-color: #3B4455;\n",
              "      fill: #D2E3FC;\n",
              "    }\n",
              "\n",
              "    [theme=dark] .colab-df-convert:hover {\n",
              "      background-color: #434B5C;\n",
              "      box-shadow: 0px 1px 3px 1px rgba(0, 0, 0, 0.15);\n",
              "      filter: drop-shadow(0px 1px 2px rgba(0, 0, 0, 0.3));\n",
              "      fill: #FFFFFF;\n",
              "    }\n",
              "  </style>\n",
              "\n",
              "    <script>\n",
              "      const buttonEl =\n",
              "        document.querySelector('#df-36676270-37b0-4405-86b1-9ee73443344f button.colab-df-convert');\n",
              "      buttonEl.style.display =\n",
              "        google.colab.kernel.accessAllowed ? 'block' : 'none';\n",
              "\n",
              "      async function convertToInteractive(key) {\n",
              "        const element = document.querySelector('#df-36676270-37b0-4405-86b1-9ee73443344f');\n",
              "        const dataTable =\n",
              "          await google.colab.kernel.invokeFunction('convertToInteractive',\n",
              "                                                    [key], {});\n",
              "        if (!dataTable) return;\n",
              "\n",
              "        const docLinkHtml = 'Like what you see? Visit the ' +\n",
              "          '<a target=\"_blank\" href=https://colab.research.google.com/notebooks/data_table.ipynb>data table notebook</a>'\n",
              "          + ' to learn more about interactive tables.';\n",
              "        element.innerHTML = '';\n",
              "        dataTable['output_type'] = 'display_data';\n",
              "        await google.colab.output.renderOutput(dataTable, element);\n",
              "        const docLink = document.createElement('div');\n",
              "        docLink.innerHTML = docLinkHtml;\n",
              "        element.appendChild(docLink);\n",
              "      }\n",
              "    </script>\n",
              "  </div>\n",
              "\n",
              "\n",
              "    <div id=\"df-e066f9ac-b5f4-42b0-858d-4df4be4f9d4b\">\n",
              "      <button class=\"colab-df-quickchart\" onclick=\"quickchart('df-e066f9ac-b5f4-42b0-858d-4df4be4f9d4b')\"\n",
              "                title=\"Suggest charts\"\n",
              "                style=\"display:none;\">\n",
              "\n",
              "<svg xmlns=\"http://www.w3.org/2000/svg\" height=\"24px\"viewBox=\"0 0 24 24\"\n",
              "     width=\"24px\">\n",
              "    <g>\n",
              "        <path d=\"M19 3H5c-1.1 0-2 .9-2 2v14c0 1.1.9 2 2 2h14c1.1 0 2-.9 2-2V5c0-1.1-.9-2-2-2zM9 17H7v-7h2v7zm4 0h-2V7h2v10zm4 0h-2v-4h2v4z\"/>\n",
              "    </g>\n",
              "</svg>\n",
              "      </button>\n",
              "\n",
              "<style>\n",
              "  .colab-df-quickchart {\n",
              "      --bg-color: #E8F0FE;\n",
              "      --fill-color: #1967D2;\n",
              "      --hover-bg-color: #E2EBFA;\n",
              "      --hover-fill-color: #174EA6;\n",
              "      --disabled-fill-color: #AAA;\n",
              "      --disabled-bg-color: #DDD;\n",
              "  }\n",
              "\n",
              "  [theme=dark] .colab-df-quickchart {\n",
              "      --bg-color: #3B4455;\n",
              "      --fill-color: #D2E3FC;\n",
              "      --hover-bg-color: #434B5C;\n",
              "      --hover-fill-color: #FFFFFF;\n",
              "      --disabled-bg-color: #3B4455;\n",
              "      --disabled-fill-color: #666;\n",
              "  }\n",
              "\n",
              "  .colab-df-quickchart {\n",
              "    background-color: var(--bg-color);\n",
              "    border: none;\n",
              "    border-radius: 50%;\n",
              "    cursor: pointer;\n",
              "    display: none;\n",
              "    fill: var(--fill-color);\n",
              "    height: 32px;\n",
              "    padding: 0;\n",
              "    width: 32px;\n",
              "  }\n",
              "\n",
              "  .colab-df-quickchart:hover {\n",
              "    background-color: var(--hover-bg-color);\n",
              "    box-shadow: 0 1px 2px rgba(60, 64, 67, 0.3), 0 1px 3px 1px rgba(60, 64, 67, 0.15);\n",
              "    fill: var(--button-hover-fill-color);\n",
              "  }\n",
              "\n",
              "  .colab-df-quickchart-complete:disabled,\n",
              "  .colab-df-quickchart-complete:disabled:hover {\n",
              "    background-color: var(--disabled-bg-color);\n",
              "    fill: var(--disabled-fill-color);\n",
              "    box-shadow: none;\n",
              "  }\n",
              "\n",
              "  .colab-df-spinner {\n",
              "    border: 2px solid var(--fill-color);\n",
              "    border-color: transparent;\n",
              "    border-bottom-color: var(--fill-color);\n",
              "    animation:\n",
              "      spin 1s steps(1) infinite;\n",
              "  }\n",
              "\n",
              "  @keyframes spin {\n",
              "    0% {\n",
              "      border-color: transparent;\n",
              "      border-bottom-color: var(--fill-color);\n",
              "      border-left-color: var(--fill-color);\n",
              "    }\n",
              "    20% {\n",
              "      border-color: transparent;\n",
              "      border-left-color: var(--fill-color);\n",
              "      border-top-color: var(--fill-color);\n",
              "    }\n",
              "    30% {\n",
              "      border-color: transparent;\n",
              "      border-left-color: var(--fill-color);\n",
              "      border-top-color: var(--fill-color);\n",
              "      border-right-color: var(--fill-color);\n",
              "    }\n",
              "    40% {\n",
              "      border-color: transparent;\n",
              "      border-right-color: var(--fill-color);\n",
              "      border-top-color: var(--fill-color);\n",
              "    }\n",
              "    60% {\n",
              "      border-color: transparent;\n",
              "      border-right-color: var(--fill-color);\n",
              "    }\n",
              "    80% {\n",
              "      border-color: transparent;\n",
              "      border-right-color: var(--fill-color);\n",
              "      border-bottom-color: var(--fill-color);\n",
              "    }\n",
              "    90% {\n",
              "      border-color: transparent;\n",
              "      border-bottom-color: var(--fill-color);\n",
              "    }\n",
              "  }\n",
              "</style>\n",
              "\n",
              "      <script>\n",
              "        async function quickchart(key) {\n",
              "          const quickchartButtonEl =\n",
              "            document.querySelector('#' + key + ' button');\n",
              "          quickchartButtonEl.disabled = true;  // To prevent multiple clicks.\n",
              "          quickchartButtonEl.classList.add('colab-df-spinner');\n",
              "          try {\n",
              "            const charts = await google.colab.kernel.invokeFunction(\n",
              "                'suggestCharts', [key], {});\n",
              "          } catch (error) {\n",
              "            console.error('Error during call to suggestCharts:', error);\n",
              "          }\n",
              "          quickchartButtonEl.classList.remove('colab-df-spinner');\n",
              "          quickchartButtonEl.classList.add('colab-df-quickchart-complete');\n",
              "        }\n",
              "        (() => {\n",
              "          let quickchartButtonEl =\n",
              "            document.querySelector('#df-e066f9ac-b5f4-42b0-858d-4df4be4f9d4b button');\n",
              "          quickchartButtonEl.style.display =\n",
              "            google.colab.kernel.accessAllowed ? 'block' : 'none';\n",
              "        })();\n",
              "      </script>\n",
              "    </div>\n",
              "    </div>\n",
              "  </div>\n"
            ],
            "application/vnd.google.colaboratory.intrinsic+json": {
              "type": "dataframe",
              "variable_name": "df",
              "summary": "{\n  \"name\": \"df\",\n  \"rows\": 3,\n  \"fields\": [\n    {\n      \"column\": \"name\",\n      \"properties\": {\n        \"dtype\": \"string\",\n        \"num_unique_values\": 3,\n        \"samples\": [\n          \"Juan\",\n          \"Victoria\",\n          \"Mary\"\n        ],\n        \"semantic_type\": \"\",\n        \"description\": \"\"\n      }\n    },\n    {\n      \"column\": \"age\",\n      \"properties\": {\n        \"dtype\": \"number\",\n        \"std\": 10,\n        \"min\": 23,\n        \"max\": 43,\n        \"num_unique_values\": 3,\n        \"samples\": [\n          23,\n          34,\n          43\n        ],\n        \"semantic_type\": \"\",\n        \"description\": \"\"\n      }\n    },\n    {\n      \"column\": \"city\",\n      \"properties\": {\n        \"dtype\": \"string\",\n        \"num_unique_values\": 3,\n        \"samples\": [\n          \"Miami\",\n          \"Buenos Aires\",\n          \"Santiago\"\n        ],\n        \"semantic_type\": \"\",\n        \"description\": \"\"\n      }\n    }\n  ]\n}"
            }
          },
          "metadata": {},
          "execution_count": 10
        }
      ],
      "source": [
        "df= pd.DataFrame({'name': ['Juan', 'Victoria', 'Mary'],\n",
        "                  'age': [23,34,43],\n",
        "                  'city': ['Miami', 'Buenos Aires','Santiago']})\n",
        "\n",
        "df"
      ]
    },
    {
      "cell_type": "code",
      "execution_count": null,
      "metadata": {
        "id": "CR4XUix_hpf_"
      },
      "outputs": [],
      "source": [
        "cnn = sqlite3.connect('jupyter_sql_tutorial.db')"
      ]
    },
    {
      "cell_type": "code",
      "execution_count": null,
      "metadata": {
        "id": "EgaSTVpahpf_"
      },
      "outputs": [],
      "source": [
        "%load_ext sql"
      ]
    },
    {
      "cell_type": "code",
      "execution_count": null,
      "metadata": {
        "colab": {
          "base_uri": "https://localhost:8080/"
        },
        "id": "JQxDe85Khpf_",
        "outputId": "5fc3c3b9-a1b3-41f9-dd99-387e6c89a7e6"
      },
      "outputs": [
        {
          "output_type": "execute_result",
          "data": {
            "text/plain": [
              "3"
            ]
          },
          "metadata": {},
          "execution_count": 5
        }
      ],
      "source": [
        "df.to_sql('people', cnn)"
      ]
    },
    {
      "cell_type": "code",
      "source": [
        "%config SqlMagic.style = '_DEPRECATED_DEFAULT'"
      ],
      "metadata": {
        "id": "v5fNUzf36k2H"
      },
      "execution_count": null,
      "outputs": []
    },
    {
      "cell_type": "code",
      "execution_count": null,
      "metadata": {
        "id": "uIf0_KXHhpf_"
      },
      "outputs": [],
      "source": [
        "%sql sqlite:///jupyter_sql_tutorial.db"
      ]
    },
    {
      "cell_type": "markdown",
      "metadata": {
        "id": "Td0kjVc7hpgA"
      },
      "source": [
        "\n",
        "\n",
        "![image.png](https://raw.githubusercontent.com/trisha00001/file/main/S1.png)"
      ]
    },
    {
      "cell_type": "code",
      "execution_count": null,
      "metadata": {
        "colab": {
          "base_uri": "https://localhost:8080/",
          "height": 138
        },
        "id": "kN9XA5Q6hpgA",
        "outputId": "421a1aa9-24e0-4dd1-cb1e-06ef7845e545"
      },
      "outputs": [
        {
          "output_type": "stream",
          "name": "stdout",
          "text": [
            " * sqlite:///jupyter_sql_tutorial.db\n",
            "Done.\n"
          ]
        },
        {
          "output_type": "execute_result",
          "data": {
            "text/plain": [
              "[(0, 'Juan', 23, 'Miami'),\n",
              " (1, 'Victoria', 34, 'Buenos Aires'),\n",
              " (2, 'Mary', 43, 'Santiago')]"
            ],
            "text/html": [
              "<table>\n",
              "    <thead>\n",
              "        <tr>\n",
              "            <th>index</th>\n",
              "            <th>name</th>\n",
              "            <th>age</th>\n",
              "            <th>city</th>\n",
              "        </tr>\n",
              "    </thead>\n",
              "    <tbody>\n",
              "        <tr>\n",
              "            <td>0</td>\n",
              "            <td>Juan</td>\n",
              "            <td>23</td>\n",
              "            <td>Miami</td>\n",
              "        </tr>\n",
              "        <tr>\n",
              "            <td>1</td>\n",
              "            <td>Victoria</td>\n",
              "            <td>34</td>\n",
              "            <td>Buenos Aires</td>\n",
              "        </tr>\n",
              "        <tr>\n",
              "            <td>2</td>\n",
              "            <td>Mary</td>\n",
              "            <td>43</td>\n",
              "            <td>Santiago</td>\n",
              "        </tr>\n",
              "    </tbody>\n",
              "</table>"
            ]
          },
          "metadata": {},
          "execution_count": 13
        }
      ],
      "source": [
        "%%sql\n",
        "SELECT *\n",
        "FROM people"
      ]
    },
    {
      "cell_type": "code",
      "execution_count": null,
      "metadata": {
        "colab": {
          "base_uri": "https://localhost:8080/",
          "height": 138
        },
        "id": "xUZsBzUhhpgA",
        "outputId": "2d36faa6-4d7a-4de2-dd60-e767ccbdbcc2"
      },
      "outputs": [
        {
          "output_type": "stream",
          "name": "stdout",
          "text": [
            " * sqlite:///jupyter_sql_tutorial.db\n",
            "Done.\n"
          ]
        },
        {
          "output_type": "execute_result",
          "data": {
            "text/plain": [
              "[('Juan',), ('Victoria',), ('Mary',)]"
            ],
            "text/html": [
              "<table>\n",
              "    <thead>\n",
              "        <tr>\n",
              "            <th>name</th>\n",
              "        </tr>\n",
              "    </thead>\n",
              "    <tbody>\n",
              "        <tr>\n",
              "            <td>Juan</td>\n",
              "        </tr>\n",
              "        <tr>\n",
              "            <td>Victoria</td>\n",
              "        </tr>\n",
              "        <tr>\n",
              "            <td>Mary</td>\n",
              "        </tr>\n",
              "    </tbody>\n",
              "</table>"
            ]
          },
          "metadata": {},
          "execution_count": 14
        }
      ],
      "source": [
        "\n",
        "%%sql\n",
        "SELECT name\n",
        "FROM people"
      ]
    },
    {
      "cell_type": "markdown",
      "metadata": {
        "id": "FnH4Yf6uhpgV"
      },
      "source": [
        "![image.png](https://raw.githubusercontent.com/trisha00001/file/main/s17.png)"
      ]
    },
    {
      "cell_type": "code",
      "execution_count": null,
      "metadata": {
        "id": "_3CIw44VhpgI",
        "outputId": "a89e4277-e578-4946-e19c-4a8493832063",
        "colab": {
          "base_uri": "https://localhost:8080/",
          "height": 138
        }
      },
      "outputs": [
        {
          "output_type": "stream",
          "name": "stdout",
          "text": [
            " * sqlite:///jupyter_sql_tutorial.db\n",
            "Done.\n"
          ]
        },
        {
          "output_type": "execute_result",
          "data": {
            "text/plain": [
              "[('Juan',), ('Victoria',), ('Mary',)]"
            ],
            "text/html": [
              "<table>\n",
              "    <thead>\n",
              "        <tr>\n",
              "            <th>Имя</th>\n",
              "        </tr>\n",
              "    </thead>\n",
              "    <tbody>\n",
              "        <tr>\n",
              "            <td>Juan</td>\n",
              "        </tr>\n",
              "        <tr>\n",
              "            <td>Victoria</td>\n",
              "        </tr>\n",
              "        <tr>\n",
              "            <td>Mary</td>\n",
              "        </tr>\n",
              "    </tbody>\n",
              "</table>"
            ]
          },
          "metadata": {},
          "execution_count": 15
        }
      ],
      "source": [
        "\n",
        "%%sql\n",
        "SELECT name as 'Имя'\n",
        "FROM people"
      ]
    },
    {
      "cell_type": "code",
      "execution_count": null,
      "metadata": {
        "id": "U2fyPDwlhpgI",
        "outputId": "28930dad-2852-42d7-9d2e-ce42ec289c5b",
        "colab": {
          "base_uri": "https://localhost:8080/",
          "height": 138
        }
      },
      "outputs": [
        {
          "output_type": "stream",
          "name": "stdout",
          "text": [
            " * sqlite:///jupyter_sql_tutorial.db\n",
            "Done.\n"
          ]
        },
        {
          "output_type": "execute_result",
          "data": {
            "text/plain": [
              "[('Juan', 23), ('Victoria', 34), ('Mary', 43)]"
            ],
            "text/html": [
              "<table>\n",
              "    <thead>\n",
              "        <tr>\n",
              "            <th>Имя</th>\n",
              "            <th>Возраст</th>\n",
              "        </tr>\n",
              "    </thead>\n",
              "    <tbody>\n",
              "        <tr>\n",
              "            <td>Juan</td>\n",
              "            <td>23</td>\n",
              "        </tr>\n",
              "        <tr>\n",
              "            <td>Victoria</td>\n",
              "            <td>34</td>\n",
              "        </tr>\n",
              "        <tr>\n",
              "            <td>Mary</td>\n",
              "            <td>43</td>\n",
              "        </tr>\n",
              "    </tbody>\n",
              "</table>"
            ]
          },
          "metadata": {},
          "execution_count": 16
        }
      ],
      "source": [
        "%%sql\n",
        "SELECT name as 'Имя',age as 'Возраст'\n",
        "FROM people"
      ]
    },
    {
      "cell_type": "markdown",
      "metadata": {
        "id": "_fbS2ORAhpgI"
      },
      "source": [
        "#### ВЫБИРАТЬ\n",
        "Базовый вариант использования для извлечения данных из базы данных..\n",
        "\n",
        "```SQL\n",
        "SELECT\n",
        "    col1,\n",
        "    col2\n",
        "FROM table\n",
        "WHERE [some condition];\n",
        "```\n",
        "\n",
        "Example\n",
        "```SQL\n",
        "SELECT\n",
        "    poll_title,\n",
        "    poll_date\n",
        "FROM polls\n",
        "WHERE romney_pct > obama_pct;\n",
        "```\n",
        "\n",
        "***pandas***\n",
        "```python\n",
        "polls[polls.romney_pct > polls.obama_pct][['poll_title', 'poll_date']]\n",
        "```\n",
        "***end_pandas***\n",
        "\n",
        "\n",
        "Примечания:\n",
        "\n",
        "1. WHERE является необязательным, хотя в конечном итоге фильтрация данных обычно является точкой запроса из базы данных.\n",
        "2. Вы можете ВЫБРАТЬ столько столбцов, сколько захотите, и псевдоним каждого."
      ]
    },
    {
      "cell_type": "markdown",
      "metadata": {
        "id": "9Lb9wZfahpgI"
      },
      "source": [
        "# Where проверка условия"
      ]
    },
    {
      "cell_type": "markdown",
      "metadata": {
        "id": "JjhV0iPphpgJ"
      },
      "source": [
        "![image.png](https://raw.githubusercontent.com/trisha00001/file/main/s3.png)"
      ]
    },
    {
      "cell_type": "markdown",
      "metadata": {
        "id": "EErXq9E-hpgJ"
      },
      "source": [
        "![image-2.png](https://raw.githubusercontent.com/trisha00001/file/main/s4.png)"
      ]
    },
    {
      "cell_type": "markdown",
      "metadata": {
        "id": "uOhD5LX5hpgJ"
      },
      "source": [
        "![image.png](https://raw.githubusercontent.com/trisha00001/file/main/s6.png)"
      ]
    },
    {
      "cell_type": "markdown",
      "metadata": {
        "id": "AGw3sgS9hpgJ"
      },
      "source": [
        "![image.png](https://raw.githubusercontent.com/trisha00001/file/main/s7.png)"
      ]
    },
    {
      "cell_type": "code",
      "execution_count": null,
      "metadata": {
        "id": "atwVWskahpgJ",
        "outputId": "ab5d7272-87c7-44a0-fb7b-79ab0a627a9d",
        "colab": {
          "base_uri": "https://localhost:8080/",
          "height": 117
        }
      },
      "outputs": [
        {
          "output_type": "stream",
          "name": "stdout",
          "text": [
            " * sqlite:///jupyter_sql_tutorial.db\n",
            "Done.\n"
          ]
        },
        {
          "output_type": "execute_result",
          "data": {
            "text/plain": [
              "[(0, 'Juan', 23, 'Miami'), (1, 'Victoria', 34, 'Buenos Aires')]"
            ],
            "text/html": [
              "<table>\n",
              "    <thead>\n",
              "        <tr>\n",
              "            <th>index</th>\n",
              "            <th>name</th>\n",
              "            <th>age</th>\n",
              "            <th>city</th>\n",
              "        </tr>\n",
              "    </thead>\n",
              "    <tbody>\n",
              "        <tr>\n",
              "            <td>0</td>\n",
              "            <td>Juan</td>\n",
              "            <td>23</td>\n",
              "            <td>Miami</td>\n",
              "        </tr>\n",
              "        <tr>\n",
              "            <td>1</td>\n",
              "            <td>Victoria</td>\n",
              "            <td>34</td>\n",
              "            <td>Buenos Aires</td>\n",
              "        </tr>\n",
              "    </tbody>\n",
              "</table>"
            ]
          },
          "metadata": {},
          "execution_count": 17
        }
      ],
      "source": [
        "%%sql\n",
        "SELECT *\n",
        "FROM people\n",
        "WHERE age <= 35"
      ]
    },
    {
      "cell_type": "markdown",
      "metadata": {
        "id": "qcYnTxCQhpgJ"
      },
      "source": [
        "Выбрать строки, где город указан как Buenos Aires"
      ]
    },
    {
      "cell_type": "code",
      "execution_count": null,
      "metadata": {
        "id": "OcFLVXKehpgJ",
        "outputId": "e27566dd-abbf-4200-b9fd-fd1269a063a6",
        "colab": {
          "base_uri": "https://localhost:8080/",
          "height": 96
        }
      },
      "outputs": [
        {
          "output_type": "stream",
          "name": "stdout",
          "text": [
            " * sqlite:///jupyter_sql_tutorial.db\n",
            "Done.\n"
          ]
        },
        {
          "output_type": "execute_result",
          "data": {
            "text/plain": [
              "[(1, 'Victoria', 34, 'Buenos Aires')]"
            ],
            "text/html": [
              "<table>\n",
              "    <thead>\n",
              "        <tr>\n",
              "            <th>index</th>\n",
              "            <th>name</th>\n",
              "            <th>age</th>\n",
              "            <th>city</th>\n",
              "        </tr>\n",
              "    </thead>\n",
              "    <tbody>\n",
              "        <tr>\n",
              "            <td>1</td>\n",
              "            <td>Victoria</td>\n",
              "            <td>34</td>\n",
              "            <td>Buenos Aires</td>\n",
              "        </tr>\n",
              "    </tbody>\n",
              "</table>"
            ]
          },
          "metadata": {},
          "execution_count": 18
        }
      ],
      "source": [
        "%%sql\n",
        "SELECT *\n",
        "FROM people\n",
        "WHERE city == \"Buenos Aires\""
      ]
    },
    {
      "cell_type": "markdown",
      "metadata": {
        "id": "QgJ6qByRhpgJ"
      },
      "source": [
        "Выбрать людей младше 40  не из города майами"
      ]
    },
    {
      "cell_type": "code",
      "execution_count": null,
      "metadata": {
        "id": "aajTOYcIhpgK",
        "outputId": "83116781-cde3-4a58-8e61-08c93cf791cc",
        "colab": {
          "base_uri": "https://localhost:8080/",
          "height": 96
        }
      },
      "outputs": [
        {
          "output_type": "stream",
          "name": "stdout",
          "text": [
            " * sqlite:///jupyter_sql_tutorial.db\n",
            "Done.\n"
          ]
        },
        {
          "output_type": "execute_result",
          "data": {
            "text/plain": [
              "[(1, 'Victoria', 34, 'Buenos Aires')]"
            ],
            "text/html": [
              "<table>\n",
              "    <thead>\n",
              "        <tr>\n",
              "            <th>index</th>\n",
              "            <th>name</th>\n",
              "            <th>age</th>\n",
              "            <th>city</th>\n",
              "        </tr>\n",
              "    </thead>\n",
              "    <tbody>\n",
              "        <tr>\n",
              "            <td>1</td>\n",
              "            <td>Victoria</td>\n",
              "            <td>34</td>\n",
              "            <td>Buenos Aires</td>\n",
              "        </tr>\n",
              "    </tbody>\n",
              "</table>"
            ]
          },
          "metadata": {},
          "execution_count": 19
        }
      ],
      "source": [
        "%%sql\n",
        "SELECT *\n",
        "FROM people\n",
        "WHERE age <= 40 AND city != \"Miami\""
      ]
    },
    {
      "cell_type": "markdown",
      "metadata": {
        "id": "1bPZJ0CShpgK"
      },
      "source": [
        "Вывести людей из города Miami"
      ]
    },
    {
      "cell_type": "code",
      "execution_count": null,
      "metadata": {
        "id": "K4DJJp_2hpgK",
        "outputId": "601faf37-d0a1-4ae7-d22d-f16725d97505",
        "colab": {
          "base_uri": "https://localhost:8080/",
          "height": 96
        }
      },
      "outputs": [
        {
          "output_type": "stream",
          "name": "stdout",
          "text": [
            " * sqlite:///jupyter_sql_tutorial.db\n",
            "Done.\n"
          ]
        },
        {
          "output_type": "execute_result",
          "data": {
            "text/plain": [
              "[(0, 'Juan', 23, 'Miami')]"
            ],
            "text/html": [
              "<table>\n",
              "    <thead>\n",
              "        <tr>\n",
              "            <th>index</th>\n",
              "            <th>name</th>\n",
              "            <th>age</th>\n",
              "            <th>city</th>\n",
              "        </tr>\n",
              "    </thead>\n",
              "    <tbody>\n",
              "        <tr>\n",
              "            <td>0</td>\n",
              "            <td>Juan</td>\n",
              "            <td>23</td>\n",
              "            <td>Miami</td>\n",
              "        </tr>\n",
              "    </tbody>\n",
              "</table>"
            ]
          },
          "metadata": {},
          "execution_count": 20
        }
      ],
      "source": [
        "%%sql\n",
        "SELECT *\n",
        "FROM people\n",
        "WHERE city = \"Miami\""
      ]
    },
    {
      "cell_type": "markdown",
      "metadata": {
        "id": "vs4-RTRohpgK"
      },
      "source": [
        "Вывести людей не из Santiago"
      ]
    },
    {
      "cell_type": "code",
      "execution_count": null,
      "metadata": {
        "id": "0yhjwFgQhpgK",
        "colab": {
          "base_uri": "https://localhost:8080/",
          "height": 117
        },
        "outputId": "cab85f42-8776-4b1a-c6a4-96c0bc072e23"
      },
      "outputs": [
        {
          "output_type": "stream",
          "name": "stdout",
          "text": [
            " * sqlite:///jupyter_sql_tutorial.db\n",
            "Done.\n"
          ]
        },
        {
          "output_type": "execute_result",
          "data": {
            "text/plain": [
              "[(0, 'Juan', 23, 'Miami'), (1, 'Victoria', 34, 'Buenos Aires')]"
            ],
            "text/html": [
              "<table>\n",
              "    <thead>\n",
              "        <tr>\n",
              "            <th>index</th>\n",
              "            <th>name</th>\n",
              "            <th>age</th>\n",
              "            <th>city</th>\n",
              "        </tr>\n",
              "    </thead>\n",
              "    <tbody>\n",
              "        <tr>\n",
              "            <td>0</td>\n",
              "            <td>Juan</td>\n",
              "            <td>23</td>\n",
              "            <td>Miami</td>\n",
              "        </tr>\n",
              "        <tr>\n",
              "            <td>1</td>\n",
              "            <td>Victoria</td>\n",
              "            <td>34</td>\n",
              "            <td>Buenos Aires</td>\n",
              "        </tr>\n",
              "    </tbody>\n",
              "</table>"
            ]
          },
          "metadata": {},
          "execution_count": 21
        }
      ],
      "source": [
        "%%sql\n",
        "SELECT *\n",
        "FROM people\n",
        "WHERE  not city = 'Santiago'"
      ]
    },
    {
      "cell_type": "code",
      "execution_count": null,
      "metadata": {
        "id": "pZLLPUU-hpgL"
      },
      "outputs": [],
      "source": [
        "Вывести людей из Santiago  или Miami"
      ]
    },
    {
      "cell_type": "code",
      "execution_count": null,
      "metadata": {
        "id": "nTpUb0_8hpgL",
        "colab": {
          "base_uri": "https://localhost:8080/",
          "height": 118
        },
        "outputId": "88c219ab-2741-4d53-b5e3-9c01a3cca6d8"
      },
      "outputs": [
        {
          "output_type": "stream",
          "name": "stdout",
          "text": [
            " * sqlite:///jupyter_sql_tutorial.db\n",
            "Done.\n"
          ]
        },
        {
          "output_type": "execute_result",
          "data": {
            "text/plain": [
              "[(0, 'Juan', 23, 'Miami'), (2, 'Mary', 43, 'Santiago')]"
            ],
            "text/html": [
              "<table>\n",
              "    <thead>\n",
              "        <tr>\n",
              "            <th>index</th>\n",
              "            <th>name</th>\n",
              "            <th>age</th>\n",
              "            <th>city</th>\n",
              "        </tr>\n",
              "    </thead>\n",
              "    <tbody>\n",
              "        <tr>\n",
              "            <td>0</td>\n",
              "            <td>Juan</td>\n",
              "            <td>23</td>\n",
              "            <td>Miami</td>\n",
              "        </tr>\n",
              "        <tr>\n",
              "            <td>2</td>\n",
              "            <td>Mary</td>\n",
              "            <td>43</td>\n",
              "            <td>Santiago</td>\n",
              "        </tr>\n",
              "    </tbody>\n",
              "</table>"
            ]
          },
          "metadata": {},
          "execution_count": 25
        }
      ],
      "source": [
        "%%sql\n",
        "SELECT *\n",
        "FROM people\n",
        "WHERE   city == 'Santiago' or city == 'Miami'"
      ]
    },
    {
      "cell_type": "code",
      "execution_count": null,
      "metadata": {
        "id": "CUWQ_1uxhpgL",
        "colab": {
          "base_uri": "https://localhost:8080/",
          "height": 96
        },
        "outputId": "13fb5305-eada-4c96-e73f-52456e2e77e7"
      },
      "outputs": [
        {
          "output_type": "stream",
          "name": "stdout",
          "text": [
            " * sqlite:///jupyter_sql_tutorial.db\n",
            "Done.\n"
          ]
        },
        {
          "output_type": "execute_result",
          "data": {
            "text/plain": [
              "[(1, 'Victoria', 34, 'Buenos Aires')]"
            ],
            "text/html": [
              "<table>\n",
              "    <thead>\n",
              "        <tr>\n",
              "            <th>index</th>\n",
              "            <th>name</th>\n",
              "            <th>age</th>\n",
              "            <th>city</th>\n",
              "        </tr>\n",
              "    </thead>\n",
              "    <tbody>\n",
              "        <tr>\n",
              "            <td>1</td>\n",
              "            <td>Victoria</td>\n",
              "            <td>34</td>\n",
              "            <td>Buenos Aires</td>\n",
              "        </tr>\n",
              "    </tbody>\n",
              "</table>"
            ]
          },
          "metadata": {},
          "execution_count": 26
        }
      ],
      "source": [
        "%%sql\n",
        "SELECT * FROM people\n",
        "WHERE   age>= 25 and age<= 35"
      ]
    },
    {
      "cell_type": "markdown",
      "metadata": {
        "id": "SYqM4jbmhpgM"
      },
      "source": [
        "![image-2.png](https://raw.githubusercontent.com/trisha00001/file/main/s8.png)"
      ]
    },
    {
      "cell_type": "code",
      "execution_count": null,
      "metadata": {
        "id": "TwiP815zhpgM",
        "outputId": "3b8d9460-53e1-4d58-865e-4aceea579584",
        "colab": {
          "base_uri": "https://localhost:8080/",
          "height": 139
        }
      },
      "outputs": [
        {
          "output_type": "stream",
          "name": "stdout",
          "text": [
            " * sqlite:///jupyter_sql_tutorial.db\n",
            "Done.\n"
          ]
        },
        {
          "output_type": "execute_result",
          "data": {
            "text/plain": [
              "[('Juan',), ('Mary',), ('Victoria',)]"
            ],
            "text/html": [
              "<table>\n",
              "    <thead>\n",
              "        <tr>\n",
              "            <th>name</th>\n",
              "        </tr>\n",
              "    </thead>\n",
              "    <tbody>\n",
              "        <tr>\n",
              "            <td>Juan</td>\n",
              "        </tr>\n",
              "        <tr>\n",
              "            <td>Mary</td>\n",
              "        </tr>\n",
              "        <tr>\n",
              "            <td>Victoria</td>\n",
              "        </tr>\n",
              "    </tbody>\n",
              "</table>"
            ]
          },
          "metadata": {},
          "execution_count": 27
        }
      ],
      "source": [
        "%%sql\n",
        "SELECT name FROM people\n",
        "ORDER BY name;"
      ]
    },
    {
      "cell_type": "code",
      "execution_count": null,
      "metadata": {
        "id": "-Jijgl6xhpgM",
        "outputId": "df9f7de3-dd77-4da4-967e-ebfda0f396b4",
        "colab": {
          "base_uri": "https://localhost:8080/",
          "height": 139
        }
      },
      "outputs": [
        {
          "output_type": "stream",
          "name": "stdout",
          "text": [
            " * sqlite:///jupyter_sql_tutorial.db\n",
            "Done.\n"
          ]
        },
        {
          "output_type": "execute_result",
          "data": {
            "text/plain": [
              "[(1, 'Victoria', 34, 'Buenos Aires'),\n",
              " (2, 'Mary', 43, 'Santiago'),\n",
              " (0, 'Juan', 23, 'Miami')]"
            ],
            "text/html": [
              "<table>\n",
              "    <thead>\n",
              "        <tr>\n",
              "            <th>index</th>\n",
              "            <th>name</th>\n",
              "            <th>age</th>\n",
              "            <th>city</th>\n",
              "        </tr>\n",
              "    </thead>\n",
              "    <tbody>\n",
              "        <tr>\n",
              "            <td>1</td>\n",
              "            <td>Victoria</td>\n",
              "            <td>34</td>\n",
              "            <td>Buenos Aires</td>\n",
              "        </tr>\n",
              "        <tr>\n",
              "            <td>2</td>\n",
              "            <td>Mary</td>\n",
              "            <td>43</td>\n",
              "            <td>Santiago</td>\n",
              "        </tr>\n",
              "        <tr>\n",
              "            <td>0</td>\n",
              "            <td>Juan</td>\n",
              "            <td>23</td>\n",
              "            <td>Miami</td>\n",
              "        </tr>\n",
              "    </tbody>\n",
              "</table>"
            ]
          },
          "metadata": {},
          "execution_count": 28
        }
      ],
      "source": [
        "%%sql\n",
        "SELECT * FROM people\n",
        "ORDER BY name DESC;"
      ]
    },
    {
      "cell_type": "markdown",
      "metadata": {
        "id": "G-RqFvfEhpgN"
      },
      "source": [
        "Вывести людей из Santiago старше 40"
      ]
    },
    {
      "cell_type": "code",
      "execution_count": null,
      "metadata": {
        "id": "kJjLN4CXhpgN",
        "outputId": "c9f6f343-b377-462c-fb01-11dcafe0cbc3",
        "colab": {
          "base_uri": "https://localhost:8080/",
          "height": 118
        }
      },
      "outputs": [
        {
          "output_type": "stream",
          "name": "stdout",
          "text": [
            " * sqlite:///jupyter_sql_tutorial.db\n",
            "Done.\n"
          ]
        },
        {
          "output_type": "execute_result",
          "data": {
            "text/plain": [
              "[('Mary', 43), ('Victoria', 34)]"
            ],
            "text/html": [
              "<table>\n",
              "    <thead>\n",
              "        <tr>\n",
              "            <th>name</th>\n",
              "            <th>age</th>\n",
              "        </tr>\n",
              "    </thead>\n",
              "    <tbody>\n",
              "        <tr>\n",
              "            <td>Mary</td>\n",
              "            <td>43</td>\n",
              "        </tr>\n",
              "        <tr>\n",
              "            <td>Victoria</td>\n",
              "            <td>34</td>\n",
              "        </tr>\n",
              "    </tbody>\n",
              "</table>"
            ]
          },
          "metadata": {},
          "execution_count": 29
        }
      ],
      "source": [
        "%%sql\n",
        "SELECT name, age\n",
        "FROM people\n",
        "Where age>= 25\n",
        "ORDER BY name ;"
      ]
    },
    {
      "cell_type": "code",
      "execution_count": null,
      "metadata": {
        "id": "CqdGMRJAhpgN",
        "outputId": "99be6f4d-e9b0-44e6-8463-49de1f9f0390",
        "colab": {
          "base_uri": "https://localhost:8080/",
          "height": 118
        }
      },
      "outputs": [
        {
          "output_type": "stream",
          "name": "stdout",
          "text": [
            " * sqlite:///jupyter_sql_tutorial.db\n",
            "Done.\n"
          ]
        },
        {
          "output_type": "execute_result",
          "data": {
            "text/plain": [
              "[(2, 'Mary', 43, 'Santiago'), (0, 'Juan', 23, 'Miami')]"
            ],
            "text/html": [
              "<table>\n",
              "    <thead>\n",
              "        <tr>\n",
              "            <th>index</th>\n",
              "            <th>name</th>\n",
              "            <th>age</th>\n",
              "            <th>city</th>\n",
              "        </tr>\n",
              "    </thead>\n",
              "    <tbody>\n",
              "        <tr>\n",
              "            <td>2</td>\n",
              "            <td>Mary</td>\n",
              "            <td>43</td>\n",
              "            <td>Santiago</td>\n",
              "        </tr>\n",
              "        <tr>\n",
              "            <td>0</td>\n",
              "            <td>Juan</td>\n",
              "            <td>23</td>\n",
              "            <td>Miami</td>\n",
              "        </tr>\n",
              "    </tbody>\n",
              "</table>"
            ]
          },
          "metadata": {},
          "execution_count": 30
        }
      ],
      "source": [
        "%%sql\n",
        "SELECT *\n",
        "FROM people\n",
        "WHERE   city = 'Santiago' or city = 'Miami'\n",
        "ORDER BY name DESC;"
      ]
    },
    {
      "cell_type": "markdown",
      "metadata": {
        "id": "wGOKrOyRhpgM"
      },
      "source": [
        "![image.png](https://raw.githubusercontent.com/trisha00001/file/main/s9.png)"
      ]
    },
    {
      "cell_type": "code",
      "execution_count": null,
      "metadata": {
        "id": "BIYOF30QhpgO",
        "colab": {
          "base_uri": "https://localhost:8080/",
          "height": 139
        },
        "outputId": "5256f64a-3fee-48d0-b4fe-e0edcface538"
      },
      "outputs": [
        {
          "output_type": "stream",
          "name": "stdout",
          "text": [
            " * sqlite:///jupyter_sql_tutorial.db\n",
            "Done.\n"
          ]
        },
        {
          "output_type": "execute_result",
          "data": {
            "text/plain": [
              "[(0, 'Juan', 23, 'Miami'),\n",
              " (1, 'Victoria', 34, 'Buenos Aires'),\n",
              " (2, 'Mary', 43, 'Santiago')]"
            ],
            "text/html": [
              "<table>\n",
              "    <thead>\n",
              "        <tr>\n",
              "            <th>index</th>\n",
              "            <th>name</th>\n",
              "            <th>age</th>\n",
              "            <th>city</th>\n",
              "        </tr>\n",
              "    </thead>\n",
              "    <tbody>\n",
              "        <tr>\n",
              "            <td>0</td>\n",
              "            <td>Juan</td>\n",
              "            <td>23</td>\n",
              "            <td>Miami</td>\n",
              "        </tr>\n",
              "        <tr>\n",
              "            <td>1</td>\n",
              "            <td>Victoria</td>\n",
              "            <td>34</td>\n",
              "            <td>Buenos Aires</td>\n",
              "        </tr>\n",
              "        <tr>\n",
              "            <td>2</td>\n",
              "            <td>Mary</td>\n",
              "            <td>43</td>\n",
              "            <td>Santiago</td>\n",
              "        </tr>\n",
              "    </tbody>\n",
              "</table>"
            ]
          },
          "metadata": {},
          "execution_count": 31
        }
      ],
      "source": [
        "%%sql\n",
        "SELECT *\n",
        "FROM people"
      ]
    },
    {
      "cell_type": "code",
      "execution_count": null,
      "metadata": {
        "id": "w_yLQfm7hpgO",
        "outputId": "09fa7742-4c32-421d-b34c-16cca9b1d768",
        "colab": {
          "base_uri": "https://localhost:8080/",
          "height": 118
        }
      },
      "outputs": [
        {
          "output_type": "stream",
          "name": "stdout",
          "text": [
            " * sqlite:///jupyter_sql_tutorial.db\n",
            "Done.\n"
          ]
        },
        {
          "output_type": "execute_result",
          "data": {
            "text/plain": [
              "[(23,), (34,)]"
            ],
            "text/html": [
              "<table>\n",
              "    <thead>\n",
              "        <tr>\n",
              "            <th>age</th>\n",
              "        </tr>\n",
              "    </thead>\n",
              "    <tbody>\n",
              "        <tr>\n",
              "            <td>23</td>\n",
              "        </tr>\n",
              "        <tr>\n",
              "            <td>34</td>\n",
              "        </tr>\n",
              "    </tbody>\n",
              "</table>"
            ]
          },
          "metadata": {},
          "execution_count": 32
        }
      ],
      "source": [
        "%%sql\n",
        "SELECT age FROM people\n",
        "LIMIT 2"
      ]
    },
    {
      "cell_type": "markdown",
      "source": [
        "<br>\n",
        "\n",
        "<br>"
      ],
      "metadata": {
        "id": "mT5aXP6GDXVN"
      }
    },
    {
      "cell_type": "markdown",
      "metadata": {
        "id": "xeNdD-XohpgO"
      },
      "source": [
        "\n",
        "# Агрегированные функции/\n"
      ]
    },
    {
      "cell_type": "markdown",
      "metadata": {
        "id": "SgcvkGtThpgO"
      },
      "source": [
        "![image.png](https://raw.githubusercontent.com/trisha00001/file/main/s10.png)"
      ]
    },
    {
      "cell_type": "code",
      "execution_count": null,
      "metadata": {
        "id": "O4h3a1QOhpgO",
        "outputId": "d4f7982f-0648-4311-fba1-145a70c00d28",
        "colab": {
          "base_uri": "https://localhost:8080/",
          "height": 96
        }
      },
      "outputs": [
        {
          "output_type": "stream",
          "name": "stdout",
          "text": [
            " * sqlite:///jupyter_sql_tutorial.db\n",
            "Done.\n"
          ]
        },
        {
          "output_type": "execute_result",
          "data": {
            "text/plain": [
              "[(43,)]"
            ],
            "text/html": [
              "<table>\n",
              "    <thead>\n",
              "        <tr>\n",
              "            <th>max(age)</th>\n",
              "        </tr>\n",
              "    </thead>\n",
              "    <tbody>\n",
              "        <tr>\n",
              "            <td>43</td>\n",
              "        </tr>\n",
              "    </tbody>\n",
              "</table>"
            ]
          },
          "metadata": {},
          "execution_count": 33
        }
      ],
      "source": [
        "%%sql\n",
        "SELECT max(age)\n",
        "FROM people"
      ]
    },
    {
      "cell_type": "code",
      "execution_count": null,
      "metadata": {
        "id": "RCD_d8o3hpgO",
        "outputId": "baa91169-cdb6-461a-e491-6563a36c3aca",
        "colab": {
          "base_uri": "https://localhost:8080/",
          "height": 96
        }
      },
      "outputs": [
        {
          "output_type": "stream",
          "name": "stdout",
          "text": [
            " * sqlite:///jupyter_sql_tutorial.db\n",
            "Done.\n"
          ]
        },
        {
          "output_type": "execute_result",
          "data": {
            "text/plain": [
              "[(23,)]"
            ],
            "text/html": [
              "<table>\n",
              "    <thead>\n",
              "        <tr>\n",
              "            <th>min(age)</th>\n",
              "        </tr>\n",
              "    </thead>\n",
              "    <tbody>\n",
              "        <tr>\n",
              "            <td>23</td>\n",
              "        </tr>\n",
              "    </tbody>\n",
              "</table>"
            ]
          },
          "metadata": {},
          "execution_count": 34
        }
      ],
      "source": [
        "%%sql\n",
        "SELECT min(age)\n",
        "FROM people"
      ]
    },
    {
      "cell_type": "code",
      "execution_count": null,
      "metadata": {
        "id": "t4siMm52hpgP",
        "outputId": "682cf029-f014-4fe8-e475-dcb36c15c0b5",
        "colab": {
          "base_uri": "https://localhost:8080/",
          "height": 96
        }
      },
      "outputs": [
        {
          "output_type": "stream",
          "name": "stdout",
          "text": [
            " * sqlite:///jupyter_sql_tutorial.db\n",
            "Done.\n"
          ]
        },
        {
          "output_type": "execute_result",
          "data": {
            "text/plain": [
              "[(43, 23)]"
            ],
            "text/html": [
              "<table>\n",
              "    <thead>\n",
              "        <tr>\n",
              "            <th>max(age)</th>\n",
              "            <th>min(age)</th>\n",
              "        </tr>\n",
              "    </thead>\n",
              "    <tbody>\n",
              "        <tr>\n",
              "            <td>43</td>\n",
              "            <td>23</td>\n",
              "        </tr>\n",
              "    </tbody>\n",
              "</table>"
            ]
          },
          "metadata": {},
          "execution_count": 35
        }
      ],
      "source": [
        "%%sql\n",
        "SELECT max(age), min(age)\n",
        "FROM people\n"
      ]
    },
    {
      "cell_type": "markdown",
      "metadata": {
        "id": "yAvUnma9hpgP"
      },
      "source": [
        "![image.png](https://raw.githubusercontent.com/trisha00001/file/main/s11.png)"
      ]
    },
    {
      "cell_type": "code",
      "execution_count": null,
      "metadata": {
        "id": "52Lrhr4ahpgP",
        "outputId": "0f06d4a6-b279-4c9e-8ff3-88717bc641ee"
      },
      "outputs": [
        {
          "name": "stdout",
          "output_type": "stream",
          "text": [
            " * sqlite:///jupyter_sql_tutorial.db\n",
            "Done.\n"
          ]
        },
        {
          "data": {
            "text/html": [
              "<table>\n",
              "    <tr>\n",
              "        <th>count(*)</th>\n",
              "    </tr>\n",
              "    <tr>\n",
              "        <td>2</td>\n",
              "    </tr>\n",
              "</table>"
            ],
            "text/plain": [
              "[(2,)]"
            ]
          },
          "execution_count": 27,
          "metadata": {},
          "output_type": "execute_result"
        }
      ],
      "source": [
        "%%sql\n",
        "SELECT count(*)\n",
        "FROM people\n",
        "Where age >25"
      ]
    },
    {
      "cell_type": "code",
      "execution_count": null,
      "metadata": {
        "id": "-t8FDUAshpgP",
        "outputId": "66a7a963-2f86-4f0e-b1a3-49140a0867ab"
      },
      "outputs": [
        {
          "name": "stdout",
          "output_type": "stream",
          "text": [
            " * sqlite:///jupyter_sql_tutorial.db\n",
            "Done.\n"
          ]
        },
        {
          "data": {
            "text/html": [
              "<table>\n",
              "    <tr>\n",
              "        <th>count(*)</th>\n",
              "    </tr>\n",
              "    <tr>\n",
              "        <td>3</td>\n",
              "    </tr>\n",
              "</table>"
            ],
            "text/plain": [
              "[(3,)]"
            ]
          },
          "execution_count": 26,
          "metadata": {},
          "output_type": "execute_result"
        }
      ],
      "source": [
        "%%sql\n",
        "SELECT count(*)\n",
        "FROM people"
      ]
    },
    {
      "cell_type": "code",
      "execution_count": null,
      "metadata": {
        "id": "89oMvSE2hpgP",
        "outputId": "5a5230b9-4db8-4539-8e4d-04ff108c9927"
      },
      "outputs": [
        {
          "name": "stdout",
          "output_type": "stream",
          "text": [
            " * sqlite:///jupyter_sql_tutorial.db\n",
            "Done.\n"
          ]
        },
        {
          "data": {
            "text/html": [
              "<table>\n",
              "    <tr>\n",
              "        <th>avg(age)</th>\n",
              "    </tr>\n",
              "    <tr>\n",
              "        <td>33.333333333333336</td>\n",
              "    </tr>\n",
              "</table>"
            ],
            "text/plain": [
              "[(33.333333333333336,)]"
            ]
          },
          "execution_count": 28,
          "metadata": {},
          "output_type": "execute_result"
        }
      ],
      "source": [
        "%%sql\n",
        "SELECT avg(age)\n",
        "FROM people"
      ]
    },
    {
      "cell_type": "code",
      "execution_count": null,
      "metadata": {
        "id": "ilgPKeuKhpgP",
        "outputId": "54707992-5ac5-4581-c25c-bf142dcda83c"
      },
      "outputs": [
        {
          "name": "stdout",
          "output_type": "stream",
          "text": [
            " * sqlite:///jupyter_sql_tutorial.db\n",
            "Done.\n"
          ]
        },
        {
          "data": {
            "text/html": [
              "<table>\n",
              "    <tr>\n",
              "        <th>sum(age)</th>\n",
              "    </tr>\n",
              "    <tr>\n",
              "        <td>100</td>\n",
              "    </tr>\n",
              "</table>"
            ],
            "text/plain": [
              "[(100,)]"
            ]
          },
          "execution_count": 29,
          "metadata": {},
          "output_type": "execute_result"
        }
      ],
      "source": [
        "%%sql\n",
        "SELECT sum(age)\n",
        "FROM people\n"
      ]
    },
    {
      "cell_type": "markdown",
      "metadata": {
        "id": "hJ0QBStPhpgU"
      },
      "source": [
        "![image.png](https://raw.githubusercontent.com/trisha00001/file/main/s33.png)"
      ]
    },
    {
      "cell_type": "markdown",
      "source": [
        "![image.png](https://raw.githubusercontent.com/trisha00001/file/main/s37.png)"
      ],
      "metadata": {
        "id": "yN0aRRLIxv88"
      }
    },
    {
      "cell_type": "code",
      "execution_count": null,
      "metadata": {
        "id": "cs00rOG8hpgQ",
        "outputId": "5b345d27-23a2-40f7-dc1b-03893f92caab"
      },
      "outputs": [
        {
          "name": "stdout",
          "output_type": "stream",
          "text": [
            " * sqlite:///jupyter_sql_tutorial.db\n",
            "Done.\n"
          ]
        },
        {
          "data": {
            "text/html": [
              "<table>\n",
              "    <tr>\n",
              "        <th>index</th>\n",
              "        <th>name</th>\n",
              "        <th>age</th>\n",
              "        <th>city</th>\n",
              "    </tr>\n",
              "    <tr>\n",
              "        <td>0</td>\n",
              "        <td>Juan</td>\n",
              "        <td>23</td>\n",
              "        <td>Miami</td>\n",
              "    </tr>\n",
              "    <tr>\n",
              "        <td>1</td>\n",
              "        <td>Victoria</td>\n",
              "        <td>34</td>\n",
              "        <td>Buenos Aires</td>\n",
              "    </tr>\n",
              "    <tr>\n",
              "        <td>2</td>\n",
              "        <td>Mary</td>\n",
              "        <td>43</td>\n",
              "        <td>Santiago</td>\n",
              "    </tr>\n",
              "</table>"
            ],
            "text/plain": [
              "[(0, 'Juan', 23, 'Miami'),\n",
              " (1, 'Victoria', 34, 'Buenos Aires'),\n",
              " (2, 'Mary', 43, 'Santiago')]"
            ]
          },
          "execution_count": 30,
          "metadata": {},
          "output_type": "execute_result"
        }
      ],
      "source": [
        "%%sql\n",
        "SELECT *\n",
        "FROM people"
      ]
    },
    {
      "cell_type": "code",
      "execution_count": null,
      "metadata": {
        "id": "hSBAuaZ7hpgQ",
        "outputId": "9d1f0bda-0825-4040-d523-318ff5bdf73b"
      },
      "outputs": [
        {
          "name": "stdout",
          "output_type": "stream",
          "text": [
            " * sqlite:///jupyter_sql_tutorial.db\n",
            "1 rows affected.\n"
          ]
        },
        {
          "data": {
            "text/plain": [
              "[]"
            ]
          },
          "execution_count": 31,
          "metadata": {},
          "output_type": "execute_result"
        }
      ],
      "source": [
        "%%sql\n",
        "INSERT INTO people\n",
        "VALUES (3,'Martin', 40,'Buenos Aires');"
      ]
    },
    {
      "cell_type": "code",
      "execution_count": null,
      "metadata": {
        "id": "f8DC3c0YhpgQ",
        "outputId": "ef0ef2e8-b1ef-4cbd-8078-fb82015094c7"
      },
      "outputs": [
        {
          "name": "stdout",
          "output_type": "stream",
          "text": [
            " * sqlite:///jupyter_sql_tutorial.db\n",
            "1 rows affected.\n"
          ]
        },
        {
          "data": {
            "text/plain": [
              "[]"
            ]
          },
          "execution_count": 32,
          "metadata": {},
          "output_type": "execute_result"
        }
      ],
      "source": [
        "%%sql\n",
        "INSERT INTO people\n",
        "VALUES (4,'Mark', 25,'Buenos Aires');"
      ]
    },
    {
      "cell_type": "code",
      "execution_count": null,
      "metadata": {
        "id": "Qaa4z4E1hpgQ",
        "outputId": "0d19b94d-2c12-477e-9b14-e3b03ffc88f3"
      },
      "outputs": [
        {
          "name": "stdout",
          "output_type": "stream",
          "text": [
            " * sqlite:///jupyter_sql_tutorial.db\n",
            "Done.\n"
          ]
        },
        {
          "data": {
            "text/html": [
              "<table>\n",
              "    <tr>\n",
              "        <th>index</th>\n",
              "        <th>name</th>\n",
              "        <th>age</th>\n",
              "        <th>city</th>\n",
              "    </tr>\n",
              "    <tr>\n",
              "        <td>0</td>\n",
              "        <td>Juan</td>\n",
              "        <td>23</td>\n",
              "        <td>Miami</td>\n",
              "    </tr>\n",
              "    <tr>\n",
              "        <td>1</td>\n",
              "        <td>Victoria</td>\n",
              "        <td>34</td>\n",
              "        <td>Buenos Aires</td>\n",
              "    </tr>\n",
              "    <tr>\n",
              "        <td>2</td>\n",
              "        <td>Mary</td>\n",
              "        <td>43</td>\n",
              "        <td>Santiago</td>\n",
              "    </tr>\n",
              "    <tr>\n",
              "        <td>3</td>\n",
              "        <td>Martin</td>\n",
              "        <td>40</td>\n",
              "        <td>Buenos Aires</td>\n",
              "    </tr>\n",
              "    <tr>\n",
              "        <td>4</td>\n",
              "        <td>Mark</td>\n",
              "        <td>25</td>\n",
              "        <td>Buenos Aires</td>\n",
              "    </tr>\n",
              "</table>"
            ],
            "text/plain": [
              "[(0, 'Juan', 23, 'Miami'),\n",
              " (1, 'Victoria', 34, 'Buenos Aires'),\n",
              " (2, 'Mary', 43, 'Santiago'),\n",
              " (3, 'Martin', 40, 'Buenos Aires'),\n",
              " (4, 'Mark', 25, 'Buenos Aires')]"
            ]
          },
          "execution_count": 33,
          "metadata": {},
          "output_type": "execute_result"
        }
      ],
      "source": [
        "%%sql\n",
        "SELECT *\n",
        "FROM people"
      ]
    },
    {
      "cell_type": "code",
      "execution_count": null,
      "metadata": {
        "id": "AD2D05anhpgQ",
        "outputId": "dd14a2d8-a005-430b-c28c-05d7d4a3cd50"
      },
      "outputs": [
        {
          "name": "stdout",
          "output_type": "stream",
          "text": [
            " * sqlite:///jupyter_sql_tutorial.db\n",
            "Done.\n"
          ]
        },
        {
          "data": {
            "text/html": [
              "<table>\n",
              "    <tr>\n",
              "        <th>avg(age)</th>\n",
              "    </tr>\n",
              "    <tr>\n",
              "        <td>33.0</td>\n",
              "    </tr>\n",
              "</table>"
            ],
            "text/plain": [
              "[(33.0,)]"
            ]
          },
          "execution_count": 34,
          "metadata": {},
          "output_type": "execute_result"
        }
      ],
      "source": [
        "%%sql\n",
        "SELECT avg(age)\n",
        "FROM people\n",
        "WHERE   city == 'Buenos Aires'"
      ]
    },
    {
      "cell_type": "code",
      "execution_count": null,
      "metadata": {
        "id": "OgD3DOl2hpgR",
        "outputId": "350ea859-ac0f-4f1a-b343-09fa5fd37268"
      },
      "outputs": [
        {
          "data": {
            "text/plain": [
              "33.0"
            ]
          },
          "execution_count": 35,
          "metadata": {},
          "output_type": "execute_result"
        }
      ],
      "source": [
        "(34+40+25)/3"
      ]
    },
    {
      "cell_type": "code",
      "execution_count": null,
      "metadata": {
        "id": "Cg9tGBzGhpgR",
        "outputId": "121fa506-2013-4ea4-8aa0-2716797475de"
      },
      "outputs": [
        {
          "name": "stdout",
          "output_type": "stream",
          "text": [
            " * sqlite:///jupyter_sql_tutorial.db\n",
            "1 rows affected.\n"
          ]
        },
        {
          "data": {
            "text/plain": [
              "[]"
            ]
          },
          "execution_count": 36,
          "metadata": {},
          "output_type": "execute_result"
        }
      ],
      "source": [
        "%%sql\n",
        "INSERT INTO people\n",
        "VALUES (5,'Marina', 43,'Sanremo');"
      ]
    },
    {
      "cell_type": "markdown",
      "metadata": {
        "id": "LkuFHmmPhpgR"
      },
      "source": [
        "![image.png](https://raw.githubusercontent.com/trisha00001/file/main/s34.png)"
      ]
    },
    {
      "cell_type": "code",
      "execution_count": null,
      "metadata": {
        "id": "T_D1RpdzhpgR",
        "outputId": "9748b115-4249-4e64-a295-4aea1c18d134"
      },
      "outputs": [
        {
          "name": "stdout",
          "output_type": "stream",
          "text": [
            " * sqlite:///jupyter_sql_tutorial.db\n",
            "Done.\n"
          ]
        },
        {
          "data": {
            "text/html": [
              "<table>\n",
              "    <tr>\n",
              "        <th>index</th>\n",
              "        <th>name</th>\n",
              "        <th>age</th>\n",
              "        <th>city</th>\n",
              "    </tr>\n",
              "    <tr>\n",
              "        <td>0</td>\n",
              "        <td>Juan</td>\n",
              "        <td>23</td>\n",
              "        <td>Miami</td>\n",
              "    </tr>\n",
              "    <tr>\n",
              "        <td>1</td>\n",
              "        <td>Victoria</td>\n",
              "        <td>34</td>\n",
              "        <td>Buenos Aires</td>\n",
              "    </tr>\n",
              "    <tr>\n",
              "        <td>2</td>\n",
              "        <td>Mary</td>\n",
              "        <td>43</td>\n",
              "        <td>Santiago</td>\n",
              "    </tr>\n",
              "    <tr>\n",
              "        <td>3</td>\n",
              "        <td>Martin</td>\n",
              "        <td>40</td>\n",
              "        <td>Buenos Aires</td>\n",
              "    </tr>\n",
              "    <tr>\n",
              "        <td>4</td>\n",
              "        <td>Mark</td>\n",
              "        <td>25</td>\n",
              "        <td>Buenos Aires</td>\n",
              "    </tr>\n",
              "    <tr>\n",
              "        <td>5</td>\n",
              "        <td>Marina</td>\n",
              "        <td>43</td>\n",
              "        <td>Sanremo</td>\n",
              "    </tr>\n",
              "</table>"
            ],
            "text/plain": [
              "[(0, 'Juan', 23, 'Miami'),\n",
              " (1, 'Victoria', 34, 'Buenos Aires'),\n",
              " (2, 'Mary', 43, 'Santiago'),\n",
              " (3, 'Martin', 40, 'Buenos Aires'),\n",
              " (4, 'Mark', 25, 'Buenos Aires'),\n",
              " (5, 'Marina', 43, 'Sanremo')]"
            ]
          },
          "execution_count": 37,
          "metadata": {},
          "output_type": "execute_result"
        }
      ],
      "source": [
        "%%sql\n",
        "SELECT *\n",
        "FROM people"
      ]
    },
    {
      "cell_type": "code",
      "execution_count": null,
      "metadata": {
        "id": "dROBUa2shpgR",
        "outputId": "3c0818de-28b8-4812-e458-b27afaf7bb7d"
      },
      "outputs": [
        {
          "name": "stdout",
          "output_type": "stream",
          "text": [
            " * sqlite:///jupyter_sql_tutorial.db\n",
            "1 rows affected.\n"
          ]
        },
        {
          "data": {
            "text/plain": [
              "[]"
            ]
          },
          "execution_count": 38,
          "metadata": {},
          "output_type": "execute_result"
        }
      ],
      "source": [
        "%%sql\n",
        "DELETE FROM people WHERE name='Marina';"
      ]
    },
    {
      "cell_type": "code",
      "execution_count": null,
      "metadata": {
        "id": "RbjViRGvhpgR",
        "outputId": "185d5500-e6b9-4101-d209-2c01ef9f28e3"
      },
      "outputs": [
        {
          "name": "stdout",
          "output_type": "stream",
          "text": [
            " * sqlite:///jupyter_sql_tutorial.db\n",
            "Done.\n"
          ]
        },
        {
          "data": {
            "text/html": [
              "<table>\n",
              "    <tr>\n",
              "        <th>index</th>\n",
              "        <th>name</th>\n",
              "        <th>age</th>\n",
              "        <th>city</th>\n",
              "    </tr>\n",
              "    <tr>\n",
              "        <td>0</td>\n",
              "        <td>Juan</td>\n",
              "        <td>23</td>\n",
              "        <td>Miami</td>\n",
              "    </tr>\n",
              "    <tr>\n",
              "        <td>1</td>\n",
              "        <td>Victoria</td>\n",
              "        <td>34</td>\n",
              "        <td>Buenos Aires</td>\n",
              "    </tr>\n",
              "    <tr>\n",
              "        <td>2</td>\n",
              "        <td>Mary</td>\n",
              "        <td>43</td>\n",
              "        <td>Santiago</td>\n",
              "    </tr>\n",
              "    <tr>\n",
              "        <td>3</td>\n",
              "        <td>Martin</td>\n",
              "        <td>40</td>\n",
              "        <td>Buenos Aires</td>\n",
              "    </tr>\n",
              "    <tr>\n",
              "        <td>4</td>\n",
              "        <td>Mark</td>\n",
              "        <td>25</td>\n",
              "        <td>Buenos Aires</td>\n",
              "    </tr>\n",
              "</table>"
            ],
            "text/plain": [
              "[(0, 'Juan', 23, 'Miami'),\n",
              " (1, 'Victoria', 34, 'Buenos Aires'),\n",
              " (2, 'Mary', 43, 'Santiago'),\n",
              " (3, 'Martin', 40, 'Buenos Aires'),\n",
              " (4, 'Mark', 25, 'Buenos Aires')]"
            ]
          },
          "execution_count": 39,
          "metadata": {},
          "output_type": "execute_result"
        }
      ],
      "source": [
        "%%sql\n",
        "SELECT *\n",
        "FROM people"
      ]
    },
    {
      "cell_type": "code",
      "execution_count": null,
      "metadata": {
        "id": "VNT7zG3ShpgR",
        "outputId": "0fa0f085-2546-400f-e6f5-3cc2f07d26ff"
      },
      "outputs": [
        {
          "name": "stdout",
          "output_type": "stream",
          "text": [
            " * sqlite:///jupyter_sql_tutorial.db\n",
            "1 rows affected.\n",
            "1 rows affected.\n"
          ]
        },
        {
          "data": {
            "text/plain": [
              "[]"
            ]
          },
          "execution_count": 40,
          "metadata": {},
          "output_type": "execute_result"
        }
      ],
      "source": [
        "%%sql\n",
        "INSERT INTO people\n",
        "VALUES (25,'Av', 14,'Sanremo');\n",
        "INSERT INTO people\n",
        "VALUES (25,'LAvi', 24,'Sanremo');"
      ]
    },
    {
      "cell_type": "code",
      "execution_count": null,
      "metadata": {
        "id": "OBA_FwVEhpgR",
        "outputId": "c4d9466c-56b0-4e17-c68c-90378623e8d1"
      },
      "outputs": [
        {
          "name": "stdout",
          "output_type": "stream",
          "text": [
            " * sqlite:///jupyter_sql_tutorial.db\n",
            "Done.\n"
          ]
        },
        {
          "data": {
            "text/html": [
              "<table>\n",
              "    <tr>\n",
              "        <th>index</th>\n",
              "        <th>name</th>\n",
              "        <th>age</th>\n",
              "        <th>city</th>\n",
              "    </tr>\n",
              "    <tr>\n",
              "        <td>0</td>\n",
              "        <td>Juan</td>\n",
              "        <td>23</td>\n",
              "        <td>Miami</td>\n",
              "    </tr>\n",
              "    <tr>\n",
              "        <td>1</td>\n",
              "        <td>Victoria</td>\n",
              "        <td>34</td>\n",
              "        <td>Buenos Aires</td>\n",
              "    </tr>\n",
              "    <tr>\n",
              "        <td>2</td>\n",
              "        <td>Mary</td>\n",
              "        <td>43</td>\n",
              "        <td>Santiago</td>\n",
              "    </tr>\n",
              "    <tr>\n",
              "        <td>3</td>\n",
              "        <td>Martin</td>\n",
              "        <td>40</td>\n",
              "        <td>Buenos Aires</td>\n",
              "    </tr>\n",
              "    <tr>\n",
              "        <td>4</td>\n",
              "        <td>Mark</td>\n",
              "        <td>25</td>\n",
              "        <td>Buenos Aires</td>\n",
              "    </tr>\n",
              "    <tr>\n",
              "        <td>25</td>\n",
              "        <td>Av</td>\n",
              "        <td>14</td>\n",
              "        <td>Sanremo</td>\n",
              "    </tr>\n",
              "    <tr>\n",
              "        <td>25</td>\n",
              "        <td>LAvi</td>\n",
              "        <td>24</td>\n",
              "        <td>Sanremo</td>\n",
              "    </tr>\n",
              "</table>"
            ],
            "text/plain": [
              "[(0, 'Juan', 23, 'Miami'),\n",
              " (1, 'Victoria', 34, 'Buenos Aires'),\n",
              " (2, 'Mary', 43, 'Santiago'),\n",
              " (3, 'Martin', 40, 'Buenos Aires'),\n",
              " (4, 'Mark', 25, 'Buenos Aires'),\n",
              " (25, 'Av', 14, 'Sanremo'),\n",
              " (25, 'LAvi', 24, 'Sanremo')]"
            ]
          },
          "execution_count": 41,
          "metadata": {},
          "output_type": "execute_result"
        }
      ],
      "source": [
        "%%sql\n",
        "SELECT *\n",
        "FROM people"
      ]
    },
    {
      "cell_type": "code",
      "execution_count": null,
      "metadata": {
        "id": "HzD6ULZ5hpgR",
        "outputId": "b154cf8f-00ce-4c47-d67e-a616fc3045f0"
      },
      "outputs": [
        {
          "name": "stdout",
          "output_type": "stream",
          "text": [
            " * sqlite:///jupyter_sql_tutorial.db\n",
            "1 rows affected.\n"
          ]
        },
        {
          "data": {
            "text/plain": [
              "[]"
            ]
          },
          "execution_count": 42,
          "metadata": {},
          "output_type": "execute_result"
        }
      ],
      "source": [
        "%%sql\n",
        "DELETE FROM people WHERE name=='Av';"
      ]
    },
    {
      "cell_type": "code",
      "execution_count": null,
      "metadata": {
        "id": "cUjDx6amhpgS",
        "outputId": "e2ac0dfc-0bc3-4ff3-e8a7-5335863e2769"
      },
      "outputs": [
        {
          "name": "stdout",
          "output_type": "stream",
          "text": [
            " * sqlite:///jupyter_sql_tutorial.db\n",
            "Done.\n"
          ]
        },
        {
          "data": {
            "text/html": [
              "<table>\n",
              "    <tr>\n",
              "        <th>index</th>\n",
              "        <th>name</th>\n",
              "        <th>age</th>\n",
              "        <th>city</th>\n",
              "    </tr>\n",
              "    <tr>\n",
              "        <td>0</td>\n",
              "        <td>Juan</td>\n",
              "        <td>23</td>\n",
              "        <td>Miami</td>\n",
              "    </tr>\n",
              "    <tr>\n",
              "        <td>1</td>\n",
              "        <td>Victoria</td>\n",
              "        <td>34</td>\n",
              "        <td>Buenos Aires</td>\n",
              "    </tr>\n",
              "    <tr>\n",
              "        <td>2</td>\n",
              "        <td>Mary</td>\n",
              "        <td>43</td>\n",
              "        <td>Santiago</td>\n",
              "    </tr>\n",
              "    <tr>\n",
              "        <td>3</td>\n",
              "        <td>Martin</td>\n",
              "        <td>40</td>\n",
              "        <td>Buenos Aires</td>\n",
              "    </tr>\n",
              "    <tr>\n",
              "        <td>4</td>\n",
              "        <td>Mark</td>\n",
              "        <td>25</td>\n",
              "        <td>Buenos Aires</td>\n",
              "    </tr>\n",
              "    <tr>\n",
              "        <td>25</td>\n",
              "        <td>LAvi</td>\n",
              "        <td>24</td>\n",
              "        <td>Sanremo</td>\n",
              "    </tr>\n",
              "</table>"
            ],
            "text/plain": [
              "[(0, 'Juan', 23, 'Miami'),\n",
              " (1, 'Victoria', 34, 'Buenos Aires'),\n",
              " (2, 'Mary', 43, 'Santiago'),\n",
              " (3, 'Martin', 40, 'Buenos Aires'),\n",
              " (4, 'Mark', 25, 'Buenos Aires'),\n",
              " (25, 'LAvi', 24, 'Sanremo')]"
            ]
          },
          "execution_count": 43,
          "metadata": {},
          "output_type": "execute_result"
        }
      ],
      "source": [
        "%%sql\n",
        "SELECT *\n",
        "FROM people"
      ]
    },
    {
      "cell_type": "code",
      "execution_count": null,
      "metadata": {
        "id": "jeFCr4ZEhpgS",
        "outputId": "c50a1c66-965f-43ce-a700-244415564b44"
      },
      "outputs": [
        {
          "name": "stdout",
          "output_type": "stream",
          "text": [
            " * sqlite:///jupyter_sql_tutorial.db\n",
            "Done.\n"
          ]
        },
        {
          "data": {
            "text/html": [
              "<table>\n",
              "    <tr>\n",
              "        <th>COUNT(city)</th>\n",
              "    </tr>\n",
              "    <tr>\n",
              "        <td>3</td>\n",
              "    </tr>\n",
              "</table>"
            ],
            "text/plain": [
              "[(3,)]"
            ]
          },
          "execution_count": 44,
          "metadata": {},
          "output_type": "execute_result"
        }
      ],
      "source": [
        "%%sql\n",
        "SELECT COUNT(city)\n",
        "FROM people\n",
        "Where city ==\"Buenos Aires\"\n"
      ]
    },
    {
      "cell_type": "markdown",
      "metadata": {
        "id": "ecHav78ChpgS"
      },
      "source": [
        "![image.png](https://raw.githubusercontent.com/trisha00001/file/main/s13.png)"
      ]
    },
    {
      "cell_type": "markdown",
      "source": [
        "![image-2.png](https://raw.githubusercontent.com/trisha00001/file/main/s19.png)"
      ],
      "metadata": {
        "id": "WnXHIbO0jsua"
      }
    },
    {
      "cell_type": "code",
      "execution_count": null,
      "metadata": {
        "id": "FbMkUB5yhpgS",
        "outputId": "be1e66ae-777e-4ea4-d251-61133c066120"
      },
      "outputs": [
        {
          "name": "stdout",
          "output_type": "stream",
          "text": [
            " * sqlite:///jupyter_sql_tutorial.db\n",
            "Done.\n"
          ]
        },
        {
          "data": {
            "text/html": [
              "<table>\n",
              "    <tr>\n",
              "        <th>city</th>\n",
              "        <th>name</th>\n",
              "    </tr>\n",
              "    <tr>\n",
              "        <td>Santiago</td>\n",
              "        <td>Mary</td>\n",
              "    </tr>\n",
              "    <tr>\n",
              "        <td>Buenos Aires</td>\n",
              "        <td>Martin</td>\n",
              "    </tr>\n",
              "    <tr>\n",
              "        <td>Buenos Aires</td>\n",
              "        <td>Mark</td>\n",
              "    </tr>\n",
              "</table>"
            ],
            "text/plain": [
              "[('Santiago', 'Mary'), ('Buenos Aires', 'Martin'), ('Buenos Aires', 'Mark')]"
            ]
          },
          "execution_count": 45,
          "metadata": {},
          "output_type": "execute_result"
        }
      ],
      "source": [
        "%%sql\n",
        "SELECT city,name\n",
        "FROM people\n",
        "WHERE name LIKE 'M%'"
      ]
    },
    {
      "cell_type": "code",
      "execution_count": null,
      "metadata": {
        "id": "f4l49IvIhpgS",
        "outputId": "390621b1-7cf7-40ea-9876-150f19be1609"
      },
      "outputs": [
        {
          "name": "stdout",
          "output_type": "stream",
          "text": [
            " * sqlite:///jupyter_sql_tutorial.db\n",
            "Done.\n"
          ]
        },
        {
          "data": {
            "text/html": [
              "<table>\n",
              "    <tr>\n",
              "        <th>city</th>\n",
              "        <th>name</th>\n",
              "    </tr>\n",
              "    <tr>\n",
              "        <td>Santiago</td>\n",
              "        <td>Mary</td>\n",
              "    </tr>\n",
              "    <tr>\n",
              "        <td>Buenos Aires</td>\n",
              "        <td>Martin</td>\n",
              "    </tr>\n",
              "    <tr>\n",
              "        <td>Buenos Aires</td>\n",
              "        <td>Mark</td>\n",
              "    </tr>\n",
              "</table>"
            ],
            "text/plain": [
              "[('Santiago', 'Mary'), ('Buenos Aires', 'Martin'), ('Buenos Aires', 'Mark')]"
            ]
          },
          "execution_count": 46,
          "metadata": {},
          "output_type": "execute_result"
        }
      ],
      "source": [
        "%%sql\n",
        "SELECT city,name\n",
        "FROM people\n",
        "WHERE name  LIKE '__r%'"
      ]
    },
    {
      "cell_type": "markdown",
      "metadata": {
        "id": "Wgu2zi4thpgS"
      },
      "source": [
        "![image.png](https://raw.githubusercontent.com/trisha00001/file/main/s15.png)"
      ]
    },
    {
      "cell_type": "code",
      "execution_count": null,
      "metadata": {
        "scrolled": true,
        "id": "M_ggQRKMhpgT",
        "outputId": "d0555491-ee2e-48ef-ffdb-98dffc2ea921"
      },
      "outputs": [
        {
          "name": "stdout",
          "output_type": "stream",
          "text": [
            " * sqlite:///jupyter_sql_tutorial.db\n",
            "Done.\n"
          ]
        },
        {
          "data": {
            "text/html": [
              "<table>\n",
              "    <tr>\n",
              "        <th>index</th>\n",
              "        <th>name</th>\n",
              "        <th>age</th>\n",
              "        <th>city</th>\n",
              "    </tr>\n",
              "    <tr>\n",
              "        <td>2</td>\n",
              "        <td>Mary</td>\n",
              "        <td>43</td>\n",
              "        <td>Santiago</td>\n",
              "    </tr>\n",
              "    <tr>\n",
              "        <td>3</td>\n",
              "        <td>Martin</td>\n",
              "        <td>40</td>\n",
              "        <td>Buenos Aires</td>\n",
              "    </tr>\n",
              "</table>"
            ],
            "text/plain": [
              "[(2, 'Mary', 43, 'Santiago'), (3, 'Martin', 40, 'Buenos Aires')]"
            ]
          },
          "execution_count": 47,
          "metadata": {},
          "output_type": "execute_result"
        }
      ],
      "source": [
        "%%sql\n",
        "SELECT *\n",
        "FROM people\n",
        "WHERE name IN ('Mary', 'Martin');"
      ]
    },
    {
      "cell_type": "markdown",
      "metadata": {
        "id": "mV4WcFhwhpgV"
      },
      "source": [
        "![image.png](https://raw.githubusercontent.com/trisha00001/file/main/s16.png)"
      ]
    },
    {
      "cell_type": "code",
      "execution_count": null,
      "metadata": {
        "id": "0F7eZWjlhpgT",
        "outputId": "4fad5efe-9456-49da-cb5b-3d6cfaedc6f4"
      },
      "outputs": [
        {
          "name": "stdout",
          "output_type": "stream",
          "text": [
            " * sqlite:///jupyter_sql_tutorial.db\n",
            "Done.\n"
          ]
        },
        {
          "data": {
            "text/html": [
              "<table>\n",
              "    <tr>\n",
              "        <th>index</th>\n",
              "        <th>name</th>\n",
              "        <th>age</th>\n",
              "        <th>city</th>\n",
              "    </tr>\n",
              "    <tr>\n",
              "        <td>1</td>\n",
              "        <td>Victoria</td>\n",
              "        <td>34</td>\n",
              "        <td>Buenos Aires</td>\n",
              "    </tr>\n",
              "    <tr>\n",
              "        <td>3</td>\n",
              "        <td>Martin</td>\n",
              "        <td>40</td>\n",
              "        <td>Buenos Aires</td>\n",
              "    </tr>\n",
              "    <tr>\n",
              "        <td>4</td>\n",
              "        <td>Mark</td>\n",
              "        <td>25</td>\n",
              "        <td>Buenos Aires</td>\n",
              "    </tr>\n",
              "</table>"
            ],
            "text/plain": [
              "[(1, 'Victoria', 34, 'Buenos Aires'),\n",
              " (3, 'Martin', 40, 'Buenos Aires'),\n",
              " (4, 'Mark', 25, 'Buenos Aires')]"
            ]
          },
          "execution_count": 48,
          "metadata": {},
          "output_type": "execute_result"
        }
      ],
      "source": [
        "%%sql\n",
        "SELECT *\n",
        "FROM people\n",
        "WHERE age BETWEEN 25 AND 40"
      ]
    },
    {
      "cell_type": "code",
      "execution_count": null,
      "metadata": {
        "id": "Vrfdl3TXhpgT",
        "outputId": "89fc5758-61e9-4b06-8d94-b69a83a1146e"
      },
      "outputs": [
        {
          "name": "stdout",
          "output_type": "stream",
          "text": [
            " * sqlite:///jupyter_sql_tutorial.db\n",
            "Done.\n"
          ]
        },
        {
          "data": {
            "text/html": [
              "<table>\n",
              "    <tr>\n",
              "        <th>Имя</th>\n",
              "        <th>Возраст</th>\n",
              "    </tr>\n",
              "    <tr>\n",
              "        <td>Juan</td>\n",
              "        <td>23</td>\n",
              "    </tr>\n",
              "    <tr>\n",
              "        <td>Victoria</td>\n",
              "        <td>34</td>\n",
              "    </tr>\n",
              "    <tr>\n",
              "        <td>Mary</td>\n",
              "        <td>43</td>\n",
              "    </tr>\n",
              "    <tr>\n",
              "        <td>Martin</td>\n",
              "        <td>40</td>\n",
              "    </tr>\n",
              "    <tr>\n",
              "        <td>Mark</td>\n",
              "        <td>25</td>\n",
              "    </tr>\n",
              "    <tr>\n",
              "        <td>LAvi</td>\n",
              "        <td>24</td>\n",
              "    </tr>\n",
              "</table>"
            ],
            "text/plain": [
              "[('Juan', 23),\n",
              " ('Victoria', 34),\n",
              " ('Mary', 43),\n",
              " ('Martin', 40),\n",
              " ('Mark', 25),\n",
              " ('LAvi', 24)]"
            ]
          },
          "execution_count": 49,
          "metadata": {},
          "output_type": "execute_result"
        }
      ],
      "source": [
        "%%sql\n",
        "SELECT name as 'Имя', age as 'Возраст'\n",
        "FROM people\n"
      ]
    },
    {
      "cell_type": "code",
      "execution_count": null,
      "metadata": {
        "id": "fSjT2StPhpgT",
        "outputId": "1aa6057e-be6b-4e8c-b263-0f6113ef70f7"
      },
      "outputs": [
        {
          "name": "stdout",
          "output_type": "stream",
          "text": [
            " * sqlite:///jupyter_sql_tutorial.db\n",
            "Done.\n"
          ]
        },
        {
          "data": {
            "text/plain": [
              "[]"
            ]
          },
          "execution_count": 50,
          "metadata": {},
          "output_type": "execute_result"
        }
      ],
      "source": [
        "%%sql\n",
        "CREATE TABLE zarp\n",
        "(\n",
        "    key      integer,\n",
        "    name  varchar(6),\n",
        "    price     float\n",
        ");\n"
      ]
    },
    {
      "cell_type": "code",
      "execution_count": null,
      "metadata": {
        "id": "YUxZdrQKhpgT",
        "outputId": "5035d247-d052-45d1-bd35-08602c584477"
      },
      "outputs": [
        {
          "name": "stdout",
          "output_type": "stream",
          "text": [
            " * sqlite:///jupyter_sql_tutorial.db\n",
            "1 rows affected.\n"
          ]
        },
        {
          "data": {
            "text/plain": [
              "[]"
            ]
          },
          "execution_count": 51,
          "metadata": {},
          "output_type": "execute_result"
        }
      ],
      "source": [
        "%%sql\n",
        "INSERT INTO zarp\n",
        "VALUES (1,'Mark', 14.08);\n"
      ]
    },
    {
      "cell_type": "code",
      "execution_count": null,
      "metadata": {
        "id": "F1hhn9mphpgU",
        "outputId": "4fefd704-b880-41cd-aae1-f062dee40237"
      },
      "outputs": [
        {
          "name": "stdout",
          "output_type": "stream",
          "text": [
            " * sqlite:///jupyter_sql_tutorial.db\n",
            "1 rows affected.\n"
          ]
        },
        {
          "data": {
            "text/plain": [
              "[]"
            ]
          },
          "execution_count": 52,
          "metadata": {},
          "output_type": "execute_result"
        }
      ],
      "source": [
        "%%sql\n",
        "INSERT INTO zarp\n",
        "VALUES (2,'LAvi', 24.90);"
      ]
    },
    {
      "cell_type": "code",
      "execution_count": null,
      "metadata": {
        "id": "bkOf2J5VhpgU",
        "outputId": "334cff2f-7ef7-4863-e6d2-53ca720bca31"
      },
      "outputs": [
        {
          "name": "stdout",
          "output_type": "stream",
          "text": [
            " * sqlite:///jupyter_sql_tutorial.db\n",
            "Done.\n"
          ]
        },
        {
          "data": {
            "text/html": [
              "<table>\n",
              "    <tr>\n",
              "        <th>key</th>\n",
              "        <th>name</th>\n",
              "        <th>price</th>\n",
              "    </tr>\n",
              "    <tr>\n",
              "        <td>1</td>\n",
              "        <td>Mark</td>\n",
              "        <td>14.08</td>\n",
              "    </tr>\n",
              "    <tr>\n",
              "        <td>2</td>\n",
              "        <td>LAvi</td>\n",
              "        <td>24.9</td>\n",
              "    </tr>\n",
              "</table>"
            ],
            "text/plain": [
              "[(1, 'Mark', 14.08), (2, 'LAvi', 24.9)]"
            ]
          },
          "execution_count": 53,
          "metadata": {},
          "output_type": "execute_result"
        }
      ],
      "source": [
        "%%sql\n",
        "select * from zarp"
      ]
    },
    {
      "cell_type": "code",
      "execution_count": null,
      "metadata": {
        "id": "1VgwfEb9hpgU",
        "outputId": "7fdabed0-c289-4a55-c6c6-df9413b3b994"
      },
      "outputs": [
        {
          "name": "stdout",
          "output_type": "stream",
          "text": [
            " * sqlite:///jupyter_sql_tutorial.db\n",
            "1 rows affected.\n"
          ]
        },
        {
          "data": {
            "text/plain": [
              "[]"
            ]
          },
          "execution_count": 54,
          "metadata": {},
          "output_type": "execute_result"
        }
      ],
      "source": [
        "%%sql\n",
        "INSERT INTO zarp\n",
        "VALUES (9,'Av', 50.90);"
      ]
    },
    {
      "cell_type": "code",
      "execution_count": null,
      "metadata": {
        "id": "_uDsblp9hpgU",
        "outputId": "bfea21f0-dc3f-45e0-baf8-97eabab98f48"
      },
      "outputs": [
        {
          "name": "stdout",
          "output_type": "stream",
          "text": [
            " * sqlite:///jupyter_sql_tutorial.db\n",
            "Done.\n"
          ]
        },
        {
          "data": {
            "text/html": [
              "<table>\n",
              "    <tr>\n",
              "        <th>key</th>\n",
              "        <th>name</th>\n",
              "        <th>price</th>\n",
              "    </tr>\n",
              "    <tr>\n",
              "        <td>1</td>\n",
              "        <td>Mark</td>\n",
              "        <td>14.08</td>\n",
              "    </tr>\n",
              "    <tr>\n",
              "        <td>2</td>\n",
              "        <td>LAvi</td>\n",
              "        <td>24.9</td>\n",
              "    </tr>\n",
              "    <tr>\n",
              "        <td>9</td>\n",
              "        <td>Av</td>\n",
              "        <td>50.9</td>\n",
              "    </tr>\n",
              "</table>"
            ],
            "text/plain": [
              "[(1, 'Mark', 14.08), (2, 'LAvi', 24.9), (9, 'Av', 50.9)]"
            ]
          },
          "execution_count": 55,
          "metadata": {},
          "output_type": "execute_result"
        }
      ],
      "source": [
        "%%sql\n",
        "Select *\n",
        "from zarp"
      ]
    },
    {
      "cell_type": "code",
      "execution_count": null,
      "metadata": {
        "id": "ncjmkJ_OhpgU",
        "outputId": "9bdf92a6-a3d9-4525-c6be-36a501a46593"
      },
      "outputs": [
        {
          "name": "stdout",
          "output_type": "stream",
          "text": [
            " * sqlite:///jupyter_sql_tutorial.db\n",
            "Done.\n"
          ]
        },
        {
          "data": {
            "text/html": [
              "<table>\n",
              "    <tr>\n",
              "        <th>index</th>\n",
              "        <th>name</th>\n",
              "        <th>age</th>\n",
              "        <th>city</th>\n",
              "    </tr>\n",
              "    <tr>\n",
              "        <td>0</td>\n",
              "        <td>Juan</td>\n",
              "        <td>23</td>\n",
              "        <td>Miami</td>\n",
              "    </tr>\n",
              "    <tr>\n",
              "        <td>1</td>\n",
              "        <td>Victoria</td>\n",
              "        <td>34</td>\n",
              "        <td>Buenos Aires</td>\n",
              "    </tr>\n",
              "    <tr>\n",
              "        <td>2</td>\n",
              "        <td>Mary</td>\n",
              "        <td>43</td>\n",
              "        <td>Santiago</td>\n",
              "    </tr>\n",
              "    <tr>\n",
              "        <td>3</td>\n",
              "        <td>Martin</td>\n",
              "        <td>40</td>\n",
              "        <td>Buenos Aires</td>\n",
              "    </tr>\n",
              "    <tr>\n",
              "        <td>4</td>\n",
              "        <td>Mark</td>\n",
              "        <td>25</td>\n",
              "        <td>Buenos Aires</td>\n",
              "    </tr>\n",
              "    <tr>\n",
              "        <td>25</td>\n",
              "        <td>LAvi</td>\n",
              "        <td>24</td>\n",
              "        <td>Sanremo</td>\n",
              "    </tr>\n",
              "</table>"
            ],
            "text/plain": [
              "[(0, 'Juan', 23, 'Miami'),\n",
              " (1, 'Victoria', 34, 'Buenos Aires'),\n",
              " (2, 'Mary', 43, 'Santiago'),\n",
              " (3, 'Martin', 40, 'Buenos Aires'),\n",
              " (4, 'Mark', 25, 'Buenos Aires'),\n",
              " (25, 'LAvi', 24, 'Sanremo')]"
            ]
          },
          "execution_count": 56,
          "metadata": {},
          "output_type": "execute_result"
        }
      ],
      "source": [
        "%%sql\n",
        "Select *\n",
        "from people\n"
      ]
    },
    {
      "cell_type": "code",
      "execution_count": null,
      "metadata": {
        "id": "1gvSU9QJhpgV"
      },
      "outputs": [],
      "source": [
        "%%sql\n",
        "Select *\n",
        "from zarp"
      ]
    },
    {
      "cell_type": "markdown",
      "source": [
        "<H2/>JOIN\n",
        "\n",
        "JOIN-соединения – операции\n",
        "горизонтального соединения данных.\n",
        "\n",
        "Cуть операции объединения - склеить\n",
        "разбитые по таблицам данные ,т.е.\n",
        "привести их обратно в человеческий вид.\n",
        "JOIN объединяет строки из двух или более\n",
        "таблиц, на основе связи между ними (ключей)."
      ],
      "metadata": {
        "id": "5vUyponOwEfP"
      }
    },
    {
      "cell_type": "markdown",
      "metadata": {
        "id": "G4Xuia8OhpgV"
      },
      "source": [
        "![image.png](https://raw.githubusercontent.com/trisha00001/file/main/s18.png)"
      ]
    },
    {
      "cell_type": "markdown",
      "metadata": {
        "id": "Qv0EZSpShpgY"
      },
      "source": [
        "![image.png](https://raw.githubusercontent.com/trisha00001/file/main/S20.png)"
      ]
    },
    {
      "cell_type": "markdown",
      "metadata": {
        "id": "WaDLYbDnhpgY"
      },
      "source": [
        "![image.png](https://raw.githubusercontent.com/trisha00001/file/main/S21.png)"
      ]
    },
    {
      "cell_type": "code",
      "execution_count": null,
      "metadata": {
        "scrolled": true,
        "id": "deIXi5orhpgV",
        "outputId": "9a66d30d-7f5a-4acf-b108-3fa5a512b9b5"
      },
      "outputs": [
        {
          "name": "stdout",
          "output_type": "stream",
          "text": [
            " * sqlite:///jupyter_sql_tutorial.db\n",
            "Done.\n"
          ]
        },
        {
          "data": {
            "text/html": [
              "<table>\n",
              "    <tr>\n",
              "        <th>key</th>\n",
              "        <th>name</th>\n",
              "        <th>price</th>\n",
              "        <th>index</th>\n",
              "        <th>name_1</th>\n",
              "        <th>age</th>\n",
              "        <th>city</th>\n",
              "    </tr>\n",
              "    <tr>\n",
              "        <td>1</td>\n",
              "        <td>Mark</td>\n",
              "        <td>14.08</td>\n",
              "        <td>4</td>\n",
              "        <td>Mark</td>\n",
              "        <td>25</td>\n",
              "        <td>Buenos Aires</td>\n",
              "    </tr>\n",
              "    <tr>\n",
              "        <td>2</td>\n",
              "        <td>LAvi</td>\n",
              "        <td>24.9</td>\n",
              "        <td>25</td>\n",
              "        <td>LAvi</td>\n",
              "        <td>24</td>\n",
              "        <td>Sanremo</td>\n",
              "    </tr>\n",
              "</table>"
            ],
            "text/plain": [
              "[(1, 'Mark', 14.08, 4, 'Mark', 25, 'Buenos Aires'),\n",
              " (2, 'LAvi', 24.9, 25, 'LAvi', 24, 'Sanremo')]"
            ]
          },
          "execution_count": 57,
          "metadata": {},
          "output_type": "execute_result"
        }
      ],
      "source": [
        "%%sql\n",
        "Select Distinct*\n",
        "from zarp\n",
        "INNER Join people on zarp.name = people.name"
      ]
    },
    {
      "cell_type": "markdown",
      "metadata": {
        "id": "jXB6rT_IhpgW"
      },
      "source": [
        "![image.png](https://github.com/trisha00001/file/blob/main/S22.png?raw=true))"
      ]
    },
    {
      "cell_type": "markdown",
      "source": [
        "![image.png](https://github.com/trisha00001/file/blob/main/S23.png?raw=true))"
      ],
      "metadata": {
        "id": "MFYhMz03ydKJ"
      }
    },
    {
      "cell_type": "code",
      "execution_count": null,
      "metadata": {
        "id": "ik6iJ56yhpgV",
        "outputId": "ed0f48fb-36a9-4fee-b0dc-c223041a33e6"
      },
      "outputs": [
        {
          "name": "stdout",
          "output_type": "stream",
          "text": [
            " * sqlite:///jupyter_sql_tutorial.db\n",
            "Done.\n"
          ]
        },
        {
          "data": {
            "text/html": [
              "<table>\n",
              "    <tr>\n",
              "        <th>key</th>\n",
              "        <th>name</th>\n",
              "        <th>price</th>\n",
              "        <th>index</th>\n",
              "        <th>name_1</th>\n",
              "        <th>age</th>\n",
              "        <th>city</th>\n",
              "    </tr>\n",
              "    <tr>\n",
              "        <td>1</td>\n",
              "        <td>Mark</td>\n",
              "        <td>14.08</td>\n",
              "        <td>4</td>\n",
              "        <td>Mark</td>\n",
              "        <td>25</td>\n",
              "        <td>Buenos Aires</td>\n",
              "    </tr>\n",
              "    <tr>\n",
              "        <td>2</td>\n",
              "        <td>LAvi</td>\n",
              "        <td>24.9</td>\n",
              "        <td>25</td>\n",
              "        <td>LAvi</td>\n",
              "        <td>24</td>\n",
              "        <td>Sanremo</td>\n",
              "    </tr>\n",
              "    <tr>\n",
              "        <td>9</td>\n",
              "        <td>Av</td>\n",
              "        <td>50.9</td>\n",
              "        <td>None</td>\n",
              "        <td>None</td>\n",
              "        <td>None</td>\n",
              "        <td>None</td>\n",
              "    </tr>\n",
              "</table>"
            ],
            "text/plain": [
              "[(1, 'Mark', 14.08, 4, 'Mark', 25, 'Buenos Aires'),\n",
              " (2, 'LAvi', 24.9, 25, 'LAvi', 24, 'Sanremo'),\n",
              " (9, 'Av', 50.9, None, None, None, None)]"
            ]
          },
          "execution_count": 58,
          "metadata": {},
          "output_type": "execute_result"
        }
      ],
      "source": [
        "%%sql\n",
        "Select Distinct*\n",
        "from zarp\n",
        "Left Join people on zarp.name = people.name"
      ]
    },
    {
      "cell_type": "markdown",
      "source": [
        "![image.png](https://github.com/trisha00001/file/blob/main/S24.png?raw=true))"
      ],
      "metadata": {
        "id": "QU17-UpIyk6A"
      }
    },
    {
      "cell_type": "markdown",
      "source": [
        "![image.png](https://github.com/trisha00001/file/blob/main/S25.png?raw=true)"
      ],
      "metadata": {
        "id": "dmE32qs0yg8p"
      }
    },
    {
      "cell_type": "code",
      "execution_count": null,
      "metadata": {
        "id": "a9QlW0F0hpgW",
        "outputId": "c54102f9-0035-4920-df21-2b0d1bebdace"
      },
      "outputs": [
        {
          "name": "stdout",
          "output_type": "stream",
          "text": [
            " * sqlite:///jupyter_sql_tutorial.db\n",
            "(sqlite3.OperationalError) RIGHT and FULL OUTER JOINs are not currently supported\n",
            "[SQL: Select Distinct* from zarp\n",
            "Right Join people on zarp.name = people.name]\n",
            "(Background on this error at: http://sqlalche.me/e/13/e3q8)\n"
          ]
        }
      ],
      "source": [
        "%%sql\n",
        "Select Distinct*\n",
        "from zarp\n",
        "Right Join people on zarp.name = people.name"
      ]
    },
    {
      "cell_type": "code",
      "execution_count": null,
      "metadata": {
        "id": "9i_XdA3uhpgX",
        "outputId": "1a63c5cd-61b9-4715-93bc-a694f600f948"
      },
      "outputs": [
        {
          "name": "stdout",
          "output_type": "stream",
          "text": [
            " * sqlite:///jupyter_sql_tutorial.db\n",
            "Done.\n"
          ]
        },
        {
          "data": {
            "text/html": [
              "<table>\n",
              "    <tr>\n",
              "        <th>index</th>\n",
              "        <th>name</th>\n",
              "        <th>age</th>\n",
              "        <th>city</th>\n",
              "        <th>key</th>\n",
              "        <th>name_1</th>\n",
              "        <th>price</th>\n",
              "    </tr>\n",
              "    <tr>\n",
              "        <td>0</td>\n",
              "        <td>Juan</td>\n",
              "        <td>23</td>\n",
              "        <td>Miami</td>\n",
              "        <td>None</td>\n",
              "        <td>None</td>\n",
              "        <td>None</td>\n",
              "    </tr>\n",
              "    <tr>\n",
              "        <td>1</td>\n",
              "        <td>Victoria</td>\n",
              "        <td>34</td>\n",
              "        <td>Buenos Aires</td>\n",
              "        <td>None</td>\n",
              "        <td>None</td>\n",
              "        <td>None</td>\n",
              "    </tr>\n",
              "    <tr>\n",
              "        <td>2</td>\n",
              "        <td>Mary</td>\n",
              "        <td>43</td>\n",
              "        <td>Santiago</td>\n",
              "        <td>None</td>\n",
              "        <td>None</td>\n",
              "        <td>None</td>\n",
              "    </tr>\n",
              "    <tr>\n",
              "        <td>3</td>\n",
              "        <td>Martin</td>\n",
              "        <td>40</td>\n",
              "        <td>Buenos Aires</td>\n",
              "        <td>None</td>\n",
              "        <td>None</td>\n",
              "        <td>None</td>\n",
              "    </tr>\n",
              "    <tr>\n",
              "        <td>4</td>\n",
              "        <td>Mark</td>\n",
              "        <td>25</td>\n",
              "        <td>Buenos Aires</td>\n",
              "        <td>1</td>\n",
              "        <td>Mark</td>\n",
              "        <td>14.08</td>\n",
              "    </tr>\n",
              "    <tr>\n",
              "        <td>25</td>\n",
              "        <td>LAvi</td>\n",
              "        <td>24</td>\n",
              "        <td>Sanremo</td>\n",
              "        <td>2</td>\n",
              "        <td>LAvi</td>\n",
              "        <td>24.9</td>\n",
              "    </tr>\n",
              "</table>"
            ],
            "text/plain": [
              "[(0, 'Juan', 23, 'Miami', None, None, None),\n",
              " (1, 'Victoria', 34, 'Buenos Aires', None, None, None),\n",
              " (2, 'Mary', 43, 'Santiago', None, None, None),\n",
              " (3, 'Martin', 40, 'Buenos Aires', None, None, None),\n",
              " (4, 'Mark', 25, 'Buenos Aires', 1, 'Mark', 14.08),\n",
              " (25, 'LAvi', 24, 'Sanremo', 2, 'LAvi', 24.9)]"
            ]
          },
          "execution_count": 61,
          "metadata": {},
          "output_type": "execute_result"
        }
      ],
      "source": [
        "%%sql\n",
        "Select Distinct*\n",
        "from people\n",
        "Left Join zarp on people.name = zarp.name"
      ]
    },
    {
      "cell_type": "markdown",
      "metadata": {
        "id": "ksumbqB7hpgX"
      },
      "source": [
        "#### Соединения\n",
        "\n",
        "JOIN широко используется в нормализованных данных для того, чтобы мы могли денормализовать информацию. Аналитики, которые работают в сильных реляционных базах данных, часто имеют полдюжины соединений в своих запросах."
      ]
    },
    {
      "cell_type": "markdown",
      "metadata": {
        "id": "BOXIb6dphpgX"
      },
      "source": [
        "\n",
        "\n",
        "```SQL\n",
        "SELECT ...\n",
        "FROM orders\n",
        "INNER JOIN order_amounts a on a.order_id = orders.id\n",
        "INNER JOIN order_items i on i.order_id = orders.id\n",
        "INNER JOIN variants v on v.id = i.variant_id\n",
        "INNER JOIN products p on p.id = v.product_id\n",
        "INNER JOIN suppliers s on s.id = v.supplier_id\n",
        "INNER JOIN addresses ad on ad.addressable_type = 'Supplier' and ad.addressable_id = s.id\n",
        "...;\n",
        "```\n",
        "\n",
        "Basic Example:\n",
        "\n",
        "```SQL\n",
        "SELECT\n",
        "    t1.c1,\n",
        "    t1.c2,\n",
        "    t2.c2\n",
        "FROM t1\n",
        "INNER JOIN t2 ON t1.c1 = t2.c2;\n",
        "```\n",
        "\n",
        "***pandas***\n",
        "```python\n",
        "t1.join(t2, on='c2')\n",
        "```\n",
        "***end_pandas***\n",
        "\n",
        "\n",
        "There are several join types used, despite the above only using one: `INNER JOIN`.\n",
        "\n",
        "<img src='img/sql_join_venn.jpg' />\n",
        "\n",
        "Note that using JOIN introduces potential change in our data context: One to Many and Many to Many relationships.\n",
        "\n",
        "<img src='img/relationships.png'  style='width: 50%;'/>\n",
        "\n",
        "\n",
        "\n",
        "#####Troubleshooting JOINs\n",
        "\n",
        "Make sure that your results are as expected, so consider what the observation is (the row), and rule check other columns:\n",
        "\n",
        "* is your expected unique column unique?\n",
        "* Is there duplicate data elsewhere?\n",
        "\n",
        "A common check to see if your data is not unique is throwing a HAVING clause in your JOIN."
      ]
    },
    {
      "cell_type": "markdown",
      "source": [
        "<H1/> GROUP BY"
      ],
      "metadata": {
        "id": "07NNXJkkzKNB"
      }
    },
    {
      "cell_type": "markdown",
      "source": [
        "Предложение GROUP BY используется для определения групп, к\n",
        "которым могут применяться агрегатные функции\n",
        "(COUNT, MIN, MAX, AVG и SUM).\n",
        "\n",
        "Если Group by отсутствует, и используются агрегатные функции, то\n",
        "все столбцы с именами, упомянутыми в SELECT, должны быть\n",
        "включены в агрегатные функции, и эти функции будут применяться\n",
        "ко всему набору строк. В противном случае все столбцы\n",
        "списка SELECT, не вошедшие в агрегатные функции, должны быть\n",
        "указаны в предложении GROUP BY. В результате чего все\n",
        "выходные строки запроса разбиваются на группы, характеризуемые\n",
        "одинаковыми комбинациями значений в этих столбцах. После чего к\n",
        "каждой группе будут применены агрегатные функции.\n",
        "\n",
        "Если при наличии предложения GROUP BY, в предложении\n",
        "SELECT отсутствуют агрегатные функции, то запрос просто вернет\n",
        "по одной строке из каждой группы.."
      ],
      "metadata": {
        "id": "M5Ai-fCZy8qp"
      }
    },
    {
      "cell_type": "markdown",
      "source": [
        "![image.png](https://raw.githubusercontent.com/trisha00001/file/main/s35.png)"
      ],
      "metadata": {
        "id": "xyJVPB2VytZQ"
      }
    },
    {
      "cell_type": "code",
      "execution_count": null,
      "metadata": {
        "id": "MF_1lN6BhpgY",
        "outputId": "9a2cb397-2dfa-414d-b08c-db6ab7f242d1"
      },
      "outputs": [
        {
          "name": "stdout",
          "output_type": "stream",
          "text": [
            " * sqlite:///jupyter_sql_tutorial.db\n",
            "Done.\n"
          ]
        },
        {
          "data": {
            "text/html": [
              "<table>\n",
              "    <tr>\n",
              "        <th>index</th>\n",
              "        <th>name</th>\n",
              "        <th>age</th>\n",
              "        <th>city</th>\n",
              "    </tr>\n",
              "    <tr>\n",
              "        <td>0</td>\n",
              "        <td>Juan</td>\n",
              "        <td>23</td>\n",
              "        <td>Miami</td>\n",
              "    </tr>\n",
              "    <tr>\n",
              "        <td>1</td>\n",
              "        <td>Victoria</td>\n",
              "        <td>34</td>\n",
              "        <td>Buenos Aires</td>\n",
              "    </tr>\n",
              "    <tr>\n",
              "        <td>2</td>\n",
              "        <td>Mary</td>\n",
              "        <td>43</td>\n",
              "        <td>Santiago</td>\n",
              "    </tr>\n",
              "    <tr>\n",
              "        <td>3</td>\n",
              "        <td>Martin</td>\n",
              "        <td>40</td>\n",
              "        <td>Buenos Aires</td>\n",
              "    </tr>\n",
              "    <tr>\n",
              "        <td>4</td>\n",
              "        <td>Mark</td>\n",
              "        <td>25</td>\n",
              "        <td>Buenos Aires</td>\n",
              "    </tr>\n",
              "    <tr>\n",
              "        <td>25</td>\n",
              "        <td>LAvi</td>\n",
              "        <td>24</td>\n",
              "        <td>Sanremo</td>\n",
              "    </tr>\n",
              "</table>"
            ],
            "text/plain": [
              "[(0, 'Juan', 23, 'Miami'),\n",
              " (1, 'Victoria', 34, 'Buenos Aires'),\n",
              " (2, 'Mary', 43, 'Santiago'),\n",
              " (3, 'Martin', 40, 'Buenos Aires'),\n",
              " (4, 'Mark', 25, 'Buenos Aires'),\n",
              " (25, 'LAvi', 24, 'Sanremo')]"
            ]
          },
          "execution_count": 62,
          "metadata": {},
          "output_type": "execute_result"
        }
      ],
      "source": [
        "%%sql\n",
        "SELECT *\n",
        "FROM people"
      ]
    },
    {
      "cell_type": "code",
      "execution_count": null,
      "metadata": {
        "id": "k3fuXkW4hpgY",
        "outputId": "0a7a85aa-51ee-43b0-94b9-abc575d20398"
      },
      "outputs": [
        {
          "name": "stdout",
          "output_type": "stream",
          "text": [
            " * sqlite:///jupyter_sql_tutorial.db\n",
            "Done.\n"
          ]
        },
        {
          "data": {
            "text/html": [
              "<table>\n",
              "    <tr>\n",
              "        <th>city</th>\n",
              "        <th>count(city)</th>\n",
              "    </tr>\n",
              "    <tr>\n",
              "        <td>Buenos Aires</td>\n",
              "        <td>3</td>\n",
              "    </tr>\n",
              "    <tr>\n",
              "        <td>Miami</td>\n",
              "        <td>1</td>\n",
              "    </tr>\n",
              "    <tr>\n",
              "        <td>Sanremo</td>\n",
              "        <td>1</td>\n",
              "    </tr>\n",
              "    <tr>\n",
              "        <td>Santiago</td>\n",
              "        <td>1</td>\n",
              "    </tr>\n",
              "</table>"
            ],
            "text/plain": [
              "[('Buenos Aires', 3), ('Miami', 1), ('Sanremo', 1), ('Santiago', 1)]"
            ]
          },
          "execution_count": 63,
          "metadata": {},
          "output_type": "execute_result"
        }
      ],
      "source": [
        "%%sql\n",
        "SELECT city, count(city)\n",
        "FROM people\n",
        "Group by city\n",
        "order by city"
      ]
    },
    {
      "cell_type": "code",
      "execution_count": null,
      "metadata": {
        "id": "Es2XV5nZhpgY",
        "outputId": "e7da5c40-cb90-404f-b2eb-22d828e03490"
      },
      "outputs": [
        {
          "name": "stdout",
          "output_type": "stream",
          "text": [
            " * sqlite:///jupyter_sql_tutorial.db\n",
            "Done.\n"
          ]
        },
        {
          "data": {
            "text/html": [
              "<table>\n",
              "    <tr>\n",
              "        <th>city</th>\n",
              "        <th>count(city)</th>\n",
              "    </tr>\n",
              "    <tr>\n",
              "        <td>Santiago</td>\n",
              "        <td>1</td>\n",
              "    </tr>\n",
              "    <tr>\n",
              "        <td>Sanremo</td>\n",
              "        <td>1</td>\n",
              "    </tr>\n",
              "    <tr>\n",
              "        <td>Miami</td>\n",
              "        <td>1</td>\n",
              "    </tr>\n",
              "    <tr>\n",
              "        <td>Buenos Aires</td>\n",
              "        <td>3</td>\n",
              "    </tr>\n",
              "</table>"
            ],
            "text/plain": [
              "[('Santiago', 1), ('Sanremo', 1), ('Miami', 1), ('Buenos Aires', 3)]"
            ]
          },
          "execution_count": 64,
          "metadata": {},
          "output_type": "execute_result"
        }
      ],
      "source": [
        "%%sql\n",
        "SELECT city, count(city)\n",
        "FROM people\n",
        "Group by city\n",
        "order by city DESC"
      ]
    },
    {
      "cell_type": "markdown",
      "metadata": {
        "id": "JqUDkHsMhpgY"
      },
      "source": [
        "#### Агрегация и  GROUP BY\n",
        "В этом стиле SELECT столбцы либо группируются по ключам, либо по агрегатам."
      ]
    },
    {
      "cell_type": "markdown",
      "metadata": {
        "id": "MPv1J8iHhpgZ"
      },
      "source": [
        "\n",
        "\n",
        "```SQL\n",
        "SELECT\n",
        "    col1,\n",
        "    AVG(col2)\n",
        "FROM table\n",
        "GROUP BY col1;\n",
        "```\n",
        "\n",
        "Пример\n",
        "```SQL\n",
        "SELECT\n",
        "    poll_date,\n",
        "    AVG(obama_pct)\n",
        "FROM polls\n",
        "GROUP BY poll_date;\n",
        "```\n",
        "\n",
        "***pandas***\n",
        "```python\n",
        "polls.groupby('poll_date').obama_pct.mean()\n",
        "```\n",
        "***end_pandas***"
      ]
    },
    {
      "cell_type": "markdown",
      "metadata": {
        "id": "89v2Wa7shpgZ"
      },
      "source": [
        "Примечания:\n",
        "\n",
        "1. Вы можете группировать и агрегировать столько столбцов, сколько захотите.\n",
        "2. Поля, которые НЕ используют агрегаты, должны находиться в группе by. Некоторые базы данных SQL выдают ошибки; другие дадут вам неправильные данные.\n",
        "3. Стандартные агрегаты включают : в основном агрегации, которые могут быть быстро решены. Например, реже является функцией, так как решение сложнее в SQL.STDDEV, MIN, MAX, COUNT, SUMMEDIAN\n",
        "\n",
        "Вопросы:\n",
        "\n",
        "1. Представьте себе поле poll_state. Как бы мы нашли максимальную obama_pct и romney_pct для каждого штата?\n",
        "2. Как бы мы вернули подсчет опросов по штатам и датам?"
      ]
    },
    {
      "cell_type": "markdown",
      "metadata": {
        "id": "RrMTeHzdhpga"
      },
      "source": [
        "![image.png](https://raw.githubusercontent.com/trisha00001/file/main/s36.png)"
      ]
    },
    {
      "cell_type": "code",
      "execution_count": null,
      "metadata": {
        "id": "Che4U1X7hpga",
        "outputId": "54af09f7-021b-4841-833c-ee049eb051aa"
      },
      "outputs": [
        {
          "name": "stdout",
          "output_type": "stream",
          "text": [
            " * sqlite:///jupyter_sql_tutorial.db\n",
            "Done.\n"
          ]
        },
        {
          "data": {
            "text/html": [
              "<table>\n",
              "    <tr>\n",
              "        <th>city</th>\n",
              "        <th>count(city)</th>\n",
              "    </tr>\n",
              "    <tr>\n",
              "        <td>Buenos Aires</td>\n",
              "        <td>3</td>\n",
              "    </tr>\n",
              "</table>"
            ],
            "text/plain": [
              "[('Buenos Aires', 3)]"
            ]
          },
          "execution_count": 65,
          "metadata": {},
          "output_type": "execute_result"
        }
      ],
      "source": [
        "%%sql\n",
        "SELECT city, count(city)\n",
        "FROM people\n",
        "Group by city\n",
        "Having count(city)>2\n",
        "order by count(city)"
      ]
    },
    {
      "cell_type": "markdown",
      "metadata": {
        "id": "Q-9DV9Mnhpgb"
      },
      "source": [
        "#### HAVING\n",
        "Whereas WHERE is used for precomputation, HAVING is a postcomputation clause, filtering the data after the database engine has done the query's work.\n",
        "\n",
        "```SQL\n",
        "SELECT\n",
        "    t1.c1,\n",
        "    t1.c2,\n",
        "    AVG(t2.c2)\n",
        "FROM t1\n",
        "INNER JOIN t2 ON t1.c1 = t2.c2\n",
        "GROUP BY t1.c1, t1.c2\n",
        "HAVING AVG(t2.c2) > 10;\n",
        "```\n",
        "\n",
        "```SQL\n",
        "SELECT\n",
        "    poll_date,\n",
        "    AVG(obama_pct)\n",
        "FROM polls\n",
        "GROUP BY poll_date\n",
        "HAVING AVG(obama_pct) > 50;\n",
        "```\n",
        "\n",
        "***pandas***\n",
        "```python\n",
        "polls_group = polls.groupby('poll_date').obama_pct.filter(lambda x: x.mean() > 50)\n",
        "```\n",
        "***end_pandas***\n",
        "\n",
        "\n",
        "Note in this context HAVING allows us to filter on the computed column `AVG(t2.c2)` after the GROUP BY has run."
      ]
    },
    {
      "cell_type": "code",
      "execution_count": null,
      "metadata": {
        "id": "XCW6rgf4hpgb"
      },
      "outputs": [],
      "source": [
        "cnn.close()"
      ]
    },
    {
      "cell_type": "markdown",
      "source": [
        "Пример выгрузки в пандас"
      ],
      "metadata": {
        "id": "eWLnoYeB5VuT"
      }
    },
    {
      "cell_type": "code",
      "execution_count": null,
      "metadata": {
        "id": "fu5_n84Ahpgb"
      },
      "outputs": [],
      "source": [
        "cnn = sqlite3.connect('jupyter_sql_tutorial.db')"
      ]
    },
    {
      "cell_type": "code",
      "execution_count": null,
      "metadata": {
        "id": "fYkZL5bxhpgc"
      },
      "outputs": [],
      "source": [
        "cur = cnn.cursor()"
      ]
    },
    {
      "cell_type": "code",
      "execution_count": null,
      "metadata": {
        "id": "LTT3INUOhpgc",
        "outputId": "2b2ecdf4-9a64-4910-dee0-f9c83710cb55",
        "colab": {
          "base_uri": "https://localhost:8080/"
        }
      },
      "outputs": [
        {
          "output_type": "execute_result",
          "data": {
            "text/plain": [
              "[(0, 'Juan', 23, 'Miami'),\n",
              " (1, 'Victoria', 34, 'Buenos Aires'),\n",
              " (2, 'Mary', 43, 'Santiago')]"
            ]
          },
          "metadata": {},
          "execution_count": 38
        }
      ],
      "source": [
        "cur.execute('SELECT * FROM people')\n",
        "cur.fetchall()"
      ]
    },
    {
      "cell_type": "code",
      "execution_count": null,
      "metadata": {
        "id": "HFqt9cgFhpgc"
      },
      "outputs": [],
      "source": [
        "cur.execute('SELECT * FROM people')\n",
        "cur.fetchall()"
      ]
    },
    {
      "cell_type": "code",
      "execution_count": null,
      "metadata": {
        "id": "NjTXYaVUhpgd"
      },
      "outputs": [],
      "source": [
        "cnn.close()"
      ]
    },
    {
      "cell_type": "code",
      "execution_count": null,
      "metadata": {
        "id": "ypGRf7rVhpge"
      },
      "outputs": [],
      "source": [
        "cnn = sqlite3.connect('jupyter_sql_tutorial.db')"
      ]
    },
    {
      "cell_type": "code",
      "execution_count": null,
      "metadata": {
        "id": "vq7TNlI0hpge"
      },
      "outputs": [],
      "source": [
        "df = pd.read_sql_query(\"SELECT * from people\", cnn)"
      ]
    },
    {
      "cell_type": "code",
      "execution_count": null,
      "metadata": {
        "id": "9QRrNgq0hpge",
        "outputId": "1b5e8869-e0ca-4854-b685-206d02aae903"
      },
      "outputs": [
        {
          "data": {
            "text/html": [
              "<div>\n",
              "<style scoped>\n",
              "    .dataframe tbody tr th:only-of-type {\n",
              "        vertical-align: middle;\n",
              "    }\n",
              "\n",
              "    .dataframe tbody tr th {\n",
              "        vertical-align: top;\n",
              "    }\n",
              "\n",
              "    .dataframe thead th {\n",
              "        text-align: right;\n",
              "    }\n",
              "</style>\n",
              "<table border=\"1\" class=\"dataframe\">\n",
              "  <thead>\n",
              "    <tr style=\"text-align: right;\">\n",
              "      <th></th>\n",
              "      <th>index</th>\n",
              "      <th>name</th>\n",
              "      <th>age</th>\n",
              "      <th>city</th>\n",
              "    </tr>\n",
              "  </thead>\n",
              "  <tbody>\n",
              "    <tr>\n",
              "      <th>0</th>\n",
              "      <td>0</td>\n",
              "      <td>Juan</td>\n",
              "      <td>23</td>\n",
              "      <td>Miami</td>\n",
              "    </tr>\n",
              "    <tr>\n",
              "      <th>1</th>\n",
              "      <td>1</td>\n",
              "      <td>Victoria</td>\n",
              "      <td>34</td>\n",
              "      <td>Buenos Aires</td>\n",
              "    </tr>\n",
              "    <tr>\n",
              "      <th>2</th>\n",
              "      <td>2</td>\n",
              "      <td>Mary</td>\n",
              "      <td>43</td>\n",
              "      <td>Santiago</td>\n",
              "    </tr>\n",
              "    <tr>\n",
              "      <th>3</th>\n",
              "      <td>3</td>\n",
              "      <td>Martin</td>\n",
              "      <td>40</td>\n",
              "      <td>Buenos Aires</td>\n",
              "    </tr>\n",
              "    <tr>\n",
              "      <th>4</th>\n",
              "      <td>4</td>\n",
              "      <td>Mark</td>\n",
              "      <td>25</td>\n",
              "      <td>Buenos Aires</td>\n",
              "    </tr>\n",
              "    <tr>\n",
              "      <th>5</th>\n",
              "      <td>25</td>\n",
              "      <td>LAvi</td>\n",
              "      <td>24</td>\n",
              "      <td>Sanremo</td>\n",
              "    </tr>\n",
              "  </tbody>\n",
              "</table>\n",
              "</div>"
            ],
            "text/plain": [
              "   index      name  age          city\n",
              "0      0      Juan   23         Miami\n",
              "1      1  Victoria   34  Buenos Aires\n",
              "2      2      Mary   43      Santiago\n",
              "3      3    Martin   40  Buenos Aires\n",
              "4      4      Mark   25  Buenos Aires\n",
              "5     25      LAvi   24       Sanremo"
            ]
          },
          "execution_count": 74,
          "metadata": {},
          "output_type": "execute_result"
        }
      ],
      "source": [
        "df"
      ]
    },
    {
      "cell_type": "code",
      "execution_count": null,
      "metadata": {
        "id": "xc35oHWMhpge"
      },
      "outputs": [],
      "source": [
        "surveys2002 = df[df.age == 43]\n",
        "surveys2002"
      ]
    },
    {
      "cell_type": "code",
      "execution_count": null,
      "metadata": {
        "id": "kPgNKd6khpge"
      },
      "outputs": [],
      "source": [
        "cnn.close()"
      ]
    },
    {
      "cell_type": "code",
      "execution_count": null,
      "metadata": {
        "id": "opJ_TxDkhpge"
      },
      "outputs": [],
      "source": [
        "cnn = sqlite3.connect('jupyter_sql_tutorial.db')"
      ]
    },
    {
      "cell_type": "code",
      "execution_count": null,
      "metadata": {
        "id": "5tmy1_20hpge",
        "outputId": "f87cbf0f-6726-4cfe-8464-26c2c8ff971e"
      },
      "outputs": [
        {
          "name": "stdout",
          "output_type": "stream",
          "text": [
            " * sqlite:///jupyter_sql_tutorial.db\n",
            "Done.\n"
          ]
        },
        {
          "data": {
            "text/html": [
              "<table>\n",
              "    <tr>\n",
              "        <th>name</th>\n",
              "    </tr>\n",
              "    <tr>\n",
              "        <td>people</td>\n",
              "    </tr>\n",
              "    <tr>\n",
              "        <td>zarp</td>\n",
              "    </tr>\n",
              "</table>"
            ],
            "text/plain": [
              "[('people',), ('zarp',)]"
            ]
          },
          "execution_count": 84,
          "metadata": {},
          "output_type": "execute_result"
        }
      ],
      "source": [
        "%%sql\n",
        "SELECT name FROM sqlite_master WHERE type='table';"
      ]
    },
    {
      "cell_type": "code",
      "execution_count": null,
      "metadata": {
        "id": "MBoXsmXMhpgf"
      },
      "outputs": [],
      "source": [
        "cnn.close()"
      ]
    }
  ],
  "metadata": {
    "kernelspec": {
      "display_name": "Python 3 (ipykernel)",
      "language": "python",
      "name": "python3"
    },
    "language_info": {
      "codemirror_mode": {
        "name": "ipython",
        "version": 3
      },
      "file_extension": ".py",
      "mimetype": "text/x-python",
      "name": "python",
      "nbconvert_exporter": "python",
      "pygments_lexer": "ipython3",
      "version": "3.9.12"
    },
    "colab": {
      "provenance": []
    }
  },
  "nbformat": 4,
  "nbformat_minor": 0
}
