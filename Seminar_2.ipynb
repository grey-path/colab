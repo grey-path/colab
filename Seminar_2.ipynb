{
  "cells": [
    {
      "cell_type": "markdown",
      "metadata": {
        "id": "fYywLOWYN1U4"
      },
      "source": [
        "### 1. Составьте список из нескольких вещей, которые вы хотите купить в магазине!"
      ]
    },
    {
      "cell_type": "code",
      "execution_count": null,
      "metadata": {
        "id": "b-G-M4wUN1U6",
        "outputId": "58a41172-eda8-4264-881d-49034894137b"
      },
      "outputs": [
        {
          "name": "stdout",
          "output_type": "stream",
          "text": [
            "The history saving thread hit an unexpected error (OperationalError('database or disk is full')).History will not be written to the database.\n"
          ]
        }
      ],
      "source": [
        "items = ['bread', 'cheese', 'kale', 'chocolate']"
      ]
    },
    {
      "cell_type": "markdown",
      "metadata": {
        "id": "xhNL9pMRN1U8"
      },
      "source": [
        " Узнайте, какова длина вашего списка из Q1."
      ]
    },
    {
      "cell_type": "code",
      "execution_count": null,
      "metadata": {
        "id": "M1OPBNaHN1U9"
      },
      "outputs": [],
      "source": [
        "# вставтье свой код\n",
        "friends = ['Jenny', 'Tony', 'Pichuan', 'Wayan']\n",
        "# вставтье свой код\n",
        "(len(friends)):\n"
      ]
    },
    {
      "cell_type": "markdown",
      "metadata": {
        "id": "dOVD8f4gN1U9"
      },
      "source": [
        "### 2. Завершите код ниже. Напишите цикл for, который говорит «Привет» каждому из моих друзей."
      ]
    },
    {
      "cell_type": "code",
      "execution_count": null,
      "metadata": {
        "id": "55LZjF7RN1U9",
        "outputId": "6ede2ddc-4c6d-44cd-967f-7b76747a563a"
      },
      "outputs": [
        {
          "name": "stdout",
          "output_type": "stream",
          "text": [
            "Hello, Jenny!\n",
            "Hello, Tony!\n",
            "Hello, Pichuan!\n",
            "Hello, Wayan!\n"
          ]
        }
      ],
      "source": [
        "friends = ['Jenny', 'Tony', 'Pichuan', 'Wayan']\n",
        "# вставтье свой код\n",
        "for i in range(len(friends)):\n",
        "    print('Hello, ', friends[i], '!', sep='')"
      ]
    },
    {
      "cell_type": "markdown",
      "metadata": {
        "id": "KcjYBpCkN1U-"
      },
      "source": [
        "### 3 Напишите программу, которая вычисляет количество слов в каждой строке. И количество букв  во всем тексте(неповторяющихся). Вывести их на печать. Входные данные выгледят следующим образом:\n",
        "6<br>\n",
        "Sentence 1 is <int> characters.<br>\n",
        "Sentence 1 is <int> words long.<br>\n",
        "This sentence has <float> characters per word.<br>\n",
        "Sentence 2 is <int> characters.<br>\n",
        "Sentence 2 is <int> words long.<br>\n",
        "This sentence has <float> characters per word.\n"
      ]
    },
    {
      "cell_type": "code",
      "execution_count": null,
      "metadata": {
        "colab": {
          "base_uri": "https://localhost:8080/"
        },
        "id": "QuXzGnQ4N1U-",
        "outputId": "081f388d-f0df-4805-b052-f89e081c7d4c"
      },
      "outputs": [
        {
          "output_type": "stream",
          "name": "stdout",
          "text": [
            "3\n",
            "ma,a hj ghg\n",
            "3\n",
            "hj jhj\n",
            "2\n",
            "hjj\n",
            "1\n",
            "количество букв 6\n"
          ]
        }
      ],
      "source": [
        "n = int(input())\n",
        "count = set()\n",
        "for i in range(n):\n",
        "    t = input()\n",
        "    print(t.count(\" \")+1)\n",
        "    count=count|set(t)\n",
        "print('количество букв',len(count)-1)\n"
      ]
    },
    {
      "cell_type": "markdown",
      "metadata": {
        "id": "_tP_K_WsN1U-"
      },
      "source": [
        "### 4. Дан словарь"
      ]
    },
    {
      "cell_type": "code",
      "execution_count": null,
      "metadata": {
        "id": "v_DRElVuN1U-"
      },
      "outputs": [],
      "source": [
        "passwds = {'Amazon': 'curly', 'Google': 'furry', 'Apple': 'easy',\n",
        "           'Microsoft' : 'easy'}"
      ]
    },
    {
      "cell_type": "markdown",
      "metadata": {
        "id": "YtOS-X-8N1U_"
      },
      "source": [
        "Напишите программу, которая проверяет, находится ли ключ в passwds, и печатает, если он есть и нет."
      ]
    },
    {
      "cell_type": "code",
      "execution_count": null,
      "metadata": {
        "colab": {
          "base_uri": "https://localhost:8080/",
          "height": 52
        },
        "id": "MPsmrs2eN1U_",
        "outputId": "9bb22526-10b3-46b8-aaea-a283ecefe8a5"
      },
      "outputs": [
        {
          "name": "stdout",
          "output_type": "stream",
          "text": [
            "dvx\n"
          ]
        },
        {
          "output_type": "execute_result",
          "data": {
            "text/plain": [
              "'no'"
            ],
            "application/vnd.google.colaboratory.intrinsic+json": {
              "type": "string"
            }
          },
          "metadata": {},
          "execution_count": 4
        }
      ],
      "source": [
        "a = input()\n",
        "passwds.get(a,'no')"
      ]
    },
    {
      "cell_type": "markdown",
      "metadata": {
        "id": "ZAC_OqHEN1U_"
      },
      "source": [
        "### 5 Реализуйте функцию, возвращающую максимальный элемент в векторе x среди элементов, перед которыми стоит нулевой. Хотя бы один ноль есть точно"
      ]
    },
    {
      "cell_type": "markdown",
      "metadata": {
        "id": "5r0emUZrN1U_"
      },
      "source": [
        "Реализуйте функцию, возвращающую максимальный элемент в векторе x среди элементов, перед которыми стоит нулевой."
      ]
    },
    {
      "cell_type": "code",
      "execution_count": null,
      "metadata": {
        "colab": {
          "base_uri": "https://localhost:8080/"
        },
        "id": "gY3saXwfN1U_",
        "outputId": "0fc1a5b1-43e9-462b-8c2a-336bcfb20cc1"
      },
      "outputs": [
        {
          "output_type": "stream",
          "name": "stdout",
          "text": [
            "0 8 9 0 9 0 1\n",
            "9\n"
          ]
        }
      ],
      "source": [
        "maxi = 0\n",
        "a = list(map(int, input().split()))\n",
        "for i in range(1, len(a) ):\n",
        "    if a[i -1] == 0:\n",
        "        if a[i] > maxi:\n",
        "            maxi = a[i]\n",
        "print(maxi)"
      ]
    },
    {
      "cell_type": "code",
      "execution_count": null,
      "metadata": {
        "id": "Myshzt_zN1VA",
        "outputId": "b45df69a-f3dc-46c5-b71c-e02f9e64fc48"
      },
      "outputs": [
        {
          "name": "stdout",
          "output_type": "stream",
          "text": [
            "1 4 0 8 0 9\n",
            "9\n"
          ]
        }
      ],
      "source": [
        "x = list(map(int, input().split()))\n",
        "print(max([x[i] for i in range(1, len(x)) if x[i-1] == 0]))\n",
        "\n",
        "\n"
      ]
    },
    {
      "cell_type": "markdown",
      "metadata": {
        "id": "yRQxyawPN1VA"
      },
      "source": [
        "### 6. Напишите код, который сформирует список всех натуральных чисел, не превосходящих 100, которые делятся на 7 и не делятся на 5."
      ]
    },
    {
      "cell_type": "code",
      "execution_count": null,
      "metadata": {
        "id": "JyA4pluKN1VA",
        "outputId": "113c0b22-244a-4c41-f3b4-37e915b7c90a"
      },
      "outputs": [
        {
          "name": "stdout",
          "output_type": "stream",
          "text": [
            "7 14 21 28 42 49 56 63 77 84 91 98\n"
          ]
        }
      ],
      "source": [
        "print(*[i for i in range(1, 101) if not i % 7 and i % 5])"
      ]
    },
    {
      "cell_type": "code",
      "execution_count": null,
      "metadata": {
        "id": "5yTqGQXJN1VA"
      },
      "outputs": [],
      "source": [
        "for i in range(1, 101):\n",
        "  if i % 7 == 0 and i % 5 != 0:\n",
        "    print(i, end=' ')"
      ]
    }
  ],
  "metadata": {
    "kernelspec": {
      "display_name": "Python 3",
      "language": "python",
      "name": "python3"
    },
    "language_info": {
      "codemirror_mode": {
        "name": "ipython",
        "version": 3
      },
      "file_extension": ".py",
      "mimetype": "text/x-python",
      "name": "python",
      "nbconvert_exporter": "python",
      "pygments_lexer": "ipython3",
      "version": "3.8.3"
    },
    "colab": {
      "provenance": []
    }
  },
  "nbformat": 4,
  "nbformat_minor": 0
}