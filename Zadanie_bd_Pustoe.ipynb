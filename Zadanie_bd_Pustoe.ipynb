{
  "cells": [
    {
      "cell_type": "code",
      "execution_count": 11,
      "metadata": {
        "id": "j7os0W3KwNHQ"
      },
      "outputs": [],
      "source": [
        "import pandas as pd\n",
        "import sqlite3"
      ]
    },
    {
      "cell_type": "code",
      "source": [],
      "metadata": {
        "id": "WjtgtzW87SG6"
      },
      "execution_count": null,
      "outputs": []
    },
    {
      "cell_type": "code",
      "execution_count": 12,
      "metadata": {
        "id": "ZkcvgEkowNHS"
      },
      "outputs": [],
      "source": [
        "cnn = sqlite3.connect('SQL.db')"
      ]
    },
    {
      "cell_type": "code",
      "execution_count": 13,
      "metadata": {
        "colab": {
          "base_uri": "https://localhost:8080/"
        },
        "id": "HuLf7e0GwNHS",
        "outputId": "199ec5de-e103-4a5b-ebc1-de3cc52e561c"
      },
      "outputs": [
        {
          "output_type": "stream",
          "name": "stdout",
          "text": [
            "The sql extension is already loaded. To reload it, use:\n",
            "  %reload_ext sql\n"
          ]
        }
      ],
      "source": [
        "%load_ext sql"
      ]
    },
    {
      "cell_type": "code",
      "source": [
        "%config SqlMagic.style = \"_DEPRECATED_DEFAULT\""
      ],
      "metadata": {
        "id": "uAUT6SYg7aQ3"
      },
      "execution_count": 18,
      "outputs": []
    },
    {
      "cell_type": "code",
      "execution_count": 19,
      "metadata": {
        "id": "1Grc4kdowNHT"
      },
      "outputs": [],
      "source": [
        "%sql sqlite:///SQL.db"
      ]
    },
    {
      "cell_type": "code",
      "source": [],
      "metadata": {
        "id": "0z1Grios7ZEI"
      },
      "execution_count": null,
      "outputs": []
    },
    {
      "cell_type": "code",
      "execution_count": 20,
      "metadata": {
        "colab": {
          "base_uri": "https://localhost:8080/"
        },
        "id": "s-hLoPPNwNHU",
        "outputId": "2d79f588-cf48-4a52-b982-cce576fc0bca"
      },
      "outputs": [
        {
          "output_type": "stream",
          "name": "stdout",
          "text": [
            " * sqlite:///SQL.db\n",
            "(sqlite3.OperationalError) table tblDepartment already exists\n",
            "[SQL: CREATE TABLE tblDepartment(\n",
            "    DepartmentID INT, \n",
            "    DepartmentName NVARCHAR (25), \n",
            "    DepartmentHead NVARCHAR (20), \n",
            "    PRIMARY KEY (DepartmentID)\n",
            ")]\n",
            "(Background on this error at: https://sqlalche.me/e/20/e3q8)\n"
          ]
        }
      ],
      "source": [
        "%%sql\n",
        "CREATE TABLE tblDepartment(\n",
        "    DepartmentID INT,\n",
        "    DepartmentName NVARCHAR (25),\n",
        "    DepartmentHead NVARCHAR (20),\n",
        "    PRIMARY KEY (DepartmentID)\n",
        ")"
      ]
    },
    {
      "cell_type": "code",
      "execution_count": 21,
      "metadata": {
        "colab": {
          "base_uri": "https://localhost:8080/"
        },
        "id": "iCEjQByUwNHV",
        "outputId": "34d7311d-e732-4949-e304-490ea509407a"
      },
      "outputs": [
        {
          "output_type": "stream",
          "name": "stdout",
          "text": [
            " * sqlite:///SQL.db\n",
            "(sqlite3.IntegrityError) UNIQUE constraint failed: tblDepartment.DepartmentID\n",
            "[SQL: INSERT INTO tblDepartment VALUES\n",
            "(1, 'IT', 'Shimi'), \n",
            "(2, 'HR', 'Roth'), \n",
            "(3, 'Payroll', 'Itai'), \n",
            "(4, 'Other Department', 'Simha')]\n",
            "(Background on this error at: https://sqlalche.me/e/20/gkpj)\n"
          ]
        }
      ],
      "source": [
        "%%sql\n",
        "INSERT INTO tblDepartment VALUES\n",
        "(1, 'IT', 'Shimi'),\n",
        "(2, 'HR', 'Roth'),\n",
        "(3, 'Payroll', 'Itai'),\n",
        "(4, 'Other Department', 'Simha')"
      ]
    },
    {
      "cell_type": "code",
      "execution_count": 22,
      "metadata": {
        "colab": {
          "base_uri": "https://localhost:8080/",
          "height": 161
        },
        "id": "uVWcWsKywNHV",
        "outputId": "68d356fc-6bbd-41bf-9255-aa2e8a0b49ed"
      },
      "outputs": [
        {
          "output_type": "stream",
          "name": "stdout",
          "text": [
            " * sqlite:///SQL.db\n",
            "Done.\n"
          ]
        },
        {
          "output_type": "execute_result",
          "data": {
            "text/plain": [
              "[(1, 'IT', 'Shimi'),\n",
              " (2, 'HR', 'Roth'),\n",
              " (3, 'Payroll', 'Itai'),\n",
              " (4, 'Other Department', 'Simha')]"
            ],
            "text/html": [
              "<table>\n",
              "    <thead>\n",
              "        <tr>\n",
              "            <th>DepartmentID</th>\n",
              "            <th>DepartmentName</th>\n",
              "            <th>DepartmentHead</th>\n",
              "        </tr>\n",
              "    </thead>\n",
              "    <tbody>\n",
              "        <tr>\n",
              "            <td>1</td>\n",
              "            <td>IT</td>\n",
              "            <td>Shimi</td>\n",
              "        </tr>\n",
              "        <tr>\n",
              "            <td>2</td>\n",
              "            <td>HR</td>\n",
              "            <td>Roth</td>\n",
              "        </tr>\n",
              "        <tr>\n",
              "            <td>3</td>\n",
              "            <td>Payroll</td>\n",
              "            <td>Itai</td>\n",
              "        </tr>\n",
              "        <tr>\n",
              "            <td>4</td>\n",
              "            <td>Other Department</td>\n",
              "            <td>Simha</td>\n",
              "        </tr>\n",
              "    </tbody>\n",
              "</table>"
            ]
          },
          "metadata": {},
          "execution_count": 22
        }
      ],
      "source": [
        "%%sql\n",
        "Select *\n",
        "from tblDepartment"
      ]
    },
    {
      "cell_type": "code",
      "execution_count": 23,
      "metadata": {
        "colab": {
          "base_uri": "https://localhost:8080/"
        },
        "id": "ZZOjOITgwNHV",
        "outputId": "7524367a-710c-4fef-d3f7-06c7f571990c"
      },
      "outputs": [
        {
          "output_type": "stream",
          "name": "stdout",
          "text": [
            " * sqlite:///SQL.db\n",
            "(sqlite3.OperationalError) table tblemployee already exists\n",
            "[SQL: CREATE TABLE tblemployee\n",
            "(\n",
            "    employeeID INT, \n",
            "    firstName NVARCHAR (30), \n",
            "    lastName NVARCHAR (30),\n",
            "    gender NVARCHAR (10), \n",
            "    Email NVARCHAR (50), \n",
            "    PhoneNumber NVARCHAR (15),\n",
            "    salary INT, \n",
            "    city NVARCHAR (20),\n",
            "    HireDate DATE,\n",
            "    DepartmentID INT,\n",
            "\n",
            "    FOREIGN KEY (DepartmentID) REFERENCES tblDepartment (DepartmentID),\n",
            "    PRIMARY KEY (employeeID)\n",
            "    \n",
            ")]\n",
            "(Background on this error at: https://sqlalche.me/e/20/e3q8)\n"
          ]
        }
      ],
      "source": [
        "%%sql\n",
        "CREATE TABLE tblemployee\n",
        "(\n",
        "    employeeID INT,\n",
        "    firstName NVARCHAR (30),\n",
        "    lastName NVARCHAR (30),\n",
        "    gender NVARCHAR (10),\n",
        "    Email NVARCHAR (50),\n",
        "    PhoneNumber NVARCHAR (15),\n",
        "    salary INT,\n",
        "    city NVARCHAR (20),\n",
        "    HireDate DATE,\n",
        "    DepartmentID INT,\n",
        "\n",
        "    FOREIGN KEY (DepartmentID) REFERENCES tblDepartment (DepartmentID),\n",
        "    PRIMARY KEY (employeeID)\n",
        "\n",
        ")"
      ]
    },
    {
      "cell_type": "code",
      "execution_count": 24,
      "metadata": {
        "colab": {
          "base_uri": "https://localhost:8080/"
        },
        "id": "csO5PVIUwNHW",
        "outputId": "348d9beb-a4f6-44ef-d630-a4c43a299db4"
      },
      "outputs": [
        {
          "output_type": "stream",
          "name": "stdout",
          "text": [
            " * sqlite:///SQL.db\n",
            "(sqlite3.IntegrityError) UNIQUE constraint failed: tblemployee.employeeID\n",
            "[SQL: INSERT INTO tblemployee VALUES\n",
            "(1,'Tomer', 'Itzhakov','Male', 'Tomerikoka@gmail.com', '0508554622', 11000, 'Jerusalem', '20011201',1),\n",
            "(2,'Shira', 'Nevo','Female', 'Shira@gmail.com', '0508515542', 8000, 'Jerusalem', '20020615',4),\n",
            "(3,'Ester', 'Hyut','Female', 'Ester@gmail.com', '0508575148', 10000, 'Jerusalem', '20120528',3),\n",
            "(4,'Robin', 'Choen','Male', 'Robin@gmail.com', '0528542523', 7000, 'Tel-Aviv', '20120224',2),\n",
            "(5,'Shlomi', 'Hai','Male', 'Shlomi@gmail.com', '0528456122', 10000, 'Tel-Aviv', '20081019',3),\n",
            "(6,'David', 'Kepler','Male', 'David@gmail.com', '0558847365', 11000, 'Tel-Aviv', '20160515',1),\n",
            "(7,'Dana', 'Tova','Female', 'Dana@gmail.com', '0556789322', 4000, 'Tel-Aviv', '20160202',2),\n",
            "(8,'Idan', 'Haviv','Male', 'Idan@gmail.com', '0508752256', 10000, 'Haifa', '20170522',3),\n",
            "(9,'Eti', 'Boblil','Female', 'Eti@gmail.com', '0505847665', 2000, 'Haifa', '20180614',4),\n",
            "(10,'Esti', 'Karlibah','Female', 'Esti@gmail.com', '0504859998', 1000, 'Haifa', '20140713',2)]\n",
            "(Background on this error at: https://sqlalche.me/e/20/gkpj)\n"
          ]
        }
      ],
      "source": [
        "%%sql\n",
        "INSERT INTO tblemployee VALUES\n",
        "(1,'Tomer', 'Itzhakov','Male', 'Tomerikoka@gmail.com', '0508554622', 11000, 'Jerusalem', '20011201',1),\n",
        "(2,'Shira', 'Nevo','Female', 'Shira@gmail.com', '0508515542', 8000, 'Jerusalem', '20020615',4),\n",
        "(3,'Ester', 'Hyut','Female', 'Ester@gmail.com', '0508575148', 10000, 'Jerusalem', '20120528',3),\n",
        "(4,'Robin', 'Choen','Male', 'Robin@gmail.com', '0528542523', 7000, 'Tel-Aviv', '20120224',2),\n",
        "(5,'Shlomi', 'Hai','Male', 'Shlomi@gmail.com', '0528456122', 10000, 'Tel-Aviv', '20081019',3),\n",
        "(6,'David', 'Kepler','Male', 'David@gmail.com', '0558847365', 11000, 'Tel-Aviv', '20160515',1),\n",
        "(7,'Dana', 'Tova','Female', 'Dana@gmail.com', '0556789322', 4000, 'Tel-Aviv', '20160202',2),\n",
        "(8,'Idan', 'Haviv','Male', 'Idan@gmail.com', '0508752256', 10000, 'Haifa', '20170522',3),\n",
        "(9,'Eti', 'Boblil','Female', 'Eti@gmail.com', '0505847665', 2000, 'Haifa', '20180614',4),\n",
        "(10,'Esti', 'Karlibah','Female', 'Esti@gmail.com', '0504859998', 1000, 'Haifa', '20140713',2)"
      ]
    },
    {
      "cell_type": "markdown",
      "metadata": {
        "id": "gfd4xBMmwNHW"
      },
      "source": [
        " #### Распечатать всю таблицу tblemployee"
      ]
    },
    {
      "cell_type": "code",
      "execution_count": 25,
      "metadata": {
        "colab": {
          "base_uri": "https://localhost:8080/",
          "height": 289
        },
        "id": "hK4TIrH-wNHY",
        "outputId": "039f748d-6d91-4be5-a4be-0aecae4d8cd3"
      },
      "outputs": [
        {
          "output_type": "stream",
          "name": "stdout",
          "text": [
            " * sqlite:///SQL.db\n",
            "Done.\n"
          ]
        },
        {
          "output_type": "execute_result",
          "data": {
            "text/plain": [
              "[(1, 'Tomer', 'Itzhakov', 'Male', 'Tomerikoka@gmail.com', '0508554622', 11000, 'Jerusalem', 20011201, 1),\n",
              " (2, 'Shira', 'Nevo', 'Female', 'Shira@gmail.com', '0508515542', 8000, 'Jerusalem', 20020615, 4),\n",
              " (3, 'Ester', 'Hyut', 'Female', 'Ester@gmail.com', '0508575148', 10000, 'Jerusalem', 20120528, 3),\n",
              " (4, 'Robin', 'Choen', 'Male', 'Robin@gmail.com', '0528542523', 7000, 'Tel-Aviv', 20120224, 2),\n",
              " (5, 'Shlomi', 'Hai', 'Male', 'Shlomi@gmail.com', '0528456122', 10000, 'Tel-Aviv', 20081019, 3),\n",
              " (6, 'David', 'Kepler', 'Male', 'David@gmail.com', '0558847365', 11000, 'Tel-Aviv', 20160515, 1),\n",
              " (7, 'Dana', 'Tova', 'Female', 'Dana@gmail.com', '0556789322', 4000, 'Tel-Aviv', 20160202, 2),\n",
              " (8, 'Idan', 'Haviv', 'Male', 'Idan@gmail.com', '0508752256', 10000, 'Haifa', 20170522, 3),\n",
              " (9, 'Eti', 'Boblil', 'Female', 'Eti@gmail.com', '0505847665', 2000, 'Haifa', 20180614, 4),\n",
              " (10, 'Esti', 'Karlibah', 'Female', 'Esti@gmail.com', '0504859998', 1000, 'Haifa', 20140713, 2)]"
            ],
            "text/html": [
              "<table>\n",
              "    <thead>\n",
              "        <tr>\n",
              "            <th>employeeID</th>\n",
              "            <th>firstName</th>\n",
              "            <th>lastName</th>\n",
              "            <th>gender</th>\n",
              "            <th>Email</th>\n",
              "            <th>PhoneNumber</th>\n",
              "            <th>salary</th>\n",
              "            <th>city</th>\n",
              "            <th>HireDate</th>\n",
              "            <th>DepartmentID</th>\n",
              "        </tr>\n",
              "    </thead>\n",
              "    <tbody>\n",
              "        <tr>\n",
              "            <td>1</td>\n",
              "            <td>Tomer</td>\n",
              "            <td>Itzhakov</td>\n",
              "            <td>Male</td>\n",
              "            <td>Tomerikoka@gmail.com</td>\n",
              "            <td>0508554622</td>\n",
              "            <td>11000</td>\n",
              "            <td>Jerusalem</td>\n",
              "            <td>20011201</td>\n",
              "            <td>1</td>\n",
              "        </tr>\n",
              "        <tr>\n",
              "            <td>2</td>\n",
              "            <td>Shira</td>\n",
              "            <td>Nevo</td>\n",
              "            <td>Female</td>\n",
              "            <td>Shira@gmail.com</td>\n",
              "            <td>0508515542</td>\n",
              "            <td>8000</td>\n",
              "            <td>Jerusalem</td>\n",
              "            <td>20020615</td>\n",
              "            <td>4</td>\n",
              "        </tr>\n",
              "        <tr>\n",
              "            <td>3</td>\n",
              "            <td>Ester</td>\n",
              "            <td>Hyut</td>\n",
              "            <td>Female</td>\n",
              "            <td>Ester@gmail.com</td>\n",
              "            <td>0508575148</td>\n",
              "            <td>10000</td>\n",
              "            <td>Jerusalem</td>\n",
              "            <td>20120528</td>\n",
              "            <td>3</td>\n",
              "        </tr>\n",
              "        <tr>\n",
              "            <td>4</td>\n",
              "            <td>Robin</td>\n",
              "            <td>Choen</td>\n",
              "            <td>Male</td>\n",
              "            <td>Robin@gmail.com</td>\n",
              "            <td>0528542523</td>\n",
              "            <td>7000</td>\n",
              "            <td>Tel-Aviv</td>\n",
              "            <td>20120224</td>\n",
              "            <td>2</td>\n",
              "        </tr>\n",
              "        <tr>\n",
              "            <td>5</td>\n",
              "            <td>Shlomi</td>\n",
              "            <td>Hai</td>\n",
              "            <td>Male</td>\n",
              "            <td>Shlomi@gmail.com</td>\n",
              "            <td>0528456122</td>\n",
              "            <td>10000</td>\n",
              "            <td>Tel-Aviv</td>\n",
              "            <td>20081019</td>\n",
              "            <td>3</td>\n",
              "        </tr>\n",
              "        <tr>\n",
              "            <td>6</td>\n",
              "            <td>David</td>\n",
              "            <td>Kepler</td>\n",
              "            <td>Male</td>\n",
              "            <td>David@gmail.com</td>\n",
              "            <td>0558847365</td>\n",
              "            <td>11000</td>\n",
              "            <td>Tel-Aviv</td>\n",
              "            <td>20160515</td>\n",
              "            <td>1</td>\n",
              "        </tr>\n",
              "        <tr>\n",
              "            <td>7</td>\n",
              "            <td>Dana</td>\n",
              "            <td>Tova</td>\n",
              "            <td>Female</td>\n",
              "            <td>Dana@gmail.com</td>\n",
              "            <td>0556789322</td>\n",
              "            <td>4000</td>\n",
              "            <td>Tel-Aviv</td>\n",
              "            <td>20160202</td>\n",
              "            <td>2</td>\n",
              "        </tr>\n",
              "        <tr>\n",
              "            <td>8</td>\n",
              "            <td>Idan</td>\n",
              "            <td>Haviv</td>\n",
              "            <td>Male</td>\n",
              "            <td>Idan@gmail.com</td>\n",
              "            <td>0508752256</td>\n",
              "            <td>10000</td>\n",
              "            <td>Haifa</td>\n",
              "            <td>20170522</td>\n",
              "            <td>3</td>\n",
              "        </tr>\n",
              "        <tr>\n",
              "            <td>9</td>\n",
              "            <td>Eti</td>\n",
              "            <td>Boblil</td>\n",
              "            <td>Female</td>\n",
              "            <td>Eti@gmail.com</td>\n",
              "            <td>0505847665</td>\n",
              "            <td>2000</td>\n",
              "            <td>Haifa</td>\n",
              "            <td>20180614</td>\n",
              "            <td>4</td>\n",
              "        </tr>\n",
              "        <tr>\n",
              "            <td>10</td>\n",
              "            <td>Esti</td>\n",
              "            <td>Karlibah</td>\n",
              "            <td>Female</td>\n",
              "            <td>Esti@gmail.com</td>\n",
              "            <td>0504859998</td>\n",
              "            <td>1000</td>\n",
              "            <td>Haifa</td>\n",
              "            <td>20140713</td>\n",
              "            <td>2</td>\n",
              "        </tr>\n",
              "    </tbody>\n",
              "</table>"
            ]
          },
          "metadata": {},
          "execution_count": 25
        }
      ],
      "source": [
        "%%sql\n",
        "SELECT * FROM tblemployee"
      ]
    },
    {
      "cell_type": "code",
      "execution_count": 26,
      "metadata": {
        "colab": {
          "base_uri": "https://localhost:8080/",
          "height": 161
        },
        "id": "5fGGotOMwNHZ",
        "outputId": "b48a7a74-9eea-4b55-9df5-624b14fcd051"
      },
      "outputs": [
        {
          "output_type": "stream",
          "name": "stdout",
          "text": [
            " * sqlite:///SQL.db\n",
            "Done.\n"
          ]
        },
        {
          "output_type": "execute_result",
          "data": {
            "text/plain": [
              "[(1, 'IT', 'Shimi'),\n",
              " (2, 'HR', 'Roth'),\n",
              " (3, 'Payroll', 'Itai'),\n",
              " (4, 'Other Department', 'Simha')]"
            ],
            "text/html": [
              "<table>\n",
              "    <thead>\n",
              "        <tr>\n",
              "            <th>DepartmentID</th>\n",
              "            <th>DepartmentName</th>\n",
              "            <th>DepartmentHead</th>\n",
              "        </tr>\n",
              "    </thead>\n",
              "    <tbody>\n",
              "        <tr>\n",
              "            <td>1</td>\n",
              "            <td>IT</td>\n",
              "            <td>Shimi</td>\n",
              "        </tr>\n",
              "        <tr>\n",
              "            <td>2</td>\n",
              "            <td>HR</td>\n",
              "            <td>Roth</td>\n",
              "        </tr>\n",
              "        <tr>\n",
              "            <td>3</td>\n",
              "            <td>Payroll</td>\n",
              "            <td>Itai</td>\n",
              "        </tr>\n",
              "        <tr>\n",
              "            <td>4</td>\n",
              "            <td>Other Department</td>\n",
              "            <td>Simha</td>\n",
              "        </tr>\n",
              "    </tbody>\n",
              "</table>"
            ]
          },
          "metadata": {},
          "execution_count": 26
        }
      ],
      "source": [
        "%%sql\n",
        "SELECT * FROM tblDepartment"
      ]
    },
    {
      "cell_type": "markdown",
      "metadata": {
        "id": "R0qrkNDowNHZ"
      },
      "source": [
        "#### Выбрать всех женщин  из tblemployee. Показывать только имя, пол и номер телефона"
      ]
    },
    {
      "cell_type": "code",
      "execution_count": 26,
      "metadata": {
        "id": "kMy_vf7GwNHZ"
      },
      "outputs": [],
      "source": []
    },
    {
      "cell_type": "markdown",
      "metadata": {
        "id": "pm-nGzPTwNHZ"
      },
      "source": [
        "#### Выберите всех мужчин, которые живут в Иерусалиме и Хайфе."
      ]
    },
    {
      "cell_type": "markdown",
      "metadata": {
        "id": "bFdik0otwNHa"
      },
      "source": [
        "in"
      ]
    },
    {
      "cell_type": "code",
      "execution_count": 26,
      "metadata": {
        "id": "WbQoqOSVwNHa"
      },
      "outputs": [],
      "source": []
    },
    {
      "cell_type": "markdown",
      "metadata": {
        "id": "v3-YFEfRwNHa"
      },
      "source": [
        "с помощью логических условий"
      ]
    },
    {
      "cell_type": "code",
      "execution_count": null,
      "metadata": {
        "id": "qt7Alkl4wNHa",
        "outputId": "e2a3b30d-e026-49ee-e93a-6f6225023c49"
      },
      "outputs": [
        {
          "name": "stdout",
          "output_type": "stream",
          "text": [
            " * sqlite:///The_SQL_Server_Trail_Database.db\n",
            "Done.\n"
          ]
        },
        {
          "data": {
            "text/html": [
              "<table>\n",
              "    <tr>\n",
              "        <th>employeeID</th>\n",
              "        <th>firstName</th>\n",
              "        <th>lastName</th>\n",
              "        <th>gender</th>\n",
              "        <th>Email</th>\n",
              "        <th>PhoneNumber</th>\n",
              "        <th>salary</th>\n",
              "        <th>city</th>\n",
              "        <th>HireDate</th>\n",
              "        <th>DepartmentID</th>\n",
              "    </tr>\n",
              "    <tr>\n",
              "        <td>1</td>\n",
              "        <td>Tomer</td>\n",
              "        <td>Itzhakov</td>\n",
              "        <td>Male</td>\n",
              "        <td>Tomerikoka@gmail.com</td>\n",
              "        <td>0508554622</td>\n",
              "        <td>11000</td>\n",
              "        <td>Jerusalem</td>\n",
              "        <td>20011201</td>\n",
              "        <td>1</td>\n",
              "    </tr>\n",
              "    <tr>\n",
              "        <td>8</td>\n",
              "        <td>Idan</td>\n",
              "        <td>Haviv</td>\n",
              "        <td>Male</td>\n",
              "        <td>Idan@gmail.com</td>\n",
              "        <td>0508752256</td>\n",
              "        <td>10000</td>\n",
              "        <td>Haifa</td>\n",
              "        <td>20170522</td>\n",
              "        <td>3</td>\n",
              "    </tr>\n",
              "</table>"
            ],
            "text/plain": [
              "[(1, 'Tomer', 'Itzhakov', 'Male', 'Tomerikoka@gmail.com', '0508554622', 11000, 'Jerusalem', 20011201, 1),\n",
              " (8, 'Idan', 'Haviv', 'Male', 'Idan@gmail.com', '0508752256', 10000, 'Haifa', 20170522, 3)]"
            ]
          },
          "execution_count": 22,
          "metadata": {},
          "output_type": "execute_result"
        }
      ],
      "source": []
    },
    {
      "cell_type": "markdown",
      "metadata": {
        "id": "C_xPf7VLwNHb"
      },
      "source": [
        "#### Выбрать всех сотрудников с зарплатой 6000 или 11000"
      ]
    },
    {
      "cell_type": "markdown",
      "metadata": {
        "id": "Gsoh1h46wNHb"
      },
      "source": [
        "or"
      ]
    },
    {
      "cell_type": "code",
      "execution_count": 26,
      "metadata": {
        "id": "WdnKWlBUwNHb"
      },
      "outputs": [],
      "source": []
    },
    {
      "cell_type": "markdown",
      "metadata": {
        "id": "1q-Xl9KCwNHc"
      },
      "source": [
        "in"
      ]
    },
    {
      "cell_type": "code",
      "execution_count": null,
      "metadata": {
        "id": "EDNpHdyrwNHc",
        "outputId": "e70a57ff-f74e-471d-b536-af45dfc752e9"
      },
      "outputs": [
        {
          "name": "stdout",
          "output_type": "stream",
          "text": [
            " * sqlite:///The_SQL_Server_Trail_Database.db\n",
            "Done.\n"
          ]
        },
        {
          "data": {
            "text/html": [
              "<table>\n",
              "    <tr>\n",
              "        <th>employeeID</th>\n",
              "        <th>firstName</th>\n",
              "        <th>lastName</th>\n",
              "        <th>gender</th>\n",
              "        <th>Email</th>\n",
              "        <th>PhoneNumber</th>\n",
              "        <th>salary</th>\n",
              "        <th>city</th>\n",
              "        <th>HireDate</th>\n",
              "        <th>DepartmentID</th>\n",
              "    </tr>\n",
              "    <tr>\n",
              "        <td>1</td>\n",
              "        <td>Tomer</td>\n",
              "        <td>Itzhakov</td>\n",
              "        <td>Male</td>\n",
              "        <td>Tomerikoka@gmail.com</td>\n",
              "        <td>0508554622</td>\n",
              "        <td>11000</td>\n",
              "        <td>Jerusalem</td>\n",
              "        <td>20011201</td>\n",
              "        <td>1</td>\n",
              "    </tr>\n",
              "    <tr>\n",
              "        <td>6</td>\n",
              "        <td>David</td>\n",
              "        <td>Kepler</td>\n",
              "        <td>Male</td>\n",
              "        <td>David@gmail.com</td>\n",
              "        <td>0558847365</td>\n",
              "        <td>11000</td>\n",
              "        <td>Tel-Aviv</td>\n",
              "        <td>20160515</td>\n",
              "        <td>1</td>\n",
              "    </tr>\n",
              "</table>"
            ],
            "text/plain": [
              "[(1, 'Tomer', 'Itzhakov', 'Male', 'Tomerikoka@gmail.com', '0508554622', 11000, 'Jerusalem', 20011201, 1),\n",
              " (6, 'David', 'Kepler', 'Male', 'David@gmail.com', '0558847365', 11000, 'Tel-Aviv', 20160515, 1)]"
            ]
          },
          "execution_count": 24,
          "metadata": {},
          "output_type": "execute_result"
        }
      ],
      "source": []
    },
    {
      "cell_type": "markdown",
      "metadata": {
        "id": "yA9mQmOwwNHc"
      },
      "source": [
        "#### Выберите всех сотрудников, которые живут в Иерусалиме и Хайфе с зарплатой от 4000 до 10000"
      ]
    },
    {
      "cell_type": "code",
      "execution_count": 26,
      "metadata": {
        "id": "sDtXqoH7wNHc"
      },
      "outputs": [],
      "source": [
        ""
      ]
    },
    {
      "cell_type": "code",
      "execution_count": null,
      "metadata": {
        "id": "ngoWoCHWwNHd",
        "outputId": "be1ead3b-e7e6-40e0-94f0-b4e7a2e764e7"
      },
      "outputs": [
        {
          "name": "stdout",
          "output_type": "stream",
          "text": [
            " * sqlite:///The_SQL_Server_Trail_Database.db\n",
            "Done.\n"
          ]
        },
        {
          "data": {
            "text/html": [
              "<table>\n",
              "    <tr>\n",
              "        <th>employeeID</th>\n",
              "        <th>firstName</th>\n",
              "        <th>lastName</th>\n",
              "        <th>gender</th>\n",
              "        <th>Email</th>\n",
              "        <th>PhoneNumber</th>\n",
              "        <th>salary</th>\n",
              "        <th>city</th>\n",
              "        <th>HireDate</th>\n",
              "        <th>DepartmentID</th>\n",
              "    </tr>\n",
              "    <tr>\n",
              "        <td>2</td>\n",
              "        <td>Shira</td>\n",
              "        <td>Nevo</td>\n",
              "        <td>Female</td>\n",
              "        <td>Shira@gmail.com</td>\n",
              "        <td>0508515542</td>\n",
              "        <td>8000</td>\n",
              "        <td>Jerusalem</td>\n",
              "        <td>20020615</td>\n",
              "        <td>4</td>\n",
              "    </tr>\n",
              "    <tr>\n",
              "        <td>3</td>\n",
              "        <td>Ester</td>\n",
              "        <td>Hyut</td>\n",
              "        <td>Female</td>\n",
              "        <td>Ester@gmail.com</td>\n",
              "        <td>0508575148</td>\n",
              "        <td>10000</td>\n",
              "        <td>Jerusalem</td>\n",
              "        <td>20120528</td>\n",
              "        <td>3</td>\n",
              "    </tr>\n",
              "    <tr>\n",
              "        <td>8</td>\n",
              "        <td>Idan</td>\n",
              "        <td>Haviv</td>\n",
              "        <td>Male</td>\n",
              "        <td>Idan@gmail.com</td>\n",
              "        <td>0508752256</td>\n",
              "        <td>10000</td>\n",
              "        <td>Haifa</td>\n",
              "        <td>20170522</td>\n",
              "        <td>3</td>\n",
              "    </tr>\n",
              "</table>"
            ],
            "text/plain": [
              "[(2, 'Shira', 'Nevo', 'Female', 'Shira@gmail.com', '0508515542', 8000, 'Jerusalem', 20020615, 4),\n",
              " (3, 'Ester', 'Hyut', 'Female', 'Ester@gmail.com', '0508575148', 10000, 'Jerusalem', 20120528, 3),\n",
              " (8, 'Idan', 'Haviv', 'Male', 'Idan@gmail.com', '0508752256', 10000, 'Haifa', 20170522, 3)]"
            ]
          },
          "execution_count": 26,
          "metadata": {},
          "output_type": "execute_result"
        }
      ],
      "source": []
    },
    {
      "cell_type": "markdown",
      "metadata": {
        "id": "ihMWJYJ1wNHd"
      },
      "source": [
        "#### Выбрать всех сотрудников с номером телефона, начинающимся с 050"
      ]
    },
    {
      "cell_type": "code",
      "execution_count": 26,
      "metadata": {
        "id": "KC-BcksPwNHd"
      },
      "outputs": [],
      "source": []
    },
    {
      "cell_type": "markdown",
      "metadata": {
        "id": "VReNU3tuwNHd"
      },
      "source": [
        "#### Выбрать всех сотрудников с номером телефона, не начинающимся с 050"
      ]
    },
    {
      "cell_type": "code",
      "execution_count": 26,
      "metadata": {
        "id": "Kfy4pnwGwNHd"
      },
      "outputs": [],
      "source": []
    },
    {
      "cell_type": "markdown",
      "metadata": {
        "id": "3u2LTYDdwNHe"
      },
      "source": [
        "#### Выберите 5 строк со столбцами имени, зарплаты и города в порядке зарплаты (от максимальной зарплаты до минимальной зарплаты)"
      ]
    },
    {
      "cell_type": "code",
      "execution_count": 26,
      "metadata": {
        "id": "UChaW-PlwNHe"
      },
      "outputs": [],
      "source": []
    },
    {
      "cell_type": "markdown",
      "metadata": {
        "id": "7jcw_umRwNHe"
      },
      "source": [
        "###  Группировка по вопросам - используйте таблицу tblemployee\n"
      ]
    },
    {
      "cell_type": "markdown",
      "metadata": {
        "id": "DLcax9mOwNHe"
      },
      "source": [
        "#### Показать среднюю зарплату по полу"
      ]
    },
    {
      "cell_type": "code",
      "execution_count": 26,
      "metadata": {
        "id": "Uc9HaP4swNHf"
      },
      "outputs": [],
      "source": []
    },
    {
      "cell_type": "code",
      "execution_count": null,
      "metadata": {
        "id": "1EXHgEnrwNHf",
        "outputId": "a0e34e8f-90b3-4e4f-fa88-b79b29c9da06"
      },
      "outputs": [
        {
          "name": "stdout",
          "output_type": "stream",
          "text": [
            " * sqlite:///The_SQL_Server_Trail_Database.db\n",
            "Done.\n"
          ]
        },
        {
          "data": {
            "text/html": [
              "<table>\n",
              "    <tr>\n",
              "        <th>Пол</th>\n",
              "        <th>Средняя зарплата</th>\n",
              "    </tr>\n",
              "    <tr>\n",
              "        <td>Female</td>\n",
              "        <td>5000.0</td>\n",
              "    </tr>\n",
              "    <tr>\n",
              "        <td>Male</td>\n",
              "        <td>9800.0</td>\n",
              "    </tr>\n",
              "</table>"
            ],
            "text/plain": [
              "[('Female', 5000.0), ('Male', 9800.0)]"
            ]
          },
          "execution_count": 41,
          "metadata": {},
          "output_type": "execute_result"
        }
      ],
      "source": []
    },
    {
      "cell_type": "code",
      "execution_count": 26,
      "metadata": {
        "id": "EXvK5udRwNHf"
      },
      "outputs": [],
      "source": []
    },
    {
      "cell_type": "markdown",
      "metadata": {
        "id": "_axVH6JCwNHg"
      },
      "source": [
        "#### Ппоказать среднюю зарплату по городам в порядке средней зарплаты от макс до мин\n"
      ]
    },
    {
      "cell_type": "code",
      "execution_count": null,
      "metadata": {
        "id": "gLjoRC39wNHi",
        "outputId": "ba6e72f3-d1d9-4c31-82ce-8f2c47b35641"
      },
      "outputs": [
        {
          "name": "stdout",
          "output_type": "stream",
          "text": [
            " * sqlite:///The_SQL_Server_Trail_Database.db\n",
            "Done.\n"
          ]
        },
        {
          "data": {
            "text/html": [
              "<table>\n",
              "    <tr>\n",
              "        <th>Города</th>\n",
              "        <th>Средняя зарплата</th>\n",
              "    </tr>\n",
              "    <tr>\n",
              "        <td>Jerusalem</td>\n",
              "        <td>9666.67</td>\n",
              "    </tr>\n",
              "    <tr>\n",
              "        <td>Tel-Aviv</td>\n",
              "        <td>8000.0</td>\n",
              "    </tr>\n",
              "    <tr>\n",
              "        <td>Haifa</td>\n",
              "        <td>4333.33</td>\n",
              "    </tr>\n",
              "</table>"
            ],
            "text/plain": [
              "[('Jerusalem', 9666.67), ('Tel-Aviv', 8000.0), ('Haifa', 4333.33)]"
            ]
          },
          "execution_count": 47,
          "metadata": {},
          "output_type": "execute_result"
        }
      ],
      "source": []
    },
    {
      "cell_type": "markdown",
      "metadata": {
        "id": "QcP2bC2MwNHi"
      },
      "source": [
        "#### Показать максимальную и минимальную зарплату по полу"
      ]
    },
    {
      "cell_type": "code",
      "execution_count": 26,
      "metadata": {
        "id": "wHcIo-n6wNHi"
      },
      "outputs": [],
      "source": []
    },
    {
      "cell_type": "markdown",
      "metadata": {
        "id": "EWcZDfbFwNHj"
      },
      "source": [
        "#### Показать максимальную и минимальную зарплату по полу и городу"
      ]
    },
    {
      "cell_type": "code",
      "execution_count": 26,
      "metadata": {
        "id": "cmwb95U7wNHj"
      },
      "outputs": [],
      "source": []
    },
    {
      "cell_type": "markdown",
      "metadata": {
        "id": "KueB0d0AwNHj"
      },
      "source": [
        "####  Показать сумарная зарплата по полу и городу"
      ]
    },
    {
      "cell_type": "code",
      "execution_count": 26,
      "metadata": {
        "id": "XjzBLzxVwNHj"
      },
      "outputs": [],
      "source": []
    },
    {
      "cell_type": "markdown",
      "metadata": {
        "id": "KIROcawrwNHj"
      },
      "source": [
        "#### Подсчитайте общее количество сотрудников-женщин"
      ]
    },
    {
      "cell_type": "code",
      "execution_count": null,
      "metadata": {
        "id": "wPpswYOdwNHk",
        "outputId": "052db601-c2ce-4f77-a7da-ba8e834f740a"
      },
      "outputs": [
        {
          "name": "stdout",
          "output_type": "stream",
          "text": [
            " * sqlite:///The_SQL_Server_Trail_Database.db\n",
            "Done.\n"
          ]
        },
        {
          "data": {
            "text/html": [
              "<table>\n",
              "    <tr>\n",
              "        <th>gender</th>\n",
              "        <th>сотрудники</th>\n",
              "    </tr>\n",
              "    <tr>\n",
              "        <td>Female</td>\n",
              "        <td>5</td>\n",
              "    </tr>\n",
              "</table>"
            ],
            "text/plain": [
              "[('Female', 5)]"
            ]
          },
          "execution_count": 58,
          "metadata": {},
          "output_type": "execute_result"
        }
      ],
      "source": []
    },
    {
      "cell_type": "code",
      "execution_count": 26,
      "metadata": {
        "id": "qe1ASMOxwNHk"
      },
      "outputs": [],
      "source": [
        "\n"
      ]
    },
    {
      "cell_type": "markdown",
      "metadata": {
        "id": "Qk_obrcJwNHk"
      },
      "source": [
        "####  Подсчитайте общее количество сотрудников в Тель-Авиве"
      ]
    },
    {
      "cell_type": "code",
      "execution_count": 26,
      "metadata": {
        "id": "jdzXS-iRwNHk"
      },
      "outputs": [],
      "source": []
    },
    {
      "cell_type": "code",
      "execution_count": 26,
      "metadata": {
        "id": "gP77uIjqwNHl"
      },
      "outputs": [],
      "source": []
    },
    {
      "cell_type": "markdown",
      "metadata": {
        "id": "kQkAk9zpwNHl"
      },
      "source": [
        "#### Показать сумарную зарплату по городам только для городов с общей зарплатой выше 20000 и отсортировать их от макс до мин."
      ]
    },
    {
      "cell_type": "code",
      "execution_count": null,
      "metadata": {
        "id": "8bZ2x8pvwNHl",
        "outputId": "4cc7ac70-7fc9-45e4-8bac-8a5d8efe4f81"
      },
      "outputs": [
        {
          "name": "stdout",
          "output_type": "stream",
          "text": [
            " * sqlite:///The_SQL_Server_Trail_Database.db\n",
            "Done.\n"
          ]
        },
        {
          "data": {
            "text/html": [
              "<table>\n",
              "    <tr>\n",
              "        <th>city</th>\n",
              "        <th>Total Salary</th>\n",
              "    </tr>\n",
              "    <tr>\n",
              "        <td>Tel-Aviv</td>\n",
              "        <td>32000</td>\n",
              "    </tr>\n",
              "    <tr>\n",
              "        <td>Jerusalem</td>\n",
              "        <td>29000</td>\n",
              "    </tr>\n",
              "</table>"
            ],
            "text/plain": [
              "[('Tel-Aviv', 32000), ('Jerusalem', 29000)]"
            ]
          },
          "execution_count": 62,
          "metadata": {},
          "output_type": "execute_result"
        }
      ],
      "source": []
    },
    {
      "cell_type": "markdown",
      "metadata": {
        "id": "l-UXgOZ2wNHl"
      },
      "source": [
        "#### Показать сумарную зарплату только для мужчин, проживающих в Иерусалиме и Тель-Авиве."
      ]
    },
    {
      "cell_type": "code",
      "execution_count": 26,
      "metadata": {
        "id": "JQXFvx37wNHl"
      },
      "outputs": [],
      "source": []
    },
    {
      "cell_type": "markdown",
      "metadata": {
        "id": "eEzmknnCwNHm"
      },
      "source": [
        "## Join"
      ]
    },
    {
      "cell_type": "code",
      "execution_count": 27,
      "metadata": {
        "colab": {
          "base_uri": "https://localhost:8080/"
        },
        "id": "RcKrvDX8wNHm",
        "outputId": "6ae7f468-c5e2-496a-9135-048a9f8ef537"
      },
      "outputs": [
        {
          "output_type": "stream",
          "name": "stdout",
          "text": [
            " * sqlite:///SQL.db\n",
            "Done.\n",
            "4 rows affected.\n"
          ]
        },
        {
          "output_type": "execute_result",
          "data": {
            "text/plain": [
              "[]"
            ]
          },
          "metadata": {},
          "execution_count": 27
        }
      ],
      "source": [
        "%%sql\n",
        "CREATE TABLE tblCategory\n",
        "(\n",
        "CategoryID INT PRIMARY KEY NOT NULL,\n",
        "CategoryName NVARCHAR (25)\n",
        ") ;\n",
        "\n",
        "INSERT INTO tblCategory VALUES\n",
        "(1, 'Kitchen'),\n",
        "(2, 'Living Room'),\n",
        "(3, 'Bedroom'),\n",
        "(4, 'Electrical appliance');"
      ]
    },
    {
      "cell_type": "code",
      "execution_count": 28,
      "metadata": {
        "colab": {
          "base_uri": "https://localhost:8080/"
        },
        "id": "mBrZUNNGwNHm",
        "outputId": "a66e5f74-d989-49b3-c5bf-49ab28e56f78"
      },
      "outputs": [
        {
          "output_type": "stream",
          "name": "stdout",
          "text": [
            " * sqlite:///SQL.db\n",
            "Done.\n"
          ]
        },
        {
          "output_type": "execute_result",
          "data": {
            "text/plain": [
              "[]"
            ]
          },
          "metadata": {},
          "execution_count": 28
        }
      ],
      "source": [
        "%%sql\n",
        "CREATE TABLE tblSubCategory\n",
        "(\n",
        "SubCategoryID INT,\n",
        "SubCategoryName VARCHAR (30) NOT NULL,\n",
        "CategoryID INT NOT NULL,\n",
        "FOREIGN KEY (CategoryID) REFERENCES tblCategory (CategoryID),\n",
        "PRIMARY KEY (SubCategoryID)\n",
        ") ;\n"
      ]
    },
    {
      "cell_type": "code",
      "execution_count": 29,
      "metadata": {
        "colab": {
          "base_uri": "https://localhost:8080/"
        },
        "id": "2UXAogWmwNHn",
        "outputId": "88732081-2ac9-441a-f11c-6b0888eb9f02"
      },
      "outputs": [
        {
          "output_type": "stream",
          "name": "stdout",
          "text": [
            " * sqlite:///SQL.db\n",
            "12 rows affected.\n"
          ]
        },
        {
          "output_type": "execute_result",
          "data": {
            "text/plain": [
              "[]"
            ]
          },
          "metadata": {},
          "execution_count": 29
        }
      ],
      "source": [
        "%%sql\n",
        "INSERT INTO tblSubCategory VALUES\n",
        "(1,'Sink',1),\n",
        "(2,'Tap',1),\n",
        "(3,'Capboard',1),\n",
        "(4,'Couch',2),\n",
        "(5,'Dining table',2),\n",
        "(6,'Easy Chair',2),\n",
        "(7,'Bed',3),\n",
        "(8,'Desk',3),\n",
        "(9,'Mirror',3),\n",
        "(10, 'Television',4),\n",
        "(11, 'Washing Machine',4),\n",
        "(12,'Electric Heater',4) ;"
      ]
    },
    {
      "cell_type": "code",
      "execution_count": 30,
      "metadata": {
        "colab": {
          "base_uri": "https://localhost:8080/"
        },
        "id": "j9DK_QBZwNHn",
        "outputId": "ae257f43-f195-4ba3-8b8b-1f5ceea6e6d3"
      },
      "outputs": [
        {
          "output_type": "stream",
          "name": "stdout",
          "text": [
            " * sqlite:///SQL.db\n",
            "Done.\n"
          ]
        },
        {
          "output_type": "execute_result",
          "data": {
            "text/plain": [
              "[]"
            ]
          },
          "metadata": {},
          "execution_count": 30
        }
      ],
      "source": [
        "%%sql\n",
        "CREATE TABLE tblProducts\n",
        "(\n",
        "ProductID INTNOT NULL,\n",
        "ProductName VARCHAR (45),\n",
        "ProductPrice INT,\n",
        "SubCategoryID INT,\n",
        "FOREIGN KEY (SubCategoryID) REFERENCES tblSubCategory (SubCategoryID),\n",
        "PRIMARY KEY(ProductID)\n",
        ");"
      ]
    },
    {
      "cell_type": "code",
      "execution_count": 31,
      "metadata": {
        "colab": {
          "base_uri": "https://localhost:8080/"
        },
        "id": "WHFQpeRQwNHn",
        "outputId": "90d6938d-9b2b-4283-d9fe-ab6b96bc2a8a"
      },
      "outputs": [
        {
          "output_type": "stream",
          "name": "stdout",
          "text": [
            " * sqlite:///SQL.db\n",
            "40 rows affected.\n"
          ]
        },
        {
          "output_type": "execute_result",
          "data": {
            "text/plain": [
              "[]"
            ]
          },
          "metadata": {},
          "execution_count": 31
        }
      ],
      "source": [
        "%%sql\n",
        "INSERT INTO tblProducts VALUES\n",
        "(1,'Big Sink',5000,1),\n",
        "(2,'Small Sink',3500,1),\n",
        "(3,'Nirosta Sink',7500,1),\n",
        "(4,'Big Tap',2000,2),\n",
        "(5,'Small Tap',1000,2),\n",
        "(6,'Standard Tap',500,2),\n",
        "(7,'Big Capboard',4000,3),\n",
        "(8,'Small Capboard',2500,3),\n",
        "(9,'IKEA Capboard',2000,3),\n",
        "(10,'Big Couch',4552,4),\n",
        "(11,'Small Couch',2500,4),\n",
        "(12,'Leather Couch',1500,4),\n",
        "(13,'Round Table',8000,5),\n",
        "(14, 'Rectangle Table',5000,5),\n",
        "(15,'IKEA Table',3500,5),\n",
        "(16,'American comfort',9000,6),\n",
        "(17,'IKEA Single Chair',3500,6),\n",
        "(18, 'Beytily Chair',4000,6),\n",
        "(19,'King size bed',9500,7),\n",
        "(20,'Queen size bed',11000,7),\n",
        "(21, 'Single size bed',6000,7),\n",
        "(22,'IKEA Desk',1500,8),\n",
        "(23, 'Whole wood Desk',4500,8),\n",
        "(24, 'Plywood Desk',1000,8),\n",
        "(25,'Big Mirror',1500,9),\n",
        "(26,'Small Mirror',500,9),\n",
        "(27,'Personal Mirror',2500,9),\n",
        "(28,'56 inch Samsung',5500,10),\n",
        "(29,'32 inch HP',3500,10),\n",
        "(30,'21 inch DELL',2700,10),\n",
        "(31,'Bosh Machine',7000,11),\n",
        "(32,'Samsung Machine',5000,11),\n",
        "(33,'Makita Machine',4500,11),\n",
        "(34,'Big Heater',500,12),\n",
        "(35,'Small Heater',350,12),\n",
        "(36,'Rocket Heater',200,12),\n",
        "(37,'Coffee',5,null),\n",
        "(38,'brown suger',0.5,null),\n",
        "(39,'Tea',3,null),\n",
        "(40, 'biscuit',6,null);"
      ]
    },
    {
      "cell_type": "code",
      "execution_count": 32,
      "metadata": {
        "colab": {
          "base_uri": "https://localhost:8080/",
          "height": 929
        },
        "id": "7ubkCx91wNHn",
        "outputId": "8ba96938-201e-4c92-b38a-44e61def7119"
      },
      "outputs": [
        {
          "output_type": "stream",
          "name": "stdout",
          "text": [
            " * sqlite:///SQL.db\n",
            "Done.\n"
          ]
        },
        {
          "output_type": "execute_result",
          "data": {
            "text/plain": [
              "[(1, 'Big Sink', 5000, 1),\n",
              " (2, 'Small Sink', 3500, 1),\n",
              " (3, 'Nirosta Sink', 7500, 1),\n",
              " (4, 'Big Tap', 2000, 2),\n",
              " (5, 'Small Tap', 1000, 2),\n",
              " (6, 'Standard Tap', 500, 2),\n",
              " (7, 'Big Capboard', 4000, 3),\n",
              " (8, 'Small Capboard', 2500, 3),\n",
              " (9, 'IKEA Capboard', 2000, 3),\n",
              " (10, 'Big Couch', 4552, 4),\n",
              " (11, 'Small Couch', 2500, 4),\n",
              " (12, 'Leather Couch', 1500, 4),\n",
              " (13, 'Round Table', 8000, 5),\n",
              " (14, 'Rectangle Table', 5000, 5),\n",
              " (15, 'IKEA Table', 3500, 5),\n",
              " (16, 'American comfort', 9000, 6),\n",
              " (17, 'IKEA Single Chair', 3500, 6),\n",
              " (18, 'Beytily Chair', 4000, 6),\n",
              " (19, 'King size bed', 9500, 7),\n",
              " (20, 'Queen size bed', 11000, 7),\n",
              " (21, 'Single size bed', 6000, 7),\n",
              " (22, 'IKEA Desk', 1500, 8),\n",
              " (23, 'Whole wood Desk', 4500, 8),\n",
              " (24, 'Plywood Desk', 1000, 8),\n",
              " (25, 'Big Mirror', 1500, 9),\n",
              " (26, 'Small Mirror', 500, 9),\n",
              " (27, 'Personal Mirror', 2500, 9),\n",
              " (28, '56 inch Samsung', 5500, 10),\n",
              " (29, '32 inch HP', 3500, 10),\n",
              " (30, '21 inch DELL', 2700, 10),\n",
              " (31, 'Bosh Machine', 7000, 11),\n",
              " (32, 'Samsung Machine', 5000, 11),\n",
              " (33, 'Makita Machine', 4500, 11),\n",
              " (34, 'Big Heater', 500, 12),\n",
              " (35, 'Small Heater', 350, 12),\n",
              " (36, 'Rocket Heater', 200, 12),\n",
              " (37, 'Coffee', 5, None),\n",
              " (38, 'brown suger', 0.5, None),\n",
              " (39, 'Tea', 3, None),\n",
              " (40, 'biscuit', 6, None)]"
            ],
            "text/html": [
              "<table>\n",
              "    <thead>\n",
              "        <tr>\n",
              "            <th>ProductID</th>\n",
              "            <th>ProductName</th>\n",
              "            <th>ProductPrice</th>\n",
              "            <th>SubCategoryID</th>\n",
              "        </tr>\n",
              "    </thead>\n",
              "    <tbody>\n",
              "        <tr>\n",
              "            <td>1</td>\n",
              "            <td>Big Sink</td>\n",
              "            <td>5000</td>\n",
              "            <td>1</td>\n",
              "        </tr>\n",
              "        <tr>\n",
              "            <td>2</td>\n",
              "            <td>Small Sink</td>\n",
              "            <td>3500</td>\n",
              "            <td>1</td>\n",
              "        </tr>\n",
              "        <tr>\n",
              "            <td>3</td>\n",
              "            <td>Nirosta Sink</td>\n",
              "            <td>7500</td>\n",
              "            <td>1</td>\n",
              "        </tr>\n",
              "        <tr>\n",
              "            <td>4</td>\n",
              "            <td>Big Tap</td>\n",
              "            <td>2000</td>\n",
              "            <td>2</td>\n",
              "        </tr>\n",
              "        <tr>\n",
              "            <td>5</td>\n",
              "            <td>Small Tap</td>\n",
              "            <td>1000</td>\n",
              "            <td>2</td>\n",
              "        </tr>\n",
              "        <tr>\n",
              "            <td>6</td>\n",
              "            <td>Standard Tap</td>\n",
              "            <td>500</td>\n",
              "            <td>2</td>\n",
              "        </tr>\n",
              "        <tr>\n",
              "            <td>7</td>\n",
              "            <td>Big Capboard</td>\n",
              "            <td>4000</td>\n",
              "            <td>3</td>\n",
              "        </tr>\n",
              "        <tr>\n",
              "            <td>8</td>\n",
              "            <td>Small Capboard</td>\n",
              "            <td>2500</td>\n",
              "            <td>3</td>\n",
              "        </tr>\n",
              "        <tr>\n",
              "            <td>9</td>\n",
              "            <td>IKEA Capboard</td>\n",
              "            <td>2000</td>\n",
              "            <td>3</td>\n",
              "        </tr>\n",
              "        <tr>\n",
              "            <td>10</td>\n",
              "            <td>Big Couch</td>\n",
              "            <td>4552</td>\n",
              "            <td>4</td>\n",
              "        </tr>\n",
              "        <tr>\n",
              "            <td>11</td>\n",
              "            <td>Small Couch</td>\n",
              "            <td>2500</td>\n",
              "            <td>4</td>\n",
              "        </tr>\n",
              "        <tr>\n",
              "            <td>12</td>\n",
              "            <td>Leather Couch</td>\n",
              "            <td>1500</td>\n",
              "            <td>4</td>\n",
              "        </tr>\n",
              "        <tr>\n",
              "            <td>13</td>\n",
              "            <td>Round Table</td>\n",
              "            <td>8000</td>\n",
              "            <td>5</td>\n",
              "        </tr>\n",
              "        <tr>\n",
              "            <td>14</td>\n",
              "            <td>Rectangle Table</td>\n",
              "            <td>5000</td>\n",
              "            <td>5</td>\n",
              "        </tr>\n",
              "        <tr>\n",
              "            <td>15</td>\n",
              "            <td>IKEA Table</td>\n",
              "            <td>3500</td>\n",
              "            <td>5</td>\n",
              "        </tr>\n",
              "        <tr>\n",
              "            <td>16</td>\n",
              "            <td>American comfort</td>\n",
              "            <td>9000</td>\n",
              "            <td>6</td>\n",
              "        </tr>\n",
              "        <tr>\n",
              "            <td>17</td>\n",
              "            <td>IKEA Single Chair</td>\n",
              "            <td>3500</td>\n",
              "            <td>6</td>\n",
              "        </tr>\n",
              "        <tr>\n",
              "            <td>18</td>\n",
              "            <td>Beytily Chair</td>\n",
              "            <td>4000</td>\n",
              "            <td>6</td>\n",
              "        </tr>\n",
              "        <tr>\n",
              "            <td>19</td>\n",
              "            <td>King size bed</td>\n",
              "            <td>9500</td>\n",
              "            <td>7</td>\n",
              "        </tr>\n",
              "        <tr>\n",
              "            <td>20</td>\n",
              "            <td>Queen size bed</td>\n",
              "            <td>11000</td>\n",
              "            <td>7</td>\n",
              "        </tr>\n",
              "        <tr>\n",
              "            <td>21</td>\n",
              "            <td>Single size bed</td>\n",
              "            <td>6000</td>\n",
              "            <td>7</td>\n",
              "        </tr>\n",
              "        <tr>\n",
              "            <td>22</td>\n",
              "            <td>IKEA Desk</td>\n",
              "            <td>1500</td>\n",
              "            <td>8</td>\n",
              "        </tr>\n",
              "        <tr>\n",
              "            <td>23</td>\n",
              "            <td>Whole wood Desk</td>\n",
              "            <td>4500</td>\n",
              "            <td>8</td>\n",
              "        </tr>\n",
              "        <tr>\n",
              "            <td>24</td>\n",
              "            <td>Plywood Desk</td>\n",
              "            <td>1000</td>\n",
              "            <td>8</td>\n",
              "        </tr>\n",
              "        <tr>\n",
              "            <td>25</td>\n",
              "            <td>Big Mirror</td>\n",
              "            <td>1500</td>\n",
              "            <td>9</td>\n",
              "        </tr>\n",
              "        <tr>\n",
              "            <td>26</td>\n",
              "            <td>Small Mirror</td>\n",
              "            <td>500</td>\n",
              "            <td>9</td>\n",
              "        </tr>\n",
              "        <tr>\n",
              "            <td>27</td>\n",
              "            <td>Personal Mirror</td>\n",
              "            <td>2500</td>\n",
              "            <td>9</td>\n",
              "        </tr>\n",
              "        <tr>\n",
              "            <td>28</td>\n",
              "            <td>56 inch Samsung</td>\n",
              "            <td>5500</td>\n",
              "            <td>10</td>\n",
              "        </tr>\n",
              "        <tr>\n",
              "            <td>29</td>\n",
              "            <td>32 inch HP</td>\n",
              "            <td>3500</td>\n",
              "            <td>10</td>\n",
              "        </tr>\n",
              "        <tr>\n",
              "            <td>30</td>\n",
              "            <td>21 inch DELL</td>\n",
              "            <td>2700</td>\n",
              "            <td>10</td>\n",
              "        </tr>\n",
              "        <tr>\n",
              "            <td>31</td>\n",
              "            <td>Bosh Machine</td>\n",
              "            <td>7000</td>\n",
              "            <td>11</td>\n",
              "        </tr>\n",
              "        <tr>\n",
              "            <td>32</td>\n",
              "            <td>Samsung Machine</td>\n",
              "            <td>5000</td>\n",
              "            <td>11</td>\n",
              "        </tr>\n",
              "        <tr>\n",
              "            <td>33</td>\n",
              "            <td>Makita Machine</td>\n",
              "            <td>4500</td>\n",
              "            <td>11</td>\n",
              "        </tr>\n",
              "        <tr>\n",
              "            <td>34</td>\n",
              "            <td>Big Heater</td>\n",
              "            <td>500</td>\n",
              "            <td>12</td>\n",
              "        </tr>\n",
              "        <tr>\n",
              "            <td>35</td>\n",
              "            <td>Small Heater</td>\n",
              "            <td>350</td>\n",
              "            <td>12</td>\n",
              "        </tr>\n",
              "        <tr>\n",
              "            <td>36</td>\n",
              "            <td>Rocket Heater</td>\n",
              "            <td>200</td>\n",
              "            <td>12</td>\n",
              "        </tr>\n",
              "        <tr>\n",
              "            <td>37</td>\n",
              "            <td>Coffee</td>\n",
              "            <td>5</td>\n",
              "            <td>None</td>\n",
              "        </tr>\n",
              "        <tr>\n",
              "            <td>38</td>\n",
              "            <td>brown suger</td>\n",
              "            <td>0.5</td>\n",
              "            <td>None</td>\n",
              "        </tr>\n",
              "        <tr>\n",
              "            <td>39</td>\n",
              "            <td>Tea</td>\n",
              "            <td>3</td>\n",
              "            <td>None</td>\n",
              "        </tr>\n",
              "        <tr>\n",
              "            <td>40</td>\n",
              "            <td>biscuit</td>\n",
              "            <td>6</td>\n",
              "            <td>None</td>\n",
              "        </tr>\n",
              "    </tbody>\n",
              "</table>"
            ]
          },
          "metadata": {},
          "execution_count": 32
        }
      ],
      "source": [
        "%%sql\n",
        "SELECT * FROM tblProducts\n"
      ]
    },
    {
      "cell_type": "code",
      "execution_count": 33,
      "metadata": {
        "colab": {
          "base_uri": "https://localhost:8080/",
          "height": 331
        },
        "id": "T3m9C5AgwNHo",
        "outputId": "54ec5802-e29f-449c-db2a-434ed034b529"
      },
      "outputs": [
        {
          "output_type": "stream",
          "name": "stdout",
          "text": [
            " * sqlite:///SQL.db\n",
            "Done.\n"
          ]
        },
        {
          "output_type": "execute_result",
          "data": {
            "text/plain": [
              "[(1, 'Sink', 1),\n",
              " (2, 'Tap', 1),\n",
              " (3, 'Capboard', 1),\n",
              " (4, 'Couch', 2),\n",
              " (5, 'Dining table', 2),\n",
              " (6, 'Easy Chair', 2),\n",
              " (7, 'Bed', 3),\n",
              " (8, 'Desk', 3),\n",
              " (9, 'Mirror', 3),\n",
              " (10, 'Television', 4),\n",
              " (11, 'Washing Machine', 4),\n",
              " (12, 'Electric Heater', 4)]"
            ],
            "text/html": [
              "<table>\n",
              "    <thead>\n",
              "        <tr>\n",
              "            <th>SubCategoryID</th>\n",
              "            <th>SubCategoryName</th>\n",
              "            <th>CategoryID</th>\n",
              "        </tr>\n",
              "    </thead>\n",
              "    <tbody>\n",
              "        <tr>\n",
              "            <td>1</td>\n",
              "            <td>Sink</td>\n",
              "            <td>1</td>\n",
              "        </tr>\n",
              "        <tr>\n",
              "            <td>2</td>\n",
              "            <td>Tap</td>\n",
              "            <td>1</td>\n",
              "        </tr>\n",
              "        <tr>\n",
              "            <td>3</td>\n",
              "            <td>Capboard</td>\n",
              "            <td>1</td>\n",
              "        </tr>\n",
              "        <tr>\n",
              "            <td>4</td>\n",
              "            <td>Couch</td>\n",
              "            <td>2</td>\n",
              "        </tr>\n",
              "        <tr>\n",
              "            <td>5</td>\n",
              "            <td>Dining table</td>\n",
              "            <td>2</td>\n",
              "        </tr>\n",
              "        <tr>\n",
              "            <td>6</td>\n",
              "            <td>Easy Chair</td>\n",
              "            <td>2</td>\n",
              "        </tr>\n",
              "        <tr>\n",
              "            <td>7</td>\n",
              "            <td>Bed</td>\n",
              "            <td>3</td>\n",
              "        </tr>\n",
              "        <tr>\n",
              "            <td>8</td>\n",
              "            <td>Desk</td>\n",
              "            <td>3</td>\n",
              "        </tr>\n",
              "        <tr>\n",
              "            <td>9</td>\n",
              "            <td>Mirror</td>\n",
              "            <td>3</td>\n",
              "        </tr>\n",
              "        <tr>\n",
              "            <td>10</td>\n",
              "            <td>Television</td>\n",
              "            <td>4</td>\n",
              "        </tr>\n",
              "        <tr>\n",
              "            <td>11</td>\n",
              "            <td>Washing Machine</td>\n",
              "            <td>4</td>\n",
              "        </tr>\n",
              "        <tr>\n",
              "            <td>12</td>\n",
              "            <td>Electric Heater</td>\n",
              "            <td>4</td>\n",
              "        </tr>\n",
              "    </tbody>\n",
              "</table>"
            ]
          },
          "metadata": {},
          "execution_count": 33
        }
      ],
      "source": [
        "%%sql\n",
        "SELECT * FROM tblSubCategory\n"
      ]
    },
    {
      "cell_type": "code",
      "execution_count": 34,
      "metadata": {
        "colab": {
          "base_uri": "https://localhost:8080/",
          "height": 161
        },
        "id": "_t3x-IOKwNHo",
        "outputId": "2189ba43-55b0-4bfb-adbd-11a17d65bddd"
      },
      "outputs": [
        {
          "output_type": "stream",
          "name": "stdout",
          "text": [
            " * sqlite:///SQL.db\n",
            "Done.\n"
          ]
        },
        {
          "output_type": "execute_result",
          "data": {
            "text/plain": [
              "[(1, 'Kitchen'),\n",
              " (2, 'Living Room'),\n",
              " (3, 'Bedroom'),\n",
              " (4, 'Electrical appliance')]"
            ],
            "text/html": [
              "<table>\n",
              "    <thead>\n",
              "        <tr>\n",
              "            <th>CategoryID</th>\n",
              "            <th>CategoryName</th>\n",
              "        </tr>\n",
              "    </thead>\n",
              "    <tbody>\n",
              "        <tr>\n",
              "            <td>1</td>\n",
              "            <td>Kitchen</td>\n",
              "        </tr>\n",
              "        <tr>\n",
              "            <td>2</td>\n",
              "            <td>Living Room</td>\n",
              "        </tr>\n",
              "        <tr>\n",
              "            <td>3</td>\n",
              "            <td>Bedroom</td>\n",
              "        </tr>\n",
              "        <tr>\n",
              "            <td>4</td>\n",
              "            <td>Electrical appliance</td>\n",
              "        </tr>\n",
              "    </tbody>\n",
              "</table>"
            ]
          },
          "metadata": {},
          "execution_count": 34
        }
      ],
      "source": [
        "%%sql\n",
        "SELECT * FROM tblCategory"
      ]
    },
    {
      "cell_type": "markdown",
      "metadata": {
        "id": "zA34uHHMwNHo"
      },
      "source": [
        "#### Создайте внутреннее соединение между tblproducts и tblsubcategory. ( Из tblproducts показать productName и productPrice. Из tblsubcategory показать имя_подкатегории.)"
      ]
    },
    {
      "cell_type": "code",
      "execution_count": 34,
      "metadata": {
        "id": "kuOYTGeywNHo"
      },
      "outputs": [],
      "source": []
    },
    {
      "cell_type": "markdown",
      "metadata": {
        "id": "E07Ve1s0wNHp"
      },
      "source": [
        "#### Создайте внутреннее соединение между tblproducts и tblcategory.<br>\n",
        "-- из tblproducts показать productName и productPrice.<br>\n",
        "-- из tblcategory показать имя_категории."
      ]
    },
    {
      "cell_type": "code",
      "execution_count": 34,
      "metadata": {
        "id": "cH-yCPGhwNHp"
      },
      "outputs": [],
      "source": []
    },
    {
      "cell_type": "markdown",
      "metadata": {
        "id": "piZtz5qQwNHp"
      },
      "source": [
        "#### ЛЕВОЕ соединение между tblproducts и tblcategory.<br>\n",
        "- из tblproducts показать productName и productPrice.\n",
        "- из tblcategory показать имя_категории."
      ]
    },
    {
      "cell_type": "code",
      "execution_count": 34,
      "metadata": {
        "id": "rsQT05mCwNHp"
      },
      "outputs": [],
      "source": []
    },
    {
      "cell_type": "markdown",
      "metadata": {
        "id": "V5MxpbxJwNHp"
      },
      "source": [
        "#### Показать сумарную цену продукта по названию категории в порядке от макс до мин.\n"
      ]
    },
    {
      "cell_type": "code",
      "execution_count": 35,
      "metadata": {
        "colab": {
          "base_uri": "https://localhost:8080/",
          "height": 182
        },
        "id": "5F_bWUR0wNHq",
        "outputId": "3fc6c09b-b46b-4e90-c1a4-dfbf8c3e5538"
      },
      "outputs": [
        {
          "output_type": "stream",
          "name": "stdout",
          "text": [
            " * sqlite:///SQL.db\n",
            "Done.\n"
          ]
        },
        {
          "output_type": "execute_result",
          "data": {
            "text/plain": [
              "[('Living Room', 41552),\n",
              " ('Bedroom', 38000),\n",
              " ('Electrical appliance', 29250),\n",
              " ('Kitchen', 28000),\n",
              " (None, 14.5)]"
            ],
            "text/html": [
              "<table>\n",
              "    <thead>\n",
              "        <tr>\n",
              "            <th>CategoryName</th>\n",
              "            <th>Total Price</th>\n",
              "        </tr>\n",
              "    </thead>\n",
              "    <tbody>\n",
              "        <tr>\n",
              "            <td>Living Room</td>\n",
              "            <td>41552</td>\n",
              "        </tr>\n",
              "        <tr>\n",
              "            <td>Bedroom</td>\n",
              "            <td>38000</td>\n",
              "        </tr>\n",
              "        <tr>\n",
              "            <td>Electrical appliance</td>\n",
              "            <td>29250</td>\n",
              "        </tr>\n",
              "        <tr>\n",
              "            <td>Kitchen</td>\n",
              "            <td>28000</td>\n",
              "        </tr>\n",
              "        <tr>\n",
              "            <td>None</td>\n",
              "            <td>14.5</td>\n",
              "        </tr>\n",
              "    </tbody>\n",
              "</table>"
            ]
          },
          "metadata": {},
          "execution_count": 35
        }
      ],
      "source": [
        "%%sql\n",
        "SELECT      CT.CategoryName, SUM(PR.ProductPrice) AS [Total Price]\n",
        "FROM        tblProducts AS PR\n",
        "Left JOIN  tblSubCategory AS SC\n",
        "ON          PR.SubCategoryID = SC.SubCategoryID\n",
        "Left JOIN  tblCategory AS CT\n",
        "ON          SC.CategoryID = CT.CategoryID\n",
        "GROUP BY    CT.CategoryName\n",
        "ORDER BY    SUM(PR.ProductPrice) DESC\n"
      ]
    },
    {
      "cell_type": "markdown",
      "metadata": {
        "id": "YpYAju8iwNHq"
      },
      "source": [
        "-Вопрос 7 - показать название самого дорогого товара с подкатегорией и категорией.\n"
      ]
    },
    {
      "cell_type": "code",
      "execution_count": 34,
      "metadata": {
        "id": "mB2R12lvwNHq"
      },
      "outputs": [],
      "source": []
    },
    {
      "cell_type": "code",
      "execution_count": 35,
      "metadata": {
        "id": "PxlITQLPwNHq"
      },
      "outputs": [],
      "source": []
    },
    {
      "cell_type": "markdown",
      "metadata": {
        "id": "ja9viv1vwNHq"
      },
      "source": [
        "-- -Вопрос 8 - показать название самого дорогого продукта в категории name = 'kitchen'.\n",
        "-- если у вас есть нулевые значения, не показывайте их!"
      ]
    },
    {
      "cell_type": "code",
      "execution_count": 35,
      "metadata": {
        "id": "Ru9g59hmwNHr"
      },
      "outputs": [],
      "source": []
    },
    {
      "cell_type": "markdown",
      "metadata": {
        "id": "Di0n9ERFwNHr"
      },
      "source": [
        "-- Тема 06 - Математические функции -- используйте таблицу tblGenderMeasurements.\n",
        "-- Вопрос 1. Создайте AVG для каждого из параметров: Возраст, Рост и Вес по полу. точно, увеличьте число AVG для каждого из параметров.\n",
        "-- Ответ:\n",
        "\n",
        "-- Вопрос 2. Создайте тот же запрос, но теперь укажите числа AVG.\n",
        "-- Ответ:\n",
        "\n",
        "\n",
        "-- Вопрос 3. Создайте тот же запрос, но теперь округляйте числа AVG.\n",
        "-- Ответ:"
      ]
    },
    {
      "cell_type": "code",
      "execution_count": 36,
      "metadata": {
        "colab": {
          "base_uri": "https://localhost:8080/"
        },
        "id": "JJlazl7kwNHr",
        "outputId": "6ca02c41-2a41-4a8a-80f1-0dc04e11df39"
      },
      "outputs": [
        {
          "output_type": "stream",
          "name": "stdout",
          "text": [
            " * sqlite:///SQL.db\n",
            "Done.\n"
          ]
        },
        {
          "output_type": "execute_result",
          "data": {
            "text/plain": [
              "[]"
            ]
          },
          "metadata": {},
          "execution_count": 36
        }
      ],
      "source": [
        "%%sql\n",
        "CREATE TABLE tblGenderMeasurements\n",
        "(\n",
        "NumerID INT ,\n",
        "Name    NVARCHAR (30),\n",
        "Gender  NVARCHAR (20),\n",
        "Age     DECIMAL (8,2),\n",
        "Height  DECIMAL (8,2),\n",
        "Weight  DECIMAL (8,2),\n",
        "PRIMARY KEY(NumerID)\n",
        ")"
      ]
    },
    {
      "cell_type": "code",
      "execution_count": 37,
      "metadata": {
        "colab": {
          "base_uri": "https://localhost:8080/"
        },
        "id": "b4BRAFv5wNHr",
        "outputId": "7630fc52-6420-4568-811a-e883114f49b8"
      },
      "outputs": [
        {
          "output_type": "stream",
          "name": "stdout",
          "text": [
            " * sqlite:///SQL.db\n",
            "8 rows affected.\n"
          ]
        },
        {
          "output_type": "execute_result",
          "data": {
            "text/plain": [
              "[]"
            ]
          },
          "metadata": {},
          "execution_count": 37
        }
      ],
      "source": [
        "%%sql\n",
        "INSERT INTO tblGenderMeasurements VALUES\n",
        "(1,'Tomer','Male',31.4,1.73,68.5),\n",
        "(2,'Shai','Male',28.5,1.81,73.8),\n",
        "(3,'Noam','Male',32.3,1.77,80.8),\n",
        "(4,'Ben','Male',27.7,1.86,105.9),\n",
        "(5,'Rita','Female',32.2,1.65,61.8),\n",
        "(6,'Simha','Female',29.5,1.73,55.6),\n",
        "(7,'Efrat','Female',35.2,1.70,59.4),\n",
        "(8,'Miri','Female',26.4,1.78,63.8)"
      ]
    },
    {
      "cell_type": "markdown",
      "metadata": {
        "id": "Jm5exhwJwNHs"
      },
      "source": [
        "-- Вопрос 1. Создайте AVG для каждого из параметров: Возраст, Рост и Вес по полу. точно, увеличьте число AVG для каждого из параметров.\n",
        "-- Ответ:\n",
        "\n",
        "-- Вопрос 2. Создайте тот же запрос, но теперь укажите числа AVG.\n",
        "-- Ответ:\n",
        "\n",
        "\n",
        "-- Вопрос 3. Создайте тот же запрос, но теперь округляйте числа AVG.\n",
        "-- Ответ:\n"
      ]
    },
    {
      "cell_type": "code",
      "execution_count": 37,
      "metadata": {
        "id": "9AedsHK-wNHs"
      },
      "outputs": [],
      "source": []
    },
    {
      "cell_type": "code",
      "execution_count": 37,
      "metadata": {
        "id": "XB1GiScbwNHs"
      },
      "outputs": [],
      "source": [
        "\n"
      ]
    },
    {
      "cell_type": "markdown",
      "metadata": {
        "id": "DYTZKhkvwNHs"
      },
      "source": [
        "Показать текущую дату"
      ]
    },
    {
      "cell_type": "code",
      "execution_count": 37,
      "metadata": {
        "id": "2O1s4xL7wNHt"
      },
      "outputs": [],
      "source": []
    },
    {
      "cell_type": "code",
      "execution_count": null,
      "metadata": {
        "id": "n6jQDxIZwNHt",
        "outputId": "d59aa0ba-072d-497a-afab-b49f5516b5ec"
      },
      "outputs": [
        {
          "name": "stdout",
          "output_type": "stream",
          "text": [
            " * sqlite:///SQL_Server_Trail.db\n",
            "Done.\n"
          ]
        },
        {
          "data": {
            "text/html": [
              "<table>\n",
              "    <tr>\n",
              "        <th>strftime(&#x27;%Y %m %d&#x27;,&#x27;now&#x27;)</th>\n",
              "    </tr>\n",
              "    <tr>\n",
              "        <td>2022 07 08</td>\n",
              "    </tr>\n",
              "</table>"
            ],
            "text/plain": [
              "[('2022 07 08',)]"
            ]
          },
          "execution_count": 55,
          "metadata": {},
          "output_type": "execute_result"
        }
      ],
      "source": [
        "%%sql\n",
        "SELECT strftime('%Y %m %d','now');"
      ]
    },
    {
      "cell_type": "markdown",
      "metadata": {
        "id": "c2YWnHfQwNHt"
      },
      "source": [
        "Показать текущую дату и время"
      ]
    },
    {
      "cell_type": "code",
      "execution_count": 38,
      "metadata": {
        "colab": {
          "base_uri": "https://localhost:8080/",
          "height": 96
        },
        "id": "3I4MRch_wNHt",
        "outputId": "92d19e8e-a0e8-4cbd-b026-d2797007e6ad"
      },
      "outputs": [
        {
          "output_type": "stream",
          "name": "stdout",
          "text": [
            " * sqlite:///SQL.db\n",
            "Done.\n"
          ]
        },
        {
          "output_type": "execute_result",
          "data": {
            "text/plain": [
              "[('2025-07-08 07:32:42',)]"
            ],
            "text/html": [
              "<table>\n",
              "    <thead>\n",
              "        <tr>\n",
              "            <th>datetime(&#x27;now&#x27;,&#x27;localtime&#x27;)</th>\n",
              "        </tr>\n",
              "    </thead>\n",
              "    <tbody>\n",
              "        <tr>\n",
              "            <td>2025-07-08 07:32:42</td>\n",
              "        </tr>\n",
              "    </tbody>\n",
              "</table>"
            ]
          },
          "metadata": {},
          "execution_count": 38
        }
      ],
      "source": [
        "%%sql\n",
        "select datetime('now','localtime')"
      ]
    },
    {
      "cell_type": "code",
      "execution_count": 38,
      "metadata": {
        "id": "Zf59SfUYwNHt"
      },
      "outputs": [],
      "source": []
    }
  ],
  "metadata": {
    "kernelspec": {
      "display_name": "Python 3",
      "language": "python",
      "name": "python3"
    },
    "language_info": {
      "codemirror_mode": {
        "name": "ipython",
        "version": 3
      },
      "file_extension": ".py",
      "mimetype": "text/x-python",
      "name": "python",
      "nbconvert_exporter": "python",
      "pygments_lexer": "ipython3",
      "version": "3.8.3"
    },
    "colab": {
      "provenance": []
    }
  },
  "nbformat": 4,
  "nbformat_minor": 0
}