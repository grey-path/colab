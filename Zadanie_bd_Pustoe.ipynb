{
  "cells": [
    {
      "cell_type": "code",
      "execution_count": 40,
      "metadata": {
        "id": "w21yGGQH9Ij0"
      },
      "outputs": [],
      "source": [
        "import pandas as pd\n",
        "import sqlite3"
      ]
    },
    {
      "cell_type": "code",
      "execution_count": 39,
      "metadata": {
        "id": "MHNH9c3i9Ij1"
      },
      "outputs": [],
      "source": [
        "cnn = sqlite3.connect('SQL.db')"
      ]
    },
    {
      "cell_type": "code",
      "execution_count": 41,
      "metadata": {
        "id": "AChEWs6Q9Ij2",
        "outputId": "161f970a-4aa8-4220-a306-75c6ca32c712",
        "colab": {
          "base_uri": "https://localhost:8080/"
        }
      },
      "outputs": [
        {
          "output_type": "stream",
          "name": "stdout",
          "text": [
            "The sql extension is already loaded. To reload it, use:\n",
            "  %reload_ext sql\n"
          ]
        }
      ],
      "source": [
        "%load_ext sql"
      ]
    },
    {
      "cell_type": "code",
      "execution_count": 42,
      "metadata": {
        "id": "HpUyYEt_9Ij2"
      },
      "outputs": [],
      "source": [
        "%sql sqlite:///SQL.db"
      ]
    },
    {
      "cell_type": "code",
      "execution_count": 43,
      "metadata": {
        "id": "QIQ8o9UT9Ij3",
        "outputId": "621727ba-496a-4860-92e1-b96cb28fb2ff",
        "colab": {
          "base_uri": "https://localhost:8080/"
        }
      },
      "outputs": [
        {
          "output_type": "stream",
          "name": "stdout",
          "text": [
            " * sqlite:///SQL.db\n",
            "(sqlite3.OperationalError) table tblDepartment already exists\n",
            "[SQL: CREATE TABLE tblDepartment(\n",
            "    DepartmentID INT, \n",
            "    DepartmentName NVARCHAR (25), \n",
            "    DepartmentHead NVARCHAR (20), \n",
            "    PRIMARY KEY (DepartmentID)\n",
            ")]\n",
            "(Background on this error at: https://sqlalche.me/e/20/e3q8)\n"
          ]
        }
      ],
      "source": [
        "%%sql\n",
        "CREATE TABLE tblDepartment(\n",
        "    DepartmentID INT,\n",
        "    DepartmentName NVARCHAR (25),\n",
        "    DepartmentHead NVARCHAR (20),\n",
        "    PRIMARY KEY (DepartmentID)\n",
        ")"
      ]
    },
    {
      "cell_type": "code",
      "execution_count": 44,
      "metadata": {
        "id": "C3wMT8O19Ij4",
        "outputId": "43e8cd17-8fea-4b28-f2da-e657cc00ce5b",
        "colab": {
          "base_uri": "https://localhost:8080/"
        }
      },
      "outputs": [
        {
          "output_type": "stream",
          "name": "stdout",
          "text": [
            " * sqlite:///SQL.db\n",
            "(sqlite3.IntegrityError) UNIQUE constraint failed: tblDepartment.DepartmentID\n",
            "[SQL: INSERT INTO tblDepartment VALUES\n",
            "(1, 'IT', 'Shimi'), \n",
            "(2, 'HR', 'Roth'), \n",
            "(3, 'Payroll', 'Itai'), \n",
            "(4, 'Other Department', 'Simha')]\n",
            "(Background on this error at: https://sqlalche.me/e/20/gkpj)\n"
          ]
        }
      ],
      "source": [
        "%%sql\n",
        "INSERT INTO tblDepartment VALUES\n",
        "(1, 'IT', 'Shimi'),\n",
        "(2, 'HR', 'Roth'),\n",
        "(3, 'Payroll', 'Itai'),\n",
        "(4, 'Other Department', 'Simha')"
      ]
    },
    {
      "cell_type": "code",
      "execution_count": 45,
      "metadata": {
        "id": "wrs_nBHA9Ij4",
        "outputId": "ea1702ac-30c6-40e1-d921-994695783041",
        "colab": {
          "base_uri": "https://localhost:8080/",
          "height": 161
        }
      },
      "outputs": [
        {
          "output_type": "stream",
          "name": "stdout",
          "text": [
            " * sqlite:///SQL.db\n",
            "Done.\n"
          ]
        },
        {
          "output_type": "execute_result",
          "data": {
            "text/plain": [
              "[(1, 'IT', 'Shimi'),\n",
              " (2, 'HR', 'Roth'),\n",
              " (3, 'Payroll', 'Itai'),\n",
              " (4, 'Other Department', 'Simha')]"
            ],
            "text/html": [
              "<table>\n",
              "    <thead>\n",
              "        <tr>\n",
              "            <th>DepartmentID</th>\n",
              "            <th>DepartmentName</th>\n",
              "            <th>DepartmentHead</th>\n",
              "        </tr>\n",
              "    </thead>\n",
              "    <tbody>\n",
              "        <tr>\n",
              "            <td>1</td>\n",
              "            <td>IT</td>\n",
              "            <td>Shimi</td>\n",
              "        </tr>\n",
              "        <tr>\n",
              "            <td>2</td>\n",
              "            <td>HR</td>\n",
              "            <td>Roth</td>\n",
              "        </tr>\n",
              "        <tr>\n",
              "            <td>3</td>\n",
              "            <td>Payroll</td>\n",
              "            <td>Itai</td>\n",
              "        </tr>\n",
              "        <tr>\n",
              "            <td>4</td>\n",
              "            <td>Other Department</td>\n",
              "            <td>Simha</td>\n",
              "        </tr>\n",
              "    </tbody>\n",
              "</table>"
            ]
          },
          "metadata": {},
          "execution_count": 45
        }
      ],
      "source": [
        "%%sql\n",
        "Select *\n",
        "from tblDepartment"
      ]
    },
    {
      "cell_type": "code",
      "execution_count": 46,
      "metadata": {
        "id": "0EZbNV3Y9Ij5",
        "outputId": "912d3a52-d52f-44ce-8779-26f197c48684",
        "colab": {
          "base_uri": "https://localhost:8080/"
        }
      },
      "outputs": [
        {
          "output_type": "stream",
          "name": "stdout",
          "text": [
            " * sqlite:///SQL.db\n",
            "(sqlite3.OperationalError) table tblemployee already exists\n",
            "[SQL: CREATE TABLE tblemployee\n",
            "(\n",
            "    employeeID INT, \n",
            "    firstName NVARCHAR (30), \n",
            "    lastName NVARCHAR (30),\n",
            "    gender NVARCHAR (10), \n",
            "    Email NVARCHAR (50), \n",
            "    PhoneNumber NVARCHAR (15),\n",
            "    salary INT, \n",
            "    city NVARCHAR (20),\n",
            "    HireDate DATE,\n",
            "    DepartmentID INT,\n",
            "\n",
            "    FOREIGN KEY (DepartmentID) REFERENCES tblDepartment (DepartmentID),\n",
            "    PRIMARY KEY (employeeID)\n",
            "    \n",
            ")]\n",
            "(Background on this error at: https://sqlalche.me/e/20/e3q8)\n"
          ]
        }
      ],
      "source": [
        "%%sql\n",
        "CREATE TABLE tblemployee\n",
        "(\n",
        "    employeeID INT,\n",
        "    firstName NVARCHAR (30),\n",
        "    lastName NVARCHAR (30),\n",
        "    gender NVARCHAR (10),\n",
        "    Email NVARCHAR (50),\n",
        "    PhoneNumber NVARCHAR (15),\n",
        "    salary INT,\n",
        "    city NVARCHAR (20),\n",
        "    HireDate DATE,\n",
        "    DepartmentID INT,\n",
        "\n",
        "    FOREIGN KEY (DepartmentID) REFERENCES tblDepartment (DepartmentID),\n",
        "    PRIMARY KEY (employeeID)\n",
        "\n",
        ")"
      ]
    },
    {
      "cell_type": "code",
      "execution_count": 47,
      "metadata": {
        "id": "E7BfCL9M9Ij6",
        "outputId": "36d096db-f78a-4b1b-f974-2b8ae6db5545",
        "colab": {
          "base_uri": "https://localhost:8080/"
        }
      },
      "outputs": [
        {
          "output_type": "stream",
          "name": "stdout",
          "text": [
            " * sqlite:///SQL.db\n",
            "(sqlite3.IntegrityError) UNIQUE constraint failed: tblemployee.employeeID\n",
            "[SQL: INSERT INTO tblemployee VALUES\n",
            "(1,'Tomer', 'Itzhakov','Male', 'Tomerikoka@gmail.com', '0508554622', 11000, 'Jerusalem', '20011201',1),\n",
            "(2,'Shira', 'Nevo','Female', 'Shira@gmail.com', '0508515542', 8000, 'Jerusalem', '20020615',4),\n",
            "(3,'Ester', 'Hyut','Female', 'Ester@gmail.com', '0508575148', 10000, 'Jerusalem', '20120528',3),\n",
            "(4,'Robin', 'Choen','Male', 'Robin@gmail.com', '0528542523', 7000, 'Tel-Aviv', '20120224',2),\n",
            "(5,'Shlomi', 'Hai','Male', 'Shlomi@gmail.com', '0528456122', 10000, 'Tel-Aviv', '20081019',3),\n",
            "(6,'David', 'Kepler','Male', 'David@gmail.com', '0558847365', 11000, 'Tel-Aviv', '20160515',1),\n",
            "(7,'Dana', 'Tova','Female', 'Dana@gmail.com', '0556789322', 4000, 'Tel-Aviv', '20160202',2),\n",
            "(8,'Idan', 'Haviv','Male', 'Idan@gmail.com', '0508752256', 10000, 'Haifa', '20170522',3),\n",
            "(9,'Eti', 'Boblil','Female', 'Eti@gmail.com', '0505847665', 2000, 'Haifa', '20180614',4),\n",
            "(10,'Esti', 'Karlibah','Female', 'Esti@gmail.com', '0504859998', 1000, 'Haifa', '20140713',2)]\n",
            "(Background on this error at: https://sqlalche.me/e/20/gkpj)\n"
          ]
        }
      ],
      "source": [
        "%%sql\n",
        "INSERT INTO tblemployee VALUES\n",
        "(1,'Tomer', 'Itzhakov','Male', 'Tomerikoka@gmail.com', '0508554622', 11000, 'Jerusalem', '20011201',1),\n",
        "(2,'Shira', 'Nevo','Female', 'Shira@gmail.com', '0508515542', 8000, 'Jerusalem', '20020615',4),\n",
        "(3,'Ester', 'Hyut','Female', 'Ester@gmail.com', '0508575148', 10000, 'Jerusalem', '20120528',3),\n",
        "(4,'Robin', 'Choen','Male', 'Robin@gmail.com', '0528542523', 7000, 'Tel-Aviv', '20120224',2),\n",
        "(5,'Shlomi', 'Hai','Male', 'Shlomi@gmail.com', '0528456122', 10000, 'Tel-Aviv', '20081019',3),\n",
        "(6,'David', 'Kepler','Male', 'David@gmail.com', '0558847365', 11000, 'Tel-Aviv', '20160515',1),\n",
        "(7,'Dana', 'Tova','Female', 'Dana@gmail.com', '0556789322', 4000, 'Tel-Aviv', '20160202',2),\n",
        "(8,'Idan', 'Haviv','Male', 'Idan@gmail.com', '0508752256', 10000, 'Haifa', '20170522',3),\n",
        "(9,'Eti', 'Boblil','Female', 'Eti@gmail.com', '0505847665', 2000, 'Haifa', '20180614',4),\n",
        "(10,'Esti', 'Karlibah','Female', 'Esti@gmail.com', '0504859998', 1000, 'Haifa', '20140713',2)"
      ]
    },
    {
      "cell_type": "markdown",
      "metadata": {
        "id": "Xd9orCBs9Ij7"
      },
      "source": [
        " #### Распечатать всю таблицу tblemployee"
      ]
    },
    {
      "cell_type": "code",
      "execution_count": 48,
      "metadata": {
        "id": "pzG4BE0Q9Ij9",
        "outputId": "21da23e4-50d1-4dc0-86a6-be4f11d1daa0",
        "colab": {
          "base_uri": "https://localhost:8080/",
          "height": 289
        }
      },
      "outputs": [
        {
          "output_type": "stream",
          "name": "stdout",
          "text": [
            " * sqlite:///SQL.db\n",
            "Done.\n"
          ]
        },
        {
          "output_type": "execute_result",
          "data": {
            "text/plain": [
              "[(1, 'Tomer', 'Itzhakov', 'Male', 'Tomerikoka@gmail.com', '0508554622', 11000, 'Jerusalem', 20011201, 1),\n",
              " (2, 'Shira', 'Nevo', 'Female', 'Shira@gmail.com', '0508515542', 8000, 'Jerusalem', 20020615, 4),\n",
              " (3, 'Ester', 'Hyut', 'Female', 'Ester@gmail.com', '0508575148', 10000, 'Jerusalem', 20120528, 3),\n",
              " (4, 'Robin', 'Choen', 'Male', 'Robin@gmail.com', '0528542523', 7000, 'Tel-Aviv', 20120224, 2),\n",
              " (5, 'Shlomi', 'Hai', 'Male', 'Shlomi@gmail.com', '0528456122', 10000, 'Tel-Aviv', 20081019, 3),\n",
              " (6, 'David', 'Kepler', 'Male', 'David@gmail.com', '0558847365', 11000, 'Tel-Aviv', 20160515, 1),\n",
              " (7, 'Dana', 'Tova', 'Female', 'Dana@gmail.com', '0556789322', 4000, 'Tel-Aviv', 20160202, 2),\n",
              " (8, 'Idan', 'Haviv', 'Male', 'Idan@gmail.com', '0508752256', 10000, 'Haifa', 20170522, 3),\n",
              " (9, 'Eti', 'Boblil', 'Female', 'Eti@gmail.com', '0505847665', 2000, 'Haifa', 20180614, 4),\n",
              " (10, 'Esti', 'Karlibah', 'Female', 'Esti@gmail.com', '0504859998', 1000, 'Haifa', 20140713, 2)]"
            ],
            "text/html": [
              "<table>\n",
              "    <thead>\n",
              "        <tr>\n",
              "            <th>employeeID</th>\n",
              "            <th>firstName</th>\n",
              "            <th>lastName</th>\n",
              "            <th>gender</th>\n",
              "            <th>Email</th>\n",
              "            <th>PhoneNumber</th>\n",
              "            <th>salary</th>\n",
              "            <th>city</th>\n",
              "            <th>HireDate</th>\n",
              "            <th>DepartmentID</th>\n",
              "        </tr>\n",
              "    </thead>\n",
              "    <tbody>\n",
              "        <tr>\n",
              "            <td>1</td>\n",
              "            <td>Tomer</td>\n",
              "            <td>Itzhakov</td>\n",
              "            <td>Male</td>\n",
              "            <td>Tomerikoka@gmail.com</td>\n",
              "            <td>0508554622</td>\n",
              "            <td>11000</td>\n",
              "            <td>Jerusalem</td>\n",
              "            <td>20011201</td>\n",
              "            <td>1</td>\n",
              "        </tr>\n",
              "        <tr>\n",
              "            <td>2</td>\n",
              "            <td>Shira</td>\n",
              "            <td>Nevo</td>\n",
              "            <td>Female</td>\n",
              "            <td>Shira@gmail.com</td>\n",
              "            <td>0508515542</td>\n",
              "            <td>8000</td>\n",
              "            <td>Jerusalem</td>\n",
              "            <td>20020615</td>\n",
              "            <td>4</td>\n",
              "        </tr>\n",
              "        <tr>\n",
              "            <td>3</td>\n",
              "            <td>Ester</td>\n",
              "            <td>Hyut</td>\n",
              "            <td>Female</td>\n",
              "            <td>Ester@gmail.com</td>\n",
              "            <td>0508575148</td>\n",
              "            <td>10000</td>\n",
              "            <td>Jerusalem</td>\n",
              "            <td>20120528</td>\n",
              "            <td>3</td>\n",
              "        </tr>\n",
              "        <tr>\n",
              "            <td>4</td>\n",
              "            <td>Robin</td>\n",
              "            <td>Choen</td>\n",
              "            <td>Male</td>\n",
              "            <td>Robin@gmail.com</td>\n",
              "            <td>0528542523</td>\n",
              "            <td>7000</td>\n",
              "            <td>Tel-Aviv</td>\n",
              "            <td>20120224</td>\n",
              "            <td>2</td>\n",
              "        </tr>\n",
              "        <tr>\n",
              "            <td>5</td>\n",
              "            <td>Shlomi</td>\n",
              "            <td>Hai</td>\n",
              "            <td>Male</td>\n",
              "            <td>Shlomi@gmail.com</td>\n",
              "            <td>0528456122</td>\n",
              "            <td>10000</td>\n",
              "            <td>Tel-Aviv</td>\n",
              "            <td>20081019</td>\n",
              "            <td>3</td>\n",
              "        </tr>\n",
              "        <tr>\n",
              "            <td>6</td>\n",
              "            <td>David</td>\n",
              "            <td>Kepler</td>\n",
              "            <td>Male</td>\n",
              "            <td>David@gmail.com</td>\n",
              "            <td>0558847365</td>\n",
              "            <td>11000</td>\n",
              "            <td>Tel-Aviv</td>\n",
              "            <td>20160515</td>\n",
              "            <td>1</td>\n",
              "        </tr>\n",
              "        <tr>\n",
              "            <td>7</td>\n",
              "            <td>Dana</td>\n",
              "            <td>Tova</td>\n",
              "            <td>Female</td>\n",
              "            <td>Dana@gmail.com</td>\n",
              "            <td>0556789322</td>\n",
              "            <td>4000</td>\n",
              "            <td>Tel-Aviv</td>\n",
              "            <td>20160202</td>\n",
              "            <td>2</td>\n",
              "        </tr>\n",
              "        <tr>\n",
              "            <td>8</td>\n",
              "            <td>Idan</td>\n",
              "            <td>Haviv</td>\n",
              "            <td>Male</td>\n",
              "            <td>Idan@gmail.com</td>\n",
              "            <td>0508752256</td>\n",
              "            <td>10000</td>\n",
              "            <td>Haifa</td>\n",
              "            <td>20170522</td>\n",
              "            <td>3</td>\n",
              "        </tr>\n",
              "        <tr>\n",
              "            <td>9</td>\n",
              "            <td>Eti</td>\n",
              "            <td>Boblil</td>\n",
              "            <td>Female</td>\n",
              "            <td>Eti@gmail.com</td>\n",
              "            <td>0505847665</td>\n",
              "            <td>2000</td>\n",
              "            <td>Haifa</td>\n",
              "            <td>20180614</td>\n",
              "            <td>4</td>\n",
              "        </tr>\n",
              "        <tr>\n",
              "            <td>10</td>\n",
              "            <td>Esti</td>\n",
              "            <td>Karlibah</td>\n",
              "            <td>Female</td>\n",
              "            <td>Esti@gmail.com</td>\n",
              "            <td>0504859998</td>\n",
              "            <td>1000</td>\n",
              "            <td>Haifa</td>\n",
              "            <td>20140713</td>\n",
              "            <td>2</td>\n",
              "        </tr>\n",
              "    </tbody>\n",
              "</table>"
            ]
          },
          "metadata": {},
          "execution_count": 48
        }
      ],
      "source": [
        "%%sql\n",
        "SELECT * FROM tblemployee"
      ]
    },
    {
      "cell_type": "code",
      "execution_count": 49,
      "metadata": {
        "id": "I8X20GUh9Ij-",
        "outputId": "2250360e-304e-4932-8827-69a06ca737d0",
        "colab": {
          "base_uri": "https://localhost:8080/",
          "height": 161
        }
      },
      "outputs": [
        {
          "output_type": "stream",
          "name": "stdout",
          "text": [
            " * sqlite:///SQL.db\n",
            "Done.\n"
          ]
        },
        {
          "output_type": "execute_result",
          "data": {
            "text/plain": [
              "[(1, 'IT', 'Shimi'),\n",
              " (2, 'HR', 'Roth'),\n",
              " (3, 'Payroll', 'Itai'),\n",
              " (4, 'Other Department', 'Simha')]"
            ],
            "text/html": [
              "<table>\n",
              "    <thead>\n",
              "        <tr>\n",
              "            <th>DepartmentID</th>\n",
              "            <th>DepartmentName</th>\n",
              "            <th>DepartmentHead</th>\n",
              "        </tr>\n",
              "    </thead>\n",
              "    <tbody>\n",
              "        <tr>\n",
              "            <td>1</td>\n",
              "            <td>IT</td>\n",
              "            <td>Shimi</td>\n",
              "        </tr>\n",
              "        <tr>\n",
              "            <td>2</td>\n",
              "            <td>HR</td>\n",
              "            <td>Roth</td>\n",
              "        </tr>\n",
              "        <tr>\n",
              "            <td>3</td>\n",
              "            <td>Payroll</td>\n",
              "            <td>Itai</td>\n",
              "        </tr>\n",
              "        <tr>\n",
              "            <td>4</td>\n",
              "            <td>Other Department</td>\n",
              "            <td>Simha</td>\n",
              "        </tr>\n",
              "    </tbody>\n",
              "</table>"
            ]
          },
          "metadata": {},
          "execution_count": 49
        }
      ],
      "source": [
        "%%sql\n",
        "SELECT * FROM tblDepartment"
      ]
    },
    {
      "cell_type": "markdown",
      "metadata": {
        "id": "Kdj_SQMq9Ij_"
      },
      "source": [
        "#### Выбрать всех женщин  из tblemployee. Показывать только имя, пол и номер телефона"
      ]
    },
    {
      "cell_type": "code",
      "execution_count": 49,
      "metadata": {
        "id": "f90Srdui9IkA"
      },
      "outputs": [],
      "source": []
    },
    {
      "cell_type": "markdown",
      "metadata": {
        "id": "eTd7mWCt9IkB"
      },
      "source": [
        "#### Выберите всех мужчин, которые живут в Иерусалиме и Хайфе."
      ]
    },
    {
      "cell_type": "markdown",
      "metadata": {
        "id": "-jZEs4Mo9IkB"
      },
      "source": [
        "in"
      ]
    },
    {
      "cell_type": "code",
      "execution_count": 49,
      "metadata": {
        "id": "P-xerSUV9IkB"
      },
      "outputs": [],
      "source": []
    },
    {
      "cell_type": "markdown",
      "metadata": {
        "id": "xvUKQ8e39IkC"
      },
      "source": [
        "с помощью логических условий"
      ]
    },
    {
      "cell_type": "code",
      "execution_count": null,
      "metadata": {
        "id": "PmgfUjdn9IkC",
        "outputId": "9ad35d3d-9c37-45b1-a4e4-3445c6eb7861"
      },
      "outputs": [
        {
          "name": "stdout",
          "output_type": "stream",
          "text": [
            " * sqlite:///The_SQL_Server_Trail_Database.db\n",
            "Done.\n"
          ]
        },
        {
          "data": {
            "text/html": [
              "<table>\n",
              "    <tr>\n",
              "        <th>employeeID</th>\n",
              "        <th>firstName</th>\n",
              "        <th>lastName</th>\n",
              "        <th>gender</th>\n",
              "        <th>Email</th>\n",
              "        <th>PhoneNumber</th>\n",
              "        <th>salary</th>\n",
              "        <th>city</th>\n",
              "        <th>HireDate</th>\n",
              "        <th>DepartmentID</th>\n",
              "    </tr>\n",
              "    <tr>\n",
              "        <td>1</td>\n",
              "        <td>Tomer</td>\n",
              "        <td>Itzhakov</td>\n",
              "        <td>Male</td>\n",
              "        <td>Tomerikoka@gmail.com</td>\n",
              "        <td>0508554622</td>\n",
              "        <td>11000</td>\n",
              "        <td>Jerusalem</td>\n",
              "        <td>20011201</td>\n",
              "        <td>1</td>\n",
              "    </tr>\n",
              "    <tr>\n",
              "        <td>8</td>\n",
              "        <td>Idan</td>\n",
              "        <td>Haviv</td>\n",
              "        <td>Male</td>\n",
              "        <td>Idan@gmail.com</td>\n",
              "        <td>0508752256</td>\n",
              "        <td>10000</td>\n",
              "        <td>Haifa</td>\n",
              "        <td>20170522</td>\n",
              "        <td>3</td>\n",
              "    </tr>\n",
              "</table>"
            ],
            "text/plain": [
              "[(1, 'Tomer', 'Itzhakov', 'Male', 'Tomerikoka@gmail.com', '0508554622', 11000, 'Jerusalem', 20011201, 1),\n",
              " (8, 'Idan', 'Haviv', 'Male', 'Idan@gmail.com', '0508752256', 10000, 'Haifa', 20170522, 3)]"
            ]
          },
          "execution_count": 22,
          "metadata": {},
          "output_type": "execute_result"
        }
      ],
      "source": []
    },
    {
      "cell_type": "markdown",
      "metadata": {
        "id": "lFbE6_dB9IkC"
      },
      "source": [
        "#### Выбрать всех сотрудников с зарплатой 6000 или 11000"
      ]
    },
    {
      "cell_type": "markdown",
      "metadata": {
        "id": "k18e-d0N9IkC"
      },
      "source": [
        "or"
      ]
    },
    {
      "cell_type": "code",
      "execution_count": 49,
      "metadata": {
        "id": "mvbn-zZP9IkC"
      },
      "outputs": [],
      "source": []
    },
    {
      "cell_type": "markdown",
      "metadata": {
        "id": "NgURin6m9IkC"
      },
      "source": [
        "in"
      ]
    },
    {
      "cell_type": "code",
      "execution_count": null,
      "metadata": {
        "id": "hl5cNe7Z9IkD",
        "outputId": "f292e2c0-aa26-4122-b0e4-0b1ed7e85154"
      },
      "outputs": [
        {
          "name": "stdout",
          "output_type": "stream",
          "text": [
            " * sqlite:///The_SQL_Server_Trail_Database.db\n",
            "Done.\n"
          ]
        },
        {
          "data": {
            "text/html": [
              "<table>\n",
              "    <tr>\n",
              "        <th>employeeID</th>\n",
              "        <th>firstName</th>\n",
              "        <th>lastName</th>\n",
              "        <th>gender</th>\n",
              "        <th>Email</th>\n",
              "        <th>PhoneNumber</th>\n",
              "        <th>salary</th>\n",
              "        <th>city</th>\n",
              "        <th>HireDate</th>\n",
              "        <th>DepartmentID</th>\n",
              "    </tr>\n",
              "    <tr>\n",
              "        <td>1</td>\n",
              "        <td>Tomer</td>\n",
              "        <td>Itzhakov</td>\n",
              "        <td>Male</td>\n",
              "        <td>Tomerikoka@gmail.com</td>\n",
              "        <td>0508554622</td>\n",
              "        <td>11000</td>\n",
              "        <td>Jerusalem</td>\n",
              "        <td>20011201</td>\n",
              "        <td>1</td>\n",
              "    </tr>\n",
              "    <tr>\n",
              "        <td>6</td>\n",
              "        <td>David</td>\n",
              "        <td>Kepler</td>\n",
              "        <td>Male</td>\n",
              "        <td>David@gmail.com</td>\n",
              "        <td>0558847365</td>\n",
              "        <td>11000</td>\n",
              "        <td>Tel-Aviv</td>\n",
              "        <td>20160515</td>\n",
              "        <td>1</td>\n",
              "    </tr>\n",
              "</table>"
            ],
            "text/plain": [
              "[(1, 'Tomer', 'Itzhakov', 'Male', 'Tomerikoka@gmail.com', '0508554622', 11000, 'Jerusalem', 20011201, 1),\n",
              " (6, 'David', 'Kepler', 'Male', 'David@gmail.com', '0558847365', 11000, 'Tel-Aviv', 20160515, 1)]"
            ]
          },
          "execution_count": 24,
          "metadata": {},
          "output_type": "execute_result"
        }
      ],
      "source": []
    },
    {
      "cell_type": "markdown",
      "metadata": {
        "id": "kKDeZip99IkD"
      },
      "source": [
        "#### Выберите всех сотрудников, которые живут в Иерусалиме и Хайфе с зарплатой от 4000 до 10000"
      ]
    },
    {
      "cell_type": "code",
      "execution_count": 49,
      "metadata": {
        "id": "fjwOMO1u9IkD"
      },
      "outputs": [],
      "source": [
        ""
      ]
    },
    {
      "cell_type": "code",
      "execution_count": null,
      "metadata": {
        "id": "1Cb4-OnP9IkD",
        "outputId": "61298d46-ffa6-4121-81f8-6a609ccfd158"
      },
      "outputs": [
        {
          "name": "stdout",
          "output_type": "stream",
          "text": [
            " * sqlite:///The_SQL_Server_Trail_Database.db\n",
            "Done.\n"
          ]
        },
        {
          "data": {
            "text/html": [
              "<table>\n",
              "    <tr>\n",
              "        <th>employeeID</th>\n",
              "        <th>firstName</th>\n",
              "        <th>lastName</th>\n",
              "        <th>gender</th>\n",
              "        <th>Email</th>\n",
              "        <th>PhoneNumber</th>\n",
              "        <th>salary</th>\n",
              "        <th>city</th>\n",
              "        <th>HireDate</th>\n",
              "        <th>DepartmentID</th>\n",
              "    </tr>\n",
              "    <tr>\n",
              "        <td>2</td>\n",
              "        <td>Shira</td>\n",
              "        <td>Nevo</td>\n",
              "        <td>Female</td>\n",
              "        <td>Shira@gmail.com</td>\n",
              "        <td>0508515542</td>\n",
              "        <td>8000</td>\n",
              "        <td>Jerusalem</td>\n",
              "        <td>20020615</td>\n",
              "        <td>4</td>\n",
              "    </tr>\n",
              "    <tr>\n",
              "        <td>3</td>\n",
              "        <td>Ester</td>\n",
              "        <td>Hyut</td>\n",
              "        <td>Female</td>\n",
              "        <td>Ester@gmail.com</td>\n",
              "        <td>0508575148</td>\n",
              "        <td>10000</td>\n",
              "        <td>Jerusalem</td>\n",
              "        <td>20120528</td>\n",
              "        <td>3</td>\n",
              "    </tr>\n",
              "    <tr>\n",
              "        <td>8</td>\n",
              "        <td>Idan</td>\n",
              "        <td>Haviv</td>\n",
              "        <td>Male</td>\n",
              "        <td>Idan@gmail.com</td>\n",
              "        <td>0508752256</td>\n",
              "        <td>10000</td>\n",
              "        <td>Haifa</td>\n",
              "        <td>20170522</td>\n",
              "        <td>3</td>\n",
              "    </tr>\n",
              "</table>"
            ],
            "text/plain": [
              "[(2, 'Shira', 'Nevo', 'Female', 'Shira@gmail.com', '0508515542', 8000, 'Jerusalem', 20020615, 4),\n",
              " (3, 'Ester', 'Hyut', 'Female', 'Ester@gmail.com', '0508575148', 10000, 'Jerusalem', 20120528, 3),\n",
              " (8, 'Idan', 'Haviv', 'Male', 'Idan@gmail.com', '0508752256', 10000, 'Haifa', 20170522, 3)]"
            ]
          },
          "execution_count": 26,
          "metadata": {},
          "output_type": "execute_result"
        }
      ],
      "source": []
    },
    {
      "cell_type": "markdown",
      "metadata": {
        "id": "cZ53h2eQ9IkD"
      },
      "source": [
        "#### Выбрать всех сотрудников с номером телефона, начинающимся с 050"
      ]
    },
    {
      "cell_type": "code",
      "execution_count": 49,
      "metadata": {
        "id": "b6UAwQwR9IkD"
      },
      "outputs": [],
      "source": []
    },
    {
      "cell_type": "markdown",
      "metadata": {
        "id": "UqtH2KCd9IkE"
      },
      "source": [
        "#### Выбрать всех сотрудников с номером телефона, не начинающимся с 050"
      ]
    },
    {
      "cell_type": "code",
      "execution_count": null,
      "metadata": {
        "id": "CuHzopsj9IkE",
        "outputId": "d56b5adc-f96f-407e-9806-d5b9bf6e5c84"
      },
      "outputs": [
        {
          "name": "stdout",
          "output_type": "stream",
          "text": [
            " * sqlite:///The_SQL_Server_Trail_Database.db\n",
            "Done.\n"
          ]
        },
        {
          "data": {
            "text/html": [
              "<table>\n",
              "    <tr>\n",
              "        <th>employeeID</th>\n",
              "        <th>firstName</th>\n",
              "        <th>lastName</th>\n",
              "        <th>gender</th>\n",
              "        <th>Email</th>\n",
              "        <th>PhoneNumber</th>\n",
              "        <th>salary</th>\n",
              "        <th>city</th>\n",
              "        <th>HireDate</th>\n",
              "        <th>DepartmentID</th>\n",
              "    </tr>\n",
              "    <tr>\n",
              "        <td>4</td>\n",
              "        <td>Robin</td>\n",
              "        <td>Choen</td>\n",
              "        <td>Male</td>\n",
              "        <td>Robin@gmail.com</td>\n",
              "        <td>0528542523</td>\n",
              "        <td>7000</td>\n",
              "        <td>Tel-Aviv</td>\n",
              "        <td>20120224</td>\n",
              "        <td>2</td>\n",
              "    </tr>\n",
              "    <tr>\n",
              "        <td>5</td>\n",
              "        <td>Shlomi</td>\n",
              "        <td>Hai</td>\n",
              "        <td>Male</td>\n",
              "        <td>Shlomi@gmail.com</td>\n",
              "        <td>0528456122</td>\n",
              "        <td>10000</td>\n",
              "        <td>Tel-Aviv</td>\n",
              "        <td>20081019</td>\n",
              "        <td>3</td>\n",
              "    </tr>\n",
              "    <tr>\n",
              "        <td>6</td>\n",
              "        <td>David</td>\n",
              "        <td>Kepler</td>\n",
              "        <td>Male</td>\n",
              "        <td>David@gmail.com</td>\n",
              "        <td>0558847365</td>\n",
              "        <td>11000</td>\n",
              "        <td>Tel-Aviv</td>\n",
              "        <td>20160515</td>\n",
              "        <td>1</td>\n",
              "    </tr>\n",
              "    <tr>\n",
              "        <td>7</td>\n",
              "        <td>Dana</td>\n",
              "        <td>Tova</td>\n",
              "        <td>Female</td>\n",
              "        <td>Dana@gmail.com</td>\n",
              "        <td>0556789322</td>\n",
              "        <td>4000</td>\n",
              "        <td>Tel-Aviv</td>\n",
              "        <td>20160202</td>\n",
              "        <td>2</td>\n",
              "    </tr>\n",
              "</table>"
            ],
            "text/plain": [
              "[(4, 'Robin', 'Choen', 'Male', 'Robin@gmail.com', '0528542523', 7000, 'Tel-Aviv', 20120224, 2),\n",
              " (5, 'Shlomi', 'Hai', 'Male', 'Shlomi@gmail.com', '0528456122', 10000, 'Tel-Aviv', 20081019, 3),\n",
              " (6, 'David', 'Kepler', 'Male', 'David@gmail.com', '0558847365', 11000, 'Tel-Aviv', 20160515, 1),\n",
              " (7, 'Dana', 'Tova', 'Female', 'Dana@gmail.com', '0556789322', 4000, 'Tel-Aviv', 20160202, 2)]"
            ]
          },
          "execution_count": 36,
          "metadata": {},
          "output_type": "execute_result"
        }
      ],
      "source": []
    },
    {
      "cell_type": "markdown",
      "metadata": {
        "id": "T44URPxL9IkE"
      },
      "source": [
        "#### Выберите 5 строк со столбцами имени, зарплаты и города в порядке зарплаты (от максимальной зарплаты до минимальной зарплаты)"
      ]
    },
    {
      "cell_type": "code",
      "execution_count": 49,
      "metadata": {
        "id": "YwWJCNmB9IkE"
      },
      "outputs": [],
      "source": []
    },
    {
      "cell_type": "markdown",
      "metadata": {
        "id": "QjiP38LV9IkF"
      },
      "source": [
        "###  Группировка по вопросам - используйте таблицу tblemployee\n"
      ]
    },
    {
      "cell_type": "markdown",
      "metadata": {
        "id": "cDV7IFh79IkF"
      },
      "source": [
        "#### Показать среднюю зарплату по полу"
      ]
    },
    {
      "cell_type": "code",
      "execution_count": 49,
      "metadata": {
        "id": "mIzrm1yp9IkF"
      },
      "outputs": [],
      "source": []
    },
    {
      "cell_type": "code",
      "execution_count": 49,
      "metadata": {
        "id": "BOp3L-cP9IkF"
      },
      "outputs": [],
      "source": []
    },
    {
      "cell_type": "code",
      "execution_count": null,
      "metadata": {
        "id": "gYOGeFks9IkF",
        "outputId": "0e5eb3f3-0c8d-4b5e-8ca2-22f84b004745"
      },
      "outputs": [
        {
          "name": "stdout",
          "output_type": "stream",
          "text": [
            " * sqlite:///The_SQL_Server_Trail_Database.db\n",
            "Done.\n"
          ]
        },
        {
          "data": {
            "text/html": [
              "<table>\n",
              "    <tr>\n",
              "        <th>gender</th>\n",
              "        <th>AVG(salary)</th>\n",
              "    </tr>\n",
              "    <tr>\n",
              "        <td>Female</td>\n",
              "        <td>5000.0</td>\n",
              "    </tr>\n",
              "    <tr>\n",
              "        <td>Male</td>\n",
              "        <td>9800.0</td>\n",
              "    </tr>\n",
              "</table>"
            ],
            "text/plain": [
              "[('Female', 5000.0), ('Male', 9800.0)]"
            ]
          },
          "execution_count": 44,
          "metadata": {},
          "output_type": "execute_result"
        }
      ],
      "source": []
    },
    {
      "cell_type": "markdown",
      "metadata": {
        "id": "p5Mjlbv39IkG"
      },
      "source": [
        "#### Ппоказать среднюю зарплату по городам в порядке средней зарплаты от макс до мин\n"
      ]
    },
    {
      "cell_type": "code",
      "execution_count": 49,
      "metadata": {
        "id": "a7FJDvO19IkL"
      },
      "outputs": [],
      "source": []
    },
    {
      "cell_type": "markdown",
      "metadata": {
        "id": "zKwAGBIg9IkL"
      },
      "source": [
        "#### Показать максимальную и минимальную зарплату по полу"
      ]
    },
    {
      "cell_type": "code",
      "execution_count": 49,
      "metadata": {
        "id": "vamwijv49IkL"
      },
      "outputs": [],
      "source": []
    },
    {
      "cell_type": "markdown",
      "metadata": {
        "id": "Id4iHqnt9IkM"
      },
      "source": [
        "#### Показать максимальную и минимальную зарплату по полу и городу"
      ]
    },
    {
      "cell_type": "code",
      "execution_count": 49,
      "metadata": {
        "id": "5P_gPWKb9IkM"
      },
      "outputs": [],
      "source": []
    },
    {
      "cell_type": "markdown",
      "metadata": {
        "id": "BK0ZEapq9IkM"
      },
      "source": [
        "####  Показать сумарная зарплата по полу и городу"
      ]
    },
    {
      "cell_type": "code",
      "execution_count": 49,
      "metadata": {
        "id": "BlPVHQ6A9IkM"
      },
      "outputs": [],
      "source": []
    },
    {
      "cell_type": "markdown",
      "metadata": {
        "id": "smbPf2UY9IkM"
      },
      "source": [
        "#### Подсчитайте общее количество сотрудников-женщин"
      ]
    },
    {
      "cell_type": "code",
      "execution_count": 49,
      "metadata": {
        "id": "LCcJvSM-9IkN"
      },
      "outputs": [],
      "source": []
    },
    {
      "cell_type": "code",
      "execution_count": 49,
      "metadata": {
        "id": "BhHBb_kj9IkN"
      },
      "outputs": [],
      "source": [
        "\n"
      ]
    },
    {
      "cell_type": "markdown",
      "metadata": {
        "id": "rx9sCWsi9IkN"
      },
      "source": [
        "####  Подсчитайте общее количество сотрудников в Тель-Авиве"
      ]
    },
    {
      "cell_type": "code",
      "execution_count": 49,
      "metadata": {
        "id": "QPqPX0Ua9IkN"
      },
      "outputs": [],
      "source": []
    },
    {
      "cell_type": "code",
      "execution_count": null,
      "metadata": {
        "id": "wa2hza8Z9IkN",
        "outputId": "59ab39ac-d45b-42c8-e941-4964a7450a5e"
      },
      "outputs": [
        {
          "name": "stdout",
          "output_type": "stream",
          "text": [
            " * sqlite:///The_SQL_Server_Trail_Database.db\n",
            "Done.\n"
          ]
        },
        {
          "data": {
            "text/html": [
              "<table>\n",
              "    <tr>\n",
              "        <th>city</th>\n",
              "        <th>сотрудники</th>\n",
              "    </tr>\n",
              "    <tr>\n",
              "        <td>Tel-Aviv</td>\n",
              "        <td>4</td>\n",
              "    </tr>\n",
              "</table>"
            ],
            "text/plain": [
              "[('Tel-Aviv', 4)]"
            ]
          },
          "execution_count": 61,
          "metadata": {},
          "output_type": "execute_result"
        }
      ],
      "source": []
    },
    {
      "cell_type": "markdown",
      "metadata": {
        "id": "FPlZJSlF9IkN"
      },
      "source": [
        "#### Показать сумарную зарплату по городам только для городов с общей зарплатой выше 20000 и отсортировать их от макс до мин."
      ]
    },
    {
      "cell_type": "code",
      "execution_count": 49,
      "metadata": {
        "id": "P259oyLL9IkO"
      },
      "outputs": [],
      "source": []
    },
    {
      "cell_type": "markdown",
      "metadata": {
        "id": "_nh0pqlT9IkO"
      },
      "source": [
        "#### Показать сумарную зарплату только для мужчин, проживающих в Иерусалиме и Тель-Авиве."
      ]
    },
    {
      "cell_type": "code",
      "execution_count": 49,
      "metadata": {
        "id": "LcvKglNP9IkO"
      },
      "outputs": [],
      "source": []
    },
    {
      "cell_type": "markdown",
      "metadata": {
        "id": "O8PObd8e9IkP"
      },
      "source": [
        "## Join"
      ]
    },
    {
      "cell_type": "code",
      "execution_count": 50,
      "metadata": {
        "id": "CoddTN419IkQ",
        "outputId": "e230b138-5ecb-4933-83e2-287e1238cd40",
        "colab": {
          "base_uri": "https://localhost:8080/"
        }
      },
      "outputs": [
        {
          "output_type": "stream",
          "name": "stdout",
          "text": [
            " * sqlite:///SQL.db\n",
            "(sqlite3.OperationalError) table tblCategory already exists\n",
            "[SQL: CREATE TABLE tblCategory\n",
            "(\n",
            "CategoryID INT PRIMARY KEY NOT NULL,\n",
            "CategoryName NVARCHAR (25) \n",
            ") ;]\n",
            "(Background on this error at: https://sqlalche.me/e/20/e3q8)\n"
          ]
        }
      ],
      "source": [
        "%%sql\n",
        "CREATE TABLE tblCategory\n",
        "(\n",
        "CategoryID INT PRIMARY KEY NOT NULL,\n",
        "CategoryName NVARCHAR (25)\n",
        ") ;\n",
        "\n",
        "INSERT INTO tblCategory VALUES\n",
        "(1, 'Kitchen'),\n",
        "(2, 'Living Room'),\n",
        "(3, 'Bedroom'),\n",
        "(4, 'Electrical appliance');"
      ]
    },
    {
      "cell_type": "code",
      "execution_count": 51,
      "metadata": {
        "id": "Tgrxy51D9IkR",
        "outputId": "52f0926c-c8d4-40cc-fc1d-cb0a5019b9c3",
        "colab": {
          "base_uri": "https://localhost:8080/"
        }
      },
      "outputs": [
        {
          "output_type": "stream",
          "name": "stdout",
          "text": [
            " * sqlite:///SQL.db\n",
            "(sqlite3.OperationalError) table tblSubCategory already exists\n",
            "[SQL: CREATE TABLE tblSubCategory \n",
            "(\n",
            "SubCategoryID INT, \n",
            "SubCategoryName VARCHAR (30) NOT NULL, \n",
            "CategoryID INT NOT NULL, \n",
            "FOREIGN KEY (CategoryID) REFERENCES tblCategory (CategoryID),\n",
            "PRIMARY KEY (SubCategoryID)   \n",
            ") ;]\n",
            "(Background on this error at: https://sqlalche.me/e/20/e3q8)\n"
          ]
        }
      ],
      "source": [
        "%%sql\n",
        "CREATE TABLE tblSubCategory\n",
        "(\n",
        "SubCategoryID INT,\n",
        "SubCategoryName VARCHAR (30) NOT NULL,\n",
        "CategoryID INT NOT NULL,\n",
        "FOREIGN KEY (CategoryID) REFERENCES tblCategory (CategoryID),\n",
        "PRIMARY KEY (SubCategoryID)\n",
        ") ;\n"
      ]
    },
    {
      "cell_type": "code",
      "execution_count": 52,
      "metadata": {
        "id": "hV7YENWk9IkS",
        "outputId": "5a43dacc-3909-4a85-e313-b518f4dfad2e",
        "colab": {
          "base_uri": "https://localhost:8080/"
        }
      },
      "outputs": [
        {
          "output_type": "stream",
          "name": "stdout",
          "text": [
            " * sqlite:///SQL.db\n",
            "(sqlite3.IntegrityError) UNIQUE constraint failed: tblSubCategory.SubCategoryID\n",
            "[SQL: INSERT INTO tblSubCategory VALUES\n",
            "(1,'Sink',1),\n",
            "(2,'Tap',1), \n",
            "(3,'Capboard',1), \n",
            "(4,'Couch',2), \n",
            "(5,'Dining table',2), \n",
            "(6,'Easy Chair',2), \n",
            "(7,'Bed',3), \n",
            "(8,'Desk',3), \n",
            "(9,'Mirror',3), \n",
            "(10, 'Television',4), \n",
            "(11, 'Washing Machine',4), \n",
            "(12,'Electric Heater',4) ;]\n",
            "(Background on this error at: https://sqlalche.me/e/20/gkpj)\n"
          ]
        }
      ],
      "source": [
        "%%sql\n",
        "INSERT INTO tblSubCategory VALUES\n",
        "(1,'Sink',1),\n",
        "(2,'Tap',1),\n",
        "(3,'Capboard',1),\n",
        "(4,'Couch',2),\n",
        "(5,'Dining table',2),\n",
        "(6,'Easy Chair',2),\n",
        "(7,'Bed',3),\n",
        "(8,'Desk',3),\n",
        "(9,'Mirror',3),\n",
        "(10, 'Television',4),\n",
        "(11, 'Washing Machine',4),\n",
        "(12,'Electric Heater',4) ;"
      ]
    },
    {
      "cell_type": "code",
      "execution_count": 53,
      "metadata": {
        "id": "aQsfdK2D9IkS",
        "outputId": "c8569521-8f48-467f-ee44-a178420e0201",
        "colab": {
          "base_uri": "https://localhost:8080/"
        }
      },
      "outputs": [
        {
          "output_type": "stream",
          "name": "stdout",
          "text": [
            " * sqlite:///SQL.db\n",
            "(sqlite3.OperationalError) table tblProducts already exists\n",
            "[SQL: CREATE TABLE tblProducts\n",
            "(\n",
            "ProductID INTNOT NULL, \n",
            "ProductName VARCHAR (45), \n",
            "ProductPrice INT,\n",
            "SubCategoryID INT, \n",
            "FOREIGN KEY (SubCategoryID) REFERENCES tblSubCategory (SubCategoryID),\n",
            "PRIMARY KEY(ProductID)\n",
            ");]\n",
            "(Background on this error at: https://sqlalche.me/e/20/e3q8)\n"
          ]
        }
      ],
      "source": [
        "%%sql\n",
        "CREATE TABLE tblProducts\n",
        "(\n",
        "ProductID INTNOT NULL,\n",
        "ProductName VARCHAR (45),\n",
        "ProductPrice INT,\n",
        "SubCategoryID INT,\n",
        "FOREIGN KEY (SubCategoryID) REFERENCES tblSubCategory (SubCategoryID),\n",
        "PRIMARY KEY(ProductID)\n",
        ");"
      ]
    },
    {
      "cell_type": "code",
      "execution_count": 55,
      "metadata": {
        "id": "2C5v-FWT9IkS",
        "outputId": "1e07b04c-09d6-46c1-9b86-6d5d2ad97bbf",
        "colab": {
          "base_uri": "https://localhost:8080/"
        }
      },
      "outputs": [
        {
          "output_type": "stream",
          "name": "stdout",
          "text": [
            " * sqlite:///SQL.db\n",
            "(sqlite3.IntegrityError) UNIQUE constraint failed: tblProducts.ProductID\n",
            "[SQL: INSERT INTO tblProducts VALUES\n",
            "(1,'Big Sink',5000,1),\n",
            "(2,'Small Sink',3500,1),\n",
            "(3,'Nirosta Sink',7500,1),\n",
            "(4,'Big Tap',2000,2),\n",
            "(5,'Small Tap',1000,2),\n",
            "(6,'Standard Tap',500,2),\n",
            "(7,'Big Capboard',4000,3),\n",
            "(8,'Small Capboard',2500,3),\n",
            "(9,'IKEA Capboard',2000,3),\n",
            "(10,'Big Couch',4552,4),\n",
            "(11,'Small Couch',2500,4),\n",
            "(12,'Leather Couch',1500,4),\n",
            "(13,'Round Table',8000,5),\n",
            "(14, 'Rectangle Table',5000,5),\n",
            "(15,'IKEA Table',3500,5),\n",
            "(16,'American comfort',9000,6),\n",
            "(17,'IKEA Single Chair',3500,6),\n",
            "(18, 'Beytily Chair',4000,6),\n",
            "(19,'King size bed',9500,7),\n",
            "(20,'Queen size bed',11000,7),\n",
            "(21, 'Single size bed',6000,7),\n",
            "(22,'IKEA Desk',1500,8),\n",
            "(23, 'Whole wood Desk',4500,8),\n",
            "(24, 'Plywood Desk',1000,8),\n",
            "(25,'Big Mirror',1500,9),\n",
            "(26,'Small Mirror',500,9),\n",
            "(27,'Personal Mirror',2500,9),\n",
            "(28,'56 inch Samsung',5500,10),\n",
            "(29,'32 inch HP',3500,10),\n",
            "(30,'21 inch DELL',2700,10),\n",
            "(31,'Bosh Machine',7000,11),\n",
            "(32,'Samsung Machine',5000,11),\n",
            "(33,'Makita Machine',4500,11),\n",
            "(34,'Big Heater',500,12),\n",
            "(35,'Small Heater',350,12),\n",
            "(36,'Rocket Heater',200,12),\n",
            "(37,'Coffee',5,null),\n",
            "(38,'brown suger',0.5,null),\n",
            "(39,'Tea',3,null),\n",
            "(40, 'biscuit',6,null);]\n",
            "(Background on this error at: https://sqlalche.me/e/20/gkpj)\n"
          ]
        }
      ],
      "source": [
        "%%sql\n",
        "INSERT INTO tblProducts VALUES\n",
        "(1,'Big Sink',5000,1),\n",
        "(2,'Small Sink',3500,1),\n",
        "(3,'Nirosta Sink',7500,1),\n",
        "(4,'Big Tap',2000,2),\n",
        "(5,'Small Tap',1000,2),\n",
        "(6,'Standard Tap',500,2),\n",
        "(7,'Big Capboard',4000,3),\n",
        "(8,'Small Capboard',2500,3),\n",
        "(9,'IKEA Capboard',2000,3),\n",
        "(10,'Big Couch',4552,4),\n",
        "(11,'Small Couch',2500,4),\n",
        "(12,'Leather Couch',1500,4),\n",
        "(13,'Round Table',8000,5),\n",
        "(14, 'Rectangle Table',5000,5),\n",
        "(15,'IKEA Table',3500,5),\n",
        "(16,'American comfort',9000,6),\n",
        "(17,'IKEA Single Chair',3500,6),\n",
        "(18, 'Beytily Chair',4000,6),\n",
        "(19,'King size bed',9500,7),\n",
        "(20,'Queen size bed',11000,7),\n",
        "(21, 'Single size bed',6000,7),\n",
        "(22,'IKEA Desk',1500,8),\n",
        "(23, 'Whole wood Desk',4500,8),\n",
        "(24, 'Plywood Desk',1000,8),\n",
        "(25,'Big Mirror',1500,9),\n",
        "(26,'Small Mirror',500,9),\n",
        "(27,'Personal Mirror',2500,9),\n",
        "(28,'56 inch Samsung',5500,10),\n",
        "(29,'32 inch HP',3500,10),\n",
        "(30,'21 inch DELL',2700,10),\n",
        "(31,'Bosh Machine',7000,11),\n",
        "(32,'Samsung Machine',5000,11),\n",
        "(33,'Makita Machine',4500,11),\n",
        "(34,'Big Heater',500,12),\n",
        "(35,'Small Heater',350,12),\n",
        "(36,'Rocket Heater',200,12),\n",
        "(37,'Coffee',5,null),\n",
        "(38,'brown suger',0.5,null),\n",
        "(39,'Tea',3,null),\n",
        "(40, 'biscuit',6,null);"
      ]
    },
    {
      "cell_type": "code",
      "execution_count": 56,
      "metadata": {
        "id": "NuoC060j9IkT",
        "outputId": "944aa262-bea7-4e8d-8e7c-2e649836927b",
        "colab": {
          "base_uri": "https://localhost:8080/",
          "height": 929
        }
      },
      "outputs": [
        {
          "output_type": "stream",
          "name": "stdout",
          "text": [
            " * sqlite:///SQL.db\n",
            "Done.\n"
          ]
        },
        {
          "output_type": "execute_result",
          "data": {
            "text/plain": [
              "[(1, 'Big Sink', 5000, 1),\n",
              " (2, 'Small Sink', 3500, 1),\n",
              " (3, 'Nirosta Sink', 7500, 1),\n",
              " (4, 'Big Tap', 2000, 2),\n",
              " (5, 'Small Tap', 1000, 2),\n",
              " (6, 'Standard Tap', 500, 2),\n",
              " (7, 'Big Capboard', 4000, 3),\n",
              " (8, 'Small Capboard', 2500, 3),\n",
              " (9, 'IKEA Capboard', 2000, 3),\n",
              " (10, 'Big Couch', 4552, 4),\n",
              " (11, 'Small Couch', 2500, 4),\n",
              " (12, 'Leather Couch', 1500, 4),\n",
              " (13, 'Round Table', 8000, 5),\n",
              " (14, 'Rectangle Table', 5000, 5),\n",
              " (15, 'IKEA Table', 3500, 5),\n",
              " (16, 'American comfort', 9000, 6),\n",
              " (17, 'IKEA Single Chair', 3500, 6),\n",
              " (18, 'Beytily Chair', 4000, 6),\n",
              " (19, 'King size bed', 9500, 7),\n",
              " (20, 'Queen size bed', 11000, 7),\n",
              " (21, 'Single size bed', 6000, 7),\n",
              " (22, 'IKEA Desk', 1500, 8),\n",
              " (23, 'Whole wood Desk', 4500, 8),\n",
              " (24, 'Plywood Desk', 1000, 8),\n",
              " (25, 'Big Mirror', 1500, 9),\n",
              " (26, 'Small Mirror', 500, 9),\n",
              " (27, 'Personal Mirror', 2500, 9),\n",
              " (28, '56 inch Samsung', 5500, 10),\n",
              " (29, '32 inch HP', 3500, 10),\n",
              " (30, '21 inch DELL', 2700, 10),\n",
              " (31, 'Bosh Machine', 7000, 11),\n",
              " (32, 'Samsung Machine', 5000, 11),\n",
              " (33, 'Makita Machine', 4500, 11),\n",
              " (34, 'Big Heater', 500, 12),\n",
              " (35, 'Small Heater', 350, 12),\n",
              " (36, 'Rocket Heater', 200, 12),\n",
              " (37, 'Coffee', 5, None),\n",
              " (38, 'brown suger', 0.5, None),\n",
              " (39, 'Tea', 3, None),\n",
              " (40, 'biscuit', 6, None)]"
            ],
            "text/html": [
              "<table>\n",
              "    <thead>\n",
              "        <tr>\n",
              "            <th>ProductID</th>\n",
              "            <th>ProductName</th>\n",
              "            <th>ProductPrice</th>\n",
              "            <th>SubCategoryID</th>\n",
              "        </tr>\n",
              "    </thead>\n",
              "    <tbody>\n",
              "        <tr>\n",
              "            <td>1</td>\n",
              "            <td>Big Sink</td>\n",
              "            <td>5000</td>\n",
              "            <td>1</td>\n",
              "        </tr>\n",
              "        <tr>\n",
              "            <td>2</td>\n",
              "            <td>Small Sink</td>\n",
              "            <td>3500</td>\n",
              "            <td>1</td>\n",
              "        </tr>\n",
              "        <tr>\n",
              "            <td>3</td>\n",
              "            <td>Nirosta Sink</td>\n",
              "            <td>7500</td>\n",
              "            <td>1</td>\n",
              "        </tr>\n",
              "        <tr>\n",
              "            <td>4</td>\n",
              "            <td>Big Tap</td>\n",
              "            <td>2000</td>\n",
              "            <td>2</td>\n",
              "        </tr>\n",
              "        <tr>\n",
              "            <td>5</td>\n",
              "            <td>Small Tap</td>\n",
              "            <td>1000</td>\n",
              "            <td>2</td>\n",
              "        </tr>\n",
              "        <tr>\n",
              "            <td>6</td>\n",
              "            <td>Standard Tap</td>\n",
              "            <td>500</td>\n",
              "            <td>2</td>\n",
              "        </tr>\n",
              "        <tr>\n",
              "            <td>7</td>\n",
              "            <td>Big Capboard</td>\n",
              "            <td>4000</td>\n",
              "            <td>3</td>\n",
              "        </tr>\n",
              "        <tr>\n",
              "            <td>8</td>\n",
              "            <td>Small Capboard</td>\n",
              "            <td>2500</td>\n",
              "            <td>3</td>\n",
              "        </tr>\n",
              "        <tr>\n",
              "            <td>9</td>\n",
              "            <td>IKEA Capboard</td>\n",
              "            <td>2000</td>\n",
              "            <td>3</td>\n",
              "        </tr>\n",
              "        <tr>\n",
              "            <td>10</td>\n",
              "            <td>Big Couch</td>\n",
              "            <td>4552</td>\n",
              "            <td>4</td>\n",
              "        </tr>\n",
              "        <tr>\n",
              "            <td>11</td>\n",
              "            <td>Small Couch</td>\n",
              "            <td>2500</td>\n",
              "            <td>4</td>\n",
              "        </tr>\n",
              "        <tr>\n",
              "            <td>12</td>\n",
              "            <td>Leather Couch</td>\n",
              "            <td>1500</td>\n",
              "            <td>4</td>\n",
              "        </tr>\n",
              "        <tr>\n",
              "            <td>13</td>\n",
              "            <td>Round Table</td>\n",
              "            <td>8000</td>\n",
              "            <td>5</td>\n",
              "        </tr>\n",
              "        <tr>\n",
              "            <td>14</td>\n",
              "            <td>Rectangle Table</td>\n",
              "            <td>5000</td>\n",
              "            <td>5</td>\n",
              "        </tr>\n",
              "        <tr>\n",
              "            <td>15</td>\n",
              "            <td>IKEA Table</td>\n",
              "            <td>3500</td>\n",
              "            <td>5</td>\n",
              "        </tr>\n",
              "        <tr>\n",
              "            <td>16</td>\n",
              "            <td>American comfort</td>\n",
              "            <td>9000</td>\n",
              "            <td>6</td>\n",
              "        </tr>\n",
              "        <tr>\n",
              "            <td>17</td>\n",
              "            <td>IKEA Single Chair</td>\n",
              "            <td>3500</td>\n",
              "            <td>6</td>\n",
              "        </tr>\n",
              "        <tr>\n",
              "            <td>18</td>\n",
              "            <td>Beytily Chair</td>\n",
              "            <td>4000</td>\n",
              "            <td>6</td>\n",
              "        </tr>\n",
              "        <tr>\n",
              "            <td>19</td>\n",
              "            <td>King size bed</td>\n",
              "            <td>9500</td>\n",
              "            <td>7</td>\n",
              "        </tr>\n",
              "        <tr>\n",
              "            <td>20</td>\n",
              "            <td>Queen size bed</td>\n",
              "            <td>11000</td>\n",
              "            <td>7</td>\n",
              "        </tr>\n",
              "        <tr>\n",
              "            <td>21</td>\n",
              "            <td>Single size bed</td>\n",
              "            <td>6000</td>\n",
              "            <td>7</td>\n",
              "        </tr>\n",
              "        <tr>\n",
              "            <td>22</td>\n",
              "            <td>IKEA Desk</td>\n",
              "            <td>1500</td>\n",
              "            <td>8</td>\n",
              "        </tr>\n",
              "        <tr>\n",
              "            <td>23</td>\n",
              "            <td>Whole wood Desk</td>\n",
              "            <td>4500</td>\n",
              "            <td>8</td>\n",
              "        </tr>\n",
              "        <tr>\n",
              "            <td>24</td>\n",
              "            <td>Plywood Desk</td>\n",
              "            <td>1000</td>\n",
              "            <td>8</td>\n",
              "        </tr>\n",
              "        <tr>\n",
              "            <td>25</td>\n",
              "            <td>Big Mirror</td>\n",
              "            <td>1500</td>\n",
              "            <td>9</td>\n",
              "        </tr>\n",
              "        <tr>\n",
              "            <td>26</td>\n",
              "            <td>Small Mirror</td>\n",
              "            <td>500</td>\n",
              "            <td>9</td>\n",
              "        </tr>\n",
              "        <tr>\n",
              "            <td>27</td>\n",
              "            <td>Personal Mirror</td>\n",
              "            <td>2500</td>\n",
              "            <td>9</td>\n",
              "        </tr>\n",
              "        <tr>\n",
              "            <td>28</td>\n",
              "            <td>56 inch Samsung</td>\n",
              "            <td>5500</td>\n",
              "            <td>10</td>\n",
              "        </tr>\n",
              "        <tr>\n",
              "            <td>29</td>\n",
              "            <td>32 inch HP</td>\n",
              "            <td>3500</td>\n",
              "            <td>10</td>\n",
              "        </tr>\n",
              "        <tr>\n",
              "            <td>30</td>\n",
              "            <td>21 inch DELL</td>\n",
              "            <td>2700</td>\n",
              "            <td>10</td>\n",
              "        </tr>\n",
              "        <tr>\n",
              "            <td>31</td>\n",
              "            <td>Bosh Machine</td>\n",
              "            <td>7000</td>\n",
              "            <td>11</td>\n",
              "        </tr>\n",
              "        <tr>\n",
              "            <td>32</td>\n",
              "            <td>Samsung Machine</td>\n",
              "            <td>5000</td>\n",
              "            <td>11</td>\n",
              "        </tr>\n",
              "        <tr>\n",
              "            <td>33</td>\n",
              "            <td>Makita Machine</td>\n",
              "            <td>4500</td>\n",
              "            <td>11</td>\n",
              "        </tr>\n",
              "        <tr>\n",
              "            <td>34</td>\n",
              "            <td>Big Heater</td>\n",
              "            <td>500</td>\n",
              "            <td>12</td>\n",
              "        </tr>\n",
              "        <tr>\n",
              "            <td>35</td>\n",
              "            <td>Small Heater</td>\n",
              "            <td>350</td>\n",
              "            <td>12</td>\n",
              "        </tr>\n",
              "        <tr>\n",
              "            <td>36</td>\n",
              "            <td>Rocket Heater</td>\n",
              "            <td>200</td>\n",
              "            <td>12</td>\n",
              "        </tr>\n",
              "        <tr>\n",
              "            <td>37</td>\n",
              "            <td>Coffee</td>\n",
              "            <td>5</td>\n",
              "            <td>None</td>\n",
              "        </tr>\n",
              "        <tr>\n",
              "            <td>38</td>\n",
              "            <td>brown suger</td>\n",
              "            <td>0.5</td>\n",
              "            <td>None</td>\n",
              "        </tr>\n",
              "        <tr>\n",
              "            <td>39</td>\n",
              "            <td>Tea</td>\n",
              "            <td>3</td>\n",
              "            <td>None</td>\n",
              "        </tr>\n",
              "        <tr>\n",
              "            <td>40</td>\n",
              "            <td>biscuit</td>\n",
              "            <td>6</td>\n",
              "            <td>None</td>\n",
              "        </tr>\n",
              "    </tbody>\n",
              "</table>"
            ]
          },
          "metadata": {},
          "execution_count": 56
        }
      ],
      "source": [
        "%%sql\n",
        "SELECT * FROM tblProducts\n"
      ]
    },
    {
      "cell_type": "code",
      "execution_count": 57,
      "metadata": {
        "id": "sYmxrQJQ9IkT",
        "outputId": "41d26c40-ee4a-4bc9-ebf8-b28356ea3d58",
        "colab": {
          "base_uri": "https://localhost:8080/",
          "height": 331
        }
      },
      "outputs": [
        {
          "output_type": "stream",
          "name": "stdout",
          "text": [
            " * sqlite:///SQL.db\n",
            "Done.\n"
          ]
        },
        {
          "output_type": "execute_result",
          "data": {
            "text/plain": [
              "[(1, 'Sink', 1),\n",
              " (2, 'Tap', 1),\n",
              " (3, 'Capboard', 1),\n",
              " (4, 'Couch', 2),\n",
              " (5, 'Dining table', 2),\n",
              " (6, 'Easy Chair', 2),\n",
              " (7, 'Bed', 3),\n",
              " (8, 'Desk', 3),\n",
              " (9, 'Mirror', 3),\n",
              " (10, 'Television', 4),\n",
              " (11, 'Washing Machine', 4),\n",
              " (12, 'Electric Heater', 4)]"
            ],
            "text/html": [
              "<table>\n",
              "    <thead>\n",
              "        <tr>\n",
              "            <th>SubCategoryID</th>\n",
              "            <th>SubCategoryName</th>\n",
              "            <th>CategoryID</th>\n",
              "        </tr>\n",
              "    </thead>\n",
              "    <tbody>\n",
              "        <tr>\n",
              "            <td>1</td>\n",
              "            <td>Sink</td>\n",
              "            <td>1</td>\n",
              "        </tr>\n",
              "        <tr>\n",
              "            <td>2</td>\n",
              "            <td>Tap</td>\n",
              "            <td>1</td>\n",
              "        </tr>\n",
              "        <tr>\n",
              "            <td>3</td>\n",
              "            <td>Capboard</td>\n",
              "            <td>1</td>\n",
              "        </tr>\n",
              "        <tr>\n",
              "            <td>4</td>\n",
              "            <td>Couch</td>\n",
              "            <td>2</td>\n",
              "        </tr>\n",
              "        <tr>\n",
              "            <td>5</td>\n",
              "            <td>Dining table</td>\n",
              "            <td>2</td>\n",
              "        </tr>\n",
              "        <tr>\n",
              "            <td>6</td>\n",
              "            <td>Easy Chair</td>\n",
              "            <td>2</td>\n",
              "        </tr>\n",
              "        <tr>\n",
              "            <td>7</td>\n",
              "            <td>Bed</td>\n",
              "            <td>3</td>\n",
              "        </tr>\n",
              "        <tr>\n",
              "            <td>8</td>\n",
              "            <td>Desk</td>\n",
              "            <td>3</td>\n",
              "        </tr>\n",
              "        <tr>\n",
              "            <td>9</td>\n",
              "            <td>Mirror</td>\n",
              "            <td>3</td>\n",
              "        </tr>\n",
              "        <tr>\n",
              "            <td>10</td>\n",
              "            <td>Television</td>\n",
              "            <td>4</td>\n",
              "        </tr>\n",
              "        <tr>\n",
              "            <td>11</td>\n",
              "            <td>Washing Machine</td>\n",
              "            <td>4</td>\n",
              "        </tr>\n",
              "        <tr>\n",
              "            <td>12</td>\n",
              "            <td>Electric Heater</td>\n",
              "            <td>4</td>\n",
              "        </tr>\n",
              "    </tbody>\n",
              "</table>"
            ]
          },
          "metadata": {},
          "execution_count": 57
        }
      ],
      "source": [
        "%%sql\n",
        "SELECT * FROM tblSubCategory\n"
      ]
    },
    {
      "cell_type": "code",
      "execution_count": 58,
      "metadata": {
        "id": "NrkzkluE9IkU",
        "outputId": "7925614e-8233-4289-91c2-677df6ae9671",
        "colab": {
          "base_uri": "https://localhost:8080/",
          "height": 161
        }
      },
      "outputs": [
        {
          "output_type": "stream",
          "name": "stdout",
          "text": [
            " * sqlite:///SQL.db\n",
            "Done.\n"
          ]
        },
        {
          "output_type": "execute_result",
          "data": {
            "text/plain": [
              "[(1, 'Kitchen'),\n",
              " (2, 'Living Room'),\n",
              " (3, 'Bedroom'),\n",
              " (4, 'Electrical appliance')]"
            ],
            "text/html": [
              "<table>\n",
              "    <thead>\n",
              "        <tr>\n",
              "            <th>CategoryID</th>\n",
              "            <th>CategoryName</th>\n",
              "        </tr>\n",
              "    </thead>\n",
              "    <tbody>\n",
              "        <tr>\n",
              "            <td>1</td>\n",
              "            <td>Kitchen</td>\n",
              "        </tr>\n",
              "        <tr>\n",
              "            <td>2</td>\n",
              "            <td>Living Room</td>\n",
              "        </tr>\n",
              "        <tr>\n",
              "            <td>3</td>\n",
              "            <td>Bedroom</td>\n",
              "        </tr>\n",
              "        <tr>\n",
              "            <td>4</td>\n",
              "            <td>Electrical appliance</td>\n",
              "        </tr>\n",
              "    </tbody>\n",
              "</table>"
            ]
          },
          "metadata": {},
          "execution_count": 58
        }
      ],
      "source": [
        "%%sql\n",
        "SELECT * FROM tblCategory"
      ]
    },
    {
      "cell_type": "markdown",
      "metadata": {
        "id": "sCr_40BV9IkU"
      },
      "source": [
        "#### Создайте внутреннее соединение между tblproducts и tblsubcategory. ( Из tblproducts показать productName и productPrice. Из tblsubcategory показать имя_подкатегории.)"
      ]
    },
    {
      "cell_type": "code",
      "execution_count": 58,
      "metadata": {
        "id": "MzFnMqtB9IkU"
      },
      "outputs": [],
      "source": []
    },
    {
      "cell_type": "markdown",
      "metadata": {
        "id": "Co84s1Mq9IkU"
      },
      "source": [
        "#### Создайте внутреннее соединение между tblproducts и tblcategory.<br>\n",
        "-- из tblproducts показать productName и productPrice.<br>\n",
        "-- из tblcategory показать имя_категории."
      ]
    },
    {
      "cell_type": "code",
      "execution_count": 58,
      "metadata": {
        "id": "kc6fC3Ls9IkV"
      },
      "outputs": [],
      "source": []
    },
    {
      "cell_type": "markdown",
      "metadata": {
        "id": "yWzjl6NY9IkV"
      },
      "source": [
        "#### ЛЕВОЕ соединение между tblproducts и tblcategory.<br>\n",
        "- из tblproducts показать productName и productPrice.\n",
        "- из tblcategory показать имя_категории."
      ]
    },
    {
      "cell_type": "code",
      "execution_count": 58,
      "metadata": {
        "id": "jWcJrsaE9IkV"
      },
      "outputs": [],
      "source": []
    },
    {
      "cell_type": "markdown",
      "metadata": {
        "id": "ZA63jSLR9IkV"
      },
      "source": [
        "#### Показать сумарную цену продукта по названию категории в порядке от макс до мин.\n"
      ]
    },
    {
      "cell_type": "code",
      "execution_count": null,
      "metadata": {
        "id": "dDU1rBhp9IkW",
        "outputId": "b6721b67-fa8b-4f3c-bd7a-eb66498b5809"
      },
      "outputs": [
        {
          "name": "stderr",
          "output_type": "stream",
          "text": [
            "UsageError: Cell magic `%%sql` not found.\n"
          ]
        }
      ],
      "source": [
        "%%sql\n",
        "SELECT      CT.CategoryName, SUM(PR.ProductPrice) AS [Total Price]\n",
        "FROM        tblProducts AS PR\n",
        "Left JOIN  tblSubCategory AS SC\n",
        "ON          PR.SubCategoryID = SC.SubCategoryID\n",
        "Left JOIN  tblCategory AS CT\n",
        "ON          SC.CategoryID = CT.CategoryID\n",
        "GROUP BY    CT.CategoryName\n",
        "ORDER BY    SUM(PR.ProductPrice) DESC\n"
      ]
    },
    {
      "cell_type": "markdown",
      "metadata": {
        "id": "PNk3xvz_9IkW"
      },
      "source": [
        "-Вопрос 7 - показать название самого дорогого товара с подкатегорией и категорией.\n"
      ]
    },
    {
      "cell_type": "code",
      "execution_count": 58,
      "metadata": {
        "id": "_fRb8xqj9IkW"
      },
      "outputs": [],
      "source": []
    },
    {
      "cell_type": "code",
      "execution_count": 58,
      "metadata": {
        "id": "KHJaIQbW9IkW"
      },
      "outputs": [],
      "source": []
    },
    {
      "cell_type": "markdown",
      "metadata": {
        "id": "6GNsCunP9IkX"
      },
      "source": [
        "-- -Вопрос 8 - показать название самого дорогого продукта в категории name = 'kitchen'.\n",
        "-- если у вас есть нулевые значения, не показывайте их!"
      ]
    },
    {
      "cell_type": "code",
      "execution_count": 58,
      "metadata": {
        "id": "TsmqHmCg9IkX"
      },
      "outputs": [],
      "source": []
    },
    {
      "cell_type": "markdown",
      "metadata": {
        "id": "yAvenD0j9IkX"
      },
      "source": [
        "-- Тема 06 - Математические функции -- используйте таблицу tblGenderMeasurements.\n",
        "-- Вопрос 1. Создайте AVG для каждого из параметров: Возраст, Рост и Вес по полу. точно, увеличьте число AVG для каждого из параметров.\n",
        "-- Ответ:\n",
        "\n",
        "-- Вопрос 2. Создайте тот же запрос, но теперь укажите числа AVG.\n",
        "-- Ответ:\n",
        "\n",
        "\n",
        "-- Вопрос 3. Создайте тот же запрос, но теперь округляйте числа AVG.\n",
        "-- Ответ:"
      ]
    },
    {
      "cell_type": "code",
      "execution_count": 59,
      "metadata": {
        "id": "prTOMsVn9IkX",
        "outputId": "66ba9b2b-a4d7-46d4-b2af-202e24914835",
        "colab": {
          "base_uri": "https://localhost:8080/"
        }
      },
      "outputs": [
        {
          "output_type": "stream",
          "name": "stdout",
          "text": [
            " * sqlite:///SQL.db\n",
            "(sqlite3.OperationalError) table tblGenderMeasurements already exists\n",
            "[SQL: CREATE TABLE tblGenderMeasurements \n",
            "(\n",
            "NumerID INT , \n",
            "Name    NVARCHAR (30), \n",
            "Gender  NVARCHAR (20), \n",
            "Age     DECIMAL (8,2),\n",
            "Height  DECIMAL (8,2),\n",
            "Weight  DECIMAL (8,2),\n",
            "PRIMARY KEY(NumerID)\n",
            ")]\n",
            "(Background on this error at: https://sqlalche.me/e/20/e3q8)\n"
          ]
        }
      ],
      "source": [
        "%%sql\n",
        "CREATE TABLE tblGenderMeasurements\n",
        "(\n",
        "NumerID INT ,\n",
        "Name    NVARCHAR (30),\n",
        "Gender  NVARCHAR (20),\n",
        "Age     DECIMAL (8,2),\n",
        "Height  DECIMAL (8,2),\n",
        "Weight  DECIMAL (8,2),\n",
        "PRIMARY KEY(NumerID)\n",
        ")"
      ]
    },
    {
      "cell_type": "code",
      "execution_count": 60,
      "metadata": {
        "id": "5UYwg8g-9IkY",
        "outputId": "e70911ce-9640-4b6c-d89d-422f49a3234b",
        "colab": {
          "base_uri": "https://localhost:8080/"
        }
      },
      "outputs": [
        {
          "output_type": "stream",
          "name": "stdout",
          "text": [
            " * sqlite:///SQL.db\n",
            "(sqlite3.IntegrityError) UNIQUE constraint failed: tblGenderMeasurements.NumerID\n",
            "[SQL: INSERT INTO tblGenderMeasurements VALUES\n",
            "(1,'Tomer','Male',31.4,1.73,68.5),\n",
            "(2,'Shai','Male',28.5,1.81,73.8), \n",
            "(3,'Noam','Male',32.3,1.77,80.8), \n",
            "(4,'Ben','Male',27.7,1.86,105.9), \n",
            "(5,'Rita','Female',32.2,1.65,61.8),\n",
            "(6,'Simha','Female',29.5,1.73,55.6),\n",
            "(7,'Efrat','Female',35.2,1.70,59.4),\n",
            "(8,'Miri','Female',26.4,1.78,63.8)]\n",
            "(Background on this error at: https://sqlalche.me/e/20/gkpj)\n"
          ]
        }
      ],
      "source": [
        "%%sql\n",
        "INSERT INTO tblGenderMeasurements VALUES\n",
        "(1,'Tomer','Male',31.4,1.73,68.5),\n",
        "(2,'Shai','Male',28.5,1.81,73.8),\n",
        "(3,'Noam','Male',32.3,1.77,80.8),\n",
        "(4,'Ben','Male',27.7,1.86,105.9),\n",
        "(5,'Rita','Female',32.2,1.65,61.8),\n",
        "(6,'Simha','Female',29.5,1.73,55.6),\n",
        "(7,'Efrat','Female',35.2,1.70,59.4),\n",
        "(8,'Miri','Female',26.4,1.78,63.8)"
      ]
    },
    {
      "cell_type": "markdown",
      "metadata": {
        "id": "qQKX-3Cc9IkY"
      },
      "source": [
        "-- Вопрос 1. Создайте AVG для каждого из параметров: Возраст, Рост и Вес по полу. точно, увеличьте число AVG для каждого из параметров.\n",
        "-- Ответ:\n",
        "\n",
        "-- Вопрос 2. Создайте тот же запрос, но теперь укажите числа AVG.\n",
        "-- Ответ:\n",
        "\n",
        "\n",
        "-- Вопрос 3. Создайте тот же запрос, но теперь округляйте числа AVG.\n",
        "-- Ответ:\n"
      ]
    },
    {
      "cell_type": "code",
      "execution_count": 60,
      "metadata": {
        "id": "jc4_ol-49IkY"
      },
      "outputs": [],
      "source": []
    },
    {
      "cell_type": "code",
      "execution_count": null,
      "metadata": {
        "id": "r_VVS4zG9IkY",
        "outputId": "f0c91f79-6d8b-4450-b5e2-8dfa537f1435"
      },
      "outputs": [
        {
          "name": "stdout",
          "output_type": "stream",
          "text": [
            " * sqlite:///SQL_Server_Trail.db\n",
            "Done.\n"
          ]
        },
        {
          "data": {
            "text/html": [
              "<table>\n",
              "    <tr>\n",
              "        <th>ROUND(AVG(Age),1)</th>\n",
              "        <th>ROUND(AVG(Height),1)</th>\n",
              "        <th>ROUND(AVG(Weight),1)</th>\n",
              "    </tr>\n",
              "    <tr>\n",
              "        <td>30.8</td>\n",
              "        <td>1.7</td>\n",
              "        <td>60.2</td>\n",
              "    </tr>\n",
              "    <tr>\n",
              "        <td>30.0</td>\n",
              "        <td>1.8</td>\n",
              "        <td>82.3</td>\n",
              "    </tr>\n",
              "</table>"
            ],
            "text/plain": [
              "[(30.8, 1.7, 60.2), (30.0, 1.8, 82.3)]"
            ]
          },
          "execution_count": 51,
          "metadata": {},
          "output_type": "execute_result"
        }
      ],
      "source": [
        "\n"
      ]
    },
    {
      "cell_type": "markdown",
      "metadata": {
        "id": "0Z7fGJna9IkZ"
      },
      "source": [
        "Показать текущую дату"
      ]
    },
    {
      "cell_type": "code",
      "execution_count": 60,
      "metadata": {
        "id": "y49KEYrX9IkZ"
      },
      "outputs": [],
      "source": []
    },
    {
      "cell_type": "code",
      "execution_count": 61,
      "metadata": {
        "id": "lqEcHOif9IkZ",
        "outputId": "bfe7c701-64ff-496d-f7fc-3a08d5326c40",
        "colab": {
          "base_uri": "https://localhost:8080/",
          "height": 96
        }
      },
      "outputs": [
        {
          "output_type": "stream",
          "name": "stdout",
          "text": [
            " * sqlite:///SQL.db\n",
            "Done.\n"
          ]
        },
        {
          "output_type": "execute_result",
          "data": {
            "text/plain": [
              "[('2025 07 08',)]"
            ],
            "text/html": [
              "<table>\n",
              "    <thead>\n",
              "        <tr>\n",
              "            <th>strftime(&#x27;%Y %m %d&#x27;,&#x27;now&#x27;)</th>\n",
              "        </tr>\n",
              "    </thead>\n",
              "    <tbody>\n",
              "        <tr>\n",
              "            <td>2025 07 08</td>\n",
              "        </tr>\n",
              "    </tbody>\n",
              "</table>"
            ]
          },
          "metadata": {},
          "execution_count": 61
        }
      ],
      "source": [
        "%%sql\n",
        "SELECT strftime('%Y %m %d','now');"
      ]
    },
    {
      "cell_type": "markdown",
      "metadata": {
        "id": "WYN_0Evx9IkZ"
      },
      "source": [
        "Показать текущую дату и время"
      ]
    },
    {
      "cell_type": "code",
      "execution_count": 62,
      "metadata": {
        "id": "tbk5ztPF9IkZ",
        "outputId": "1fa035f6-1cab-4809-f2da-c0a9902bee8b",
        "colab": {
          "base_uri": "https://localhost:8080/",
          "height": 96
        }
      },
      "outputs": [
        {
          "output_type": "stream",
          "name": "stdout",
          "text": [
            " * sqlite:///SQL.db\n",
            "Done.\n"
          ]
        },
        {
          "output_type": "execute_result",
          "data": {
            "text/plain": [
              "[('2025-07-08 07:39:03',)]"
            ],
            "text/html": [
              "<table>\n",
              "    <thead>\n",
              "        <tr>\n",
              "            <th>datetime(&#x27;now&#x27;,&#x27;localtime&#x27;)</th>\n",
              "        </tr>\n",
              "    </thead>\n",
              "    <tbody>\n",
              "        <tr>\n",
              "            <td>2025-07-08 07:39:03</td>\n",
              "        </tr>\n",
              "    </tbody>\n",
              "</table>"
            ]
          },
          "metadata": {},
          "execution_count": 62
        }
      ],
      "source": [
        "%%sql\n",
        "select datetime('now','localtime')"
      ]
    },
    {
      "cell_type": "code",
      "execution_count": 62,
      "metadata": {
        "id": "sdZr9kvV9Ika"
      },
      "outputs": [],
      "source": []
    }
  ],
  "metadata": {
    "kernelspec": {
      "display_name": "Python 3",
      "language": "python",
      "name": "python3"
    },
    "language_info": {
      "codemirror_mode": {
        "name": "ipython",
        "version": 3
      },
      "file_extension": ".py",
      "mimetype": "text/x-python",
      "name": "python",
      "nbconvert_exporter": "python",
      "pygments_lexer": "ipython3",
      "version": "3.8.3"
    },
    "colab": {
      "provenance": []
    }
  },
  "nbformat": 4,
  "nbformat_minor": 0
}