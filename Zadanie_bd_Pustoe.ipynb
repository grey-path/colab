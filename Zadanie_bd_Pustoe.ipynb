{
  "cells": [
    {
      "cell_type": "code",
      "execution_count": null,
      "metadata": {
        "id": "j7os0W3KwNHQ"
      },
      "outputs": [],
      "source": [
        "import pandas as pd\n",
        "import sqlite3"
      ]
    },
    {
      "cell_type": "code",
      "execution_count": null,
      "metadata": {
        "id": "ZkcvgEkowNHS"
      },
      "outputs": [],
      "source": [
        "cnn = sqlite3.connect('SQL.db')"
      ]
    },
    {
      "cell_type": "code",
      "execution_count": null,
      "metadata": {
        "id": "HuLf7e0GwNHS",
        "outputId": "e4335884-5333-4b64-87d7-59f414d7ca38"
      },
      "outputs": [
        {
          "name": "stdout",
          "output_type": "stream",
          "text": [
            "The sql extension is already loaded. To reload it, use:\n",
            "  %reload_ext sql\n"
          ]
        }
      ],
      "source": [
        "%load_ext sql"
      ]
    },
    {
      "cell_type": "code",
      "execution_count": null,
      "metadata": {
        "id": "1Grc4kdowNHT"
      },
      "outputs": [],
      "source": [
        "%sql sqlite:///SQL.db"
      ]
    },
    {
      "cell_type": "code",
      "execution_count": null,
      "metadata": {
        "id": "s-hLoPPNwNHU",
        "outputId": "78934c3d-23d3-49df-bc84-d809e803c913"
      },
      "outputs": [
        {
          "name": "stdout",
          "output_type": "stream",
          "text": [
            " * sqlite:///SQL.db\n",
            "   sqlite:///SQL_Server_Trail.db\n",
            "Done.\n"
          ]
        },
        {
          "data": {
            "text/plain": [
              "[]"
            ]
          },
          "execution_count": 15,
          "metadata": {},
          "output_type": "execute_result"
        }
      ],
      "source": [
        "%%sql\n",
        "CREATE TABLE tblDepartment(\n",
        "    DepartmentID INT,\n",
        "    DepartmentName NVARCHAR (25),\n",
        "    DepartmentHead NVARCHAR (20),\n",
        "    PRIMARY KEY (DepartmentID)\n",
        ")"
      ]
    },
    {
      "cell_type": "code",
      "execution_count": null,
      "metadata": {
        "id": "iCEjQByUwNHV",
        "outputId": "cff4739f-b594-4ec4-ad03-e025ec2ccff7"
      },
      "outputs": [
        {
          "name": "stdout",
          "output_type": "stream",
          "text": [
            " * sqlite:///SQL.db\n",
            "   sqlite:///SQL_Server_Trail.db\n",
            "4 rows affected.\n"
          ]
        },
        {
          "data": {
            "text/plain": [
              "[]"
            ]
          },
          "execution_count": 16,
          "metadata": {},
          "output_type": "execute_result"
        }
      ],
      "source": [
        "%%sql\n",
        "INSERT INTO tblDepartment VALUES\n",
        "(1, 'IT', 'Shimi'),\n",
        "(2, 'HR', 'Roth'),\n",
        "(3, 'Payroll', 'Itai'),\n",
        "(4, 'Other Department', 'Simha')"
      ]
    },
    {
      "cell_type": "code",
      "execution_count": null,
      "metadata": {
        "id": "uVWcWsKywNHV",
        "outputId": "f4fc66e6-8c7e-40ce-b67a-702794407344"
      },
      "outputs": [
        {
          "name": "stdout",
          "output_type": "stream",
          "text": [
            " * sqlite:///SQL.db\n",
            "   sqlite:///SQL_Server_Trail.db\n",
            "Done.\n"
          ]
        },
        {
          "data": {
            "text/html": [
              "<table>\n",
              "    <tr>\n",
              "        <th>DepartmentID</th>\n",
              "        <th>DepartmentName</th>\n",
              "        <th>DepartmentHead</th>\n",
              "    </tr>\n",
              "    <tr>\n",
              "        <td>1</td>\n",
              "        <td>IT</td>\n",
              "        <td>Shimi</td>\n",
              "    </tr>\n",
              "    <tr>\n",
              "        <td>2</td>\n",
              "        <td>HR</td>\n",
              "        <td>Roth</td>\n",
              "    </tr>\n",
              "    <tr>\n",
              "        <td>3</td>\n",
              "        <td>Payroll</td>\n",
              "        <td>Itai</td>\n",
              "    </tr>\n",
              "    <tr>\n",
              "        <td>4</td>\n",
              "        <td>Other Department</td>\n",
              "        <td>Simha</td>\n",
              "    </tr>\n",
              "</table>"
            ],
            "text/plain": [
              "[(1, 'IT', 'Shimi'),\n",
              " (2, 'HR', 'Roth'),\n",
              " (3, 'Payroll', 'Itai'),\n",
              " (4, 'Other Department', 'Simha')]"
            ]
          },
          "execution_count": 17,
          "metadata": {},
          "output_type": "execute_result"
        }
      ],
      "source": [
        "%%sql\n",
        "Select *\n",
        "from tblDepartment"
      ]
    },
    {
      "cell_type": "code",
      "execution_count": null,
      "metadata": {
        "id": "ZZOjOITgwNHV",
        "outputId": "6e913552-0604-4243-ab61-1a9a2e215e45"
      },
      "outputs": [
        {
          "name": "stdout",
          "output_type": "stream",
          "text": [
            " * sqlite:///SQL.db\n",
            "   sqlite:///SQL_Server_Trail.db\n",
            "Done.\n"
          ]
        },
        {
          "data": {
            "text/plain": [
              "[]"
            ]
          },
          "execution_count": 18,
          "metadata": {},
          "output_type": "execute_result"
        }
      ],
      "source": [
        "%%sql\n",
        "CREATE TABLE tblemployee\n",
        "(\n",
        "    employeeID INT,\n",
        "    firstName NVARCHAR (30),\n",
        "    lastName NVARCHAR (30),\n",
        "    gender NVARCHAR (10),\n",
        "    Email NVARCHAR (50),\n",
        "    PhoneNumber NVARCHAR (15),\n",
        "    salary INT,\n",
        "    city NVARCHAR (20),\n",
        "    HireDate DATE,\n",
        "    DepartmentID INT,\n",
        "\n",
        "    FOREIGN KEY (DepartmentID) REFERENCES tblDepartment (DepartmentID),\n",
        "    PRIMARY KEY (employeeID)\n",
        "\n",
        ")"
      ]
    },
    {
      "cell_type": "code",
      "execution_count": null,
      "metadata": {
        "id": "csO5PVIUwNHW",
        "outputId": "17d874e7-fec2-4522-a20c-5c7ddc631648"
      },
      "outputs": [
        {
          "name": "stdout",
          "output_type": "stream",
          "text": [
            " * sqlite:///SQL.db\n",
            "   sqlite:///SQL_Server_Trail.db\n",
            "10 rows affected.\n"
          ]
        },
        {
          "data": {
            "text/plain": [
              "[]"
            ]
          },
          "execution_count": 19,
          "metadata": {},
          "output_type": "execute_result"
        }
      ],
      "source": [
        "%%sql\n",
        "INSERT INTO tblemployee VALUES\n",
        "(1,'Tomer', 'Itzhakov','Male', 'Tomerikoka@gmail.com', '0508554622', 11000, 'Jerusalem', '20011201',1),\n",
        "(2,'Shira', 'Nevo','Female', 'Shira@gmail.com', '0508515542', 8000, 'Jerusalem', '20020615',4),\n",
        "(3,'Ester', 'Hyut','Female', 'Ester@gmail.com', '0508575148', 10000, 'Jerusalem', '20120528',3),\n",
        "(4,'Robin', 'Choen','Male', 'Robin@gmail.com', '0528542523', 7000, 'Tel-Aviv', '20120224',2),\n",
        "(5,'Shlomi', 'Hai','Male', 'Shlomi@gmail.com', '0528456122', 10000, 'Tel-Aviv', '20081019',3),\n",
        "(6,'David', 'Kepler','Male', 'David@gmail.com', '0558847365', 11000, 'Tel-Aviv', '20160515',1),\n",
        "(7,'Dana', 'Tova','Female', 'Dana@gmail.com', '0556789322', 4000, 'Tel-Aviv', '20160202',2),\n",
        "(8,'Idan', 'Haviv','Male', 'Idan@gmail.com', '0508752256', 10000, 'Haifa', '20170522',3),\n",
        "(9,'Eti', 'Boblil','Female', 'Eti@gmail.com', '0505847665', 2000, 'Haifa', '20180614',4),\n",
        "(10,'Esti', 'Karlibah','Female', 'Esti@gmail.com', '0504859998', 1000, 'Haifa', '20140713',2)"
      ]
    },
    {
      "cell_type": "markdown",
      "metadata": {
        "id": "gfd4xBMmwNHW"
      },
      "source": [
        " #### Распечатать всю таблицу tblemployee"
      ]
    },
    {
      "cell_type": "code",
      "execution_count": null,
      "metadata": {
        "id": "hK4TIrH-wNHY",
        "outputId": "ec23e31c-f410-4b2a-cbfe-4194feec1b7a"
      },
      "outputs": [
        {
          "name": "stdout",
          "output_type": "stream",
          "text": [
            " * sqlite:///SQL_Server_Trail.db\n",
            "Done.\n"
          ]
        },
        {
          "data": {
            "text/html": [
              "<table>\n",
              "    <tr>\n",
              "        <th>employeeID</th>\n",
              "        <th>firstName</th>\n",
              "        <th>lastName</th>\n",
              "        <th>gender</th>\n",
              "        <th>Email</th>\n",
              "        <th>PhoneNumber</th>\n",
              "        <th>salary</th>\n",
              "        <th>city</th>\n",
              "        <th>HireDate</th>\n",
              "        <th>DepartmentID</th>\n",
              "    </tr>\n",
              "    <tr>\n",
              "        <td>1</td>\n",
              "        <td>Tomer</td>\n",
              "        <td>Itzhakov</td>\n",
              "        <td>Male</td>\n",
              "        <td>Tomerikoka@gmail.com</td>\n",
              "        <td>0508554622</td>\n",
              "        <td>11000</td>\n",
              "        <td>Jerusalem</td>\n",
              "        <td>20011201</td>\n",
              "        <td>1</td>\n",
              "    </tr>\n",
              "    <tr>\n",
              "        <td>2</td>\n",
              "        <td>Shira</td>\n",
              "        <td>Nevo</td>\n",
              "        <td>Female</td>\n",
              "        <td>Shira@gmail.com</td>\n",
              "        <td>0508515542</td>\n",
              "        <td>8000</td>\n",
              "        <td>Jerusalem</td>\n",
              "        <td>20020615</td>\n",
              "        <td>4</td>\n",
              "    </tr>\n",
              "    <tr>\n",
              "        <td>3</td>\n",
              "        <td>Ester</td>\n",
              "        <td>Hyut</td>\n",
              "        <td>Female</td>\n",
              "        <td>Ester@gmail.com</td>\n",
              "        <td>0508575148</td>\n",
              "        <td>10000</td>\n",
              "        <td>Jerusalem</td>\n",
              "        <td>20120528</td>\n",
              "        <td>3</td>\n",
              "    </tr>\n",
              "    <tr>\n",
              "        <td>4</td>\n",
              "        <td>Robin</td>\n",
              "        <td>Choen</td>\n",
              "        <td>Male</td>\n",
              "        <td>Robin@gmail.com</td>\n",
              "        <td>0528542523</td>\n",
              "        <td>7000</td>\n",
              "        <td>Tel-Aviv</td>\n",
              "        <td>20120224</td>\n",
              "        <td>2</td>\n",
              "    </tr>\n",
              "    <tr>\n",
              "        <td>5</td>\n",
              "        <td>Shlomi</td>\n",
              "        <td>Hai</td>\n",
              "        <td>Male</td>\n",
              "        <td>Shlomi@gmail.com</td>\n",
              "        <td>0528456122</td>\n",
              "        <td>10000</td>\n",
              "        <td>Tel-Aviv</td>\n",
              "        <td>20081019</td>\n",
              "        <td>3</td>\n",
              "    </tr>\n",
              "    <tr>\n",
              "        <td>6</td>\n",
              "        <td>David</td>\n",
              "        <td>Kepler</td>\n",
              "        <td>Male</td>\n",
              "        <td>David@gmail.com</td>\n",
              "        <td>0558847365</td>\n",
              "        <td>11000</td>\n",
              "        <td>Tel-Aviv</td>\n",
              "        <td>20160515</td>\n",
              "        <td>1</td>\n",
              "    </tr>\n",
              "    <tr>\n",
              "        <td>7</td>\n",
              "        <td>Dana</td>\n",
              "        <td>Tova</td>\n",
              "        <td>Female</td>\n",
              "        <td>Dana@gmail.com</td>\n",
              "        <td>0556789322</td>\n",
              "        <td>4000</td>\n",
              "        <td>Tel-Aviv</td>\n",
              "        <td>20160202</td>\n",
              "        <td>2</td>\n",
              "    </tr>\n",
              "    <tr>\n",
              "        <td>8</td>\n",
              "        <td>Idan</td>\n",
              "        <td>Haviv</td>\n",
              "        <td>Male</td>\n",
              "        <td>Idan@gmail.com</td>\n",
              "        <td>0508752256</td>\n",
              "        <td>10000</td>\n",
              "        <td>Haifa</td>\n",
              "        <td>20170522</td>\n",
              "        <td>3</td>\n",
              "    </tr>\n",
              "    <tr>\n",
              "        <td>9</td>\n",
              "        <td>Eti</td>\n",
              "        <td>Boblil</td>\n",
              "        <td>Female</td>\n",
              "        <td>Eti@gmail.com</td>\n",
              "        <td>0505847665</td>\n",
              "        <td>2000</td>\n",
              "        <td>Haifa</td>\n",
              "        <td>20180614</td>\n",
              "        <td>4</td>\n",
              "    </tr>\n",
              "    <tr>\n",
              "        <td>10</td>\n",
              "        <td>Esti</td>\n",
              "        <td>Karlibah</td>\n",
              "        <td>Female</td>\n",
              "        <td>Esti@gmail.com</td>\n",
              "        <td>0504859998</td>\n",
              "        <td>1000</td>\n",
              "        <td>Haifa</td>\n",
              "        <td>20140713</td>\n",
              "        <td>2</td>\n",
              "    </tr>\n",
              "</table>"
            ],
            "text/plain": [
              "[(1, 'Tomer', 'Itzhakov', 'Male', 'Tomerikoka@gmail.com', '0508554622', 11000, 'Jerusalem', 20011201, 1),\n",
              " (2, 'Shira', 'Nevo', 'Female', 'Shira@gmail.com', '0508515542', 8000, 'Jerusalem', 20020615, 4),\n",
              " (3, 'Ester', 'Hyut', 'Female', 'Ester@gmail.com', '0508575148', 10000, 'Jerusalem', 20120528, 3),\n",
              " (4, 'Robin', 'Choen', 'Male', 'Robin@gmail.com', '0528542523', 7000, 'Tel-Aviv', 20120224, 2),\n",
              " (5, 'Shlomi', 'Hai', 'Male', 'Shlomi@gmail.com', '0528456122', 10000, 'Tel-Aviv', 20081019, 3),\n",
              " (6, 'David', 'Kepler', 'Male', 'David@gmail.com', '0558847365', 11000, 'Tel-Aviv', 20160515, 1),\n",
              " (7, 'Dana', 'Tova', 'Female', 'Dana@gmail.com', '0556789322', 4000, 'Tel-Aviv', 20160202, 2),\n",
              " (8, 'Idan', 'Haviv', 'Male', 'Idan@gmail.com', '0508752256', 10000, 'Haifa', 20170522, 3),\n",
              " (9, 'Eti', 'Boblil', 'Female', 'Eti@gmail.com', '0505847665', 2000, 'Haifa', 20180614, 4),\n",
              " (10, 'Esti', 'Karlibah', 'Female', 'Esti@gmail.com', '0504859998', 1000, 'Haifa', 20140713, 2)]"
            ]
          },
          "execution_count": 5,
          "metadata": {},
          "output_type": "execute_result"
        }
      ],
      "source": [
        "%%sql\n",
        "SELECT * FROM tblemployee"
      ]
    },
    {
      "cell_type": "code",
      "execution_count": null,
      "metadata": {
        "id": "5fGGotOMwNHZ",
        "outputId": "ec8683c5-b62e-4f46-96dd-c29411353fc7"
      },
      "outputs": [
        {
          "name": "stdout",
          "output_type": "stream",
          "text": [
            " * sqlite:///SQL.db\n",
            "   sqlite:///SQL_Server_Trail.db\n",
            "Done.\n"
          ]
        },
        {
          "data": {
            "text/html": [
              "<table>\n",
              "    <tr>\n",
              "        <th>DepartmentID</th>\n",
              "        <th>DepartmentName</th>\n",
              "        <th>DepartmentHead</th>\n",
              "    </tr>\n",
              "    <tr>\n",
              "        <td>1</td>\n",
              "        <td>IT</td>\n",
              "        <td>Shimi</td>\n",
              "    </tr>\n",
              "    <tr>\n",
              "        <td>2</td>\n",
              "        <td>HR</td>\n",
              "        <td>Roth</td>\n",
              "    </tr>\n",
              "    <tr>\n",
              "        <td>3</td>\n",
              "        <td>Payroll</td>\n",
              "        <td>Itai</td>\n",
              "    </tr>\n",
              "    <tr>\n",
              "        <td>4</td>\n",
              "        <td>Other Department</td>\n",
              "        <td>Simha</td>\n",
              "    </tr>\n",
              "</table>"
            ],
            "text/plain": [
              "[(1, 'IT', 'Shimi'),\n",
              " (2, 'HR', 'Roth'),\n",
              " (3, 'Payroll', 'Itai'),\n",
              " (4, 'Other Department', 'Simha')]"
            ]
          },
          "execution_count": 20,
          "metadata": {},
          "output_type": "execute_result"
        }
      ],
      "source": [
        "%%sql\n",
        "SELECT * FROM tblDepartment"
      ]
    },
    {
      "cell_type": "markdown",
      "metadata": {
        "id": "R0qrkNDowNHZ"
      },
      "source": [
        "#### Выбрать всех женщин  из tblemployee. Показывать только имя, пол и номер телефона"
      ]
    },
    {
      "cell_type": "code",
      "execution_count": null,
      "metadata": {
        "id": "kMy_vf7GwNHZ",
        "outputId": "ea349b4d-5736-4c53-d034-0ad968198060"
      },
      "outputs": [
        {
          "name": "stdout",
          "output_type": "stream",
          "text": [
            " * sqlite:///SQL_Server_Trail.db\n",
            "   sqlite:///The_SQL_Server_Trail_Database.db\n",
            "   sqlite:///The_SQL_Server_Trail_Database2.db\n",
            "   sqlite:///The_SQL_Server_Trail_Database3.db\n",
            "Done.\n"
          ]
        },
        {
          "data": {
            "text/html": [
              "<table>\n",
              "    <tr>\n",
              "        <th>firstName</th>\n",
              "        <th>gender</th>\n",
              "        <th>PhoneNumber</th>\n",
              "    </tr>\n",
              "    <tr>\n",
              "        <td>Shira</td>\n",
              "        <td>Female</td>\n",
              "        <td>0508515542</td>\n",
              "    </tr>\n",
              "    <tr>\n",
              "        <td>Ester</td>\n",
              "        <td>Female</td>\n",
              "        <td>0508575148</td>\n",
              "    </tr>\n",
              "    <tr>\n",
              "        <td>Dana</td>\n",
              "        <td>Female</td>\n",
              "        <td>0556789322</td>\n",
              "    </tr>\n",
              "    <tr>\n",
              "        <td>Eti</td>\n",
              "        <td>Female</td>\n",
              "        <td>0505847665</td>\n",
              "    </tr>\n",
              "    <tr>\n",
              "        <td>Esti</td>\n",
              "        <td>Female</td>\n",
              "        <td>0504859998</td>\n",
              "    </tr>\n",
              "</table>"
            ],
            "text/plain": [
              "[('Shira', 'Female', '0508515542'),\n",
              " ('Ester', 'Female', '0508575148'),\n",
              " ('Dana', 'Female', '0556789322'),\n",
              " ('Eti', 'Female', '0505847665'),\n",
              " ('Esti', 'Female', '0504859998')]"
            ]
          },
          "execution_count": 46,
          "metadata": {},
          "output_type": "execute_result"
        }
      ],
      "source": []
    },
    {
      "cell_type": "markdown",
      "metadata": {
        "id": "pm-nGzPTwNHZ"
      },
      "source": [
        "#### Выберите всех мужчин, которые живут в Иерусалиме и Хайфе."
      ]
    },
    {
      "cell_type": "markdown",
      "metadata": {
        "id": "bFdik0otwNHa"
      },
      "source": [
        "in"
      ]
    },
    {
      "cell_type": "code",
      "execution_count": null,
      "metadata": {
        "id": "WbQoqOSVwNHa",
        "outputId": "367f90ea-7c6a-40d4-8328-0078ac82134e"
      },
      "outputs": [
        {
          "name": "stdout",
          "output_type": "stream",
          "text": [
            " * sqlite:///The_SQL_Server_Trail_Database.db\n",
            "Done.\n"
          ]
        },
        {
          "data": {
            "text/html": [
              "<table>\n",
              "    <tr>\n",
              "        <th>employeeID</th>\n",
              "        <th>firstName</th>\n",
              "        <th>lastName</th>\n",
              "        <th>gender</th>\n",
              "        <th>Email</th>\n",
              "        <th>PhoneNumber</th>\n",
              "        <th>salary</th>\n",
              "        <th>city</th>\n",
              "        <th>HireDate</th>\n",
              "        <th>DepartmentID</th>\n",
              "    </tr>\n",
              "    <tr>\n",
              "        <td>1</td>\n",
              "        <td>Tomer</td>\n",
              "        <td>Itzhakov</td>\n",
              "        <td>Male</td>\n",
              "        <td>Tomerikoka@gmail.com</td>\n",
              "        <td>0508554622</td>\n",
              "        <td>11000</td>\n",
              "        <td>Jerusalem</td>\n",
              "        <td>20011201</td>\n",
              "        <td>1</td>\n",
              "    </tr>\n",
              "    <tr>\n",
              "        <td>8</td>\n",
              "        <td>Idan</td>\n",
              "        <td>Haviv</td>\n",
              "        <td>Male</td>\n",
              "        <td>Idan@gmail.com</td>\n",
              "        <td>0508752256</td>\n",
              "        <td>10000</td>\n",
              "        <td>Haifa</td>\n",
              "        <td>20170522</td>\n",
              "        <td>3</td>\n",
              "    </tr>\n",
              "</table>"
            ],
            "text/plain": [
              "[(1, 'Tomer', 'Itzhakov', 'Male', 'Tomerikoka@gmail.com', '0508554622', 11000, 'Jerusalem', 20011201, 1),\n",
              " (8, 'Idan', 'Haviv', 'Male', 'Idan@gmail.com', '0508752256', 10000, 'Haifa', 20170522, 3)]"
            ]
          },
          "execution_count": 20,
          "metadata": {},
          "output_type": "execute_result"
        }
      ],
      "source": []
    },
    {
      "cell_type": "markdown",
      "metadata": {
        "id": "v3-YFEfRwNHa"
      },
      "source": [
        "с помощью логических условий"
      ]
    },
    {
      "cell_type": "code",
      "execution_count": null,
      "metadata": {
        "id": "qt7Alkl4wNHa",
        "outputId": "e2a3b30d-e026-49ee-e93a-6f6225023c49"
      },
      "outputs": [
        {
          "name": "stdout",
          "output_type": "stream",
          "text": [
            " * sqlite:///The_SQL_Server_Trail_Database.db\n",
            "Done.\n"
          ]
        },
        {
          "data": {
            "text/html": [
              "<table>\n",
              "    <tr>\n",
              "        <th>employeeID</th>\n",
              "        <th>firstName</th>\n",
              "        <th>lastName</th>\n",
              "        <th>gender</th>\n",
              "        <th>Email</th>\n",
              "        <th>PhoneNumber</th>\n",
              "        <th>salary</th>\n",
              "        <th>city</th>\n",
              "        <th>HireDate</th>\n",
              "        <th>DepartmentID</th>\n",
              "    </tr>\n",
              "    <tr>\n",
              "        <td>1</td>\n",
              "        <td>Tomer</td>\n",
              "        <td>Itzhakov</td>\n",
              "        <td>Male</td>\n",
              "        <td>Tomerikoka@gmail.com</td>\n",
              "        <td>0508554622</td>\n",
              "        <td>11000</td>\n",
              "        <td>Jerusalem</td>\n",
              "        <td>20011201</td>\n",
              "        <td>1</td>\n",
              "    </tr>\n",
              "    <tr>\n",
              "        <td>8</td>\n",
              "        <td>Idan</td>\n",
              "        <td>Haviv</td>\n",
              "        <td>Male</td>\n",
              "        <td>Idan@gmail.com</td>\n",
              "        <td>0508752256</td>\n",
              "        <td>10000</td>\n",
              "        <td>Haifa</td>\n",
              "        <td>20170522</td>\n",
              "        <td>3</td>\n",
              "    </tr>\n",
              "</table>"
            ],
            "text/plain": [
              "[(1, 'Tomer', 'Itzhakov', 'Male', 'Tomerikoka@gmail.com', '0508554622', 11000, 'Jerusalem', 20011201, 1),\n",
              " (8, 'Idan', 'Haviv', 'Male', 'Idan@gmail.com', '0508752256', 10000, 'Haifa', 20170522, 3)]"
            ]
          },
          "execution_count": 22,
          "metadata": {},
          "output_type": "execute_result"
        }
      ],
      "source": []
    },
    {
      "cell_type": "markdown",
      "metadata": {
        "id": "C_xPf7VLwNHb"
      },
      "source": [
        "#### Выбрать всех сотрудников с зарплатой 6000 или 11000"
      ]
    },
    {
      "cell_type": "markdown",
      "metadata": {
        "id": "Gsoh1h46wNHb"
      },
      "source": [
        "or"
      ]
    },
    {
      "cell_type": "code",
      "execution_count": null,
      "metadata": {
        "id": "WdnKWlBUwNHb",
        "outputId": "7af8c7f7-a2b1-4b39-f9cf-7252c55dad56"
      },
      "outputs": [
        {
          "name": "stdout",
          "output_type": "stream",
          "text": [
            " * sqlite:///The_SQL_Server_Trail_Database.db\n",
            "Done.\n"
          ]
        },
        {
          "data": {
            "text/html": [
              "<table>\n",
              "    <tr>\n",
              "        <th>employeeID</th>\n",
              "        <th>firstName</th>\n",
              "        <th>lastName</th>\n",
              "        <th>gender</th>\n",
              "        <th>Email</th>\n",
              "        <th>PhoneNumber</th>\n",
              "        <th>salary</th>\n",
              "        <th>city</th>\n",
              "        <th>HireDate</th>\n",
              "        <th>DepartmentID</th>\n",
              "    </tr>\n",
              "    <tr>\n",
              "        <td>1</td>\n",
              "        <td>Tomer</td>\n",
              "        <td>Itzhakov</td>\n",
              "        <td>Male</td>\n",
              "        <td>Tomerikoka@gmail.com</td>\n",
              "        <td>0508554622</td>\n",
              "        <td>11000</td>\n",
              "        <td>Jerusalem</td>\n",
              "        <td>20011201</td>\n",
              "        <td>1</td>\n",
              "    </tr>\n",
              "    <tr>\n",
              "        <td>6</td>\n",
              "        <td>David</td>\n",
              "        <td>Kepler</td>\n",
              "        <td>Male</td>\n",
              "        <td>David@gmail.com</td>\n",
              "        <td>0558847365</td>\n",
              "        <td>11000</td>\n",
              "        <td>Tel-Aviv</td>\n",
              "        <td>20160515</td>\n",
              "        <td>1</td>\n",
              "    </tr>\n",
              "</table>"
            ],
            "text/plain": [
              "[(1, 'Tomer', 'Itzhakov', 'Male', 'Tomerikoka@gmail.com', '0508554622', 11000, 'Jerusalem', 20011201, 1),\n",
              " (6, 'David', 'Kepler', 'Male', 'David@gmail.com', '0558847365', 11000, 'Tel-Aviv', 20160515, 1)]"
            ]
          },
          "execution_count": 23,
          "metadata": {},
          "output_type": "execute_result"
        }
      ],
      "source": []
    },
    {
      "cell_type": "markdown",
      "metadata": {
        "id": "1q-Xl9KCwNHc"
      },
      "source": [
        "in"
      ]
    },
    {
      "cell_type": "code",
      "execution_count": null,
      "metadata": {
        "id": "EDNpHdyrwNHc",
        "outputId": "e70a57ff-f74e-471d-b536-af45dfc752e9"
      },
      "outputs": [
        {
          "name": "stdout",
          "output_type": "stream",
          "text": [
            " * sqlite:///The_SQL_Server_Trail_Database.db\n",
            "Done.\n"
          ]
        },
        {
          "data": {
            "text/html": [
              "<table>\n",
              "    <tr>\n",
              "        <th>employeeID</th>\n",
              "        <th>firstName</th>\n",
              "        <th>lastName</th>\n",
              "        <th>gender</th>\n",
              "        <th>Email</th>\n",
              "        <th>PhoneNumber</th>\n",
              "        <th>salary</th>\n",
              "        <th>city</th>\n",
              "        <th>HireDate</th>\n",
              "        <th>DepartmentID</th>\n",
              "    </tr>\n",
              "    <tr>\n",
              "        <td>1</td>\n",
              "        <td>Tomer</td>\n",
              "        <td>Itzhakov</td>\n",
              "        <td>Male</td>\n",
              "        <td>Tomerikoka@gmail.com</td>\n",
              "        <td>0508554622</td>\n",
              "        <td>11000</td>\n",
              "        <td>Jerusalem</td>\n",
              "        <td>20011201</td>\n",
              "        <td>1</td>\n",
              "    </tr>\n",
              "    <tr>\n",
              "        <td>6</td>\n",
              "        <td>David</td>\n",
              "        <td>Kepler</td>\n",
              "        <td>Male</td>\n",
              "        <td>David@gmail.com</td>\n",
              "        <td>0558847365</td>\n",
              "        <td>11000</td>\n",
              "        <td>Tel-Aviv</td>\n",
              "        <td>20160515</td>\n",
              "        <td>1</td>\n",
              "    </tr>\n",
              "</table>"
            ],
            "text/plain": [
              "[(1, 'Tomer', 'Itzhakov', 'Male', 'Tomerikoka@gmail.com', '0508554622', 11000, 'Jerusalem', 20011201, 1),\n",
              " (6, 'David', 'Kepler', 'Male', 'David@gmail.com', '0558847365', 11000, 'Tel-Aviv', 20160515, 1)]"
            ]
          },
          "execution_count": 24,
          "metadata": {},
          "output_type": "execute_result"
        }
      ],
      "source": []
    },
    {
      "cell_type": "markdown",
      "metadata": {
        "id": "yA9mQmOwwNHc"
      },
      "source": [
        "#### Выберите всех сотрудников, которые живут в Иерусалиме и Хайфе с зарплатой от 4000 до 10000"
      ]
    },
    {
      "cell_type": "code",
      "execution_count": null,
      "metadata": {
        "id": "sDtXqoH7wNHc",
        "outputId": "55f78247-96c3-418c-8ab8-861e6e95cce7"
      },
      "outputs": [
        {
          "name": "stdout",
          "output_type": "stream",
          "text": [
            " * sqlite:///The_SQL_Server_Trail_Database.db\n",
            "Done.\n"
          ]
        },
        {
          "data": {
            "text/html": [
              "<table>\n",
              "    <tr>\n",
              "        <th>employeeID</th>\n",
              "        <th>firstName</th>\n",
              "        <th>lastName</th>\n",
              "        <th>gender</th>\n",
              "        <th>Email</th>\n",
              "        <th>PhoneNumber</th>\n",
              "        <th>salary</th>\n",
              "        <th>city</th>\n",
              "        <th>HireDate</th>\n",
              "        <th>DepartmentID</th>\n",
              "    </tr>\n",
              "    <tr>\n",
              "        <td>2</td>\n",
              "        <td>Shira</td>\n",
              "        <td>Nevo</td>\n",
              "        <td>Female</td>\n",
              "        <td>Shira@gmail.com</td>\n",
              "        <td>0508515542</td>\n",
              "        <td>8000</td>\n",
              "        <td>Jerusalem</td>\n",
              "        <td>20020615</td>\n",
              "        <td>4</td>\n",
              "    </tr>\n",
              "    <tr>\n",
              "        <td>3</td>\n",
              "        <td>Ester</td>\n",
              "        <td>Hyut</td>\n",
              "        <td>Female</td>\n",
              "        <td>Ester@gmail.com</td>\n",
              "        <td>0508575148</td>\n",
              "        <td>10000</td>\n",
              "        <td>Jerusalem</td>\n",
              "        <td>20120528</td>\n",
              "        <td>3</td>\n",
              "    </tr>\n",
              "    <tr>\n",
              "        <td>8</td>\n",
              "        <td>Idan</td>\n",
              "        <td>Haviv</td>\n",
              "        <td>Male</td>\n",
              "        <td>Idan@gmail.com</td>\n",
              "        <td>0508752256</td>\n",
              "        <td>10000</td>\n",
              "        <td>Haifa</td>\n",
              "        <td>20170522</td>\n",
              "        <td>3</td>\n",
              "    </tr>\n",
              "</table>"
            ],
            "text/plain": [
              "[(2, 'Shira', 'Nevo', 'Female', 'Shira@gmail.com', '0508515542', 8000, 'Jerusalem', 20020615, 4),\n",
              " (3, 'Ester', 'Hyut', 'Female', 'Ester@gmail.com', '0508575148', 10000, 'Jerusalem', 20120528, 3),\n",
              " (8, 'Idan', 'Haviv', 'Male', 'Idan@gmail.com', '0508752256', 10000, 'Haifa', 20170522, 3)]"
            ]
          },
          "execution_count": 34,
          "metadata": {},
          "output_type": "execute_result"
        }
      ],
      "source": [
        ""
      ]
    },
    {
      "cell_type": "code",
      "execution_count": null,
      "metadata": {
        "id": "ngoWoCHWwNHd",
        "outputId": "be1ead3b-e7e6-40e0-94f0-b4e7a2e764e7"
      },
      "outputs": [
        {
          "name": "stdout",
          "output_type": "stream",
          "text": [
            " * sqlite:///The_SQL_Server_Trail_Database.db\n",
            "Done.\n"
          ]
        },
        {
          "data": {
            "text/html": [
              "<table>\n",
              "    <tr>\n",
              "        <th>employeeID</th>\n",
              "        <th>firstName</th>\n",
              "        <th>lastName</th>\n",
              "        <th>gender</th>\n",
              "        <th>Email</th>\n",
              "        <th>PhoneNumber</th>\n",
              "        <th>salary</th>\n",
              "        <th>city</th>\n",
              "        <th>HireDate</th>\n",
              "        <th>DepartmentID</th>\n",
              "    </tr>\n",
              "    <tr>\n",
              "        <td>2</td>\n",
              "        <td>Shira</td>\n",
              "        <td>Nevo</td>\n",
              "        <td>Female</td>\n",
              "        <td>Shira@gmail.com</td>\n",
              "        <td>0508515542</td>\n",
              "        <td>8000</td>\n",
              "        <td>Jerusalem</td>\n",
              "        <td>20020615</td>\n",
              "        <td>4</td>\n",
              "    </tr>\n",
              "    <tr>\n",
              "        <td>3</td>\n",
              "        <td>Ester</td>\n",
              "        <td>Hyut</td>\n",
              "        <td>Female</td>\n",
              "        <td>Ester@gmail.com</td>\n",
              "        <td>0508575148</td>\n",
              "        <td>10000</td>\n",
              "        <td>Jerusalem</td>\n",
              "        <td>20120528</td>\n",
              "        <td>3</td>\n",
              "    </tr>\n",
              "    <tr>\n",
              "        <td>8</td>\n",
              "        <td>Idan</td>\n",
              "        <td>Haviv</td>\n",
              "        <td>Male</td>\n",
              "        <td>Idan@gmail.com</td>\n",
              "        <td>0508752256</td>\n",
              "        <td>10000</td>\n",
              "        <td>Haifa</td>\n",
              "        <td>20170522</td>\n",
              "        <td>3</td>\n",
              "    </tr>\n",
              "</table>"
            ],
            "text/plain": [
              "[(2, 'Shira', 'Nevo', 'Female', 'Shira@gmail.com', '0508515542', 8000, 'Jerusalem', 20020615, 4),\n",
              " (3, 'Ester', 'Hyut', 'Female', 'Ester@gmail.com', '0508575148', 10000, 'Jerusalem', 20120528, 3),\n",
              " (8, 'Idan', 'Haviv', 'Male', 'Idan@gmail.com', '0508752256', 10000, 'Haifa', 20170522, 3)]"
            ]
          },
          "execution_count": 26,
          "metadata": {},
          "output_type": "execute_result"
        }
      ],
      "source": []
    },
    {
      "cell_type": "markdown",
      "metadata": {
        "id": "ihMWJYJ1wNHd"
      },
      "source": [
        "#### Выбрать всех сотрудников с номером телефона, начинающимся с 050"
      ]
    },
    {
      "cell_type": "code",
      "execution_count": null,
      "metadata": {
        "id": "KC-BcksPwNHd",
        "outputId": "cd97bb50-6a4a-477b-e915-7dcf9b032ef7"
      },
      "outputs": [
        {
          "name": "stdout",
          "output_type": "stream",
          "text": [
            " * sqlite:///The_SQL_Server_Trail_Database.db\n",
            "Done.\n"
          ]
        },
        {
          "data": {
            "text/html": [
              "<table>\n",
              "    <tr>\n",
              "        <th>employeeID</th>\n",
              "        <th>firstName</th>\n",
              "        <th>lastName</th>\n",
              "        <th>gender</th>\n",
              "        <th>Email</th>\n",
              "        <th>PhoneNumber</th>\n",
              "        <th>salary</th>\n",
              "        <th>city</th>\n",
              "        <th>HireDate</th>\n",
              "        <th>DepartmentID</th>\n",
              "    </tr>\n",
              "    <tr>\n",
              "        <td>1</td>\n",
              "        <td>Tomer</td>\n",
              "        <td>Itzhakov</td>\n",
              "        <td>Male</td>\n",
              "        <td>Tomerikoka@gmail.com</td>\n",
              "        <td>0508554622</td>\n",
              "        <td>11000</td>\n",
              "        <td>Jerusalem</td>\n",
              "        <td>20011201</td>\n",
              "        <td>1</td>\n",
              "    </tr>\n",
              "    <tr>\n",
              "        <td>2</td>\n",
              "        <td>Shira</td>\n",
              "        <td>Nevo</td>\n",
              "        <td>Female</td>\n",
              "        <td>Shira@gmail.com</td>\n",
              "        <td>0508515542</td>\n",
              "        <td>8000</td>\n",
              "        <td>Jerusalem</td>\n",
              "        <td>20020615</td>\n",
              "        <td>4</td>\n",
              "    </tr>\n",
              "    <tr>\n",
              "        <td>3</td>\n",
              "        <td>Ester</td>\n",
              "        <td>Hyut</td>\n",
              "        <td>Female</td>\n",
              "        <td>Ester@gmail.com</td>\n",
              "        <td>0508575148</td>\n",
              "        <td>10000</td>\n",
              "        <td>Jerusalem</td>\n",
              "        <td>20120528</td>\n",
              "        <td>3</td>\n",
              "    </tr>\n",
              "    <tr>\n",
              "        <td>8</td>\n",
              "        <td>Idan</td>\n",
              "        <td>Haviv</td>\n",
              "        <td>Male</td>\n",
              "        <td>Idan@gmail.com</td>\n",
              "        <td>0508752256</td>\n",
              "        <td>10000</td>\n",
              "        <td>Haifa</td>\n",
              "        <td>20170522</td>\n",
              "        <td>3</td>\n",
              "    </tr>\n",
              "    <tr>\n",
              "        <td>9</td>\n",
              "        <td>Eti</td>\n",
              "        <td>Boblil</td>\n",
              "        <td>Female</td>\n",
              "        <td>Eti@gmail.com</td>\n",
              "        <td>0505847665</td>\n",
              "        <td>2000</td>\n",
              "        <td>Haifa</td>\n",
              "        <td>20180614</td>\n",
              "        <td>4</td>\n",
              "    </tr>\n",
              "    <tr>\n",
              "        <td>10</td>\n",
              "        <td>Esti</td>\n",
              "        <td>Karlibah</td>\n",
              "        <td>Female</td>\n",
              "        <td>Esti@gmail.com</td>\n",
              "        <td>0504859998</td>\n",
              "        <td>1000</td>\n",
              "        <td>Haifa</td>\n",
              "        <td>20140713</td>\n",
              "        <td>2</td>\n",
              "    </tr>\n",
              "</table>"
            ],
            "text/plain": [
              "[(1, 'Tomer', 'Itzhakov', 'Male', 'Tomerikoka@gmail.com', '0508554622', 11000, 'Jerusalem', 20011201, 1),\n",
              " (2, 'Shira', 'Nevo', 'Female', 'Shira@gmail.com', '0508515542', 8000, 'Jerusalem', 20020615, 4),\n",
              " (3, 'Ester', 'Hyut', 'Female', 'Ester@gmail.com', '0508575148', 10000, 'Jerusalem', 20120528, 3),\n",
              " (8, 'Idan', 'Haviv', 'Male', 'Idan@gmail.com', '0508752256', 10000, 'Haifa', 20170522, 3),\n",
              " (9, 'Eti', 'Boblil', 'Female', 'Eti@gmail.com', '0505847665', 2000, 'Haifa', 20180614, 4),\n",
              " (10, 'Esti', 'Karlibah', 'Female', 'Esti@gmail.com', '0504859998', 1000, 'Haifa', 20140713, 2)]"
            ]
          },
          "execution_count": 35,
          "metadata": {},
          "output_type": "execute_result"
        }
      ],
      "source": []
    },
    {
      "cell_type": "markdown",
      "metadata": {
        "id": "VReNU3tuwNHd"
      },
      "source": [
        "#### Выбрать всех сотрудников с номером телефона, не начинающимся с 050"
      ]
    },
    {
      "cell_type": "code",
      "execution_count": null,
      "metadata": {
        "id": "Kfy4pnwGwNHd",
        "outputId": "1702d78e-c803-4f1e-b9ee-3ff1098eb71d"
      },
      "outputs": [
        {
          "name": "stdout",
          "output_type": "stream",
          "text": [
            " * sqlite:///The_SQL_Server_Trail_Database.db\n",
            "Done.\n"
          ]
        },
        {
          "data": {
            "text/html": [
              "<table>\n",
              "    <tr>\n",
              "        <th>employeeID</th>\n",
              "        <th>firstName</th>\n",
              "        <th>lastName</th>\n",
              "        <th>gender</th>\n",
              "        <th>Email</th>\n",
              "        <th>PhoneNumber</th>\n",
              "        <th>salary</th>\n",
              "        <th>city</th>\n",
              "        <th>HireDate</th>\n",
              "        <th>DepartmentID</th>\n",
              "    </tr>\n",
              "    <tr>\n",
              "        <td>4</td>\n",
              "        <td>Robin</td>\n",
              "        <td>Choen</td>\n",
              "        <td>Male</td>\n",
              "        <td>Robin@gmail.com</td>\n",
              "        <td>0528542523</td>\n",
              "        <td>7000</td>\n",
              "        <td>Tel-Aviv</td>\n",
              "        <td>20120224</td>\n",
              "        <td>2</td>\n",
              "    </tr>\n",
              "    <tr>\n",
              "        <td>5</td>\n",
              "        <td>Shlomi</td>\n",
              "        <td>Hai</td>\n",
              "        <td>Male</td>\n",
              "        <td>Shlomi@gmail.com</td>\n",
              "        <td>0528456122</td>\n",
              "        <td>10000</td>\n",
              "        <td>Tel-Aviv</td>\n",
              "        <td>20081019</td>\n",
              "        <td>3</td>\n",
              "    </tr>\n",
              "    <tr>\n",
              "        <td>6</td>\n",
              "        <td>David</td>\n",
              "        <td>Kepler</td>\n",
              "        <td>Male</td>\n",
              "        <td>David@gmail.com</td>\n",
              "        <td>0558847365</td>\n",
              "        <td>11000</td>\n",
              "        <td>Tel-Aviv</td>\n",
              "        <td>20160515</td>\n",
              "        <td>1</td>\n",
              "    </tr>\n",
              "    <tr>\n",
              "        <td>7</td>\n",
              "        <td>Dana</td>\n",
              "        <td>Tova</td>\n",
              "        <td>Female</td>\n",
              "        <td>Dana@gmail.com</td>\n",
              "        <td>0556789322</td>\n",
              "        <td>4000</td>\n",
              "        <td>Tel-Aviv</td>\n",
              "        <td>20160202</td>\n",
              "        <td>2</td>\n",
              "    </tr>\n",
              "</table>"
            ],
            "text/plain": [
              "[(4, 'Robin', 'Choen', 'Male', 'Robin@gmail.com', '0528542523', 7000, 'Tel-Aviv', 20120224, 2),\n",
              " (5, 'Shlomi', 'Hai', 'Male', 'Shlomi@gmail.com', '0528456122', 10000, 'Tel-Aviv', 20081019, 3),\n",
              " (6, 'David', 'Kepler', 'Male', 'David@gmail.com', '0558847365', 11000, 'Tel-Aviv', 20160515, 1),\n",
              " (7, 'Dana', 'Tova', 'Female', 'Dana@gmail.com', '0556789322', 4000, 'Tel-Aviv', 20160202, 2)]"
            ]
          },
          "execution_count": 36,
          "metadata": {},
          "output_type": "execute_result"
        }
      ],
      "source": []
    },
    {
      "cell_type": "markdown",
      "metadata": {
        "id": "3u2LTYDdwNHe"
      },
      "source": [
        "#### Выберите 5 строк со столбцами имени, зарплаты и города в порядке зарплаты (от максимальной зарплаты до минимальной зарплаты)"
      ]
    },
    {
      "cell_type": "code",
      "execution_count": null,
      "metadata": {
        "id": "UChaW-PlwNHe",
        "outputId": "4d7a9f5c-e402-44e9-dc06-a5edfb06cfcf"
      },
      "outputs": [
        {
          "name": "stdout",
          "output_type": "stream",
          "text": [
            " * sqlite:///The_SQL_Server_Trail_Database.db\n",
            "Done.\n"
          ]
        },
        {
          "data": {
            "text/html": [
              "<table>\n",
              "    <tr>\n",
              "        <th>firstName</th>\n",
              "        <th>salary</th>\n",
              "        <th>city</th>\n",
              "    </tr>\n",
              "    <tr>\n",
              "        <td>Tomer</td>\n",
              "        <td>11000</td>\n",
              "        <td>Jerusalem</td>\n",
              "    </tr>\n",
              "    <tr>\n",
              "        <td>David</td>\n",
              "        <td>11000</td>\n",
              "        <td>Tel-Aviv</td>\n",
              "    </tr>\n",
              "    <tr>\n",
              "        <td>Ester</td>\n",
              "        <td>10000</td>\n",
              "        <td>Jerusalem</td>\n",
              "    </tr>\n",
              "    <tr>\n",
              "        <td>Shlomi</td>\n",
              "        <td>10000</td>\n",
              "        <td>Tel-Aviv</td>\n",
              "    </tr>\n",
              "    <tr>\n",
              "        <td>Idan</td>\n",
              "        <td>10000</td>\n",
              "        <td>Haifa</td>\n",
              "    </tr>\n",
              "</table>"
            ],
            "text/plain": [
              "[('Tomer', 11000, 'Jerusalem'),\n",
              " ('David', 11000, 'Tel-Aviv'),\n",
              " ('Ester', 10000, 'Jerusalem'),\n",
              " ('Shlomi', 10000, 'Tel-Aviv'),\n",
              " ('Idan', 10000, 'Haifa')]"
            ]
          },
          "execution_count": 37,
          "metadata": {},
          "output_type": "execute_result"
        }
      ],
      "source": []
    },
    {
      "cell_type": "markdown",
      "metadata": {
        "id": "7jcw_umRwNHe"
      },
      "source": [
        "###  Группировка по вопросам - используйте таблицу tblemployee\n"
      ]
    },
    {
      "cell_type": "markdown",
      "metadata": {
        "id": "DLcax9mOwNHe"
      },
      "source": [
        "#### Показать среднюю зарплату по полу"
      ]
    },
    {
      "cell_type": "code",
      "execution_count": null,
      "metadata": {
        "id": "Uc9HaP4swNHf",
        "outputId": "0b59b4d0-b15c-445d-ae0b-6f281dd9dbf7"
      },
      "outputs": [
        {
          "name": "stdout",
          "output_type": "stream",
          "text": [
            "   sqlite:///The_SQL_Server_Trail_Database.db\n",
            " * sqlite:///The_SQL_Server_Trail_Database2.db\n",
            "   sqlite:///The_SQL_Server_Trail_Database3.db\n",
            "(sqlite3.OperationalError) no such table: tblemployee\n",
            "[SQL: SELECT gender, AVG(salary) AS ['Средняя зарплата'] FROM tblemployee\n",
            "GROUP BY gender]\n",
            "(Background on this error at: http://sqlalche.me/e/13/e3q8)\n"
          ]
        }
      ],
      "source": []
    },
    {
      "cell_type": "code",
      "execution_count": null,
      "metadata": {
        "id": "1EXHgEnrwNHf",
        "outputId": "a0e34e8f-90b3-4e4f-fa88-b79b29c9da06"
      },
      "outputs": [
        {
          "name": "stdout",
          "output_type": "stream",
          "text": [
            " * sqlite:///The_SQL_Server_Trail_Database.db\n",
            "Done.\n"
          ]
        },
        {
          "data": {
            "text/html": [
              "<table>\n",
              "    <tr>\n",
              "        <th>Пол</th>\n",
              "        <th>Средняя зарплата</th>\n",
              "    </tr>\n",
              "    <tr>\n",
              "        <td>Female</td>\n",
              "        <td>5000.0</td>\n",
              "    </tr>\n",
              "    <tr>\n",
              "        <td>Male</td>\n",
              "        <td>9800.0</td>\n",
              "    </tr>\n",
              "</table>"
            ],
            "text/plain": [
              "[('Female', 5000.0), ('Male', 9800.0)]"
            ]
          },
          "execution_count": 41,
          "metadata": {},
          "output_type": "execute_result"
        }
      ],
      "source": []
    },
    {
      "cell_type": "code",
      "execution_count": null,
      "metadata": {
        "id": "EXvK5udRwNHf",
        "outputId": "a54252e0-cc5c-4ad1-e853-4bb3c33bc8fa"
      },
      "outputs": [
        {
          "name": "stdout",
          "output_type": "stream",
          "text": [
            " * sqlite:///The_SQL_Server_Trail_Database.db\n",
            "Done.\n"
          ]
        },
        {
          "data": {
            "text/html": [
              "<table>\n",
              "    <tr>\n",
              "        <th>gender</th>\n",
              "        <th>AVG(salary)</th>\n",
              "    </tr>\n",
              "    <tr>\n",
              "        <td>Female</td>\n",
              "        <td>5000.0</td>\n",
              "    </tr>\n",
              "    <tr>\n",
              "        <td>Male</td>\n",
              "        <td>9800.0</td>\n",
              "    </tr>\n",
              "</table>"
            ],
            "text/plain": [
              "[('Female', 5000.0), ('Male', 9800.0)]"
            ]
          },
          "execution_count": 44,
          "metadata": {},
          "output_type": "execute_result"
        }
      ],
      "source": []
    },
    {
      "cell_type": "markdown",
      "metadata": {
        "id": "_axVH6JCwNHg"
      },
      "source": [
        "#### Ппоказать среднюю зарплату по городам в порядке средней зарплаты от макс до мин\n"
      ]
    },
    {
      "cell_type": "code",
      "execution_count": null,
      "metadata": {
        "id": "gLjoRC39wNHi",
        "outputId": "ba6e72f3-d1d9-4c31-82ce-8f2c47b35641"
      },
      "outputs": [
        {
          "name": "stdout",
          "output_type": "stream",
          "text": [
            " * sqlite:///The_SQL_Server_Trail_Database.db\n",
            "Done.\n"
          ]
        },
        {
          "data": {
            "text/html": [
              "<table>\n",
              "    <tr>\n",
              "        <th>Города</th>\n",
              "        <th>Средняя зарплата</th>\n",
              "    </tr>\n",
              "    <tr>\n",
              "        <td>Jerusalem</td>\n",
              "        <td>9666.67</td>\n",
              "    </tr>\n",
              "    <tr>\n",
              "        <td>Tel-Aviv</td>\n",
              "        <td>8000.0</td>\n",
              "    </tr>\n",
              "    <tr>\n",
              "        <td>Haifa</td>\n",
              "        <td>4333.33</td>\n",
              "    </tr>\n",
              "</table>"
            ],
            "text/plain": [
              "[('Jerusalem', 9666.67), ('Tel-Aviv', 8000.0), ('Haifa', 4333.33)]"
            ]
          },
          "execution_count": 47,
          "metadata": {},
          "output_type": "execute_result"
        }
      ],
      "source": []
    },
    {
      "cell_type": "markdown",
      "metadata": {
        "id": "QcP2bC2MwNHi"
      },
      "source": [
        "#### Показать максимальную и минимальную зарплату по полу"
      ]
    },
    {
      "cell_type": "code",
      "execution_count": null,
      "metadata": {
        "id": "wHcIo-n6wNHi",
        "outputId": "471d546b-76b0-491a-ca19-b81db3f69652"
      },
      "outputs": [
        {
          "name": "stdout",
          "output_type": "stream",
          "text": [
            " * sqlite:///The_SQL_Server_Trail_Database.db\n",
            "Done.\n"
          ]
        },
        {
          "data": {
            "text/html": [
              "<table>\n",
              "    <tr>\n",
              "        <th>gender</th>\n",
              "        <th>Максимальная зарплата</th>\n",
              "        <th>min(salary)</th>\n",
              "    </tr>\n",
              "    <tr>\n",
              "        <td>Female</td>\n",
              "        <td>10000</td>\n",
              "        <td>1000</td>\n",
              "    </tr>\n",
              "    <tr>\n",
              "        <td>Male</td>\n",
              "        <td>11000</td>\n",
              "        <td>7000</td>\n",
              "    </tr>\n",
              "</table>"
            ],
            "text/plain": [
              "[('Female', 10000, 1000), ('Male', 11000, 7000)]"
            ]
          },
          "execution_count": 50,
          "metadata": {},
          "output_type": "execute_result"
        }
      ],
      "source": []
    },
    {
      "cell_type": "markdown",
      "metadata": {
        "id": "EWcZDfbFwNHj"
      },
      "source": [
        "#### Показать максимальную и минимальную зарплату по полу и городу"
      ]
    },
    {
      "cell_type": "code",
      "execution_count": null,
      "metadata": {
        "id": "cmwb95U7wNHj",
        "outputId": "eac65297-1c38-48c5-a622-d3bb3b7621ab"
      },
      "outputs": [
        {
          "name": "stdout",
          "output_type": "stream",
          "text": [
            " * sqlite:///The_SQL_Server_Trail_Database.db\n",
            "Done.\n"
          ]
        },
        {
          "data": {
            "text/html": [
              "<table>\n",
              "    <tr>\n",
              "        <th>city</th>\n",
              "        <th>gender</th>\n",
              "        <th>Маким</th>\n",
              "        <th>Min Salary</th>\n",
              "    </tr>\n",
              "    <tr>\n",
              "        <td>Haifa</td>\n",
              "        <td>Female</td>\n",
              "        <td>2000</td>\n",
              "        <td>1000</td>\n",
              "    </tr>\n",
              "    <tr>\n",
              "        <td>Jerusalem</td>\n",
              "        <td>Female</td>\n",
              "        <td>10000</td>\n",
              "        <td>8000</td>\n",
              "    </tr>\n",
              "    <tr>\n",
              "        <td>Tel-Aviv</td>\n",
              "        <td>Female</td>\n",
              "        <td>4000</td>\n",
              "        <td>4000</td>\n",
              "    </tr>\n",
              "    <tr>\n",
              "        <td>Haifa</td>\n",
              "        <td>Male</td>\n",
              "        <td>10000</td>\n",
              "        <td>10000</td>\n",
              "    </tr>\n",
              "    <tr>\n",
              "        <td>Jerusalem</td>\n",
              "        <td>Male</td>\n",
              "        <td>11000</td>\n",
              "        <td>11000</td>\n",
              "    </tr>\n",
              "    <tr>\n",
              "        <td>Tel-Aviv</td>\n",
              "        <td>Male</td>\n",
              "        <td>11000</td>\n",
              "        <td>7000</td>\n",
              "    </tr>\n",
              "</table>"
            ],
            "text/plain": [
              "[('Haifa', 'Female', 2000, 1000),\n",
              " ('Jerusalem', 'Female', 10000, 8000),\n",
              " ('Tel-Aviv', 'Female', 4000, 4000),\n",
              " ('Haifa', 'Male', 10000, 10000),\n",
              " ('Jerusalem', 'Male', 11000, 11000),\n",
              " ('Tel-Aviv', 'Male', 11000, 7000)]"
            ]
          },
          "execution_count": 52,
          "metadata": {},
          "output_type": "execute_result"
        }
      ],
      "source": []
    },
    {
      "cell_type": "markdown",
      "metadata": {
        "id": "KueB0d0AwNHj"
      },
      "source": [
        "####  Показать сумарная зарплата по полу и городу"
      ]
    },
    {
      "cell_type": "code",
      "execution_count": null,
      "metadata": {
        "id": "XjzBLzxVwNHj",
        "outputId": "ed048201-22cb-4105-80d5-19f8201b1c1a"
      },
      "outputs": [
        {
          "name": "stdout",
          "output_type": "stream",
          "text": [
            " * sqlite:///The_SQL_Server_Trail_Database.db\n",
            "Done.\n"
          ]
        },
        {
          "data": {
            "text/html": [
              "<table>\n",
              "    <tr>\n",
              "        <th>city</th>\n",
              "        <th>gender</th>\n",
              "        <th>Total Salary</th>\n",
              "    </tr>\n",
              "    <tr>\n",
              "        <td>Haifa</td>\n",
              "        <td>Female</td>\n",
              "        <td>3000</td>\n",
              "    </tr>\n",
              "    <tr>\n",
              "        <td>Jerusalem</td>\n",
              "        <td>Female</td>\n",
              "        <td>18000</td>\n",
              "    </tr>\n",
              "    <tr>\n",
              "        <td>Tel-Aviv</td>\n",
              "        <td>Female</td>\n",
              "        <td>4000</td>\n",
              "    </tr>\n",
              "    <tr>\n",
              "        <td>Haifa</td>\n",
              "        <td>Male</td>\n",
              "        <td>10000</td>\n",
              "    </tr>\n",
              "    <tr>\n",
              "        <td>Jerusalem</td>\n",
              "        <td>Male</td>\n",
              "        <td>11000</td>\n",
              "    </tr>\n",
              "    <tr>\n",
              "        <td>Tel-Aviv</td>\n",
              "        <td>Male</td>\n",
              "        <td>28000</td>\n",
              "    </tr>\n",
              "</table>"
            ],
            "text/plain": [
              "[('Haifa', 'Female', 3000),\n",
              " ('Jerusalem', 'Female', 18000),\n",
              " ('Tel-Aviv', 'Female', 4000),\n",
              " ('Haifa', 'Male', 10000),\n",
              " ('Jerusalem', 'Male', 11000),\n",
              " ('Tel-Aviv', 'Male', 28000)]"
            ]
          },
          "execution_count": 57,
          "metadata": {},
          "output_type": "execute_result"
        }
      ],
      "source": []
    },
    {
      "cell_type": "markdown",
      "metadata": {
        "id": "KIROcawrwNHj"
      },
      "source": [
        "#### Подсчитайте общее количество сотрудников-женщин"
      ]
    },
    {
      "cell_type": "code",
      "execution_count": null,
      "metadata": {
        "id": "wPpswYOdwNHk",
        "outputId": "052db601-c2ce-4f77-a7da-ba8e834f740a"
      },
      "outputs": [
        {
          "name": "stdout",
          "output_type": "stream",
          "text": [
            " * sqlite:///The_SQL_Server_Trail_Database.db\n",
            "Done.\n"
          ]
        },
        {
          "data": {
            "text/html": [
              "<table>\n",
              "    <tr>\n",
              "        <th>gender</th>\n",
              "        <th>сотрудники</th>\n",
              "    </tr>\n",
              "    <tr>\n",
              "        <td>Female</td>\n",
              "        <td>5</td>\n",
              "    </tr>\n",
              "</table>"
            ],
            "text/plain": [
              "[('Female', 5)]"
            ]
          },
          "execution_count": 58,
          "metadata": {},
          "output_type": "execute_result"
        }
      ],
      "source": []
    },
    {
      "cell_type": "code",
      "execution_count": null,
      "metadata": {
        "id": "qe1ASMOxwNHk",
        "outputId": "f3b381df-3637-4426-ee9f-b825c59d3a81"
      },
      "outputs": [
        {
          "name": "stdout",
          "output_type": "stream",
          "text": [
            " * sqlite:///The_SQL_Server_Trail_Database.db\n",
            "Done.\n"
          ]
        },
        {
          "data": {
            "text/html": [
              "<table>\n",
              "    <tr>\n",
              "        <th>gender</th>\n",
              "        <th>EmployeeCount</th>\n",
              "    </tr>\n",
              "    <tr>\n",
              "        <td>Female</td>\n",
              "        <td>5</td>\n",
              "    </tr>\n",
              "</table>"
            ],
            "text/plain": [
              "[('Female', 5)]"
            ]
          },
          "execution_count": 59,
          "metadata": {},
          "output_type": "execute_result"
        }
      ],
      "source": [
        "\n"
      ]
    },
    {
      "cell_type": "markdown",
      "metadata": {
        "id": "Qk_obrcJwNHk"
      },
      "source": [
        "####  Подсчитайте общее количество сотрудников в Тель-Авиве"
      ]
    },
    {
      "cell_type": "code",
      "execution_count": null,
      "metadata": {
        "id": "jdzXS-iRwNHk",
        "outputId": "9e405cf2-fc77-4a3a-8d2f-b2996225ea7d"
      },
      "outputs": [
        {
          "name": "stdout",
          "output_type": "stream",
          "text": [
            " * sqlite:///The_SQL_Server_Trail_Database.db\n",
            "Done.\n"
          ]
        },
        {
          "data": {
            "text/html": [
              "<table>\n",
              "    <tr>\n",
              "        <th>city</th>\n",
              "        <th>EmployeeCount</th>\n",
              "    </tr>\n",
              "    <tr>\n",
              "        <td>Tel-Aviv</td>\n",
              "        <td>4</td>\n",
              "    </tr>\n",
              "</table>"
            ],
            "text/plain": [
              "[('Tel-Aviv', 4)]"
            ]
          },
          "execution_count": 60,
          "metadata": {},
          "output_type": "execute_result"
        }
      ],
      "source": []
    },
    {
      "cell_type": "code",
      "execution_count": null,
      "metadata": {
        "id": "gP77uIjqwNHl",
        "outputId": "6ddf3583-4443-4175-cdf9-3408707c240b"
      },
      "outputs": [
        {
          "name": "stdout",
          "output_type": "stream",
          "text": [
            " * sqlite:///The_SQL_Server_Trail_Database.db\n",
            "Done.\n"
          ]
        },
        {
          "data": {
            "text/html": [
              "<table>\n",
              "    <tr>\n",
              "        <th>city</th>\n",
              "        <th>сотрудники</th>\n",
              "    </tr>\n",
              "    <tr>\n",
              "        <td>Tel-Aviv</td>\n",
              "        <td>4</td>\n",
              "    </tr>\n",
              "</table>"
            ],
            "text/plain": [
              "[('Tel-Aviv', 4)]"
            ]
          },
          "execution_count": 61,
          "metadata": {},
          "output_type": "execute_result"
        }
      ],
      "source": []
    },
    {
      "cell_type": "markdown",
      "metadata": {
        "id": "kQkAk9zpwNHl"
      },
      "source": [
        "#### Показать сумарную зарплату по городам только для городов с общей зарплатой выше 20000 и отсортировать их от макс до мин."
      ]
    },
    {
      "cell_type": "code",
      "execution_count": null,
      "metadata": {
        "id": "8bZ2x8pvwNHl",
        "outputId": "4cc7ac70-7fc9-45e4-8bac-8a5d8efe4f81"
      },
      "outputs": [
        {
          "name": "stdout",
          "output_type": "stream",
          "text": [
            " * sqlite:///The_SQL_Server_Trail_Database.db\n",
            "Done.\n"
          ]
        },
        {
          "data": {
            "text/html": [
              "<table>\n",
              "    <tr>\n",
              "        <th>city</th>\n",
              "        <th>Total Salary</th>\n",
              "    </tr>\n",
              "    <tr>\n",
              "        <td>Tel-Aviv</td>\n",
              "        <td>32000</td>\n",
              "    </tr>\n",
              "    <tr>\n",
              "        <td>Jerusalem</td>\n",
              "        <td>29000</td>\n",
              "    </tr>\n",
              "</table>"
            ],
            "text/plain": [
              "[('Tel-Aviv', 32000), ('Jerusalem', 29000)]"
            ]
          },
          "execution_count": 62,
          "metadata": {},
          "output_type": "execute_result"
        }
      ],
      "source": []
    },
    {
      "cell_type": "markdown",
      "metadata": {
        "id": "l-UXgOZ2wNHl"
      },
      "source": [
        "#### Показать сумарную зарплату только для мужчин, проживающих в Иерусалиме и Тель-Авиве."
      ]
    },
    {
      "cell_type": "code",
      "execution_count": null,
      "metadata": {
        "id": "JQXFvx37wNHl",
        "outputId": "f6f915d5-a6ca-4126-a887-2b04127d8b6a"
      },
      "outputs": [
        {
          "name": "stdout",
          "output_type": "stream",
          "text": [
            " * sqlite:///The_SQL_Server_Trail_Database.db\n",
            "Done.\n"
          ]
        },
        {
          "data": {
            "text/html": [
              "<table>\n",
              "    <tr>\n",
              "        <th>gender</th>\n",
              "        <th>city</th>\n",
              "        <th>Общая зп</th>\n",
              "    </tr>\n",
              "    <tr>\n",
              "        <td>Male</td>\n",
              "        <td>Jerusalem</td>\n",
              "        <td>11000</td>\n",
              "    </tr>\n",
              "    <tr>\n",
              "        <td>Male</td>\n",
              "        <td>Tel-Aviv</td>\n",
              "        <td>28000</td>\n",
              "    </tr>\n",
              "</table>"
            ],
            "text/plain": [
              "[('Male', 'Jerusalem', 11000), ('Male', 'Tel-Aviv', 28000)]"
            ]
          },
          "execution_count": 63,
          "metadata": {},
          "output_type": "execute_result"
        }
      ],
      "source": []
    },
    {
      "cell_type": "markdown",
      "metadata": {
        "id": "eEzmknnCwNHm"
      },
      "source": [
        "## Join"
      ]
    },
    {
      "cell_type": "code",
      "execution_count": null,
      "metadata": {
        "id": "RcKrvDX8wNHm",
        "outputId": "b11d6ebd-11b6-4926-8186-201f236f07a6"
      },
      "outputs": [
        {
          "name": "stdout",
          "output_type": "stream",
          "text": [
            " * sqlite:///SQL_Server_Trail.db\n",
            "Done.\n",
            "4 rows affected.\n"
          ]
        },
        {
          "data": {
            "text/plain": [
              "[]"
            ]
          },
          "execution_count": 15,
          "metadata": {},
          "output_type": "execute_result"
        }
      ],
      "source": [
        "%%sql\n",
        "CREATE TABLE tblCategory\n",
        "(\n",
        "CategoryID INT PRIMARY KEY NOT NULL,\n",
        "CategoryName NVARCHAR (25)\n",
        ") ;\n",
        "\n",
        "INSERT INTO tblCategory VALUES\n",
        "(1, 'Kitchen'),\n",
        "(2, 'Living Room'),\n",
        "(3, 'Bedroom'),\n",
        "(4, 'Electrical appliance');"
      ]
    },
    {
      "cell_type": "code",
      "execution_count": null,
      "metadata": {
        "id": "mBrZUNNGwNHm",
        "outputId": "ab78b5f4-5c49-403c-c5b0-92e671501c36"
      },
      "outputs": [
        {
          "name": "stdout",
          "output_type": "stream",
          "text": [
            " * sqlite:///SQL_Server_Trail.db\n",
            "Done.\n"
          ]
        },
        {
          "data": {
            "text/plain": [
              "[]"
            ]
          },
          "execution_count": 16,
          "metadata": {},
          "output_type": "execute_result"
        }
      ],
      "source": [
        "%%sql\n",
        "CREATE TABLE tblSubCategory\n",
        "(\n",
        "SubCategoryID INT,\n",
        "SubCategoryName VARCHAR (30) NOT NULL,\n",
        "CategoryID INT NOT NULL,\n",
        "FOREIGN KEY (CategoryID) REFERENCES tblCategory (CategoryID),\n",
        "PRIMARY KEY (SubCategoryID)\n",
        ") ;\n"
      ]
    },
    {
      "cell_type": "code",
      "execution_count": null,
      "metadata": {
        "id": "2UXAogWmwNHn",
        "outputId": "61c49833-f1ca-487d-e435-2ba2d31f018f"
      },
      "outputs": [
        {
          "name": "stdout",
          "output_type": "stream",
          "text": [
            " * sqlite:///SQL_Server_Trail.db\n",
            "12 rows affected.\n"
          ]
        },
        {
          "data": {
            "text/plain": [
              "[]"
            ]
          },
          "execution_count": 17,
          "metadata": {},
          "output_type": "execute_result"
        }
      ],
      "source": [
        "%%sql\n",
        "INSERT INTO tblSubCategory VALUES\n",
        "(1,'Sink',1),\n",
        "(2,'Tap',1),\n",
        "(3,'Capboard',1),\n",
        "(4,'Couch',2),\n",
        "(5,'Dining table',2),\n",
        "(6,'Easy Chair',2),\n",
        "(7,'Bed',3),\n",
        "(8,'Desk',3),\n",
        "(9,'Mirror',3),\n",
        "(10, 'Television',4),\n",
        "(11, 'Washing Machine',4),\n",
        "(12,'Electric Heater',4) ;"
      ]
    },
    {
      "cell_type": "code",
      "execution_count": null,
      "metadata": {
        "id": "j9DK_QBZwNHn",
        "outputId": "6731a1a3-d055-494d-a879-91bddffb49b6"
      },
      "outputs": [
        {
          "name": "stdout",
          "output_type": "stream",
          "text": [
            " * sqlite:///SQL_Server_Trail.db\n",
            "Done.\n"
          ]
        },
        {
          "data": {
            "text/plain": [
              "[]"
            ]
          },
          "execution_count": 18,
          "metadata": {},
          "output_type": "execute_result"
        }
      ],
      "source": [
        "%%sql\n",
        "CREATE TABLE tblProducts\n",
        "(\n",
        "ProductID INTNOT NULL,\n",
        "ProductName VARCHAR (45),\n",
        "ProductPrice INT,\n",
        "SubCategoryID INT,\n",
        "FOREIGN KEY (SubCategoryID) REFERENCES tblSubCategory (SubCategoryID),\n",
        "PRIMARY KEY(ProductID)\n",
        ");"
      ]
    },
    {
      "cell_type": "code",
      "execution_count": null,
      "metadata": {
        "id": "WHFQpeRQwNHn",
        "outputId": "305f63b1-1958-44e7-a1fa-6dced46ad40f"
      },
      "outputs": [
        {
          "name": "stdout",
          "output_type": "stream",
          "text": [
            " * sqlite:///SQL_Server_Trail.db\n",
            "40 rows affected.\n"
          ]
        },
        {
          "data": {
            "text/plain": [
              "[]"
            ]
          },
          "execution_count": 19,
          "metadata": {},
          "output_type": "execute_result"
        }
      ],
      "source": [
        "%%sql\n",
        "INSERT INTO tblProducts VALUES\n",
        "(1,'Big Sink',5000,1),\n",
        "(2,'Small Sink',3500,1),\n",
        "(3,'Nirosta Sink',7500,1),\n",
        "(4,'Big Tap',2000,2),\n",
        "(5,'Small Tap',1000,2),\n",
        "(6,'Standard Tap',500,2),\n",
        "(7,'Big Capboard',4000,3),\n",
        "(8,'Small Capboard',2500,3),\n",
        "(9,'IKEA Capboard',2000,3),\n",
        "(10,'Big Couch',4552,4),\n",
        "(11,'Small Couch',2500,4),\n",
        "(12,'Leather Couch',1500,4),\n",
        "(13,'Round Table',8000,5),\n",
        "(14, 'Rectangle Table',5000,5),\n",
        "(15,'IKEA Table',3500,5),\n",
        "(16,'American comfort',9000,6),\n",
        "(17,'IKEA Single Chair',3500,6),\n",
        "(18, 'Beytily Chair',4000,6),\n",
        "(19,'King size bed',9500,7),\n",
        "(20,'Queen size bed',11000,7),\n",
        "(21, 'Single size bed',6000,7),\n",
        "(22,'IKEA Desk',1500,8),\n",
        "(23, 'Whole wood Desk',4500,8),\n",
        "(24, 'Plywood Desk',1000,8),\n",
        "(25,'Big Mirror',1500,9),\n",
        "(26,'Small Mirror',500,9),\n",
        "(27,'Personal Mirror',2500,9),\n",
        "(28,'56 inch Samsung',5500,10),\n",
        "(29,'32 inch HP',3500,10),\n",
        "(30,'21 inch DELL',2700,10),\n",
        "(31,'Bosh Machine',7000,11),\n",
        "(32,'Samsung Machine',5000,11),\n",
        "(33,'Makita Machine',4500,11),\n",
        "(34,'Big Heater',500,12),\n",
        "(35,'Small Heater',350,12),\n",
        "(36,'Rocket Heater',200,12),\n",
        "(37,'Coffee',5,null),\n",
        "(38,'brown suger',0.5,null),\n",
        "(39,'Tea',3,null),\n",
        "(40, 'biscuit',6,null);"
      ]
    },
    {
      "cell_type": "code",
      "execution_count": null,
      "metadata": {
        "id": "7ubkCx91wNHn",
        "outputId": "a27e71be-447b-4884-9452-012fbd482c1a"
      },
      "outputs": [
        {
          "name": "stdout",
          "output_type": "stream",
          "text": [
            " * sqlite:///SQL_Server_Trail.db\n",
            "Done.\n"
          ]
        },
        {
          "data": {
            "text/html": [
              "<table>\n",
              "    <tr>\n",
              "        <th>ProductID</th>\n",
              "        <th>ProductName</th>\n",
              "        <th>ProductPrice</th>\n",
              "        <th>SubCategoryID</th>\n",
              "    </tr>\n",
              "    <tr>\n",
              "        <td>1</td>\n",
              "        <td>Big Sink</td>\n",
              "        <td>5000</td>\n",
              "        <td>1</td>\n",
              "    </tr>\n",
              "    <tr>\n",
              "        <td>2</td>\n",
              "        <td>Small Sink</td>\n",
              "        <td>3500</td>\n",
              "        <td>1</td>\n",
              "    </tr>\n",
              "    <tr>\n",
              "        <td>3</td>\n",
              "        <td>Nirosta Sink</td>\n",
              "        <td>7500</td>\n",
              "        <td>1</td>\n",
              "    </tr>\n",
              "    <tr>\n",
              "        <td>4</td>\n",
              "        <td>Big Tap</td>\n",
              "        <td>2000</td>\n",
              "        <td>2</td>\n",
              "    </tr>\n",
              "    <tr>\n",
              "        <td>5</td>\n",
              "        <td>Small Tap</td>\n",
              "        <td>1000</td>\n",
              "        <td>2</td>\n",
              "    </tr>\n",
              "    <tr>\n",
              "        <td>6</td>\n",
              "        <td>Standard Tap</td>\n",
              "        <td>500</td>\n",
              "        <td>2</td>\n",
              "    </tr>\n",
              "    <tr>\n",
              "        <td>7</td>\n",
              "        <td>Big Capboard</td>\n",
              "        <td>4000</td>\n",
              "        <td>3</td>\n",
              "    </tr>\n",
              "    <tr>\n",
              "        <td>8</td>\n",
              "        <td>Small Capboard</td>\n",
              "        <td>2500</td>\n",
              "        <td>3</td>\n",
              "    </tr>\n",
              "    <tr>\n",
              "        <td>9</td>\n",
              "        <td>IKEA Capboard</td>\n",
              "        <td>2000</td>\n",
              "        <td>3</td>\n",
              "    </tr>\n",
              "    <tr>\n",
              "        <td>10</td>\n",
              "        <td>Big Couch</td>\n",
              "        <td>4552</td>\n",
              "        <td>4</td>\n",
              "    </tr>\n",
              "    <tr>\n",
              "        <td>11</td>\n",
              "        <td>Small Couch</td>\n",
              "        <td>2500</td>\n",
              "        <td>4</td>\n",
              "    </tr>\n",
              "    <tr>\n",
              "        <td>12</td>\n",
              "        <td>Leather Couch</td>\n",
              "        <td>1500</td>\n",
              "        <td>4</td>\n",
              "    </tr>\n",
              "    <tr>\n",
              "        <td>13</td>\n",
              "        <td>Round Table</td>\n",
              "        <td>8000</td>\n",
              "        <td>5</td>\n",
              "    </tr>\n",
              "    <tr>\n",
              "        <td>14</td>\n",
              "        <td>Rectangle Table</td>\n",
              "        <td>5000</td>\n",
              "        <td>5</td>\n",
              "    </tr>\n",
              "    <tr>\n",
              "        <td>15</td>\n",
              "        <td>IKEA Table</td>\n",
              "        <td>3500</td>\n",
              "        <td>5</td>\n",
              "    </tr>\n",
              "    <tr>\n",
              "        <td>16</td>\n",
              "        <td>American comfort</td>\n",
              "        <td>9000</td>\n",
              "        <td>6</td>\n",
              "    </tr>\n",
              "    <tr>\n",
              "        <td>17</td>\n",
              "        <td>IKEA Single Chair</td>\n",
              "        <td>3500</td>\n",
              "        <td>6</td>\n",
              "    </tr>\n",
              "    <tr>\n",
              "        <td>18</td>\n",
              "        <td>Beytily Chair</td>\n",
              "        <td>4000</td>\n",
              "        <td>6</td>\n",
              "    </tr>\n",
              "    <tr>\n",
              "        <td>19</td>\n",
              "        <td>King size bed</td>\n",
              "        <td>9500</td>\n",
              "        <td>7</td>\n",
              "    </tr>\n",
              "    <tr>\n",
              "        <td>20</td>\n",
              "        <td>Queen size bed</td>\n",
              "        <td>11000</td>\n",
              "        <td>7</td>\n",
              "    </tr>\n",
              "    <tr>\n",
              "        <td>21</td>\n",
              "        <td>Single size bed</td>\n",
              "        <td>6000</td>\n",
              "        <td>7</td>\n",
              "    </tr>\n",
              "    <tr>\n",
              "        <td>22</td>\n",
              "        <td>IKEA Desk</td>\n",
              "        <td>1500</td>\n",
              "        <td>8</td>\n",
              "    </tr>\n",
              "    <tr>\n",
              "        <td>23</td>\n",
              "        <td>Whole wood Desk</td>\n",
              "        <td>4500</td>\n",
              "        <td>8</td>\n",
              "    </tr>\n",
              "    <tr>\n",
              "        <td>24</td>\n",
              "        <td>Plywood Desk</td>\n",
              "        <td>1000</td>\n",
              "        <td>8</td>\n",
              "    </tr>\n",
              "    <tr>\n",
              "        <td>25</td>\n",
              "        <td>Big Mirror</td>\n",
              "        <td>1500</td>\n",
              "        <td>9</td>\n",
              "    </tr>\n",
              "    <tr>\n",
              "        <td>26</td>\n",
              "        <td>Small Mirror</td>\n",
              "        <td>500</td>\n",
              "        <td>9</td>\n",
              "    </tr>\n",
              "    <tr>\n",
              "        <td>27</td>\n",
              "        <td>Personal Mirror</td>\n",
              "        <td>2500</td>\n",
              "        <td>9</td>\n",
              "    </tr>\n",
              "    <tr>\n",
              "        <td>28</td>\n",
              "        <td>56 inch Samsung</td>\n",
              "        <td>5500</td>\n",
              "        <td>10</td>\n",
              "    </tr>\n",
              "    <tr>\n",
              "        <td>29</td>\n",
              "        <td>32 inch HP</td>\n",
              "        <td>3500</td>\n",
              "        <td>10</td>\n",
              "    </tr>\n",
              "    <tr>\n",
              "        <td>30</td>\n",
              "        <td>21 inch DELL</td>\n",
              "        <td>2700</td>\n",
              "        <td>10</td>\n",
              "    </tr>\n",
              "    <tr>\n",
              "        <td>31</td>\n",
              "        <td>Bosh Machine</td>\n",
              "        <td>7000</td>\n",
              "        <td>11</td>\n",
              "    </tr>\n",
              "    <tr>\n",
              "        <td>32</td>\n",
              "        <td>Samsung Machine</td>\n",
              "        <td>5000</td>\n",
              "        <td>11</td>\n",
              "    </tr>\n",
              "    <tr>\n",
              "        <td>33</td>\n",
              "        <td>Makita Machine</td>\n",
              "        <td>4500</td>\n",
              "        <td>11</td>\n",
              "    </tr>\n",
              "    <tr>\n",
              "        <td>34</td>\n",
              "        <td>Big Heater</td>\n",
              "        <td>500</td>\n",
              "        <td>12</td>\n",
              "    </tr>\n",
              "    <tr>\n",
              "        <td>35</td>\n",
              "        <td>Small Heater</td>\n",
              "        <td>350</td>\n",
              "        <td>12</td>\n",
              "    </tr>\n",
              "    <tr>\n",
              "        <td>36</td>\n",
              "        <td>Rocket Heater</td>\n",
              "        <td>200</td>\n",
              "        <td>12</td>\n",
              "    </tr>\n",
              "    <tr>\n",
              "        <td>37</td>\n",
              "        <td>Coffee</td>\n",
              "        <td>5</td>\n",
              "        <td>None</td>\n",
              "    </tr>\n",
              "    <tr>\n",
              "        <td>38</td>\n",
              "        <td>brown suger</td>\n",
              "        <td>0.5</td>\n",
              "        <td>None</td>\n",
              "    </tr>\n",
              "    <tr>\n",
              "        <td>39</td>\n",
              "        <td>Tea</td>\n",
              "        <td>3</td>\n",
              "        <td>None</td>\n",
              "    </tr>\n",
              "    <tr>\n",
              "        <td>40</td>\n",
              "        <td>biscuit</td>\n",
              "        <td>6</td>\n",
              "        <td>None</td>\n",
              "    </tr>\n",
              "</table>"
            ],
            "text/plain": [
              "[(1, 'Big Sink', 5000, 1),\n",
              " (2, 'Small Sink', 3500, 1),\n",
              " (3, 'Nirosta Sink', 7500, 1),\n",
              " (4, 'Big Tap', 2000, 2),\n",
              " (5, 'Small Tap', 1000, 2),\n",
              " (6, 'Standard Tap', 500, 2),\n",
              " (7, 'Big Capboard', 4000, 3),\n",
              " (8, 'Small Capboard', 2500, 3),\n",
              " (9, 'IKEA Capboard', 2000, 3),\n",
              " (10, 'Big Couch', 4552, 4),\n",
              " (11, 'Small Couch', 2500, 4),\n",
              " (12, 'Leather Couch', 1500, 4),\n",
              " (13, 'Round Table', 8000, 5),\n",
              " (14, 'Rectangle Table', 5000, 5),\n",
              " (15, 'IKEA Table', 3500, 5),\n",
              " (16, 'American comfort', 9000, 6),\n",
              " (17, 'IKEA Single Chair', 3500, 6),\n",
              " (18, 'Beytily Chair', 4000, 6),\n",
              " (19, 'King size bed', 9500, 7),\n",
              " (20, 'Queen size bed', 11000, 7),\n",
              " (21, 'Single size bed', 6000, 7),\n",
              " (22, 'IKEA Desk', 1500, 8),\n",
              " (23, 'Whole wood Desk', 4500, 8),\n",
              " (24, 'Plywood Desk', 1000, 8),\n",
              " (25, 'Big Mirror', 1500, 9),\n",
              " (26, 'Small Mirror', 500, 9),\n",
              " (27, 'Personal Mirror', 2500, 9),\n",
              " (28, '56 inch Samsung', 5500, 10),\n",
              " (29, '32 inch HP', 3500, 10),\n",
              " (30, '21 inch DELL', 2700, 10),\n",
              " (31, 'Bosh Machine', 7000, 11),\n",
              " (32, 'Samsung Machine', 5000, 11),\n",
              " (33, 'Makita Machine', 4500, 11),\n",
              " (34, 'Big Heater', 500, 12),\n",
              " (35, 'Small Heater', 350, 12),\n",
              " (36, 'Rocket Heater', 200, 12),\n",
              " (37, 'Coffee', 5, None),\n",
              " (38, 'brown suger', 0.5, None),\n",
              " (39, 'Tea', 3, None),\n",
              " (40, 'biscuit', 6, None)]"
            ]
          },
          "execution_count": 20,
          "metadata": {},
          "output_type": "execute_result"
        }
      ],
      "source": [
        "%%sql\n",
        "SELECT * FROM tblProducts\n"
      ]
    },
    {
      "cell_type": "code",
      "execution_count": null,
      "metadata": {
        "id": "T3m9C5AgwNHo",
        "outputId": "1818e426-2e96-4f03-ca7f-d480e6cf96c4"
      },
      "outputs": [
        {
          "name": "stdout",
          "output_type": "stream",
          "text": [
            " * sqlite:///SQL_Server_Trail.db\n",
            "Done.\n"
          ]
        },
        {
          "data": {
            "text/html": [
              "<table>\n",
              "    <tr>\n",
              "        <th>SubCategoryID</th>\n",
              "        <th>SubCategoryName</th>\n",
              "        <th>CategoryID</th>\n",
              "    </tr>\n",
              "    <tr>\n",
              "        <td>1</td>\n",
              "        <td>Sink</td>\n",
              "        <td>1</td>\n",
              "    </tr>\n",
              "    <tr>\n",
              "        <td>2</td>\n",
              "        <td>Tap</td>\n",
              "        <td>1</td>\n",
              "    </tr>\n",
              "    <tr>\n",
              "        <td>3</td>\n",
              "        <td>Capboard</td>\n",
              "        <td>1</td>\n",
              "    </tr>\n",
              "    <tr>\n",
              "        <td>4</td>\n",
              "        <td>Couch</td>\n",
              "        <td>2</td>\n",
              "    </tr>\n",
              "    <tr>\n",
              "        <td>5</td>\n",
              "        <td>Dining table</td>\n",
              "        <td>2</td>\n",
              "    </tr>\n",
              "    <tr>\n",
              "        <td>6</td>\n",
              "        <td>Easy Chair</td>\n",
              "        <td>2</td>\n",
              "    </tr>\n",
              "    <tr>\n",
              "        <td>7</td>\n",
              "        <td>Bed</td>\n",
              "        <td>3</td>\n",
              "    </tr>\n",
              "    <tr>\n",
              "        <td>8</td>\n",
              "        <td>Desk</td>\n",
              "        <td>3</td>\n",
              "    </tr>\n",
              "    <tr>\n",
              "        <td>9</td>\n",
              "        <td>Mirror</td>\n",
              "        <td>3</td>\n",
              "    </tr>\n",
              "    <tr>\n",
              "        <td>10</td>\n",
              "        <td>Television</td>\n",
              "        <td>4</td>\n",
              "    </tr>\n",
              "    <tr>\n",
              "        <td>11</td>\n",
              "        <td>Washing Machine</td>\n",
              "        <td>4</td>\n",
              "    </tr>\n",
              "    <tr>\n",
              "        <td>12</td>\n",
              "        <td>Electric Heater</td>\n",
              "        <td>4</td>\n",
              "    </tr>\n",
              "</table>"
            ],
            "text/plain": [
              "[(1, 'Sink', 1),\n",
              " (2, 'Tap', 1),\n",
              " (3, 'Capboard', 1),\n",
              " (4, 'Couch', 2),\n",
              " (5, 'Dining table', 2),\n",
              " (6, 'Easy Chair', 2),\n",
              " (7, 'Bed', 3),\n",
              " (8, 'Desk', 3),\n",
              " (9, 'Mirror', 3),\n",
              " (10, 'Television', 4),\n",
              " (11, 'Washing Machine', 4),\n",
              " (12, 'Electric Heater', 4)]"
            ]
          },
          "execution_count": 21,
          "metadata": {},
          "output_type": "execute_result"
        }
      ],
      "source": [
        "%%sql\n",
        "SELECT * FROM tblSubCategory\n"
      ]
    },
    {
      "cell_type": "code",
      "execution_count": null,
      "metadata": {
        "id": "_t3x-IOKwNHo",
        "outputId": "9005abab-0a7a-4e89-c192-1564eb2ebd25"
      },
      "outputs": [
        {
          "name": "stdout",
          "output_type": "stream",
          "text": [
            " * sqlite:///SQL_Server_Trail.db\n",
            "Done.\n"
          ]
        },
        {
          "data": {
            "text/html": [
              "<table>\n",
              "    <tr>\n",
              "        <th>CategoryID</th>\n",
              "        <th>CategoryName</th>\n",
              "    </tr>\n",
              "    <tr>\n",
              "        <td>1</td>\n",
              "        <td>Kitchen</td>\n",
              "    </tr>\n",
              "    <tr>\n",
              "        <td>2</td>\n",
              "        <td>Living Room</td>\n",
              "    </tr>\n",
              "    <tr>\n",
              "        <td>3</td>\n",
              "        <td>Bedroom</td>\n",
              "    </tr>\n",
              "    <tr>\n",
              "        <td>4</td>\n",
              "        <td>Electrical appliance</td>\n",
              "    </tr>\n",
              "</table>"
            ],
            "text/plain": [
              "[(1, 'Kitchen'),\n",
              " (2, 'Living Room'),\n",
              " (3, 'Bedroom'),\n",
              " (4, 'Electrical appliance')]"
            ]
          },
          "execution_count": 22,
          "metadata": {},
          "output_type": "execute_result"
        }
      ],
      "source": [
        "%%sql\n",
        "SELECT * FROM tblCategory"
      ]
    },
    {
      "cell_type": "markdown",
      "metadata": {
        "id": "zA34uHHMwNHo"
      },
      "source": [
        "#### Создайте внутреннее соединение между tblproducts и tblsubcategory. ( Из tblproducts показать productName и productPrice. Из tblsubcategory показать имя_подкатегории.)"
      ]
    },
    {
      "cell_type": "code",
      "execution_count": null,
      "metadata": {
        "id": "kuOYTGeywNHo",
        "outputId": "7b9512e2-2bcb-48ff-f372-a525b1883dda"
      },
      "outputs": [
        {
          "name": "stdout",
          "output_type": "stream",
          "text": [
            " * sqlite:///SQL_Server_Trail.db\n",
            "Done.\n"
          ]
        },
        {
          "data": {
            "text/html": [
              "<table>\n",
              "    <tr>\n",
              "        <th>ProductName</th>\n",
              "        <th>ProductPrice</th>\n",
              "        <th>SubCategoryName</th>\n",
              "    </tr>\n",
              "    <tr>\n",
              "        <td>Big Sink</td>\n",
              "        <td>5000</td>\n",
              "        <td>Sink</td>\n",
              "    </tr>\n",
              "    <tr>\n",
              "        <td>Small Sink</td>\n",
              "        <td>3500</td>\n",
              "        <td>Sink</td>\n",
              "    </tr>\n",
              "    <tr>\n",
              "        <td>Nirosta Sink</td>\n",
              "        <td>7500</td>\n",
              "        <td>Sink</td>\n",
              "    </tr>\n",
              "    <tr>\n",
              "        <td>Big Tap</td>\n",
              "        <td>2000</td>\n",
              "        <td>Tap</td>\n",
              "    </tr>\n",
              "    <tr>\n",
              "        <td>Small Tap</td>\n",
              "        <td>1000</td>\n",
              "        <td>Tap</td>\n",
              "    </tr>\n",
              "    <tr>\n",
              "        <td>Standard Tap</td>\n",
              "        <td>500</td>\n",
              "        <td>Tap</td>\n",
              "    </tr>\n",
              "    <tr>\n",
              "        <td>Big Capboard</td>\n",
              "        <td>4000</td>\n",
              "        <td>Capboard</td>\n",
              "    </tr>\n",
              "    <tr>\n",
              "        <td>Small Capboard</td>\n",
              "        <td>2500</td>\n",
              "        <td>Capboard</td>\n",
              "    </tr>\n",
              "    <tr>\n",
              "        <td>IKEA Capboard</td>\n",
              "        <td>2000</td>\n",
              "        <td>Capboard</td>\n",
              "    </tr>\n",
              "    <tr>\n",
              "        <td>Big Couch</td>\n",
              "        <td>4552</td>\n",
              "        <td>Couch</td>\n",
              "    </tr>\n",
              "    <tr>\n",
              "        <td>Small Couch</td>\n",
              "        <td>2500</td>\n",
              "        <td>Couch</td>\n",
              "    </tr>\n",
              "    <tr>\n",
              "        <td>Leather Couch</td>\n",
              "        <td>1500</td>\n",
              "        <td>Couch</td>\n",
              "    </tr>\n",
              "    <tr>\n",
              "        <td>Round Table</td>\n",
              "        <td>8000</td>\n",
              "        <td>Dining table</td>\n",
              "    </tr>\n",
              "    <tr>\n",
              "        <td>Rectangle Table</td>\n",
              "        <td>5000</td>\n",
              "        <td>Dining table</td>\n",
              "    </tr>\n",
              "    <tr>\n",
              "        <td>IKEA Table</td>\n",
              "        <td>3500</td>\n",
              "        <td>Dining table</td>\n",
              "    </tr>\n",
              "    <tr>\n",
              "        <td>American comfort</td>\n",
              "        <td>9000</td>\n",
              "        <td>Easy Chair</td>\n",
              "    </tr>\n",
              "    <tr>\n",
              "        <td>IKEA Single Chair</td>\n",
              "        <td>3500</td>\n",
              "        <td>Easy Chair</td>\n",
              "    </tr>\n",
              "    <tr>\n",
              "        <td>Beytily Chair</td>\n",
              "        <td>4000</td>\n",
              "        <td>Easy Chair</td>\n",
              "    </tr>\n",
              "    <tr>\n",
              "        <td>King size bed</td>\n",
              "        <td>9500</td>\n",
              "        <td>Bed</td>\n",
              "    </tr>\n",
              "    <tr>\n",
              "        <td>Queen size bed</td>\n",
              "        <td>11000</td>\n",
              "        <td>Bed</td>\n",
              "    </tr>\n",
              "    <tr>\n",
              "        <td>Single size bed</td>\n",
              "        <td>6000</td>\n",
              "        <td>Bed</td>\n",
              "    </tr>\n",
              "    <tr>\n",
              "        <td>IKEA Desk</td>\n",
              "        <td>1500</td>\n",
              "        <td>Desk</td>\n",
              "    </tr>\n",
              "    <tr>\n",
              "        <td>Whole wood Desk</td>\n",
              "        <td>4500</td>\n",
              "        <td>Desk</td>\n",
              "    </tr>\n",
              "    <tr>\n",
              "        <td>Plywood Desk</td>\n",
              "        <td>1000</td>\n",
              "        <td>Desk</td>\n",
              "    </tr>\n",
              "    <tr>\n",
              "        <td>Big Mirror</td>\n",
              "        <td>1500</td>\n",
              "        <td>Mirror</td>\n",
              "    </tr>\n",
              "    <tr>\n",
              "        <td>Small Mirror</td>\n",
              "        <td>500</td>\n",
              "        <td>Mirror</td>\n",
              "    </tr>\n",
              "    <tr>\n",
              "        <td>Personal Mirror</td>\n",
              "        <td>2500</td>\n",
              "        <td>Mirror</td>\n",
              "    </tr>\n",
              "    <tr>\n",
              "        <td>56 inch Samsung</td>\n",
              "        <td>5500</td>\n",
              "        <td>Television</td>\n",
              "    </tr>\n",
              "    <tr>\n",
              "        <td>32 inch HP</td>\n",
              "        <td>3500</td>\n",
              "        <td>Television</td>\n",
              "    </tr>\n",
              "    <tr>\n",
              "        <td>21 inch DELL</td>\n",
              "        <td>2700</td>\n",
              "        <td>Television</td>\n",
              "    </tr>\n",
              "    <tr>\n",
              "        <td>Bosh Machine</td>\n",
              "        <td>7000</td>\n",
              "        <td>Washing Machine</td>\n",
              "    </tr>\n",
              "    <tr>\n",
              "        <td>Samsung Machine</td>\n",
              "        <td>5000</td>\n",
              "        <td>Washing Machine</td>\n",
              "    </tr>\n",
              "    <tr>\n",
              "        <td>Makita Machine</td>\n",
              "        <td>4500</td>\n",
              "        <td>Washing Machine</td>\n",
              "    </tr>\n",
              "    <tr>\n",
              "        <td>Big Heater</td>\n",
              "        <td>500</td>\n",
              "        <td>Electric Heater</td>\n",
              "    </tr>\n",
              "    <tr>\n",
              "        <td>Small Heater</td>\n",
              "        <td>350</td>\n",
              "        <td>Electric Heater</td>\n",
              "    </tr>\n",
              "    <tr>\n",
              "        <td>Rocket Heater</td>\n",
              "        <td>200</td>\n",
              "        <td>Electric Heater</td>\n",
              "    </tr>\n",
              "</table>"
            ],
            "text/plain": [
              "[('Big Sink', 5000, 'Sink'),\n",
              " ('Small Sink', 3500, 'Sink'),\n",
              " ('Nirosta Sink', 7500, 'Sink'),\n",
              " ('Big Tap', 2000, 'Tap'),\n",
              " ('Small Tap', 1000, 'Tap'),\n",
              " ('Standard Tap', 500, 'Tap'),\n",
              " ('Big Capboard', 4000, 'Capboard'),\n",
              " ('Small Capboard', 2500, 'Capboard'),\n",
              " ('IKEA Capboard', 2000, 'Capboard'),\n",
              " ('Big Couch', 4552, 'Couch'),\n",
              " ('Small Couch', 2500, 'Couch'),\n",
              " ('Leather Couch', 1500, 'Couch'),\n",
              " ('Round Table', 8000, 'Dining table'),\n",
              " ('Rectangle Table', 5000, 'Dining table'),\n",
              " ('IKEA Table', 3500, 'Dining table'),\n",
              " ('American comfort', 9000, 'Easy Chair'),\n",
              " ('IKEA Single Chair', 3500, 'Easy Chair'),\n",
              " ('Beytily Chair', 4000, 'Easy Chair'),\n",
              " ('King size bed', 9500, 'Bed'),\n",
              " ('Queen size bed', 11000, 'Bed'),\n",
              " ('Single size bed', 6000, 'Bed'),\n",
              " ('IKEA Desk', 1500, 'Desk'),\n",
              " ('Whole wood Desk', 4500, 'Desk'),\n",
              " ('Plywood Desk', 1000, 'Desk'),\n",
              " ('Big Mirror', 1500, 'Mirror'),\n",
              " ('Small Mirror', 500, 'Mirror'),\n",
              " ('Personal Mirror', 2500, 'Mirror'),\n",
              " ('56 inch Samsung', 5500, 'Television'),\n",
              " ('32 inch HP', 3500, 'Television'),\n",
              " ('21 inch DELL', 2700, 'Television'),\n",
              " ('Bosh Machine', 7000, 'Washing Machine'),\n",
              " ('Samsung Machine', 5000, 'Washing Machine'),\n",
              " ('Makita Machine', 4500, 'Washing Machine'),\n",
              " ('Big Heater', 500, 'Electric Heater'),\n",
              " ('Small Heater', 350, 'Electric Heater'),\n",
              " ('Rocket Heater', 200, 'Electric Heater')]"
            ]
          },
          "execution_count": 23,
          "metadata": {},
          "output_type": "execute_result"
        }
      ],
      "source": []
    },
    {
      "cell_type": "markdown",
      "metadata": {
        "id": "E07Ve1s0wNHp"
      },
      "source": [
        "#### Создайте внутреннее соединение между tblproducts и tblcategory.<br>\n",
        "-- из tblproducts показать productName и productPrice.<br>\n",
        "-- из tblcategory показать имя_категории."
      ]
    },
    {
      "cell_type": "code",
      "execution_count": null,
      "metadata": {
        "id": "cH-yCPGhwNHp",
        "outputId": "f32526f4-6d83-4615-ecf8-ef31f8b6ca7b"
      },
      "outputs": [
        {
          "name": "stdout",
          "output_type": "stream",
          "text": [
            " * sqlite:///SQL_Server_Trail.db\n",
            "Done.\n"
          ]
        },
        {
          "data": {
            "text/html": [
              "<table>\n",
              "    <tr>\n",
              "        <th>ProductName</th>\n",
              "        <th>ProductPrice</th>\n",
              "        <th>SubCategoryName</th>\n",
              "        <th>CategoryName</th>\n",
              "    </tr>\n",
              "    <tr>\n",
              "        <td>Big Sink</td>\n",
              "        <td>5000</td>\n",
              "        <td>Sink</td>\n",
              "        <td>Kitchen</td>\n",
              "    </tr>\n",
              "    <tr>\n",
              "        <td>Small Sink</td>\n",
              "        <td>3500</td>\n",
              "        <td>Sink</td>\n",
              "        <td>Kitchen</td>\n",
              "    </tr>\n",
              "    <tr>\n",
              "        <td>Nirosta Sink</td>\n",
              "        <td>7500</td>\n",
              "        <td>Sink</td>\n",
              "        <td>Kitchen</td>\n",
              "    </tr>\n",
              "    <tr>\n",
              "        <td>Big Tap</td>\n",
              "        <td>2000</td>\n",
              "        <td>Tap</td>\n",
              "        <td>Kitchen</td>\n",
              "    </tr>\n",
              "    <tr>\n",
              "        <td>Small Tap</td>\n",
              "        <td>1000</td>\n",
              "        <td>Tap</td>\n",
              "        <td>Kitchen</td>\n",
              "    </tr>\n",
              "    <tr>\n",
              "        <td>Standard Tap</td>\n",
              "        <td>500</td>\n",
              "        <td>Tap</td>\n",
              "        <td>Kitchen</td>\n",
              "    </tr>\n",
              "    <tr>\n",
              "        <td>Big Capboard</td>\n",
              "        <td>4000</td>\n",
              "        <td>Capboard</td>\n",
              "        <td>Kitchen</td>\n",
              "    </tr>\n",
              "    <tr>\n",
              "        <td>Small Capboard</td>\n",
              "        <td>2500</td>\n",
              "        <td>Capboard</td>\n",
              "        <td>Kitchen</td>\n",
              "    </tr>\n",
              "    <tr>\n",
              "        <td>IKEA Capboard</td>\n",
              "        <td>2000</td>\n",
              "        <td>Capboard</td>\n",
              "        <td>Kitchen</td>\n",
              "    </tr>\n",
              "    <tr>\n",
              "        <td>Big Couch</td>\n",
              "        <td>4552</td>\n",
              "        <td>Couch</td>\n",
              "        <td>Living Room</td>\n",
              "    </tr>\n",
              "    <tr>\n",
              "        <td>Small Couch</td>\n",
              "        <td>2500</td>\n",
              "        <td>Couch</td>\n",
              "        <td>Living Room</td>\n",
              "    </tr>\n",
              "    <tr>\n",
              "        <td>Leather Couch</td>\n",
              "        <td>1500</td>\n",
              "        <td>Couch</td>\n",
              "        <td>Living Room</td>\n",
              "    </tr>\n",
              "    <tr>\n",
              "        <td>Round Table</td>\n",
              "        <td>8000</td>\n",
              "        <td>Dining table</td>\n",
              "        <td>Living Room</td>\n",
              "    </tr>\n",
              "    <tr>\n",
              "        <td>Rectangle Table</td>\n",
              "        <td>5000</td>\n",
              "        <td>Dining table</td>\n",
              "        <td>Living Room</td>\n",
              "    </tr>\n",
              "    <tr>\n",
              "        <td>IKEA Table</td>\n",
              "        <td>3500</td>\n",
              "        <td>Dining table</td>\n",
              "        <td>Living Room</td>\n",
              "    </tr>\n",
              "    <tr>\n",
              "        <td>American comfort</td>\n",
              "        <td>9000</td>\n",
              "        <td>Easy Chair</td>\n",
              "        <td>Living Room</td>\n",
              "    </tr>\n",
              "    <tr>\n",
              "        <td>IKEA Single Chair</td>\n",
              "        <td>3500</td>\n",
              "        <td>Easy Chair</td>\n",
              "        <td>Living Room</td>\n",
              "    </tr>\n",
              "    <tr>\n",
              "        <td>Beytily Chair</td>\n",
              "        <td>4000</td>\n",
              "        <td>Easy Chair</td>\n",
              "        <td>Living Room</td>\n",
              "    </tr>\n",
              "    <tr>\n",
              "        <td>King size bed</td>\n",
              "        <td>9500</td>\n",
              "        <td>Bed</td>\n",
              "        <td>Bedroom</td>\n",
              "    </tr>\n",
              "    <tr>\n",
              "        <td>Queen size bed</td>\n",
              "        <td>11000</td>\n",
              "        <td>Bed</td>\n",
              "        <td>Bedroom</td>\n",
              "    </tr>\n",
              "    <tr>\n",
              "        <td>Single size bed</td>\n",
              "        <td>6000</td>\n",
              "        <td>Bed</td>\n",
              "        <td>Bedroom</td>\n",
              "    </tr>\n",
              "    <tr>\n",
              "        <td>IKEA Desk</td>\n",
              "        <td>1500</td>\n",
              "        <td>Desk</td>\n",
              "        <td>Bedroom</td>\n",
              "    </tr>\n",
              "    <tr>\n",
              "        <td>Whole wood Desk</td>\n",
              "        <td>4500</td>\n",
              "        <td>Desk</td>\n",
              "        <td>Bedroom</td>\n",
              "    </tr>\n",
              "    <tr>\n",
              "        <td>Plywood Desk</td>\n",
              "        <td>1000</td>\n",
              "        <td>Desk</td>\n",
              "        <td>Bedroom</td>\n",
              "    </tr>\n",
              "    <tr>\n",
              "        <td>Big Mirror</td>\n",
              "        <td>1500</td>\n",
              "        <td>Mirror</td>\n",
              "        <td>Bedroom</td>\n",
              "    </tr>\n",
              "    <tr>\n",
              "        <td>Small Mirror</td>\n",
              "        <td>500</td>\n",
              "        <td>Mirror</td>\n",
              "        <td>Bedroom</td>\n",
              "    </tr>\n",
              "    <tr>\n",
              "        <td>Personal Mirror</td>\n",
              "        <td>2500</td>\n",
              "        <td>Mirror</td>\n",
              "        <td>Bedroom</td>\n",
              "    </tr>\n",
              "    <tr>\n",
              "        <td>56 inch Samsung</td>\n",
              "        <td>5500</td>\n",
              "        <td>Television</td>\n",
              "        <td>Electrical appliance</td>\n",
              "    </tr>\n",
              "    <tr>\n",
              "        <td>32 inch HP</td>\n",
              "        <td>3500</td>\n",
              "        <td>Television</td>\n",
              "        <td>Electrical appliance</td>\n",
              "    </tr>\n",
              "    <tr>\n",
              "        <td>21 inch DELL</td>\n",
              "        <td>2700</td>\n",
              "        <td>Television</td>\n",
              "        <td>Electrical appliance</td>\n",
              "    </tr>\n",
              "    <tr>\n",
              "        <td>Bosh Machine</td>\n",
              "        <td>7000</td>\n",
              "        <td>Washing Machine</td>\n",
              "        <td>Electrical appliance</td>\n",
              "    </tr>\n",
              "    <tr>\n",
              "        <td>Samsung Machine</td>\n",
              "        <td>5000</td>\n",
              "        <td>Washing Machine</td>\n",
              "        <td>Electrical appliance</td>\n",
              "    </tr>\n",
              "    <tr>\n",
              "        <td>Makita Machine</td>\n",
              "        <td>4500</td>\n",
              "        <td>Washing Machine</td>\n",
              "        <td>Electrical appliance</td>\n",
              "    </tr>\n",
              "    <tr>\n",
              "        <td>Big Heater</td>\n",
              "        <td>500</td>\n",
              "        <td>Electric Heater</td>\n",
              "        <td>Electrical appliance</td>\n",
              "    </tr>\n",
              "    <tr>\n",
              "        <td>Small Heater</td>\n",
              "        <td>350</td>\n",
              "        <td>Electric Heater</td>\n",
              "        <td>Electrical appliance</td>\n",
              "    </tr>\n",
              "    <tr>\n",
              "        <td>Rocket Heater</td>\n",
              "        <td>200</td>\n",
              "        <td>Electric Heater</td>\n",
              "        <td>Electrical appliance</td>\n",
              "    </tr>\n",
              "</table>"
            ],
            "text/plain": [
              "[('Big Sink', 5000, 'Sink', 'Kitchen'),\n",
              " ('Small Sink', 3500, 'Sink', 'Kitchen'),\n",
              " ('Nirosta Sink', 7500, 'Sink', 'Kitchen'),\n",
              " ('Big Tap', 2000, 'Tap', 'Kitchen'),\n",
              " ('Small Tap', 1000, 'Tap', 'Kitchen'),\n",
              " ('Standard Tap', 500, 'Tap', 'Kitchen'),\n",
              " ('Big Capboard', 4000, 'Capboard', 'Kitchen'),\n",
              " ('Small Capboard', 2500, 'Capboard', 'Kitchen'),\n",
              " ('IKEA Capboard', 2000, 'Capboard', 'Kitchen'),\n",
              " ('Big Couch', 4552, 'Couch', 'Living Room'),\n",
              " ('Small Couch', 2500, 'Couch', 'Living Room'),\n",
              " ('Leather Couch', 1500, 'Couch', 'Living Room'),\n",
              " ('Round Table', 8000, 'Dining table', 'Living Room'),\n",
              " ('Rectangle Table', 5000, 'Dining table', 'Living Room'),\n",
              " ('IKEA Table', 3500, 'Dining table', 'Living Room'),\n",
              " ('American comfort', 9000, 'Easy Chair', 'Living Room'),\n",
              " ('IKEA Single Chair', 3500, 'Easy Chair', 'Living Room'),\n",
              " ('Beytily Chair', 4000, 'Easy Chair', 'Living Room'),\n",
              " ('King size bed', 9500, 'Bed', 'Bedroom'),\n",
              " ('Queen size bed', 11000, 'Bed', 'Bedroom'),\n",
              " ('Single size bed', 6000, 'Bed', 'Bedroom'),\n",
              " ('IKEA Desk', 1500, 'Desk', 'Bedroom'),\n",
              " ('Whole wood Desk', 4500, 'Desk', 'Bedroom'),\n",
              " ('Plywood Desk', 1000, 'Desk', 'Bedroom'),\n",
              " ('Big Mirror', 1500, 'Mirror', 'Bedroom'),\n",
              " ('Small Mirror', 500, 'Mirror', 'Bedroom'),\n",
              " ('Personal Mirror', 2500, 'Mirror', 'Bedroom'),\n",
              " ('56 inch Samsung', 5500, 'Television', 'Electrical appliance'),\n",
              " ('32 inch HP', 3500, 'Television', 'Electrical appliance'),\n",
              " ('21 inch DELL', 2700, 'Television', 'Electrical appliance'),\n",
              " ('Bosh Machine', 7000, 'Washing Machine', 'Electrical appliance'),\n",
              " ('Samsung Machine', 5000, 'Washing Machine', 'Electrical appliance'),\n",
              " ('Makita Machine', 4500, 'Washing Machine', 'Electrical appliance'),\n",
              " ('Big Heater', 500, 'Electric Heater', 'Electrical appliance'),\n",
              " ('Small Heater', 350, 'Electric Heater', 'Electrical appliance'),\n",
              " ('Rocket Heater', 200, 'Electric Heater', 'Electrical appliance')]"
            ]
          },
          "execution_count": 24,
          "metadata": {},
          "output_type": "execute_result"
        }
      ],
      "source": []
    },
    {
      "cell_type": "markdown",
      "metadata": {
        "id": "piZtz5qQwNHp"
      },
      "source": [
        "#### ЛЕВОЕ соединение между tblproducts и tblcategory.<br>\n",
        "- из tblproducts показать productName и productPrice.\n",
        "- из tblcategory показать имя_категории."
      ]
    },
    {
      "cell_type": "code",
      "execution_count": null,
      "metadata": {
        "id": "rsQT05mCwNHp",
        "outputId": "cbbe045c-5de3-4f7e-a10e-a8d37da003fe"
      },
      "outputs": [
        {
          "name": "stdout",
          "output_type": "stream",
          "text": [
            " * sqlite:///SQL_Server_Trail.db\n",
            "Done.\n"
          ]
        },
        {
          "data": {
            "text/html": [
              "<table>\n",
              "    <tr>\n",
              "        <th>ProductName</th>\n",
              "        <th>ProductPrice</th>\n",
              "        <th>CategoryName</th>\n",
              "    </tr>\n",
              "    <tr>\n",
              "        <td>Big Sink</td>\n",
              "        <td>5000</td>\n",
              "        <td>Kitchen</td>\n",
              "    </tr>\n",
              "    <tr>\n",
              "        <td>Small Sink</td>\n",
              "        <td>3500</td>\n",
              "        <td>Kitchen</td>\n",
              "    </tr>\n",
              "    <tr>\n",
              "        <td>Nirosta Sink</td>\n",
              "        <td>7500</td>\n",
              "        <td>Kitchen</td>\n",
              "    </tr>\n",
              "    <tr>\n",
              "        <td>Big Tap</td>\n",
              "        <td>2000</td>\n",
              "        <td>Kitchen</td>\n",
              "    </tr>\n",
              "    <tr>\n",
              "        <td>Small Tap</td>\n",
              "        <td>1000</td>\n",
              "        <td>Kitchen</td>\n",
              "    </tr>\n",
              "    <tr>\n",
              "        <td>Standard Tap</td>\n",
              "        <td>500</td>\n",
              "        <td>Kitchen</td>\n",
              "    </tr>\n",
              "    <tr>\n",
              "        <td>Big Capboard</td>\n",
              "        <td>4000</td>\n",
              "        <td>Kitchen</td>\n",
              "    </tr>\n",
              "    <tr>\n",
              "        <td>Small Capboard</td>\n",
              "        <td>2500</td>\n",
              "        <td>Kitchen</td>\n",
              "    </tr>\n",
              "    <tr>\n",
              "        <td>IKEA Capboard</td>\n",
              "        <td>2000</td>\n",
              "        <td>Kitchen</td>\n",
              "    </tr>\n",
              "    <tr>\n",
              "        <td>Big Couch</td>\n",
              "        <td>4552</td>\n",
              "        <td>Living Room</td>\n",
              "    </tr>\n",
              "    <tr>\n",
              "        <td>Small Couch</td>\n",
              "        <td>2500</td>\n",
              "        <td>Living Room</td>\n",
              "    </tr>\n",
              "    <tr>\n",
              "        <td>Leather Couch</td>\n",
              "        <td>1500</td>\n",
              "        <td>Living Room</td>\n",
              "    </tr>\n",
              "    <tr>\n",
              "        <td>Round Table</td>\n",
              "        <td>8000</td>\n",
              "        <td>Living Room</td>\n",
              "    </tr>\n",
              "    <tr>\n",
              "        <td>Rectangle Table</td>\n",
              "        <td>5000</td>\n",
              "        <td>Living Room</td>\n",
              "    </tr>\n",
              "    <tr>\n",
              "        <td>IKEA Table</td>\n",
              "        <td>3500</td>\n",
              "        <td>Living Room</td>\n",
              "    </tr>\n",
              "    <tr>\n",
              "        <td>American comfort</td>\n",
              "        <td>9000</td>\n",
              "        <td>Living Room</td>\n",
              "    </tr>\n",
              "    <tr>\n",
              "        <td>IKEA Single Chair</td>\n",
              "        <td>3500</td>\n",
              "        <td>Living Room</td>\n",
              "    </tr>\n",
              "    <tr>\n",
              "        <td>Beytily Chair</td>\n",
              "        <td>4000</td>\n",
              "        <td>Living Room</td>\n",
              "    </tr>\n",
              "    <tr>\n",
              "        <td>King size bed</td>\n",
              "        <td>9500</td>\n",
              "        <td>Bedroom</td>\n",
              "    </tr>\n",
              "    <tr>\n",
              "        <td>Queen size bed</td>\n",
              "        <td>11000</td>\n",
              "        <td>Bedroom</td>\n",
              "    </tr>\n",
              "    <tr>\n",
              "        <td>Single size bed</td>\n",
              "        <td>6000</td>\n",
              "        <td>Bedroom</td>\n",
              "    </tr>\n",
              "    <tr>\n",
              "        <td>IKEA Desk</td>\n",
              "        <td>1500</td>\n",
              "        <td>Bedroom</td>\n",
              "    </tr>\n",
              "    <tr>\n",
              "        <td>Whole wood Desk</td>\n",
              "        <td>4500</td>\n",
              "        <td>Bedroom</td>\n",
              "    </tr>\n",
              "    <tr>\n",
              "        <td>Plywood Desk</td>\n",
              "        <td>1000</td>\n",
              "        <td>Bedroom</td>\n",
              "    </tr>\n",
              "    <tr>\n",
              "        <td>Big Mirror</td>\n",
              "        <td>1500</td>\n",
              "        <td>Bedroom</td>\n",
              "    </tr>\n",
              "    <tr>\n",
              "        <td>Small Mirror</td>\n",
              "        <td>500</td>\n",
              "        <td>Bedroom</td>\n",
              "    </tr>\n",
              "    <tr>\n",
              "        <td>Personal Mirror</td>\n",
              "        <td>2500</td>\n",
              "        <td>Bedroom</td>\n",
              "    </tr>\n",
              "    <tr>\n",
              "        <td>56 inch Samsung</td>\n",
              "        <td>5500</td>\n",
              "        <td>Electrical appliance</td>\n",
              "    </tr>\n",
              "    <tr>\n",
              "        <td>32 inch HP</td>\n",
              "        <td>3500</td>\n",
              "        <td>Electrical appliance</td>\n",
              "    </tr>\n",
              "    <tr>\n",
              "        <td>21 inch DELL</td>\n",
              "        <td>2700</td>\n",
              "        <td>Electrical appliance</td>\n",
              "    </tr>\n",
              "    <tr>\n",
              "        <td>Bosh Machine</td>\n",
              "        <td>7000</td>\n",
              "        <td>Electrical appliance</td>\n",
              "    </tr>\n",
              "    <tr>\n",
              "        <td>Samsung Machine</td>\n",
              "        <td>5000</td>\n",
              "        <td>Electrical appliance</td>\n",
              "    </tr>\n",
              "    <tr>\n",
              "        <td>Makita Machine</td>\n",
              "        <td>4500</td>\n",
              "        <td>Electrical appliance</td>\n",
              "    </tr>\n",
              "    <tr>\n",
              "        <td>Big Heater</td>\n",
              "        <td>500</td>\n",
              "        <td>Electrical appliance</td>\n",
              "    </tr>\n",
              "    <tr>\n",
              "        <td>Small Heater</td>\n",
              "        <td>350</td>\n",
              "        <td>Electrical appliance</td>\n",
              "    </tr>\n",
              "    <tr>\n",
              "        <td>Rocket Heater</td>\n",
              "        <td>200</td>\n",
              "        <td>Electrical appliance</td>\n",
              "    </tr>\n",
              "    <tr>\n",
              "        <td>Coffee</td>\n",
              "        <td>5</td>\n",
              "        <td>None</td>\n",
              "    </tr>\n",
              "    <tr>\n",
              "        <td>brown suger</td>\n",
              "        <td>0.5</td>\n",
              "        <td>None</td>\n",
              "    </tr>\n",
              "    <tr>\n",
              "        <td>Tea</td>\n",
              "        <td>3</td>\n",
              "        <td>None</td>\n",
              "    </tr>\n",
              "    <tr>\n",
              "        <td>biscuit</td>\n",
              "        <td>6</td>\n",
              "        <td>None</td>\n",
              "    </tr>\n",
              "</table>"
            ],
            "text/plain": [
              "[('Big Sink', 5000, 'Kitchen'),\n",
              " ('Small Sink', 3500, 'Kitchen'),\n",
              " ('Nirosta Sink', 7500, 'Kitchen'),\n",
              " ('Big Tap', 2000, 'Kitchen'),\n",
              " ('Small Tap', 1000, 'Kitchen'),\n",
              " ('Standard Tap', 500, 'Kitchen'),\n",
              " ('Big Capboard', 4000, 'Kitchen'),\n",
              " ('Small Capboard', 2500, 'Kitchen'),\n",
              " ('IKEA Capboard', 2000, 'Kitchen'),\n",
              " ('Big Couch', 4552, 'Living Room'),\n",
              " ('Small Couch', 2500, 'Living Room'),\n",
              " ('Leather Couch', 1500, 'Living Room'),\n",
              " ('Round Table', 8000, 'Living Room'),\n",
              " ('Rectangle Table', 5000, 'Living Room'),\n",
              " ('IKEA Table', 3500, 'Living Room'),\n",
              " ('American comfort', 9000, 'Living Room'),\n",
              " ('IKEA Single Chair', 3500, 'Living Room'),\n",
              " ('Beytily Chair', 4000, 'Living Room'),\n",
              " ('King size bed', 9500, 'Bedroom'),\n",
              " ('Queen size bed', 11000, 'Bedroom'),\n",
              " ('Single size bed', 6000, 'Bedroom'),\n",
              " ('IKEA Desk', 1500, 'Bedroom'),\n",
              " ('Whole wood Desk', 4500, 'Bedroom'),\n",
              " ('Plywood Desk', 1000, 'Bedroom'),\n",
              " ('Big Mirror', 1500, 'Bedroom'),\n",
              " ('Small Mirror', 500, 'Bedroom'),\n",
              " ('Personal Mirror', 2500, 'Bedroom'),\n",
              " ('56 inch Samsung', 5500, 'Electrical appliance'),\n",
              " ('32 inch HP', 3500, 'Electrical appliance'),\n",
              " ('21 inch DELL', 2700, 'Electrical appliance'),\n",
              " ('Bosh Machine', 7000, 'Electrical appliance'),\n",
              " ('Samsung Machine', 5000, 'Electrical appliance'),\n",
              " ('Makita Machine', 4500, 'Electrical appliance'),\n",
              " ('Big Heater', 500, 'Electrical appliance'),\n",
              " ('Small Heater', 350, 'Electrical appliance'),\n",
              " ('Rocket Heater', 200, 'Electrical appliance'),\n",
              " ('Coffee', 5, None),\n",
              " ('brown suger', 0.5, None),\n",
              " ('Tea', 3, None),\n",
              " ('biscuit', 6, None)]"
            ]
          },
          "execution_count": 25,
          "metadata": {},
          "output_type": "execute_result"
        }
      ],
      "source": []
    },
    {
      "cell_type": "markdown",
      "metadata": {
        "id": "V5MxpbxJwNHp"
      },
      "source": [
        "#### Показать сумарную цену продукта по названию категории в порядке от макс до мин.\n"
      ]
    },
    {
      "cell_type": "code",
      "execution_count": null,
      "metadata": {
        "id": "5F_bWUR0wNHq",
        "outputId": "60e25e44-5a99-4712-e5c4-0c27be5636c5"
      },
      "outputs": [
        {
          "name": "stderr",
          "output_type": "stream",
          "text": [
            "UsageError: Cell magic `%%sql` not found.\n"
          ]
        }
      ],
      "source": [
        "%%sql\n",
        "SELECT      CT.CategoryName, SUM(PR.ProductPrice) AS [Total Price]\n",
        "FROM        tblProducts AS PR\n",
        "Left JOIN  tblSubCategory AS SC\n",
        "ON          PR.SubCategoryID = SC.SubCategoryID\n",
        "Left JOIN  tblCategory AS CT\n",
        "ON          SC.CategoryID = CT.CategoryID\n",
        "GROUP BY    CT.CategoryName\n",
        "ORDER BY    SUM(PR.ProductPrice) DESC\n"
      ]
    },
    {
      "cell_type": "markdown",
      "metadata": {
        "id": "YpYAju8iwNHq"
      },
      "source": [
        "-Вопрос 7 - показать название самого дорогого товара с подкатегорией и категорией.\n"
      ]
    },
    {
      "cell_type": "code",
      "execution_count": null,
      "metadata": {
        "id": "mB2R12lvwNHq",
        "outputId": "f389433d-f573-45ca-b795-fe3f701d33a7"
      },
      "outputs": [
        {
          "name": "stdout",
          "output_type": "stream",
          "text": [
            " * sqlite:///SQL_Server_Trail.db\n",
            "Done.\n"
          ]
        },
        {
          "data": {
            "text/html": [
              "<table>\n",
              "    <tr>\n",
              "        <th>ProductName</th>\n",
              "        <th>ProductPrice</th>\n",
              "        <th>SubCategoryName</th>\n",
              "        <th>CategoryName</th>\n",
              "    </tr>\n",
              "    <tr>\n",
              "        <td>Queen size bed</td>\n",
              "        <td>11000</td>\n",
              "        <td>Bed</td>\n",
              "        <td>Bedroom</td>\n",
              "    </tr>\n",
              "</table>"
            ],
            "text/plain": [
              "[('Queen size bed', 11000, 'Bed', 'Bedroom')]"
            ]
          },
          "execution_count": 31,
          "metadata": {},
          "output_type": "execute_result"
        }
      ],
      "source": []
    },
    {
      "cell_type": "code",
      "execution_count": null,
      "metadata": {
        "id": "PxlITQLPwNHq",
        "outputId": "a111086f-4550-41fd-f6c8-db5db59b1997"
      },
      "outputs": [
        {
          "name": "stdout",
          "output_type": "stream",
          "text": [
            " * sqlite:///SQL_Server_Trail.db\n",
            "Done.\n"
          ]
        },
        {
          "data": {
            "text/html": [
              "<table>\n",
              "    <tr>\n",
              "        <th>ProductName</th>\n",
              "        <th>MAX(ProductPrice)</th>\n",
              "        <th>SubCategoryName</th>\n",
              "        <th>CategoryName</th>\n",
              "    </tr>\n",
              "    <tr>\n",
              "        <td>Queen size bed</td>\n",
              "        <td>11000</td>\n",
              "        <td>Bed</td>\n",
              "        <td>Bedroom</td>\n",
              "    </tr>\n",
              "</table>"
            ],
            "text/plain": [
              "[('Queen size bed', 11000, 'Bed', 'Bedroom')]"
            ]
          },
          "execution_count": 32,
          "metadata": {},
          "output_type": "execute_result"
        }
      ],
      "source": []
    },
    {
      "cell_type": "markdown",
      "metadata": {
        "id": "ja9viv1vwNHq"
      },
      "source": [
        "-- -Вопрос 8 - показать название самого дорогого продукта в категории name = 'kitchen'.\n",
        "-- если у вас есть нулевые значения, не показывайте их!"
      ]
    },
    {
      "cell_type": "code",
      "execution_count": null,
      "metadata": {
        "id": "Ru9g59hmwNHr",
        "outputId": "7f4617dc-dd5c-4e0e-ecaa-6e999f2b4bed"
      },
      "outputs": [
        {
          "name": "stdout",
          "output_type": "stream",
          "text": [
            " * sqlite:///SQL_Server_Trail.db\n",
            "Done.\n"
          ]
        },
        {
          "data": {
            "text/html": [
              "<table>\n",
              "    <tr>\n",
              "        <th>ProductName</th>\n",
              "        <th>ProductPrice</th>\n",
              "        <th>SubCategoryName</th>\n",
              "        <th>CategoryName</th>\n",
              "    </tr>\n",
              "    <tr>\n",
              "        <td>Nirosta Sink</td>\n",
              "        <td>7500</td>\n",
              "        <td>Sink</td>\n",
              "        <td>Kitchen</td>\n",
              "    </tr>\n",
              "</table>"
            ],
            "text/plain": [
              "[('Nirosta Sink', 7500, 'Sink', 'Kitchen')]"
            ]
          },
          "execution_count": 33,
          "metadata": {},
          "output_type": "execute_result"
        }
      ],
      "source": []
    },
    {
      "cell_type": "markdown",
      "metadata": {
        "id": "Di0n9ERFwNHr"
      },
      "source": [
        "-- Тема 06 - Математические функции -- используйте таблицу tblGenderMeasurements.\n",
        "-- Вопрос 1. Создайте AVG для каждого из параметров: Возраст, Рост и Вес по полу. точно, увеличьте число AVG для каждого из параметров.\n",
        "-- Ответ:\n",
        "\n",
        "-- Вопрос 2. Создайте тот же запрос, но теперь укажите числа AVG.\n",
        "-- Ответ:\n",
        "\n",
        "\n",
        "-- Вопрос 3. Создайте тот же запрос, но теперь округляйте числа AVG.\n",
        "-- Ответ:"
      ]
    },
    {
      "cell_type": "code",
      "execution_count": null,
      "metadata": {
        "id": "JJlazl7kwNHr",
        "outputId": "67b376ae-10ab-4f22-f212-418434b8ecc0"
      },
      "outputs": [
        {
          "name": "stdout",
          "output_type": "stream",
          "text": [
            " * sqlite:///SQL_Server_Trail.db\n",
            "Done.\n"
          ]
        },
        {
          "data": {
            "text/plain": [
              "[]"
            ]
          },
          "execution_count": 44,
          "metadata": {},
          "output_type": "execute_result"
        }
      ],
      "source": [
        "%%sql\n",
        "CREATE TABLE tblGenderMeasurements\n",
        "(\n",
        "NumerID INT ,\n",
        "Name    NVARCHAR (30),\n",
        "Gender  NVARCHAR (20),\n",
        "Age     DECIMAL (8,2),\n",
        "Height  DECIMAL (8,2),\n",
        "Weight  DECIMAL (8,2),\n",
        "PRIMARY KEY(NumerID)\n",
        ")"
      ]
    },
    {
      "cell_type": "code",
      "execution_count": null,
      "metadata": {
        "id": "b4BRAFv5wNHr",
        "outputId": "0401a350-c495-40ba-9de6-78b83c4e6609"
      },
      "outputs": [
        {
          "name": "stdout",
          "output_type": "stream",
          "text": [
            " * sqlite:///SQL_Server_Trail.db\n",
            "8 rows affected.\n"
          ]
        },
        {
          "data": {
            "text/plain": [
              "[]"
            ]
          },
          "execution_count": 45,
          "metadata": {},
          "output_type": "execute_result"
        }
      ],
      "source": [
        "%%sql\n",
        "INSERT INTO tblGenderMeasurements VALUES\n",
        "(1,'Tomer','Male',31.4,1.73,68.5),\n",
        "(2,'Shai','Male',28.5,1.81,73.8),\n",
        "(3,'Noam','Male',32.3,1.77,80.8),\n",
        "(4,'Ben','Male',27.7,1.86,105.9),\n",
        "(5,'Rita','Female',32.2,1.65,61.8),\n",
        "(6,'Simha','Female',29.5,1.73,55.6),\n",
        "(7,'Efrat','Female',35.2,1.70,59.4),\n",
        "(8,'Miri','Female',26.4,1.78,63.8)"
      ]
    },
    {
      "cell_type": "markdown",
      "metadata": {
        "id": "Jm5exhwJwNHs"
      },
      "source": [
        "-- Вопрос 1. Создайте AVG для каждого из параметров: Возраст, Рост и Вес по полу. точно, увеличьте число AVG для каждого из параметров.\n",
        "-- Ответ:\n",
        "\n",
        "-- Вопрос 2. Создайте тот же запрос, но теперь укажите числа AVG.\n",
        "-- Ответ:\n",
        "\n",
        "\n",
        "-- Вопрос 3. Создайте тот же запрос, но теперь округляйте числа AVG.\n",
        "-- Ответ:\n"
      ]
    },
    {
      "cell_type": "code",
      "execution_count": null,
      "metadata": {
        "id": "9AedsHK-wNHs",
        "outputId": "28483628-0f21-48f5-9746-6d0a01a53fb9"
      },
      "outputs": [
        {
          "name": "stdout",
          "output_type": "stream",
          "text": [
            " * sqlite:///SQL_Server_Trail.db\n",
            "Done.\n"
          ]
        },
        {
          "data": {
            "text/html": [
              "<table>\n",
              "    <tr>\n",
              "        <th>AVG(Age)</th>\n",
              "        <th>AVG(Height)</th>\n",
              "        <th>AVG(Weight)</th>\n",
              "    </tr>\n",
              "    <tr>\n",
              "        <td>30.825000000000003</td>\n",
              "        <td>1.715</td>\n",
              "        <td>60.150000000000006</td>\n",
              "    </tr>\n",
              "    <tr>\n",
              "        <td>29.974999999999998</td>\n",
              "        <td>1.7925000000000002</td>\n",
              "        <td>82.25</td>\n",
              "    </tr>\n",
              "</table>"
            ],
            "text/plain": [
              "[(30.825000000000003, 1.715, 60.150000000000006),\n",
              " (29.974999999999998, 1.7925000000000002, 82.25)]"
            ]
          },
          "execution_count": 50,
          "metadata": {},
          "output_type": "execute_result"
        }
      ],
      "source": []
    },
    {
      "cell_type": "code",
      "execution_count": null,
      "metadata": {
        "id": "XB1GiScbwNHs",
        "outputId": "ca9ed206-c1a9-46fa-8715-75415341c7a6"
      },
      "outputs": [
        {
          "name": "stdout",
          "output_type": "stream",
          "text": [
            " * sqlite:///SQL_Server_Trail.db\n",
            "Done.\n"
          ]
        },
        {
          "data": {
            "text/html": [
              "<table>\n",
              "    <tr>\n",
              "        <th>ROUND(AVG(Age),1)</th>\n",
              "        <th>ROUND(AVG(Height),1)</th>\n",
              "        <th>ROUND(AVG(Weight),1)</th>\n",
              "    </tr>\n",
              "    <tr>\n",
              "        <td>30.8</td>\n",
              "        <td>1.7</td>\n",
              "        <td>60.2</td>\n",
              "    </tr>\n",
              "    <tr>\n",
              "        <td>30.0</td>\n",
              "        <td>1.8</td>\n",
              "        <td>82.3</td>\n",
              "    </tr>\n",
              "</table>"
            ],
            "text/plain": [
              "[(30.8, 1.7, 60.2), (30.0, 1.8, 82.3)]"
            ]
          },
          "execution_count": 51,
          "metadata": {},
          "output_type": "execute_result"
        }
      ],
      "source": [
        "\n"
      ]
    },
    {
      "cell_type": "markdown",
      "metadata": {
        "id": "DYTZKhkvwNHs"
      },
      "source": [
        "Показать текущую дату"
      ]
    },
    {
      "cell_type": "code",
      "execution_count": null,
      "metadata": {
        "id": "2O1s4xL7wNHt",
        "outputId": "0ec682da-7873-44fd-9d2e-1bc553f2e02a"
      },
      "outputs": [
        {
          "name": "stdout",
          "output_type": "stream",
          "text": [
            " * sqlite:///SQL_Server_Trail.db\n",
            "Done.\n"
          ]
        },
        {
          "data": {
            "text/html": [
              "<table>\n",
              "    <tr>\n",
              "        <th>date(&#x27;now&#x27;)</th>\n",
              "    </tr>\n",
              "    <tr>\n",
              "        <td>2022-07-08</td>\n",
              "    </tr>\n",
              "</table>"
            ],
            "text/plain": [
              "[('2022-07-08',)]"
            ]
          },
          "execution_count": 53,
          "metadata": {},
          "output_type": "execute_result"
        }
      ],
      "source": []
    },
    {
      "cell_type": "code",
      "execution_count": null,
      "metadata": {
        "id": "n6jQDxIZwNHt",
        "outputId": "d59aa0ba-072d-497a-afab-b49f5516b5ec"
      },
      "outputs": [
        {
          "name": "stdout",
          "output_type": "stream",
          "text": [
            " * sqlite:///SQL_Server_Trail.db\n",
            "Done.\n"
          ]
        },
        {
          "data": {
            "text/html": [
              "<table>\n",
              "    <tr>\n",
              "        <th>strftime(&#x27;%Y %m %d&#x27;,&#x27;now&#x27;)</th>\n",
              "    </tr>\n",
              "    <tr>\n",
              "        <td>2022 07 08</td>\n",
              "    </tr>\n",
              "</table>"
            ],
            "text/plain": [
              "[('2022 07 08',)]"
            ]
          },
          "execution_count": 55,
          "metadata": {},
          "output_type": "execute_result"
        }
      ],
      "source": [
        "%%sql\n",
        "SELECT strftime('%Y %m %d','now');"
      ]
    },
    {
      "cell_type": "markdown",
      "metadata": {
        "id": "c2YWnHfQwNHt"
      },
      "source": [
        "Показать текущую дату и время"
      ]
    },
    {
      "cell_type": "code",
      "execution_count": null,
      "metadata": {
        "id": "3I4MRch_wNHt",
        "outputId": "4b8846d6-114e-4e56-cd21-a04a62c9ba4f"
      },
      "outputs": [
        {
          "name": "stdout",
          "output_type": "stream",
          "text": [
            " * sqlite:///SQL_Server_Trail.db\n",
            "Done.\n"
          ]
        },
        {
          "data": {
            "text/html": [
              "<table>\n",
              "    <tr>\n",
              "        <th>datetime(&#x27;now&#x27;,&#x27;localtime&#x27;)</th>\n",
              "    </tr>\n",
              "    <tr>\n",
              "        <td>2022-07-08 17:34:34</td>\n",
              "    </tr>\n",
              "</table>"
            ],
            "text/plain": [
              "[('2022-07-08 17:34:34',)]"
            ]
          },
          "execution_count": 54,
          "metadata": {},
          "output_type": "execute_result"
        }
      ],
      "source": [
        "%%sql\n",
        "select datetime('now','localtime')"
      ]
    },
    {
      "cell_type": "code",
      "execution_count": null,
      "metadata": {
        "id": "Zf59SfUYwNHt"
      },
      "outputs": [],
      "source": []
    }
  ],
  "metadata": {
    "kernelspec": {
      "display_name": "Python 3",
      "language": "python",
      "name": "python3"
    },
    "language_info": {
      "codemirror_mode": {
        "name": "ipython",
        "version": 3
      },
      "file_extension": ".py",
      "mimetype": "text/x-python",
      "name": "python",
      "nbconvert_exporter": "python",
      "pygments_lexer": "ipython3",
      "version": "3.8.3"
    },
    "colab": {
      "provenance": []
    }
  },
  "nbformat": 4,
  "nbformat_minor": 0
}