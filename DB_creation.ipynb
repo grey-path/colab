{
  "cells": [
    {
      "cell_type": "markdown",
      "metadata": {
        "id": "VbZveFOjwxEO"
      },
      "source": [
        "# Моя база данных любимых фильмов\n",
        "Вот как создать базу данных, включая дизайн БД и простую реализацию на python. Мы будем использовать SQLite3, который поставляется с Python, и, хотя он ограничен для небольших проектов БД, это непосредственный способ познакомиться с языком SQL, общим для всех программ для управления реляционными базами данных.\n",
        "\n",
        "В качестве примера мы создадим базу данных для управления метаданными моих любимых фильмов, включая такие объекты, как актеры, режиссеры и награды. Цель состоит в том, чтобы сохранить всю эту информацию и иметь возможность задавать такие вопросы, как: какие из моих любимых фильмов сняты Квентином Тарантино? или какие фильмы с Джеффри Рашем имеют самый высокий рейтинг, которые я когда-либо смотрел?"
      ]
    },
    {
      "cell_type": "markdown",
      "metadata": {
        "id": "XBNqr4KJwxET"
      },
      "source": [
        "## 1. Проектирование сущностно-реляционных диаграмм (ERD)\n",
        "Прежде всего, нам нужно спроектировать архитектуру нашей БД. Самый простой способ — создать диаграмму отношений сущностей (Entity Relation Diagram, ERD). Это можно сделать онлайн с помощью ERDplus.com.\n",
        "\n",
        "*(Хотя обучение проектированию ERD может показаться громоздким и ненужным в начале, оно становится все более и более необходимым по мере усложнения БД, и на самом деле ускоряет кодирование SQL, как мы увидим в разделе 3).*"
      ]
    },
    {
      "cell_type": "markdown",
      "metadata": {
        "id": "32yk8H6iwxEV"
      },
      "source": [
        "<img src=\"https://github.com/faustodapuzzo/cimena_SQLite/blob/master/erd_cinema.png?raw=true\" >"
      ]
    },
    {
      "cell_type": "markdown",
      "metadata": {
        "collapsed": true,
        "id": "KqJ3d2UNwxEW"
      },
      "source": [
        "Диаграмма ERD представляет собой логическую структуру информации, подлежащей хранению. Хотя на первый взгляд это выглядит беспорядочно, его логику можно легко понять, например, «Актеры» связаны с «Фильмами», потому что они «снялись» в них, в то время как они не имеют прямой связи с «Режиссерами», кроме как через «Фильмы», которые были «Срежиссированы» ими.\n",
        "\n",
        "Основная идея ERD заключается в том, чтобы разбить проект на:\n",
        "\n",
        "1. Сущности (например, фильмы, актеры), которые являются самодостаточными логическими сущностями\n",
        "2. Отношения (в бриллиантах, например, режиссер, кинопремия)\n",
        "3. Атрибуты прикрепляются к сущностям или отношениям (в овале, например, титул, год, имя актера)\n",
        "* Первичные ключи (подчеркнутые жирным шрифтом, например, actor_ID) являются наиболее распространенным примером уникального идентификатора и необходимыми элементами реляционной БД. Они позволяют обеспечить целостность данных и в конечном итоге создать связи между различными сущностями в БД\n",
        "* Многозначные атрибуты (в двойном овале, например, у фильма может быть несколько продюсеров или рейтинг разных учреждений)\n",
        "\n",
        "Соединительные линии между сущностями являются частью отношения, а символы на обоих концах называются кратностью и изображают, например, отношение «один-к-одному», «один-ко-многим» или «многие-ко-многим». Более подробную информацию о нотации ERD можно найти, например, здесь https://www.lucidchart.com/pages/ER-diagram-symbols-and-meaning."
      ]
    },
    {
      "cell_type": "markdown",
      "metadata": {
        "collapsed": true,
        "id": "Ttwu0boGwxEW"
      },
      "source": [
        "## 2. Реляционная схема\n",
        "\n",
        "В то время как ERD является логическим представлением проекта, более прямым способом представления того, как должна быть реализована БД, является реляционная схема. В схеме показаны «фактические» таблицы, в том числе для сущностей и связей, с дополнительной информацией о том, как соединить сущности с помощью ключей.\n",
        "\n",
        "Обычно шаг от ERD к схеме является механическим, и ERDPlus.com предлагает инструмент для преобразования ERD в схему. И вот что у нас получается:\n",
        "\n",
        "<img src=\"https://github.com/faustodapuzzo/cimena_SQLite/blob/master/schema_cinema.png?raw=true\">"
      ]
    },
    {
      "cell_type": "markdown",
      "metadata": {
        "id": "zo9SZemiwxEX"
      },
      "source": [
        "Здесь можно распознать ту же структуру, что и ERD, но с некоторыми отличиями:\n",
        "\n",
        "1. Реляционные становятся таблицей с двумя Внешними Ключами (FK), если они не являются необязательными отношениями (например, не каждый актер или фильм имеет Награду)\n",
        "2. Многозначные атрибуты становятся отдельными таблицами в соответствии с принципом атомарности БД (для получения дополнительной информации о принципах проектирования БД см. три правила нормализации)\n",
        "\n",
        "Теперь мы готовы реализовать наш дизайн в реальную БД с помощью SQLite3."
      ]
    },
    {
      "cell_type": "markdown",
      "metadata": {
        "id": "FZ8mr5PEwxEX"
      },
      "source": [
        "## 3. Создайте базу данных SQLite3\n",
        "\n",
        "Теперь мы можем использовать sqlite3 для создания файла db и открытия соединения:"
      ]
    },
    {
      "cell_type": "code",
      "execution_count": 1,
      "metadata": {
        "collapsed": true,
        "id": "WZRg3HhOwxEY"
      },
      "outputs": [],
      "source": [
        "import sqlite3\n",
        "\n",
        "# this will create the .db file if it doesn't exist, and connect to it\n",
        "conn = sqlite3.connect('cinema.db', timeout = 10)\n",
        "# we define our cursor\n",
        "c = conn.cursor()"
      ]
    },
    {
      "cell_type": "markdown",
      "metadata": {
        "id": "ROWNdNTlwxEZ"
      },
      "source": [
        "Файл с именем cinema.db должен появиться в вашем рабочем каталоге. Этот файл будет содержать всю базу данных в двоичном формате. Чтобы открыть и изучить .db файл, скачайте \"DB Browser for SQLite\", который можно найти по адресу: https://github.com/sqlitebrowser/sqlitebrowser/releases"
      ]
    },
    {
      "cell_type": "code",
      "execution_count": 2,
      "metadata": {
        "collapsed": true,
        "id": "EAZiN2vBwxEa"
      },
      "outputs": [],
      "source": [
        "# Remember to close the cursor and connection when you are done with:\n",
        "#c.close()\n",
        "#conn.close()"
      ]
    },
    {
      "cell_type": "markdown",
      "metadata": {
        "collapsed": true,
        "id": "ANB-j6QswxEb"
      },
      "source": [
        "Теперь пришло время заполнить БД таблицами и столбцами. Это требует знания языка SQL и будет объяснено по ходу дела.\n",
        "\n",
        "Вот как мы создаем первую таблицу, синтаксические слова написаны заглавными буквами, определения таблиц и столбцов в нижнем регистре:"
      ]
    },
    {
      "cell_type": "code",
      "execution_count": 3,
      "metadata": {
        "id": "zKxWhAYDwxEb",
        "outputId": "7adbce9d-f7b1-4205-986d-9fded592287f",
        "colab": {
          "base_uri": "https://localhost:8080/"
        }
      },
      "outputs": [
        {
          "output_type": "execute_result",
          "data": {
            "text/plain": [
              "<sqlite3.Cursor at 0x7e91b21dd5c0>"
            ]
          },
          "metadata": {},
          "execution_count": 3
        }
      ],
      "source": [
        "c.execute('CREATE TABLE IF NOT EXISTS Movies     \\\n",
        "            (movie_ID INTEGER PRIMARY KEY,       \\\n",
        "            title_en VARCHAR,                    \\\n",
        "            title_IT VARCHAR,                    \\\n",
        "            movie_year INT, \\\n",
        "            genre VARCHAR,                      \\\n",
        "            watched INT                          \\\n",
        "            );')"
      ]
    },
    {
      "cell_type": "markdown",
      "metadata": {
        "collapsed": true,
        "id": "z8H3J9HwwxEd"
      },
      "source": [
        "Базовый синтаксис для создания таблиц выглядит следующим образом:\n",
        "\n",
        "**CREATE TABLE table_name (attribute1, attribute2,...)**\n",
        "\n",
        "Обратите внимание, что за каждым атрибутом следует DataType (например, INT, VARCHAR), а в конце также указывается PRIMARY KEY. Аналогично можно создать и другие основные таблицы:"
      ]
    },
    {
      "cell_type": "code",
      "execution_count": 4,
      "metadata": {
        "id": "KRnGso24wxEe",
        "outputId": "876cccd9-663c-4f7d-b89c-2ed0c7f81d4b",
        "colab": {
          "base_uri": "https://localhost:8080/"
        }
      },
      "outputs": [
        {
          "output_type": "execute_result",
          "data": {
            "text/plain": [
              "<sqlite3.Cursor at 0x7e91b21dd5c0>"
            ]
          },
          "metadata": {},
          "execution_count": 4
        }
      ],
      "source": [
        "c.execute('\\\n",
        "    CREATE TABLE Directors            \\\n",
        "    (director_ID INTEGER PRIMARY KEY, \\\n",
        "    director_Fname VARCHAR NOT NULL,  \\\n",
        "    director_Lname VARCHAR NOT NULL,  \\\n",
        "    direc_birthYear INT               \\\n",
        "    );')\n",
        "c.execute('\\\n",
        "    CREATE TABLE Actors               \\\n",
        "    (actor_ID INTEGER PRIMARY KEY,    \\\n",
        "    actor_Fname VARCHAR NOT NULL,     \\\n",
        "    actor_Lname VARCHAR NOT NULL,     \\\n",
        "    actor_birthYear INT               \\\n",
        "    );')"
      ]
    },
    {
      "cell_type": "markdown",
      "metadata": {
        "id": "23436XsIwxEe"
      },
      "source": [
        "Остальные таблицы, относящиеся к отношениям сущностей и таблицам Awards, реализованы с той лишь разницей, что они включают в себя внешние ключи, которые определены с помощью интуитивно понятного синтаксиса команд (см. команды ниже)."
      ]
    },
    {
      "cell_type": "code",
      "execution_count": 5,
      "metadata": {
        "id": "FERyHhT5wxEf",
        "outputId": "d243b3e7-1fa4-40d4-f020-fd7649d993f1",
        "colab": {
          "base_uri": "https://localhost:8080/"
        }
      },
      "outputs": [
        {
          "output_type": "execute_result",
          "data": {
            "text/plain": [
              "<sqlite3.Cursor at 0x7e91b21dd5c0>"
            ]
          },
          "metadata": {},
          "execution_count": 5
        }
      ],
      "source": [
        "c.execute(\"                                               \\\n",
        "    CREATE TABLE Awards                                   \\\n",
        "    (award_ID INTEGER PRIMARY KEY,                        \\\n",
        "    Oscar_year INT,                                       \\\n",
        "    Oscar_category VARCHAR,                               \\\n",
        "    OtherAward1_year INT,                                 \\\n",
        "    Highlight VARCHAR,                                    \\\n",
        "    actor_ID INT,                                         \\\n",
        "    movie_ID INT,                                         \\\n",
        "    FOREIGN KEY (actor_ID) REFERENCES Actors(actor_ID),   \\\n",
        "    FOREIGN KEY (movie_ID) REFERENCES Movies(movie_ID)    \\\n",
        "    );\")\n",
        "\n",
        "c.execute(\"                                                       \\\n",
        "    CREATE TABLE directed_by                                      \\\n",
        "    (director_ID INT NOT NULL,                                    \\\n",
        "    movie_ID INT NOT NULL,                                        \\\n",
        "    PRIMARY KEY (director_ID, movie_ID),                          \\\n",
        "    FOREIGN KEY (director_ID) REFERENCES Directors(director_ID),  \\\n",
        "    FOREIGN KEY (movie_ID) REFERENCES Movies(movie_ID)            \\\n",
        "    );\")\n",
        "\n",
        "c.execute(\"                                               \\\n",
        "    CREATE TABLE starred_in                               \\\n",
        "    (actor_ID INT NOT NULL,                               \\\n",
        "    movie_ID INT NOT NULL,                                \\\n",
        "    PRIMARY KEY (actor_ID, movie_ID),                     \\\n",
        "    FOREIGN KEY (actor_ID) REFERENCES Actors(actor_ID),   \\\n",
        "    FOREIGN KEY (movie_ID) REFERENCES Movies(movie_ID)    \\\n",
        "    );\")                                                        #\n",
        "\n",
        "c.execute(\"                                               \\\n",
        "    CREATE TABLE Movies_producers                         \\\n",
        "    (producer_name VARCHAR NOT NULL,                      \\\n",
        "    movie_ID INT NOT NULL,                                \\\n",
        "    PRIMARY KEY (producer_name, movie_ID),                \\\n",
        "    FOREIGN KEY (movie_ID) REFERENCES Movies(movie_ID)    \\\n",
        "    );\")\n",
        "\n",
        "c.execute('                                               \\\n",
        "    CREATE TABLE Movies_ratings                           \\\n",
        "    (ratings_ID INT NOT NULL,                             \\\n",
        "    Rotten_Tomatoes INT NOT NULL,                         \\\n",
        "    movie_ID INT NOT NULL,                                \\\n",
        "    PRIMARY KEY (ratings_ID, movie_ID),                   \\\n",
        "    FOREIGN KEY (movie_ID) REFERENCES Movies(movie_ID)    \\\n",
        "    );')"
      ]
    },
    {
      "cell_type": "markdown",
      "metadata": {
        "id": "Y5eDUGI-wxEj"
      },
      "source": [
        "### ... ВАЖНЫЙ СОВЕТ:\n",
        "\n",
        "Простой способ написать весь этот SQL-код, который может быть скучно делать вручную, — это экспортировать SQL-код из ERDPlus.com после разработки реляционной схемы. Это очень полезный бесплатный инструмент, который экономит много времени и утомительного, тщательного кодирования, и это сильный аргумент в пользу разработки ERD с подходящим программным обеспечением в первую очередь."
      ]
    },
    {
      "cell_type": "markdown",
      "metadata": {
        "id": "Oxgfo3IqwxEj"
      },
      "source": [
        "## 4. Заполнение данных"
      ]
    },
    {
      "cell_type": "markdown",
      "metadata": {
        "id": "eKuYFE0UwxEk"
      },
      "source": [
        "Перед заполнением базы данных убедитесь, что вы все еще подключены к базе данных, для повторного подключения вы можете использовать следующие команды:"
      ]
    },
    {
      "cell_type": "code",
      "execution_count": 6,
      "metadata": {
        "collapsed": true,
        "id": "sDNMG7vtwxEk"
      },
      "outputs": [],
      "source": [
        "conn = sqlite3.connect('cinema.db', timeout = 10)\n",
        "c = conn.cursor()"
      ]
    },
    {
      "cell_type": "markdown",
      "metadata": {
        "id": "PYPtuitawxEk"
      },
      "source": [
        "Перед вставкой данных в таблицу может потребоваться проверить доступные столбцы и их имена. Вы можете изучить информацию таблицы (например, «Фильмы») с помощью следующих команд. Обратите внимание, что каждый раз, когда вы пытаетесь получить данные из БД, вам нужно отправить запрос, а затем fetchall() выбранные данные."
      ]
    },
    {
      "cell_type": "code",
      "execution_count": 7,
      "metadata": {
        "id": "BWm_juO_wxEk",
        "outputId": "d175c862-4468-4c44-e59f-c2f98a7c2076",
        "colab": {
          "base_uri": "https://localhost:8080/"
        }
      },
      "outputs": [
        {
          "output_type": "stream",
          "name": "stdout",
          "text": [
            "(0, 'movie_ID', 'INTEGER', 0, None, 1)\n",
            "(1, 'title_en', 'VARCHAR', 0, None, 0)\n",
            "(2, 'title_IT', 'VARCHAR', 0, None, 0)\n",
            "(3, 'movie_year', 'INT', 0, None, 0)\n",
            "(4, 'genre', 'VARCHAR', 0, None, 0)\n",
            "(5, 'watched', 'INT', 0, None, 0)\n"
          ]
        }
      ],
      "source": [
        "c.execute('PRAGMA table_info(Movies);') #\n",
        "data = c.fetchall()\n",
        "for row in data:\n",
        "    print(row)"
      ]
    },
    {
      "cell_type": "markdown",
      "metadata": {
        "id": "HMF6-JZJwxEl"
      },
      "source": [
        "Теперь вы можете вставить свою первую «строку» в одну из таблиц с помощью следующей команды:\n",
        "\n",
        "**INSERT INTO table_name (column1, column2,...)  \n",
        "VALUES (value1, value2, ...)**"
      ]
    },
    {
      "cell_type": "code",
      "execution_count": 8,
      "metadata": {
        "id": "xLgev2y2wxEl"
      },
      "outputs": [],
      "source": [
        "c.execute(\"INSERT INTO Movies (title_en, movie_year) VALUES ('the daughter', 2015);\")\n",
        "conn.commit()"
      ]
    },
    {
      "cell_type": "markdown",
      "metadata": {
        "id": "SsrqZoclwxEl"
      },
      "source": [
        "\n",
        "Обратите внимание, что после каждого INSERT данные должны быть зафиксированы, чтобы вставка вступила в силу. Также обратите внимание, что если первичный ключ определен как INTEGER, то его можно опустить в запросе INSERT, и будет присвоено автоматическое инкрементное значение."
      ]
    },
    {
      "cell_type": "code",
      "execution_count": 9,
      "metadata": {
        "collapsed": true,
        "id": "xE9ml1-2wxEm"
      },
      "outputs": [],
      "source": [
        "c.execute(\"INSERT INTO Movies (title_en, movie_year, watched, genre) \\\n",
        "          VALUES ('the circle', 2017, 1, 'sci-fi'),                  \\\n",
        "                 ('the beauty and the beast', 2017, 1, 'fantasy'),   \\\n",
        "                 ('interstellar', 2014, 1, 'sci-fi'),                \\\n",
        "                 ('the martian', 2015, 1, 'sci-fi')                  \\\n",
        "          ;\")\n",
        "conn.commit()   # insert multiple movies with a single query"
      ]
    },
    {
      "cell_type": "markdown",
      "metadata": {
        "id": "rpwI6xO1wxEm"
      },
      "source": [
        "Давайте также вставим несколько акторов, а затем посмотрим, как мы можем связать таблицы с помощью внешних ключей:"
      ]
    },
    {
      "cell_type": "code",
      "execution_count": 10,
      "metadata": {
        "id": "cFO-DuLXwxEn"
      },
      "outputs": [],
      "source": [
        "c.execute(\"INSERT INTO Actors (actor_Fname, actor_Lname, actor_birthYear)  \\\n",
        "          VALUES ('Emma', 'Watson', 1990),                                 \\\n",
        "                 ('Matt', 'Damon', 1970)                                   \\\n",
        "          ;\")\n",
        "conn.commit()"
      ]
    },
    {
      "cell_type": "markdown",
      "metadata": {
        "id": "ruZlpRHlwxEn"
      },
      "source": [
        "Теперь мы готовы вставить данные в таблицы отношений, и, поскольку эти таблицы содержат внешние ключи, нам нужно убедиться, что мы правильно их извлекли, выбрав эти ключи из соответствующих таблиц. В этом случае мы будем использовать условие WHERE для их идентификации."
      ]
    },
    {
      "cell_type": "code",
      "execution_count": 11,
      "metadata": {
        "id": "V03BMVIHwxEn"
      },
      "outputs": [],
      "source": [
        "c.execute(\"INSERT INTO starred_in (actor_ID, movie_ID)   \\\n",
        "          SELECT actor_ID, movie_ID                      \\\n",
        "          FROM Actors, Movies                            \\\n",
        "          WHERE actor_Fname = 'Matt'                     \\\n",
        "          AND title_en = 'the martian';     \\\n",
        "          \")\n",
        "conn.commit()"
      ]
    },
    {
      "cell_type": "markdown",
      "metadata": {
        "id": "l0soFHngwxEn"
      },
      "source": [
        "Заметьте, что было бы гораздо проще вставить в эту таблицу (и во все таблицы реляций), если бы PRIMARY KEY был известным нам значением, например, имя актера или название фильма. Тем не менее, мы должны знать его правильно и убедиться, что название фильма никогда не является двусмысленным (иначе не может работать как PK, потому что это не уникальный идентификатор). В этой ситуации часто разумнее использовать СУРРОГАТНЫЕ КЛЮЧИ, т.е. инкрементные целые числа, которые действуют как КЛЮЧ, хотя и делают запросы более вложенными для записи."
      ]
    },
    {
      "cell_type": "markdown",
      "metadata": {
        "id": "Mt2QUazTwxEo"
      },
      "source": [
        "## 5. Запрос данных"
      ]
    },
    {
      "cell_type": "markdown",
      "metadata": {
        "id": "PHbvKRAbwxEo"
      },
      "source": [
        "Теперь мы готовы приступить к запросу данных и пожинать плоды нашей работы. Даже если БД содержит всего несколько записей, легко представить мощь этого подхода, когда ее размер увеличивается на много порядков.\n",
        "\n",
        "Основная команда, чтобы научиться извлекать данные:\n",
        "\n",
        "** SELECT column1, column2, ... FROM table_name**"
      ]
    },
    {
      "cell_type": "code",
      "execution_count": 12,
      "metadata": {
        "id": "4u9yNCQFwxEp",
        "outputId": "e0c9129f-0ef6-4c75-ca53-69f5fb3c82c0",
        "colab": {
          "base_uri": "https://localhost:8080/"
        }
      },
      "outputs": [
        {
          "output_type": "stream",
          "name": "stdout",
          "text": [
            "('Emma', 'Watson')\n",
            "('Matt', 'Damon')\n"
          ]
        }
      ],
      "source": [
        "c.execute(\"SELECT actor_Fname, actor_Lname FROM Actors;\")\n",
        "data = c.fetchall()\n",
        "for row in data: print(row)"
      ]
    },
    {
      "cell_type": "markdown",
      "metadata": {
        "id": "iHdv_YHRwxEp"
      },
      "source": [
        "Обратите внимание, что опять же данные должны быть извлечены для печати.\n",
        "\n",
        "Синтаксис команды SELECT очень богат, и вот команда::\n",
        "\n",
        "**SELECT column  \n",
        "FROM table_name  \n",
        "WHERE condiiton  \n",
        "GROUP BY column  \n",
        "ORDER BY column  \n",
        "LIMIT number**\n",
        "\n",
        "Каждый столбец и таблица могут быть вызваны с помощью ALIAS (SELECT column1 AS c1) для упрощения запроса. WHERE поддерживает логическую логику, такую как AND, OR, IS, ISN, NOT, like regex..., а также GROUP BY и ORDER BY могут иметь несколько уровней, и, наконец, LIMIT поддерживает как смещение, так и диапазон.\n",
        "\n",
        "Итак, как вы видите, синтаксис богат и позволяет проводить сложный анализ по мере введения других операторов, таких как SUM(), COUNT(), MAX(), AVERAGE(), etcc.\n",
        "\n",
        "Вот пример более сложного запроса, где мы ищем актеров старше меня, чье имя начинается с буквы \"m\" (SQL не чувствителен к регистру!!)."
      ]
    },
    {
      "cell_type": "code",
      "execution_count": 13,
      "metadata": {
        "id": "JCZU5TGTwxEp",
        "outputId": "844d26b6-03ed-44ac-a2e8-6a3e54fc5a58",
        "colab": {
          "base_uri": "https://localhost:8080/"
        }
      },
      "outputs": [
        {
          "output_type": "stream",
          "name": "stdout",
          "text": [
            "(2, 'Matt', 'Damon', 1970)\n"
          ]
        }
      ],
      "source": [
        "c.execute(\"SELECT *                      \\\n",
        "          FROM Actors                    \\\n",
        "          WHERE actor_birthYear < 1986   \\\n",
        "          AND actor_Fname LIKE 'm%';     \\\n",
        "          \" )\n",
        "data = c.fetchall()\n",
        "for row in data: print(row)"
      ]
    },
    {
      "cell_type": "markdown",
      "metadata": {
        "id": "fCZEmnIVwxEq"
      },
      "source": [
        "## 5. Запрос к нескольким таблицам с помощью \"JOIN\"\n",
        "\n",
        "JOIN\" является очень важной командой для более сложных запросов. Это позволяет по-настоящему использовать потенциал реляционных баз данных, выискивая определенные подмножества данных, распределенных по нескольким таблицам, сохраняя при этом вычислительную эффективность.\n",
        "\n",
        "Существуют различные виды операций JOINING, которые соответствуют различным эквивалентам теории множеств:\n",
        "\n",
        "\n",
        "\n",
        "**INNER JOIN = set intersection**  \n",
        "**OUTER JOIN = set union**  \n",
        "**RIGHT/LEFT JOIN = union with intersection**\n",
        "\n",
        "Более подробную информацию можно найти на https://www.codeproject.com/Articles/33052/Visual-Representation-of-SQL-Joins.\n",
        "\n",
        "Здесь мы продемонстрируем использование INNER JOIN только в двух случаях:"
      ]
    },
    {
      "cell_type": "code",
      "execution_count": 14,
      "metadata": {
        "id": "UvTdw-qQwxEq",
        "outputId": "5b7cd5af-66c7-493a-82d3-711f54face2a",
        "colab": {
          "base_uri": "https://localhost:8080/"
        }
      },
      "outputs": [
        {
          "output_type": "stream",
          "name": "stdout",
          "text": [
            "ID, Fname, Lname, Year, s_ID, m_ID\n",
            "(2, 'Matt', 'Damon', 1970, 2, 5)\n"
          ]
        }
      ],
      "source": [
        "print('ID, Fname, Lname, Year, s_ID, m_ID')\n",
        "c.execute(\"SELECT *                               \\\n",
        "          FROM Actors a                           \\\n",
        "          INNER JOIN starred_in s                 \\\n",
        "          ON a.actor_ID=s.actor_ID                \\\n",
        "          ;\" )\n",
        "data = c.fetchall()\n",
        "for row in data: print(row)"
      ]
    },
    {
      "cell_type": "markdown",
      "metadata": {
        "id": "Xhrp0AM6wxEs"
      },
      "source": [
        "Обратите внимание, что quary сообщает о первых 4 столбцах из таблицы Actors и последних 2 столбцах из таблицы starred_in. Поэтому здесь мы соединили таблицы \"Actors\" и \"starred_in\", связав их с оператором \"ON\", который указывает, какие столбцы должны быть сравнены для связывания.\n",
        "\n",
        "В результате мы нашли пересечение двух таблиц, по сути, мы не получили имени какого-либо другого актера, потому что в текущей БД они не привязаны ни к одному фильму."
      ]
    },
    {
      "cell_type": "markdown",
      "metadata": {
        "id": "oZ1VpTxowxEt"
      },
      "source": [
        "#### Crossing several relationship levels\n",
        "\n",
        "If we want to select actors that star in a certain movie (and we don't know the movie_ID off the top of our head) we have to reach across one more level to make this connection. Please notice how Actors and Movies are not directly linked in the ERD:\n",
        "\n",
        "<img src=\"erd_cinema_highlight.png\" style=\"width: 500px;\"/>"
      ]
    },
    {
      "cell_type": "markdown",
      "metadata": {
        "id": "2unGfFlUwxEu"
      },
      "source": [
        "This operation can be done by nesting as many JOIN statements as the links that have to be crossed in the ERD. In this example we will start from the Actors and select only those that intersect with a set made of the intersection between the \"starred_in\" table and the \"Movies\" set where our condition on the title is set.  \n",
        "\n",
        "So, let's SELECT the Actors that star into the movie \"the beauty and the beast\":"
      ]
    },
    {
      "cell_type": "code",
      "execution_count": 15,
      "metadata": {
        "id": "bs1XUWULwxEu"
      },
      "outputs": [],
      "source": [
        "c.execute(\"SELECT * FROM Movies m INNER JOIN (         \\\n",
        "          SELECT movie_ID FROM starred_in s            \\\n",
        "          INNER JOIN Actors a ON a.actor_ID=s.actor_ID \\\n",
        "          WHERE a.actor_Lname = 'Watson'\\\n",
        "          ) sm ON m.movie_ID=sm.movie_ID;\" )\n",
        "data = c.fetchall()\n",
        "for row in data: print(row)"
      ]
    },
    {
      "cell_type": "markdown",
      "metadata": {
        "id": "v-QAcL-_wxEv"
      },
      "source": [
        "It will look cryptic for the first 10 minutes, and it's OK. To help you crack it, notice how the first INNER JOIN intersects the Actors with a set created by the query itself and contained between \"()\". This intermediate set is created with another SELECT statement that contains a nested INNER JOIN between the \"starred_in\" and the \"Movies\" table."
      ]
    },
    {
      "cell_type": "markdown",
      "metadata": {
        "id": "cn_6T3PzwxEv"
      },
      "source": [
        "#### How to add an extra column"
      ]
    },
    {
      "cell_type": "code",
      "execution_count": 16,
      "metadata": {
        "id": "OQq5AWMOwxEv"
      },
      "outputs": [],
      "source": [
        "c.execute(\"ALTER TABLE Movies ADD COLUMN comment VARCHAR;\" )\n",
        "# In theory I would use a BOOLEAN type but SQLite doesn't have it\n",
        "conn.commit()"
      ]
    },
    {
      "cell_type": "code",
      "execution_count": 17,
      "metadata": {
        "id": "KjWB5UHUwxEv",
        "outputId": "2496a047-82a4-45f5-d16a-7bd64425d07a",
        "colab": {
          "base_uri": "https://localhost:8080/"
        }
      },
      "outputs": [
        {
          "output_type": "execute_result",
          "data": {
            "text/plain": [
              "[(0, 'movie_ID', 'INTEGER', 0, None, 1),\n",
              " (1, 'title_en', 'VARCHAR', 0, None, 0),\n",
              " (2, 'title_IT', 'VARCHAR', 0, None, 0),\n",
              " (3, 'movie_year', 'INT', 0, None, 0),\n",
              " (4, 'genre', 'VARCHAR', 0, None, 0),\n",
              " (5, 'watched', 'INT', 0, None, 0),\n",
              " (6, 'comment', 'VARCHAR', 0, None, 0)]"
            ]
          },
          "metadata": {},
          "execution_count": 17
        }
      ],
      "source": [
        "c.execute('PRAGMA table_info(Movies);')\n",
        "data=c.fetchall()\n",
        "data"
      ]
    },
    {
      "cell_type": "markdown",
      "metadata": {
        "id": "egAksNfPwxEw"
      },
      "source": [
        "**More population quaryies**"
      ]
    },
    {
      "cell_type": "code",
      "source": [
        "#c.execute(\"INSERT INTO Movies (title_en, movie_year, watched, genre) \\\n",
        " #         VALUES ('jurassic park',2017, 1, 'sci-fi');\")"
      ],
      "metadata": {
        "id": "oWZldH7YeF4v"
      },
      "execution_count": 18,
      "outputs": []
    },
    {
      "cell_type": "code",
      "execution_count": 19,
      "metadata": {
        "id": "p1LLjEedwxEw"
      },
      "outputs": [],
      "source": [
        "# Multiple MOVIES\n",
        "c.execute(\"INSERT INTO Movies (title_en, movie_year, watched, genre) \\\n",
        "          VALUES ('jurassic park',2017, 1, 'sci-fi');\")\n",
        "conn.commit()   # insert multiple movies with a single query"
      ]
    },
    {
      "cell_type": "code",
      "execution_count": null,
      "metadata": {
        "collapsed": true,
        "id": "XyECt1NBwxEx"
      },
      "outputs": [],
      "source": [
        "# Multiple ACTORS\n",
        "c.execute(\"INSERT INTO Actors (actor_Fname, actor_Lname, actor_birthYear) \\\n",
        "          VALUES ('Geoffrey', 'Rush', 1951),                             \\\n",
        "                 ('Sam', 'Neill', 1947),                           \\\n",
        "                 ('Miranda', 'Otto', 1967),                \\\n",
        "                 ('Uma', 'Thurmann', 1970),                                \\\n",
        "                 ('John', 'Travolta', 1954),         \\\n",
        "                 ('Samuel', 'Jackson', 1948),           \\\n",
        "                 ('Christof', 'Walts', 1956),           \\\n",
        "                 ('Bruce', 'Willis', 1955),             \\\n",
        "                 ('Christopher', 'Walken', 1943),       \\\n",
        "                 ('Quentin', 'Tarantino', 1963),        \\\n",
        "                 ('Leonardo', 'Di Caprio', 1974),    \\\n",
        "                 ('Jack', 'Nicholson', 1937),         \\\n",
        "                 ('Morgan', 'Freeman', 1937),           \\\n",
        "                 ('Tom', 'Hanks', 1956),          \\\n",
        "                 ('Owen', 'Wilson', 1968),            \\\n",
        "                 ('Cameron', 'Diaz', 1972),          \\\n",
        "                 ('Jim', 'Carrey', 1962),          \\\n",
        "                 ('Jim', 'Broadbent', 1949),    \\\n",
        "                 ('Liam', 'Neeson', 1952),      \\\n",
        "                 ('Will', 'Smith', 1968),            \\\n",
        "                 ('Robert', 'Downey', 1965),          \\\n",
        "                 ('Kirsten', 'Dunst', 1982),         \\\n",
        "                 ('Chris', 'Evans', 1981),          \\\n",
        "                 ('Mark', 'Ruffalo', 1967),        \\\n",
        "                 ('Scarlett', 'Johannson', 1984),   \\\n",
        "                 ('Gwynett', 'Paltrow', 1972),     \\\n",
        "                 ('Liv', 'Tyler', 1977)        \\\n",
        "          ;\")\n",
        "conn.commit()   # insert multiple movies with a single query"
      ]
    },
    {
      "cell_type": "code",
      "execution_count": 20,
      "metadata": {
        "collapsed": true,
        "id": "LlSaKjHpwxEy"
      },
      "outputs": [],
      "source": [
        "# MOVIE ACTOR RELATIONSHIP\n",
        "c.execute(\"INSERT INTO starred_in (actor_ID, movie_ID)   \\\n",
        "          SELECT actor_ID, movie_ID                      \\\n",
        "          FROM Actors, Movies                            \\\n",
        "          WHERE actor_Lname = 'Corbett'                     \\\n",
        "          AND title_IT LIKE 'il mio grosso%';     \\\n",
        "          \")\n",
        "conn.commit()"
      ]
    },
    {
      "cell_type": "code",
      "execution_count": 21,
      "metadata": {
        "collapsed": true,
        "id": "cVLQAJfKwxEy"
      },
      "outputs": [],
      "source": [
        "c.execute(\"INSERT INTO Directors (director_Fname, director_Lname)  \\\n",
        "          VALUES ('Quentin', 'Tarantino'),                         \\\n",
        "          ('Martin', 'Scorsese'),                                  \\\n",
        "          ('Steven', 'Spielberg'),                                 \\\n",
        "          ('Christopher', 'Nolan'),                                \\\n",
        "          ('Stanley', 'Kybrick'),                                  \\\n",
        "          ('Alfred', 'Hitchcock'),                                 \\\n",
        "          ('Woody', 'Allen')                                       \\\n",
        "          \")\n",
        "conn.commit()"
      ]
    },
    {
      "cell_type": "code",
      "execution_count": 22,
      "metadata": {
        "collapsed": true,
        "id": "icMdwPtYwxEz"
      },
      "outputs": [],
      "source": [
        "# MOVIE-director RELATIONSHIP\n",
        "c.execute(\"INSERT INTO directed_by (director_ID, movie_ID)   \\\n",
        "          SELECT director_ID, movie_ID                      \\\n",
        "          FROM Directors, Movies                            \\\n",
        "          WHERE director_Lname = 'Spielberg'                     \\\n",
        "          AND title_en LIKE 'save%';     \\\n",
        "          \")\n",
        "conn.commit()"
      ]
    },
    {
      "cell_type": "code",
      "execution_count": 23,
      "metadata": {
        "id": "0XT2z04bwxEz"
      },
      "outputs": [],
      "source": [
        "c.execute(\"INSERT OR IGNORE INTO Movies (title_en, movie_year, watched, genre) \\\n",
        "          VALUES ('jurassic park', 1993, 1, 'sci-fi');\")\n",
        "conn.commit()"
      ]
    },
    {
      "cell_type": "markdown",
      "metadata": {
        "id": "Os3KwgEawxE0"
      },
      "source": [
        "Here is how to delete entries:"
      ]
    },
    {
      "cell_type": "code",
      "execution_count": 24,
      "metadata": {
        "id": "md1KR1J8wxE0"
      },
      "outputs": [],
      "source": [
        "c.execute(\"DELETE FROM Movies WHERE title_en LIKE 'jurassic%';\")\n",
        "conn.commit()"
      ]
    },
    {
      "cell_type": "markdown",
      "metadata": {
        "id": "F1khKWmlwxE0"
      },
      "source": [
        "Here is how to check how many rows have been affected by the last changes, and check if an INSERT or DELECT, ecc has been successful."
      ]
    },
    {
      "cell_type": "code",
      "execution_count": 25,
      "metadata": {
        "id": "os8zYrL9wxE1",
        "outputId": "f295dae1-dee1-40b6-e738-dbb92f90234b",
        "colab": {
          "base_uri": "https://localhost:8080/"
        }
      },
      "outputs": [
        {
          "output_type": "stream",
          "name": "stdout",
          "text": [
            "[(2,)]\n"
          ]
        }
      ],
      "source": [
        "c.execute(\"SELECT changes();\")\n",
        "result = c.fetchall()\n",
        "print(result)"
      ]
    },
    {
      "cell_type": "markdown",
      "metadata": {
        "id": "_XmwFzTawxE2"
      },
      "source": [
        "## 6. Let's automate the process a bit\n",
        "\n",
        "Now this is great and fun, but every query is a lot of writing, and we might want to repeat the same or a similar quary for many different values, both in data entry and in data analysis. So what we have to do is to create customized functions that will \"edit\" the query for us. And eventually programmatically perform data entry from verious structured or unstructured lists.\n",
        "\n",
        "First of all we need to start by creating low level functions that perform basic operations, like inserting in a single value in a single table from structured variables, and from there create higher level functions that perform more flexible operations."
      ]
    },
    {
      "cell_type": "code",
      "execution_count": 26,
      "metadata": {
        "collapsed": true,
        "id": "FSTuPAvkwxE2"
      },
      "outputs": [],
      "source": [
        "def singleTable_entry(table, column, data):\n",
        "    \"\"\"This function formats the query and commits an entry to DB\n",
        "\n",
        "    Parameters:\n",
        "        table = 'table_name' as a string\n",
        "        column = ['colum1', 'column2',..] is a list of strings\n",
        "        data = [123, 'name', 456, ...] is a list of strings and integers\n",
        "\n",
        "    Returns:\n",
        "        \"str\" with SQLite command to insert DATA into COLUMN\n",
        "    \"\"\"\n",
        "\n",
        "    for i in range(len(data)):\n",
        "\n",
        "        # check for datatype and format accordingly\n",
        "        if isinstance(data[i], str):\n",
        "            data[i] = str(\"'\" + data[i] + \"'\")\n",
        "\n",
        "        elif isinstance(data[i], int):\n",
        "            data[i] = str(data[i])\n",
        "\n",
        "    # join list elements into one string\n",
        "    column = ', '.join(column)\n",
        "    data = ', '.join(data)\n",
        "\n",
        "    #create command string\n",
        "    cmd = 'INSERT INTO %s (%s) VALUES(%s);' %(table, column, data)\n",
        "\n",
        "    return cmd"
      ]
    },
    {
      "cell_type": "markdown",
      "metadata": {
        "id": "Beo0qNPkwxE5"
      },
      "source": [
        "with this function we can get the query already fromatted starting from structured data like so:"
      ]
    },
    {
      "cell_type": "code",
      "execution_count": 27,
      "metadata": {
        "id": "LR4Bw4powxE5",
        "outputId": "81390420-bdad-45aa-9eac-d7f8b895fa2b",
        "colab": {
          "base_uri": "https://localhost:8080/",
          "height": 35
        }
      },
      "outputs": [
        {
          "output_type": "execute_result",
          "data": {
            "text/plain": [
              "\"INSERT INTO my_table (my_column1, my_column2, my_column3, my_column3) VALUES('bablabal', 123456, 'blabla2', 58);\""
            ],
            "application/vnd.google.colaboratory.intrinsic+json": {
              "type": "string"
            }
          },
          "metadata": {},
          "execution_count": 27
        }
      ],
      "source": [
        "# some structured data\n",
        "table = 'my_table'\n",
        "column = ['my_column1', 'my_column2', 'my_column3', 'my_column3']\n",
        "value = ['bablabal', 123456, 'blabla2', 58]\n",
        "\n",
        "#let's use the function on this data\n",
        "singleTable_entry(table, column, value)"
      ]
    },
    {
      "cell_type": "markdown",
      "metadata": {
        "id": "PAVkzK5cwxE6"
      },
      "source": [
        "Notice that the function has been written to recognize two datatypes (str, int) and to format the query to respect that."
      ]
    },
    {
      "cell_type": "code",
      "execution_count": 27,
      "metadata": {
        "collapsed": true,
        "id": "bdvK269HwxE7"
      },
      "outputs": [],
      "source": []
    },
    {
      "cell_type": "code",
      "execution_count": 27,
      "metadata": {
        "collapsed": true,
        "id": "8G1WGpD_wxE7"
      },
      "outputs": [],
      "source": []
    },
    {
      "cell_type": "code",
      "execution_count": 27,
      "metadata": {
        "collapsed": true,
        "id": "Dg1NAc4HwxE7"
      },
      "outputs": [],
      "source": []
    },
    {
      "cell_type": "code",
      "execution_count": 28,
      "metadata": {
        "id": "dRlEjeudwxE8"
      },
      "outputs": [],
      "source": [
        "import sqlite3\n",
        "\n",
        "conn = sqlite3.connect('cinema.db', timeout = 10)\n",
        "c = conn.cursor()"
      ]
    },
    {
      "cell_type": "code",
      "execution_count": 29,
      "metadata": {
        "collapsed": true,
        "id": "EJfKm3JrwxE8"
      },
      "outputs": [],
      "source": [
        "c.close()\n",
        "conn.close()"
      ]
    },
    {
      "cell_type": "code",
      "execution_count": 29,
      "metadata": {
        "collapsed": true,
        "id": "uJ7LTR_SwxE8"
      },
      "outputs": [],
      "source": []
    }
  ],
  "metadata": {
    "kernelspec": {
      "display_name": "Python 3",
      "language": "python",
      "name": "python3"
    },
    "language_info": {
      "codemirror_mode": {
        "name": "ipython",
        "version": 3
      },
      "file_extension": ".py",
      "mimetype": "text/x-python",
      "name": "python",
      "nbconvert_exporter": "python",
      "pygments_lexer": "ipython3",
      "version": "3.6.0"
    },
    "colab": {
      "provenance": []
    }
  },
  "nbformat": 4,
  "nbformat_minor": 0
}