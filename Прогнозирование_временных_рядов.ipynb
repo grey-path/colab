{
  "nbformat": 4,
  "nbformat_minor": 0,
  "metadata": {
    "colab": {
      "provenance": []
    },
    "kernelspec": {
      "name": "python3",
      "display_name": "Python 3"
    },
    "language_info": {
      "name": "python"
    }
  },
  "cells": [
    {
      "cell_type": "markdown",
      "source": [
        "### Задача прогнозирования\n",
        "Разберём задачу прогнозирования временных рядов.\n",
        "\n",
        "Задача прогнозирования временного ряда состоит в построении модели, которая по историческим данным предскажет будущие значения временного ряда.\n",
        "Промежуток времени в будущем, на который строится прогноз, называется горизонтом прогнозирования (англ.  forecast horizon). В задачах этой темы он будет равен одному шагу.\n",
        "\n",
        "Если значения временного ряда, или функция x(t), где t — время, — это числа, то перед вами задача регрессии для временных рядов; если категории — задача классификации.\n",
        "\n",
        "Например, к задачам прогнозирования рядов относятся предсказания:\n",
        "- количества заказов такси на следующий час,\n",
        "- объёма доставок курьерской службы на следующий день,\n",
        "- объёма спроса на товары в интернет-магазине на следующей неделе.\n",
        "\n",
        "По исходным данным создадим обучающую (train) и тестовую (test) выборки.\n",
        "\n",
        "Перемешивать выборки в задаче прогнозирования временного ряда нельзя.\n",
        "\n",
        "Данные обучающей выборки должны предшествовать данным тестовой. Иначе тестирование модели будет некорректным: модель не должна обучаться на данных из будущего.\n",
        "<img src ='https://github.com/trisha00001/file/blob/main/traintest_1581893884.jpg?raw=true'>"
      ],
      "metadata": {
        "id": "P1vmKmZGJJ6X"
      }
    },
    {
      "cell_type": "markdown",
      "source": [
        "Функция train_test_split() из модуля sklearn.model_selection по умолчанию перемешивает данные. Поэтому укажем аргумент shuffle (с англ. «перетасовывать») равным False, чтобы разделить данные корректно:"
      ],
      "metadata": {
        "id": "8lESzKAlJKGE"
      }
    },
    {
      "cell_type": "code",
      "execution_count": null,
      "metadata": {
        "colab": {
          "base_uri": "https://localhost:8080/"
        },
        "id": "8q1-tLZsI-Ou",
        "outputId": "ce7ccbff-5657-4f22-e025-688880593048"
      },
      "outputs": [
        {
          "output_type": "stream",
          "name": "stdout",
          "text": [
            "Обучающая выборка:\n",
            "0    0.1\n",
            "1    0.5\n",
            "2    2.3\n",
            "3    1.2\n",
            "dtype: float64\n",
            "Тестовая выборка:\n",
            "4    1.5\n",
            "dtype: float64\n"
          ]
        }
      ],
      "source": [
        "import pandas as pd\n",
        "from sklearn.model_selection import train_test_split\n",
        "\n",
        "data = pd.Series([0.1, 0.5, 2.3, 1.2, 1.5])\n",
        "train, test = train_test_split(data, shuffle=False, test_size=0.2)\n",
        "print('Обучающая выборка:')\n",
        "print(train)\n",
        "print('Тестовая выборка:')\n",
        "print(test)"
      ]
    },
    {
      "cell_type": "markdown",
      "source": [
        "Таким же образом данные делятся на три выборки: обучающую, валидационную и тестовую."
      ],
      "metadata": {
        "id": "rnWb_ITmZlWt"
      }
    },
    {
      "cell_type": "markdown",
      "source": [
        "## Задача\n",
        "\n",
        "Разбейте датасет о потреблении электроэнергии на обучающую и тестовую выборки в соотношении 4:1. Возьмите данные за доступное время.\n",
        "\n",
        "Напечатайте на экране минимальные и максимальные значения индексов выборок (уже в прекоде). Они нужны, чтобы убедиться в корректности деления."
      ],
      "metadata": {
        "id": "i7VgKesHp3fu"
      }
    },
    {
      "cell_type": "code",
      "source": [
        "import pandas as pd\n",
        "from sklearn.model_selection import train_test_split\n",
        "\n",
        "data = pd.read_csv('https://raw.githubusercontent.com/trisha00001/file/main/energy_consumption.csv', index_col=[0], parse_dates=[0])\n",
        "data.sort_index(inplace=True)\n",
        "data = data.resample('1D').sum()\n",
        "\n",
        "train, test = train_test_split(data, shuffle=False, test_size=0.2)\n",
        "print(train.index.min(), train.index.max())\n",
        "print(test.index.min(), test.index.max())"
      ],
      "metadata": {
        "colab": {
          "base_uri": "https://localhost:8080/"
        },
        "id": "exabssVuZkbW",
        "outputId": "27e49a30-4041-44da-d993-1650279830e9"
      },
      "execution_count": null,
      "outputs": [
        {
          "output_type": "stream",
          "name": "stdout",
          "text": [
            "2002-01-01 00:00:00 2015-04-09 00:00:00\n",
            "2015-04-10 00:00:00 2018-08-03 00:00:00\n"
          ]
        }
      ]
    },
    {
      "cell_type": "markdown",
      "source": [
        "###Качество прогноза\n",
        "Научимся измерять качество предсказания временных рядов и проверять модели на адекватность.\n",
        "\n",
        "Обучим модель с горизонтом прогнозирования в один день. Такие модели пригодятся в автоматизации принятия технических решений. Например, в задаче энергопотребления модель поможет изменять режим работы генераторов автоматически.\n",
        "\n",
        "Чтобы проверять качество моделей в наших задачах, возьмём метрику MAE. Её можно легко интерпретировать.\n",
        "\n",
        "Спрогнозировать временные ряды без обучения можно двумя способами:\n",
        "1. Все значения тестовой выборки предсказываются одним и тем же числом (константой). Для метрики MAE — это медиана.\n",
        "2. Новое значение x(t) прогнозируется предыдущим значением ряда, то есть x(t-1). Этот способ не зависит от метрики."
      ],
      "metadata": {
        "id": "_swX239iqKcy"
      }
    },
    {
      "cell_type": "markdown",
      "source": [
        "1. Оцените модель первым способом — прогнозом константой. Дневной объём электропотребления предскажите медианой, сохраните значения в переменной pred_median и найдите для этого прогноза значение MAE.\n",
        "\n",
        "В прекоде указан средний объём электропотребления, чтобы вы смогли соотнести его со значением метрики MAE.\n",
        "\n",
        "Напечатайте на экране значения среднего объёма электропотребления и метрики MAE (уже в прекоде)."
      ],
      "metadata": {
        "id": "jyQJQg8sqlSd"
      }
    },
    {
      "cell_type": "code",
      "source": [
        "import pandas as pd\n",
        "import numpy as np\n",
        "from sklearn.model_selection import train_test_split\n",
        "from sklearn.metrics import mean_absolute_error\n",
        "\n",
        "data = pd.read_csv('https://raw.githubusercontent.com/trisha00001/file/main/energy_consumption.csv', index_col=[0], parse_dates=[0])\n",
        "data.sort_index(inplace=True)\n",
        "data = data.resample('1D').sum()\n",
        "\n",
        "train, test = train_test_split(data, shuffle=False, test_size=0.2)\n",
        "\n",
        "\n",
        "print(\"Средний объём электропотребления в день:\", test['PJME_MW'].mean())\n",
        "\n",
        "pred_median = np.ones(test.shape) * train['PJME_MW'].median()\n",
        "print(\"MAE:\", mean_absolute_error(test ,pred_median))"
      ],
      "metadata": {
        "colab": {
          "base_uri": "https://localhost:8080/"
        },
        "id": "EIWyKXexqfPX",
        "outputId": "8b3290b1-986a-4d6a-c5de-4e7d4fab2614"
      },
      "execution_count": null,
      "outputs": [
        {
          "output_type": "stream",
          "name": "stdout",
          "text": [
            "Средний объём электропотребления в день: 745523.4529702971\n",
            "MAE: 96625.08333333333\n"
          ]
        }
      ]
    },
    {
      "cell_type": "markdown",
      "source": [
        "2. Оцените модель вторым способом — предыдущим значением ряда. Предскажите дневной объём электропотребления и найдите для этого прогноза значение MAE.\n",
        "\n",
        "В прекоде указан средний объём электропотребления, чтобы вы смогли соотнести его со значением метрики MAE.\n",
        "\n",
        "Напечатайте на экране значения среднего объёма электропотребления и метрики MAE (уже в прекоде)."
      ],
      "metadata": {
        "id": "cgpjxJxKqv4O"
      }
    },
    {
      "cell_type": "code",
      "source": [
        "import pandas as pd\n",
        "import numpy as np\n",
        "from sklearn.model_selection import train_test_split\n",
        "from sklearn.metrics import mean_absolute_error\n",
        "\n",
        "data = pd.read_csv('https://raw.githubusercontent.com/trisha00001/file/main/energy_consumption.csv', index_col=[0], parse_dates=[0])\n",
        "data.sort_index(inplace=True)\n",
        "data = data.resample('1D').sum()\n",
        "\n",
        "train, test = train_test_split(data, shuffle=False, test_size=0.2)\n",
        "\n",
        "print(\"Средний объём электропотребления в день:\", test['PJME_MW'].mean())\n",
        "\n",
        "pred_previous = test.shift()\n",
        "# заполняем первое значение\n",
        "pred_previous.iloc[0] = train.iloc[-1]\n",
        "print(\"MAE:\", mean_absolute_error(test, pred_previous))"
      ],
      "metadata": {
        "colab": {
          "base_uri": "https://localhost:8080/"
        },
        "id": "5-MsTeQzqwCt",
        "outputId": "53d465cd-75a5-4b36-e427-e38638414bca"
      },
      "execution_count": null,
      "outputs": [
        {
          "output_type": "stream",
          "name": "stdout",
          "text": [
            "Средний объём электропотребления в день: 745523.4529702971\n",
            "MAE: 44941.65924092409\n"
          ]
        }
      ]
    },
    {
      "cell_type": "markdown",
      "source": [
        "### Создание признаков\n",
        "Создадим признаки для горизонта прогнозирования в один шаг.\n",
        "Напишем функцию для создания признаков. Разберём каждый тип признаков:\n",
        "1. Календарные признаки (англ. calendar features)\n",
        "Во многих данных тренды и сезонность привязаны к конкретной дате. Тип datetime64 в Pandas уже содержит нужную информацию, осталось лишь представить её как отдельные столбцы. Рассмотрим пример:"
      ],
      "metadata": {
        "id": "PDqx-GOkrM15"
      }
    },
    {
      "cell_type": "code",
      "source": [
        "data = pd.read_csv('https://raw.githubusercontent.com/trisha00001/file/main/energy_consumption.csv', index_col=[0], parse_dates=[0])\n",
        "data.sort_index(inplace=True)\n",
        "data = data.resample('1D').sum()\n",
        "\n",
        "# признак, в котором хранится год как число\n",
        "data['year'] = data.index.year\n",
        "\n",
        "# признак, в котором хранится день недели как число\n",
        "data['dayofweek'] = data.index.dayofweek\n",
        "\n",
        "print(data.head(10))"
      ],
      "metadata": {
        "colab": {
          "base_uri": "https://localhost:8080/"
        },
        "id": "Ftqxpi3k1KND",
        "outputId": "26fa91b5-2d6d-4ae4-b879-9c9d2020483e"
      },
      "execution_count": null,
      "outputs": [
        {
          "output_type": "stream",
          "name": "stdout",
          "text": [
            "             PJME_MW  year  dayofweek\n",
            "Datetime                             \n",
            "2002-01-01  714857.0  2002          1\n",
            "2002-01-02  822277.0  2002          2\n",
            "2002-01-03  828285.0  2002          3\n",
            "2002-01-04  809171.0  2002          4\n",
            "2002-01-05  729723.0  2002          5\n",
            "2002-01-06  727766.0  2002          6\n",
            "2002-01-07  800012.0  2002          0\n",
            "2002-01-08  824710.0  2002          1\n",
            "2002-01-09  810628.0  2002          2\n",
            "2002-01-10  755317.0  2002          3\n"
          ]
        }
      ]
    },
    {
      "cell_type": "markdown",
      "source": [
        "2. «Отстающие значения» (англ. lag features)\n",
        "Предыдущие значения временного ряда подскажут, будет ли функция x(t) расти или уменьшаться. Получим отстающие значения знакомой функцией shift():\n"
      ],
      "metadata": {
        "id": "we1kiz891xkG"
      }
    },
    {
      "cell_type": "code",
      "source": [
        "data['lag_1'] = data['PJME_MW'].shift(1)\n",
        "data['lag_2'] = data['PJME_MW'].shift(2)\n",
        "data['lag_3'] = data['PJME_MW'].shift(3)\n",
        "\n",
        "print(data.head(10))"
      ],
      "metadata": {
        "colab": {
          "base_uri": "https://localhost:8080/"
        },
        "id": "mOkokVK_1ygN",
        "outputId": "d21c7b66-d266-40b5-b7f1-147b650d338e"
      },
      "execution_count": null,
      "outputs": [
        {
          "output_type": "stream",
          "name": "stdout",
          "text": [
            "             PJME_MW  year  dayofweek     lag_1     lag_2     lag_3\n",
            "Datetime                                                           \n",
            "2002-01-01  714857.0  2002          1       NaN       NaN       NaN\n",
            "2002-01-02  822277.0  2002          2  714857.0       NaN       NaN\n",
            "2002-01-03  828285.0  2002          3  822277.0  714857.0       NaN\n",
            "2002-01-04  809171.0  2002          4  828285.0  822277.0  714857.0\n",
            "2002-01-05  729723.0  2002          5  809171.0  828285.0  822277.0\n",
            "2002-01-06  727766.0  2002          6  729723.0  809171.0  828285.0\n",
            "2002-01-07  800012.0  2002          0  727766.0  729723.0  809171.0\n",
            "2002-01-08  824710.0  2002          1  800012.0  727766.0  729723.0\n",
            "2002-01-09  810628.0  2002          2  824710.0  800012.0  727766.0\n",
            "2002-01-10  755317.0  2002          3  810628.0  824710.0  800012.0\n"
          ]
        }
      ]
    },
    {
      "cell_type": "markdown",
      "source": [
        "Для первых дат есть не все отстающие значения, поэтому в этих строках стоят NaN.\n",
        "3. Скользящее среднее\n",
        "Скользящее среднее как признак задаёт общий тренд временного ряда. Повторим, как его вычислять:"
      ],
      "metadata": {
        "id": "7dffXCwL14UF"
      }
    },
    {
      "cell_type": "code",
      "source": [
        "data['rolling_mean'] = data['PJME_MW'].rolling(5).mean()\n",
        "\n",
        "print(data.head(10))"
      ],
      "metadata": {
        "colab": {
          "base_uri": "https://localhost:8080/"
        },
        "id": "4Aimf6Sq17g2",
        "outputId": "0555fb0a-7099-4b58-84aa-f8d6b66a4c94"
      },
      "execution_count": null,
      "outputs": [
        {
          "output_type": "stream",
          "name": "stdout",
          "text": [
            "             PJME_MW  year  dayofweek     lag_1     lag_2     lag_3  \\\n",
            "Datetime                                                              \n",
            "2002-01-01  714857.0  2002          1       NaN       NaN       NaN   \n",
            "2002-01-02  822277.0  2002          2  714857.0       NaN       NaN   \n",
            "2002-01-03  828285.0  2002          3  822277.0  714857.0       NaN   \n",
            "2002-01-04  809171.0  2002          4  828285.0  822277.0  714857.0   \n",
            "2002-01-05  729723.0  2002          5  809171.0  828285.0  822277.0   \n",
            "2002-01-06  727766.0  2002          6  729723.0  809171.0  828285.0   \n",
            "2002-01-07  800012.0  2002          0  727766.0  729723.0  809171.0   \n",
            "2002-01-08  824710.0  2002          1  800012.0  727766.0  729723.0   \n",
            "2002-01-09  810628.0  2002          2  824710.0  800012.0  727766.0   \n",
            "2002-01-10  755317.0  2002          3  810628.0  824710.0  800012.0   \n",
            "\n",
            "            rolling_mean  \n",
            "Datetime                  \n",
            "2002-01-01           NaN  \n",
            "2002-01-02           NaN  \n",
            "2002-01-03           NaN  \n",
            "2002-01-04           NaN  \n",
            "2002-01-05      780862.6  \n",
            "2002-01-06      783444.4  \n",
            "2002-01-07      778991.4  \n",
            "2002-01-08      778276.4  \n",
            "2002-01-09      778567.8  \n",
            "2002-01-10      783686.6  \n"
          ]
        }
      ]
    },
    {
      "cell_type": "markdown",
      "source": [
        "Скользящее среднее в моменте t учитывает текущее значение ряда x(t). Это некорректно: целевой признак «убежал» в признаки. Вычисление скользящего среднего не должно включать в себя текущее значение ряда."
      ],
      "metadata": {
        "id": "2Tmc4d5Q2AH9"
      }
    },
    {
      "cell_type": "markdown",
      "source": [
        "Задание\n",
        "\n",
        "1. Напишите функцию make_features() (англ. «создать признаки»), чтобы прибавить к таблице четыре новых календарных признака: год, месяц, день и день недели. Имена столбцов должны быть такие: 'year', 'month', 'day', 'dayofweek'.\n",
        "\n",
        "Примените функцию к таблице и напечатайте на экране её первые пять строк (уже в прекоде)."
      ],
      "metadata": {
        "id": "OzbFgR2S2TW-"
      }
    },
    {
      "cell_type": "code",
      "source": [
        "import pandas as pd\n",
        "import numpy as np\n",
        "\n",
        "\n",
        "data = pd.read_csv('https://raw.githubusercontent.com/trisha00001/file/main/energy_consumption.csv', index_col=[0], parse_dates=[0])\n",
        "data.sort_index(inplace=True)\n",
        "data = data.resample('1D').sum()\n",
        "\n",
        "def make_features(data):\n",
        "    data['year'] = data.index.year\n",
        "    data['month'] = data.index.month\n",
        "    data['day'] = data.index.day\n",
        "    data['dayofweek'] = data.index.dayofweek\n",
        "\n",
        "\n",
        "make_features(data)\n",
        "print(data.head())"
      ],
      "metadata": {
        "colab": {
          "base_uri": "https://localhost:8080/"
        },
        "id": "4OjVrXcE2aBt",
        "outputId": "99708b36-1aee-4b2d-d5c5-bcddd090a6e8"
      },
      "execution_count": null,
      "outputs": [
        {
          "output_type": "stream",
          "name": "stdout",
          "text": [
            "             PJME_MW  year  month  day  dayofweek\n",
            "Datetime                                         \n",
            "2002-01-01  714857.0  2002      1    1          1\n",
            "2002-01-02  822277.0  2002      1    2          2\n",
            "2002-01-03  828285.0  2002      1    3          3\n",
            "2002-01-04  809171.0  2002      1    4          4\n",
            "2002-01-05  729723.0  2002      1    5          5\n"
          ]
        }
      ]
    },
    {
      "cell_type": "markdown",
      "source": [
        "2. Вычислите отстающие значения. В функцию make_features() добавьте новый аргумент max_lag, который задаст максимальный размер отставания. Новые признаки назовите: 'lag_1', 'lag_2' — и до величины max_lag.\n",
        "\n",
        "Примените функцию к таблице и напечатайте на экране её первые пять строк (уже в прекоде)."
      ],
      "metadata": {
        "id": "LJkLZJyK2bY0"
      }
    },
    {
      "cell_type": "code",
      "source": [
        "import pandas as pd\n",
        "import numpy as np\n",
        "\n",
        "\n",
        "data = pd.read_csv('https://raw.githubusercontent.com/trisha00001/file/main/energy_consumption.csv', index_col=[0], parse_dates=[0])\n",
        "data.sort_index(inplace=True)\n",
        "data = data.resample('1D').sum()\n",
        "def make_features(data, max_lag):\n",
        "    data['year'] = data.index.year\n",
        "    data['month'] = data.index.month\n",
        "    data['day'] = data.index.day\n",
        "    data['dayofweek'] = data.index.dayofweek\n",
        "\n",
        "    for lag in range(1, max_lag + 1):\n",
        "        data['lag_{}'.format(lag)] = data['PJME_MW'].shift(lag)\n",
        "\n",
        "\n",
        "\n",
        "make_features(data, 4)\n",
        "print(data.head())"
      ],
      "metadata": {
        "colab": {
          "base_uri": "https://localhost:8080/"
        },
        "id": "LqaeZLnY2hLd",
        "outputId": "06248ef4-5816-489f-8fd4-d5fd1f702352"
      },
      "execution_count": null,
      "outputs": [
        {
          "output_type": "stream",
          "name": "stdout",
          "text": [
            "             PJME_MW  year  month  day  dayofweek     lag_1     lag_2  \\\n",
            "Datetime                                                                \n",
            "2002-01-01  714857.0  2002      1    1          1       NaN       NaN   \n",
            "2002-01-02  822277.0  2002      1    2          2  714857.0       NaN   \n",
            "2002-01-03  828285.0  2002      1    3          3  822277.0  714857.0   \n",
            "2002-01-04  809171.0  2002      1    4          4  828285.0  822277.0   \n",
            "2002-01-05  729723.0  2002      1    5          5  809171.0  828285.0   \n",
            "\n",
            "               lag_3     lag_4  \n",
            "Datetime                        \n",
            "2002-01-01       NaN       NaN  \n",
            "2002-01-02       NaN       NaN  \n",
            "2002-01-03       NaN       NaN  \n",
            "2002-01-04  714857.0       NaN  \n",
            "2002-01-05  822277.0  714857.0  \n"
          ]
        }
      ]
    },
    {
      "cell_type": "markdown",
      "source": [
        "3. Вычислите скользящее среднее и добавьте его как признак 'rolling_mean'. В функцию make_features() добавьте новый аргумент rolling_mean_size, который задаст ширину окна. Текущее значение ряда для расчёта скользящего среднего применять нельзя.\n",
        "\n",
        "Примените функцию к таблице и напечатайте на экране её первые пять строк (уже в прекоде)."
      ],
      "metadata": {
        "id": "buJ3UbBK2kKl"
      }
    },
    {
      "cell_type": "code",
      "source": [
        "import pandas as pd\n",
        "import numpy as np\n",
        "\n",
        "\n",
        "data = pd.read_csv('https://raw.githubusercontent.com/trisha00001/file/main/energy_consumption.csv', index_col=[0], parse_dates=[0])\n",
        "data.sort_index(inplace=True)\n",
        "data = data.resample('1D').sum()\n",
        "\n",
        "def make_features(data, max_lag, rolling_mean_size):\n",
        "    data['year'] = data.index.year\n",
        "    data['month'] = data.index.month\n",
        "    data['day'] = data.index.day\n",
        "    data['dayofweek'] = data.index.dayofweek\n",
        "\n",
        "    for lag in range(1, max_lag + 1):\n",
        "        data['lag_{}'.format(lag)] = data['PJME_MW'].shift(lag)\n",
        "\n",
        "    data['rolling_mean'] = data['PJME_MW'].shift().rolling(4).mean()\n",
        "\n",
        "\n",
        "make_features(data, 4, 4)\n",
        "print(data.head())"
      ],
      "metadata": {
        "colab": {
          "base_uri": "https://localhost:8080/"
        },
        "id": "JbEXrdv42se9",
        "outputId": "562434bf-6f42-4f46-8d99-3411cb4649ec"
      },
      "execution_count": null,
      "outputs": [
        {
          "output_type": "stream",
          "name": "stdout",
          "text": [
            "             PJME_MW  year  month  day  dayofweek     lag_1     lag_2  \\\n",
            "Datetime                                                                \n",
            "2002-01-01  714857.0  2002      1    1          1       NaN       NaN   \n",
            "2002-01-02  822277.0  2002      1    2          2  714857.0       NaN   \n",
            "2002-01-03  828285.0  2002      1    3          3  822277.0  714857.0   \n",
            "2002-01-04  809171.0  2002      1    4          4  828285.0  822277.0   \n",
            "2002-01-05  729723.0  2002      1    5          5  809171.0  828285.0   \n",
            "\n",
            "               lag_3     lag_4  rolling_mean  \n",
            "Datetime                                      \n",
            "2002-01-01       NaN       NaN           NaN  \n",
            "2002-01-02       NaN       NaN           NaN  \n",
            "2002-01-03       NaN       NaN           NaN  \n",
            "2002-01-04  714857.0       NaN           NaN  \n",
            "2002-01-05  822277.0  714857.0      793647.5  \n"
          ]
        }
      ]
    },
    {
      "cell_type": "markdown",
      "source": [
        "### Обучение модели\n",
        "\n",
        "Обучим линейную регрессию с учётом новых признаков.\n",
        "\n",
        "Разделим данные на обучающую и тестовую выборки. Отстающие значения и скользящее среднее вычисляются по прошлым данным. Признаки для первых значений тестовой выборки находятся в конце обучающей выборки.\n",
        "\n",
        "Получить признаки для первых значений обучающей выборки нельзя: исторических данных по ним нет. В предыдущих задачах значения этих признаков были NaN. Их нужно удалить."
      ],
      "metadata": {
        "id": "JwsgJXYO23eV"
      }
    },
    {
      "cell_type": "markdown",
      "source": [
        "Задача\n",
        "\n",
        "1. Разбейте датасет о потреблении электроэнергии на обучающую и тестовую выборки в соотношении 4:1. Вам нужны данные за всё время. Из обучающей выборки удалите строки с пропусками.\n",
        "\n",
        "Напечатайте на экране размеры обучающей и тестовой выборки (уже в прекоде)."
      ],
      "metadata": {
        "id": "kitBDnLJ3BGt"
      }
    },
    {
      "cell_type": "code",
      "source": [
        "import pandas as pd\n",
        "import numpy as np\n",
        "from sklearn.model_selection import train_test_split\n",
        "\n",
        "\n",
        "data = pd.read_csv('https://raw.githubusercontent.com/trisha00001/file/main/energy_consumption.csv', index_col=[0], parse_dates=[0])\n",
        "data.sort_index(inplace=True)\n",
        "data = data.resample('1D').sum()\n",
        "\n",
        "def make_features(data, max_lag, rolling_mean_size):\n",
        "    data['year'] = data.index.year\n",
        "    data['month'] = data.index.month\n",
        "    data['day'] = data.index.day\n",
        "    data['dayofweek'] = data.index.dayofweek\n",
        "\n",
        "    for lag in range(1, max_lag + 1):\n",
        "        data['lag_{}'.format(lag)] = data['PJME_MW'].shift(lag)\n",
        "\n",
        "    data['rolling_mean'] = data['PJME_MW'].shift().rolling(rolling_mean_size).mean()\n",
        "\n",
        "# мы выбрали произвольные значения аргументов\n",
        "make_features(data, 1, 1)\n",
        "\n",
        "train, test = train_test_split(data, shuffle=False, test_size=0.2)\n",
        "train = train.dropna()\n",
        "\n",
        "print(train.shape)\n",
        "print(test.shape)"
      ],
      "metadata": {
        "colab": {
          "base_uri": "https://localhost:8080/"
        },
        "id": "e3sWzve23FqF",
        "outputId": "e1a82a29-5720-431a-8d43-418eecf7e35d"
      },
      "execution_count": null,
      "outputs": [
        {
          "output_type": "stream",
          "name": "stdout",
          "text": [
            "(4846, 7)\n",
            "(1212, 7)\n"
          ]
        }
      ]
    },
    {
      "cell_type": "markdown",
      "source": [
        "2. В выборке выделите признаки и целевой признак. На них обучите линейную регрессию и сохраните её в переменной model. Затем напечатайте на экране значения MAE для обучающей и тестовой выборок (уже в прекоде). Подберите аргументы функции make_features() так, чтобы значение MAE на тестовой выборке было не больше 37 000."
      ],
      "metadata": {
        "id": "XqSReEka3I5G"
      }
    },
    {
      "cell_type": "code",
      "source": [
        "import pandas as pd\n",
        "import numpy as np\n",
        "from sklearn.model_selection import train_test_split\n",
        "from sklearn.linear_model import LinearRegression\n",
        "from sklearn.metrics import mean_absolute_error\n",
        "\n",
        "\n",
        "data = pd.read_csv('https://raw.githubusercontent.com/trisha00001/file/main/energy_consumption.csv', index_col=[0], parse_dates=[0])\n",
        "data.sort_index(inplace=True)\n",
        "data = data.resample('1D').sum()\n",
        "\n",
        "def make_features(data, max_lag, rolling_mean_size):\n",
        "    data['year'] = data.index.year\n",
        "    data['month'] = data.index.month\n",
        "    data['day'] = data.index.day\n",
        "    data['dayofweek'] = data.index.dayofweek\n",
        "\n",
        "    for lag in range(1, max_lag + 1):\n",
        "        data['lag_{}'.format(lag)] = data['PJME_MW'].shift(lag)\n",
        "\n",
        "    data['rolling_mean'] = data['PJME_MW'].shift().rolling(rolling_mean_size).mean()\n",
        "\n",
        "\n",
        "make_features(data, 1, 1)\n",
        "\n",
        "train, test = train_test_split(data, shuffle=False, test_size=0.2)\n",
        "train = train.dropna()\n",
        "\n",
        "features_train  = train.drop('PJME_MW', axis=1)\n",
        "target_train = train[['PJME_MW']]\n",
        "features_test = test.drop('PJME_MW', axis=1)\n",
        "target_test = test[['PJME_MW']]\n",
        "\n",
        "model = LinearRegression()\n",
        "\n",
        "model1 = model.fit(features_train, target_train)\n",
        "predictions1 = model1.predict(features_test) # получим предсказания модели\n",
        "result1 = mean_absolute_error(target_test,predictions1)\n",
        "\n",
        "model2 = model.fit(features_test, target_test)\n",
        "predictions2 = model2.predict(features_train) # получим предсказания модели\n",
        "result2 = mean_absolute_error(target_train,predictions2)\n",
        "\n",
        "\n",
        "print(\"MAE обучающей выборки:\", result1)\n",
        "print(\"MAE тестовой выборки: \", result2)"
      ],
      "metadata": {
        "colab": {
          "base_uri": "https://localhost:8080/"
        },
        "id": "KWcYTyHP3MSY",
        "outputId": "e6716b5a-823a-4fbc-bf94-413de832d8fe"
      },
      "execution_count": null,
      "outputs": [
        {
          "output_type": "stream",
          "name": "stdout",
          "text": [
            "MAE обучающей выборки: 39180.717976797976\n",
            "MAE тестовой выборки:  36246.52420637463\n"
          ]
        }
      ]
    }
  ]
}