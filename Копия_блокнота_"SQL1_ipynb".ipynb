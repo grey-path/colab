{
  "cells": [
    {
      "cell_type": "markdown",
      "metadata": {
        "id": "DRVcCbVShpf2"
      },
      "source": [
        "**Что такое базы данных?**\n",
        "Базы данных представляют собой структурированный источник данных, оптимизированный для эффективного извлечения и хранения.\n",
        "\n",
        "* структурированный: мы должны заранее определить стратегию организации\n",
        "* извлечение: возможность считывания данных\n",
        "* хранение: возможность записи данных и их сохранения"
      ]
    },
    {
      "cell_type": "markdown",
      "metadata": {
        "id": "b8iyN-5jhpf4"
      },
      "source": [
        "**База данных** - комплекс данных (информации),\n",
        "которые структурированы и взаимосвязаны\n",
        "между собой."
      ]
    },
    {
      "cell_type": "markdown",
      "metadata": {
        "id": "JKP4Nj-lhpf4"
      },
      "source": [
        "**Что такое реляционная база данных?**\n",
        "Реляционные базы данных традиционно организованы следующим образом:\n",
        "\n",
        "* База данных содержит таблицы, представляющие отдельные сущности или объекты.\n",
        "* Таблицы имеют предопределенную схему — правила, которые сообщают, как будут выглядеть данные.\n",
        "\n",
        "Каждая таблица должна иметь столбец первичного ключа: уникальный идентификатор для этой строки.\n",
        "Кроме того, каждая таблица может иметь столбец внешнего ключа: идентификатор, который связывает его с другой таблицей."
      ]
    },
    {
      "cell_type": "markdown",
      "metadata": {
        "id": "970It_ZWhpf5"
      },
      "source": [
        "**Реляционные базы данных**(БД) имеют\n",
        "табличную форму организации т.е. реализованы\n",
        "в виде таблиц, связанных между собой\n",
        "отношениями с помощью кодов (ключей)."
      ]
    },
    {
      "cell_type": "markdown",
      "metadata": {
        "id": "_pFs6sN3hpf5"
      },
      "source": [
        "![https://raw.githubusercontent.com/trisha00001/file/main/bd.png](https://raw.githubusercontent.com/trisha00001/file/main/bd.png)"
      ]
    },
    {
      "cell_type": "markdown",
      "metadata": {
        "id": "bMRwahMchpf5"
      },
      "source": [
        "**Особенности реляционных БД:**\n",
        "\n",
        "- таблице присваивается имя, уникальное в пределах БД\n",
        "каждому столбцу присваивается имя уникальное в\n",
        "пределах таблицы;\n",
        "- каждый столбец таблицы содержит данные одного типа\n",
        "в таблице нет одинаковых строк;\n",
        "- строки таблицы не имеют имен (но имеют уникальный\n",
        "идентификатор)."
      ]
    },
    {
      "cell_type": "markdown",
      "metadata": {
        "id": "BgiJ_kLJhpf5"
      },
      "source": [
        "**Таблица** представляет из себя набор столбцов.\n",
        "\n",
        "**Столбцы** таблицы могут называть полями или\n",
        "колонками, все эти слова будут использоваться\n",
        "как синонимы\n",
        "\n",
        "**Строки, записи** – тоже синонимы"
      ]
    },
    {
      "cell_type": "markdown",
      "metadata": {
        "id": "fFqVw35Dhpf5"
      },
      "source": [
        "![image.png](https://raw.githubusercontent.com/trisha00001/file/main/bd1.png)"
      ]
    },
    {
      "cell_type": "markdown",
      "metadata": {
        "id": "t8jLA0Zmhpf5"
      },
      "source": [
        "<H2>Первичный ключ (PRIMARY KEY)</H2>\n",
        "\n",
        "**PRIMARY KEY(первичный ключ)** – это поле (или комбинация\n",
        "полей), которое однозначно идентифицирует запись.\n",
        "\n",
        "В таблице не может быть двух записей с\n",
        "одинаковым значением ключа.\n",
        "\n",
        "PRIMARY KEY должен:\n",
        "- содержать уникальные значения\n",
        "- не может содержать NULL значения.\n",
        "\n",
        "*Таблица может иметь только один первичный ключ*"
      ]
    },
    {
      "cell_type": "markdown",
      "metadata": {
        "id": "yWNekCBthpf6"
      },
      "source": [
        "<H2>Могут ли эти данные быть ключом?</H2>\n",
        "\n",
        "- фамилия\n",
        "\n",
        "- номер и серия паспорта\n",
        "\n",
        "- номер дома\n",
        "\n",
        "- регистрационный номер автомобиля"
      ]
    },
    {
      "cell_type": "markdown",
      "metadata": {
        "id": "xASoCa55hpf6"
      },
      "source": [
        "![image.png](https://raw.githubusercontent.com/trisha00001/file/main/vk.png)"
      ]
    },
    {
      "cell_type": "markdown",
      "source": [
        "<H2/>Схема БД\n",
        "\n",
        "**Схема БД (схема)** является графическим\n",
        "образом БД"
      ],
      "metadata": {
        "id": "SZb2IuEpYU3J"
      }
    },
    {
      "cell_type": "markdown",
      "metadata": {
        "id": "OJrM4I3Qhpf6"
      },
      "source": [
        "![image.png](https://raw.githubusercontent.com/trisha00001/file/main/multiple-tables.png)"
      ]
    },
    {
      "cell_type": "markdown",
      "metadata": {
        "id": "mUKu_WY2hpf6"
      },
      "source": [
        "![image.png](https://raw.githubusercontent.com/trisha00001/file/main/ts.png)"
      ]
    },
    {
      "cell_type": "markdown",
      "source": [
        "![image.png](https://raw.githubusercontent.com/trisha00001/file/main/t1.png)"
      ],
      "metadata": {
        "id": "VItvdpfdakKH"
      }
    },
    {
      "cell_type": "markdown",
      "source": [
        "![image.png](https://raw.githubusercontent.com/trisha00001/file/main/t2.png)"
      ],
      "metadata": {
        "id": "9vTntLgoaydt"
      }
    },
    {
      "cell_type": "markdown",
      "source": [],
      "metadata": {
        "id": "oq2Vx62Gay_K"
      }
    },
    {
      "cell_type": "markdown",
      "metadata": {
        "id": "KOt1Ds7Dhpf6"
      },
      "source": [
        "В нормализованной схеме таблицы спроектированы так, чтобы быть тонкими, чтобы свести к минимуму:\n",
        "\n",
        "1. Объем повторяющейся информации\n",
        "2. Количество хранимых байтов"
      ]
    },
    {
      "cell_type": "markdown",
      "metadata": {
        "id": "nfmphjDghpf7"
      },
      "source": [
        "<img src='https://github.com/podopie/DAT18NYC/blob/master/classes/img/normalized.png?raw=true' style='height: 50%; margin-left: 0;' >"
      ]
    },
    {
      "cell_type": "markdown",
      "metadata": {
        "id": "2t6XoPiYhpf7"
      },
      "source": [
        "<img src='https://github.com/podopie/DAT18NYC/raw/83dc789584a3349096988bbe14ffd7b87acef5e8/classes/img/erd.png' />"
      ]
    },
    {
      "cell_type": "markdown",
      "metadata": {
        "id": "Xd6_rxhihpf7"
      },
      "source": [
        "\n",
        "Показательный пример; Ниже приведена реляционная диаграмма типичной платформы электронной коммерции\n",
        "\n",
        "Что, если бы мы спроектировали базу данных таким образом, чтобы она выглядела таким образом с одной таблицей?\n"
      ]
    },
    {
      "cell_type": "markdown",
      "metadata": {
        "id": "yToC4i34hpf7"
      },
      "source": [
        "<img src='https://github.com/podopie/DAT18NYC/raw/83dc789584a3349096988bbe14ffd7b87acef5e8/classes/img/denormalized.png' style='height: 50%; margin-left: 0;' />"
      ]
    },
    {
      "cell_type": "markdown",
      "metadata": {
        "id": "Wwdp9VAvhpf7"
      },
      "source": [
        "\n",
        "\n",
        "1. Увеличивается повторная информация; информация о пользователе повторяется в каждой строке.\n",
        "2. Увеличено хранилище текста (текстовые байты больше целочисленных байтов)\n",
        "3. Нет необходимости присоединяться!\n",
        "\n",
        "Компромисс между нормализованными и денормализованными данными — это скорость и хранение. Хранение (по большей части) везде одинаково. Так что давайте сосредоточимся на скоростной стороне. Скорость разбивается на скорость чтения и скорость записи.\n",
        "\n",
        "Из двух представлений данных:\n",
        "\n",
        "1. Что, по нашему мнению, медленнее читать, но быстрее писать?\n",
        "2. Что, по нашему мнению, медленнее писать, но быстрее читать?\n"
      ]
    },
    {
      "cell_type": "markdown",
      "metadata": {
        "id": "K7GFnuAAhpf8"
      },
      "source": [
        "<H2/>Немного истории\n",
        "\n",
        "В начале 1970-х годов в одной из исследовательских\n",
        "лабораторий компании IBM была разработана\n",
        "экспериментальная реляционная СУБД IBM System R,\n",
        "для которой был создан специальный язык SEQUEL,\n",
        "позволявший управлять данными в этой CУБД.\n",
        "\n",
        "Аббревиатура **SEQUEL** расшифровывалась как\n",
        "Structured English Query Language —\n",
        "«структурированный английский язык запросов».\n",
        "\n",
        "Позже язык SEQUEL был переименован в **SQL**\n",
        "(Structured Query Language)"
      ]
    },
    {
      "cell_type": "markdown",
      "metadata": {
        "id": "a96bw3K1hpf8"
      },
      "source": [
        "![image.png](https://raw.githubusercontent.com/trisha00001/file/main/S30.png)"
      ]
    },
    {
      "cell_type": "markdown",
      "source": [
        "**С помощью чего можно выполнить SQL запрос**\n",
        "\n",
        "Все современные СУБД содержат в своем\n",
        "составе утилиты, позволяющие выполнить SQL\n",
        "запрос и посмотреть его результат.\n",
        "Например:\n",
        "- Oracle содержит утилиту SQL Plus\n",
        "-  Microsoft SQL Server - утилиту SQL Query\n",
        "Analyzer"
      ],
      "metadata": {
        "id": "hWc1_xyHuwE9"
      }
    },
    {
      "cell_type": "markdown",
      "metadata": {
        "id": "ikpeYJkMhpf8"
      },
      "source": [
        "![image.png](https://raw.githubusercontent.com/trisha00001/file/main/s31.png)"
      ]
    },
    {
      "cell_type": "markdown",
      "metadata": {
        "id": "vXzsVsrOhpf9"
      },
      "source": [
        "![image.png](https://raw.githubusercontent.com/trisha00001/file/main/s32.png)"
      ]
    },
    {
      "cell_type": "markdown",
      "metadata": {
        "id": "FuzRB-_whpf9"
      },
      "source": [
        "**Синтаксис SQL**\n",
        "SQL (язык структурированных запросов) — это язык запросов для загрузки, извлечения и обновления данных в реляционных базах данных. К наиболее часто используемым базам данных SQL относятся:\n",
        "\n",
        "1. Oracle и MySQL\n",
        "2. SQL Server\n",
        "3. PostgreSQL\n",
        "\n",
        "SQL-подобная структура также в значительной степени заимствована в крупномасштабных языках данных и платформах:\n",
        "\n",
        "1. Apache Hive\n",
        "2. Apache Drill (based on Google's Dremel)\n",
        "3. Spark SQL\n",
        "\n",
        "Поэтому важно изучить основы, которые подходят для всех платформ!"
      ]
    },
    {
      "cell_type": "markdown",
      "metadata": {
        "id": "lQRPUn-phpf9"
      },
      "source": [
        "**Хороший синтаксис**\n",
        "\n",
        "В то время как компании и команды данных в конечном итоге развивают свое собственное чувство стиля SQL, те, кто новичок в SQL, должны принять, по крайней мере, следующий стиль:\n",
        "\n",
        "1. Ключевые слова написаны в верхнем регистре и начинаются с новых строк\n",
        "2. поля в собственных строках\n",
        "3. Продолжения имеют отступ\n",
        "\n",
        "Это будет объяснено, когда мы рассмотрим примеры ниже. Чтобы помочь установить некоторые соединения, будут некоторые блоки кода Python, использующие синтаксис pandas для выполнения инструкций, аналогичных запросам SQL. Они будут помечены как панды и end_pandas, чтобы уточнить, где они находятся."
      ]
    },
    {
      "cell_type": "code",
      "execution_count": 2,
      "metadata": {
        "id": "PhCb4c0_hpf9"
      },
      "outputs": [],
      "source": [
        "import pandas as pd\n",
        "import sqlite3"
      ]
    },
    {
      "cell_type": "markdown",
      "metadata": {
        "id": "-QkszDomhpf-"
      },
      "source": [
        "<br>"
      ]
    },
    {
      "cell_type": "markdown",
      "metadata": {
        "id": "qb675ipghpf-"
      },
      "source": [
        "https://ppt-online.org/938481"
      ]
    },
    {
      "cell_type": "code",
      "execution_count": 3,
      "metadata": {
        "colab": {
          "base_uri": "https://localhost:8080/"
        },
        "id": "BfMuhKWghpf-",
        "outputId": "f1889ca5-f540-4b58-b5fc-2167c8cc1fe3"
      },
      "outputs": [
        {
          "output_type": "stream",
          "name": "stdout",
          "text": [
            "Requirement already satisfied: ipython-sql in /usr/local/lib/python3.11/dist-packages (0.5.0)\n",
            "Requirement already satisfied: prettytable in /usr/local/lib/python3.11/dist-packages (from ipython-sql) (3.16.0)\n",
            "Requirement already satisfied: ipython in /usr/local/lib/python3.11/dist-packages (from ipython-sql) (7.34.0)\n",
            "Requirement already satisfied: sqlalchemy>=2.0 in /usr/local/lib/python3.11/dist-packages (from ipython-sql) (2.0.41)\n",
            "Requirement already satisfied: sqlparse in /usr/local/lib/python3.11/dist-packages (from ipython-sql) (0.5.3)\n",
            "Requirement already satisfied: six in /usr/local/lib/python3.11/dist-packages (from ipython-sql) (1.17.0)\n",
            "Requirement already satisfied: ipython-genutils in /usr/local/lib/python3.11/dist-packages (from ipython-sql) (0.2.0)\n",
            "Requirement already satisfied: greenlet>=1 in /usr/local/lib/python3.11/dist-packages (from sqlalchemy>=2.0->ipython-sql) (3.2.3)\n",
            "Requirement already satisfied: typing-extensions>=4.6.0 in /usr/local/lib/python3.11/dist-packages (from sqlalchemy>=2.0->ipython-sql) (4.14.0)\n",
            "Requirement already satisfied: setuptools>=18.5 in /usr/local/lib/python3.11/dist-packages (from ipython->ipython-sql) (75.2.0)\n",
            "Requirement already satisfied: jedi>=0.16 in /usr/local/lib/python3.11/dist-packages (from ipython->ipython-sql) (0.19.2)\n",
            "Requirement already satisfied: decorator in /usr/local/lib/python3.11/dist-packages (from ipython->ipython-sql) (4.4.2)\n",
            "Requirement already satisfied: pickleshare in /usr/local/lib/python3.11/dist-packages (from ipython->ipython-sql) (0.7.5)\n",
            "Requirement already satisfied: traitlets>=4.2 in /usr/local/lib/python3.11/dist-packages (from ipython->ipython-sql) (5.7.1)\n",
            "Requirement already satisfied: prompt-toolkit!=3.0.0,!=3.0.1,<3.1.0,>=2.0.0 in /usr/local/lib/python3.11/dist-packages (from ipython->ipython-sql) (3.0.51)\n",
            "Requirement already satisfied: pygments in /usr/local/lib/python3.11/dist-packages (from ipython->ipython-sql) (2.19.2)\n",
            "Requirement already satisfied: backcall in /usr/local/lib/python3.11/dist-packages (from ipython->ipython-sql) (0.2.0)\n",
            "Requirement already satisfied: matplotlib-inline in /usr/local/lib/python3.11/dist-packages (from ipython->ipython-sql) (0.1.7)\n",
            "Requirement already satisfied: pexpect>4.3 in /usr/local/lib/python3.11/dist-packages (from ipython->ipython-sql) (4.9.0)\n",
            "Requirement already satisfied: wcwidth in /usr/local/lib/python3.11/dist-packages (from prettytable->ipython-sql) (0.2.13)\n",
            "Requirement already satisfied: parso<0.9.0,>=0.8.4 in /usr/local/lib/python3.11/dist-packages (from jedi>=0.16->ipython->ipython-sql) (0.8.4)\n",
            "Requirement already satisfied: ptyprocess>=0.5 in /usr/local/lib/python3.11/dist-packages (from pexpect>4.3->ipython->ipython-sql) (0.7.0)\n"
          ]
        }
      ],
      "source": [
        "# install the ipython-sql libray\n",
        "!pip install ipython-sql"
      ]
    },
    {
      "cell_type": "code",
      "execution_count": 4,
      "metadata": {
        "colab": {
          "base_uri": "https://localhost:8080/",
          "height": 143
        },
        "id": "bxFerTMRhpf_",
        "outputId": "5dad1f5e-901b-4ef8-bf2b-be6a1fe8334b"
      },
      "outputs": [
        {
          "output_type": "execute_result",
          "data": {
            "text/plain": [
              "       name  age          city\n",
              "0      Juan   23         Miami\n",
              "1  Victoria   34  Buenos Aires\n",
              "2      Mary   43      Santiago"
            ],
            "text/html": [
              "\n",
              "  <div id=\"df-f6808961-eb3f-45e6-81a5-2387dbae178a\" class=\"colab-df-container\">\n",
              "    <div>\n",
              "<style scoped>\n",
              "    .dataframe tbody tr th:only-of-type {\n",
              "        vertical-align: middle;\n",
              "    }\n",
              "\n",
              "    .dataframe tbody tr th {\n",
              "        vertical-align: top;\n",
              "    }\n",
              "\n",
              "    .dataframe thead th {\n",
              "        text-align: right;\n",
              "    }\n",
              "</style>\n",
              "<table border=\"1\" class=\"dataframe\">\n",
              "  <thead>\n",
              "    <tr style=\"text-align: right;\">\n",
              "      <th></th>\n",
              "      <th>name</th>\n",
              "      <th>age</th>\n",
              "      <th>city</th>\n",
              "    </tr>\n",
              "  </thead>\n",
              "  <tbody>\n",
              "    <tr>\n",
              "      <th>0</th>\n",
              "      <td>Juan</td>\n",
              "      <td>23</td>\n",
              "      <td>Miami</td>\n",
              "    </tr>\n",
              "    <tr>\n",
              "      <th>1</th>\n",
              "      <td>Victoria</td>\n",
              "      <td>34</td>\n",
              "      <td>Buenos Aires</td>\n",
              "    </tr>\n",
              "    <tr>\n",
              "      <th>2</th>\n",
              "      <td>Mary</td>\n",
              "      <td>43</td>\n",
              "      <td>Santiago</td>\n",
              "    </tr>\n",
              "  </tbody>\n",
              "</table>\n",
              "</div>\n",
              "    <div class=\"colab-df-buttons\">\n",
              "\n",
              "  <div class=\"colab-df-container\">\n",
              "    <button class=\"colab-df-convert\" onclick=\"convertToInteractive('df-f6808961-eb3f-45e6-81a5-2387dbae178a')\"\n",
              "            title=\"Convert this dataframe to an interactive table.\"\n",
              "            style=\"display:none;\">\n",
              "\n",
              "  <svg xmlns=\"http://www.w3.org/2000/svg\" height=\"24px\" viewBox=\"0 -960 960 960\">\n",
              "    <path d=\"M120-120v-720h720v720H120Zm60-500h600v-160H180v160Zm220 220h160v-160H400v160Zm0 220h160v-160H400v160ZM180-400h160v-160H180v160Zm440 0h160v-160H620v160ZM180-180h160v-160H180v160Zm440 0h160v-160H620v160Z\"/>\n",
              "  </svg>\n",
              "    </button>\n",
              "\n",
              "  <style>\n",
              "    .colab-df-container {\n",
              "      display:flex;\n",
              "      gap: 12px;\n",
              "    }\n",
              "\n",
              "    .colab-df-convert {\n",
              "      background-color: #E8F0FE;\n",
              "      border: none;\n",
              "      border-radius: 50%;\n",
              "      cursor: pointer;\n",
              "      display: none;\n",
              "      fill: #1967D2;\n",
              "      height: 32px;\n",
              "      padding: 0 0 0 0;\n",
              "      width: 32px;\n",
              "    }\n",
              "\n",
              "    .colab-df-convert:hover {\n",
              "      background-color: #E2EBFA;\n",
              "      box-shadow: 0px 1px 2px rgba(60, 64, 67, 0.3), 0px 1px 3px 1px rgba(60, 64, 67, 0.15);\n",
              "      fill: #174EA6;\n",
              "    }\n",
              "\n",
              "    .colab-df-buttons div {\n",
              "      margin-bottom: 4px;\n",
              "    }\n",
              "\n",
              "    [theme=dark] .colab-df-convert {\n",
              "      background-color: #3B4455;\n",
              "      fill: #D2E3FC;\n",
              "    }\n",
              "\n",
              "    [theme=dark] .colab-df-convert:hover {\n",
              "      background-color: #434B5C;\n",
              "      box-shadow: 0px 1px 3px 1px rgba(0, 0, 0, 0.15);\n",
              "      filter: drop-shadow(0px 1px 2px rgba(0, 0, 0, 0.3));\n",
              "      fill: #FFFFFF;\n",
              "    }\n",
              "  </style>\n",
              "\n",
              "    <script>\n",
              "      const buttonEl =\n",
              "        document.querySelector('#df-f6808961-eb3f-45e6-81a5-2387dbae178a button.colab-df-convert');\n",
              "      buttonEl.style.display =\n",
              "        google.colab.kernel.accessAllowed ? 'block' : 'none';\n",
              "\n",
              "      async function convertToInteractive(key) {\n",
              "        const element = document.querySelector('#df-f6808961-eb3f-45e6-81a5-2387dbae178a');\n",
              "        const dataTable =\n",
              "          await google.colab.kernel.invokeFunction('convertToInteractive',\n",
              "                                                    [key], {});\n",
              "        if (!dataTable) return;\n",
              "\n",
              "        const docLinkHtml = 'Like what you see? Visit the ' +\n",
              "          '<a target=\"_blank\" href=https://colab.research.google.com/notebooks/data_table.ipynb>data table notebook</a>'\n",
              "          + ' to learn more about interactive tables.';\n",
              "        element.innerHTML = '';\n",
              "        dataTable['output_type'] = 'display_data';\n",
              "        await google.colab.output.renderOutput(dataTable, element);\n",
              "        const docLink = document.createElement('div');\n",
              "        docLink.innerHTML = docLinkHtml;\n",
              "        element.appendChild(docLink);\n",
              "      }\n",
              "    </script>\n",
              "  </div>\n",
              "\n",
              "\n",
              "    <div id=\"df-1e985d3e-f20e-4ddf-8859-dc49e04c445e\">\n",
              "      <button class=\"colab-df-quickchart\" onclick=\"quickchart('df-1e985d3e-f20e-4ddf-8859-dc49e04c445e')\"\n",
              "                title=\"Suggest charts\"\n",
              "                style=\"display:none;\">\n",
              "\n",
              "<svg xmlns=\"http://www.w3.org/2000/svg\" height=\"24px\"viewBox=\"0 0 24 24\"\n",
              "     width=\"24px\">\n",
              "    <g>\n",
              "        <path d=\"M19 3H5c-1.1 0-2 .9-2 2v14c0 1.1.9 2 2 2h14c1.1 0 2-.9 2-2V5c0-1.1-.9-2-2-2zM9 17H7v-7h2v7zm4 0h-2V7h2v10zm4 0h-2v-4h2v4z\"/>\n",
              "    </g>\n",
              "</svg>\n",
              "      </button>\n",
              "\n",
              "<style>\n",
              "  .colab-df-quickchart {\n",
              "      --bg-color: #E8F0FE;\n",
              "      --fill-color: #1967D2;\n",
              "      --hover-bg-color: #E2EBFA;\n",
              "      --hover-fill-color: #174EA6;\n",
              "      --disabled-fill-color: #AAA;\n",
              "      --disabled-bg-color: #DDD;\n",
              "  }\n",
              "\n",
              "  [theme=dark] .colab-df-quickchart {\n",
              "      --bg-color: #3B4455;\n",
              "      --fill-color: #D2E3FC;\n",
              "      --hover-bg-color: #434B5C;\n",
              "      --hover-fill-color: #FFFFFF;\n",
              "      --disabled-bg-color: #3B4455;\n",
              "      --disabled-fill-color: #666;\n",
              "  }\n",
              "\n",
              "  .colab-df-quickchart {\n",
              "    background-color: var(--bg-color);\n",
              "    border: none;\n",
              "    border-radius: 50%;\n",
              "    cursor: pointer;\n",
              "    display: none;\n",
              "    fill: var(--fill-color);\n",
              "    height: 32px;\n",
              "    padding: 0;\n",
              "    width: 32px;\n",
              "  }\n",
              "\n",
              "  .colab-df-quickchart:hover {\n",
              "    background-color: var(--hover-bg-color);\n",
              "    box-shadow: 0 1px 2px rgba(60, 64, 67, 0.3), 0 1px 3px 1px rgba(60, 64, 67, 0.15);\n",
              "    fill: var(--button-hover-fill-color);\n",
              "  }\n",
              "\n",
              "  .colab-df-quickchart-complete:disabled,\n",
              "  .colab-df-quickchart-complete:disabled:hover {\n",
              "    background-color: var(--disabled-bg-color);\n",
              "    fill: var(--disabled-fill-color);\n",
              "    box-shadow: none;\n",
              "  }\n",
              "\n",
              "  .colab-df-spinner {\n",
              "    border: 2px solid var(--fill-color);\n",
              "    border-color: transparent;\n",
              "    border-bottom-color: var(--fill-color);\n",
              "    animation:\n",
              "      spin 1s steps(1) infinite;\n",
              "  }\n",
              "\n",
              "  @keyframes spin {\n",
              "    0% {\n",
              "      border-color: transparent;\n",
              "      border-bottom-color: var(--fill-color);\n",
              "      border-left-color: var(--fill-color);\n",
              "    }\n",
              "    20% {\n",
              "      border-color: transparent;\n",
              "      border-left-color: var(--fill-color);\n",
              "      border-top-color: var(--fill-color);\n",
              "    }\n",
              "    30% {\n",
              "      border-color: transparent;\n",
              "      border-left-color: var(--fill-color);\n",
              "      border-top-color: var(--fill-color);\n",
              "      border-right-color: var(--fill-color);\n",
              "    }\n",
              "    40% {\n",
              "      border-color: transparent;\n",
              "      border-right-color: var(--fill-color);\n",
              "      border-top-color: var(--fill-color);\n",
              "    }\n",
              "    60% {\n",
              "      border-color: transparent;\n",
              "      border-right-color: var(--fill-color);\n",
              "    }\n",
              "    80% {\n",
              "      border-color: transparent;\n",
              "      border-right-color: var(--fill-color);\n",
              "      border-bottom-color: var(--fill-color);\n",
              "    }\n",
              "    90% {\n",
              "      border-color: transparent;\n",
              "      border-bottom-color: var(--fill-color);\n",
              "    }\n",
              "  }\n",
              "</style>\n",
              "\n",
              "      <script>\n",
              "        async function quickchart(key) {\n",
              "          const quickchartButtonEl =\n",
              "            document.querySelector('#' + key + ' button');\n",
              "          quickchartButtonEl.disabled = true;  // To prevent multiple clicks.\n",
              "          quickchartButtonEl.classList.add('colab-df-spinner');\n",
              "          try {\n",
              "            const charts = await google.colab.kernel.invokeFunction(\n",
              "                'suggestCharts', [key], {});\n",
              "          } catch (error) {\n",
              "            console.error('Error during call to suggestCharts:', error);\n",
              "          }\n",
              "          quickchartButtonEl.classList.remove('colab-df-spinner');\n",
              "          quickchartButtonEl.classList.add('colab-df-quickchart-complete');\n",
              "        }\n",
              "        (() => {\n",
              "          let quickchartButtonEl =\n",
              "            document.querySelector('#df-1e985d3e-f20e-4ddf-8859-dc49e04c445e button');\n",
              "          quickchartButtonEl.style.display =\n",
              "            google.colab.kernel.accessAllowed ? 'block' : 'none';\n",
              "        })();\n",
              "      </script>\n",
              "    </div>\n",
              "    </div>\n",
              "  </div>\n"
            ],
            "application/vnd.google.colaboratory.intrinsic+json": {
              "type": "dataframe",
              "variable_name": "df",
              "summary": "{\n  \"name\": \"df\",\n  \"rows\": 3,\n  \"fields\": [\n    {\n      \"column\": \"name\",\n      \"properties\": {\n        \"dtype\": \"string\",\n        \"num_unique_values\": 3,\n        \"samples\": [\n          \"Juan\",\n          \"Victoria\",\n          \"Mary\"\n        ],\n        \"semantic_type\": \"\",\n        \"description\": \"\"\n      }\n    },\n    {\n      \"column\": \"age\",\n      \"properties\": {\n        \"dtype\": \"number\",\n        \"std\": 10,\n        \"min\": 23,\n        \"max\": 43,\n        \"num_unique_values\": 3,\n        \"samples\": [\n          23,\n          34,\n          43\n        ],\n        \"semantic_type\": \"\",\n        \"description\": \"\"\n      }\n    },\n    {\n      \"column\": \"city\",\n      \"properties\": {\n        \"dtype\": \"string\",\n        \"num_unique_values\": 3,\n        \"samples\": [\n          \"Miami\",\n          \"Buenos Aires\",\n          \"Santiago\"\n        ],\n        \"semantic_type\": \"\",\n        \"description\": \"\"\n      }\n    }\n  ]\n}"
            }
          },
          "metadata": {},
          "execution_count": 4
        }
      ],
      "source": [
        "df= pd.DataFrame({'name': ['Juan', 'Victoria', 'Mary'],\n",
        "                  'age': [23,34,43],\n",
        "                  'city': ['Miami', 'Buenos Aires','Santiago']})\n",
        "\n",
        "df"
      ]
    },
    {
      "cell_type": "code",
      "execution_count": 5,
      "metadata": {
        "id": "CR4XUix_hpf_"
      },
      "outputs": [],
      "source": [
        "cnn = sqlite3.connect('jupyter_sql_tutorial.db')"
      ]
    },
    {
      "cell_type": "code",
      "execution_count": 6,
      "metadata": {
        "id": "EgaSTVpahpf_"
      },
      "outputs": [],
      "source": [
        "%load_ext sql"
      ]
    },
    {
      "cell_type": "code",
      "execution_count": 7,
      "metadata": {
        "colab": {
          "base_uri": "https://localhost:8080/"
        },
        "id": "JQxDe85Khpf_",
        "outputId": "f12835a9-1c70-44d7-e481-5e7108058e2d"
      },
      "outputs": [
        {
          "output_type": "execute_result",
          "data": {
            "text/plain": [
              "3"
            ]
          },
          "metadata": {},
          "execution_count": 7
        }
      ],
      "source": [
        "df.to_sql('people', cnn)"
      ]
    },
    {
      "cell_type": "code",
      "source": [
        "%config SqlMagic.style = '_DEPRECATED_DEFAULT'"
      ],
      "metadata": {
        "id": "v5fNUzf36k2H"
      },
      "execution_count": 8,
      "outputs": []
    },
    {
      "cell_type": "code",
      "execution_count": 9,
      "metadata": {
        "id": "uIf0_KXHhpf_"
      },
      "outputs": [],
      "source": [
        "%sql sqlite:///jupyter_sql_tutorial.db"
      ]
    },
    {
      "cell_type": "markdown",
      "metadata": {
        "id": "Td0kjVc7hpgA"
      },
      "source": [
        "\n",
        "\n",
        "![image.png](https://raw.githubusercontent.com/trisha00001/file/main/S1.png)"
      ]
    },
    {
      "cell_type": "code",
      "execution_count": 10,
      "metadata": {
        "colab": {
          "base_uri": "https://localhost:8080/",
          "height": 139
        },
        "id": "kN9XA5Q6hpgA",
        "outputId": "77d921e4-5489-4372-b8bb-bedf8851a711"
      },
      "outputs": [
        {
          "output_type": "stream",
          "name": "stdout",
          "text": [
            " * sqlite:///jupyter_sql_tutorial.db\n",
            "Done.\n"
          ]
        },
        {
          "output_type": "execute_result",
          "data": {
            "text/plain": [
              "[(0, 'Juan', 23, 'Miami'),\n",
              " (1, 'Victoria', 34, 'Buenos Aires'),\n",
              " (2, 'Mary', 43, 'Santiago')]"
            ],
            "text/html": [
              "<table>\n",
              "    <thead>\n",
              "        <tr>\n",
              "            <th>index</th>\n",
              "            <th>name</th>\n",
              "            <th>age</th>\n",
              "            <th>city</th>\n",
              "        </tr>\n",
              "    </thead>\n",
              "    <tbody>\n",
              "        <tr>\n",
              "            <td>0</td>\n",
              "            <td>Juan</td>\n",
              "            <td>23</td>\n",
              "            <td>Miami</td>\n",
              "        </tr>\n",
              "        <tr>\n",
              "            <td>1</td>\n",
              "            <td>Victoria</td>\n",
              "            <td>34</td>\n",
              "            <td>Buenos Aires</td>\n",
              "        </tr>\n",
              "        <tr>\n",
              "            <td>2</td>\n",
              "            <td>Mary</td>\n",
              "            <td>43</td>\n",
              "            <td>Santiago</td>\n",
              "        </tr>\n",
              "    </tbody>\n",
              "</table>"
            ]
          },
          "metadata": {},
          "execution_count": 10
        }
      ],
      "source": [
        "%%sql\n",
        "SELECT *\n",
        "FROM people"
      ]
    },
    {
      "cell_type": "code",
      "execution_count": 11,
      "metadata": {
        "colab": {
          "base_uri": "https://localhost:8080/",
          "height": 139
        },
        "id": "xUZsBzUhhpgA",
        "outputId": "5a9877ba-7632-4c4c-df85-2e5183e4fe2c"
      },
      "outputs": [
        {
          "output_type": "stream",
          "name": "stdout",
          "text": [
            " * sqlite:///jupyter_sql_tutorial.db\n",
            "Done.\n"
          ]
        },
        {
          "output_type": "execute_result",
          "data": {
            "text/plain": [
              "[('Juan',), ('Victoria',), ('Mary',)]"
            ],
            "text/html": [
              "<table>\n",
              "    <thead>\n",
              "        <tr>\n",
              "            <th>name</th>\n",
              "        </tr>\n",
              "    </thead>\n",
              "    <tbody>\n",
              "        <tr>\n",
              "            <td>Juan</td>\n",
              "        </tr>\n",
              "        <tr>\n",
              "            <td>Victoria</td>\n",
              "        </tr>\n",
              "        <tr>\n",
              "            <td>Mary</td>\n",
              "        </tr>\n",
              "    </tbody>\n",
              "</table>"
            ]
          },
          "metadata": {},
          "execution_count": 11
        }
      ],
      "source": [
        "\n",
        "%%sql\n",
        "SELECT name\n",
        "FROM people"
      ]
    },
    {
      "cell_type": "markdown",
      "metadata": {
        "id": "FnH4Yf6uhpgV"
      },
      "source": [
        "![image.png](https://raw.githubusercontent.com/trisha00001/file/main/s17.png)"
      ]
    },
    {
      "cell_type": "code",
      "execution_count": 12,
      "metadata": {
        "id": "_3CIw44VhpgI",
        "outputId": "878237c2-e74d-49a9-b7bd-e978ba71fa69",
        "colab": {
          "base_uri": "https://localhost:8080/",
          "height": 139
        }
      },
      "outputs": [
        {
          "output_type": "stream",
          "name": "stdout",
          "text": [
            " * sqlite:///jupyter_sql_tutorial.db\n",
            "Done.\n"
          ]
        },
        {
          "output_type": "execute_result",
          "data": {
            "text/plain": [
              "[('Juan',), ('Victoria',), ('Mary',)]"
            ],
            "text/html": [
              "<table>\n",
              "    <thead>\n",
              "        <tr>\n",
              "            <th>Имя</th>\n",
              "        </tr>\n",
              "    </thead>\n",
              "    <tbody>\n",
              "        <tr>\n",
              "            <td>Juan</td>\n",
              "        </tr>\n",
              "        <tr>\n",
              "            <td>Victoria</td>\n",
              "        </tr>\n",
              "        <tr>\n",
              "            <td>Mary</td>\n",
              "        </tr>\n",
              "    </tbody>\n",
              "</table>"
            ]
          },
          "metadata": {},
          "execution_count": 12
        }
      ],
      "source": [
        "\n",
        "%%sql\n",
        "SELECT name as 'Имя'\n",
        "FROM people"
      ]
    },
    {
      "cell_type": "code",
      "execution_count": 13,
      "metadata": {
        "id": "U2fyPDwlhpgI",
        "outputId": "c170892c-6bda-498c-e752-88db757a8878",
        "colab": {
          "base_uri": "https://localhost:8080/",
          "height": 139
        }
      },
      "outputs": [
        {
          "output_type": "stream",
          "name": "stdout",
          "text": [
            " * sqlite:///jupyter_sql_tutorial.db\n",
            "Done.\n"
          ]
        },
        {
          "output_type": "execute_result",
          "data": {
            "text/plain": [
              "[('Juan', 23), ('Victoria', 34), ('Mary', 43)]"
            ],
            "text/html": [
              "<table>\n",
              "    <thead>\n",
              "        <tr>\n",
              "            <th>Имя</th>\n",
              "            <th>Возраст</th>\n",
              "        </tr>\n",
              "    </thead>\n",
              "    <tbody>\n",
              "        <tr>\n",
              "            <td>Juan</td>\n",
              "            <td>23</td>\n",
              "        </tr>\n",
              "        <tr>\n",
              "            <td>Victoria</td>\n",
              "            <td>34</td>\n",
              "        </tr>\n",
              "        <tr>\n",
              "            <td>Mary</td>\n",
              "            <td>43</td>\n",
              "        </tr>\n",
              "    </tbody>\n",
              "</table>"
            ]
          },
          "metadata": {},
          "execution_count": 13
        }
      ],
      "source": [
        "%%sql\n",
        "SELECT name as 'Имя',age as 'Возраст'\n",
        "FROM people"
      ]
    },
    {
      "cell_type": "markdown",
      "metadata": {
        "id": "_fbS2ORAhpgI"
      },
      "source": [
        "#### ВЫБИРАТЬ\n",
        "Базовый вариант использования для извлечения данных из базы данных..\n",
        "\n",
        "```SQL\n",
        "SELECT\n",
        "    col1,\n",
        "    col2\n",
        "FROM table\n",
        "WHERE [some condition];\n",
        "```\n",
        "\n",
        "Example\n",
        "```SQL\n",
        "SELECT\n",
        "    poll_title,\n",
        "    poll_date\n",
        "FROM polls\n",
        "WHERE romney_pct > obama_pct;\n",
        "```\n",
        "\n",
        "***pandas***\n",
        "```python\n",
        "polls[polls.romney_pct > polls.obama_pct][['poll_title', 'poll_date']]\n",
        "```\n",
        "***end_pandas***\n",
        "\n",
        "\n",
        "Примечания:\n",
        "\n",
        "1. WHERE является необязательным, хотя в конечном итоге фильтрация данных обычно является точкой запроса из базы данных.\n",
        "2. Вы можете ВЫБРАТЬ столько столбцов, сколько захотите, и псевдоним каждого."
      ]
    },
    {
      "cell_type": "markdown",
      "metadata": {
        "id": "9Lb9wZfahpgI"
      },
      "source": [
        "# Where проверка условия"
      ]
    },
    {
      "cell_type": "markdown",
      "metadata": {
        "id": "JjhV0iPphpgJ"
      },
      "source": [
        "![image.png](https://raw.githubusercontent.com/trisha00001/file/main/s3.png)"
      ]
    },
    {
      "cell_type": "markdown",
      "metadata": {
        "id": "EErXq9E-hpgJ"
      },
      "source": [
        "![image-2.png](https://raw.githubusercontent.com/trisha00001/file/main/s4.png)"
      ]
    },
    {
      "cell_type": "markdown",
      "metadata": {
        "id": "uOhD5LX5hpgJ"
      },
      "source": [
        "![image.png](https://raw.githubusercontent.com/trisha00001/file/main/s6.png)"
      ]
    },
    {
      "cell_type": "markdown",
      "metadata": {
        "id": "AGw3sgS9hpgJ"
      },
      "source": [
        "![image.png](https://raw.githubusercontent.com/trisha00001/file/main/s7.png)"
      ]
    },
    {
      "cell_type": "code",
      "execution_count": 14,
      "metadata": {
        "id": "atwVWskahpgJ",
        "outputId": "c5152c4d-90d0-4965-9de0-9678e2291bcc",
        "colab": {
          "base_uri": "https://localhost:8080/",
          "height": 118
        }
      },
      "outputs": [
        {
          "output_type": "stream",
          "name": "stdout",
          "text": [
            " * sqlite:///jupyter_sql_tutorial.db\n",
            "Done.\n"
          ]
        },
        {
          "output_type": "execute_result",
          "data": {
            "text/plain": [
              "[(0, 'Juan', 23, 'Miami'), (1, 'Victoria', 34, 'Buenos Aires')]"
            ],
            "text/html": [
              "<table>\n",
              "    <thead>\n",
              "        <tr>\n",
              "            <th>index</th>\n",
              "            <th>name</th>\n",
              "            <th>age</th>\n",
              "            <th>city</th>\n",
              "        </tr>\n",
              "    </thead>\n",
              "    <tbody>\n",
              "        <tr>\n",
              "            <td>0</td>\n",
              "            <td>Juan</td>\n",
              "            <td>23</td>\n",
              "            <td>Miami</td>\n",
              "        </tr>\n",
              "        <tr>\n",
              "            <td>1</td>\n",
              "            <td>Victoria</td>\n",
              "            <td>34</td>\n",
              "            <td>Buenos Aires</td>\n",
              "        </tr>\n",
              "    </tbody>\n",
              "</table>"
            ]
          },
          "metadata": {},
          "execution_count": 14
        }
      ],
      "source": [
        "%%sql\n",
        "SELECT *\n",
        "FROM people\n",
        "WHERE age <= 35"
      ]
    },
    {
      "cell_type": "markdown",
      "metadata": {
        "id": "qcYnTxCQhpgJ"
      },
      "source": [
        "Выбрать строки, где город указан как Buenos Aires"
      ]
    },
    {
      "cell_type": "code",
      "execution_count": 15,
      "metadata": {
        "id": "OcFLVXKehpgJ",
        "outputId": "3e31ce71-fb62-40c7-b35f-234cf7722f40",
        "colab": {
          "base_uri": "https://localhost:8080/",
          "height": 96
        }
      },
      "outputs": [
        {
          "output_type": "stream",
          "name": "stdout",
          "text": [
            " * sqlite:///jupyter_sql_tutorial.db\n",
            "Done.\n"
          ]
        },
        {
          "output_type": "execute_result",
          "data": {
            "text/plain": [
              "[(1, 'Victoria', 34, 'Buenos Aires')]"
            ],
            "text/html": [
              "<table>\n",
              "    <thead>\n",
              "        <tr>\n",
              "            <th>index</th>\n",
              "            <th>name</th>\n",
              "            <th>age</th>\n",
              "            <th>city</th>\n",
              "        </tr>\n",
              "    </thead>\n",
              "    <tbody>\n",
              "        <tr>\n",
              "            <td>1</td>\n",
              "            <td>Victoria</td>\n",
              "            <td>34</td>\n",
              "            <td>Buenos Aires</td>\n",
              "        </tr>\n",
              "    </tbody>\n",
              "</table>"
            ]
          },
          "metadata": {},
          "execution_count": 15
        }
      ],
      "source": [
        "%%sql\n",
        "SELECT *\n",
        "FROM people\n",
        "WHERE city == \"Buenos Aires\""
      ]
    },
    {
      "cell_type": "markdown",
      "metadata": {
        "id": "QgJ6qByRhpgJ"
      },
      "source": [
        "Выбрать людей младше 40  не из города майами"
      ]
    },
    {
      "cell_type": "code",
      "execution_count": 16,
      "metadata": {
        "id": "aajTOYcIhpgK",
        "outputId": "545c5567-a490-4f20-dfe9-8ced0e122224",
        "colab": {
          "base_uri": "https://localhost:8080/",
          "height": 96
        }
      },
      "outputs": [
        {
          "output_type": "stream",
          "name": "stdout",
          "text": [
            " * sqlite:///jupyter_sql_tutorial.db\n",
            "Done.\n"
          ]
        },
        {
          "output_type": "execute_result",
          "data": {
            "text/plain": [
              "[(1, 'Victoria', 34, 'Buenos Aires')]"
            ],
            "text/html": [
              "<table>\n",
              "    <thead>\n",
              "        <tr>\n",
              "            <th>index</th>\n",
              "            <th>name</th>\n",
              "            <th>age</th>\n",
              "            <th>city</th>\n",
              "        </tr>\n",
              "    </thead>\n",
              "    <tbody>\n",
              "        <tr>\n",
              "            <td>1</td>\n",
              "            <td>Victoria</td>\n",
              "            <td>34</td>\n",
              "            <td>Buenos Aires</td>\n",
              "        </tr>\n",
              "    </tbody>\n",
              "</table>"
            ]
          },
          "metadata": {},
          "execution_count": 16
        }
      ],
      "source": [
        "%%sql\n",
        "SELECT *\n",
        "FROM people\n",
        "WHERE age <= 40 AND city != \"Miami\""
      ]
    },
    {
      "cell_type": "markdown",
      "metadata": {
        "id": "1bPZJ0CShpgK"
      },
      "source": [
        "Вывести людей из города Miami"
      ]
    },
    {
      "cell_type": "code",
      "execution_count": 17,
      "metadata": {
        "id": "K4DJJp_2hpgK",
        "outputId": "efd8cd37-c9b9-44e0-9c08-75678af570d2",
        "colab": {
          "base_uri": "https://localhost:8080/",
          "height": 96
        }
      },
      "outputs": [
        {
          "output_type": "stream",
          "name": "stdout",
          "text": [
            " * sqlite:///jupyter_sql_tutorial.db\n",
            "Done.\n"
          ]
        },
        {
          "output_type": "execute_result",
          "data": {
            "text/plain": [
              "[(0, 'Juan', 23, 'Miami')]"
            ],
            "text/html": [
              "<table>\n",
              "    <thead>\n",
              "        <tr>\n",
              "            <th>index</th>\n",
              "            <th>name</th>\n",
              "            <th>age</th>\n",
              "            <th>city</th>\n",
              "        </tr>\n",
              "    </thead>\n",
              "    <tbody>\n",
              "        <tr>\n",
              "            <td>0</td>\n",
              "            <td>Juan</td>\n",
              "            <td>23</td>\n",
              "            <td>Miami</td>\n",
              "        </tr>\n",
              "    </tbody>\n",
              "</table>"
            ]
          },
          "metadata": {},
          "execution_count": 17
        }
      ],
      "source": [
        "%%sql\n",
        "SELECT *\n",
        "FROM people\n",
        "WHERE city = \"Miami\""
      ]
    },
    {
      "cell_type": "markdown",
      "metadata": {
        "id": "vs4-RTRohpgK"
      },
      "source": [
        "Вывести людей не из Santiago"
      ]
    },
    {
      "cell_type": "code",
      "execution_count": 18,
      "metadata": {
        "id": "0yhjwFgQhpgK",
        "colab": {
          "base_uri": "https://localhost:8080/",
          "height": 118
        },
        "outputId": "c390737d-3380-48be-e077-73fab9e9cfd2"
      },
      "outputs": [
        {
          "output_type": "stream",
          "name": "stdout",
          "text": [
            " * sqlite:///jupyter_sql_tutorial.db\n",
            "Done.\n"
          ]
        },
        {
          "output_type": "execute_result",
          "data": {
            "text/plain": [
              "[(0, 'Juan', 23, 'Miami'), (1, 'Victoria', 34, 'Buenos Aires')]"
            ],
            "text/html": [
              "<table>\n",
              "    <thead>\n",
              "        <tr>\n",
              "            <th>index</th>\n",
              "            <th>name</th>\n",
              "            <th>age</th>\n",
              "            <th>city</th>\n",
              "        </tr>\n",
              "    </thead>\n",
              "    <tbody>\n",
              "        <tr>\n",
              "            <td>0</td>\n",
              "            <td>Juan</td>\n",
              "            <td>23</td>\n",
              "            <td>Miami</td>\n",
              "        </tr>\n",
              "        <tr>\n",
              "            <td>1</td>\n",
              "            <td>Victoria</td>\n",
              "            <td>34</td>\n",
              "            <td>Buenos Aires</td>\n",
              "        </tr>\n",
              "    </tbody>\n",
              "</table>"
            ]
          },
          "metadata": {},
          "execution_count": 18
        }
      ],
      "source": [
        "%%sql\n",
        "SELECT *\n",
        "FROM people\n",
        "WHERE  not city = 'Santiago'"
      ]
    },
    {
      "cell_type": "code",
      "execution_count": 19,
      "metadata": {
        "id": "pZLLPUU-hpgL",
        "colab": {
          "base_uri": "https://localhost:8080/",
          "height": 106
        },
        "outputId": "955dddcf-6fd3-4816-ffa7-6a9e8e00b10d"
      },
      "outputs": [
        {
          "output_type": "error",
          "ename": "SyntaxError",
          "evalue": "invalid syntax (ipython-input-19-2930970392.py, line 1)",
          "traceback": [
            "\u001b[0;36m  File \u001b[0;32m\"/tmp/ipython-input-19-2930970392.py\"\u001b[0;36m, line \u001b[0;32m1\u001b[0m\n\u001b[0;31m    Вывести людей из Santiago  или Miami\u001b[0m\n\u001b[0m            ^\u001b[0m\n\u001b[0;31mSyntaxError\u001b[0m\u001b[0;31m:\u001b[0m invalid syntax\n"
          ]
        }
      ],
      "source": [
        "Вывести людей из Santiago  или Miami"
      ]
    },
    {
      "cell_type": "code",
      "execution_count": 20,
      "metadata": {
        "id": "nTpUb0_8hpgL",
        "colab": {
          "base_uri": "https://localhost:8080/",
          "height": 118
        },
        "outputId": "94ad31df-2698-4cce-be66-21b258dfeba5"
      },
      "outputs": [
        {
          "output_type": "stream",
          "name": "stdout",
          "text": [
            " * sqlite:///jupyter_sql_tutorial.db\n",
            "Done.\n"
          ]
        },
        {
          "output_type": "execute_result",
          "data": {
            "text/plain": [
              "[(0, 'Juan', 23, 'Miami'), (2, 'Mary', 43, 'Santiago')]"
            ],
            "text/html": [
              "<table>\n",
              "    <thead>\n",
              "        <tr>\n",
              "            <th>index</th>\n",
              "            <th>name</th>\n",
              "            <th>age</th>\n",
              "            <th>city</th>\n",
              "        </tr>\n",
              "    </thead>\n",
              "    <tbody>\n",
              "        <tr>\n",
              "            <td>0</td>\n",
              "            <td>Juan</td>\n",
              "            <td>23</td>\n",
              "            <td>Miami</td>\n",
              "        </tr>\n",
              "        <tr>\n",
              "            <td>2</td>\n",
              "            <td>Mary</td>\n",
              "            <td>43</td>\n",
              "            <td>Santiago</td>\n",
              "        </tr>\n",
              "    </tbody>\n",
              "</table>"
            ]
          },
          "metadata": {},
          "execution_count": 20
        }
      ],
      "source": [
        "%%sql\n",
        "SELECT *\n",
        "FROM people\n",
        "WHERE   city == 'Santiago' or city == 'Miami'"
      ]
    },
    {
      "cell_type": "code",
      "execution_count": 21,
      "metadata": {
        "id": "CUWQ_1uxhpgL",
        "colab": {
          "base_uri": "https://localhost:8080/",
          "height": 96
        },
        "outputId": "d7a4bcd9-9d57-4aca-fffd-8b68001366ea"
      },
      "outputs": [
        {
          "output_type": "stream",
          "name": "stdout",
          "text": [
            " * sqlite:///jupyter_sql_tutorial.db\n",
            "Done.\n"
          ]
        },
        {
          "output_type": "execute_result",
          "data": {
            "text/plain": [
              "[(1, 'Victoria', 34, 'Buenos Aires')]"
            ],
            "text/html": [
              "<table>\n",
              "    <thead>\n",
              "        <tr>\n",
              "            <th>index</th>\n",
              "            <th>name</th>\n",
              "            <th>age</th>\n",
              "            <th>city</th>\n",
              "        </tr>\n",
              "    </thead>\n",
              "    <tbody>\n",
              "        <tr>\n",
              "            <td>1</td>\n",
              "            <td>Victoria</td>\n",
              "            <td>34</td>\n",
              "            <td>Buenos Aires</td>\n",
              "        </tr>\n",
              "    </tbody>\n",
              "</table>"
            ]
          },
          "metadata": {},
          "execution_count": 21
        }
      ],
      "source": [
        "%%sql\n",
        "SELECT * FROM people\n",
        "WHERE   age>= 25 and age<= 35"
      ]
    },
    {
      "cell_type": "markdown",
      "metadata": {
        "id": "SYqM4jbmhpgM"
      },
      "source": [
        "![image-2.png](https://raw.githubusercontent.com/trisha00001/file/main/s8.png)"
      ]
    },
    {
      "cell_type": "code",
      "execution_count": 22,
      "metadata": {
        "id": "TwiP815zhpgM",
        "outputId": "7f99b191-47e0-45fb-c178-dcccc913e424",
        "colab": {
          "base_uri": "https://localhost:8080/",
          "height": 139
        }
      },
      "outputs": [
        {
          "output_type": "stream",
          "name": "stdout",
          "text": [
            " * sqlite:///jupyter_sql_tutorial.db\n",
            "Done.\n"
          ]
        },
        {
          "output_type": "execute_result",
          "data": {
            "text/plain": [
              "[('Juan',), ('Mary',), ('Victoria',)]"
            ],
            "text/html": [
              "<table>\n",
              "    <thead>\n",
              "        <tr>\n",
              "            <th>name</th>\n",
              "        </tr>\n",
              "    </thead>\n",
              "    <tbody>\n",
              "        <tr>\n",
              "            <td>Juan</td>\n",
              "        </tr>\n",
              "        <tr>\n",
              "            <td>Mary</td>\n",
              "        </tr>\n",
              "        <tr>\n",
              "            <td>Victoria</td>\n",
              "        </tr>\n",
              "    </tbody>\n",
              "</table>"
            ]
          },
          "metadata": {},
          "execution_count": 22
        }
      ],
      "source": [
        "%%sql\n",
        "SELECT name FROM people\n",
        "ORDER BY name;"
      ]
    },
    {
      "cell_type": "code",
      "execution_count": 23,
      "metadata": {
        "id": "-Jijgl6xhpgM",
        "outputId": "655e060a-6db2-4b1c-b6ac-16988afd1937",
        "colab": {
          "base_uri": "https://localhost:8080/",
          "height": 139
        }
      },
      "outputs": [
        {
          "output_type": "stream",
          "name": "stdout",
          "text": [
            " * sqlite:///jupyter_sql_tutorial.db\n",
            "Done.\n"
          ]
        },
        {
          "output_type": "execute_result",
          "data": {
            "text/plain": [
              "[(1, 'Victoria', 34, 'Buenos Aires'),\n",
              " (2, 'Mary', 43, 'Santiago'),\n",
              " (0, 'Juan', 23, 'Miami')]"
            ],
            "text/html": [
              "<table>\n",
              "    <thead>\n",
              "        <tr>\n",
              "            <th>index</th>\n",
              "            <th>name</th>\n",
              "            <th>age</th>\n",
              "            <th>city</th>\n",
              "        </tr>\n",
              "    </thead>\n",
              "    <tbody>\n",
              "        <tr>\n",
              "            <td>1</td>\n",
              "            <td>Victoria</td>\n",
              "            <td>34</td>\n",
              "            <td>Buenos Aires</td>\n",
              "        </tr>\n",
              "        <tr>\n",
              "            <td>2</td>\n",
              "            <td>Mary</td>\n",
              "            <td>43</td>\n",
              "            <td>Santiago</td>\n",
              "        </tr>\n",
              "        <tr>\n",
              "            <td>0</td>\n",
              "            <td>Juan</td>\n",
              "            <td>23</td>\n",
              "            <td>Miami</td>\n",
              "        </tr>\n",
              "    </tbody>\n",
              "</table>"
            ]
          },
          "metadata": {},
          "execution_count": 23
        }
      ],
      "source": [
        "%%sql\n",
        "SELECT * FROM people\n",
        "ORDER BY name DESC;"
      ]
    },
    {
      "cell_type": "markdown",
      "metadata": {
        "id": "G-RqFvfEhpgN"
      },
      "source": [
        "Вывести людей из Santiago старше 40"
      ]
    },
    {
      "cell_type": "code",
      "execution_count": 24,
      "metadata": {
        "id": "kJjLN4CXhpgN",
        "outputId": "3e5091af-0eb4-446e-c801-3c4ac8e65595",
        "colab": {
          "base_uri": "https://localhost:8080/",
          "height": 118
        }
      },
      "outputs": [
        {
          "output_type": "stream",
          "name": "stdout",
          "text": [
            " * sqlite:///jupyter_sql_tutorial.db\n",
            "Done.\n"
          ]
        },
        {
          "output_type": "execute_result",
          "data": {
            "text/plain": [
              "[('Mary', 43), ('Victoria', 34)]"
            ],
            "text/html": [
              "<table>\n",
              "    <thead>\n",
              "        <tr>\n",
              "            <th>name</th>\n",
              "            <th>age</th>\n",
              "        </tr>\n",
              "    </thead>\n",
              "    <tbody>\n",
              "        <tr>\n",
              "            <td>Mary</td>\n",
              "            <td>43</td>\n",
              "        </tr>\n",
              "        <tr>\n",
              "            <td>Victoria</td>\n",
              "            <td>34</td>\n",
              "        </tr>\n",
              "    </tbody>\n",
              "</table>"
            ]
          },
          "metadata": {},
          "execution_count": 24
        }
      ],
      "source": [
        "%%sql\n",
        "SELECT name, age\n",
        "FROM people\n",
        "Where age>= 25\n",
        "ORDER BY name ;"
      ]
    },
    {
      "cell_type": "code",
      "execution_count": 25,
      "metadata": {
        "id": "CqdGMRJAhpgN",
        "outputId": "4c1ef37b-2473-41b8-9b45-77356dcb5370",
        "colab": {
          "base_uri": "https://localhost:8080/",
          "height": 118
        }
      },
      "outputs": [
        {
          "output_type": "stream",
          "name": "stdout",
          "text": [
            " * sqlite:///jupyter_sql_tutorial.db\n",
            "Done.\n"
          ]
        },
        {
          "output_type": "execute_result",
          "data": {
            "text/plain": [
              "[(2, 'Mary', 43, 'Santiago'), (0, 'Juan', 23, 'Miami')]"
            ],
            "text/html": [
              "<table>\n",
              "    <thead>\n",
              "        <tr>\n",
              "            <th>index</th>\n",
              "            <th>name</th>\n",
              "            <th>age</th>\n",
              "            <th>city</th>\n",
              "        </tr>\n",
              "    </thead>\n",
              "    <tbody>\n",
              "        <tr>\n",
              "            <td>2</td>\n",
              "            <td>Mary</td>\n",
              "            <td>43</td>\n",
              "            <td>Santiago</td>\n",
              "        </tr>\n",
              "        <tr>\n",
              "            <td>0</td>\n",
              "            <td>Juan</td>\n",
              "            <td>23</td>\n",
              "            <td>Miami</td>\n",
              "        </tr>\n",
              "    </tbody>\n",
              "</table>"
            ]
          },
          "metadata": {},
          "execution_count": 25
        }
      ],
      "source": [
        "%%sql\n",
        "SELECT *\n",
        "FROM people\n",
        "WHERE   city = 'Santiago' or city = 'Miami'\n",
        "ORDER BY name DESC;"
      ]
    },
    {
      "cell_type": "markdown",
      "metadata": {
        "id": "wGOKrOyRhpgM"
      },
      "source": [
        "![image.png](https://raw.githubusercontent.com/trisha00001/file/main/s9.png)"
      ]
    },
    {
      "cell_type": "code",
      "execution_count": 26,
      "metadata": {
        "id": "BIYOF30QhpgO",
        "colab": {
          "base_uri": "https://localhost:8080/",
          "height": 139
        },
        "outputId": "b4d11696-83c0-431d-ac1b-d25b017bb5a0"
      },
      "outputs": [
        {
          "output_type": "stream",
          "name": "stdout",
          "text": [
            " * sqlite:///jupyter_sql_tutorial.db\n",
            "Done.\n"
          ]
        },
        {
          "output_type": "execute_result",
          "data": {
            "text/plain": [
              "[(0, 'Juan', 23, 'Miami'),\n",
              " (1, 'Victoria', 34, 'Buenos Aires'),\n",
              " (2, 'Mary', 43, 'Santiago')]"
            ],
            "text/html": [
              "<table>\n",
              "    <thead>\n",
              "        <tr>\n",
              "            <th>index</th>\n",
              "            <th>name</th>\n",
              "            <th>age</th>\n",
              "            <th>city</th>\n",
              "        </tr>\n",
              "    </thead>\n",
              "    <tbody>\n",
              "        <tr>\n",
              "            <td>0</td>\n",
              "            <td>Juan</td>\n",
              "            <td>23</td>\n",
              "            <td>Miami</td>\n",
              "        </tr>\n",
              "        <tr>\n",
              "            <td>1</td>\n",
              "            <td>Victoria</td>\n",
              "            <td>34</td>\n",
              "            <td>Buenos Aires</td>\n",
              "        </tr>\n",
              "        <tr>\n",
              "            <td>2</td>\n",
              "            <td>Mary</td>\n",
              "            <td>43</td>\n",
              "            <td>Santiago</td>\n",
              "        </tr>\n",
              "    </tbody>\n",
              "</table>"
            ]
          },
          "metadata": {},
          "execution_count": 26
        }
      ],
      "source": [
        "%%sql\n",
        "SELECT *\n",
        "FROM people"
      ]
    },
    {
      "cell_type": "code",
      "execution_count": 27,
      "metadata": {
        "id": "w_yLQfm7hpgO",
        "outputId": "b7538cd7-f6ce-4890-dec8-52f5a2effd24",
        "colab": {
          "base_uri": "https://localhost:8080/",
          "height": 118
        }
      },
      "outputs": [
        {
          "output_type": "stream",
          "name": "stdout",
          "text": [
            " * sqlite:///jupyter_sql_tutorial.db\n",
            "Done.\n"
          ]
        },
        {
          "output_type": "execute_result",
          "data": {
            "text/plain": [
              "[(23,), (34,)]"
            ],
            "text/html": [
              "<table>\n",
              "    <thead>\n",
              "        <tr>\n",
              "            <th>age</th>\n",
              "        </tr>\n",
              "    </thead>\n",
              "    <tbody>\n",
              "        <tr>\n",
              "            <td>23</td>\n",
              "        </tr>\n",
              "        <tr>\n",
              "            <td>34</td>\n",
              "        </tr>\n",
              "    </tbody>\n",
              "</table>"
            ]
          },
          "metadata": {},
          "execution_count": 27
        }
      ],
      "source": [
        "%%sql\n",
        "SELECT age FROM people\n",
        "LIMIT 2"
      ]
    },
    {
      "cell_type": "markdown",
      "source": [
        "<br>\n",
        "\n",
        "<br>"
      ],
      "metadata": {
        "id": "mT5aXP6GDXVN"
      }
    },
    {
      "cell_type": "markdown",
      "metadata": {
        "id": "xeNdD-XohpgO"
      },
      "source": [
        "\n",
        "# Агрегированные функции/\n"
      ]
    },
    {
      "cell_type": "markdown",
      "metadata": {
        "id": "SgcvkGtThpgO"
      },
      "source": [
        "![image.png](https://raw.githubusercontent.com/trisha00001/file/main/s10.png)"
      ]
    },
    {
      "cell_type": "code",
      "execution_count": 28,
      "metadata": {
        "id": "O4h3a1QOhpgO",
        "outputId": "1c1dd835-5a0a-43d9-c7a0-7bf1d33fb98d",
        "colab": {
          "base_uri": "https://localhost:8080/",
          "height": 96
        }
      },
      "outputs": [
        {
          "output_type": "stream",
          "name": "stdout",
          "text": [
            " * sqlite:///jupyter_sql_tutorial.db\n",
            "Done.\n"
          ]
        },
        {
          "output_type": "execute_result",
          "data": {
            "text/plain": [
              "[(43,)]"
            ],
            "text/html": [
              "<table>\n",
              "    <thead>\n",
              "        <tr>\n",
              "            <th>max(age)</th>\n",
              "        </tr>\n",
              "    </thead>\n",
              "    <tbody>\n",
              "        <tr>\n",
              "            <td>43</td>\n",
              "        </tr>\n",
              "    </tbody>\n",
              "</table>"
            ]
          },
          "metadata": {},
          "execution_count": 28
        }
      ],
      "source": [
        "%%sql\n",
        "SELECT max(age)\n",
        "FROM people"
      ]
    },
    {
      "cell_type": "code",
      "execution_count": 29,
      "metadata": {
        "id": "RCD_d8o3hpgO",
        "outputId": "7f209947-d20a-4a66-c69e-6bae3e8ecc6c",
        "colab": {
          "base_uri": "https://localhost:8080/",
          "height": 96
        }
      },
      "outputs": [
        {
          "output_type": "stream",
          "name": "stdout",
          "text": [
            " * sqlite:///jupyter_sql_tutorial.db\n",
            "Done.\n"
          ]
        },
        {
          "output_type": "execute_result",
          "data": {
            "text/plain": [
              "[(23,)]"
            ],
            "text/html": [
              "<table>\n",
              "    <thead>\n",
              "        <tr>\n",
              "            <th>min(age)</th>\n",
              "        </tr>\n",
              "    </thead>\n",
              "    <tbody>\n",
              "        <tr>\n",
              "            <td>23</td>\n",
              "        </tr>\n",
              "    </tbody>\n",
              "</table>"
            ]
          },
          "metadata": {},
          "execution_count": 29
        }
      ],
      "source": [
        "%%sql\n",
        "SELECT min(age)\n",
        "FROM people"
      ]
    },
    {
      "cell_type": "code",
      "execution_count": 30,
      "metadata": {
        "id": "t4siMm52hpgP",
        "outputId": "7bef44ce-7f7a-4f2e-f496-18aa294a644a",
        "colab": {
          "base_uri": "https://localhost:8080/",
          "height": 96
        }
      },
      "outputs": [
        {
          "output_type": "stream",
          "name": "stdout",
          "text": [
            " * sqlite:///jupyter_sql_tutorial.db\n",
            "Done.\n"
          ]
        },
        {
          "output_type": "execute_result",
          "data": {
            "text/plain": [
              "[(43, 23)]"
            ],
            "text/html": [
              "<table>\n",
              "    <thead>\n",
              "        <tr>\n",
              "            <th>max(age)</th>\n",
              "            <th>min(age)</th>\n",
              "        </tr>\n",
              "    </thead>\n",
              "    <tbody>\n",
              "        <tr>\n",
              "            <td>43</td>\n",
              "            <td>23</td>\n",
              "        </tr>\n",
              "    </tbody>\n",
              "</table>"
            ]
          },
          "metadata": {},
          "execution_count": 30
        }
      ],
      "source": [
        "%%sql\n",
        "SELECT max(age), min(age)\n",
        "FROM people\n"
      ]
    },
    {
      "cell_type": "markdown",
      "metadata": {
        "id": "yAvUnma9hpgP"
      },
      "source": [
        "![image.png](https://raw.githubusercontent.com/trisha00001/file/main/s11.png)"
      ]
    },
    {
      "cell_type": "code",
      "execution_count": 31,
      "metadata": {
        "id": "52Lrhr4ahpgP",
        "outputId": "295eb7f0-af40-4442-b13b-7cb85d9becd5",
        "colab": {
          "base_uri": "https://localhost:8080/",
          "height": 96
        }
      },
      "outputs": [
        {
          "output_type": "stream",
          "name": "stdout",
          "text": [
            " * sqlite:///jupyter_sql_tutorial.db\n",
            "Done.\n"
          ]
        },
        {
          "output_type": "execute_result",
          "data": {
            "text/plain": [
              "[(2,)]"
            ],
            "text/html": [
              "<table>\n",
              "    <thead>\n",
              "        <tr>\n",
              "            <th>count(*)</th>\n",
              "        </tr>\n",
              "    </thead>\n",
              "    <tbody>\n",
              "        <tr>\n",
              "            <td>2</td>\n",
              "        </tr>\n",
              "    </tbody>\n",
              "</table>"
            ]
          },
          "metadata": {},
          "execution_count": 31
        }
      ],
      "source": [
        "%%sql\n",
        "SELECT count(*)\n",
        "FROM people\n",
        "Where age >25"
      ]
    },
    {
      "cell_type": "code",
      "execution_count": 32,
      "metadata": {
        "id": "-t8FDUAshpgP",
        "outputId": "a818b943-7c82-479e-fe8a-f7710fe66670",
        "colab": {
          "base_uri": "https://localhost:8080/",
          "height": 96
        }
      },
      "outputs": [
        {
          "output_type": "stream",
          "name": "stdout",
          "text": [
            " * sqlite:///jupyter_sql_tutorial.db\n",
            "Done.\n"
          ]
        },
        {
          "output_type": "execute_result",
          "data": {
            "text/plain": [
              "[(3,)]"
            ],
            "text/html": [
              "<table>\n",
              "    <thead>\n",
              "        <tr>\n",
              "            <th>count(*)</th>\n",
              "        </tr>\n",
              "    </thead>\n",
              "    <tbody>\n",
              "        <tr>\n",
              "            <td>3</td>\n",
              "        </tr>\n",
              "    </tbody>\n",
              "</table>"
            ]
          },
          "metadata": {},
          "execution_count": 32
        }
      ],
      "source": [
        "%%sql\n",
        "SELECT count(*)\n",
        "FROM people"
      ]
    },
    {
      "cell_type": "code",
      "execution_count": 33,
      "metadata": {
        "id": "89oMvSE2hpgP",
        "outputId": "244565a3-05f8-4da2-bdf8-a41cf84d682d",
        "colab": {
          "base_uri": "https://localhost:8080/",
          "height": 96
        }
      },
      "outputs": [
        {
          "output_type": "stream",
          "name": "stdout",
          "text": [
            " * sqlite:///jupyter_sql_tutorial.db\n",
            "Done.\n"
          ]
        },
        {
          "output_type": "execute_result",
          "data": {
            "text/plain": [
              "[(33.333333333333336,)]"
            ],
            "text/html": [
              "<table>\n",
              "    <thead>\n",
              "        <tr>\n",
              "            <th>avg(age)</th>\n",
              "        </tr>\n",
              "    </thead>\n",
              "    <tbody>\n",
              "        <tr>\n",
              "            <td>33.333333333333336</td>\n",
              "        </tr>\n",
              "    </tbody>\n",
              "</table>"
            ]
          },
          "metadata": {},
          "execution_count": 33
        }
      ],
      "source": [
        "%%sql\n",
        "SELECT avg(age)\n",
        "FROM people"
      ]
    },
    {
      "cell_type": "code",
      "execution_count": 34,
      "metadata": {
        "id": "ilgPKeuKhpgP",
        "outputId": "f2c1f05c-b152-4402-d1f1-533261bba0f2",
        "colab": {
          "base_uri": "https://localhost:8080/",
          "height": 96
        }
      },
      "outputs": [
        {
          "output_type": "stream",
          "name": "stdout",
          "text": [
            " * sqlite:///jupyter_sql_tutorial.db\n",
            "Done.\n"
          ]
        },
        {
          "output_type": "execute_result",
          "data": {
            "text/plain": [
              "[(100,)]"
            ],
            "text/html": [
              "<table>\n",
              "    <thead>\n",
              "        <tr>\n",
              "            <th>sum(age)</th>\n",
              "        </tr>\n",
              "    </thead>\n",
              "    <tbody>\n",
              "        <tr>\n",
              "            <td>100</td>\n",
              "        </tr>\n",
              "    </tbody>\n",
              "</table>"
            ]
          },
          "metadata": {},
          "execution_count": 34
        }
      ],
      "source": [
        "%%sql\n",
        "SELECT sum(age)\n",
        "FROM people\n"
      ]
    },
    {
      "cell_type": "markdown",
      "metadata": {
        "id": "hJ0QBStPhpgU"
      },
      "source": [
        "![image.png](https://raw.githubusercontent.com/trisha00001/file/main/s33.png)"
      ]
    },
    {
      "cell_type": "markdown",
      "source": [
        "![image.png](https://raw.githubusercontent.com/trisha00001/file/main/s37.png)"
      ],
      "metadata": {
        "id": "yN0aRRLIxv88"
      }
    },
    {
      "cell_type": "code",
      "execution_count": 35,
      "metadata": {
        "id": "cs00rOG8hpgQ",
        "outputId": "f928d865-407b-48be-d292-45597a7a4c8c",
        "colab": {
          "base_uri": "https://localhost:8080/",
          "height": 139
        }
      },
      "outputs": [
        {
          "output_type": "stream",
          "name": "stdout",
          "text": [
            " * sqlite:///jupyter_sql_tutorial.db\n",
            "Done.\n"
          ]
        },
        {
          "output_type": "execute_result",
          "data": {
            "text/plain": [
              "[(0, 'Juan', 23, 'Miami'),\n",
              " (1, 'Victoria', 34, 'Buenos Aires'),\n",
              " (2, 'Mary', 43, 'Santiago')]"
            ],
            "text/html": [
              "<table>\n",
              "    <thead>\n",
              "        <tr>\n",
              "            <th>index</th>\n",
              "            <th>name</th>\n",
              "            <th>age</th>\n",
              "            <th>city</th>\n",
              "        </tr>\n",
              "    </thead>\n",
              "    <tbody>\n",
              "        <tr>\n",
              "            <td>0</td>\n",
              "            <td>Juan</td>\n",
              "            <td>23</td>\n",
              "            <td>Miami</td>\n",
              "        </tr>\n",
              "        <tr>\n",
              "            <td>1</td>\n",
              "            <td>Victoria</td>\n",
              "            <td>34</td>\n",
              "            <td>Buenos Aires</td>\n",
              "        </tr>\n",
              "        <tr>\n",
              "            <td>2</td>\n",
              "            <td>Mary</td>\n",
              "            <td>43</td>\n",
              "            <td>Santiago</td>\n",
              "        </tr>\n",
              "    </tbody>\n",
              "</table>"
            ]
          },
          "metadata": {},
          "execution_count": 35
        }
      ],
      "source": [
        "%%sql\n",
        "SELECT *\n",
        "FROM people"
      ]
    },
    {
      "cell_type": "code",
      "execution_count": 36,
      "metadata": {
        "id": "hSBAuaZ7hpgQ",
        "outputId": "3a60e5cb-0ed6-47f9-ceac-b853d9c67ffe",
        "colab": {
          "base_uri": "https://localhost:8080/"
        }
      },
      "outputs": [
        {
          "output_type": "stream",
          "name": "stdout",
          "text": [
            " * sqlite:///jupyter_sql_tutorial.db\n",
            "1 rows affected.\n"
          ]
        },
        {
          "output_type": "execute_result",
          "data": {
            "text/plain": [
              "[]"
            ]
          },
          "metadata": {},
          "execution_count": 36
        }
      ],
      "source": [
        "%%sql\n",
        "INSERT INTO people\n",
        "VALUES (3,'Martin', 40,'Buenos Aires');"
      ]
    },
    {
      "cell_type": "code",
      "execution_count": 37,
      "metadata": {
        "id": "f8DC3c0YhpgQ",
        "outputId": "37dec2e8-6a5c-46f6-bae0-ee8323c6ce69",
        "colab": {
          "base_uri": "https://localhost:8080/"
        }
      },
      "outputs": [
        {
          "output_type": "stream",
          "name": "stdout",
          "text": [
            " * sqlite:///jupyter_sql_tutorial.db\n",
            "1 rows affected.\n"
          ]
        },
        {
          "output_type": "execute_result",
          "data": {
            "text/plain": [
              "[]"
            ]
          },
          "metadata": {},
          "execution_count": 37
        }
      ],
      "source": [
        "%%sql\n",
        "INSERT INTO people\n",
        "VALUES (4,'Mark', 25,'Buenos Aires');"
      ]
    },
    {
      "cell_type": "code",
      "execution_count": 38,
      "metadata": {
        "id": "Qaa4z4E1hpgQ",
        "outputId": "cffb8904-1b39-4f42-e04e-8fa224261a55",
        "colab": {
          "base_uri": "https://localhost:8080/",
          "height": 182
        }
      },
      "outputs": [
        {
          "output_type": "stream",
          "name": "stdout",
          "text": [
            " * sqlite:///jupyter_sql_tutorial.db\n",
            "Done.\n"
          ]
        },
        {
          "output_type": "execute_result",
          "data": {
            "text/plain": [
              "[(0, 'Juan', 23, 'Miami'),\n",
              " (1, 'Victoria', 34, 'Buenos Aires'),\n",
              " (2, 'Mary', 43, 'Santiago'),\n",
              " (3, 'Martin', 40, 'Buenos Aires'),\n",
              " (4, 'Mark', 25, 'Buenos Aires')]"
            ],
            "text/html": [
              "<table>\n",
              "    <thead>\n",
              "        <tr>\n",
              "            <th>index</th>\n",
              "            <th>name</th>\n",
              "            <th>age</th>\n",
              "            <th>city</th>\n",
              "        </tr>\n",
              "    </thead>\n",
              "    <tbody>\n",
              "        <tr>\n",
              "            <td>0</td>\n",
              "            <td>Juan</td>\n",
              "            <td>23</td>\n",
              "            <td>Miami</td>\n",
              "        </tr>\n",
              "        <tr>\n",
              "            <td>1</td>\n",
              "            <td>Victoria</td>\n",
              "            <td>34</td>\n",
              "            <td>Buenos Aires</td>\n",
              "        </tr>\n",
              "        <tr>\n",
              "            <td>2</td>\n",
              "            <td>Mary</td>\n",
              "            <td>43</td>\n",
              "            <td>Santiago</td>\n",
              "        </tr>\n",
              "        <tr>\n",
              "            <td>3</td>\n",
              "            <td>Martin</td>\n",
              "            <td>40</td>\n",
              "            <td>Buenos Aires</td>\n",
              "        </tr>\n",
              "        <tr>\n",
              "            <td>4</td>\n",
              "            <td>Mark</td>\n",
              "            <td>25</td>\n",
              "            <td>Buenos Aires</td>\n",
              "        </tr>\n",
              "    </tbody>\n",
              "</table>"
            ]
          },
          "metadata": {},
          "execution_count": 38
        }
      ],
      "source": [
        "%%sql\n",
        "SELECT *\n",
        "FROM people"
      ]
    },
    {
      "cell_type": "code",
      "execution_count": 39,
      "metadata": {
        "id": "AD2D05anhpgQ",
        "outputId": "9f3d5670-1fca-459c-b271-d73fc8ffe958",
        "colab": {
          "base_uri": "https://localhost:8080/",
          "height": 96
        }
      },
      "outputs": [
        {
          "output_type": "stream",
          "name": "stdout",
          "text": [
            " * sqlite:///jupyter_sql_tutorial.db\n",
            "Done.\n"
          ]
        },
        {
          "output_type": "execute_result",
          "data": {
            "text/plain": [
              "[(33.0,)]"
            ],
            "text/html": [
              "<table>\n",
              "    <thead>\n",
              "        <tr>\n",
              "            <th>avg(age)</th>\n",
              "        </tr>\n",
              "    </thead>\n",
              "    <tbody>\n",
              "        <tr>\n",
              "            <td>33.0</td>\n",
              "        </tr>\n",
              "    </tbody>\n",
              "</table>"
            ]
          },
          "metadata": {},
          "execution_count": 39
        }
      ],
      "source": [
        "%%sql\n",
        "SELECT avg(age)\n",
        "FROM people\n",
        "WHERE   city == 'Buenos Aires'"
      ]
    },
    {
      "cell_type": "code",
      "execution_count": 40,
      "metadata": {
        "id": "OgD3DOl2hpgR",
        "outputId": "b01dc371-0f18-438b-8f2d-8bd69a157812",
        "colab": {
          "base_uri": "https://localhost:8080/"
        }
      },
      "outputs": [
        {
          "output_type": "execute_result",
          "data": {
            "text/plain": [
              "33.0"
            ]
          },
          "metadata": {},
          "execution_count": 40
        }
      ],
      "source": [
        "(34+40+25)/3"
      ]
    },
    {
      "cell_type": "code",
      "execution_count": 41,
      "metadata": {
        "id": "Cg9tGBzGhpgR",
        "outputId": "48b9af12-dd35-43db-8277-4a31ca77dfe1",
        "colab": {
          "base_uri": "https://localhost:8080/"
        }
      },
      "outputs": [
        {
          "output_type": "stream",
          "name": "stdout",
          "text": [
            " * sqlite:///jupyter_sql_tutorial.db\n",
            "1 rows affected.\n"
          ]
        },
        {
          "output_type": "execute_result",
          "data": {
            "text/plain": [
              "[]"
            ]
          },
          "metadata": {},
          "execution_count": 41
        }
      ],
      "source": [
        "%%sql\n",
        "INSERT INTO people\n",
        "VALUES (5,'Marina', 43,'Sanremo');"
      ]
    },
    {
      "cell_type": "markdown",
      "metadata": {
        "id": "LkuFHmmPhpgR"
      },
      "source": [
        "![image.png](https://raw.githubusercontent.com/trisha00001/file/main/s34.png)"
      ]
    },
    {
      "cell_type": "code",
      "execution_count": 42,
      "metadata": {
        "id": "T_D1RpdzhpgR",
        "outputId": "e676172c-6e95-4607-e039-72c59183dc8d",
        "colab": {
          "base_uri": "https://localhost:8080/",
          "height": 203
        }
      },
      "outputs": [
        {
          "output_type": "stream",
          "name": "stdout",
          "text": [
            " * sqlite:///jupyter_sql_tutorial.db\n",
            "Done.\n"
          ]
        },
        {
          "output_type": "execute_result",
          "data": {
            "text/plain": [
              "[(0, 'Juan', 23, 'Miami'),\n",
              " (1, 'Victoria', 34, 'Buenos Aires'),\n",
              " (2, 'Mary', 43, 'Santiago'),\n",
              " (3, 'Martin', 40, 'Buenos Aires'),\n",
              " (4, 'Mark', 25, 'Buenos Aires'),\n",
              " (5, 'Marina', 43, 'Sanremo')]"
            ],
            "text/html": [
              "<table>\n",
              "    <thead>\n",
              "        <tr>\n",
              "            <th>index</th>\n",
              "            <th>name</th>\n",
              "            <th>age</th>\n",
              "            <th>city</th>\n",
              "        </tr>\n",
              "    </thead>\n",
              "    <tbody>\n",
              "        <tr>\n",
              "            <td>0</td>\n",
              "            <td>Juan</td>\n",
              "            <td>23</td>\n",
              "            <td>Miami</td>\n",
              "        </tr>\n",
              "        <tr>\n",
              "            <td>1</td>\n",
              "            <td>Victoria</td>\n",
              "            <td>34</td>\n",
              "            <td>Buenos Aires</td>\n",
              "        </tr>\n",
              "        <tr>\n",
              "            <td>2</td>\n",
              "            <td>Mary</td>\n",
              "            <td>43</td>\n",
              "            <td>Santiago</td>\n",
              "        </tr>\n",
              "        <tr>\n",
              "            <td>3</td>\n",
              "            <td>Martin</td>\n",
              "            <td>40</td>\n",
              "            <td>Buenos Aires</td>\n",
              "        </tr>\n",
              "        <tr>\n",
              "            <td>4</td>\n",
              "            <td>Mark</td>\n",
              "            <td>25</td>\n",
              "            <td>Buenos Aires</td>\n",
              "        </tr>\n",
              "        <tr>\n",
              "            <td>5</td>\n",
              "            <td>Marina</td>\n",
              "            <td>43</td>\n",
              "            <td>Sanremo</td>\n",
              "        </tr>\n",
              "    </tbody>\n",
              "</table>"
            ]
          },
          "metadata": {},
          "execution_count": 42
        }
      ],
      "source": [
        "%%sql\n",
        "SELECT *\n",
        "FROM people"
      ]
    },
    {
      "cell_type": "code",
      "execution_count": 43,
      "metadata": {
        "id": "dROBUa2shpgR",
        "outputId": "3b568f50-e881-4ed6-a875-652b684667cb",
        "colab": {
          "base_uri": "https://localhost:8080/"
        }
      },
      "outputs": [
        {
          "output_type": "stream",
          "name": "stdout",
          "text": [
            " * sqlite:///jupyter_sql_tutorial.db\n",
            "1 rows affected.\n"
          ]
        },
        {
          "output_type": "execute_result",
          "data": {
            "text/plain": [
              "[]"
            ]
          },
          "metadata": {},
          "execution_count": 43
        }
      ],
      "source": [
        "%%sql\n",
        "DELETE FROM people WHERE name='Marina';"
      ]
    },
    {
      "cell_type": "code",
      "execution_count": 44,
      "metadata": {
        "id": "RbjViRGvhpgR",
        "outputId": "016205d2-870f-466a-9c7a-5916e45aa97f",
        "colab": {
          "base_uri": "https://localhost:8080/",
          "height": 182
        }
      },
      "outputs": [
        {
          "output_type": "stream",
          "name": "stdout",
          "text": [
            " * sqlite:///jupyter_sql_tutorial.db\n",
            "Done.\n"
          ]
        },
        {
          "output_type": "execute_result",
          "data": {
            "text/plain": [
              "[(0, 'Juan', 23, 'Miami'),\n",
              " (1, 'Victoria', 34, 'Buenos Aires'),\n",
              " (2, 'Mary', 43, 'Santiago'),\n",
              " (3, 'Martin', 40, 'Buenos Aires'),\n",
              " (4, 'Mark', 25, 'Buenos Aires')]"
            ],
            "text/html": [
              "<table>\n",
              "    <thead>\n",
              "        <tr>\n",
              "            <th>index</th>\n",
              "            <th>name</th>\n",
              "            <th>age</th>\n",
              "            <th>city</th>\n",
              "        </tr>\n",
              "    </thead>\n",
              "    <tbody>\n",
              "        <tr>\n",
              "            <td>0</td>\n",
              "            <td>Juan</td>\n",
              "            <td>23</td>\n",
              "            <td>Miami</td>\n",
              "        </tr>\n",
              "        <tr>\n",
              "            <td>1</td>\n",
              "            <td>Victoria</td>\n",
              "            <td>34</td>\n",
              "            <td>Buenos Aires</td>\n",
              "        </tr>\n",
              "        <tr>\n",
              "            <td>2</td>\n",
              "            <td>Mary</td>\n",
              "            <td>43</td>\n",
              "            <td>Santiago</td>\n",
              "        </tr>\n",
              "        <tr>\n",
              "            <td>3</td>\n",
              "            <td>Martin</td>\n",
              "            <td>40</td>\n",
              "            <td>Buenos Aires</td>\n",
              "        </tr>\n",
              "        <tr>\n",
              "            <td>4</td>\n",
              "            <td>Mark</td>\n",
              "            <td>25</td>\n",
              "            <td>Buenos Aires</td>\n",
              "        </tr>\n",
              "    </tbody>\n",
              "</table>"
            ]
          },
          "metadata": {},
          "execution_count": 44
        }
      ],
      "source": [
        "%%sql\n",
        "SELECT *\n",
        "FROM people"
      ]
    },
    {
      "cell_type": "code",
      "execution_count": 45,
      "metadata": {
        "id": "VNT7zG3ShpgR",
        "outputId": "87ffc551-0ce8-45d9-d65c-678671246916",
        "colab": {
          "base_uri": "https://localhost:8080/"
        }
      },
      "outputs": [
        {
          "output_type": "stream",
          "name": "stdout",
          "text": [
            " * sqlite:///jupyter_sql_tutorial.db\n",
            "1 rows affected.\n",
            "1 rows affected.\n"
          ]
        },
        {
          "output_type": "execute_result",
          "data": {
            "text/plain": [
              "[]"
            ]
          },
          "metadata": {},
          "execution_count": 45
        }
      ],
      "source": [
        "%%sql\n",
        "INSERT INTO people\n",
        "VALUES (25,'Av', 14,'Sanremo');\n",
        "INSERT INTO people\n",
        "VALUES (25,'LAvi', 24,'Sanremo');"
      ]
    },
    {
      "cell_type": "code",
      "execution_count": 46,
      "metadata": {
        "id": "OBA_FwVEhpgR",
        "outputId": "f31ced8d-a5e1-4e3b-af0f-fc1bbbac926a",
        "colab": {
          "base_uri": "https://localhost:8080/",
          "height": 225
        }
      },
      "outputs": [
        {
          "output_type": "stream",
          "name": "stdout",
          "text": [
            " * sqlite:///jupyter_sql_tutorial.db\n",
            "Done.\n"
          ]
        },
        {
          "output_type": "execute_result",
          "data": {
            "text/plain": [
              "[(0, 'Juan', 23, 'Miami'),\n",
              " (1, 'Victoria', 34, 'Buenos Aires'),\n",
              " (2, 'Mary', 43, 'Santiago'),\n",
              " (3, 'Martin', 40, 'Buenos Aires'),\n",
              " (4, 'Mark', 25, 'Buenos Aires'),\n",
              " (25, 'Av', 14, 'Sanremo'),\n",
              " (25, 'LAvi', 24, 'Sanremo')]"
            ],
            "text/html": [
              "<table>\n",
              "    <thead>\n",
              "        <tr>\n",
              "            <th>index</th>\n",
              "            <th>name</th>\n",
              "            <th>age</th>\n",
              "            <th>city</th>\n",
              "        </tr>\n",
              "    </thead>\n",
              "    <tbody>\n",
              "        <tr>\n",
              "            <td>0</td>\n",
              "            <td>Juan</td>\n",
              "            <td>23</td>\n",
              "            <td>Miami</td>\n",
              "        </tr>\n",
              "        <tr>\n",
              "            <td>1</td>\n",
              "            <td>Victoria</td>\n",
              "            <td>34</td>\n",
              "            <td>Buenos Aires</td>\n",
              "        </tr>\n",
              "        <tr>\n",
              "            <td>2</td>\n",
              "            <td>Mary</td>\n",
              "            <td>43</td>\n",
              "            <td>Santiago</td>\n",
              "        </tr>\n",
              "        <tr>\n",
              "            <td>3</td>\n",
              "            <td>Martin</td>\n",
              "            <td>40</td>\n",
              "            <td>Buenos Aires</td>\n",
              "        </tr>\n",
              "        <tr>\n",
              "            <td>4</td>\n",
              "            <td>Mark</td>\n",
              "            <td>25</td>\n",
              "            <td>Buenos Aires</td>\n",
              "        </tr>\n",
              "        <tr>\n",
              "            <td>25</td>\n",
              "            <td>Av</td>\n",
              "            <td>14</td>\n",
              "            <td>Sanremo</td>\n",
              "        </tr>\n",
              "        <tr>\n",
              "            <td>25</td>\n",
              "            <td>LAvi</td>\n",
              "            <td>24</td>\n",
              "            <td>Sanremo</td>\n",
              "        </tr>\n",
              "    </tbody>\n",
              "</table>"
            ]
          },
          "metadata": {},
          "execution_count": 46
        }
      ],
      "source": [
        "%%sql\n",
        "SELECT *\n",
        "FROM people"
      ]
    },
    {
      "cell_type": "code",
      "execution_count": 47,
      "metadata": {
        "id": "HzD6ULZ5hpgR",
        "outputId": "be36834a-8d58-4f57-d3e1-52a77b2bbac4",
        "colab": {
          "base_uri": "https://localhost:8080/"
        }
      },
      "outputs": [
        {
          "output_type": "stream",
          "name": "stdout",
          "text": [
            " * sqlite:///jupyter_sql_tutorial.db\n",
            "1 rows affected.\n"
          ]
        },
        {
          "output_type": "execute_result",
          "data": {
            "text/plain": [
              "[]"
            ]
          },
          "metadata": {},
          "execution_count": 47
        }
      ],
      "source": [
        "%%sql\n",
        "DELETE FROM people WHERE name=='Av';"
      ]
    },
    {
      "cell_type": "code",
      "execution_count": 48,
      "metadata": {
        "id": "cUjDx6amhpgS",
        "outputId": "69fd86cd-d6f6-46f2-e801-fa87caa8a779",
        "colab": {
          "base_uri": "https://localhost:8080/",
          "height": 203
        }
      },
      "outputs": [
        {
          "output_type": "stream",
          "name": "stdout",
          "text": [
            " * sqlite:///jupyter_sql_tutorial.db\n",
            "Done.\n"
          ]
        },
        {
          "output_type": "execute_result",
          "data": {
            "text/plain": [
              "[(0, 'Juan', 23, 'Miami'),\n",
              " (1, 'Victoria', 34, 'Buenos Aires'),\n",
              " (2, 'Mary', 43, 'Santiago'),\n",
              " (3, 'Martin', 40, 'Buenos Aires'),\n",
              " (4, 'Mark', 25, 'Buenos Aires'),\n",
              " (25, 'LAvi', 24, 'Sanremo')]"
            ],
            "text/html": [
              "<table>\n",
              "    <thead>\n",
              "        <tr>\n",
              "            <th>index</th>\n",
              "            <th>name</th>\n",
              "            <th>age</th>\n",
              "            <th>city</th>\n",
              "        </tr>\n",
              "    </thead>\n",
              "    <tbody>\n",
              "        <tr>\n",
              "            <td>0</td>\n",
              "            <td>Juan</td>\n",
              "            <td>23</td>\n",
              "            <td>Miami</td>\n",
              "        </tr>\n",
              "        <tr>\n",
              "            <td>1</td>\n",
              "            <td>Victoria</td>\n",
              "            <td>34</td>\n",
              "            <td>Buenos Aires</td>\n",
              "        </tr>\n",
              "        <tr>\n",
              "            <td>2</td>\n",
              "            <td>Mary</td>\n",
              "            <td>43</td>\n",
              "            <td>Santiago</td>\n",
              "        </tr>\n",
              "        <tr>\n",
              "            <td>3</td>\n",
              "            <td>Martin</td>\n",
              "            <td>40</td>\n",
              "            <td>Buenos Aires</td>\n",
              "        </tr>\n",
              "        <tr>\n",
              "            <td>4</td>\n",
              "            <td>Mark</td>\n",
              "            <td>25</td>\n",
              "            <td>Buenos Aires</td>\n",
              "        </tr>\n",
              "        <tr>\n",
              "            <td>25</td>\n",
              "            <td>LAvi</td>\n",
              "            <td>24</td>\n",
              "            <td>Sanremo</td>\n",
              "        </tr>\n",
              "    </tbody>\n",
              "</table>"
            ]
          },
          "metadata": {},
          "execution_count": 48
        }
      ],
      "source": [
        "%%sql\n",
        "SELECT *\n",
        "FROM people"
      ]
    },
    {
      "cell_type": "code",
      "execution_count": 49,
      "metadata": {
        "id": "jeFCr4ZEhpgS",
        "outputId": "19a548e3-65be-4a74-b96d-b6abbeb2a810",
        "colab": {
          "base_uri": "https://localhost:8080/",
          "height": 96
        }
      },
      "outputs": [
        {
          "output_type": "stream",
          "name": "stdout",
          "text": [
            " * sqlite:///jupyter_sql_tutorial.db\n",
            "Done.\n"
          ]
        },
        {
          "output_type": "execute_result",
          "data": {
            "text/plain": [
              "[(3,)]"
            ],
            "text/html": [
              "<table>\n",
              "    <thead>\n",
              "        <tr>\n",
              "            <th>COUNT(city)</th>\n",
              "        </tr>\n",
              "    </thead>\n",
              "    <tbody>\n",
              "        <tr>\n",
              "            <td>3</td>\n",
              "        </tr>\n",
              "    </tbody>\n",
              "</table>"
            ]
          },
          "metadata": {},
          "execution_count": 49
        }
      ],
      "source": [
        "%%sql\n",
        "SELECT COUNT(city)\n",
        "FROM people\n",
        "Where city ==\"Buenos Aires\"\n"
      ]
    },
    {
      "cell_type": "markdown",
      "metadata": {
        "id": "ecHav78ChpgS"
      },
      "source": [
        "![image.png](https://raw.githubusercontent.com/trisha00001/file/main/s13.png)"
      ]
    },
    {
      "cell_type": "markdown",
      "source": [
        "![image-2.png](https://raw.githubusercontent.com/trisha00001/file/main/s19.png)"
      ],
      "metadata": {
        "id": "WnXHIbO0jsua"
      }
    },
    {
      "cell_type": "code",
      "execution_count": 50,
      "metadata": {
        "id": "FbMkUB5yhpgS",
        "outputId": "4951f016-2bb0-4f15-804a-3f196ac2bde1",
        "colab": {
          "base_uri": "https://localhost:8080/",
          "height": 139
        }
      },
      "outputs": [
        {
          "output_type": "stream",
          "name": "stdout",
          "text": [
            " * sqlite:///jupyter_sql_tutorial.db\n",
            "Done.\n"
          ]
        },
        {
          "output_type": "execute_result",
          "data": {
            "text/plain": [
              "[('Santiago', 'Mary'), ('Buenos Aires', 'Martin'), ('Buenos Aires', 'Mark')]"
            ],
            "text/html": [
              "<table>\n",
              "    <thead>\n",
              "        <tr>\n",
              "            <th>city</th>\n",
              "            <th>name</th>\n",
              "        </tr>\n",
              "    </thead>\n",
              "    <tbody>\n",
              "        <tr>\n",
              "            <td>Santiago</td>\n",
              "            <td>Mary</td>\n",
              "        </tr>\n",
              "        <tr>\n",
              "            <td>Buenos Aires</td>\n",
              "            <td>Martin</td>\n",
              "        </tr>\n",
              "        <tr>\n",
              "            <td>Buenos Aires</td>\n",
              "            <td>Mark</td>\n",
              "        </tr>\n",
              "    </tbody>\n",
              "</table>"
            ]
          },
          "metadata": {},
          "execution_count": 50
        }
      ],
      "source": [
        "%%sql\n",
        "SELECT city,name\n",
        "FROM people\n",
        "WHERE name LIKE 'M%'"
      ]
    },
    {
      "cell_type": "code",
      "execution_count": 51,
      "metadata": {
        "id": "f4l49IvIhpgS",
        "outputId": "ad42fb73-eabf-485b-bef7-1ef350514373",
        "colab": {
          "base_uri": "https://localhost:8080/",
          "height": 139
        }
      },
      "outputs": [
        {
          "output_type": "stream",
          "name": "stdout",
          "text": [
            " * sqlite:///jupyter_sql_tutorial.db\n",
            "Done.\n"
          ]
        },
        {
          "output_type": "execute_result",
          "data": {
            "text/plain": [
              "[('Santiago', 'Mary'), ('Buenos Aires', 'Martin'), ('Buenos Aires', 'Mark')]"
            ],
            "text/html": [
              "<table>\n",
              "    <thead>\n",
              "        <tr>\n",
              "            <th>city</th>\n",
              "            <th>name</th>\n",
              "        </tr>\n",
              "    </thead>\n",
              "    <tbody>\n",
              "        <tr>\n",
              "            <td>Santiago</td>\n",
              "            <td>Mary</td>\n",
              "        </tr>\n",
              "        <tr>\n",
              "            <td>Buenos Aires</td>\n",
              "            <td>Martin</td>\n",
              "        </tr>\n",
              "        <tr>\n",
              "            <td>Buenos Aires</td>\n",
              "            <td>Mark</td>\n",
              "        </tr>\n",
              "    </tbody>\n",
              "</table>"
            ]
          },
          "metadata": {},
          "execution_count": 51
        }
      ],
      "source": [
        "%%sql\n",
        "SELECT city,name\n",
        "FROM people\n",
        "WHERE name  LIKE '__r%'"
      ]
    },
    {
      "cell_type": "markdown",
      "metadata": {
        "id": "Wgu2zi4thpgS"
      },
      "source": [
        "![image.png](https://raw.githubusercontent.com/trisha00001/file/main/s15.png)"
      ]
    },
    {
      "cell_type": "code",
      "execution_count": 52,
      "metadata": {
        "scrolled": true,
        "id": "M_ggQRKMhpgT",
        "outputId": "b4a1fcc8-c64e-4481-e910-17e9193e64b2",
        "colab": {
          "base_uri": "https://localhost:8080/",
          "height": 118
        }
      },
      "outputs": [
        {
          "output_type": "stream",
          "name": "stdout",
          "text": [
            " * sqlite:///jupyter_sql_tutorial.db\n",
            "Done.\n"
          ]
        },
        {
          "output_type": "execute_result",
          "data": {
            "text/plain": [
              "[(2, 'Mary', 43, 'Santiago'), (3, 'Martin', 40, 'Buenos Aires')]"
            ],
            "text/html": [
              "<table>\n",
              "    <thead>\n",
              "        <tr>\n",
              "            <th>index</th>\n",
              "            <th>name</th>\n",
              "            <th>age</th>\n",
              "            <th>city</th>\n",
              "        </tr>\n",
              "    </thead>\n",
              "    <tbody>\n",
              "        <tr>\n",
              "            <td>2</td>\n",
              "            <td>Mary</td>\n",
              "            <td>43</td>\n",
              "            <td>Santiago</td>\n",
              "        </tr>\n",
              "        <tr>\n",
              "            <td>3</td>\n",
              "            <td>Martin</td>\n",
              "            <td>40</td>\n",
              "            <td>Buenos Aires</td>\n",
              "        </tr>\n",
              "    </tbody>\n",
              "</table>"
            ]
          },
          "metadata": {},
          "execution_count": 52
        }
      ],
      "source": [
        "%%sql\n",
        "SELECT *\n",
        "FROM people\n",
        "WHERE name IN ('Mary', 'Martin');"
      ]
    },
    {
      "cell_type": "markdown",
      "metadata": {
        "id": "mV4WcFhwhpgV"
      },
      "source": [
        "![image.png](https://raw.githubusercontent.com/trisha00001/file/main/s16.png)"
      ]
    },
    {
      "cell_type": "code",
      "execution_count": 53,
      "metadata": {
        "id": "0F7eZWjlhpgT",
        "outputId": "27d2cf00-40e4-42b1-feb3-d7918f111c1c",
        "colab": {
          "base_uri": "https://localhost:8080/",
          "height": 139
        }
      },
      "outputs": [
        {
          "output_type": "stream",
          "name": "stdout",
          "text": [
            " * sqlite:///jupyter_sql_tutorial.db\n",
            "Done.\n"
          ]
        },
        {
          "output_type": "execute_result",
          "data": {
            "text/plain": [
              "[(1, 'Victoria', 34, 'Buenos Aires'),\n",
              " (3, 'Martin', 40, 'Buenos Aires'),\n",
              " (4, 'Mark', 25, 'Buenos Aires')]"
            ],
            "text/html": [
              "<table>\n",
              "    <thead>\n",
              "        <tr>\n",
              "            <th>index</th>\n",
              "            <th>name</th>\n",
              "            <th>age</th>\n",
              "            <th>city</th>\n",
              "        </tr>\n",
              "    </thead>\n",
              "    <tbody>\n",
              "        <tr>\n",
              "            <td>1</td>\n",
              "            <td>Victoria</td>\n",
              "            <td>34</td>\n",
              "            <td>Buenos Aires</td>\n",
              "        </tr>\n",
              "        <tr>\n",
              "            <td>3</td>\n",
              "            <td>Martin</td>\n",
              "            <td>40</td>\n",
              "            <td>Buenos Aires</td>\n",
              "        </tr>\n",
              "        <tr>\n",
              "            <td>4</td>\n",
              "            <td>Mark</td>\n",
              "            <td>25</td>\n",
              "            <td>Buenos Aires</td>\n",
              "        </tr>\n",
              "    </tbody>\n",
              "</table>"
            ]
          },
          "metadata": {},
          "execution_count": 53
        }
      ],
      "source": [
        "%%sql\n",
        "SELECT *\n",
        "FROM people\n",
        "WHERE age BETWEEN 25 AND 40"
      ]
    },
    {
      "cell_type": "code",
      "execution_count": 54,
      "metadata": {
        "id": "Vrfdl3TXhpgT",
        "outputId": "0f465c16-52d8-4ba7-8127-5bb2ed1bc444",
        "colab": {
          "base_uri": "https://localhost:8080/",
          "height": 203
        }
      },
      "outputs": [
        {
          "output_type": "stream",
          "name": "stdout",
          "text": [
            " * sqlite:///jupyter_sql_tutorial.db\n",
            "Done.\n"
          ]
        },
        {
          "output_type": "execute_result",
          "data": {
            "text/plain": [
              "[('Juan', 23),\n",
              " ('Victoria', 34),\n",
              " ('Mary', 43),\n",
              " ('Martin', 40),\n",
              " ('Mark', 25),\n",
              " ('LAvi', 24)]"
            ],
            "text/html": [
              "<table>\n",
              "    <thead>\n",
              "        <tr>\n",
              "            <th>Имя</th>\n",
              "            <th>Возраст</th>\n",
              "        </tr>\n",
              "    </thead>\n",
              "    <tbody>\n",
              "        <tr>\n",
              "            <td>Juan</td>\n",
              "            <td>23</td>\n",
              "        </tr>\n",
              "        <tr>\n",
              "            <td>Victoria</td>\n",
              "            <td>34</td>\n",
              "        </tr>\n",
              "        <tr>\n",
              "            <td>Mary</td>\n",
              "            <td>43</td>\n",
              "        </tr>\n",
              "        <tr>\n",
              "            <td>Martin</td>\n",
              "            <td>40</td>\n",
              "        </tr>\n",
              "        <tr>\n",
              "            <td>Mark</td>\n",
              "            <td>25</td>\n",
              "        </tr>\n",
              "        <tr>\n",
              "            <td>LAvi</td>\n",
              "            <td>24</td>\n",
              "        </tr>\n",
              "    </tbody>\n",
              "</table>"
            ]
          },
          "metadata": {},
          "execution_count": 54
        }
      ],
      "source": [
        "%%sql\n",
        "SELECT name as 'Имя', age as 'Возраст'\n",
        "FROM people\n"
      ]
    },
    {
      "cell_type": "code",
      "execution_count": 55,
      "metadata": {
        "id": "fSjT2StPhpgT",
        "outputId": "54bf4136-c69f-4669-f12b-8533007c5030",
        "colab": {
          "base_uri": "https://localhost:8080/"
        }
      },
      "outputs": [
        {
          "output_type": "stream",
          "name": "stdout",
          "text": [
            " * sqlite:///jupyter_sql_tutorial.db\n",
            "Done.\n"
          ]
        },
        {
          "output_type": "execute_result",
          "data": {
            "text/plain": [
              "[]"
            ]
          },
          "metadata": {},
          "execution_count": 55
        }
      ],
      "source": [
        "%%sql\n",
        "CREATE TABLE zarp\n",
        "(\n",
        "    key      integer,\n",
        "    name  varchar(6),\n",
        "    price     float\n",
        ");\n"
      ]
    },
    {
      "cell_type": "code",
      "execution_count": 56,
      "metadata": {
        "id": "YUxZdrQKhpgT",
        "outputId": "354f46a0-b8cb-44fb-eab2-2927fc213485",
        "colab": {
          "base_uri": "https://localhost:8080/"
        }
      },
      "outputs": [
        {
          "output_type": "stream",
          "name": "stdout",
          "text": [
            " * sqlite:///jupyter_sql_tutorial.db\n",
            "1 rows affected.\n"
          ]
        },
        {
          "output_type": "execute_result",
          "data": {
            "text/plain": [
              "[]"
            ]
          },
          "metadata": {},
          "execution_count": 56
        }
      ],
      "source": [
        "%%sql\n",
        "INSERT INTO zarp\n",
        "VALUES (1,'Mark', 14.08);\n"
      ]
    },
    {
      "cell_type": "code",
      "execution_count": 57,
      "metadata": {
        "id": "F1hhn9mphpgU",
        "outputId": "afb2a2ba-c835-434c-948e-a2f1ef74aab9",
        "colab": {
          "base_uri": "https://localhost:8080/"
        }
      },
      "outputs": [
        {
          "output_type": "stream",
          "name": "stdout",
          "text": [
            " * sqlite:///jupyter_sql_tutorial.db\n",
            "1 rows affected.\n"
          ]
        },
        {
          "output_type": "execute_result",
          "data": {
            "text/plain": [
              "[]"
            ]
          },
          "metadata": {},
          "execution_count": 57
        }
      ],
      "source": [
        "%%sql\n",
        "INSERT INTO zarp\n",
        "VALUES (2,'LAvi', 24.90);"
      ]
    },
    {
      "cell_type": "code",
      "execution_count": 58,
      "metadata": {
        "id": "bkOf2J5VhpgU",
        "outputId": "f4b22078-069a-4dfb-aef6-aa107410befd",
        "colab": {
          "base_uri": "https://localhost:8080/",
          "height": 118
        }
      },
      "outputs": [
        {
          "output_type": "stream",
          "name": "stdout",
          "text": [
            " * sqlite:///jupyter_sql_tutorial.db\n",
            "Done.\n"
          ]
        },
        {
          "output_type": "execute_result",
          "data": {
            "text/plain": [
              "[(1, 'Mark', 14.08), (2, 'LAvi', 24.9)]"
            ],
            "text/html": [
              "<table>\n",
              "    <thead>\n",
              "        <tr>\n",
              "            <th>key</th>\n",
              "            <th>name</th>\n",
              "            <th>price</th>\n",
              "        </tr>\n",
              "    </thead>\n",
              "    <tbody>\n",
              "        <tr>\n",
              "            <td>1</td>\n",
              "            <td>Mark</td>\n",
              "            <td>14.08</td>\n",
              "        </tr>\n",
              "        <tr>\n",
              "            <td>2</td>\n",
              "            <td>LAvi</td>\n",
              "            <td>24.9</td>\n",
              "        </tr>\n",
              "    </tbody>\n",
              "</table>"
            ]
          },
          "metadata": {},
          "execution_count": 58
        }
      ],
      "source": [
        "%%sql\n",
        "select * from zarp"
      ]
    },
    {
      "cell_type": "code",
      "execution_count": 59,
      "metadata": {
        "id": "1VgwfEb9hpgU",
        "outputId": "d8d25d38-e839-45a3-bae3-e4c526104ecc",
        "colab": {
          "base_uri": "https://localhost:8080/"
        }
      },
      "outputs": [
        {
          "output_type": "stream",
          "name": "stdout",
          "text": [
            " * sqlite:///jupyter_sql_tutorial.db\n",
            "1 rows affected.\n"
          ]
        },
        {
          "output_type": "execute_result",
          "data": {
            "text/plain": [
              "[]"
            ]
          },
          "metadata": {},
          "execution_count": 59
        }
      ],
      "source": [
        "%%sql\n",
        "INSERT INTO zarp\n",
        "VALUES (9,'Av', 50.90);"
      ]
    },
    {
      "cell_type": "code",
      "execution_count": 60,
      "metadata": {
        "id": "_uDsblp9hpgU",
        "outputId": "3e673e22-ec32-4f3e-d781-995c427b5027",
        "colab": {
          "base_uri": "https://localhost:8080/",
          "height": 139
        }
      },
      "outputs": [
        {
          "output_type": "stream",
          "name": "stdout",
          "text": [
            " * sqlite:///jupyter_sql_tutorial.db\n",
            "Done.\n"
          ]
        },
        {
          "output_type": "execute_result",
          "data": {
            "text/plain": [
              "[(1, 'Mark', 14.08), (2, 'LAvi', 24.9), (9, 'Av', 50.9)]"
            ],
            "text/html": [
              "<table>\n",
              "    <thead>\n",
              "        <tr>\n",
              "            <th>key</th>\n",
              "            <th>name</th>\n",
              "            <th>price</th>\n",
              "        </tr>\n",
              "    </thead>\n",
              "    <tbody>\n",
              "        <tr>\n",
              "            <td>1</td>\n",
              "            <td>Mark</td>\n",
              "            <td>14.08</td>\n",
              "        </tr>\n",
              "        <tr>\n",
              "            <td>2</td>\n",
              "            <td>LAvi</td>\n",
              "            <td>24.9</td>\n",
              "        </tr>\n",
              "        <tr>\n",
              "            <td>9</td>\n",
              "            <td>Av</td>\n",
              "            <td>50.9</td>\n",
              "        </tr>\n",
              "    </tbody>\n",
              "</table>"
            ]
          },
          "metadata": {},
          "execution_count": 60
        }
      ],
      "source": [
        "%%sql\n",
        "Select *\n",
        "from zarp"
      ]
    },
    {
      "cell_type": "code",
      "execution_count": 61,
      "metadata": {
        "id": "ncjmkJ_OhpgU",
        "outputId": "9edda0f1-66c9-497c-e645-82ecc5f541fe",
        "colab": {
          "base_uri": "https://localhost:8080/",
          "height": 203
        }
      },
      "outputs": [
        {
          "output_type": "stream",
          "name": "stdout",
          "text": [
            " * sqlite:///jupyter_sql_tutorial.db\n",
            "Done.\n"
          ]
        },
        {
          "output_type": "execute_result",
          "data": {
            "text/plain": [
              "[(0, 'Juan', 23, 'Miami'),\n",
              " (1, 'Victoria', 34, 'Buenos Aires'),\n",
              " (2, 'Mary', 43, 'Santiago'),\n",
              " (3, 'Martin', 40, 'Buenos Aires'),\n",
              " (4, 'Mark', 25, 'Buenos Aires'),\n",
              " (25, 'LAvi', 24, 'Sanremo')]"
            ],
            "text/html": [
              "<table>\n",
              "    <thead>\n",
              "        <tr>\n",
              "            <th>index</th>\n",
              "            <th>name</th>\n",
              "            <th>age</th>\n",
              "            <th>city</th>\n",
              "        </tr>\n",
              "    </thead>\n",
              "    <tbody>\n",
              "        <tr>\n",
              "            <td>0</td>\n",
              "            <td>Juan</td>\n",
              "            <td>23</td>\n",
              "            <td>Miami</td>\n",
              "        </tr>\n",
              "        <tr>\n",
              "            <td>1</td>\n",
              "            <td>Victoria</td>\n",
              "            <td>34</td>\n",
              "            <td>Buenos Aires</td>\n",
              "        </tr>\n",
              "        <tr>\n",
              "            <td>2</td>\n",
              "            <td>Mary</td>\n",
              "            <td>43</td>\n",
              "            <td>Santiago</td>\n",
              "        </tr>\n",
              "        <tr>\n",
              "            <td>3</td>\n",
              "            <td>Martin</td>\n",
              "            <td>40</td>\n",
              "            <td>Buenos Aires</td>\n",
              "        </tr>\n",
              "        <tr>\n",
              "            <td>4</td>\n",
              "            <td>Mark</td>\n",
              "            <td>25</td>\n",
              "            <td>Buenos Aires</td>\n",
              "        </tr>\n",
              "        <tr>\n",
              "            <td>25</td>\n",
              "            <td>LAvi</td>\n",
              "            <td>24</td>\n",
              "            <td>Sanremo</td>\n",
              "        </tr>\n",
              "    </tbody>\n",
              "</table>"
            ]
          },
          "metadata": {},
          "execution_count": 61
        }
      ],
      "source": [
        "%%sql\n",
        "Select *\n",
        "from people\n"
      ]
    },
    {
      "cell_type": "code",
      "execution_count": 62,
      "metadata": {
        "id": "1gvSU9QJhpgV",
        "colab": {
          "base_uri": "https://localhost:8080/",
          "height": 139
        },
        "outputId": "fb2efb5f-db03-47d0-c5a6-a05b5c123781"
      },
      "outputs": [
        {
          "output_type": "stream",
          "name": "stdout",
          "text": [
            " * sqlite:///jupyter_sql_tutorial.db\n",
            "Done.\n"
          ]
        },
        {
          "output_type": "execute_result",
          "data": {
            "text/plain": [
              "[(1, 'Mark', 14.08), (2, 'LAvi', 24.9), (9, 'Av', 50.9)]"
            ],
            "text/html": [
              "<table>\n",
              "    <thead>\n",
              "        <tr>\n",
              "            <th>key</th>\n",
              "            <th>name</th>\n",
              "            <th>price</th>\n",
              "        </tr>\n",
              "    </thead>\n",
              "    <tbody>\n",
              "        <tr>\n",
              "            <td>1</td>\n",
              "            <td>Mark</td>\n",
              "            <td>14.08</td>\n",
              "        </tr>\n",
              "        <tr>\n",
              "            <td>2</td>\n",
              "            <td>LAvi</td>\n",
              "            <td>24.9</td>\n",
              "        </tr>\n",
              "        <tr>\n",
              "            <td>9</td>\n",
              "            <td>Av</td>\n",
              "            <td>50.9</td>\n",
              "        </tr>\n",
              "    </tbody>\n",
              "</table>"
            ]
          },
          "metadata": {},
          "execution_count": 62
        }
      ],
      "source": [
        "%%sql\n",
        "Select *\n",
        "from zarp"
      ]
    },
    {
      "cell_type": "markdown",
      "source": [
        "<H2/>JOIN\n",
        "\n",
        "JOIN-соединения – операции\n",
        "горизонтального соединения данных.\n",
        "\n",
        "Cуть операции объединения - склеить\n",
        "разбитые по таблицам данные ,т.е.\n",
        "привести их обратно в человеческий вид.\n",
        "JOIN объединяет строки из двух или более\n",
        "таблиц, на основе связи между ними (ключей)."
      ],
      "metadata": {
        "id": "5vUyponOwEfP"
      }
    },
    {
      "cell_type": "markdown",
      "metadata": {
        "id": "G4Xuia8OhpgV"
      },
      "source": [
        "![image.png](https://raw.githubusercontent.com/trisha00001/file/main/s18.png)"
      ]
    },
    {
      "cell_type": "markdown",
      "metadata": {
        "id": "Qv0EZSpShpgY"
      },
      "source": [
        "![image.png](https://raw.githubusercontent.com/trisha00001/file/main/S20.png)"
      ]
    },
    {
      "cell_type": "markdown",
      "metadata": {
        "id": "WaDLYbDnhpgY"
      },
      "source": [
        "![image.png](https://raw.githubusercontent.com/trisha00001/file/main/S21.png)"
      ]
    },
    {
      "cell_type": "code",
      "execution_count": 63,
      "metadata": {
        "scrolled": true,
        "id": "deIXi5orhpgV",
        "outputId": "4ae26691-3fc3-4114-8c6c-f723a87e5168",
        "colab": {
          "base_uri": "https://localhost:8080/",
          "height": 118
        }
      },
      "outputs": [
        {
          "output_type": "stream",
          "name": "stdout",
          "text": [
            " * sqlite:///jupyter_sql_tutorial.db\n",
            "Done.\n"
          ]
        },
        {
          "output_type": "execute_result",
          "data": {
            "text/plain": [
              "[(1, 'Mark', 14.08, 4, 'Mark', 25, 'Buenos Aires'),\n",
              " (2, 'LAvi', 24.9, 25, 'LAvi', 24, 'Sanremo')]"
            ],
            "text/html": [
              "<table>\n",
              "    <thead>\n",
              "        <tr>\n",
              "            <th>key</th>\n",
              "            <th>name</th>\n",
              "            <th>price</th>\n",
              "            <th>index</th>\n",
              "            <th>name_1</th>\n",
              "            <th>age</th>\n",
              "            <th>city</th>\n",
              "        </tr>\n",
              "    </thead>\n",
              "    <tbody>\n",
              "        <tr>\n",
              "            <td>1</td>\n",
              "            <td>Mark</td>\n",
              "            <td>14.08</td>\n",
              "            <td>4</td>\n",
              "            <td>Mark</td>\n",
              "            <td>25</td>\n",
              "            <td>Buenos Aires</td>\n",
              "        </tr>\n",
              "        <tr>\n",
              "            <td>2</td>\n",
              "            <td>LAvi</td>\n",
              "            <td>24.9</td>\n",
              "            <td>25</td>\n",
              "            <td>LAvi</td>\n",
              "            <td>24</td>\n",
              "            <td>Sanremo</td>\n",
              "        </tr>\n",
              "    </tbody>\n",
              "</table>"
            ]
          },
          "metadata": {},
          "execution_count": 63
        }
      ],
      "source": [
        "%%sql\n",
        "Select Distinct*\n",
        "from zarp\n",
        "INNER Join people on zarp.name = people.name"
      ]
    },
    {
      "cell_type": "markdown",
      "metadata": {
        "id": "jXB6rT_IhpgW"
      },
      "source": [
        "![image.png](https://github.com/trisha00001/file/blob/main/S22.png?raw=true))"
      ]
    },
    {
      "cell_type": "markdown",
      "source": [
        "![image.png](https://github.com/trisha00001/file/blob/main/S23.png?raw=true))"
      ],
      "metadata": {
        "id": "MFYhMz03ydKJ"
      }
    },
    {
      "cell_type": "code",
      "execution_count": 64,
      "metadata": {
        "id": "ik6iJ56yhpgV",
        "outputId": "f862e7d4-4c93-491e-e9f6-1bf725b5a02e",
        "colab": {
          "base_uri": "https://localhost:8080/",
          "height": 139
        }
      },
      "outputs": [
        {
          "output_type": "stream",
          "name": "stdout",
          "text": [
            " * sqlite:///jupyter_sql_tutorial.db\n",
            "Done.\n"
          ]
        },
        {
          "output_type": "execute_result",
          "data": {
            "text/plain": [
              "[(1, 'Mark', 14.08, 4, 'Mark', 25, 'Buenos Aires'),\n",
              " (2, 'LAvi', 24.9, 25, 'LAvi', 24, 'Sanremo'),\n",
              " (9, 'Av', 50.9, None, None, None, None)]"
            ],
            "text/html": [
              "<table>\n",
              "    <thead>\n",
              "        <tr>\n",
              "            <th>key</th>\n",
              "            <th>name</th>\n",
              "            <th>price</th>\n",
              "            <th>index</th>\n",
              "            <th>name_1</th>\n",
              "            <th>age</th>\n",
              "            <th>city</th>\n",
              "        </tr>\n",
              "    </thead>\n",
              "    <tbody>\n",
              "        <tr>\n",
              "            <td>1</td>\n",
              "            <td>Mark</td>\n",
              "            <td>14.08</td>\n",
              "            <td>4</td>\n",
              "            <td>Mark</td>\n",
              "            <td>25</td>\n",
              "            <td>Buenos Aires</td>\n",
              "        </tr>\n",
              "        <tr>\n",
              "            <td>2</td>\n",
              "            <td>LAvi</td>\n",
              "            <td>24.9</td>\n",
              "            <td>25</td>\n",
              "            <td>LAvi</td>\n",
              "            <td>24</td>\n",
              "            <td>Sanremo</td>\n",
              "        </tr>\n",
              "        <tr>\n",
              "            <td>9</td>\n",
              "            <td>Av</td>\n",
              "            <td>50.9</td>\n",
              "            <td>None</td>\n",
              "            <td>None</td>\n",
              "            <td>None</td>\n",
              "            <td>None</td>\n",
              "        </tr>\n",
              "    </tbody>\n",
              "</table>"
            ]
          },
          "metadata": {},
          "execution_count": 64
        }
      ],
      "source": [
        "%%sql\n",
        "Select Distinct*\n",
        "from zarp\n",
        "Left Join people on zarp.name = people.name"
      ]
    },
    {
      "cell_type": "markdown",
      "source": [
        "![image.png](https://github.com/trisha00001/file/blob/main/S24.png?raw=true))"
      ],
      "metadata": {
        "id": "QU17-UpIyk6A"
      }
    },
    {
      "cell_type": "markdown",
      "source": [
        "![image.png](https://github.com/trisha00001/file/blob/main/S25.png?raw=true)"
      ],
      "metadata": {
        "id": "dmE32qs0yg8p"
      }
    },
    {
      "cell_type": "code",
      "execution_count": 65,
      "metadata": {
        "id": "a9QlW0F0hpgW",
        "outputId": "6882f59e-96a1-4337-e632-eb10d2477f9e",
        "colab": {
          "base_uri": "https://localhost:8080/"
        }
      },
      "outputs": [
        {
          "output_type": "stream",
          "name": "stdout",
          "text": [
            " * sqlite:///jupyter_sql_tutorial.db\n",
            "(sqlite3.OperationalError) RIGHT and FULL OUTER JOINs are not currently supported\n",
            "[SQL: Select Distinct*\n",
            "from zarp\n",
            "Right Join people on zarp.name = people.name]\n",
            "(Background on this error at: https://sqlalche.me/e/20/e3q8)\n"
          ]
        }
      ],
      "source": [
        "%%sql\n",
        "Select Distinct*\n",
        "from zarp\n",
        "Right Join people on zarp.name = people.name"
      ]
    },
    {
      "cell_type": "code",
      "execution_count": 66,
      "metadata": {
        "id": "9i_XdA3uhpgX",
        "outputId": "c0431455-afb2-4c7a-a09f-6fcb4d71d7bb",
        "colab": {
          "base_uri": "https://localhost:8080/",
          "height": 203
        }
      },
      "outputs": [
        {
          "output_type": "stream",
          "name": "stdout",
          "text": [
            " * sqlite:///jupyter_sql_tutorial.db\n",
            "Done.\n"
          ]
        },
        {
          "output_type": "execute_result",
          "data": {
            "text/plain": [
              "[(0, 'Juan', 23, 'Miami', None, None, None),\n",
              " (1, 'Victoria', 34, 'Buenos Aires', None, None, None),\n",
              " (2, 'Mary', 43, 'Santiago', None, None, None),\n",
              " (3, 'Martin', 40, 'Buenos Aires', None, None, None),\n",
              " (4, 'Mark', 25, 'Buenos Aires', 1, 'Mark', 14.08),\n",
              " (25, 'LAvi', 24, 'Sanremo', 2, 'LAvi', 24.9)]"
            ],
            "text/html": [
              "<table>\n",
              "    <thead>\n",
              "        <tr>\n",
              "            <th>index</th>\n",
              "            <th>name</th>\n",
              "            <th>age</th>\n",
              "            <th>city</th>\n",
              "            <th>key</th>\n",
              "            <th>name_1</th>\n",
              "            <th>price</th>\n",
              "        </tr>\n",
              "    </thead>\n",
              "    <tbody>\n",
              "        <tr>\n",
              "            <td>0</td>\n",
              "            <td>Juan</td>\n",
              "            <td>23</td>\n",
              "            <td>Miami</td>\n",
              "            <td>None</td>\n",
              "            <td>None</td>\n",
              "            <td>None</td>\n",
              "        </tr>\n",
              "        <tr>\n",
              "            <td>1</td>\n",
              "            <td>Victoria</td>\n",
              "            <td>34</td>\n",
              "            <td>Buenos Aires</td>\n",
              "            <td>None</td>\n",
              "            <td>None</td>\n",
              "            <td>None</td>\n",
              "        </tr>\n",
              "        <tr>\n",
              "            <td>2</td>\n",
              "            <td>Mary</td>\n",
              "            <td>43</td>\n",
              "            <td>Santiago</td>\n",
              "            <td>None</td>\n",
              "            <td>None</td>\n",
              "            <td>None</td>\n",
              "        </tr>\n",
              "        <tr>\n",
              "            <td>3</td>\n",
              "            <td>Martin</td>\n",
              "            <td>40</td>\n",
              "            <td>Buenos Aires</td>\n",
              "            <td>None</td>\n",
              "            <td>None</td>\n",
              "            <td>None</td>\n",
              "        </tr>\n",
              "        <tr>\n",
              "            <td>4</td>\n",
              "            <td>Mark</td>\n",
              "            <td>25</td>\n",
              "            <td>Buenos Aires</td>\n",
              "            <td>1</td>\n",
              "            <td>Mark</td>\n",
              "            <td>14.08</td>\n",
              "        </tr>\n",
              "        <tr>\n",
              "            <td>25</td>\n",
              "            <td>LAvi</td>\n",
              "            <td>24</td>\n",
              "            <td>Sanremo</td>\n",
              "            <td>2</td>\n",
              "            <td>LAvi</td>\n",
              "            <td>24.9</td>\n",
              "        </tr>\n",
              "    </tbody>\n",
              "</table>"
            ]
          },
          "metadata": {},
          "execution_count": 66
        }
      ],
      "source": [
        "%%sql\n",
        "Select Distinct*\n",
        "from people\n",
        "Left Join zarp on people.name = zarp.name"
      ]
    },
    {
      "cell_type": "markdown",
      "metadata": {
        "id": "ksumbqB7hpgX"
      },
      "source": [
        "#### Соединения\n",
        "\n",
        "JOIN широко используется в нормализованных данных для того, чтобы мы могли денормализовать информацию. Аналитики, которые работают в сильных реляционных базах данных, часто имеют полдюжины соединений в своих запросах."
      ]
    },
    {
      "cell_type": "markdown",
      "metadata": {
        "id": "BOXIb6dphpgX"
      },
      "source": [
        "\n",
        "\n",
        "```SQL\n",
        "SELECT ...\n",
        "FROM orders\n",
        "INNER JOIN order_amounts a on a.order_id = orders.id\n",
        "INNER JOIN order_items i on i.order_id = orders.id\n",
        "INNER JOIN variants v on v.id = i.variant_id\n",
        "INNER JOIN products p on p.id = v.product_id\n",
        "INNER JOIN suppliers s on s.id = v.supplier_id\n",
        "INNER JOIN addresses ad on ad.addressable_type = 'Supplier' and ad.addressable_id = s.id\n",
        "...;\n",
        "```\n",
        "\n",
        "Basic Example:\n",
        "\n",
        "```SQL\n",
        "SELECT\n",
        "    t1.c1,\n",
        "    t1.c2,\n",
        "    t2.c2\n",
        "FROM t1\n",
        "INNER JOIN t2 ON t1.c1 = t2.c2;\n",
        "```\n",
        "\n",
        "***pandas***\n",
        "```python\n",
        "t1.join(t2, on='c2')\n",
        "```\n",
        "***end_pandas***\n",
        "\n",
        "\n",
        "There are several join types used, despite the above only using one: `INNER JOIN`.\n",
        "\n",
        "<img src='img/sql_join_venn.jpg' />\n",
        "\n",
        "Note that using JOIN introduces potential change in our data context: One to Many and Many to Many relationships.\n",
        "\n",
        "<img src='img/relationships.png'  style='width: 50%;'/>\n",
        "\n",
        "\n",
        "\n",
        "#####Troubleshooting JOINs\n",
        "\n",
        "Make sure that your results are as expected, so consider what the observation is (the row), and rule check other columns:\n",
        "\n",
        "* is your expected unique column unique?\n",
        "* Is there duplicate data elsewhere?\n",
        "\n",
        "A common check to see if your data is not unique is throwing a HAVING clause in your JOIN."
      ]
    },
    {
      "cell_type": "markdown",
      "source": [
        "<H1/> GROUP BY"
      ],
      "metadata": {
        "id": "07NNXJkkzKNB"
      }
    },
    {
      "cell_type": "markdown",
      "source": [
        "Предложение GROUP BY используется для определения групп, к\n",
        "которым могут применяться агрегатные функции\n",
        "(COUNT, MIN, MAX, AVG и SUM).\n",
        "\n",
        "Если Group by отсутствует, и используются агрегатные функции, то\n",
        "все столбцы с именами, упомянутыми в SELECT, должны быть\n",
        "включены в агрегатные функции, и эти функции будут применяться\n",
        "ко всему набору строк. В противном случае все столбцы\n",
        "списка SELECT, не вошедшие в агрегатные функции, должны быть\n",
        "указаны в предложении GROUP BY. В результате чего все\n",
        "выходные строки запроса разбиваются на группы, характеризуемые\n",
        "одинаковыми комбинациями значений в этих столбцах. После чего к\n",
        "каждой группе будут применены агрегатные функции.\n",
        "\n",
        "Если при наличии предложения GROUP BY, в предложении\n",
        "SELECT отсутствуют агрегатные функции, то запрос просто вернет\n",
        "по одной строке из каждой группы.."
      ],
      "metadata": {
        "id": "M5Ai-fCZy8qp"
      }
    },
    {
      "cell_type": "markdown",
      "source": [
        "![image.png](https://raw.githubusercontent.com/trisha00001/file/main/s35.png)"
      ],
      "metadata": {
        "id": "xyJVPB2VytZQ"
      }
    },
    {
      "cell_type": "code",
      "execution_count": 67,
      "metadata": {
        "id": "MF_1lN6BhpgY",
        "outputId": "a75287f2-7d1d-41c0-86e5-9ae42b07c413",
        "colab": {
          "base_uri": "https://localhost:8080/",
          "height": 203
        }
      },
      "outputs": [
        {
          "output_type": "stream",
          "name": "stdout",
          "text": [
            " * sqlite:///jupyter_sql_tutorial.db\n",
            "Done.\n"
          ]
        },
        {
          "output_type": "execute_result",
          "data": {
            "text/plain": [
              "[(0, 'Juan', 23, 'Miami'),\n",
              " (1, 'Victoria', 34, 'Buenos Aires'),\n",
              " (2, 'Mary', 43, 'Santiago'),\n",
              " (3, 'Martin', 40, 'Buenos Aires'),\n",
              " (4, 'Mark', 25, 'Buenos Aires'),\n",
              " (25, 'LAvi', 24, 'Sanremo')]"
            ],
            "text/html": [
              "<table>\n",
              "    <thead>\n",
              "        <tr>\n",
              "            <th>index</th>\n",
              "            <th>name</th>\n",
              "            <th>age</th>\n",
              "            <th>city</th>\n",
              "        </tr>\n",
              "    </thead>\n",
              "    <tbody>\n",
              "        <tr>\n",
              "            <td>0</td>\n",
              "            <td>Juan</td>\n",
              "            <td>23</td>\n",
              "            <td>Miami</td>\n",
              "        </tr>\n",
              "        <tr>\n",
              "            <td>1</td>\n",
              "            <td>Victoria</td>\n",
              "            <td>34</td>\n",
              "            <td>Buenos Aires</td>\n",
              "        </tr>\n",
              "        <tr>\n",
              "            <td>2</td>\n",
              "            <td>Mary</td>\n",
              "            <td>43</td>\n",
              "            <td>Santiago</td>\n",
              "        </tr>\n",
              "        <tr>\n",
              "            <td>3</td>\n",
              "            <td>Martin</td>\n",
              "            <td>40</td>\n",
              "            <td>Buenos Aires</td>\n",
              "        </tr>\n",
              "        <tr>\n",
              "            <td>4</td>\n",
              "            <td>Mark</td>\n",
              "            <td>25</td>\n",
              "            <td>Buenos Aires</td>\n",
              "        </tr>\n",
              "        <tr>\n",
              "            <td>25</td>\n",
              "            <td>LAvi</td>\n",
              "            <td>24</td>\n",
              "            <td>Sanremo</td>\n",
              "        </tr>\n",
              "    </tbody>\n",
              "</table>"
            ]
          },
          "metadata": {},
          "execution_count": 67
        }
      ],
      "source": [
        "%%sql\n",
        "SELECT *\n",
        "FROM people"
      ]
    },
    {
      "cell_type": "code",
      "execution_count": 68,
      "metadata": {
        "id": "k3fuXkW4hpgY",
        "outputId": "fbfdf66b-4ca3-4654-a592-d0069def99a1",
        "colab": {
          "base_uri": "https://localhost:8080/",
          "height": 161
        }
      },
      "outputs": [
        {
          "output_type": "stream",
          "name": "stdout",
          "text": [
            " * sqlite:///jupyter_sql_tutorial.db\n",
            "Done.\n"
          ]
        },
        {
          "output_type": "execute_result",
          "data": {
            "text/plain": [
              "[('Buenos Aires', 3), ('Miami', 1), ('Sanremo', 1), ('Santiago', 1)]"
            ],
            "text/html": [
              "<table>\n",
              "    <thead>\n",
              "        <tr>\n",
              "            <th>city</th>\n",
              "            <th>count(city)</th>\n",
              "        </tr>\n",
              "    </thead>\n",
              "    <tbody>\n",
              "        <tr>\n",
              "            <td>Buenos Aires</td>\n",
              "            <td>3</td>\n",
              "        </tr>\n",
              "        <tr>\n",
              "            <td>Miami</td>\n",
              "            <td>1</td>\n",
              "        </tr>\n",
              "        <tr>\n",
              "            <td>Sanremo</td>\n",
              "            <td>1</td>\n",
              "        </tr>\n",
              "        <tr>\n",
              "            <td>Santiago</td>\n",
              "            <td>1</td>\n",
              "        </tr>\n",
              "    </tbody>\n",
              "</table>"
            ]
          },
          "metadata": {},
          "execution_count": 68
        }
      ],
      "source": [
        "%%sql\n",
        "SELECT city, count(city)\n",
        "FROM people\n",
        "Group by city\n",
        "order by city"
      ]
    },
    {
      "cell_type": "code",
      "execution_count": 69,
      "metadata": {
        "id": "Es2XV5nZhpgY",
        "outputId": "f2300705-feb5-4ba1-e215-5dae65c42173",
        "colab": {
          "base_uri": "https://localhost:8080/",
          "height": 161
        }
      },
      "outputs": [
        {
          "output_type": "stream",
          "name": "stdout",
          "text": [
            " * sqlite:///jupyter_sql_tutorial.db\n",
            "Done.\n"
          ]
        },
        {
          "output_type": "execute_result",
          "data": {
            "text/plain": [
              "[('Santiago', 1), ('Sanremo', 1), ('Miami', 1), ('Buenos Aires', 3)]"
            ],
            "text/html": [
              "<table>\n",
              "    <thead>\n",
              "        <tr>\n",
              "            <th>city</th>\n",
              "            <th>count(city)</th>\n",
              "        </tr>\n",
              "    </thead>\n",
              "    <tbody>\n",
              "        <tr>\n",
              "            <td>Santiago</td>\n",
              "            <td>1</td>\n",
              "        </tr>\n",
              "        <tr>\n",
              "            <td>Sanremo</td>\n",
              "            <td>1</td>\n",
              "        </tr>\n",
              "        <tr>\n",
              "            <td>Miami</td>\n",
              "            <td>1</td>\n",
              "        </tr>\n",
              "        <tr>\n",
              "            <td>Buenos Aires</td>\n",
              "            <td>3</td>\n",
              "        </tr>\n",
              "    </tbody>\n",
              "</table>"
            ]
          },
          "metadata": {},
          "execution_count": 69
        }
      ],
      "source": [
        "%%sql\n",
        "SELECT city, count(city)\n",
        "FROM people\n",
        "Group by city\n",
        "order by city DESC"
      ]
    },
    {
      "cell_type": "markdown",
      "metadata": {
        "id": "JqUDkHsMhpgY"
      },
      "source": [
        "#### Агрегация и  GROUP BY\n",
        "В этом стиле SELECT столбцы либо группируются по ключам, либо по агрегатам."
      ]
    },
    {
      "cell_type": "markdown",
      "metadata": {
        "id": "MPv1J8iHhpgZ"
      },
      "source": [
        "\n",
        "\n",
        "```SQL\n",
        "SELECT\n",
        "    col1,\n",
        "    AVG(col2)\n",
        "FROM table\n",
        "GROUP BY col1;\n",
        "```\n",
        "\n",
        "Пример\n",
        "```SQL\n",
        "SELECT\n",
        "    poll_date,\n",
        "    AVG(obama_pct)\n",
        "FROM polls\n",
        "GROUP BY poll_date;\n",
        "```\n",
        "\n",
        "***pandas***\n",
        "```python\n",
        "polls.groupby('poll_date').obama_pct.mean()\n",
        "```\n",
        "***end_pandas***"
      ]
    },
    {
      "cell_type": "markdown",
      "metadata": {
        "id": "89v2Wa7shpgZ"
      },
      "source": [
        "Примечания:\n",
        "\n",
        "1. Вы можете группировать и агрегировать столько столбцов, сколько захотите.\n",
        "2. Поля, которые НЕ используют агрегаты, должны находиться в группе by. Некоторые базы данных SQL выдают ошибки; другие дадут вам неправильные данные.\n",
        "3. Стандартные агрегаты включают : в основном агрегации, которые могут быть быстро решены. Например, реже является функцией, так как решение сложнее в SQL.STDDEV, MIN, MAX, COUNT, SUMMEDIAN\n",
        "\n",
        "Вопросы:\n",
        "\n",
        "1. Представьте себе поле poll_state. Как бы мы нашли максимальную obama_pct и romney_pct для каждого штата?\n",
        "2. Как бы мы вернули подсчет опросов по штатам и датам?"
      ]
    },
    {
      "cell_type": "markdown",
      "metadata": {
        "id": "RrMTeHzdhpga"
      },
      "source": [
        "![image.png](https://raw.githubusercontent.com/trisha00001/file/main/s36.png)"
      ]
    },
    {
      "cell_type": "code",
      "execution_count": 70,
      "metadata": {
        "id": "Che4U1X7hpga",
        "outputId": "90375510-f1c3-4077-9b9d-1791e54ae1ca",
        "colab": {
          "base_uri": "https://localhost:8080/",
          "height": 96
        }
      },
      "outputs": [
        {
          "output_type": "stream",
          "name": "stdout",
          "text": [
            " * sqlite:///jupyter_sql_tutorial.db\n",
            "Done.\n"
          ]
        },
        {
          "output_type": "execute_result",
          "data": {
            "text/plain": [
              "[('Buenos Aires', 3)]"
            ],
            "text/html": [
              "<table>\n",
              "    <thead>\n",
              "        <tr>\n",
              "            <th>city</th>\n",
              "            <th>count(city)</th>\n",
              "        </tr>\n",
              "    </thead>\n",
              "    <tbody>\n",
              "        <tr>\n",
              "            <td>Buenos Aires</td>\n",
              "            <td>3</td>\n",
              "        </tr>\n",
              "    </tbody>\n",
              "</table>"
            ]
          },
          "metadata": {},
          "execution_count": 70
        }
      ],
      "source": [
        "%%sql\n",
        "SELECT city, count(city)\n",
        "FROM people\n",
        "Group by city\n",
        "Having count(city)>2\n",
        "order by count(city)"
      ]
    },
    {
      "cell_type": "markdown",
      "metadata": {
        "id": "Q-9DV9Mnhpgb"
      },
      "source": [
        "#### HAVING\n",
        "Whereas WHERE is used for precomputation, HAVING is a postcomputation clause, filtering the data after the database engine has done the query's work.\n",
        "\n",
        "```SQL\n",
        "SELECT\n",
        "    t1.c1,\n",
        "    t1.c2,\n",
        "    AVG(t2.c2)\n",
        "FROM t1\n",
        "INNER JOIN t2 ON t1.c1 = t2.c2\n",
        "GROUP BY t1.c1, t1.c2\n",
        "HAVING AVG(t2.c2) > 10;\n",
        "```\n",
        "\n",
        "```SQL\n",
        "SELECT\n",
        "    poll_date,\n",
        "    AVG(obama_pct)\n",
        "FROM polls\n",
        "GROUP BY poll_date\n",
        "HAVING AVG(obama_pct) > 50;\n",
        "```\n",
        "\n",
        "***pandas***\n",
        "```python\n",
        "polls_group = polls.groupby('poll_date').obama_pct.filter(lambda x: x.mean() > 50)\n",
        "```\n",
        "***end_pandas***\n",
        "\n",
        "\n",
        "Note in this context HAVING allows us to filter on the computed column `AVG(t2.c2)` after the GROUP BY has run."
      ]
    },
    {
      "cell_type": "code",
      "execution_count": 71,
      "metadata": {
        "id": "XCW6rgf4hpgb"
      },
      "outputs": [],
      "source": [
        "cnn.close()"
      ]
    },
    {
      "cell_type": "markdown",
      "source": [
        "Пример выгрузки в пандас"
      ],
      "metadata": {
        "id": "eWLnoYeB5VuT"
      }
    },
    {
      "cell_type": "code",
      "execution_count": 72,
      "metadata": {
        "id": "fu5_n84Ahpgb"
      },
      "outputs": [],
      "source": [
        "cnn = sqlite3.connect('jupyter_sql_tutorial.db')"
      ]
    },
    {
      "cell_type": "code",
      "execution_count": 73,
      "metadata": {
        "id": "fYkZL5bxhpgc"
      },
      "outputs": [],
      "source": [
        "cur = cnn.cursor()"
      ]
    },
    {
      "cell_type": "code",
      "execution_count": 74,
      "metadata": {
        "id": "LTT3INUOhpgc",
        "outputId": "ab0579e5-c33a-451d-dc27-b25998e61969",
        "colab": {
          "base_uri": "https://localhost:8080/"
        }
      },
      "outputs": [
        {
          "output_type": "execute_result",
          "data": {
            "text/plain": [
              "[(0, 'Juan', 23, 'Miami'),\n",
              " (1, 'Victoria', 34, 'Buenos Aires'),\n",
              " (2, 'Mary', 43, 'Santiago'),\n",
              " (3, 'Martin', 40, 'Buenos Aires'),\n",
              " (4, 'Mark', 25, 'Buenos Aires'),\n",
              " (25, 'LAvi', 24, 'Sanremo')]"
            ]
          },
          "metadata": {},
          "execution_count": 74
        }
      ],
      "source": [
        "cur.execute('SELECT * FROM people')\n",
        "cur.fetchall()"
      ]
    },
    {
      "cell_type": "code",
      "execution_count": 75,
      "metadata": {
        "id": "HFqt9cgFhpgc",
        "colab": {
          "base_uri": "https://localhost:8080/"
        },
        "outputId": "56dc3cfc-4b08-4a17-b2c5-70f4bd48add8"
      },
      "outputs": [
        {
          "output_type": "execute_result",
          "data": {
            "text/plain": [
              "[(0, 'Juan', 23, 'Miami'),\n",
              " (1, 'Victoria', 34, 'Buenos Aires'),\n",
              " (2, 'Mary', 43, 'Santiago'),\n",
              " (3, 'Martin', 40, 'Buenos Aires'),\n",
              " (4, 'Mark', 25, 'Buenos Aires'),\n",
              " (25, 'LAvi', 24, 'Sanremo')]"
            ]
          },
          "metadata": {},
          "execution_count": 75
        }
      ],
      "source": [
        "cur.execute('SELECT * FROM people')\n",
        "cur.fetchall()"
      ]
    },
    {
      "cell_type": "code",
      "execution_count": 76,
      "metadata": {
        "id": "NjTXYaVUhpgd"
      },
      "outputs": [],
      "source": [
        "cnn.close()"
      ]
    },
    {
      "cell_type": "code",
      "execution_count": 77,
      "metadata": {
        "id": "ypGRf7rVhpge"
      },
      "outputs": [],
      "source": [
        "cnn = sqlite3.connect('jupyter_sql_tutorial.db')"
      ]
    },
    {
      "cell_type": "code",
      "execution_count": 78,
      "metadata": {
        "id": "vq7TNlI0hpge"
      },
      "outputs": [],
      "source": [
        "df = pd.read_sql_query(\"SELECT * from people\", cnn)"
      ]
    },
    {
      "cell_type": "code",
      "execution_count": 79,
      "metadata": {
        "id": "9QRrNgq0hpge",
        "outputId": "f2b78b87-b270-4fcc-ee37-2e24c0cdab29",
        "colab": {
          "base_uri": "https://localhost:8080/",
          "height": 238
        }
      },
      "outputs": [
        {
          "output_type": "execute_result",
          "data": {
            "text/plain": [
              "   index      name  age          city\n",
              "0      0      Juan   23         Miami\n",
              "1      1  Victoria   34  Buenos Aires\n",
              "2      2      Mary   43      Santiago\n",
              "3      3    Martin   40  Buenos Aires\n",
              "4      4      Mark   25  Buenos Aires\n",
              "5     25      LAvi   24       Sanremo"
            ],
            "text/html": [
              "\n",
              "  <div id=\"df-5062e99a-1d67-4ce2-82c0-a50edf3dcb94\" class=\"colab-df-container\">\n",
              "    <div>\n",
              "<style scoped>\n",
              "    .dataframe tbody tr th:only-of-type {\n",
              "        vertical-align: middle;\n",
              "    }\n",
              "\n",
              "    .dataframe tbody tr th {\n",
              "        vertical-align: top;\n",
              "    }\n",
              "\n",
              "    .dataframe thead th {\n",
              "        text-align: right;\n",
              "    }\n",
              "</style>\n",
              "<table border=\"1\" class=\"dataframe\">\n",
              "  <thead>\n",
              "    <tr style=\"text-align: right;\">\n",
              "      <th></th>\n",
              "      <th>index</th>\n",
              "      <th>name</th>\n",
              "      <th>age</th>\n",
              "      <th>city</th>\n",
              "    </tr>\n",
              "  </thead>\n",
              "  <tbody>\n",
              "    <tr>\n",
              "      <th>0</th>\n",
              "      <td>0</td>\n",
              "      <td>Juan</td>\n",
              "      <td>23</td>\n",
              "      <td>Miami</td>\n",
              "    </tr>\n",
              "    <tr>\n",
              "      <th>1</th>\n",
              "      <td>1</td>\n",
              "      <td>Victoria</td>\n",
              "      <td>34</td>\n",
              "      <td>Buenos Aires</td>\n",
              "    </tr>\n",
              "    <tr>\n",
              "      <th>2</th>\n",
              "      <td>2</td>\n",
              "      <td>Mary</td>\n",
              "      <td>43</td>\n",
              "      <td>Santiago</td>\n",
              "    </tr>\n",
              "    <tr>\n",
              "      <th>3</th>\n",
              "      <td>3</td>\n",
              "      <td>Martin</td>\n",
              "      <td>40</td>\n",
              "      <td>Buenos Aires</td>\n",
              "    </tr>\n",
              "    <tr>\n",
              "      <th>4</th>\n",
              "      <td>4</td>\n",
              "      <td>Mark</td>\n",
              "      <td>25</td>\n",
              "      <td>Buenos Aires</td>\n",
              "    </tr>\n",
              "    <tr>\n",
              "      <th>5</th>\n",
              "      <td>25</td>\n",
              "      <td>LAvi</td>\n",
              "      <td>24</td>\n",
              "      <td>Sanremo</td>\n",
              "    </tr>\n",
              "  </tbody>\n",
              "</table>\n",
              "</div>\n",
              "    <div class=\"colab-df-buttons\">\n",
              "\n",
              "  <div class=\"colab-df-container\">\n",
              "    <button class=\"colab-df-convert\" onclick=\"convertToInteractive('df-5062e99a-1d67-4ce2-82c0-a50edf3dcb94')\"\n",
              "            title=\"Convert this dataframe to an interactive table.\"\n",
              "            style=\"display:none;\">\n",
              "\n",
              "  <svg xmlns=\"http://www.w3.org/2000/svg\" height=\"24px\" viewBox=\"0 -960 960 960\">\n",
              "    <path d=\"M120-120v-720h720v720H120Zm60-500h600v-160H180v160Zm220 220h160v-160H400v160Zm0 220h160v-160H400v160ZM180-400h160v-160H180v160Zm440 0h160v-160H620v160ZM180-180h160v-160H180v160Zm440 0h160v-160H620v160Z\"/>\n",
              "  </svg>\n",
              "    </button>\n",
              "\n",
              "  <style>\n",
              "    .colab-df-container {\n",
              "      display:flex;\n",
              "      gap: 12px;\n",
              "    }\n",
              "\n",
              "    .colab-df-convert {\n",
              "      background-color: #E8F0FE;\n",
              "      border: none;\n",
              "      border-radius: 50%;\n",
              "      cursor: pointer;\n",
              "      display: none;\n",
              "      fill: #1967D2;\n",
              "      height: 32px;\n",
              "      padding: 0 0 0 0;\n",
              "      width: 32px;\n",
              "    }\n",
              "\n",
              "    .colab-df-convert:hover {\n",
              "      background-color: #E2EBFA;\n",
              "      box-shadow: 0px 1px 2px rgba(60, 64, 67, 0.3), 0px 1px 3px 1px rgba(60, 64, 67, 0.15);\n",
              "      fill: #174EA6;\n",
              "    }\n",
              "\n",
              "    .colab-df-buttons div {\n",
              "      margin-bottom: 4px;\n",
              "    }\n",
              "\n",
              "    [theme=dark] .colab-df-convert {\n",
              "      background-color: #3B4455;\n",
              "      fill: #D2E3FC;\n",
              "    }\n",
              "\n",
              "    [theme=dark] .colab-df-convert:hover {\n",
              "      background-color: #434B5C;\n",
              "      box-shadow: 0px 1px 3px 1px rgba(0, 0, 0, 0.15);\n",
              "      filter: drop-shadow(0px 1px 2px rgba(0, 0, 0, 0.3));\n",
              "      fill: #FFFFFF;\n",
              "    }\n",
              "  </style>\n",
              "\n",
              "    <script>\n",
              "      const buttonEl =\n",
              "        document.querySelector('#df-5062e99a-1d67-4ce2-82c0-a50edf3dcb94 button.colab-df-convert');\n",
              "      buttonEl.style.display =\n",
              "        google.colab.kernel.accessAllowed ? 'block' : 'none';\n",
              "\n",
              "      async function convertToInteractive(key) {\n",
              "        const element = document.querySelector('#df-5062e99a-1d67-4ce2-82c0-a50edf3dcb94');\n",
              "        const dataTable =\n",
              "          await google.colab.kernel.invokeFunction('convertToInteractive',\n",
              "                                                    [key], {});\n",
              "        if (!dataTable) return;\n",
              "\n",
              "        const docLinkHtml = 'Like what you see? Visit the ' +\n",
              "          '<a target=\"_blank\" href=https://colab.research.google.com/notebooks/data_table.ipynb>data table notebook</a>'\n",
              "          + ' to learn more about interactive tables.';\n",
              "        element.innerHTML = '';\n",
              "        dataTable['output_type'] = 'display_data';\n",
              "        await google.colab.output.renderOutput(dataTable, element);\n",
              "        const docLink = document.createElement('div');\n",
              "        docLink.innerHTML = docLinkHtml;\n",
              "        element.appendChild(docLink);\n",
              "      }\n",
              "    </script>\n",
              "  </div>\n",
              "\n",
              "\n",
              "    <div id=\"df-256cfd97-2dd5-4a35-897c-e73d49efb45f\">\n",
              "      <button class=\"colab-df-quickchart\" onclick=\"quickchart('df-256cfd97-2dd5-4a35-897c-e73d49efb45f')\"\n",
              "                title=\"Suggest charts\"\n",
              "                style=\"display:none;\">\n",
              "\n",
              "<svg xmlns=\"http://www.w3.org/2000/svg\" height=\"24px\"viewBox=\"0 0 24 24\"\n",
              "     width=\"24px\">\n",
              "    <g>\n",
              "        <path d=\"M19 3H5c-1.1 0-2 .9-2 2v14c0 1.1.9 2 2 2h14c1.1 0 2-.9 2-2V5c0-1.1-.9-2-2-2zM9 17H7v-7h2v7zm4 0h-2V7h2v10zm4 0h-2v-4h2v4z\"/>\n",
              "    </g>\n",
              "</svg>\n",
              "      </button>\n",
              "\n",
              "<style>\n",
              "  .colab-df-quickchart {\n",
              "      --bg-color: #E8F0FE;\n",
              "      --fill-color: #1967D2;\n",
              "      --hover-bg-color: #E2EBFA;\n",
              "      --hover-fill-color: #174EA6;\n",
              "      --disabled-fill-color: #AAA;\n",
              "      --disabled-bg-color: #DDD;\n",
              "  }\n",
              "\n",
              "  [theme=dark] .colab-df-quickchart {\n",
              "      --bg-color: #3B4455;\n",
              "      --fill-color: #D2E3FC;\n",
              "      --hover-bg-color: #434B5C;\n",
              "      --hover-fill-color: #FFFFFF;\n",
              "      --disabled-bg-color: #3B4455;\n",
              "      --disabled-fill-color: #666;\n",
              "  }\n",
              "\n",
              "  .colab-df-quickchart {\n",
              "    background-color: var(--bg-color);\n",
              "    border: none;\n",
              "    border-radius: 50%;\n",
              "    cursor: pointer;\n",
              "    display: none;\n",
              "    fill: var(--fill-color);\n",
              "    height: 32px;\n",
              "    padding: 0;\n",
              "    width: 32px;\n",
              "  }\n",
              "\n",
              "  .colab-df-quickchart:hover {\n",
              "    background-color: var(--hover-bg-color);\n",
              "    box-shadow: 0 1px 2px rgba(60, 64, 67, 0.3), 0 1px 3px 1px rgba(60, 64, 67, 0.15);\n",
              "    fill: var(--button-hover-fill-color);\n",
              "  }\n",
              "\n",
              "  .colab-df-quickchart-complete:disabled,\n",
              "  .colab-df-quickchart-complete:disabled:hover {\n",
              "    background-color: var(--disabled-bg-color);\n",
              "    fill: var(--disabled-fill-color);\n",
              "    box-shadow: none;\n",
              "  }\n",
              "\n",
              "  .colab-df-spinner {\n",
              "    border: 2px solid var(--fill-color);\n",
              "    border-color: transparent;\n",
              "    border-bottom-color: var(--fill-color);\n",
              "    animation:\n",
              "      spin 1s steps(1) infinite;\n",
              "  }\n",
              "\n",
              "  @keyframes spin {\n",
              "    0% {\n",
              "      border-color: transparent;\n",
              "      border-bottom-color: var(--fill-color);\n",
              "      border-left-color: var(--fill-color);\n",
              "    }\n",
              "    20% {\n",
              "      border-color: transparent;\n",
              "      border-left-color: var(--fill-color);\n",
              "      border-top-color: var(--fill-color);\n",
              "    }\n",
              "    30% {\n",
              "      border-color: transparent;\n",
              "      border-left-color: var(--fill-color);\n",
              "      border-top-color: var(--fill-color);\n",
              "      border-right-color: var(--fill-color);\n",
              "    }\n",
              "    40% {\n",
              "      border-color: transparent;\n",
              "      border-right-color: var(--fill-color);\n",
              "      border-top-color: var(--fill-color);\n",
              "    }\n",
              "    60% {\n",
              "      border-color: transparent;\n",
              "      border-right-color: var(--fill-color);\n",
              "    }\n",
              "    80% {\n",
              "      border-color: transparent;\n",
              "      border-right-color: var(--fill-color);\n",
              "      border-bottom-color: var(--fill-color);\n",
              "    }\n",
              "    90% {\n",
              "      border-color: transparent;\n",
              "      border-bottom-color: var(--fill-color);\n",
              "    }\n",
              "  }\n",
              "</style>\n",
              "\n",
              "      <script>\n",
              "        async function quickchart(key) {\n",
              "          const quickchartButtonEl =\n",
              "            document.querySelector('#' + key + ' button');\n",
              "          quickchartButtonEl.disabled = true;  // To prevent multiple clicks.\n",
              "          quickchartButtonEl.classList.add('colab-df-spinner');\n",
              "          try {\n",
              "            const charts = await google.colab.kernel.invokeFunction(\n",
              "                'suggestCharts', [key], {});\n",
              "          } catch (error) {\n",
              "            console.error('Error during call to suggestCharts:', error);\n",
              "          }\n",
              "          quickchartButtonEl.classList.remove('colab-df-spinner');\n",
              "          quickchartButtonEl.classList.add('colab-df-quickchart-complete');\n",
              "        }\n",
              "        (() => {\n",
              "          let quickchartButtonEl =\n",
              "            document.querySelector('#df-256cfd97-2dd5-4a35-897c-e73d49efb45f button');\n",
              "          quickchartButtonEl.style.display =\n",
              "            google.colab.kernel.accessAllowed ? 'block' : 'none';\n",
              "        })();\n",
              "      </script>\n",
              "    </div>\n",
              "    </div>\n",
              "  </div>\n"
            ],
            "application/vnd.google.colaboratory.intrinsic+json": {
              "type": "dataframe",
              "variable_name": "df",
              "summary": "{\n  \"name\": \"df\",\n  \"rows\": 6,\n  \"fields\": [\n    {\n      \"column\": \"index\",\n      \"properties\": {\n        \"dtype\": \"number\",\n        \"std\": 9,\n        \"min\": 0,\n        \"max\": 25,\n        \"num_unique_values\": 6,\n        \"samples\": [\n          0,\n          1,\n          25\n        ],\n        \"semantic_type\": \"\",\n        \"description\": \"\"\n      }\n    },\n    {\n      \"column\": \"name\",\n      \"properties\": {\n        \"dtype\": \"string\",\n        \"num_unique_values\": 6,\n        \"samples\": [\n          \"Juan\",\n          \"Victoria\",\n          \"LAvi\"\n        ],\n        \"semantic_type\": \"\",\n        \"description\": \"\"\n      }\n    },\n    {\n      \"column\": \"age\",\n      \"properties\": {\n        \"dtype\": \"number\",\n        \"std\": 8,\n        \"min\": 23,\n        \"max\": 43,\n        \"num_unique_values\": 6,\n        \"samples\": [\n          23,\n          34,\n          24\n        ],\n        \"semantic_type\": \"\",\n        \"description\": \"\"\n      }\n    },\n    {\n      \"column\": \"city\",\n      \"properties\": {\n        \"dtype\": \"string\",\n        \"num_unique_values\": 4,\n        \"samples\": [\n          \"Buenos Aires\",\n          \"Sanremo\",\n          \"Miami\"\n        ],\n        \"semantic_type\": \"\",\n        \"description\": \"\"\n      }\n    }\n  ]\n}"
            }
          },
          "metadata": {},
          "execution_count": 79
        }
      ],
      "source": [
        "df"
      ]
    },
    {
      "cell_type": "code",
      "execution_count": 80,
      "metadata": {
        "id": "xc35oHWMhpge",
        "colab": {
          "base_uri": "https://localhost:8080/",
          "height": 81
        },
        "outputId": "29351cf0-b45d-4976-905f-4cd8c7320a2b"
      },
      "outputs": [
        {
          "output_type": "execute_result",
          "data": {
            "text/plain": [
              "   index  name  age      city\n",
              "2      2  Mary   43  Santiago"
            ],
            "text/html": [
              "\n",
              "  <div id=\"df-4d876d02-46ba-4f87-bf89-627cda973cd3\" class=\"colab-df-container\">\n",
              "    <div>\n",
              "<style scoped>\n",
              "    .dataframe tbody tr th:only-of-type {\n",
              "        vertical-align: middle;\n",
              "    }\n",
              "\n",
              "    .dataframe tbody tr th {\n",
              "        vertical-align: top;\n",
              "    }\n",
              "\n",
              "    .dataframe thead th {\n",
              "        text-align: right;\n",
              "    }\n",
              "</style>\n",
              "<table border=\"1\" class=\"dataframe\">\n",
              "  <thead>\n",
              "    <tr style=\"text-align: right;\">\n",
              "      <th></th>\n",
              "      <th>index</th>\n",
              "      <th>name</th>\n",
              "      <th>age</th>\n",
              "      <th>city</th>\n",
              "    </tr>\n",
              "  </thead>\n",
              "  <tbody>\n",
              "    <tr>\n",
              "      <th>2</th>\n",
              "      <td>2</td>\n",
              "      <td>Mary</td>\n",
              "      <td>43</td>\n",
              "      <td>Santiago</td>\n",
              "    </tr>\n",
              "  </tbody>\n",
              "</table>\n",
              "</div>\n",
              "    <div class=\"colab-df-buttons\">\n",
              "\n",
              "  <div class=\"colab-df-container\">\n",
              "    <button class=\"colab-df-convert\" onclick=\"convertToInteractive('df-4d876d02-46ba-4f87-bf89-627cda973cd3')\"\n",
              "            title=\"Convert this dataframe to an interactive table.\"\n",
              "            style=\"display:none;\">\n",
              "\n",
              "  <svg xmlns=\"http://www.w3.org/2000/svg\" height=\"24px\" viewBox=\"0 -960 960 960\">\n",
              "    <path d=\"M120-120v-720h720v720H120Zm60-500h600v-160H180v160Zm220 220h160v-160H400v160Zm0 220h160v-160H400v160ZM180-400h160v-160H180v160Zm440 0h160v-160H620v160ZM180-180h160v-160H180v160Zm440 0h160v-160H620v160Z\"/>\n",
              "  </svg>\n",
              "    </button>\n",
              "\n",
              "  <style>\n",
              "    .colab-df-container {\n",
              "      display:flex;\n",
              "      gap: 12px;\n",
              "    }\n",
              "\n",
              "    .colab-df-convert {\n",
              "      background-color: #E8F0FE;\n",
              "      border: none;\n",
              "      border-radius: 50%;\n",
              "      cursor: pointer;\n",
              "      display: none;\n",
              "      fill: #1967D2;\n",
              "      height: 32px;\n",
              "      padding: 0 0 0 0;\n",
              "      width: 32px;\n",
              "    }\n",
              "\n",
              "    .colab-df-convert:hover {\n",
              "      background-color: #E2EBFA;\n",
              "      box-shadow: 0px 1px 2px rgba(60, 64, 67, 0.3), 0px 1px 3px 1px rgba(60, 64, 67, 0.15);\n",
              "      fill: #174EA6;\n",
              "    }\n",
              "\n",
              "    .colab-df-buttons div {\n",
              "      margin-bottom: 4px;\n",
              "    }\n",
              "\n",
              "    [theme=dark] .colab-df-convert {\n",
              "      background-color: #3B4455;\n",
              "      fill: #D2E3FC;\n",
              "    }\n",
              "\n",
              "    [theme=dark] .colab-df-convert:hover {\n",
              "      background-color: #434B5C;\n",
              "      box-shadow: 0px 1px 3px 1px rgba(0, 0, 0, 0.15);\n",
              "      filter: drop-shadow(0px 1px 2px rgba(0, 0, 0, 0.3));\n",
              "      fill: #FFFFFF;\n",
              "    }\n",
              "  </style>\n",
              "\n",
              "    <script>\n",
              "      const buttonEl =\n",
              "        document.querySelector('#df-4d876d02-46ba-4f87-bf89-627cda973cd3 button.colab-df-convert');\n",
              "      buttonEl.style.display =\n",
              "        google.colab.kernel.accessAllowed ? 'block' : 'none';\n",
              "\n",
              "      async function convertToInteractive(key) {\n",
              "        const element = document.querySelector('#df-4d876d02-46ba-4f87-bf89-627cda973cd3');\n",
              "        const dataTable =\n",
              "          await google.colab.kernel.invokeFunction('convertToInteractive',\n",
              "                                                    [key], {});\n",
              "        if (!dataTable) return;\n",
              "\n",
              "        const docLinkHtml = 'Like what you see? Visit the ' +\n",
              "          '<a target=\"_blank\" href=https://colab.research.google.com/notebooks/data_table.ipynb>data table notebook</a>'\n",
              "          + ' to learn more about interactive tables.';\n",
              "        element.innerHTML = '';\n",
              "        dataTable['output_type'] = 'display_data';\n",
              "        await google.colab.output.renderOutput(dataTable, element);\n",
              "        const docLink = document.createElement('div');\n",
              "        docLink.innerHTML = docLinkHtml;\n",
              "        element.appendChild(docLink);\n",
              "      }\n",
              "    </script>\n",
              "  </div>\n",
              "\n",
              "    </div>\n",
              "  </div>\n"
            ],
            "application/vnd.google.colaboratory.intrinsic+json": {
              "type": "dataframe",
              "variable_name": "surveys2002",
              "summary": "{\n  \"name\": \"surveys2002\",\n  \"rows\": 1,\n  \"fields\": [\n    {\n      \"column\": \"index\",\n      \"properties\": {\n        \"dtype\": \"number\",\n        \"std\": null,\n        \"min\": 2,\n        \"max\": 2,\n        \"num_unique_values\": 1,\n        \"samples\": [\n          2\n        ],\n        \"semantic_type\": \"\",\n        \"description\": \"\"\n      }\n    },\n    {\n      \"column\": \"name\",\n      \"properties\": {\n        \"dtype\": \"string\",\n        \"num_unique_values\": 1,\n        \"samples\": [\n          \"Mary\"\n        ],\n        \"semantic_type\": \"\",\n        \"description\": \"\"\n      }\n    },\n    {\n      \"column\": \"age\",\n      \"properties\": {\n        \"dtype\": \"number\",\n        \"std\": null,\n        \"min\": 43,\n        \"max\": 43,\n        \"num_unique_values\": 1,\n        \"samples\": [\n          43\n        ],\n        \"semantic_type\": \"\",\n        \"description\": \"\"\n      }\n    },\n    {\n      \"column\": \"city\",\n      \"properties\": {\n        \"dtype\": \"string\",\n        \"num_unique_values\": 1,\n        \"samples\": [\n          \"Santiago\"\n        ],\n        \"semantic_type\": \"\",\n        \"description\": \"\"\n      }\n    }\n  ]\n}"
            }
          },
          "metadata": {},
          "execution_count": 80
        }
      ],
      "source": [
        "surveys2002 = df[df.age == 43]\n",
        "surveys2002"
      ]
    },
    {
      "cell_type": "code",
      "execution_count": 81,
      "metadata": {
        "id": "kPgNKd6khpge"
      },
      "outputs": [],
      "source": [
        "cnn.close()"
      ]
    },
    {
      "cell_type": "code",
      "execution_count": 82,
      "metadata": {
        "id": "opJ_TxDkhpge"
      },
      "outputs": [],
      "source": [
        "cnn = sqlite3.connect('jupyter_sql_tutorial.db')"
      ]
    },
    {
      "cell_type": "code",
      "execution_count": 83,
      "metadata": {
        "id": "5tmy1_20hpge",
        "outputId": "cc98e9b7-10c4-4dfe-b895-a9774218df07",
        "colab": {
          "base_uri": "https://localhost:8080/",
          "height": 118
        }
      },
      "outputs": [
        {
          "output_type": "stream",
          "name": "stdout",
          "text": [
            " * sqlite:///jupyter_sql_tutorial.db\n",
            "Done.\n"
          ]
        },
        {
          "output_type": "execute_result",
          "data": {
            "text/plain": [
              "[('people',), ('zarp',)]"
            ],
            "text/html": [
              "<table>\n",
              "    <thead>\n",
              "        <tr>\n",
              "            <th>name</th>\n",
              "        </tr>\n",
              "    </thead>\n",
              "    <tbody>\n",
              "        <tr>\n",
              "            <td>people</td>\n",
              "        </tr>\n",
              "        <tr>\n",
              "            <td>zarp</td>\n",
              "        </tr>\n",
              "    </tbody>\n",
              "</table>"
            ]
          },
          "metadata": {},
          "execution_count": 83
        }
      ],
      "source": [
        "%%sql\n",
        "SELECT name FROM sqlite_master WHERE type='table';"
      ]
    },
    {
      "cell_type": "code",
      "execution_count": 84,
      "metadata": {
        "id": "MBoXsmXMhpgf"
      },
      "outputs": [],
      "source": [
        "cnn.close()"
      ]
    }
  ],
  "metadata": {
    "kernelspec": {
      "display_name": "Python 3 (ipykernel)",
      "language": "python",
      "name": "python3"
    },
    "language_info": {
      "codemirror_mode": {
        "name": "ipython",
        "version": 3
      },
      "file_extension": ".py",
      "mimetype": "text/x-python",
      "name": "python",
      "nbconvert_exporter": "python",
      "pygments_lexer": "ipython3",
      "version": "3.9.12"
    },
    "colab": {
      "provenance": []
    }
  },
  "nbformat": 4,
  "nbformat_minor": 0
}